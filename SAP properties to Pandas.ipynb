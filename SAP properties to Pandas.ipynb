{
 "cells": [
  {
   "cell_type": "code",
   "execution_count": 1,
   "metadata": {
    "ExecuteTime": {
     "end_time": "2019-10-18T07:18:59.505413Z",
     "start_time": "2019-10-18T07:18:59.502122Z"
    }
   },
   "outputs": [
    {
     "name": "stderr",
     "output_type": "stream",
     "text": [
      "/Users/max/anaconda3/lib/python3.7/site-packages/tqdm/autonotebook.py:17: TqdmExperimentalWarning: Using `tqdm.autonotebook.tqdm` in notebook mode. Use `tqdm.tqdm` instead to force console mode (e.g. in jupyter console)\n",
      "  \" (e.g. in jupyter console)\", TqdmExperimentalWarning)\n"
     ]
    }
   ],
   "source": [
    "import pandas as pd \n",
    "import xml.etree.ElementTree as et \n",
    "import os\n",
    "import regex as re\n",
    "import json\n",
    "import os\n",
    "import glob\n",
    "from tqdm.autonotebook import tqdm"
   ]
  },
  {
   "cell_type": "code",
   "execution_count": 7,
   "metadata": {
    "ExecuteTime": {
     "end_time": "2019-10-18T07:19:05.167213Z",
     "start_time": "2019-10-18T07:19:04.981158Z"
    }
   },
   "outputs": [],
   "source": [
    "propfilelist = []\n",
    "propdeffilelist = []\n",
    "for root, dirs, files in os.walk(\"../../../Downloads/testcpi\"):\n",
    "    propfilelist = propfilelist + glob.glob(root+'/*.prop')\n",
    "    propdeffilelist = propdeffilelist + glob.glob(root+'/*.propdef')"
   ]
  },
  {
   "cell_type": "code",
   "execution_count": 8,
   "metadata": {
    "ExecuteTime": {
     "end_time": "2019-10-18T07:19:05.970285Z",
     "start_time": "2019-10-18T07:19:05.965895Z"
    }
   },
   "outputs": [
    {
     "data": {
      "text/plain": [
       "False"
      ]
     },
     "execution_count": 8,
     "metadata": {},
     "output_type": "execute_result"
    }
   ],
   "source": [
    "len(propfilelist) == len(propdeffilelist)"
   ]
  },
  {
   "cell_type": "code",
   "execution_count": 10,
   "metadata": {
    "ExecuteTime": {
     "end_time": "2019-10-18T07:19:06.358646Z",
     "start_time": "2019-10-18T07:19:06.354264Z"
    }
   },
   "outputs": [],
   "source": [
    "# propfilelist"
   ]
  },
  {
   "cell_type": "code",
   "execution_count": 11,
   "metadata": {
    "ExecuteTime": {
     "end_time": "2019-10-18T07:20:09.619189Z",
     "start_time": "2019-10-18T07:20:09.609949Z"
    }
   },
   "outputs": [
    {
     "data": {
      "text/html": [
       "<div>\n",
       "<style scoped>\n",
       "    .dataframe tbody tr th:only-of-type {\n",
       "        vertical-align: middle;\n",
       "    }\n",
       "\n",
       "    .dataframe tbody tr th {\n",
       "        vertical-align: top;\n",
       "    }\n",
       "\n",
       "    .dataframe thead th {\n",
       "        text-align: right;\n",
       "    }\n",
       "</style>\n",
       "<table border=\"1\" class=\"dataframe\">\n",
       "  <thead>\n",
       "    <tr style=\"text-align: right;\">\n",
       "      <th></th>\n",
       "      <th>package</th>\n",
       "      <th>file</th>\n",
       "      <th>filename</th>\n",
       "      <th>key</th>\n",
       "      <th>value</th>\n",
       "    </tr>\n",
       "  </thead>\n",
       "  <tbody>\n",
       "  </tbody>\n",
       "</table>\n",
       "</div>"
      ],
      "text/plain": [
       "Empty DataFrame\n",
       "Columns: [package, file, filename, key, value]\n",
       "Index: []"
      ]
     },
     "execution_count": 11,
     "metadata": {},
     "output_type": "execute_result"
    }
   ],
   "source": [
    "columns = ['package', 'file', 'filename', 'key', 'value']\n",
    "df = pd.DataFrame(columns=columns)\n",
    "df.head()"
   ]
  },
  {
   "cell_type": "code",
   "execution_count": 12,
   "metadata": {
    "ExecuteTime": {
     "end_time": "2019-10-18T07:19:07.379018Z",
     "start_time": "2019-10-18T07:19:07.367828Z"
    }
   },
   "outputs": [],
   "source": [
    "properties = {}"
   ]
  },
  {
   "cell_type": "code",
   "execution_count": 13,
   "metadata": {
    "ExecuteTime": {
     "end_time": "2019-10-18T07:29:23.826321Z",
     "start_time": "2019-10-18T07:29:23.823218Z"
    }
   },
   "outputs": [],
   "source": [
    "reversedproperties = {}\n",
    "for i in properties.keys():\n",
    "    for j in properties.get(i):\n",
    "        reversedproperties.update({j:i})"
   ]
  },
  {
   "cell_type": "code",
   "execution_count": 14,
   "metadata": {
    "ExecuteTime": {
     "end_time": "2019-10-18T07:29:27.165068Z",
     "start_time": "2019-10-18T07:29:27.158396Z"
    }
   },
   "outputs": [],
   "source": [
    "names = propfilelist\n",
    "filenamemapp = {}\n",
    "filenamemapp2 = {}\n",
    "for i in names:\n",
    "    for j in reversedproperties:\n",
    "        if j in i:\n",
    "            filenamemapp.update({i:reversedproperties.get(j)})\n",
    "            filenamemapp2.update({i:j})\n",
    "# df['package'] = df['filename'].map(filenamemapp)"
   ]
  },
  {
   "cell_type": "code",
   "execution_count": 15,
   "metadata": {
    "ExecuteTime": {
     "end_time": "2019-10-18T07:49:29.541778Z",
     "start_time": "2019-10-18T07:49:29.533674Z"
    },
    "code_folding": []
   },
   "outputs": [],
   "source": [
    "def readFile(file):\n",
    "    columns = ['package', 'file', 'filename', 'key', 'value']\n",
    "    df = pd.DataFrame(columns=columns)\n",
    "    \n",
    "    filename = filenamemapp2.get(file)\n",
    "    package = filenamemapp.get(file)\n",
    "    with open(file, \"r\") as f:\n",
    "        data = f.read()\n",
    "        data = data[len(\"#Thu Sep 05 08:40:55 UTC 2019 \"):]\n",
    "        lines = data.split(\"\\n\")\n",
    "        for l in lines:\n",
    "            s = l.split(\"=\")\n",
    "            if len(s) >= 2:\n",
    "                df = df.append({\"package\": package, \"file\": file, \"filename\": filename, \\\n",
    "                                \"key\": s[0], \"value\": s[1]},\\\n",
    "                                ignore_index=True)\n",
    "    return df\n",
    "    \n",
    "def openPropfiles(filelist):\n",
    "    dafrlist = []\n",
    "    for i in filelist:\n",
    "        dafrlist.append(readFile(i) )\n",
    "    df = dafrlist[0]\n",
    "    \n",
    "    pbar = tqdm(total=len(dafrlist), leave=False)\n",
    "    pbar.set_description(desc='Processing properties', refresh=True)\n",
    "    pbar.update(1)\n",
    "    \n",
    "    for i in range(1, len(dafrlist)):\n",
    "        df = df.append(dafrlist[i])\n",
    "        pbar.update(1)\n",
    "    pbar.close()\n",
    "    \n",
    "    df = df.reset_index()\n",
    "    return df"
   ]
  },
  {
   "cell_type": "code",
   "execution_count": 16,
   "metadata": {
    "ExecuteTime": {
     "end_time": "2019-10-18T07:49:31.467050Z",
     "start_time": "2019-10-18T07:49:29.726217Z"
    }
   },
   "outputs": [
    {
     "data": {
      "application/vnd.jupyter.widget-view+json": {
       "model_id": "",
       "version_major": 2,
       "version_minor": 0
      },
      "text/plain": [
       "HBox(children=(IntProgress(value=0, max=145), HTML(value='')))"
      ]
     },
     "metadata": {},
     "output_type": "display_data"
    },
    {
     "name": "stdout",
     "output_type": "stream",
     "text": [
      "\r"
     ]
    }
   ],
   "source": [
    "df = openPropfiles(propfilelist)"
   ]
  },
  {
   "cell_type": "code",
   "execution_count": 17,
   "metadata": {
    "ExecuteTime": {
     "end_time": "2019-10-18T07:50:18.637184Z",
     "start_time": "2019-10-18T07:50:18.630549Z"
    }
   },
   "outputs": [
    {
     "name": "stdout",
     "output_type": "stream",
     "text": [
      "<class 'pandas.core.frame.DataFrame'>\n",
      "RangeIndex: 956 entries, 0 to 955\n",
      "Data columns (total 6 columns):\n",
      "index       956 non-null int64\n",
      "package     956 non-null object\n",
      "file        956 non-null object\n",
      "filename    956 non-null object\n",
      "key         956 non-null object\n",
      "value       956 non-null object\n",
      "dtypes: int64(1), object(5)\n",
      "memory usage: 44.9+ KB\n"
     ]
    }
   ],
   "source": [
    "df.info()"
   ]
  },
  {
   "cell_type": "code",
   "execution_count": 18,
   "metadata": {
    "ExecuteTime": {
     "end_time": "2019-10-18T09:07:02.277788Z",
     "start_time": "2019-10-18T09:07:02.264120Z"
    }
   },
   "outputs": [],
   "source": [
    "def readXmlPropFile(file):\n",
    "    xtree = et.parse(file)\n",
    "    xroot = xtree.getroot()\n",
    "    return iterxml(xroot, file)\n",
    "    \n",
    "    \n",
    "def iterxml(xml, file):    \n",
    "    filename = filenamemapp2.get(file)\n",
    "    package = filenamemapp.get(file)\n",
    "    df = pd.DataFrame(columns=columns)\n",
    "    countproperty = 0\n",
    "    for elem in list(xml):\n",
    "        path = \"\"\n",
    "        firsttabs = \"\"\n",
    "        rootelem = \"\"\n",
    "        if \"}\" in elem.tag:\n",
    "            rootelem = elem.tag.split(\"}\", 1)[1]\n",
    "        else:\n",
    "            rootelem = elem.tag\n",
    "\n",
    "#         print(firsttabs + rootelem)\n",
    "#         print(firsttabs + \"  \" + str(elem.attrib))\n",
    "        rootid = elem.attrib.get(\"id\")\n",
    "        rootname = elem.attrib.get(\"name\")\n",
    "        path += \"/\"+rootelem\n",
    "        info = \"\"\n",
    "        infodict = {}\n",
    "        if rootelem == \"parameter\":\n",
    "            for prop in elem:\n",
    "                \n",
    "                if prop.tag == \"additionalMetadata\":\n",
    "                    if len(list(prop)) > 1:\n",
    "                        for adddata in prop:\n",
    "                            text += '{ \"' +adddata.tag + '\":\"' + adddata.text + '\"}'\n",
    "                    else:\n",
    "                        text = \"NoData\"\n",
    "                else:\n",
    "                    text = str(prop.text)\n",
    "                if text == \"\":\n",
    "                    text = None\n",
    "                if not prop.tag == \"key\":\n",
    "                    info += \", \"+ '\"'+prop.tag+ '\"' + ':' + '\"'+ text+ '\"'\n",
    "                else:\n",
    "                    info +=  '\"' + prop.tag+ '\"' + ':'+ '\"' + text+ '\"'\n",
    "#             print(file)\n",
    "#             print(info)\n",
    "            infodict = json.loads(\"{\" + info + \"}\")\n",
    "        elif rootelem == \"param_references\":\n",
    "            for prop in elem:\n",
    "                infodict = prop.attrib\n",
    "        infodict.update({\"package\":package,\"file\":file,\"filename\":filename})\n",
    "#         print(infodict)\n",
    "        df = df.append(infodict,ignore_index=True)\n",
    "#       df = df.append({'package':None, 'file':None, 'filename':None, 'key':None, 'name':None, 'type':None, 'isRequired':None, \\\n",
    "#                'constraint':None, 'description':None, 'additionalMetadata':None, 'attribute_category':None,\\\n",
    "#                'attribute_id':None, 'attribute_uilabel':None, 'param_key':None},\\\n",
    "#                                 ignore_index=True)\n",
    "    return df\n",
    "    \n",
    "def openPropDeffiles(filelist):\n",
    "    dafrlist = []\n",
    "    for i in filelist:\n",
    "        dafrlist.append(readXmlPropFile(i) )\n",
    "    df = dafrlist[0]\n",
    "    \n",
    "    pbar = tqdm(total=len(dafrlist), leave=False)\n",
    "    pbar.set_description(desc='Processing properties', refresh=True)\n",
    "    pbar.update(1)\n",
    "    \n",
    "    for i in range(1, len(dafrlist)):\n",
    "        df = df.append(dafrlist[i])\n",
    "        pbar.update(1)\n",
    "    pbar.close()\n",
    "    \n",
    "#     df = df.reset_index()\n",
    "    return df"
   ]
  },
  {
   "cell_type": "code",
   "execution_count": 19,
   "metadata": {
    "ExecuteTime": {
     "end_time": "2019-10-21T08:44:51.403530Z",
     "start_time": "2019-10-21T08:44:47.385595Z"
    }
   },
   "outputs": [
    {
     "data": {
      "application/vnd.jupyter.widget-view+json": {
       "model_id": "",
       "version_major": 2,
       "version_minor": 0
      },
      "text/plain": [
       "HBox(children=(IntProgress(value=0, max=146), HTML(value='')))"
      ]
     },
     "metadata": {},
     "output_type": "display_data"
    },
    {
     "name": "stderr",
     "output_type": "stream",
     "text": [
      "/Users/max/anaconda3/lib/python3.7/site-packages/pandas/core/frame.py:7138: FutureWarning: Sorting because non-concatenation axis is not aligned. A future version\n",
      "of pandas will change to not sort by default.\n",
      "\n",
      "To accept the future behavior, pass 'sort=False'.\n",
      "\n",
      "To retain the current behavior and silence the warning, pass 'sort=True'.\n",
      "\n",
      "  sort=sort,\n"
     ]
    },
    {
     "name": "stdout",
     "output_type": "stream",
     "text": [
      "\r"
     ]
    }
   ],
   "source": [
    "df = openPropDeffiles(propdeffilelist)"
   ]
  },
  {
   "cell_type": "code",
   "execution_count": 20,
   "metadata": {
    "ExecuteTime": {
     "end_time": "2019-10-21T08:44:54.434340Z",
     "start_time": "2019-10-21T08:44:54.408396Z"
    }
   },
   "outputs": [
    {
     "name": "stdout",
     "output_type": "stream",
     "text": [
      "<class 'pandas.core.frame.DataFrame'>\n",
      "Int64Index: 1079 entries, 0 to 0\n",
      "Data columns (total 15 columns):\n",
      "additionalMetadata    192 non-null object\n",
      "attribute_category    84 non-null object\n",
      "attribute_id          84 non-null object\n",
      "attribute_uilabel     84 non-null object\n",
      "constraint            935 non-null object\n",
      "description           935 non-null object\n",
      "file                  1079 non-null object\n",
      "filename              0 non-null object\n",
      "isRequired            935 non-null object\n",
      "key                   935 non-null object\n",
      "name                  935 non-null object\n",
      "package               0 non-null object\n",
      "param_key             84 non-null object\n",
      "type                  935 non-null object\n",
      "value                 0 non-null object\n",
      "dtypes: object(15)\n",
      "memory usage: 134.9+ KB\n"
     ]
    }
   ],
   "source": [
    "df.info()"
   ]
  },
  {
   "cell_type": "code",
   "execution_count": null,
   "metadata": {},
   "outputs": [],
   "source": []
  },
  {
   "cell_type": "code",
   "execution_count": 1,
   "metadata": {},
   "outputs": [],
   "source": [
    "df.head(20)"
   ]
  },
  {
   "cell_type": "code",
   "execution_count": null,
   "metadata": {},
   "outputs": [],
   "source": []
  }
 ],
 "metadata": {
  "kernelspec": {
   "display_name": "Python 3",
   "language": "python",
   "name": "python3"
  },
  "language_info": {
   "codemirror_mode": {
    "name": "ipython",
    "version": 3
   },
   "file_extension": ".py",
   "mimetype": "text/x-python",
   "name": "python",
   "nbconvert_exporter": "python",
   "pygments_lexer": "ipython3",
   "version": "3.7.3-final"
  },
  "toc": {
   "base_numbering": 1,
   "nav_menu": {},
   "number_sections": true,
   "sideBar": true,
   "skip_h1_title": false,
   "title_cell": "Table of Contents",
   "title_sidebar": "Contents",
   "toc_cell": false,
   "toc_position": {},
   "toc_section_display": true,
   "toc_window_display": false
  },
  "varInspector": {
   "cols": {
    "lenName": 16,
    "lenType": 16,
    "lenVar": 40
   },
   "kernels_config": {
    "python": {
     "delete_cmd_postfix": "",
     "delete_cmd_prefix": "del ",
     "library": "var_list.py",
     "varRefreshCmd": "print(var_dic_list())"
    },
    "r": {
     "delete_cmd_postfix": ") ",
     "delete_cmd_prefix": "rm(",
     "library": "var_list.r",
     "varRefreshCmd": "cat(var_dic_list()) "
    }
   },
   "types_to_exclude": [
    "module",
    "function",
    "builtin_function_or_method",
    "instance",
    "_Feature"
   ],
   "window_display": false
  }
 },
 "nbformat": 4,
 "nbformat_minor": 4
}