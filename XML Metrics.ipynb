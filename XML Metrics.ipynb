{
 "cells": [
  {
   "cell_type": "markdown",
   "metadata": {},
   "source": [
    "# XML Metrics\n",
    "In this subsection we develop a combined metric, which tries to capture schema complexity with respect of mapping two schemas. Although, a lot of research has been done so far, we contribute new aspects into the field of schema analysis. Note, that for each partial metric we define that 0 indicates no complexity, and 1 indicates a 100% complexity"
   ]
  },
  {
   "cell_type": "code",
   "execution_count": 1,
   "metadata": {},
   "outputs": [
    {
     "name": "stderr",
     "output_type": "stream",
     "text": [
      "/Users/max/anaconda3/lib/python3.7/site-packages/tqdm/autonotebook.py:17: TqdmExperimentalWarning:\n",
      "\n",
      "Using `tqdm.autonotebook.tqdm` in notebook mode. Use `tqdm.tqdm` instead to force console mode (e.g. in jupyter console)\n",
      "\n"
     ]
    }
   ],
   "source": [
    "import os\n",
    "import pandas as pd\n",
    "import numpy as np\n",
    "import glob\n",
    "import xml.etree.ElementTree as et \n",
    "import statistics\n",
    "import plotly.express as px\n",
    "from tqdm.autonotebook import tqdm\n",
    "import matplotlib.pyplot as plt\n",
    "%matplotlib inline"
   ]
  },
  {
   "cell_type": "code",
   "execution_count": 5,
   "metadata": {},
   "outputs": [],
   "source": [
    "wsdlfilelist = []\n",
    "xsdfilelist = []\n",
    "bpmnfilelist = []\n",
    "mmapfilelist = []\n",
    "propdeffilelist = []\n",
    "groovyfilelist = []\n",
    "# for root, dirs, files in os.walk(\"../../../Downloads/testcpi\"):\n",
    "for root, dirs, files in os.walk(\"../../../Downloads/PostNLQAS\"):\n",
    "    wsdlfilelist = wsdlfilelist + glob.glob(root+'/*.wsdl')\n",
    "    xsdfilelist = xsdfilelist + glob.glob(root+'/*.xsd')\n",
    "    bpmnfilelist = bpmnfilelist + glob.glob(root+'/*.iflw')\n",
    "    mmapfilelist = mmapfilelist + glob.glob(root+'/*.mmap')\n",
    "    propdeffilelist = propdeffilelist + glob.glob(root+'/*.propdef')\n",
    "    groovyfilelist = groovyfilelist + glob.glob(root+'/*.groovy')\n",
    "    groovyfilelist = groovyfilelist + glob.glob(root+'/*.gsh')\n"
   ]
  },
  {
   "cell_type": "code",
   "execution_count": 7,
   "metadata": {},
   "outputs": [
    {
     "name": "stdout",
     "output_type": "stream",
     "text": [
      "wsdlfilelist & 953\n",
      "xsdfilelist & 453\n",
      "bpmnfilelist & 456\n",
      "mmapfilelist & 727\n",
      "propdeffilelist &  453\n",
      "groovyfilelist & 1768\n"
     ]
    }
   ],
   "source": [
    "print(\"wsdlfilelist & {}\".format(len(wsdlfilelist)))\n",
    "print(\"xsdfilelist & {}\".format(len(xsdfilelist)))\n",
    "print(\"bpmnfilelist & {}\".format(len(bpmnfilelist)))\n",
    "print(\"mmapfilelist & {}\".format(len(mmapfilelist)))\n",
    "print(\"propdeffilelist &  {}\".format(len(propdeffilelist)))\n",
    "print(\"groovyfilelist & {}\".format(len(groovyfilelist)))"
   ]
  },
  {
   "cell_type": "code",
   "execution_count": 3,
   "metadata": {},
   "outputs": [],
   "source": [
    "# def parse_XML(xml_file): \n",
    "#     xtree = et.parse(xml_file)\n",
    "#     xroot = xtree.getroot()\n",
    "#     filedict = {\"file\":xml_file}\n",
    "#     iterxml(xroot)\n",
    "# #     return filedict\n",
    "    \n",
    "# def iterxml(xml):\n",
    "#     for elem in list(xml):\n",
    "#         rootelem = \"\"\n",
    "#         if \"}\" in elem.tag:\n",
    "#             rootelem = elem.tag.split(\"}\", 1)[1]\n",
    "#         else:\n",
    "#             rootelem = elem.tag\n",
    "#         updatefiledict(rootelem)\n",
    "# #         tagdict.update({rootelem:tagdict.get(rootelem, 0)+1})\n",
    "#         iterxml(elem)\n",
    "# #     return taglist\n",
    "\n",
    "# filedict = {}\n",
    "# def updatefiledict(j):\n",
    "#     if j in filedict.keys():\n",
    "#         count = filedict.get(j) + 1\n",
    "# #             print(\"count for: {} is {}\".format(j,count))\n",
    "#         filedict.update({j:count})\n",
    "#     else:\n",
    "#         filedict.update({j:1})"
   ]
  },
  {
   "cell_type": "code",
   "execution_count": 4,
   "metadata": {},
   "outputs": [],
   "source": [
    "# def unique(list1): \n",
    "#     x = np.array(list1) \n",
    "#     return np.unique(x)"
   ]
  },
  {
   "cell_type": "code",
   "execution_count": 5,
   "metadata": {},
   "outputs": [],
   "source": [
    "# uniquelist = []\n",
    "# pbar = tqdm(total=len(xsdfilelist), leave=False)\n",
    "# pbar.set_description(desc='Processing list', refresh=True)\n",
    "# for i in xsdfilelist:\n",
    "#     parse_XML(i)\n",
    "# #     filedict = {\"file\":i}\n",
    "# #     pbar2 = tqdm(total=len(elemlist), leave=False)\n",
    "# #     pbar2.set_description(desc='Processing elements', refresh=True)\n",
    "# #     for j in elemlist:\n",
    "        \n",
    "# #         pbar2.update(1)\n",
    "# #     uniquelist.append(filedict)\n",
    "# #     pbar2.close()\n",
    "#     pbar.update(1)\n",
    "# pbar.close()"
   ]
  },
  {
   "cell_type": "code",
   "execution_count": 6,
   "metadata": {},
   "outputs": [],
   "source": [
    "# uniquelist"
   ]
  },
  {
   "cell_type": "code",
   "execution_count": 7,
   "metadata": {},
   "outputs": [],
   "source": [
    "# elemdf = pd.DataFrame(dictdflist)"
   ]
  },
  {
   "cell_type": "code",
   "execution_count": 8,
   "metadata": {},
   "outputs": [],
   "source": [
    "# elemdf.columns"
   ]
  },
  {
   "cell_type": "code",
   "execution_count": 9,
   "metadata": {},
   "outputs": [],
   "source": [
    "# elemdf = pd.DataFrame(dictdflist)\n",
    "# df = pd.read_csv(\"../generateddata/xsd.csv\")\n",
    "# df = pd.read_csv(\"../generateddata/QASxsd.csv\")"
   ]
  },
  {
   "cell_type": "code",
   "execution_count": 10,
   "metadata": {},
   "outputs": [],
   "source": [
    "mapping_elemens = {\"element\":\"XSD Element\", \n",
    "                   \"simpleType\":\"XSD Simple Type\", \n",
    "                   \"complexType\":\"XSD Complex Type\",\n",
    "                   \"sequence\":\"XSD Sequence\",\n",
    "                   \"attribute\":\"XSD Attribute\",\n",
    "                   \"restriction\":\"XSD Restriction\",\n",
    "                   \"extension\":\"XSD Extension\", \n",
    "                   \"attributeGroup\":\"XSD Attribute Group\",\n",
    "                   \"choice\":\"XSD Choice\",\n",
    "                   \"redefine\":\"XSD Redefine\", \n",
    "#                    \"\":\"XSD Substitution Group\",\n",
    "                   \"all\":\"XSD All\", \n",
    "                   \"any\":\"XSD Any\",\n",
    "                   \"anyAttribute\":\"XSD Any Attribute\", \n",
    "                   \"group\":\"XSD Group\", \n",
    "                   \"key\":\"XSD Key\", \n",
    "                   \"keyref\":\"XSD KeyRef\", \n",
    "                   \"union\":\"XSD Union\",\n",
    "                   \"list\":\"XSD List\",\n",
    "                   \"unique\":\"XSD Unique\"\n",
    "                  }"
   ]
  },
  {
   "cell_type": "code",
   "execution_count": 1,
   "metadata": {},
   "outputs": [],
   "source": [
    "collection = []\n",
    "collection2 = []\n",
    "for i in xsdfilelist:\n",
    "    try:\n",
    "        xtree = et.parse(i)\n",
    "    except:\n",
    "        print(i)\n",
    "    docdict = {}\n",
    "    for j in mapping_elemens.keys():\n",
    "        count = 0\n",
    "        for k in xtree.iterfind('.//{http://www.w3.org/2001/XMLSchema}'+j):\n",
    "            count+=1\n",
    "\n",
    "        docdict.update({j:count})\n",
    "    sumitems = 0\n",
    "    for x in list(docdict.keys())[1:]:\n",
    "        sumitems += docdict.get(x, 0)\n",
    "    newdocdict = {}\n",
    "    for y,z in mapping_elemens.items():\n",
    "        newdocdict[z] = docdict.pop(y)\n",
    "    collection2.append({i:newdocdict})\n",
    "    newdocdict.update({\"sumitems\":sumitems})\n",
    "    newdocdict.update({\"file\":i})\n",
    "    collection.append(newdocdict)"
   ]
  },
  {
   "cell_type": "code",
   "execution_count": 6,
   "metadata": {},
   "outputs": [],
   "source": [
    "# valdict = {\"file\":[],\"T\":[],\"complexity\":[]}\n",
    "# for j in [x if x not in reallylarge else None for x in uniquelist]:#uniquelist:\n",
    "#     if not j == None:\n",
    "#         pass\n",
    "#         splitdf = df[df['file']==j]\n",
    "#         for i in range(1,10000):\n",
    "#             T = i\n",
    "#             valdict[\"file\"].append(j)\n",
    "#             valdict[\"T\"].append(T)\n",
    "#             valdict[\"complexity\"].append(docsize(splitdf.shape[0]))\n",
    "#     #         print(\"T = {} complexity: {}\".format(i, docsize(splitdf.shape[0])))\n"
   ]
  },
  {
   "cell_type": "code",
   "execution_count": 7,
   "metadata": {},
   "outputs": [],
   "source": [
    "# Tdf2 = pd.DataFrame(valdict2)\n",
    "# # Tdf2.info()\n",
    "# Tdf2[(Tdf2['T'] > 90000) & (Tdf2['complexity'] > 0.999)].shape[0]\n",
    "# # reallylarge = Tdf[(Tdf['T'] > 9000) & (Tdf['complexity'] > 0.999)]['file'].unique()\n",
    "# # print(reallylarge)"
   ]
  },
  {
   "cell_type": "code",
   "execution_count": 8,
   "metadata": {},
   "outputs": [],
   "source": [
    "# Tdf[(Tdf['T'] > 9000) & (Tdf['complexity'] > 0.9)].info()\n",
    "# reallylarge = Tdf[(Tdf['T'] > 9000) & (Tdf['complexity'] > 0.9)]['file'].unique()\n",
    "# print(reallylarge)"
   ]
  },
  {
   "cell_type": "code",
   "execution_count": 9,
   "metadata": {},
   "outputs": [],
   "source": [
    "# fig = px.density_contour(Tdf, x=\"T\", y=\"complexity\", marginal_x=\"rug\", marginal_y=\"histogram\")\n",
    "# fig.show(renderer=\"chrome\")"
   ]
  },
  {
   "cell_type": "markdown",
   "metadata": {},
   "source": [
    "## Size based\n",
    "Based on the size of a XML document we can use the following formula to calculate the complexity of the document.\n",
    "\n",
    "$${\\Xi_{size}}=1-{e^{-{\\# Tags\\over T}}}, [0;1]$$\n",
    "\n",
    "$\\#tags$ is the total number of tags. Including the opening and closing. Where $T$ is a certain emprical threshold. Which is ment to separate the easy schemas from more complex schemas. The ratio ${\\# Tags\\over T}$ is ment to reflect on how often the schema is harder to understand."
   ]
  },
  {
   "cell_type": "code",
   "execution_count": 52,
   "metadata": {},
   "outputs": [],
   "source": [
    "# df = pd.read_csv(\"../generateddata/xsd.csv\")\n",
    "# df = pd.read_csv(\"../generateddata/QASxsd.csv\")\n",
    "# df.drop(inplace=True, columns=[\"Unnamed: 0\"])"
   ]
  },
  {
   "cell_type": "code",
   "execution_count": 2,
   "metadata": {},
   "outputs": [],
   "source": [
    "# df.head()"
   ]
  },
  {
   "cell_type": "code",
   "execution_count": 12,
   "metadata": {},
   "outputs": [],
   "source": [
    "#T is a certain emprical threshold.\n",
    "def docsize(tagcount, T=3158):\n",
    "    local_complexity = (1 - np.exp(-(tagcount/T)))\n",
    "    if local_complexity > 1:\n",
    "        local_complexity = 1\n",
    "    return local_complexity"
   ]
  },
  {
   "cell_type": "code",
   "execution_count": 13,
   "metadata": {},
   "outputs": [],
   "source": [
    "def calcfilesize(file):\n",
    "    try:\n",
    "        xtree = et.parse(file)\n",
    "        xroot = xtree.getroot()\n",
    "        elementcount = 1 + calcsubxmlsize(xroot)\n",
    "        return elementcount\n",
    "    except:\n",
    "        return 0\n",
    "    \n",
    "def calcsubxmlsize(xml, elementcount=0):\n",
    "    elementcount += len(list(xml))\n",
    "    for elem in list(xml):\n",
    "        elementcount = calcsubxmlsize(elem, elementcount)\n",
    "    return elementcount"
   ]
  },
  {
   "cell_type": "code",
   "execution_count": 26,
   "metadata": {},
   "outputs": [],
   "source": [
    "docsizecomplexity = []\n",
    "for j in xsdfilelist:\n",
    "    filesize = calcfilesize(j)\n",
    "    complexity_val = docsize(filesize)\n",
    "    docsizecomplexity.append({\"file\":j,'complexity':complexity_val})"
   ]
  },
  {
   "cell_type": "code",
   "execution_count": 27,
   "metadata": {},
   "outputs": [],
   "source": [
    "# valdict = {\"file\":[],\"complexity\":[]}\n",
    "\n",
    "# docsizecomplexity = []\n",
    "# for j in df['file'].unique(): #uniquelist:\n",
    "#     splitdf = df[df['file']==j]\n",
    "#     complexity_val = docsize(splitdf.shape[0])\n",
    "#     docsizecomplexity.append({\"file\":j,'complexity':complexity_val})\n",
    "#     valdict[\"file\"].append(j)\n",
    "#     valdict[\"complexity\"].append(complexity_val) # Taking the size of the document here\n",
    "#     print(\"file = {} complexity: {}\".format(j, docsize(splitdf.shape[0])))"
   ]
  },
  {
   "cell_type": "code",
   "execution_count": 56,
   "metadata": {},
   "outputs": [],
   "source": [
    "# Tdf = pd.DataFrame(docsizecomplexity)\n",
    "# Tdf.head()"
   ]
  },
  {
   "cell_type": "code",
   "execution_count": 57,
   "metadata": {},
   "outputs": [],
   "source": [
    "# print(Tdf['complexity'].mean())\n",
    "# print(Tdf['complexity'].std())"
   ]
  },
  {
   "cell_type": "code",
   "execution_count": 58,
   "metadata": {},
   "outputs": [],
   "source": [
    "# prev = 0\n",
    "# for i in range(3157,3159,1):\n",
    "#     print(i)\n",
    "#     valdict = {\"file\":[],\"complexity\":[]}\n",
    "#     for j in df['file'].unique():#uniquelist:\n",
    "#         splitdf = df[df['file']==j]\n",
    "#         valdict[\"file\"].append(j)\n",
    "#         valdict[\"complexity\"].append(docsize(splitdf.shape[0],i))\n",
    "#     Tdf = pd.DataFrame(valdict)\n",
    "#     stdv = Tdf['complexity'].std()\n",
    "#     if prev == 0:\n",
    "#         prev = stdv\n",
    "#     print(\"mean: {}\".format(Tdf['complexity'].mean()) )\n",
    "#     print(\"std: {} diff: {}\".format(stdv, stdv-prev))\n",
    "#     prev = stdv"
   ]
  },
  {
   "cell_type": "code",
   "execution_count": 32,
   "metadata": {},
   "outputs": [],
   "source": [
    "# fig = px.scatter_matrix(Tdf)\n",
    "# fig.show(renderer=\"chrome\")"
   ]
  },
  {
   "cell_type": "markdown",
   "metadata": {
    "toc-hr-collapsed": true
   },
   "source": [
    "\n",
    "## Context based\n",
    "When taking context into account, the XSD elements include several standards. These standards do not contribute to the overal complexity of the XSD or other XML type formats. Therefore, we assign a zero weight to these standards. Empirical evidence for this is provided by Schmitz et al.\n",
    "\n",
    "The formula for the metric described may be described as follows:\n",
    "\n",
    "$${\\Xi_{concept}}={{\\sum_{i=1}^{k}}{w_{i}}f(k)\\over N}, [0;1]$$\n"
   ]
  },
  {
   "cell_type": "code",
   "execution_count": 14,
   "metadata": {},
   "outputs": [],
   "source": [
    "def concept(k, N,y):\n",
    "    sumval = np.array([ (getweightwi(i) * y.get(i)) for i in \\\n",
    "                       list(filter(lambda x: x!=\"sumitems\" and x!=\"file\", k))]).sum()\n",
    "    context = sumval/N\n",
    "    if math.isnan(context):\n",
    "        context = 0\n",
    "    return context"
   ]
  },
  {
   "cell_type": "markdown",
   "metadata": {},
   "source": [
    "| Concept $k$\t| Weight $w_i$\t| Weight $m_i$ | \n",
    "|---\t|---\t|---\t|\n",
    "| XSD Element | 0 | 1 |\n",
    "| XSD Simple Type | 0 | 1 |\n",
    "| XSD Complex Type | 0 | 1 |\n",
    "| XSD Sequence | 0 | 1 |\n",
    "| XSD Attribute | 0 | 1 |\n",
    "| XSD Restriction | 0.5 | 1 |\n",
    "| XSD Extension | 0.5 | 0.5 |\n",
    "| XSD Attribute Group | 0.5 | 0.5 |\n",
    "| XSD Choice | 0.5 | 0.5 |\n",
    "| XSD Redefine | 0.5 | 0.5 |\n",
    "| XSD Substitution Group | 0.5 | 0.5 |\n",
    "| XSD All | 0.5 | 0.5 |\n",
    "| XSD Any | 1 | 0.5 |\n",
    "| XSD Any Attribute | 1 | 0 |\n",
    "| XSD Group | 1 | 0 |\n",
    "| XSD Key | 1 | 0 |\n",
    "| XSD KeyRef | 1 | 0 |\n",
    "| XSD Union | 1 | 0 |\n",
    "| XSD List | 1 | 0 |\n",
    "| XSD Unique | 1 | 0 |\n",
    "Table I: Weight Assignment Table\n",
    "\n",
    "and \n",
    "\n",
    "$$\n",
    "f(k) = \\left\\{\\matrix{{k = 1} & {\\vert{n_{1}}} \\cr {k = 2} & {\\vert {n_{2}}}\\cr {k = 3} & {\\vert {n_{3}}}\\cr \\ldots & {}\\cr {k = m} & {\\vert {n_{m}}}} \\right\\}\n",
    "$$\n",
    "\n",
    "Where $N$ is the total number of XML Schema objects, $n$ is the number of elements in a specific category. i.e., of a specific concept $k,m$ is the number of different concepts, wi is the weight measure of one category and $f_k$ is a function determining the number of elements within a category."
   ]
  },
  {
   "cell_type": "code",
   "execution_count": 15,
   "metadata": {},
   "outputs": [],
   "source": [
    "# $2_$3 = \"$1\"\\n$2_$3_wi = $4\\n$2_$3_mi = $5\\n\n",
    "\n",
    "concept_k = [\"XSD Element\", \"XSD Simple Type\", \"XSD Complex Type\", \"XSD Sequence\", \\\n",
    " \"XSD Attribute\", \"XSD Restriction\", \"XSD Extension\", \"XSD Attribute Group\", \\\n",
    " \"XSD Choice\", \"XSD Redefine\", \"XSD Substitution Group\", \"XSD All\", \"XSD Any\", \\\n",
    " \"XSD Any Attribute\", \"XSD Group\", \"XSD Key\", \"XSD KeyRef\", \"XSD Union\", \"XSD List\", \"XSD Unique\"]\n",
    "\n",
    "weight_wi = [0, 0, 0, 0, 0, 0.5, 0.5, 0.5, 0.5, 0.5, 0.5, 0.5, 1, 1, 1, 1, 1, 1, 1, 1]\n",
    "weight_mi = [1, 1, 1, 1, 1, 1, 0.5, 0.5, 0.5, 0.5, 0.5, 0.5, 0.5, 0, 0, 0, 0, 0, 0, 0]\n",
    "\n",
    "def getweightwi(k):\n",
    "    return weight_wi[concept_k.index(k)]\n",
    "\n",
    "def getmapval(k):\n",
    "    return mapping_elemens.get(k,\"\")\n"
   ]
  },
  {
   "cell_type": "code",
   "execution_count": 8,
   "metadata": {},
   "outputs": [
    {
     "name": "stderr",
     "output_type": "stream",
     "text": [
      "/Users/max/anaconda3/lib/python3.7/site-packages/ipykernel_launcher.py:4: RuntimeWarning:\n",
      "\n",
      "invalid value encountered in double_scalars\n",
      "\n"
     ]
    }
   ],
   "source": [
    "conceptcomplexity = []\n",
    "for i in collection2:\n",
    "    for x,y in i.items():\n",
    "        k = y.keys()\n",
    "\n",
    "        N = y.get(\"sumitems\",0)\n",
    "        conceptcomplexity.append({'file':y.get(\"file\",\"None\"),'complexity':concept(list(k),N,y)})\n",
    "#         print(\"{} : {}\".format(y.get(\"file\",\"None\"), concept(list(k),N,y)))"
   ]
  },
  {
   "cell_type": "code",
   "execution_count": 16,
   "metadata": {},
   "outputs": [],
   "source": [
    "def concept(k, N,y):\n",
    "    sumval = np.array([ (getweightwi(i) * y.get(i)) for i in \\\n",
    "                       list(k)]).sum()\n",
    "    complexity_val = sumval/N\n",
    "    if complexity_val > 1:\n",
    "        complexity_val = 1\n",
    "    return complexity_val"
   ]
  },
  {
   "cell_type": "code",
   "execution_count": 17,
   "metadata": {},
   "outputs": [],
   "source": [
    "def getCounts(file):\n",
    "    xtree = et.parse(file)\n",
    "    docdict = {}\n",
    "    for j in mapping_elemens.keys():\n",
    "        count = 0\n",
    "        for k in xtree.iterfind('.//{http://www.w3.org/2001/XMLSchema}'+j):\n",
    "            count+=1\n",
    "\n",
    "        docdict.update({j:count})\n",
    "    sumitems = 0\n",
    "    for x in list(docdict.keys())[1:]:\n",
    "        sumitems += docdict.get(x, 0)\n",
    "    newdocdict = {}\n",
    "    for y,z in mapping_elemens.items():\n",
    "        newdocdict[z] = docdict.pop(y)\n",
    "    return newdocdict, sumitems"
   ]
  },
  {
   "cell_type": "code",
   "execution_count": 39,
   "metadata": {},
   "outputs": [
    {
     "ename": "ParseError",
     "evalue": "no element found: line 1, column 2 (<string>)",
     "output_type": "error",
     "traceback": [
      "Traceback \u001b[0;36m(most recent call last)\u001b[0m:\n",
      "  File \u001b[1;32m\"/Users/max/anaconda3/lib/python3.7/site-packages/IPython/core/interactiveshell.py\"\u001b[0m, line \u001b[1;32m3326\u001b[0m, in \u001b[1;35mrun_code\u001b[0m\n    exec(code_obj, self.user_global_ns, self.user_ns)\n",
      "  File \u001b[1;32m\"<ipython-input-39-9bdfa5ea2306>\"\u001b[0m, line \u001b[1;32m2\u001b[0m, in \u001b[1;35m<module>\u001b[0m\n    localvaluedict, count = getCounts(file)\n",
      "  File \u001b[1;32m\"<ipython-input-35-a6202d901975>\"\u001b[0m, line \u001b[1;32m2\u001b[0m, in \u001b[1;35mgetCounts\u001b[0m\n    xtree = et.parse(file)\n",
      "  File \u001b[1;32m\"/Users/max/anaconda3/lib/python3.7/xml/etree/ElementTree.py\"\u001b[0m, line \u001b[1;32m1197\u001b[0m, in \u001b[1;35mparse\u001b[0m\n    tree.parse(source, parser)\n",
      "\u001b[0;36m  File \u001b[0;32m\"/Users/max/anaconda3/lib/python3.7/xml/etree/ElementTree.py\"\u001b[0;36m, line \u001b[0;32m598\u001b[0;36m, in \u001b[0;35mparse\u001b[0;36m\u001b[0m\n\u001b[0;31m    self._root = parser._parse_whole(source)\u001b[0m\n",
      "\u001b[0;36m  File \u001b[0;32m\"<string>\"\u001b[0;36m, line \u001b[0;32munknown\u001b[0m\n\u001b[0;31mParseError\u001b[0m\u001b[0;31m:\u001b[0m no element found: line 1, column 2\n"
     ]
    }
   ],
   "source": [
    "for file in xsdfilelist:\n",
    "    localvaluedict, count = getCounts(file)\n",
    "    concept(list(localvaluedict.keys()),count,localvaluedict)"
   ]
  },
  {
   "cell_type": "code",
   "execution_count": 24,
   "metadata": {},
   "outputs": [
    {
     "data": {
      "text/html": [
       "<div>\n",
       "<style scoped>\n",
       "    .dataframe tbody tr th:only-of-type {\n",
       "        vertical-align: middle;\n",
       "    }\n",
       "\n",
       "    .dataframe tbody tr th {\n",
       "        vertical-align: top;\n",
       "    }\n",
       "\n",
       "    .dataframe thead th {\n",
       "        text-align: right;\n",
       "    }\n",
       "</style>\n",
       "<table border=\"1\" class=\"dataframe\">\n",
       "  <thead>\n",
       "    <tr style=\"text-align: right;\">\n",
       "      <th></th>\n",
       "      <th>file</th>\n",
       "      <th>complexity</th>\n",
       "    </tr>\n",
       "  </thead>\n",
       "  <tbody>\n",
       "    <tr>\n",
       "      <th>0</th>\n",
       "      <td>../../../Downloads/testcpi/Opdracht_4/src/main...</td>\n",
       "      <td>0.0</td>\n",
       "    </tr>\n",
       "    <tr>\n",
       "      <th>1</th>\n",
       "      <td>../../../Downloads/testcpi/Opdracht_4/src/main...</td>\n",
       "      <td>0.0</td>\n",
       "    </tr>\n",
       "    <tr>\n",
       "      <th>2</th>\n",
       "      <td>../../../Downloads/testcpi/CPI_Basis_oefening_...</td>\n",
       "      <td>0.0</td>\n",
       "    </tr>\n",
       "    <tr>\n",
       "      <th>3</th>\n",
       "      <td>../../../Downloads/testcpi/CPI_Basis_oefening_...</td>\n",
       "      <td>0.0</td>\n",
       "    </tr>\n",
       "    <tr>\n",
       "      <th>4</th>\n",
       "      <td>../../../Downloads/testcpi/CPI_Basis_oefening_...</td>\n",
       "      <td>0.0</td>\n",
       "    </tr>\n",
       "  </tbody>\n",
       "</table>\n",
       "</div>"
      ],
      "text/plain": [
       "                                                file  complexity\n",
       "0  ../../../Downloads/testcpi/Opdracht_4/src/main...         0.0\n",
       "1  ../../../Downloads/testcpi/Opdracht_4/src/main...         0.0\n",
       "2  ../../../Downloads/testcpi/CPI_Basis_oefening_...         0.0\n",
       "3  ../../../Downloads/testcpi/CPI_Basis_oefening_...         0.0\n",
       "4  ../../../Downloads/testcpi/CPI_Basis_oefening_...         0.0"
      ]
     },
     "execution_count": 24,
     "metadata": {},
     "output_type": "execute_result"
    }
   ],
   "source": [
    "# conceptcomplexity\n",
    "conceptcomplexitydf = pd.DataFrame(conceptcomplexity)\n",
    "conceptcomplexitydf.head()"
   ]
  },
  {
   "cell_type": "markdown",
   "metadata": {},
   "source": [
    "## Name-based \n",
    "Typically, names of elements and attributes are not based on some well known ontology, which defines their semantic unambiguously. Also, names are often constructed from separate terms resulting in compound names with ambiguous meaning. For querying the meaning of a certain name one may use WordNet or some other lexical resource. However, names like Orderable Unit Factor Rate Type or Inhalation Toxicity Zone Code from the UBL schemas will most likely not be resolved. And if they are, several meanings for that term may exist. Another way to incorporate complexity into schemas is the use of acronyms, which are often only valid within a certain domain, and thus also have multiple meanings in practice. Acronyms in case of domain cross-communication may not be interpreted properly. As names are crucial in the understanding of XML Schemas, we propose a metric that takes the problems described above into consideration.\n",
    "$${\\Xi_{name}}=(\\# LN+\\# WN+\\# Acr\\ast 0.05){1\\over N}{1\\over 3}, [0;1]$$\n",
    "\n",
    "with #LN the number of long names, #WN as the number of unanswered Word Net queries and #Acr as the number of acronyms. The number of long terms may be computed from all elements and attributes N as well as each name Na, with σ denoting the standard deviation, as follows:\n",
    "$$\\# LN = \\sum\\limits_{i = 1}^{N} f(N{a_{i}})$$\n",
    "$$f(Na) = \\left\\{\\matrix{Na\\cdot length > 2\\sigma & \\vert 1 \\cr else & \\vert 0} \\right\\}$$\n",
    "We compute the number of acronyms by counting every sequence of at least two capital letters within an element, attribute or type name. As this may only be an indicator we multiply this result with an error rate of 0.05."
   ]
  },
  {
   "cell_type": "code",
   "execution_count": 18,
   "metadata": {},
   "outputs": [],
   "source": [
    "from nltk.corpus import wordnet as wn"
   ]
  },
  {
   "cell_type": "code",
   "execution_count": 64,
   "metadata": {},
   "outputs": [],
   "source": [
    "# namedict = {\"file\":[],\"name\":[],\"acr\":[], \"len\":[]}\n",
    "# for j in df['file'].unique(): #uniquelist:\n",
    "#     splitdf = df[df['file']==j]\n",
    "#     for i in splitdf['name'].unique():\n",
    "#         namedict[\"file\"].append(j)\n",
    "#         namedict[\"name\"].append(i)\n",
    "#         namedict[\"acr\"].append(len(wn.synsets(str(i))))\n",
    "#         namedict[\"len\"].append(len(str(i)))\n",
    "# namedf = pd.DataFrame(namedict)"
   ]
  },
  {
   "cell_type": "code",
   "execution_count": 19,
   "metadata": {},
   "outputs": [],
   "source": [
    "def buildnamedf(file):\n",
    "    namedict = {\"file\":[],\"name\":[],\"acr\":[], \"len\":[]}\n",
    "    xtree = et.parse(file)\n",
    "    for k in xtree.iterfind('.//*[@name]'):\n",
    "        i = k.attrib.get('name')\n",
    "        namedict[\"file\"].append(file)\n",
    "        namedict[\"name\"].append(i)\n",
    "        namedict[\"acr\"].append(len(wn.synsets(str(i))))\n",
    "        namedict[\"len\"].append(len(str(i)))\n",
    "    namedf = pd.DataFrame(namedict)\n",
    "    return namedf"
   ]
  },
  {
   "cell_type": "code",
   "execution_count": 20,
   "metadata": {},
   "outputs": [],
   "source": [
    "def getsplit(file):\n",
    "    splitdf = namedf[namedf['file']==file]\n",
    "    return splitdf\n",
    "\n",
    "def getN(file):\n",
    "    #old:\n",
    "#     localdf = getsplit(file)\n",
    "    # new:\n",
    "    localdf = buildnamedf(file)\n",
    "    if localdf.shape[0] >= 2:\n",
    "        N = localdf['name'].values\n",
    "#         print(df['len'].values)\n",
    "        stdev = statistics.stdev(localdf['len'].values)\n",
    "        if stdev == None:\n",
    "            print(N)\n",
    "        acr = localdf['acr'].values\n",
    "        return N, stdev, acr\n",
    "    else:\n",
    "#         print(localdf)\n",
    "        return None,None,None"
   ]
  },
  {
   "cell_type": "code",
   "execution_count": 21,
   "metadata": {},
   "outputs": [],
   "source": [
    "# statistics.stdev(namedict.get(\"len\"))"
   ]
  },
  {
   "cell_type": "code",
   "execution_count": 22,
   "metadata": {},
   "outputs": [],
   "source": [
    "def docname(N,acr,stdev):\n",
    "    try:\n",
    "        ln = LN(N,stdev)\n",
    "        wn = WN(acr)\n",
    "        acr = Acr(N)\n",
    "        final = ((ln+wn+acr)*0.05)*(1/len(N))*(1/3)\n",
    "        if final > 1:\n",
    "            final = 1\n",
    "#         print(\"N: {}\\nacr: {}\\nstdev: {}\\nLN: {}\\nWN: {}\\nACR: {}\\nFinal: {}\\n\".format(N,acr,stdev,ln,wn,acr, final))\n",
    "        return final\n",
    "    except:\n",
    "        return None\n",
    "\n",
    "def WN(acr):\n",
    "    WN=0\n",
    "    try:\n",
    "        for i in acr:\n",
    "            if i == 0:\n",
    "                WN+=1\n",
    "        return WN\n",
    "    except:\n",
    "        if acr == None:\n",
    "            return WN\n",
    "    \n",
    "\n",
    "def Acr(acr):\n",
    "    hashtagAcr = 0\n",
    "    try:\n",
    "        for i in range(0,len(acr)):\n",
    "            hashtagAcr+= i\n",
    "        return hashtagAcr\n",
    "    except:\n",
    "        if acr == None:\n",
    "            return hashtagAcr\n",
    "\n",
    "def LN(N, stdev):\n",
    "    hashtagLN = 0\n",
    "    try:\n",
    "        for i in range(0,len(N)):\n",
    "            hashtagLN += fna(N[i], stdev)\n",
    "        return hashtagLN\n",
    "    except:\n",
    "        if N == None:\n",
    "            return hashtagLN\n",
    "    \n",
    "\n",
    "#NAMEDICT_STDEV = statistics.stdev(namedict.get(\"len\"))\n",
    "def fna(na, stdev):\n",
    "    if len(str(na))>(2*stdev):\n",
    "        return 1\n",
    "    else:\n",
    "        return 0"
   ]
  },
  {
   "cell_type": "code",
   "execution_count": 271,
   "metadata": {},
   "outputs": [],
   "source": [
    "# doccomplexdict = {'file':[],\"complexity\":[]}\n",
    "doccomplexdict = []\n",
    "for j in df['file'].unique():\n",
    "    N,stdev, acr = getN(j)\n",
    "    if not stdev == None:\n",
    "        pass\n",
    "#     doccomplexdict['file'].append(j)\n",
    "#     print(j)\n",
    "    complexity = docname(N,acr,stdev)\n",
    "#     doccomplexdict['complexity'].append(complexity)\n",
    "    doccomplexdict.append({'file':j, 'complexity': complexity})"
   ]
  },
  {
   "cell_type": "code",
   "execution_count": 32,
   "metadata": {},
   "outputs": [],
   "source": [
    "complexnamedf = pd.DataFrame(doccomplexdict)"
   ]
  },
  {
   "cell_type": "code",
   "execution_count": 33,
   "metadata": {},
   "outputs": [],
   "source": [
    "complexnamedf['complexity'] = complexnamedf['complexity'].apply(lambda x: x if x <=1 else 1)"
   ]
  },
  {
   "cell_type": "code",
   "execution_count": 34,
   "metadata": {},
   "outputs": [
    {
     "data": {
      "text/html": [
       "<div>\n",
       "<style scoped>\n",
       "    .dataframe tbody tr th:only-of-type {\n",
       "        vertical-align: middle;\n",
       "    }\n",
       "\n",
       "    .dataframe tbody tr th {\n",
       "        vertical-align: top;\n",
       "    }\n",
       "\n",
       "    .dataframe thead th {\n",
       "        text-align: right;\n",
       "    }\n",
       "</style>\n",
       "<table border=\"1\" class=\"dataframe\">\n",
       "  <thead>\n",
       "    <tr style=\"text-align: right;\">\n",
       "      <th></th>\n",
       "      <th>file</th>\n",
       "      <th>complexity</th>\n",
       "    </tr>\n",
       "  </thead>\n",
       "  <tbody>\n",
       "    <tr>\n",
       "      <th>0</th>\n",
       "      <td>../../../Downloads/testcpi/Opdracht_4/src/main...</td>\n",
       "      <td>0.096296</td>\n",
       "    </tr>\n",
       "    <tr>\n",
       "      <th>1</th>\n",
       "      <td>../../../Downloads/testcpi/Opdracht_4/src/main...</td>\n",
       "      <td>0.162037</td>\n",
       "    </tr>\n",
       "    <tr>\n",
       "      <th>2</th>\n",
       "      <td>../../../Downloads/testcpi/CPI_Basis_oefening_...</td>\n",
       "      <td>0.092593</td>\n",
       "    </tr>\n",
       "    <tr>\n",
       "      <th>3</th>\n",
       "      <td>../../../Downloads/testcpi/CPI_Basis_oefening_...</td>\n",
       "      <td>0.085417</td>\n",
       "    </tr>\n",
       "    <tr>\n",
       "      <th>4</th>\n",
       "      <td>../../../Downloads/testcpi/CPI_Basis_oefening_...</td>\n",
       "      <td>0.162037</td>\n",
       "    </tr>\n",
       "  </tbody>\n",
       "</table>\n",
       "</div>"
      ],
      "text/plain": [
       "                                                file  complexity\n",
       "0  ../../../Downloads/testcpi/Opdracht_4/src/main...    0.096296\n",
       "1  ../../../Downloads/testcpi/Opdracht_4/src/main...    0.162037\n",
       "2  ../../../Downloads/testcpi/CPI_Basis_oefening_...    0.092593\n",
       "3  ../../../Downloads/testcpi/CPI_Basis_oefening_...    0.085417\n",
       "4  ../../../Downloads/testcpi/CPI_Basis_oefening_...    0.162037"
      ]
     },
     "execution_count": 34,
     "metadata": {},
     "output_type": "execute_result"
    }
   ],
   "source": [
    "complexnamedf.head()"
   ]
  },
  {
   "cell_type": "code",
   "execution_count": 69,
   "metadata": {},
   "outputs": [],
   "source": [
    "# fig = px.scatter(complexnamedf, x=\"complexity\", y=\"file\", marginal_x=\"histogram\")\n",
    "# fig.show(renderer=\"chrome\")"
   ]
  },
  {
   "cell_type": "markdown",
   "metadata": {},
   "source": [
    "## Combined\n",
    "Combined. Adding up each of the formulas above and treating their contribution to complexity equally we derive a general complexity measure for XML Schemas:\n",
    "\n",
    "$$\\Xi=+{1\\over 3}{\\Xi_{size}}+{1\\over 3}{\\Xi_{concept}}+{1\\over 3}{\\Xi_{name}}$$\n",
    "\n",
    "This formula yields a complexity measure <1, where 0 means nearly no complexity and numbers close to 1 indicate high complexity."
   ]
  },
  {
   "cell_type": "code",
   "execution_count": 23,
   "metadata": {},
   "outputs": [],
   "source": [
    "def complexity(file):\n",
    "    # size\n",
    "#     splitdf = df[df['file']==file]\n",
    "#     size_complexity = docsize(splitdf.shape[0])\n",
    "    \n",
    "    filesize = calcfilesize(file)\n",
    "    size_complexity = docsize(filesize)\n",
    "    size_val = (1/3) * size_complexity\n",
    "    \n",
    "    #concept\n",
    "    localvaluedict, count = getCounts(file)\n",
    "    concept_complexity = concept(list(localvaluedict.keys()),count,localvaluedict)\n",
    "    concept_val = (1/3) * concept_complexity\n",
    "    \n",
    "    #name\n",
    "    N,stdev, acr = getN(file)\n",
    "    name_complexity = 0\n",
    "    try:\n",
    "        if not stdev == None:\n",
    "            name_complexity = docname(N,acr,stdev)\n",
    "        else:\n",
    "            name_complexity = 0\n",
    "            raise ValueError\n",
    "    except ValueError:\n",
    "        pass\n",
    "#         print(N, stdev, acr)\n",
    "#         print(\"stdev None error\")\n",
    "    \n",
    "    name_val = (1/3) * name_complexity\n",
    "#     size = (1/3)*Tdf[Tdf['file']==file]['complexity'].values[0]\n",
    "#     concept = (1/3)*conceptcomplexitydf[conceptcomplexitydf['file']==file]['complexity'].values[0]\n",
    "#     name = (1/3)*complexnamedf[complexnamedf['file']==file]['complexity'].values[0]\n",
    "    combined_complexity_val = size_val+concept_val+name_val\n",
    "#     print(combined_complexity_val)\n",
    "    return {\"file\": file, \"complexity\":combined_complexity_val, \"size_complexity\": size_complexity, \n",
    "            \"concept_complexity\":concept_complexity, \"name_complexity\":name_complexity}"
   ]
  },
  {
   "cell_type": "code",
   "execution_count": 39,
   "metadata": {},
   "outputs": [
    {
     "name": "stdout",
     "output_type": "stream",
     "text": [
      "{'XSD Element': 0, 'XSD Simple Type': 0, 'XSD Complex Type': 0, 'XSD Sequence': 0, 'XSD Attribute': 0, 'XSD Restriction': 0, 'XSD Extension': 0, 'XSD Attribute Group': 0, 'XSD Choice': 0, 'XSD Redefine': 0, 'XSD All': 0, 'XSD Any': 0, 'XSD Any Attribute': 0, 'XSD Group': 0, 'XSD Key': 0, 'XSD KeyRef': 0, 'XSD Union': 0, 'XSD List': 0, 'XSD Unique': 0} 0\n",
      "nan\n"
     ]
    },
    {
     "name": "stderr",
     "output_type": "stream",
     "text": [
      "/Users/max/anaconda3/lib/python3.7/site-packages/ipykernel_launcher.py:4: RuntimeWarning:\n",
      "\n",
      "invalid value encountered in double_scalars\n",
      "\n"
     ]
    }
   ],
   "source": []
  },
  {
   "cell_type": "code",
   "execution_count": 27,
   "metadata": {},
   "outputs": [
    {
     "data": {
      "application/vnd.jupyter.widget-view+json": {
       "model_id": "",
       "version_major": 2,
       "version_minor": 0
      },
      "text/plain": [
       "HBox(children=(IntProgress(value=0, max=727), HTML(value='')))"
      ]
     },
     "metadata": {},
     "output_type": "display_data"
    },
    {
     "name": "stderr",
     "output_type": "stream",
     "text": [
      "/Users/max/anaconda3/lib/python3.7/site-packages/ipykernel_launcher.py:4: RuntimeWarning:\n",
      "\n",
      "invalid value encountered in double_scalars\n",
      "\n"
     ]
    },
    {
     "name": "stdout",
     "output_type": "stream",
     "text": [
      "\r"
     ]
    }
   ],
   "source": [
    "mmap_complexity_value_dict = []\n",
    "pbar = tqdm(total=len(mmapfilelist), leave=False)\n",
    "pbar.set_description(desc='Processing mmap', refresh=True)\n",
    "for i in mmapfilelist:\n",
    "    try:\n",
    "        complexityvalue = complexity(i)\n",
    "        mmap_complexity_value_dict.append(complexityvalue)\n",
    "    except:\n",
    "        pass\n",
    "    pbar.update(1)\n",
    "pbar.close()"
   ]
  },
  {
   "cell_type": "code",
   "execution_count": 33,
   "metadata": {},
   "outputs": [],
   "source": [
    "mmap_complexity_df = pd.DataFrame(mmap_complexity_value_dict)\n",
    "mmap_complexity_df.describe()\n",
    "\n",
    "mmap_complexity_df.to_csv(\"../generateddata/QAScomplexity-mappings-xml.csv\")"
   ]
  },
  {
   "cell_type": "code",
   "execution_count": 29,
   "metadata": {},
   "outputs": [
    {
     "data": {
      "application/vnd.jupyter.widget-view+json": {
       "model_id": "",
       "version_major": 2,
       "version_minor": 0
      },
      "text/plain": [
       "HBox(children=(IntProgress(value=0, max=453), HTML(value='')))"
      ]
     },
     "metadata": {},
     "output_type": "display_data"
    },
    {
     "name": "stderr",
     "output_type": "stream",
     "text": [
      "/Users/max/anaconda3/lib/python3.7/site-packages/ipykernel_launcher.py:4: RuntimeWarning:\n",
      "\n",
      "invalid value encountered in double_scalars\n",
      "\n"
     ]
    },
    {
     "name": "stdout",
     "output_type": "stream",
     "text": [
      "\r"
     ]
    }
   ],
   "source": [
    "complexity_value_dict = []\n",
    "pbar = tqdm(total=len(xsdfilelist), leave=False)\n",
    "pbar.set_description(desc='Processing xsds', refresh=True)\n",
    "for i in xsdfilelist:\n",
    "    try:\n",
    "        complexityvalue = complexity(i)\n",
    "        complexity_value_dict.append(complexityvalue)\n",
    "    except:\n",
    "        pass\n",
    "    pbar.update(1)\n",
    "pbar.close()\n"
   ]
  },
  {
   "cell_type": "code",
   "execution_count": 30,
   "metadata": {},
   "outputs": [],
   "source": [
    "# complexity_value_dict"
   ]
  },
  {
   "cell_type": "code",
   "execution_count": 72,
   "metadata": {},
   "outputs": [],
   "source": [
    "combinedcomplexitydf = pd.DataFrame(complexity_value_dict)"
   ]
  },
  {
   "cell_type": "code",
   "execution_count": 73,
   "metadata": {},
   "outputs": [
    {
     "data": {
      "text/html": [
       "<div>\n",
       "<style scoped>\n",
       "    .dataframe tbody tr th:only-of-type {\n",
       "        vertical-align: middle;\n",
       "    }\n",
       "\n",
       "    .dataframe tbody tr th {\n",
       "        vertical-align: top;\n",
       "    }\n",
       "\n",
       "    .dataframe thead th {\n",
       "        text-align: right;\n",
       "    }\n",
       "</style>\n",
       "<table border=\"1\" class=\"dataframe\">\n",
       "  <thead>\n",
       "    <tr style=\"text-align: right;\">\n",
       "      <th></th>\n",
       "      <th>complexity</th>\n",
       "      <th>size_complexity</th>\n",
       "      <th>concept_complexity</th>\n",
       "      <th>name_complexity</th>\n",
       "    </tr>\n",
       "  </thead>\n",
       "  <tbody>\n",
       "    <tr>\n",
       "      <th>count</th>\n",
       "      <td>446.000000</td>\n",
       "      <td>449.000000</td>\n",
       "      <td>446.000000</td>\n",
       "      <td>449.000000</td>\n",
       "    </tr>\n",
       "    <tr>\n",
       "      <th>mean</th>\n",
       "      <td>0.355645</td>\n",
       "      <td>0.644452</td>\n",
       "      <td>0.056871</td>\n",
       "      <td>0.358863</td>\n",
       "    </tr>\n",
       "    <tr>\n",
       "      <th>std</th>\n",
       "      <td>0.211887</td>\n",
       "      <td>0.352998</td>\n",
       "      <td>0.076991</td>\n",
       "      <td>0.345586</td>\n",
       "    </tr>\n",
       "    <tr>\n",
       "      <th>min</th>\n",
       "      <td>0.000000</td>\n",
       "      <td>0.000000</td>\n",
       "      <td>0.000000</td>\n",
       "      <td>0.000000</td>\n",
       "    </tr>\n",
       "    <tr>\n",
       "      <th>25%</th>\n",
       "      <td>0.186240</td>\n",
       "      <td>0.326446</td>\n",
       "      <td>0.000000</td>\n",
       "      <td>0.100000</td>\n",
       "    </tr>\n",
       "    <tr>\n",
       "      <th>50%</th>\n",
       "      <td>0.352160</td>\n",
       "      <td>0.737181</td>\n",
       "      <td>0.000000</td>\n",
       "      <td>0.185000</td>\n",
       "    </tr>\n",
       "    <tr>\n",
       "      <th>75%</th>\n",
       "      <td>0.504603</td>\n",
       "      <td>0.997131</td>\n",
       "      <td>0.125000</td>\n",
       "      <td>0.573232</td>\n",
       "    </tr>\n",
       "    <tr>\n",
       "      <th>max</th>\n",
       "      <td>0.741486</td>\n",
       "      <td>1.000000</td>\n",
       "      <td>0.272727</td>\n",
       "      <td>1.000000</td>\n",
       "    </tr>\n",
       "  </tbody>\n",
       "</table>\n",
       "</div>"
      ],
      "text/plain": [
       "       complexity  size_complexity  concept_complexity  name_complexity\n",
       "count  446.000000       449.000000          446.000000       449.000000\n",
       "mean     0.355645         0.644452            0.056871         0.358863\n",
       "std      0.211887         0.352998            0.076991         0.345586\n",
       "min      0.000000         0.000000            0.000000         0.000000\n",
       "25%      0.186240         0.326446            0.000000         0.100000\n",
       "50%      0.352160         0.737181            0.000000         0.185000\n",
       "75%      0.504603         0.997131            0.125000         0.573232\n",
       "max      0.741486         1.000000            0.272727         1.000000"
      ]
     },
     "execution_count": 73,
     "metadata": {},
     "output_type": "execute_result"
    }
   ],
   "source": [
    "combinedcomplexitydf.describe()"
   ]
  },
  {
   "cell_type": "code",
   "execution_count": null,
   "metadata": {},
   "outputs": [],
   "source": [
    "# combinedcomplexitydf['file'] = combinedcomplexitydf['file'].apply(lambda x: str(x)[len(\"../../../Downloads/testcpi/\"):])"
   ]
  },
  {
   "cell_type": "code",
   "execution_count": 74,
   "metadata": {},
   "outputs": [],
   "source": [
    "combinedcomplexitydf.to_csv(\"../generateddata/QAScomplexity-xsd.csv\")"
   ]
  },
  {
   "cell_type": "code",
   "execution_count": 75,
   "metadata": {},
   "outputs": [
    {
     "name": "stdout",
     "output_type": "stream",
     "text": [
      "<class 'pandas.core.frame.DataFrame'>\n",
      "RangeIndex: 449 entries, 0 to 448\n",
      "Data columns (total 5 columns):\n",
      "file                  449 non-null object\n",
      "complexity            446 non-null float64\n",
      "size_complexity       449 non-null float64\n",
      "concept_complexity    446 non-null float64\n",
      "name_complexity       449 non-null float64\n",
      "dtypes: float64(4), object(1)\n",
      "memory usage: 17.7+ KB\n"
     ]
    }
   ],
   "source": [
    "combinedcomplexitydf.info()"
   ]
  },
  {
   "cell_type": "code",
   "execution_count": 77,
   "metadata": {},
   "outputs": [],
   "source": [
    "fig = px.scatter(combinedcomplexitydf, x=\"complexity\", y=\"file\", marginal_x=\"histogram\")\n",
    "fig.show(renderer=\"chrome\")"
   ]
  },
  {
   "cell_type": "code",
   "execution_count": 41,
   "metadata": {},
   "outputs": [
    {
     "data": {
      "application/vnd.jupyter.widget-view+json": {
       "model_id": "",
       "version_major": 2,
       "version_minor": 0
      },
      "text/plain": [
       "HBox(children=(IntProgress(value=0, max=727), HTML(value='')))"
      ]
     },
     "metadata": {},
     "output_type": "display_data"
    },
    {
     "name": "stdout",
     "output_type": "stream",
     "text": [
      "\r"
     ]
    }
   ],
   "source": [
    "mappingcomplexity_value_dict = []\n",
    "pbar = tqdm(total=len(mmapfilelist), leave=False)\n",
    "pbar.set_description(desc='Processing mappings', refresh=True)\n",
    "for i in mmapfilelist:\n",
    "    try:\n",
    "        complexityvalue = complexity(i)\n",
    "        print(complexityvalue)\n",
    "        mappingcomplexity_value_dict.append(complexityvalue)\n",
    "    except:\n",
    "        pass\n",
    "    pbar.update(1)\n",
    "pbar.close()\n",
    "mappingcomplexitydf = pd.DataFrame(mappingcomplexity_value_dict)\n",
    "mappingcomplexitydf.to_csv(\"../generateddata/QAScomplexity-mapping.csv\")"
   ]
  },
  {
   "cell_type": "code",
   "execution_count": 42,
   "metadata": {},
   "outputs": [
    {
     "ename": "ValueError",
     "evalue": "Cannot describe a DataFrame without columns",
     "output_type": "error",
     "traceback": [
      "\u001b[0;31m---------------------------------------------------------------------------\u001b[0m",
      "\u001b[0;31mValueError\u001b[0m                                Traceback (most recent call last)",
      "\u001b[0;32m<ipython-input-42-93fac64a4a83>\u001b[0m in \u001b[0;36m<module>\u001b[0;34m\u001b[0m\n\u001b[0;32m----> 1\u001b[0;31m \u001b[0mmappingcomplexitydf\u001b[0m\u001b[0;34m.\u001b[0m\u001b[0mdescribe\u001b[0m\u001b[0;34m(\u001b[0m\u001b[0;34m)\u001b[0m\u001b[0;34m\u001b[0m\u001b[0;34m\u001b[0m\u001b[0m\n\u001b[0m",
      "\u001b[0;32m~/anaconda3/lib/python3.7/site-packages/pandas/core/generic.py\u001b[0m in \u001b[0;36mdescribe\u001b[0;34m(self, percentiles, include, exclude)\u001b[0m\n\u001b[1;32m  10176\u001b[0m         \"\"\"\n\u001b[1;32m  10177\u001b[0m         \u001b[0;32mif\u001b[0m \u001b[0mself\u001b[0m\u001b[0;34m.\u001b[0m\u001b[0mndim\u001b[0m \u001b[0;34m==\u001b[0m \u001b[0;36m2\u001b[0m \u001b[0;32mand\u001b[0m \u001b[0mself\u001b[0m\u001b[0;34m.\u001b[0m\u001b[0mcolumns\u001b[0m\u001b[0;34m.\u001b[0m\u001b[0msize\u001b[0m \u001b[0;34m==\u001b[0m \u001b[0;36m0\u001b[0m\u001b[0;34m:\u001b[0m\u001b[0;34m\u001b[0m\u001b[0;34m\u001b[0m\u001b[0m\n\u001b[0;32m> 10178\u001b[0;31m             \u001b[0;32mraise\u001b[0m \u001b[0mValueError\u001b[0m\u001b[0;34m(\u001b[0m\u001b[0;34m\"Cannot describe a DataFrame without columns\"\u001b[0m\u001b[0;34m)\u001b[0m\u001b[0;34m\u001b[0m\u001b[0;34m\u001b[0m\u001b[0m\n\u001b[0m\u001b[1;32m  10179\u001b[0m \u001b[0;34m\u001b[0m\u001b[0m\n\u001b[1;32m  10180\u001b[0m         \u001b[0;32mif\u001b[0m \u001b[0mpercentiles\u001b[0m \u001b[0;32mis\u001b[0m \u001b[0;32mnot\u001b[0m \u001b[0;32mNone\u001b[0m\u001b[0;34m:\u001b[0m\u001b[0;34m\u001b[0m\u001b[0;34m\u001b[0m\u001b[0m\n",
      "\u001b[0;31mValueError\u001b[0m: Cannot describe a DataFrame without columns"
     ]
    }
   ],
   "source": [
    "mappingcomplexitydf.describe()"
   ]
  },
  {
   "cell_type": "markdown",
   "metadata": {},
   "source": [
    "\n",
    "# Mapping complexity\n",
    "To measure complexity of a potential mapping task, we need to determine the complexity of the models, i.e., schemas and mappings, involved. Figure 2 visualizes the problem space for estimating the difficulty or even more the feasibility of a mapping task at hand. Obviously, there are two XML Schemas A and B whose complexity is given by α and β, respectively. These numbers may be obtained by applying Ξ on A and B, introduced in the previous section. More interestingly for us is to capture the mapping model's complexity, i.e., the effort of doing the mapping, by some quantitative measure ρ. This measure may not be observed directly but has to be predicted a priori. This fact is captured in Figure 2 by the dashed arrow. The mapping model itself is also influenced by the structure and concept defining Schema M, which is known and thus may be analyzed by applying our complexity measure Ξ. The intuition here is, that the more functionality a mapping language possesses, the harder it is to understand and apply for a modeler.\n",
    "\n",
    "The complexity of a mapping task strongly depends on what may be done automatically and what must be done manually. Generally, a fully-automated match of two schemas may not occur in practice. Names may simply be so different and structures may vary dramatically leading to custom mapping functions and sophisticated transformation rules. If we omit structure and concentrate on names, we may sample from all mappings to be done, and let a matching engine such as Coma++ compute similarity values. The number of all possible mappings is to be estimated from the smaller schema's element and attribute declarations, taking reuse into account. A fixed number of elements and attributes is then picked randomly from the given set of source elements (from the smaller schema) to be mapped. A name is said to be matched if similarity does not fall below a certain threshold. Therefore, we compute the mapping model's complexity ρ as follows:\n",
    "\n",
    "$$f(Match) = \\left\\{\\matrix{Match\\cdot similarity > 0.5 & \\vert1 \\cr else & \\vert 0} \\right\\}$$\n",
    "$$\\# Matches = \\sum\\limits_{i = 1}^{N} f(Matc{h_{i}})$$\n",
    "$$\\rho = {{\\# Matches} \\over N},[0;\\,1]$$\n",
    "\n",
    "where N is the total of names in the sample."
   ]
  },
  {
   "cell_type": "code",
   "execution_count": 78,
   "metadata": {},
   "outputs": [],
   "source": [
    "from Levenshtein import jaro_winkler"
   ]
  },
  {
   "cell_type": "code",
   "execution_count": 79,
   "metadata": {},
   "outputs": [],
   "source": [
    "def fmatch(match):\n",
    "    # match is a tuple (\"\",\"\")\n",
    "    matchsimularity = jaro_winkler(match[0], match[1])\n",
    "    if matchsimularity > 0.5:\n",
    "        return 1\n",
    "    else:\n",
    "        return 0\n",
    "    \n",
    "def nummatches(N):\n",
    "    nummatches = 0\n",
    "    for i in N:\n",
    "        nummatches += fmatch(i)\n",
    "    return nummatches\n",
    "\n",
    "def p(N):\n",
    "    \"\"\"\n",
    "        N is a list of element matches as tuple (\"\", \"\")\n",
    "    \"\"\"\n",
    "    return nummatches(N)/len(N)\n",
    "    "
   ]
  },
  {
   "cell_type": "markdown",
   "metadata": {},
   "source": [
    "## Combined\n",
    "Considering Ξ for the schemas A, B, and M, we may construct now an overall mapping metric given by:\n",
    "$$\\oplus={1\\over 3}\\alpha+{1\\over 3}\\beta+{1\\over 3}({\\rho+\\delta\\over 2}), [0;1]$$"
   ]
  },
  {
   "cell_type": "code",
   "execution_count": 3,
   "metadata": {},
   "outputs": [],
   "source": [
    "mappingdf = pd.read_csv(\"../generateddata/QASmappings.csv\")\n",
    "mappingdf.drop(inplace=True, columns=[\"Unnamed: 0\"])\n",
    "mappingdf[\"path\"].fillna(\"\", inplace = True)\n",
    "mappingdf[\"path2\"].fillna(\"\", inplace = True)\n",
    "mappingdf.head()"
   ]
  },
  {
   "cell_type": "code",
   "execution_count": 4,
   "metadata": {},
   "outputs": [],
   "source": [
    "mappingcombos = pd.read_csv(\"../generateddata/qasmapping_combinations.csv\")\n",
    "mappingcombos.drop(inplace=True, columns=[\"Unnamed: 0\"])\n",
    "mappingcombos.head()"
   ]
  },
  {
   "cell_type": "code",
   "execution_count": 83,
   "metadata": {},
   "outputs": [],
   "source": [
    "def getXSDFile(partial):\n",
    "    for i in xsdfilelist:\n",
    "        if partial in str(i):\n",
    "            return i\n",
    "        \n",
    "def getMappingFile(partial):\n",
    "    for i in mmapfilelist:\n",
    "        if partial in str(i):\n",
    "            return i"
   ]
  },
  {
   "cell_type": "code",
   "execution_count": 84,
   "metadata": {},
   "outputs": [],
   "source": [
    "def combinedcomplexitymapping(alpha_file, beta_file, rho_file):\n",
    "    alpha_complexity = complexity(alpha_file)['complexity']\n",
    "    beta_complexity = complexity(beta_file)['complexity']\n",
    "    rho_complexity = p(rho)\n",
    "    alpha_complexity_val = (1/3)*alpha_complexity\n",
    "    beta_complexity_val = (1/3)*beta_complexity\n",
    "    rho_complexity_val = (1/3)*rho_complexity\n",
    "    return (alpha_complexity_val + beta_complexity_val + rho_complexity_val)"
   ]
  },
  {
   "cell_type": "code",
   "execution_count": 5,
   "metadata": {},
   "outputs": [],
   "source": [
    "mappingcollectiondict = {\"file\":[],\"mapping_complexity\":[]}\n",
    "for mapping in mappingcombos['mapping'].unique():\n",
    "    sub = mappingcombos[mappingcombos['mapping']==mapping]\n",
    "    reffiles = sub['reffile'].values\n",
    "    if len(reffiles) >=2:\n",
    "        print(reffiles)\n",
    "        for i in range(1, len(reffiles)):\n",
    "            alpha = reffiles[0]\n",
    "            alpha = getXSDFile(alpha)\n",
    "            beta = reffiles[i]\n",
    "            beta = getXSDFile(beta)\n",
    "            rho_file = getMappingFile(mapping)\n",
    "            mappingdfsplit = mappingdf[mappingdf['filename']==rho_file]\n",
    "            localtuples = mappingdfsplit[mappingdfsplit['path']!=\"\"][['path','path2']].values\n",
    "            rho = []\n",
    "            for i in localtuples:\n",
    "                rho.append( (i[0], i[1]) )\n",
    "            map_complexity = combinedcomplexitymapping(alpha, beta, rho)\n",
    "            mappingcollectiondict['file'].append(mapping)\n",
    "            mappingcollectiondict['mapping_complexity'].append(map_complexity)\n",
    "#             print(complexity(rho_file))\n",
    "#             print(alpha, beta)\n",
    "mappingcomplexitydf = pd.DataFrame(mappingcollectiondict)\n",
    "mappingcomplexitydf.to_csv(\"../generateddata/qasmapping_complexity.csv\")"
   ]
  },
  {
   "cell_type": "markdown",
   "metadata": {},
   "source": [
    "## Enhancing the XML Schema Metrics\n",
    "$$f(Element) = \\left\\{\\matrix{{Element\\cdot type = Complex} & \\vert 1\\cr {else} & \\vert 0}\\right\\}$$\n",
    "\n",
    "$$\\# ComplexElements=\\sum_{i=1}^{N}f({Element_{i}})$$\n",
    "\n",
    "$${reuse} ={\\# CT\\over \\# ComplexElements}, [0;1]$$\n",
    "\n",
    "where #CT is the total number of complex types, and #ComplexElements is the number of elements typified through a complex type. As a result, the ratio reuse quantifies the reuse within a business document standard, defined using XML Schema.\n",
    "\n",
    "A low ratio indicates high usage of XML Schema reuse concepts. For instance, in an XML schema which contains one complex type definition as well as ten element declarations typified through the same complex type, the mapping effort remains low since the complex type itself only needs to be mapped once. On the other hand, a high ratio indicates low usage of XML Schema reuse concepts. For example, in an XML Schema which contains then element declarations whereas each element is typified through a different complex type, each complex type needs to be mapped separately."
   ]
  },
  {
   "cell_type": "code",
   "execution_count": null,
   "metadata": {},
   "outputs": [],
   "source": []
  },
  {
   "cell_type": "code",
   "execution_count": 90,
   "metadata": {},
   "outputs": [],
   "source": [
    "def getComplexElementCount(file):    \n",
    "    xtree = et.parse(file)\n",
    "    docdict = {}\n",
    "    sumcomplexelements = 0\n",
    "    sumelements = 0\n",
    "    for j in xtree.iterfind('.//{http://www.w3.org/2001/XMLSchema}complexType'):\n",
    "#         print(j)\n",
    "        sumcomplexelements += 1\n",
    "        for k in xtree.iterfind('.//{http://www.w3.org/2001/XMLSchema}element'):\n",
    "#             print(k)\n",
    "            sumelements += 1\n",
    "\n",
    "#     docdict.update({\"file\":file, \"complex\": sumcomplexelements, \"elements\": sumelements})\n",
    "    return sumcomplexelements, sumelements\n",
    "#     print(docdict)\n",
    "#     return docdict"
   ]
  },
  {
   "cell_type": "code",
   "execution_count": 92,
   "metadata": {},
   "outputs": [],
   "source": [
    "def reuse(file):\n",
    "#     localdict = getComplexElementCount(file)\n",
    "#     CT = localdict.get(\"complex\")\n",
    "#     ComplexElements = localdict.get(\"elements\")\n",
    "    CT, ComplexElements = getComplexElementCount(file)\n",
    "    if ComplexElements == 0:\n",
    "        return None\n",
    "    return CT/ComplexElements\n",
    "\n",
    "reusedict = {'file':[],'reuse':[]}\n",
    "for file in xsdfilelist:\n",
    "    try:\n",
    "        r = reuse(file)\n",
    "        reusedict['file'].append(file)\n",
    "        reusedict['reuse'].append(r)\n",
    "    except:\n",
    "        pass\n",
    "reusedf = pd.DataFrame(reusedict)\n",
    "reusedf.to_csv(\"../generateddata/qasreuse.csv\")"
   ]
  },
  {
   "cell_type": "markdown",
   "metadata": {},
   "source": [
    "\n",
    "Schmitz, V., Leukel, J., & Dorloff, F.-D. (2003). Does B2B Data Exchange Tap the Full Potential of XML Schema Languages ? 18, 172–182. Retrieved from http://aisel.aisnet.org/bled2003http://aisel.aisnet.org/bled2003/18"
   ]
  },
  {
   "cell_type": "markdown",
   "metadata": {},
   "source": [
    "# BPMN\n",
    "## Empirical Validation of Measures for Business Process Models\n",
    "Group A included measures involving control-flows and gateways. Group B was composed of measures involving pools, lanes, message-flows and data objects. Group C included measures involving activities, events and sequence flows. A set of 11 Derived Measures was also identified.\n",
    "<table cellpadding=\"5\" frame=\"box\" rules=\"all\">\n",
    "<colgroup>\n",
    "<col span=\"5\">\n",
    "</colgroup>\n",
    "<thead>\n",
    "<tr>\n",
    "<th colspan=\"3\"><b>Base Measures</b></th>\n",
    "<th colspan=\"2\"><b>Derived Measures</b></th>\n",
    "</tr>\n",
    "</thead>\n",
    "<tbody>\n",
    "<tr>\n",
    "<td rowspan=\"6\">Group A: Control-Flow from Gateways</td>\n",
    "<td>NEDDB</td>\n",
    "<td>Number of Exclusive Data Based Decision</td>\n",
    "<td>TNG</td>\n",
    "<td>Total Number of Gateways <inline-formula id=\"\"><tex-math notation=\"TeX\"><span class=\"MathJax_Preview\" style=\"display: none;\"></span><span class=\"MathJax\" id=\"MathJax-Element-1-Frame\" tabindex=\"0\" style=\"\"><nobr><span class=\"math\" id=\"MathJax-Span-1\" style=\"width: 26.608em; display: inline-block;\"><span style=\"display: inline-block; position: relative; width: 21.085em; height: 0px; font-size: 126%;\"><span style=\"position: absolute; clip: rect(1.687em, 1021.09em, 2.832em, -999.997em); top: -2.556em; left: 0em;\"><span class=\"mrow\" id=\"MathJax-Span-2\"><span class=\"texatom\" id=\"MathJax-Span-3\"><span class=\"mrow\" id=\"MathJax-Span-4\"><span class=\"mi\" id=\"MathJax-Span-5\" style=\"font-family: STIXGeneral-Italic;\">T<span style=\"display: inline-block; overflow: hidden; height: 1px; width: 0.071em;\"></span></span><span class=\"mi\" id=\"MathJax-Span-6\" style=\"font-family: STIXGeneral-Italic;\">N<span style=\"display: inline-block; overflow: hidden; height: 1px; width: 0.071em;\"></span></span><span class=\"mi\" id=\"MathJax-Span-7\" style=\"font-family: STIXGeneral-Italic;\">G</span><span class=\"mo\" id=\"MathJax-Span-8\" style=\"font-family: STIXGeneral-Regular; padding-left: 0.34em;\">=</span><span class=\"mi\" id=\"MathJax-Span-9\" style=\"font-family: STIXGeneral-Italic; padding-left: 0.34em;\">N<span style=\"display: inline-block; overflow: hidden; height: 1px; width: 0.071em;\"></span></span><span class=\"mi\" id=\"MathJax-Span-10\" style=\"font-family: STIXGeneral-Italic;\">E<span style=\"display: inline-block; overflow: hidden; height: 1px; width: 0.003em;\"></span></span><span class=\"mi\" id=\"MathJax-Span-11\" style=\"font-family: STIXGeneral-Italic;\">D</span><span class=\"mi\" id=\"MathJax-Span-12\" style=\"font-family: STIXGeneral-Italic;\">D</span><span class=\"mi\" id=\"MathJax-Span-13\" style=\"font-family: STIXGeneral-Italic;\">B</span><span class=\"mo\" id=\"MathJax-Span-14\" style=\"font-family: STIXGeneral-Regular; padding-left: 0.273em;\">+</span><span class=\"mi\" id=\"MathJax-Span-15\" style=\"font-family: STIXGeneral-Italic; padding-left: 0.273em;\">N<span style=\"display: inline-block; overflow: hidden; height: 1px; width: 0.071em;\"></span></span><span class=\"mi\" id=\"MathJax-Span-16\" style=\"font-family: STIXGeneral-Italic;\">E<span style=\"display: inline-block; overflow: hidden; height: 1px; width: 0.003em;\"></span></span><span class=\"mi\" id=\"MathJax-Span-17\" style=\"font-family: STIXGeneral-Italic;\">D</span><span class=\"mi\" id=\"MathJax-Span-18\" style=\"font-family: STIXGeneral-Italic;\">E<span style=\"display: inline-block; overflow: hidden; height: 1px; width: 0.003em;\"></span></span><span class=\"mi\" id=\"MathJax-Span-19\" style=\"font-family: STIXGeneral-Italic;\">B</span><span class=\"mo\" id=\"MathJax-Span-20\" style=\"font-family: STIXGeneral-Regular; padding-left: 0.273em;\">+</span><span class=\"mi\" id=\"MathJax-Span-21\" style=\"font-family: STIXGeneral-Italic; padding-left: 0.273em;\">N<span style=\"display: inline-block; overflow: hidden; height: 1px; width: 0.071em;\"></span></span><span class=\"mi\" id=\"MathJax-Span-22\" style=\"font-family: STIXGeneral-Italic;\">I<span style=\"display: inline-block; overflow: hidden; height: 1px; width: 0.071em;\"></span></span><span class=\"mi\" id=\"MathJax-Span-23\" style=\"font-family: STIXGeneral-Italic;\">D</span><span class=\"mo\" id=\"MathJax-Span-24\" style=\"font-family: STIXGeneral-Regular; padding-left: 0.273em;\">+</span><span class=\"mi\" id=\"MathJax-Span-25\" style=\"font-family: STIXGeneral-Italic; padding-left: 0.273em;\">N<span style=\"display: inline-block; overflow: hidden; height: 1px; width: 0.071em;\"></span></span><span class=\"mi\" id=\"MathJax-Span-26\" style=\"font-family: STIXGeneral-Italic;\">C<span style=\"display: inline-block; overflow: hidden; height: 1px; width: 0.003em;\"></span></span><span class=\"mi\" id=\"MathJax-Span-27\" style=\"font-family: STIXGeneral-Italic;\">D</span><span class=\"mo\" id=\"MathJax-Span-28\" style=\"font-family: STIXGeneral-Regular; padding-left: 0.273em;\">+</span><span class=\"mi\" id=\"MathJax-Span-29\" style=\"font-family: STIXGeneral-Italic; padding-left: 0.273em;\">N<span style=\"display: inline-block; overflow: hidden; height: 1px; width: 0.071em;\"></span></span><span class=\"mi\" id=\"MathJax-Span-30\" style=\"font-family: STIXGeneral-Italic;\">P</span><span class=\"mi\" id=\"MathJax-Span-31\" style=\"font-family: STIXGeneral-Italic;\">F<span style=\"display: inline-block; overflow: hidden; height: 1px; width: 0.071em;\"></span></span></span></span></span><span style=\"display: inline-block; width: 0px; height: 2.563em;\"></span></span></span><span style=\"display: inline-block; overflow: hidden; vertical-align: -0.165em; border-left: 0px solid; width: 0px; height: 1.023em;\"></span></span></nobr></span><script type=\"math/tex\" id=\"MathJax-Element-1\">{TNG = NEDDB+NEDEB+NID+NCD+NPF}</script></tex-math></inline-formula></td>\n",
    "</tr>\n",
    "<tr>\n",
    "<td>NEDEB</td>\n",
    "<td>Number of Exclusive Event Based Decision</td>\n",
    "<td rowspan=\"3\">CLP</td>\n",
    "<td rowspan=\"3\">Connectivity level between Participants <inline-formula id=\"\"><tex-math notation=\"TeX\"><span class=\"MathJax_Preview\" style=\"display: none;\"></span><span class=\"MathJax\" id=\"MathJax-Element-2-Frame\" tabindex=\"0\" style=\"\"><nobr><span class=\"math\" id=\"MathJax-Span-32\" style=\"width: 6.537em; display: inline-block;\"><span style=\"display: inline-block; position: relative; width: 5.19em; height: 0px; font-size: 126%;\"><span style=\"position: absolute; clip: rect(1.485em, 1005.19em, 3.169em, -999.997em); top: -2.556em; left: 0em;\"><span class=\"mrow\" id=\"MathJax-Span-33\"><span class=\"mi\" id=\"MathJax-Span-34\" style=\"font-family: STIXGeneral-Italic;\">C<span style=\"display: inline-block; overflow: hidden; height: 1px; width: 0.003em;\"></span></span><span class=\"mi\" id=\"MathJax-Span-35\" style=\"font-family: STIXGeneral-Italic;\">L<span style=\"display: inline-block; overflow: hidden; height: 1px; width: 0.003em;\"></span></span><span class=\"mi\" id=\"MathJax-Span-36\" style=\"font-family: STIXGeneral-Italic;\">P</span><span class=\"mo\" id=\"MathJax-Span-37\" style=\"font-family: STIXGeneral-Regular; padding-left: 0.34em;\">=</span><span class=\"texatom\" id=\"MathJax-Span-38\" style=\"padding-left: 0.34em;\"><span class=\"mrow\" id=\"MathJax-Span-39\"><span class=\"mfrac\" id=\"MathJax-Span-40\"><span style=\"display: inline-block; position: relative; width: 1.687em; height: 0px; margin-right: 0.138em; margin-left: 0.138em;\"><span style=\"position: absolute; clip: rect(3.304em, 1001.62em, 4.179em, -999.997em); top: -4.442em; left: 50%; margin-left: -0.805em;\"><span class=\"mrow\" id=\"MathJax-Span-41\"><span class=\"mi\" id=\"MathJax-Span-42\" style=\"font-size: 70.7%; font-family: STIXGeneral-Italic;\">N<span style=\"display: inline-block; overflow: hidden; height: 1px; width: 0.071em;\"></span></span><span class=\"mi\" id=\"MathJax-Span-43\" style=\"font-size: 70.7%; font-family: STIXGeneral-Italic;\">M<span style=\"display: inline-block; overflow: hidden; height: 1px; width: 0.003em;\"></span></span><span class=\"mi\" id=\"MathJax-Span-44\" style=\"font-size: 70.7%; font-family: STIXGeneral-Italic;\">F<span style=\"display: inline-block; overflow: hidden; height: 1px; width: 0.003em;\"></span></span></span><span style=\"display: inline-block; width: 0px; height: 3.977em;\"></span></span><span style=\"position: absolute; clip: rect(3.304em, 1000.95em, 4.179em, -999.997em); top: -3.566em; left: 50%; margin-left: -0.468em;\"><span class=\"mrow\" id=\"MathJax-Span-45\"><span class=\"mi\" id=\"MathJax-Span-46\" style=\"font-size: 70.7%; font-family: STIXGeneral-Italic;\">N<span style=\"display: inline-block; overflow: hidden; height: 1px; width: 0.071em;\"></span></span><span class=\"mi\" id=\"MathJax-Span-47\" style=\"font-size: 70.7%; font-family: STIXGeneral-Italic;\">P</span></span><span style=\"display: inline-block; width: 0px; height: 3.977em;\"></span></span><span style=\"position: absolute; clip: rect(0.812em, 1001.69em, 1.283em, -999.997em); top: -1.276em; left: 0em;\"><span style=\"display: inline-block; overflow: hidden; vertical-align: 0em; border-top: 1.3px solid; width: 1.687em; height: 0px;\"></span><span style=\"display: inline-block; width: 0px; height: 1.081em;\"></span></span></span></span></span></span></span><span style=\"display: inline-block; width: 0px; height: 2.563em;\"></span></span></span><span style=\"display: inline-block; overflow: hidden; vertical-align: -0.59em; border-left: 0px solid; width: 0px; height: 1.871em;\"></span></span></nobr></span><script type=\"math/tex\" id=\"MathJax-Element-2\">CLP = {NMF \\over NP}</script></tex-math></inline-formula></td>\n",
    "</tr>\n",
    "<tr>\n",
    "<td>NID</td>\n",
    "<td>Number of Inclusive Decision</td>\n",
    "</tr>\n",
    "<tr>\n",
    "<td>NCD</td>\n",
    "<td>Number of Complex Decision</td>\n",
    "</tr>\n",
    "<tr>\n",
    "<td>NPF</td>\n",
    "<td>Number of Parallel Forking</td>\n",
    "<td rowspan=\"2\">PLT</td>\n",
    "<td rowspan=\"2\">Proportion of Pools/Lanes and Activities of the Model <inline-formula id=\"\"><tex-math notation=\"TeX\"><span class=\"MathJax_Preview\" style=\"display: none;\"></span><span class=\"MathJax\" id=\"MathJax-Element-3-Frame\" tabindex=\"0\" style=\"\"><nobr><span class=\"math\" id=\"MathJax-Span-48\" style=\"width: 6.335em; display: inline-block;\"><span style=\"display: inline-block; position: relative; width: 4.988em; height: 0px; font-size: 126%;\"><span style=\"position: absolute; clip: rect(1.485em, 1004.99em, 3.169em, -999.997em); top: -2.556em; left: 0em;\"><span class=\"mrow\" id=\"MathJax-Span-49\"><span class=\"mi\" id=\"MathJax-Span-50\" style=\"font-family: STIXGeneral-Italic;\">P</span><span class=\"mi\" id=\"MathJax-Span-51\" style=\"font-family: STIXGeneral-Italic;\">L<span style=\"display: inline-block; overflow: hidden; height: 1px; width: 0.003em;\"></span></span><span class=\"mi\" id=\"MathJax-Span-52\" style=\"font-family: STIXGeneral-Italic;\">T<span style=\"display: inline-block; overflow: hidden; height: 1px; width: 0.071em;\"></span></span><span class=\"mo\" id=\"MathJax-Span-53\" style=\"font-family: STIXGeneral-Regular; padding-left: 0.34em;\">=</span><span class=\"texatom\" id=\"MathJax-Span-54\" style=\"padding-left: 0.34em;\"><span class=\"mrow\" id=\"MathJax-Span-55\"><span class=\"mfrac\" id=\"MathJax-Span-56\"><span style=\"display: inline-block; position: relative; width: 1.553em; height: 0px; margin-right: 0.138em; margin-left: 0.138em;\"><span style=\"position: absolute; clip: rect(3.304em, 1000.95em, 4.179em, -999.997em); top: -4.442em; left: 50%; margin-left: -0.468em;\"><span class=\"mrow\" id=\"MathJax-Span-57\"><span class=\"mi\" id=\"MathJax-Span-58\" style=\"font-size: 70.7%; font-family: STIXGeneral-Italic;\">N<span style=\"display: inline-block; overflow: hidden; height: 1px; width: 0.071em;\"></span></span><span class=\"mi\" id=\"MathJax-Span-59\" style=\"font-size: 70.7%; font-family: STIXGeneral-Italic;\">L<span style=\"display: inline-block; overflow: hidden; height: 1px; width: 0.003em;\"></span></span></span><span style=\"display: inline-block; width: 0px; height: 3.977em;\"></span></span><span style=\"position: absolute; clip: rect(3.304em, 1001.42em, 4.179em, -999.997em); top: -3.566em; left: 50%; margin-left: -0.67em;\"><span class=\"mrow\" id=\"MathJax-Span-60\"><span class=\"mi\" id=\"MathJax-Span-61\" style=\"font-size: 70.7%; font-family: STIXGeneral-Italic;\">T<span style=\"display: inline-block; overflow: hidden; height: 1px; width: 0.071em;\"></span></span><span class=\"mi\" id=\"MathJax-Span-62\" style=\"font-size: 70.7%; font-family: STIXGeneral-Italic;\">N<span style=\"display: inline-block; overflow: hidden; height: 1px; width: 0.071em;\"></span></span><span class=\"mi\" id=\"MathJax-Span-63\" style=\"font-size: 70.7%; font-family: STIXGeneral-Italic;\">T<span style=\"display: inline-block; overflow: hidden; height: 1px; width: 0.071em;\"></span></span></span><span style=\"display: inline-block; width: 0px; height: 3.977em;\"></span></span><span style=\"position: absolute; clip: rect(0.812em, 1001.55em, 1.283em, -999.997em); top: -1.276em; left: 0em;\"><span style=\"display: inline-block; overflow: hidden; vertical-align: 0em; border-top: 1.3px solid; width: 1.553em; height: 0px;\"></span><span style=\"display: inline-block; width: 0px; height: 1.081em;\"></span></span></span></span></span></span></span><span style=\"display: inline-block; width: 0px; height: 2.563em;\"></span></span></span><span style=\"display: inline-block; overflow: hidden; vertical-align: -0.59em; border-left: 0px solid; width: 0px; height: 1.871em;\"></span></span></nobr></span><script type=\"math/tex\" id=\"MathJax-Element-3\">PLT = {NL \\over TNT}</script></tex-math></inline-formula></td>\n",
    "</tr>\n",
    "<tr>\n",
    "<td>NSFG</td>\n",
    "<td>Number of Sequence Flows from Gateways</td>\n",
    "</tr>\n",
    "<tr>\n",
    "<td rowspan=\"2\">Group B: Pools/Lanes</td>\n",
    "<td>NP</td>\n",
    "<td>Number of Pools</td>\n",
    "<td>TNDO</td>\n",
    "<td>Total Number of Data Objects of the Model <inline-formula id=\"\"><tex-math notation=\"TeX\"><span class=\"MathJax_Preview\" style=\"display: none;\"></span><span class=\"MathJax\" id=\"MathJax-Element-4-Frame\" tabindex=\"0\" style=\"\"><nobr><span class=\"math\" id=\"MathJax-Span-64\" style=\"width: 15.36em; display: inline-block;\"><span style=\"display: inline-block; position: relative; width: 12.194em; height: 0px; font-size: 126%;\"><span style=\"position: absolute; clip: rect(1.687em, 1012.19em, 2.832em, -999.997em); top: -2.556em; left: 0em;\"><span class=\"mrow\" id=\"MathJax-Span-65\"><span class=\"mi\" id=\"MathJax-Span-66\" style=\"font-family: STIXGeneral-Italic;\">T<span style=\"display: inline-block; overflow: hidden; height: 1px; width: 0.071em;\"></span></span><span class=\"mi\" id=\"MathJax-Span-67\" style=\"font-family: STIXGeneral-Italic;\">N<span style=\"display: inline-block; overflow: hidden; height: 1px; width: 0.071em;\"></span></span><span class=\"mi\" id=\"MathJax-Span-68\" style=\"font-family: STIXGeneral-Italic;\">D</span><span class=\"mi\" id=\"MathJax-Span-69\" style=\"font-family: STIXGeneral-Italic;\">O</span><span class=\"mo\" id=\"MathJax-Span-70\" style=\"font-family: STIXGeneral-Regular; padding-left: 0.34em;\">=</span><span class=\"mi\" id=\"MathJax-Span-71\" style=\"font-family: STIXGeneral-Italic; padding-left: 0.34em;\">N<span style=\"display: inline-block; overflow: hidden; height: 1px; width: 0.071em;\"></span></span><span class=\"mi\" id=\"MathJax-Span-72\" style=\"font-family: STIXGeneral-Italic;\">D</span><span class=\"mi\" id=\"MathJax-Span-73\" style=\"font-family: STIXGeneral-Italic;\">O</span><span class=\"mi\" id=\"MathJax-Span-74\" style=\"font-family: STIXGeneral-Italic;\">I<span style=\"display: inline-block; overflow: hidden; height: 1px; width: 0.071em;\"></span></span><span class=\"mi\" id=\"MathJax-Span-75\" style=\"font-family: STIXGeneral-Italic;\">n</span><span class=\"mo\" id=\"MathJax-Span-76\" style=\"font-family: STIXGeneral-Regular; padding-left: 0.273em;\">+</span><span class=\"mi\" id=\"MathJax-Span-77\" style=\"font-family: STIXGeneral-Italic; padding-left: 0.273em;\">N<span style=\"display: inline-block; overflow: hidden; height: 1px; width: 0.071em;\"></span></span><span class=\"mi\" id=\"MathJax-Span-78\" style=\"font-family: STIXGeneral-Italic;\">D</span><span class=\"mi\" id=\"MathJax-Span-79\" style=\"font-family: STIXGeneral-Italic;\">O</span><span class=\"mi\" id=\"MathJax-Span-80\" style=\"font-family: STIXGeneral-Italic;\">O</span><span class=\"mi\" id=\"MathJax-Span-81\" style=\"font-family: STIXGeneral-Italic;\">u</span><span class=\"mi\" id=\"MathJax-Span-82\" style=\"font-family: STIXGeneral-Italic;\">t<span style=\"display: inline-block; overflow: hidden; height: 1px; width: 0.003em;\"></span></span></span><span style=\"display: inline-block; width: 0px; height: 2.563em;\"></span></span></span><span style=\"display: inline-block; overflow: hidden; vertical-align: -0.165em; border-left: 0px solid; width: 0px; height: 1.107em;\"></span></span></nobr></span><script type=\"math/tex\" id=\"MathJax-Element-4\">TNDO = NDOIn + NDOOut</script></tex-math></inline-formula></td>\n",
    "</tr>\n",
    "<tr>\n",
    "<td>NL</td>\n",
    "<td>Number of Lanes</td>\n",
    "<td rowspan=\"2\">PDOPIn</td>\n",
    "<td rowspan=\"2\">Proportion of Data Objects as incoming products and Total Data Objects of the model <inline-formula id=\"\"><tex-math notation=\"TeX\"><span class=\"MathJax_Preview\" style=\"display: none;\"></span><span class=\"MathJax\" id=\"MathJax-Element-5-Frame\" tabindex=\"0\" style=\"\"><nobr><span class=\"math\" id=\"MathJax-Span-83\" style=\"width: 9.433em; display: inline-block;\"><span style=\"display: inline-block; position: relative; width: 7.48em; height: 0px; font-size: 126%;\"><span style=\"position: absolute; clip: rect(1.418em, 1007.48em, 3.169em, -999.997em); top: -2.556em; left: 0em;\"><span class=\"mrow\" id=\"MathJax-Span-84\"><span class=\"mi\" id=\"MathJax-Span-85\" style=\"font-family: STIXGeneral-Italic;\">P</span><span class=\"mi\" id=\"MathJax-Span-86\" style=\"font-family: STIXGeneral-Italic;\">D</span><span class=\"mi\" id=\"MathJax-Span-87\" style=\"font-family: STIXGeneral-Italic;\">O</span><span class=\"mi\" id=\"MathJax-Span-88\" style=\"font-family: STIXGeneral-Italic;\">P</span><span class=\"mi\" id=\"MathJax-Span-89\" style=\"font-family: STIXGeneral-Italic;\">I<span style=\"display: inline-block; overflow: hidden; height: 1px; width: 0.071em;\"></span></span><span class=\"mi\" id=\"MathJax-Span-90\" style=\"font-family: STIXGeneral-Italic;\">n</span><span class=\"mo\" id=\"MathJax-Span-91\" style=\"font-family: STIXGeneral-Regular; padding-left: 0.34em;\">=</span><span class=\"texatom\" id=\"MathJax-Span-92\" style=\"padding-left: 0.34em;\"><span class=\"mrow\" id=\"MathJax-Span-93\"><span class=\"mfrac\" id=\"MathJax-Span-94\"><span style=\"display: inline-block; position: relative; width: 2.293em; height: 0px; margin-right: 0.138em; margin-left: 0.138em;\"><span style=\"position: absolute; clip: rect(3.304em, 1002.16em, 4.179em, -999.997em); top: -4.442em; left: 50%; margin-left: -1.074em;\"><span class=\"mrow\" id=\"MathJax-Span-95\"><span class=\"mi\" id=\"MathJax-Span-96\" style=\"font-size: 70.7%; font-family: STIXGeneral-Italic;\">N<span style=\"display: inline-block; overflow: hidden; height: 1px; width: 0.071em;\"></span></span><span class=\"mi\" id=\"MathJax-Span-97\" style=\"font-size: 70.7%; font-family: STIXGeneral-Italic;\">D</span><span class=\"mi\" id=\"MathJax-Span-98\" style=\"font-size: 70.7%; font-family: STIXGeneral-Italic;\">O</span><span class=\"mi\" id=\"MathJax-Span-99\" style=\"font-size: 70.7%; font-family: STIXGeneral-Italic;\">I<span style=\"display: inline-block; overflow: hidden; height: 1px; width: 0.071em;\"></span></span><span class=\"mi\" id=\"MathJax-Span-100\" style=\"font-size: 70.7%; font-family: STIXGeneral-Italic;\">n</span></span><span style=\"display: inline-block; width: 0px; height: 3.977em;\"></span></span><span style=\"position: absolute; clip: rect(3.304em, 1001.96em, 4.179em, -999.997em); top: -3.566em; left: 50%; margin-left: -1.007em;\"><span class=\"mrow\" id=\"MathJax-Span-101\"><span class=\"mi\" id=\"MathJax-Span-102\" style=\"font-size: 70.7%; font-family: STIXGeneral-Italic;\">T<span style=\"display: inline-block; overflow: hidden; height: 1px; width: 0.071em;\"></span></span><span class=\"mi\" id=\"MathJax-Span-103\" style=\"font-size: 70.7%; font-family: STIXGeneral-Italic;\">N<span style=\"display: inline-block; overflow: hidden; height: 1px; width: 0.071em;\"></span></span><span class=\"mi\" id=\"MathJax-Span-104\" style=\"font-size: 70.7%; font-family: STIXGeneral-Italic;\">D</span><span class=\"mi\" id=\"MathJax-Span-105\" style=\"font-size: 70.7%; font-family: STIXGeneral-Italic;\">O</span></span><span style=\"display: inline-block; width: 0px; height: 3.977em;\"></span></span><span style=\"position: absolute; clip: rect(0.812em, 1002.29em, 1.283em, -999.997em); top: -1.276em; left: 0em;\"><span style=\"display: inline-block; overflow: hidden; vertical-align: 0em; border-top: 1.3px solid; width: 2.293em; height: 0px;\"></span><span style=\"display: inline-block; width: 0px; height: 1.081em;\"></span></span></span></span></span></span></span><span style=\"display: inline-block; width: 0px; height: 2.563em;\"></span></span></span><span style=\"display: inline-block; overflow: hidden; vertical-align: -0.59em; border-left: 0px solid; width: 0px; height: 1.871em;\"></span></span></nobr></span><script type=\"math/tex\" id=\"MathJax-Element-5\">PDOPIn = {NDOIn \\over TNDO}</script></tex-math></inline-formula></td>\n",
    "</tr>\n",
    "<tr>\n",
    "<td>Messages</td>\n",
    "<td>NMF</td>\n",
    "<td>Number of Message Flows between Participants</td>\n",
    "</tr>\n",
    "<tr>\n",
    "<td rowspan=\"2\">Data Objects</td>\n",
    "<td>NDOIn</td>\n",
    "<td>Number of Data Objects of Input to activities</td>\n",
    "<td>PDOPOut</td>\n",
    "<td>Proportion of Data Objects as Outgoing Products and total Data Objects <inline-formula id=\"\"><tex-math notation=\"TeX\"><span class=\"MathJax_Preview\" style=\"display: none;\"></span><span class=\"MathJax\" id=\"MathJax-Element-6-Frame\" tabindex=\"0\" style=\"\"><nobr><span class=\"math\" id=\"MathJax-Span-106\" style=\"width: 10.78em; display: inline-block;\"><span style=\"display: inline-block; position: relative; width: 8.557em; height: 0px; font-size: 126%;\"><span style=\"position: absolute; clip: rect(1.418em, 1008.56em, 3.169em, -999.997em); top: -2.556em; left: 0em;\"><span class=\"mrow\" id=\"MathJax-Span-107\"><span class=\"mi\" id=\"MathJax-Span-108\" style=\"font-family: STIXGeneral-Italic;\">P</span><span class=\"mi\" id=\"MathJax-Span-109\" style=\"font-family: STIXGeneral-Italic;\">D</span><span class=\"mi\" id=\"MathJax-Span-110\" style=\"font-family: STIXGeneral-Italic;\">O</span><span class=\"mi\" id=\"MathJax-Span-111\" style=\"font-family: STIXGeneral-Italic;\">P</span><span class=\"mi\" id=\"MathJax-Span-112\" style=\"font-family: STIXGeneral-Italic;\">O</span><span class=\"mi\" id=\"MathJax-Span-113\" style=\"font-family: STIXGeneral-Italic;\">u</span><span class=\"mi\" id=\"MathJax-Span-114\" style=\"font-family: STIXGeneral-Italic;\">t<span style=\"display: inline-block; overflow: hidden; height: 1px; width: 0.003em;\"></span></span><span class=\"mo\" id=\"MathJax-Span-115\" style=\"font-family: STIXGeneral-Regular; padding-left: 0.34em;\">=</span><span class=\"texatom\" id=\"MathJax-Span-116\" style=\"padding-left: 0.34em;\"><span class=\"mrow\" id=\"MathJax-Span-117\"><span class=\"mfrac\" id=\"MathJax-Span-118\"><span style=\"display: inline-block; position: relative; width: 2.765em; height: 0px; margin-right: 0.138em; margin-left: 0.138em;\"><span style=\"position: absolute; clip: rect(3.304em, 1002.63em, 4.179em, -999.997em); top: -4.442em; left: 50%; margin-left: -1.276em;\"><span class=\"mrow\" id=\"MathJax-Span-119\"><span class=\"mi\" id=\"MathJax-Span-120\" style=\"font-size: 70.7%; font-family: STIXGeneral-Italic;\">N<span style=\"display: inline-block; overflow: hidden; height: 1px; width: 0.071em;\"></span></span><span class=\"mi\" id=\"MathJax-Span-121\" style=\"font-size: 70.7%; font-family: STIXGeneral-Italic;\">D</span><span class=\"mi\" id=\"MathJax-Span-122\" style=\"font-size: 70.7%; font-family: STIXGeneral-Italic;\">O</span><span class=\"mi\" id=\"MathJax-Span-123\" style=\"font-size: 70.7%; font-family: STIXGeneral-Italic;\">O</span><span class=\"mi\" id=\"MathJax-Span-124\" style=\"font-size: 70.7%; font-family: STIXGeneral-Italic;\">u</span><span class=\"mi\" id=\"MathJax-Span-125\" style=\"font-size: 70.7%; font-family: STIXGeneral-Italic;\">t<span style=\"display: inline-block; overflow: hidden; height: 1px; width: 0.003em;\"></span></span></span><span style=\"display: inline-block; width: 0px; height: 3.977em;\"></span></span><span style=\"position: absolute; clip: rect(3.304em, 1001.96em, 4.179em, -999.997em); top: -3.566em; left: 50%; margin-left: -1.007em;\"><span class=\"mrow\" id=\"MathJax-Span-126\"><span class=\"mi\" id=\"MathJax-Span-127\" style=\"font-size: 70.7%; font-family: STIXGeneral-Italic;\">T<span style=\"display: inline-block; overflow: hidden; height: 1px; width: 0.071em;\"></span></span><span class=\"mi\" id=\"MathJax-Span-128\" style=\"font-size: 70.7%; font-family: STIXGeneral-Italic;\">N<span style=\"display: inline-block; overflow: hidden; height: 1px; width: 0.071em;\"></span></span><span class=\"mi\" id=\"MathJax-Span-129\" style=\"font-size: 70.7%; font-family: STIXGeneral-Italic;\">D</span><span class=\"mi\" id=\"MathJax-Span-130\" style=\"font-size: 70.7%; font-family: STIXGeneral-Italic;\">O</span></span><span style=\"display: inline-block; width: 0px; height: 3.977em;\"></span></span><span style=\"position: absolute; clip: rect(0.812em, 1002.76em, 1.283em, -999.997em); top: -1.276em; left: 0em;\"><span style=\"display: inline-block; overflow: hidden; vertical-align: 0em; border-top: 1.3px solid; width: 2.765em; height: 0px;\"></span><span style=\"display: inline-block; width: 0px; height: 1.081em;\"></span></span></span></span></span></span></span><span style=\"display: inline-block; width: 0px; height: 2.563em;\"></span></span></span><span style=\"display: inline-block; overflow: hidden; vertical-align: -0.59em; border-left: 0px solid; width: 0px; height: 1.871em;\"></span></span></nobr></span><script type=\"math/tex\" id=\"MathJax-Element-6\">PDOPOut = {NDOOut \\over TNDO}</script></tex-math></inline-formula></td>\n",
    "</tr>\n",
    "<tr>\n",
    "<td>NDOOut</td>\n",
    "<td>Number of Data Objects of Output to activities</td>\n",
    "<td>PDOTOut</td>\n",
    "<td>Proportion of Data Objects as Outgoing Product of Activities of the model <inline-formula id=\"\"><tex-math notation=\"TeX\"><span class=\"MathJax_Preview\" style=\"display: none;\"></span><span class=\"MathJax\" id=\"MathJax-Element-7-Frame\" tabindex=\"0\" style=\"\"><nobr><span class=\"math\" id=\"MathJax-Span-131\" style=\"width: 10.78em; display: inline-block;\"><span style=\"display: inline-block; position: relative; width: 8.557em; height: 0px; font-size: 126%;\"><span style=\"position: absolute; clip: rect(1.418em, 1008.56em, 3.169em, -999.997em); top: -2.556em; left: 0em;\"><span class=\"mrow\" id=\"MathJax-Span-132\"><span class=\"mi\" id=\"MathJax-Span-133\" style=\"font-family: STIXGeneral-Italic;\">P</span><span class=\"mi\" id=\"MathJax-Span-134\" style=\"font-family: STIXGeneral-Italic;\">D</span><span class=\"mi\" id=\"MathJax-Span-135\" style=\"font-family: STIXGeneral-Italic;\">O</span><span class=\"mi\" id=\"MathJax-Span-136\" style=\"font-family: STIXGeneral-Italic;\">T<span style=\"display: inline-block; overflow: hidden; height: 1px; width: 0.071em;\"></span></span><span class=\"mi\" id=\"MathJax-Span-137\" style=\"font-family: STIXGeneral-Italic;\">O</span><span class=\"mi\" id=\"MathJax-Span-138\" style=\"font-family: STIXGeneral-Italic;\">u</span><span class=\"mi\" id=\"MathJax-Span-139\" style=\"font-family: STIXGeneral-Italic;\">t<span style=\"display: inline-block; overflow: hidden; height: 1px; width: 0.003em;\"></span></span><span class=\"mo\" id=\"MathJax-Span-140\" style=\"font-family: STIXGeneral-Regular; padding-left: 0.34em;\">=</span><span class=\"texatom\" id=\"MathJax-Span-141\" style=\"padding-left: 0.34em;\"><span class=\"mrow\" id=\"MathJax-Span-142\"><span class=\"mfrac\" id=\"MathJax-Span-143\"><span style=\"display: inline-block; position: relative; width: 2.765em; height: 0px; margin-right: 0.138em; margin-left: 0.138em;\"><span style=\"position: absolute; clip: rect(3.304em, 1002.63em, 4.179em, -999.997em); top: -4.442em; left: 50%; margin-left: -1.276em;\"><span class=\"mrow\" id=\"MathJax-Span-144\"><span class=\"mi\" id=\"MathJax-Span-145\" style=\"font-size: 70.7%; font-family: STIXGeneral-Italic;\">N<span style=\"display: inline-block; overflow: hidden; height: 1px; width: 0.071em;\"></span></span><span class=\"mi\" id=\"MathJax-Span-146\" style=\"font-size: 70.7%; font-family: STIXGeneral-Italic;\">D</span><span class=\"mi\" id=\"MathJax-Span-147\" style=\"font-size: 70.7%; font-family: STIXGeneral-Italic;\">O</span><span class=\"mi\" id=\"MathJax-Span-148\" style=\"font-size: 70.7%; font-family: STIXGeneral-Italic;\">O</span><span class=\"mi\" id=\"MathJax-Span-149\" style=\"font-size: 70.7%; font-family: STIXGeneral-Italic;\">u</span><span class=\"mi\" id=\"MathJax-Span-150\" style=\"font-size: 70.7%; font-family: STIXGeneral-Italic;\">t<span style=\"display: inline-block; overflow: hidden; height: 1px; width: 0.003em;\"></span></span></span><span style=\"display: inline-block; width: 0px; height: 3.977em;\"></span></span><span style=\"position: absolute; clip: rect(3.304em, 1001.42em, 4.179em, -999.997em); top: -3.566em; left: 50%; margin-left: -0.67em;\"><span class=\"mrow\" id=\"MathJax-Span-151\"><span class=\"mi\" id=\"MathJax-Span-152\" style=\"font-size: 70.7%; font-family: STIXGeneral-Italic;\">T<span style=\"display: inline-block; overflow: hidden; height: 1px; width: 0.071em;\"></span></span><span class=\"mi\" id=\"MathJax-Span-153\" style=\"font-size: 70.7%; font-family: STIXGeneral-Italic;\">N<span style=\"display: inline-block; overflow: hidden; height: 1px; width: 0.071em;\"></span></span><span class=\"mi\" id=\"MathJax-Span-154\" style=\"font-size: 70.7%; font-family: STIXGeneral-Italic;\">T<span style=\"display: inline-block; overflow: hidden; height: 1px; width: 0.071em;\"></span></span></span><span style=\"display: inline-block; width: 0px; height: 3.977em;\"></span></span><span style=\"position: absolute; clip: rect(0.812em, 1002.76em, 1.283em, -999.997em); top: -1.276em; left: 0em;\"><span style=\"display: inline-block; overflow: hidden; vertical-align: 0em; border-top: 1.3px solid; width: 2.765em; height: 0px;\"></span><span style=\"display: inline-block; width: 0px; height: 1.081em;\"></span></span></span></span></span></span></span><span style=\"display: inline-block; width: 0px; height: 2.563em;\"></span></span></span><span style=\"display: inline-block; overflow: hidden; vertical-align: -0.59em; border-left: 0px solid; width: 0px; height: 1.871em;\"></span></span></nobr></span><script type=\"math/tex\" id=\"MathJax-Element-7\">PDOTOut = {NDOOut \\over TNT}</script></tex-math></inline-formula></td>\n",
    "</tr>\n",
    "<tr>\n",
    "<td rowspan=\"4\">Group C: Events</td>\n",
    "<td>TNSE</td>\n",
    "<td>Total Number of Start Events</td>\n",
    "<td rowspan=\"2\">TNE</td>\n",
    "<td rowspan=\"2\">Total Number of Events of the Model <inline-formula id=\"\"><tex-math notation=\"TeX\"><span class=\"MathJax_Preview\" style=\"display: none;\"></span><span class=\"MathJax\" id=\"MathJax-Element-8-Frame\" tabindex=\"0\" style=\"\"><nobr><span class=\"math\" id=\"MathJax-Span-155\" style=\"width: 16.774em; display: inline-block;\"><span style=\"display: inline-block; position: relative; width: 13.272em; height: 0px; font-size: 126%;\"><span style=\"position: absolute; clip: rect(1.687em, 1013.27em, 2.832em, -999.997em); top: -2.556em; left: 0em;\"><span class=\"mrow\" id=\"MathJax-Span-156\"><span class=\"mi\" id=\"MathJax-Span-157\" style=\"font-family: STIXGeneral-Italic;\">T<span style=\"display: inline-block; overflow: hidden; height: 1px; width: 0.071em;\"></span></span><span class=\"mi\" id=\"MathJax-Span-158\" style=\"font-family: STIXGeneral-Italic;\">N<span style=\"display: inline-block; overflow: hidden; height: 1px; width: 0.071em;\"></span></span><span class=\"mi\" id=\"MathJax-Span-159\" style=\"font-family: STIXGeneral-Italic;\">E<span style=\"display: inline-block; overflow: hidden; height: 1px; width: 0.003em;\"></span></span><span class=\"mo\" id=\"MathJax-Span-160\" style=\"font-family: STIXGeneral-Regular; padding-left: 0.34em;\">=</span><span class=\"mi\" id=\"MathJax-Span-161\" style=\"font-family: STIXGeneral-Italic; padding-left: 0.34em;\">N<span style=\"display: inline-block; overflow: hidden; height: 1px; width: 0.071em;\"></span></span><span class=\"mi\" id=\"MathJax-Span-162\" style=\"font-family: STIXGeneral-Italic;\">T<span style=\"display: inline-block; overflow: hidden; height: 1px; width: 0.071em;\"></span></span><span class=\"mi\" id=\"MathJax-Span-163\" style=\"font-family: STIXGeneral-Italic;\">S<span style=\"display: inline-block; overflow: hidden; height: 1px; width: 0.003em;\"></span></span><span class=\"mi\" id=\"MathJax-Span-164\" style=\"font-family: STIXGeneral-Italic;\">E<span style=\"display: inline-block; overflow: hidden; height: 1px; width: 0.003em;\"></span></span><span class=\"mo\" id=\"MathJax-Span-165\" style=\"font-family: STIXGeneral-Regular; padding-left: 0.273em;\">+</span><span class=\"mi\" id=\"MathJax-Span-166\" style=\"font-family: STIXGeneral-Italic; padding-left: 0.273em;\">N<span style=\"display: inline-block; overflow: hidden; height: 1px; width: 0.071em;\"></span></span><span class=\"mi\" id=\"MathJax-Span-167\" style=\"font-family: STIXGeneral-Italic;\">T<span style=\"display: inline-block; overflow: hidden; height: 1px; width: 0.071em;\"></span></span><span class=\"mi\" id=\"MathJax-Span-168\" style=\"font-family: STIXGeneral-Italic;\">I<span style=\"display: inline-block; overflow: hidden; height: 1px; width: 0.071em;\"></span></span><span class=\"mi\" id=\"MathJax-Span-169\" style=\"font-family: STIXGeneral-Italic;\">E<span style=\"display: inline-block; overflow: hidden; height: 1px; width: 0.003em;\"></span></span><span class=\"mo\" id=\"MathJax-Span-170\" style=\"font-family: STIXGeneral-Regular; padding-left: 0.273em;\">+</span><span class=\"mi\" id=\"MathJax-Span-171\" style=\"font-family: STIXGeneral-Italic; padding-left: 0.273em;\">T<span style=\"display: inline-block; overflow: hidden; height: 1px; width: 0.071em;\"></span></span><span class=\"mi\" id=\"MathJax-Span-172\" style=\"font-family: STIXGeneral-Italic;\">N<span style=\"display: inline-block; overflow: hidden; height: 1px; width: 0.071em;\"></span></span><span class=\"mi\" id=\"MathJax-Span-173\" style=\"font-family: STIXGeneral-Italic;\">E<span style=\"display: inline-block; overflow: hidden; height: 1px; width: 0.003em;\"></span></span><span class=\"mi\" id=\"MathJax-Span-174\" style=\"font-family: STIXGeneral-Italic;\">E<span style=\"display: inline-block; overflow: hidden; height: 1px; width: 0.003em;\"></span></span></span><span style=\"display: inline-block; width: 0px; height: 2.563em;\"></span></span></span><span style=\"display: inline-block; overflow: hidden; vertical-align: -0.165em; border-left: 0px solid; width: 0px; height: 1.107em;\"></span></span></nobr></span><script type=\"math/tex\" id=\"MathJax-Element-8\">TNE = NTSE + NTIE + TNEE</script></tex-math></inline-formula></td>\n",
    "</tr>\n",
    "<tr>\n",
    "<td>TNIE</td>\n",
    "<td>Total Number of Intermediate Events</td>\n",
    "</tr>\n",
    "<tr>\n",
    "<td>TNEE</td>\n",
    "<td>Total Number of End Events</td>\n",
    "<td>TNA</td>\n",
    "<td>Total Number of Activities <inline-formula id=\"\"><tex-math notation=\"TeX\"><span class=\"MathJax_Preview\" style=\"display: none;\"></span><span class=\"MathJax\" id=\"MathJax-Element-9-Frame\" tabindex=\"0\" style=\"\"><nobr><span class=\"math\" id=\"MathJax-Span-175\" style=\"width: 11.453em; display: inline-block;\"><span style=\"display: inline-block; position: relative; width: 9.096em; height: 0px; font-size: 126%;\"><span style=\"position: absolute; clip: rect(1.687em, 1009.1em, 2.832em, -999.997em); top: -2.556em; left: 0em;\"><span class=\"mrow\" id=\"MathJax-Span-176\"><span class=\"mi\" id=\"MathJax-Span-177\" style=\"font-family: STIXGeneral-Italic;\">T<span style=\"display: inline-block; overflow: hidden; height: 1px; width: 0.071em;\"></span></span><span class=\"mi\" id=\"MathJax-Span-178\" style=\"font-family: STIXGeneral-Italic;\">N<span style=\"display: inline-block; overflow: hidden; height: 1px; width: 0.071em;\"></span></span><span class=\"mi\" id=\"MathJax-Span-179\" style=\"font-family: STIXGeneral-Italic;\">A</span><span class=\"mo\" id=\"MathJax-Span-180\" style=\"font-family: STIXGeneral-Regular; padding-left: 0.34em;\">=</span><span class=\"mi\" id=\"MathJax-Span-181\" style=\"font-family: STIXGeneral-Italic; padding-left: 0.34em;\">T<span style=\"display: inline-block; overflow: hidden; height: 1px; width: 0.071em;\"></span></span><span class=\"mi\" id=\"MathJax-Span-182\" style=\"font-family: STIXGeneral-Italic;\">N<span style=\"display: inline-block; overflow: hidden; height: 1px; width: 0.071em;\"></span></span><span class=\"mi\" id=\"MathJax-Span-183\" style=\"font-family: STIXGeneral-Italic;\">T<span style=\"display: inline-block; overflow: hidden; height: 1px; width: 0.071em;\"></span></span><span class=\"mo\" id=\"MathJax-Span-184\" style=\"font-family: STIXGeneral-Regular; padding-left: 0.273em;\">+</span><span class=\"mi\" id=\"MathJax-Span-185\" style=\"font-family: STIXGeneral-Italic; padding-left: 0.273em;\">T<span style=\"display: inline-block; overflow: hidden; height: 1px; width: 0.071em;\"></span></span><span class=\"mi\" id=\"MathJax-Span-186\" style=\"font-family: STIXGeneral-Italic;\">N<span style=\"display: inline-block; overflow: hidden; height: 1px; width: 0.071em;\"></span></span><span class=\"mi\" id=\"MathJax-Span-187\" style=\"font-family: STIXGeneral-Italic;\">C<span style=\"display: inline-block; overflow: hidden; height: 1px; width: 0.003em;\"></span></span><span class=\"mi\" id=\"MathJax-Span-188\" style=\"font-family: STIXGeneral-Italic;\">S<span style=\"display: inline-block; overflow: hidden; height: 1px; width: 0.003em;\"></span></span></span><span style=\"display: inline-block; width: 0px; height: 2.563em;\"></span></span></span><span style=\"display: inline-block; overflow: hidden; vertical-align: -0.165em; border-left: 0px solid; width: 0px; height: 1.107em;\"></span></span></nobr></span><script type=\"math/tex\" id=\"MathJax-Element-9\">TNA = TNT + TNCS</script></tex-math></inline-formula></td>\n",
    "</tr>\n",
    "<tr>\n",
    "<td>NSFE</td>\n",
    "<td>Number of Sequence Flows from events</td>\n",
    "<td rowspan=\"3\">CLA</td>\n",
    "<td rowspan=\"3\">Connectivity Level between Activities <inline-formula id=\"\"><tex-math notation=\"TeX\"><span class=\"MathJax_Preview\" style=\"display: none;\"></span><span class=\"MathJax\" id=\"MathJax-Element-10-Frame\" tabindex=\"0\" style=\"\"><nobr><span class=\"math\" id=\"MathJax-Span-189\" style=\"width: 6.806em; display: inline-block;\"><span style=\"display: inline-block; position: relative; width: 5.392em; height: 0px; font-size: 126%;\"><span style=\"position: absolute; clip: rect(1.418em, 1005.39em, 3.169em, -999.997em); top: -2.556em; left: 0em;\"><span class=\"mrow\" id=\"MathJax-Span-190\"><span class=\"mi\" id=\"MathJax-Span-191\" style=\"font-family: STIXGeneral-Italic;\">C<span style=\"display: inline-block; overflow: hidden; height: 1px; width: 0.003em;\"></span></span><span class=\"mi\" id=\"MathJax-Span-192\" style=\"font-family: STIXGeneral-Italic;\">L<span style=\"display: inline-block; overflow: hidden; height: 1px; width: 0.003em;\"></span></span><span class=\"mi\" id=\"MathJax-Span-193\" style=\"font-family: STIXGeneral-Italic;\">A</span><span class=\"mo\" id=\"MathJax-Span-194\" style=\"font-family: STIXGeneral-Regular; padding-left: 0.34em;\">=</span><span class=\"texatom\" id=\"MathJax-Span-195\" style=\"padding-left: 0.34em;\"><span class=\"mrow\" id=\"MathJax-Span-196\"><span class=\"mfrac\" id=\"MathJax-Span-197\"><span style=\"display: inline-block; position: relative; width: 1.889em; height: 0px; margin-right: 0.138em; margin-left: 0.138em;\"><span style=\"position: absolute; clip: rect(3.304em, 1001.35em, 4.179em, -999.997em); top: -4.442em; left: 50%; margin-left: -0.67em;\"><span class=\"mrow\" id=\"MathJax-Span-198\"><span class=\"mi\" id=\"MathJax-Span-199\" style=\"font-size: 70.7%; font-family: STIXGeneral-Italic;\">T<span style=\"display: inline-block; overflow: hidden; height: 1px; width: 0.071em;\"></span></span><span class=\"mi\" id=\"MathJax-Span-200\" style=\"font-size: 70.7%; font-family: STIXGeneral-Italic;\">N<span style=\"display: inline-block; overflow: hidden; height: 1px; width: 0.071em;\"></span></span><span class=\"mi\" id=\"MathJax-Span-201\" style=\"font-size: 70.7%; font-family: STIXGeneral-Italic;\">A</span></span><span style=\"display: inline-block; width: 0px; height: 3.977em;\"></span></span><span style=\"position: absolute; clip: rect(3.304em, 1001.75em, 4.179em, -999.997em); top: -3.566em; left: 50%; margin-left: -0.872em;\"><span class=\"mrow\" id=\"MathJax-Span-202\"><span class=\"mi\" id=\"MathJax-Span-203\" style=\"font-size: 70.7%; font-family: STIXGeneral-Italic;\">N<span style=\"display: inline-block; overflow: hidden; height: 1px; width: 0.071em;\"></span></span><span class=\"mi\" id=\"MathJax-Span-204\" style=\"font-size: 70.7%; font-family: STIXGeneral-Italic;\">S<span style=\"display: inline-block; overflow: hidden; height: 1px; width: 0.003em;\"></span></span><span class=\"mi\" id=\"MathJax-Span-205\" style=\"font-size: 70.7%; font-family: STIXGeneral-Italic;\">F<span style=\"display: inline-block; overflow: hidden; height: 1px; width: 0.003em;\"></span></span><span class=\"mi\" id=\"MathJax-Span-206\" style=\"font-size: 70.7%; font-family: STIXGeneral-Italic;\">A</span></span><span style=\"display: inline-block; width: 0px; height: 3.977em;\"></span></span><span style=\"position: absolute; clip: rect(0.812em, 1001.89em, 1.283em, -999.997em); top: -1.276em; left: 0em;\"><span style=\"display: inline-block; overflow: hidden; vertical-align: 0em; border-top: 1.3px solid; width: 1.889em; height: 0px;\"></span><span style=\"display: inline-block; width: 0px; height: 1.081em;\"></span></span></span></span></span></span></span><span style=\"display: inline-block; width: 0px; height: 2.563em;\"></span></span></span><span style=\"display: inline-block; overflow: hidden; vertical-align: -0.59em; border-left: 0px solid; width: 0px; height: 1.871em;\"></span></span></nobr></span><script type=\"math/tex\" id=\"MathJax-Element-10\">CLA = {TNA \\over NSFA}</script></tex-math></inline-formula></td>\n",
    "</tr>\n",
    "<tr>\n",
    "<td rowspan=\"3\">Activities</td>\n",
    "<td>TNT</td>\n",
    "<td>Total Number of Tasks</td>\n",
    "</tr>\n",
    "<tr>\n",
    "<td>TNCS</td>\n",
    "<td>Total Number of Collapsed Subprocess</td>\n",
    "</tr>\n",
    "<tr>\n",
    "<td>NSFA</td>\n",
    "<td>Number of Sequence Flows between Activities</td>\n",
    "<td>TNSF</td>\n",
    "<td>Total Number of Sequence Flows of the model <inline-formula id=\"\"><tex-math notation=\"TeX\"><span class=\"MathJax_Preview\" style=\"display: none;\"></span><span class=\"MathJax\" id=\"MathJax-Element-11-Frame\" tabindex=\"0\" style=\"\"><nobr><span class=\"math\" id=\"MathJax-Span-207\" style=\"width: 17.785em; display: inline-block;\"><span style=\"display: inline-block; position: relative; width: 14.08em; height: 0px; font-size: 126%;\"><span style=\"position: absolute; clip: rect(1.687em, 1014.01em, 2.832em, -999.997em); top: -2.556em; left: 0em;\"><span class=\"mrow\" id=\"MathJax-Span-208\"><span class=\"mi\" id=\"MathJax-Span-209\" style=\"font-family: STIXGeneral-Italic;\">T<span style=\"display: inline-block; overflow: hidden; height: 1px; width: 0.071em;\"></span></span><span class=\"mi\" id=\"MathJax-Span-210\" style=\"font-family: STIXGeneral-Italic;\">N<span style=\"display: inline-block; overflow: hidden; height: 1px; width: 0.071em;\"></span></span><span class=\"mi\" id=\"MathJax-Span-211\" style=\"font-family: STIXGeneral-Italic;\">S<span style=\"display: inline-block; overflow: hidden; height: 1px; width: 0.003em;\"></span></span><span class=\"mi\" id=\"MathJax-Span-212\" style=\"font-family: STIXGeneral-Italic;\">F<span style=\"display: inline-block; overflow: hidden; height: 1px; width: 0.071em;\"></span></span><span class=\"mo\" id=\"MathJax-Span-213\" style=\"font-family: STIXGeneral-Regular; padding-left: 0.34em;\">=</span><span class=\"mi\" id=\"MathJax-Span-214\" style=\"font-family: STIXGeneral-Italic; padding-left: 0.34em;\">N<span style=\"display: inline-block; overflow: hidden; height: 1px; width: 0.071em;\"></span></span><span class=\"mi\" id=\"MathJax-Span-215\" style=\"font-family: STIXGeneral-Italic;\">S<span style=\"display: inline-block; overflow: hidden; height: 1px; width: 0.003em;\"></span></span><span class=\"mi\" id=\"MathJax-Span-216\" style=\"font-family: STIXGeneral-Italic;\">F<span style=\"display: inline-block; overflow: hidden; height: 1px; width: 0.071em;\"></span></span><span class=\"mi\" id=\"MathJax-Span-217\" style=\"font-family: STIXGeneral-Italic;\">G</span><span class=\"mo\" id=\"MathJax-Span-218\" style=\"font-family: STIXGeneral-Regular; padding-left: 0.273em;\">+</span><span class=\"mi\" id=\"MathJax-Span-219\" style=\"font-family: STIXGeneral-Italic; padding-left: 0.273em;\">N<span style=\"display: inline-block; overflow: hidden; height: 1px; width: 0.071em;\"></span></span><span class=\"mi\" id=\"MathJax-Span-220\" style=\"font-family: STIXGeneral-Italic;\">S<span style=\"display: inline-block; overflow: hidden; height: 1px; width: 0.003em;\"></span></span><span class=\"mi\" id=\"MathJax-Span-221\" style=\"font-family: STIXGeneral-Italic;\">F<span style=\"display: inline-block; overflow: hidden; height: 1px; width: 0.071em;\"></span></span><span class=\"mi\" id=\"MathJax-Span-222\" style=\"font-family: STIXGeneral-Italic;\">E<span style=\"display: inline-block; overflow: hidden; height: 1px; width: 0.003em;\"></span></span><span class=\"mo\" id=\"MathJax-Span-223\" style=\"font-family: STIXGeneral-Regular; padding-left: 0.273em;\">+</span><span class=\"mi\" id=\"MathJax-Span-224\" style=\"font-family: STIXGeneral-Italic; padding-left: 0.273em;\">N<span style=\"display: inline-block; overflow: hidden; height: 1px; width: 0.071em;\"></span></span><span class=\"mi\" id=\"MathJax-Span-225\" style=\"font-family: STIXGeneral-Italic;\">S<span style=\"display: inline-block; overflow: hidden; height: 1px; width: 0.003em;\"></span></span><span class=\"mi\" id=\"MathJax-Span-226\" style=\"font-family: STIXGeneral-Italic;\">F<span style=\"display: inline-block; overflow: hidden; height: 1px; width: 0.071em;\"></span></span><span class=\"mi\" id=\"MathJax-Span-227\" style=\"font-family: STIXGeneral-Italic;\">A</span></span><span style=\"display: inline-block; width: 0px; height: 2.563em;\"></span></span></span><span style=\"display: inline-block; overflow: hidden; vertical-align: -0.165em; border-left: 0px solid; width: 0px; height: 1.107em;\"></span></span></nobr></span><script type=\"math/tex\" id=\"MathJax-Element-11\">TNSF = NSFG + NSFE + NSFA</script></tex-math></inline-formula></td>\n",
    "</tr>\n",
    "</tbody>\n",
    "</table>\n",
    "\n",
    "Of the 29 measures analyzed, and after carrying out a correlation and a principal components analysis of the variables, we know that 12 of the measures (TNSF, TNE, NSFE, TNG, NMF, NEDDB, CLP, NL, NSFG, NDOOut, TNDO, NDOIn and NSFE) are extremely useful for predicting the three aspects of Understandability of a business process model.\n",
    "\n",
    "Rolón, E., Sánchez, L., García, F., Ruiz, F., Piattini, M., Caivano, D., & Visaggio, G. (2009). Prediction models for BPMN usability and maintainability. 2009 IEEE Conference on Commerce and Enterprise Computing, CEC 2009, 383–390. https://doi.org/10.1109/CEC.2009.53"
   ]
  },
  {
   "cell_type": "markdown",
   "metadata": {},
   "source": [
    "TNSF\tTotal Number of Sequence Flows of the model  TNSF=NSFG+NSFE+NSFA\n",
    "\n",
    "TNE\t    Total Number of Events of the Model  TNE=NTSE+NTIE+TNEE\n",
    "\n",
    "NSFE\tNumber of Sequence Flows from events\n",
    "\n",
    "TNG\t    Total Number of Gateways  TNG=NEDDB+NEDEB+NID+NCD+NPF\n",
    "\n",
    "NMF\t    Number of Message Flows between Participants\n",
    "\n",
    "NEDDB\tNumber of Exclusive Data Based Decision\n",
    "\n",
    "CLP\t    Connectivity level between Participants  CLP=NMFNP/NP\n",
    "\n",
    "NL\t    Number of Lanes\n",
    "\n",
    "NSFG\tNumber of Sequence Flows from Gateways\n",
    "\n",
    "NDOOut\tNumber of Data Objects of Output to activities\n",
    "\n",
    "TNDO\tTotal Number of Data Objects of the Model  TNDO=NDOIn+NDOOut\n",
    "\n",
    "NDOIn\tNumber of Data Objects of Input to activities\n"
   ]
  },
  {
   "cell_type": "code",
   "execution_count": 52,
   "metadata": {},
   "outputs": [],
   "source": [
    "# !pip install git+https://github.com/pm4py/pm4py-bpmn"
   ]
  },
  {
   "cell_type": "code",
   "execution_count": 53,
   "metadata": {},
   "outputs": [],
   "source": [
    "# !pip install bpmn_python"
   ]
  },
  {
   "cell_type": "code",
   "execution_count": 93,
   "metadata": {},
   "outputs": [],
   "source": [
    "import os\n",
    "import traceback\n",
    "from pm4pybpmn.objects.bpmn.importer import bpmn20 as bpmn_importer\n",
    "from pm4pybpmn.visualization.bpmn import factory as bpmn_vis_factory\n",
    "from pm4pybpmn.objects.bpmn.exporter import bpmn20 as bpmn_exporter\n",
    "from pm4pybpmn.objects.conversion.bpmn_to_petri import factory as bpmn_to_petri"
   ]
  },
  {
   "cell_type": "code",
   "execution_count": 94,
   "metadata": {},
   "outputs": [],
   "source": [
    "from bpmn_python import bpmn_diagram_metrics"
   ]
  },
  {
   "cell_type": "code",
   "execution_count": 95,
   "metadata": {},
   "outputs": [],
   "source": [
    "def calcmetrics(bpmn_graph):\n",
    "    try:\n",
    "        AverageGatewayDegree_metric = bpmn_diagram_metrics.AverageGatewayDegree_metric(bpmn_graph)\n",
    "    except ZeroDivisionError:\n",
    "        AverageGatewayDegree_metric = None\n",
    "    except KeyError:\n",
    "        AverageGatewayDegree_metric = None\n",
    "    CoefficientOfNetworkComplexity_metric = bpmn_diagram_metrics.CoefficientOfNetworkComplexity_metric(bpmn_graph)\n",
    "    try:\n",
    "        DurfeeSquare_metric = bpmn_diagram_metrics.DurfeeSquare_metric(bpmn_graph)\n",
    "    except KeyError:\n",
    "        DurfeeSquare_metric = None\n",
    "    GatewayHeterogenity_metric = bpmn_diagram_metrics.GatewayHeterogenity_metric(bpmn_graph)\n",
    "    NOAC_metric = bpmn_diagram_metrics.NOAC_metric(bpmn_graph)\n",
    "    NOAJS_metric = bpmn_diagram_metrics.NOAJS_metric(bpmn_graph)\n",
    "    NOA_metric = bpmn_diagram_metrics.NOA_metric(bpmn_graph)\n",
    "    NumberOfNodes_metric = bpmn_diagram_metrics.NumberOfNodes_metric(bpmn_graph)\n",
    "    try:\n",
    "        PerfectSquare_metric = bpmn_diagram_metrics.PerfectSquare_metric(bpmn_graph)\n",
    "    except KeyError:\n",
    "        PerfectSquare_metric = None\n",
    "    TNEE_metric = bpmn_diagram_metrics.TNEE_metric(bpmn_graph)\n",
    "    TNE_metric = bpmn_diagram_metrics.TNE_metric(bpmn_graph)\n",
    "    TNIE_metric = bpmn_diagram_metrics.TNIE_metric(bpmn_graph)\n",
    "    TNSE_metric = bpmn_diagram_metrics.TNSE_metric(bpmn_graph)\n",
    "    all_activities_count = bpmn_diagram_metrics.all_activities_count(bpmn_graph)\n",
    "    all_control_flow_elements_count = bpmn_diagram_metrics.all_control_flow_elements_count(bpmn_graph)\n",
    "    all_events_count = bpmn_diagram_metrics.all_events_count(bpmn_graph)\n",
    "    all_gateways_count = bpmn_diagram_metrics.all_gateways_count(bpmn_graph)\n",
    "    \n",
    "    # get_activities_counts = bpmn_diagram_metrics.get_activities_counts(bpmn_graph)\n",
    "    # get_all_gateways = bpmn_diagram_metrics.get_all_gateways(bpmn_graph)\n",
    "    # get_events_counts = bpmn_diagram_metrics.get_events_counts(bpmn_graph)\n",
    "    # get_gateway_counts = bpmn_diagram_metrics.get_gateway_counts(bpmn_graph)\n",
    "    # get_nodes_count = bpmn_diagram_metrics.get_nodes_count(bpmn_graph, node_type=None)\n",
    "\n",
    "    metriclist = [AverageGatewayDegree_metric, CoefficientOfNetworkComplexity_metric, DurfeeSquare_metric,\n",
    "    GatewayHeterogenity_metric, NOAC_metric, NOAJS_metric, NOA_metric, NumberOfNodes_metric,\n",
    "    PerfectSquare_metric, TNEE_metric, TNE_metric, TNIE_metric, TNSE_metric,\n",
    "    all_activities_count, all_control_flow_elements_count, all_events_count,\n",
    "    all_gateways_count]\n",
    "    # get_activities_counts, get_all_gateways, get_events_counts, get_gateway_counts, get_nodes_count\n",
    "    return metriclist"
   ]
  },
  {
   "cell_type": "code",
   "execution_count": 103,
   "metadata": {},
   "outputs": [],
   "source": [
    "# bpmnfilelist[1][:int(str(bpmnfilelist[1]).rfind(\"/\"))]"
   ]
  },
  {
   "cell_type": "code",
   "execution_count": 96,
   "metadata": {},
   "outputs": [],
   "source": [
    "metric_collection = []\n",
    "for file in bpmnfilelist:\n",
    "    bpmn_graph = bpmn_importer.import_bpmn(file)\n",
    "#     print(_file)\n",
    "    bpmn_graph = bpmn_vis_factory.apply_embedding(bpmn_graph, variant=\"performance\")\n",
    "#     bpmn_exporter.export_bpmn(bpmn_graph, bpmnfilelist[1][:int(str(bpmnfilelist[1]).rfind(\"/\"))]+\"/\"\n",
    "#        +str(str(file).split(\"/\")[-1]).split(\".iflw\")[0]+\"_graph.bpmn\")\n",
    "    \n",
    "    try:\n",
    "        metrics = calcmetrics(bpmn_graph)\n",
    "        metrics.append(file)\n",
    "        metric_collection.append(metrics)\n",
    "    except: \n",
    "        traceback.print_exc()\n",
    "#         print(\"{} errored\".format(file))\n",
    "    \n",
    "colls = [\"AverageGatewayDegree_metric\",\"CoefficientOfNetworkComplexity_metric\",\"DurfeeSquare_metric\",\n",
    "          \"GatewayHeterogenity_metric\",\"NOAC_metric\",\"NOAJS_metric\",\"NOA_metric\",\"NumberOfNodes_metric\",\n",
    "          \"PerfectSquare_metric\",\"TNEE_metric\",\"TNE_metric\",\"TNIE_metric\",\"TNSE_metric\",\"all_activities_count\",\n",
    "          \"all_control_flow_elements_count\",\"all_events_count\",\"all_gateways_count\", \"file\"]\n",
    "\n",
    "bpmn_complexity_df = pd.DataFrame(data=metric_collection, columns=colls)\n",
    "bpmn_complexity_df.to_csv(\"../generateddata/qasbpmn_complexity.csv\")"
   ]
  },
  {
   "cell_type": "code",
   "execution_count": 97,
   "metadata": {},
   "outputs": [
    {
     "data": {
      "text/html": [
       "<div>\n",
       "<style scoped>\n",
       "    .dataframe tbody tr th:only-of-type {\n",
       "        vertical-align: middle;\n",
       "    }\n",
       "\n",
       "    .dataframe tbody tr th {\n",
       "        vertical-align: top;\n",
       "    }\n",
       "\n",
       "    .dataframe thead th {\n",
       "        text-align: right;\n",
       "    }\n",
       "</style>\n",
       "<table border=\"1\" class=\"dataframe\">\n",
       "  <thead>\n",
       "    <tr style=\"text-align: right;\">\n",
       "      <th></th>\n",
       "      <th>AverageGatewayDegree_metric</th>\n",
       "      <th>CoefficientOfNetworkComplexity_metric</th>\n",
       "      <th>DurfeeSquare_metric</th>\n",
       "      <th>GatewayHeterogenity_metric</th>\n",
       "      <th>NOAC_metric</th>\n",
       "      <th>NOAJS_metric</th>\n",
       "      <th>NOA_metric</th>\n",
       "      <th>NumberOfNodes_metric</th>\n",
       "      <th>PerfectSquare_metric</th>\n",
       "      <th>TNEE_metric</th>\n",
       "      <th>TNE_metric</th>\n",
       "      <th>TNIE_metric</th>\n",
       "      <th>TNSE_metric</th>\n",
       "      <th>all_activities_count</th>\n",
       "      <th>all_control_flow_elements_count</th>\n",
       "      <th>all_events_count</th>\n",
       "      <th>all_gateways_count</th>\n",
       "    </tr>\n",
       "  </thead>\n",
       "  <tbody>\n",
       "    <tr>\n",
       "      <th>count</th>\n",
       "      <td>217.000000</td>\n",
       "      <td>456.000000</td>\n",
       "      <td>456.000000</td>\n",
       "      <td>456.000000</td>\n",
       "      <td>456.000000</td>\n",
       "      <td>456.000000</td>\n",
       "      <td>456.000000</td>\n",
       "      <td>456.000000</td>\n",
       "      <td>456.000000</td>\n",
       "      <td>456.000000</td>\n",
       "      <td>456.000000</td>\n",
       "      <td>456.0</td>\n",
       "      <td>456.000000</td>\n",
       "      <td>456.000000</td>\n",
       "      <td>456.000000</td>\n",
       "      <td>456.000000</td>\n",
       "      <td>456.000000</td>\n",
       "    </tr>\n",
       "    <tr>\n",
       "      <th>mean</th>\n",
       "      <td>3.362681</td>\n",
       "      <td>0.885157</td>\n",
       "      <td>2.682018</td>\n",
       "      <td>0.557018</td>\n",
       "      <td>8.774123</td>\n",
       "      <td>1.673246</td>\n",
       "      <td>0.532895</td>\n",
       "      <td>8.774123</td>\n",
       "      <td>3.570175</td>\n",
       "      <td>4.118421</td>\n",
       "      <td>7.100877</td>\n",
       "      <td>0.0</td>\n",
       "      <td>2.982456</td>\n",
       "      <td>0.532895</td>\n",
       "      <td>8.241228</td>\n",
       "      <td>7.100877</td>\n",
       "      <td>1.140351</td>\n",
       "    </tr>\n",
       "    <tr>\n",
       "      <th>std</th>\n",
       "      <td>0.999185</td>\n",
       "      <td>0.098864</td>\n",
       "      <td>1.032326</td>\n",
       "      <td>0.640257</td>\n",
       "      <td>10.496858</td>\n",
       "      <td>2.693220</td>\n",
       "      <td>1.128557</td>\n",
       "      <td>10.496858</td>\n",
       "      <td>1.727448</td>\n",
       "      <td>4.827487</td>\n",
       "      <td>8.051122</td>\n",
       "      <td>0.0</td>\n",
       "      <td>3.390309</td>\n",
       "      <td>1.128557</td>\n",
       "      <td>9.608086</td>\n",
       "      <td>8.051122</td>\n",
       "      <td>1.960611</td>\n",
       "    </tr>\n",
       "    <tr>\n",
       "      <th>min</th>\n",
       "      <td>3.000000</td>\n",
       "      <td>0.250000</td>\n",
       "      <td>1.000000</td>\n",
       "      <td>0.000000</td>\n",
       "      <td>2.000000</td>\n",
       "      <td>0.000000</td>\n",
       "      <td>0.000000</td>\n",
       "      <td>2.000000</td>\n",
       "      <td>1.000000</td>\n",
       "      <td>1.000000</td>\n",
       "      <td>2.000000</td>\n",
       "      <td>0.0</td>\n",
       "      <td>1.000000</td>\n",
       "      <td>0.000000</td>\n",
       "      <td>2.000000</td>\n",
       "      <td>2.000000</td>\n",
       "      <td>0.000000</td>\n",
       "    </tr>\n",
       "    <tr>\n",
       "      <th>25%</th>\n",
       "      <td>3.000000</td>\n",
       "      <td>0.840000</td>\n",
       "      <td>2.000000</td>\n",
       "      <td>0.000000</td>\n",
       "      <td>2.000000</td>\n",
       "      <td>0.000000</td>\n",
       "      <td>0.000000</td>\n",
       "      <td>2.000000</td>\n",
       "      <td>2.000000</td>\n",
       "      <td>1.000000</td>\n",
       "      <td>2.000000</td>\n",
       "      <td>0.0</td>\n",
       "      <td>1.000000</td>\n",
       "      <td>0.000000</td>\n",
       "      <td>2.000000</td>\n",
       "      <td>2.000000</td>\n",
       "      <td>0.000000</td>\n",
       "    </tr>\n",
       "    <tr>\n",
       "      <th>50%</th>\n",
       "      <td>3.000000</td>\n",
       "      <td>0.876276</td>\n",
       "      <td>2.000000</td>\n",
       "      <td>0.000000</td>\n",
       "      <td>4.000000</td>\n",
       "      <td>1.000000</td>\n",
       "      <td>0.000000</td>\n",
       "      <td>4.000000</td>\n",
       "      <td>3.000000</td>\n",
       "      <td>2.000000</td>\n",
       "      <td>4.000000</td>\n",
       "      <td>0.0</td>\n",
       "      <td>1.000000</td>\n",
       "      <td>0.000000</td>\n",
       "      <td>4.000000</td>\n",
       "      <td>4.000000</td>\n",
       "      <td>0.000000</td>\n",
       "    </tr>\n",
       "    <tr>\n",
       "      <th>75%</th>\n",
       "      <td>3.166667</td>\n",
       "      <td>0.909091</td>\n",
       "      <td>3.000000</td>\n",
       "      <td>1.000000</td>\n",
       "      <td>11.000000</td>\n",
       "      <td>2.000000</td>\n",
       "      <td>1.000000</td>\n",
       "      <td>11.000000</td>\n",
       "      <td>4.000000</td>\n",
       "      <td>5.000000</td>\n",
       "      <td>9.000000</td>\n",
       "      <td>0.0</td>\n",
       "      <td>4.000000</td>\n",
       "      <td>1.000000</td>\n",
       "      <td>10.000000</td>\n",
       "      <td>9.000000</td>\n",
       "      <td>1.000000</td>\n",
       "    </tr>\n",
       "    <tr>\n",
       "      <th>max</th>\n",
       "      <td>11.500000</td>\n",
       "      <td>1.357143</td>\n",
       "      <td>6.000000</td>\n",
       "      <td>2.000000</td>\n",
       "      <td>76.000000</td>\n",
       "      <td>19.000000</td>\n",
       "      <td>11.000000</td>\n",
       "      <td>76.000000</td>\n",
       "      <td>8.000000</td>\n",
       "      <td>30.000000</td>\n",
       "      <td>57.000000</td>\n",
       "      <td>0.0</td>\n",
       "      <td>27.000000</td>\n",
       "      <td>11.000000</td>\n",
       "      <td>65.000000</td>\n",
       "      <td>57.000000</td>\n",
       "      <td>14.000000</td>\n",
       "    </tr>\n",
       "  </tbody>\n",
       "</table>\n",
       "</div>"
      ],
      "text/plain": [
       "       AverageGatewayDegree_metric  CoefficientOfNetworkComplexity_metric  \\\n",
       "count                   217.000000                             456.000000   \n",
       "mean                      3.362681                               0.885157   \n",
       "std                       0.999185                               0.098864   \n",
       "min                       3.000000                               0.250000   \n",
       "25%                       3.000000                               0.840000   \n",
       "50%                       3.000000                               0.876276   \n",
       "75%                       3.166667                               0.909091   \n",
       "max                      11.500000                               1.357143   \n",
       "\n",
       "       DurfeeSquare_metric  GatewayHeterogenity_metric  NOAC_metric  \\\n",
       "count           456.000000                  456.000000   456.000000   \n",
       "mean              2.682018                    0.557018     8.774123   \n",
       "std               1.032326                    0.640257    10.496858   \n",
       "min               1.000000                    0.000000     2.000000   \n",
       "25%               2.000000                    0.000000     2.000000   \n",
       "50%               2.000000                    0.000000     4.000000   \n",
       "75%               3.000000                    1.000000    11.000000   \n",
       "max               6.000000                    2.000000    76.000000   \n",
       "\n",
       "       NOAJS_metric  NOA_metric  NumberOfNodes_metric  PerfectSquare_metric  \\\n",
       "count    456.000000  456.000000            456.000000            456.000000   \n",
       "mean       1.673246    0.532895              8.774123              3.570175   \n",
       "std        2.693220    1.128557             10.496858              1.727448   \n",
       "min        0.000000    0.000000              2.000000              1.000000   \n",
       "25%        0.000000    0.000000              2.000000              2.000000   \n",
       "50%        1.000000    0.000000              4.000000              3.000000   \n",
       "75%        2.000000    1.000000             11.000000              4.000000   \n",
       "max       19.000000   11.000000             76.000000              8.000000   \n",
       "\n",
       "       TNEE_metric  TNE_metric  TNIE_metric  TNSE_metric  \\\n",
       "count   456.000000  456.000000        456.0   456.000000   \n",
       "mean      4.118421    7.100877          0.0     2.982456   \n",
       "std       4.827487    8.051122          0.0     3.390309   \n",
       "min       1.000000    2.000000          0.0     1.000000   \n",
       "25%       1.000000    2.000000          0.0     1.000000   \n",
       "50%       2.000000    4.000000          0.0     1.000000   \n",
       "75%       5.000000    9.000000          0.0     4.000000   \n",
       "max      30.000000   57.000000          0.0    27.000000   \n",
       "\n",
       "       all_activities_count  all_control_flow_elements_count  \\\n",
       "count            456.000000                       456.000000   \n",
       "mean               0.532895                         8.241228   \n",
       "std                1.128557                         9.608086   \n",
       "min                0.000000                         2.000000   \n",
       "25%                0.000000                         2.000000   \n",
       "50%                0.000000                         4.000000   \n",
       "75%                1.000000                        10.000000   \n",
       "max               11.000000                        65.000000   \n",
       "\n",
       "       all_events_count  all_gateways_count  \n",
       "count        456.000000          456.000000  \n",
       "mean           7.100877            1.140351  \n",
       "std            8.051122            1.960611  \n",
       "min            2.000000            0.000000  \n",
       "25%            2.000000            0.000000  \n",
       "50%            4.000000            0.000000  \n",
       "75%            9.000000            1.000000  \n",
       "max           57.000000           14.000000  "
      ]
     },
     "execution_count": 97,
     "metadata": {},
     "output_type": "execute_result"
    }
   ],
   "source": [
    "bpmn_complexity_df.describe()"
   ]
  },
  {
   "cell_type": "markdown",
   "metadata": {},
   "source": [
    "# WSDL"
   ]
  },
  {
   "cell_type": "code",
   "execution_count": 98,
   "metadata": {},
   "outputs": [],
   "source": [
    "def parse_wsdl_XML(wsdl_file): \n",
    "#     print(xml_file)\n",
    "    xtree = et.parse(wsdl_file)\n",
    "    xroot = xtree.getroot()\n",
    "    return xroot\n",
    "#     return extractWSDLSequence(xroot, wsdl_file)"
   ]
  },
  {
   "cell_type": "code",
   "execution_count": 99,
   "metadata": {},
   "outputs": [
    {
     "data": {
      "text/plain": [
       "<Element '{http://schemas.xmlsoap.org/wsdl/}definitions' at 0x11e91dd68>"
      ]
     },
     "execution_count": 99,
     "metadata": {},
     "output_type": "execute_result"
    }
   ],
   "source": [
    "parse_wsdl_XML(wsdlfilelist[58])"
   ]
  },
  {
   "cell_type": "code",
   "execution_count": 6,
   "metadata": {},
   "outputs": [],
   "source": [
    "# wsdlfilelist[58]"
   ]
  },
  {
   "cell_type": "code",
   "execution_count": 101,
   "metadata": {},
   "outputs": [
    {
     "data": {
      "application/vnd.jupyter.widget-view+json": {
       "model_id": "",
       "version_major": 2,
       "version_minor": 0
      },
      "text/plain": [
       "HBox(children=(IntProgress(value=0, max=953), HTML(value='')))"
      ]
     },
     "metadata": {},
     "output_type": "display_data"
    },
    {
     "name": "stderr",
     "output_type": "stream",
     "text": [
      "/Users/max/anaconda3/lib/python3.7/site-packages/ipykernel_launcher.py:4: RuntimeWarning:\n",
      "\n",
      "invalid value encountered in double_scalars\n",
      "\n"
     ]
    }
   ],
   "source": [
    "complexity_value_dict = []\n",
    "pbar = tqdm(total=len(wsdlfilelist), leave=False)\n",
    "pbar.set_description(desc='Processing wsdls', refresh=True)\n",
    "for i in wsdlfilelist:\n",
    "    try:\n",
    "        complexityvalue = complexity(i)\n",
    "    except:\n",
    "        pass\n",
    "    complexity_value_dict.append(complexityvalue)\n",
    "    pbar.update(1)\n",
    "pbar.close()\n",
    "combinedcomplexitydf = pd.DataFrame(complexity_value_dict)"
   ]
  },
  {
   "cell_type": "code",
   "execution_count": 102,
   "metadata": {},
   "outputs": [],
   "source": [
    "combinedcomplexitydf.to_csv(\"../generateddata/qaswsdl-xsdcomplexity.csv\")"
   ]
  },
  {
   "cell_type": "markdown",
   "metadata": {},
   "source": [
    "Argument per Operation (APO): Given total number of\n",
    "arguments ($n_a$) in total number of operations ($n_o$) described\n",
    "in WSDL is used for measuring the size of web service and\n",
    "defined as:\n",
    "$$ APO = { N_a\\over  N_o} $$\n"
   ]
  },
  {
   "cell_type": "code",
   "execution_count": 104,
   "metadata": {},
   "outputs": [],
   "source": [
    "def getOperationCount(file):    \n",
    "    xtree = et.parse(file)\n",
    "    operations = 0\n",
    "    inputs = 0\n",
    "    for j in xtree.iterfind('.//{http://schemas.xmlsoap.org/wsdl/}operation'):\n",
    "        operations += 1\n",
    "    for k in xtree.iterfind('.//{http://schemas.xmlsoap.org/wsdl/}input'):\n",
    "        inputs += 1\n",
    "    return operations, inputs"
   ]
  },
  {
   "cell_type": "markdown",
   "metadata": {},
   "source": [
    "\n",
    "Operations Per Service (OPS): Similar to the OO metric\n",
    "WMC (Weight Method Per Class) operation per service is\n",
    "defined as the total count of operations that are declared by a\n",
    "PortType of a Web service and intended to measure the size\n",
    "of a given WSDL document. \n",
    "$$ OPS $$\n",
    "\n"
   ]
  },
  {
   "cell_type": "code",
   "execution_count": 105,
   "metadata": {},
   "outputs": [],
   "source": [
    "def getOPS(file):    \n",
    "    xtree = et.parse(file)\n",
    "    porttype = 0\n",
    "    operations = 0\n",
    "    for j in xtree.iterfind('.//{http://schemas.xmlsoap.org/wsdl/}portType'):\n",
    "        porttype += 1\n",
    "    for k in xtree.iterfind('.//{http://schemas.xmlsoap.org/wsdl/}operation'):\n",
    "        operations += 1\n",
    "    try:\n",
    "        OPS = operations/porttype\n",
    "    except ZeroDivisionError:\n",
    "        OPS = None\n",
    "    return OPS"
   ]
  },
  {
   "cell_type": "code",
   "execution_count": 106,
   "metadata": {},
   "outputs": [
    {
     "data": {
      "application/vnd.jupyter.widget-view+json": {
       "model_id": "",
       "version_major": 2,
       "version_minor": 0
      },
      "text/plain": [
       "HBox(children=(IntProgress(value=0, max=953), HTML(value='')))"
      ]
     },
     "metadata": {},
     "output_type": "display_data"
    }
   ],
   "source": [
    "wsdl_apo_value_dict = {\"file\":[],\"APO\":[],\"OPS\":[]}\n",
    "pbar = tqdm(total=len(wsdlfilelist), leave=False)\n",
    "pbar.set_description(desc='Processing wsdls', refresh=True)\n",
    "for i in wsdlfilelist:\n",
    "    try:\n",
    "        operations, arguments = getOperationCount(i)\n",
    "        APO = arguments/operations\n",
    "        wsdl_apo_value_dict['file'].append(i)\n",
    "        wsdl_apo_value_dict['APO'].append(APO)\n",
    "        wsdl_apo_value_dict['OPS'].append(getOPS(i))\n",
    "    except:\n",
    "        pass\n",
    "    pbar.update(1)\n",
    "pbar.close()\n",
    "wsdldf = pd.DataFrame(wsdl_apo_value_dict)"
   ]
  },
  {
   "cell_type": "code",
   "execution_count": 107,
   "metadata": {},
   "outputs": [
    {
     "data": {
      "text/html": [
       "<div>\n",
       "<style scoped>\n",
       "    .dataframe tbody tr th:only-of-type {\n",
       "        vertical-align: middle;\n",
       "    }\n",
       "\n",
       "    .dataframe tbody tr th {\n",
       "        vertical-align: top;\n",
       "    }\n",
       "\n",
       "    .dataframe thead th {\n",
       "        text-align: right;\n",
       "    }\n",
       "</style>\n",
       "<table border=\"1\" class=\"dataframe\">\n",
       "  <thead>\n",
       "    <tr style=\"text-align: right;\">\n",
       "      <th></th>\n",
       "      <th>APO</th>\n",
       "      <th>OPS</th>\n",
       "    </tr>\n",
       "  </thead>\n",
       "  <tbody>\n",
       "    <tr>\n",
       "      <th>count</th>\n",
       "      <td>471.000000</td>\n",
       "      <td>471.000000</td>\n",
       "    </tr>\n",
       "    <tr>\n",
       "      <th>mean</th>\n",
       "      <td>0.997169</td>\n",
       "      <td>9.552017</td>\n",
       "    </tr>\n",
       "    <tr>\n",
       "      <th>std</th>\n",
       "      <td>0.043396</td>\n",
       "      <td>20.636630</td>\n",
       "    </tr>\n",
       "    <tr>\n",
       "      <th>min</th>\n",
       "      <td>0.333333</td>\n",
       "      <td>1.000000</td>\n",
       "    </tr>\n",
       "    <tr>\n",
       "      <th>25%</th>\n",
       "      <td>1.000000</td>\n",
       "      <td>2.000000</td>\n",
       "    </tr>\n",
       "    <tr>\n",
       "      <th>50%</th>\n",
       "      <td>1.000000</td>\n",
       "      <td>2.000000</td>\n",
       "    </tr>\n",
       "    <tr>\n",
       "      <th>75%</th>\n",
       "      <td>1.000000</td>\n",
       "      <td>3.000000</td>\n",
       "    </tr>\n",
       "    <tr>\n",
       "      <th>max</th>\n",
       "      <td>1.000000</td>\n",
       "      <td>126.000000</td>\n",
       "    </tr>\n",
       "  </tbody>\n",
       "</table>\n",
       "</div>"
      ],
      "text/plain": [
       "              APO         OPS\n",
       "count  471.000000  471.000000\n",
       "mean     0.997169    9.552017\n",
       "std      0.043396   20.636630\n",
       "min      0.333333    1.000000\n",
       "25%      1.000000    2.000000\n",
       "50%      1.000000    2.000000\n",
       "75%      1.000000    3.000000\n",
       "max      1.000000  126.000000"
      ]
     },
     "execution_count": 107,
     "metadata": {},
     "output_type": "execute_result"
    }
   ],
   "source": [
    "wsdldf.describe()"
   ]
  },
  {
   "cell_type": "markdown",
   "metadata": {},
   "source": [
    "Definition 1: DW(wsdl) Given a WSDL document\n",
    "having $n_m$ number of messages in total, Weight of WSDL\n",
    "metric is defined as\n",
    "$$ DW(wsdl) = \\sum_{i=1}^{n_m} C(M_i) $$\n",
    "\n"
   ]
  },
  {
   "cell_type": "code",
   "execution_count": 108,
   "metadata": {},
   "outputs": [],
   "source": [
    "def DW(file): \n",
    "    csum = 0\n",
    "    xtree = et.parse(file)\n",
    "    for m in xtree.iterfind('.//{http://schemas.xmlsoap.org/wsdl/}message'):\n",
    "        csum += C(m)"
   ]
  },
  {
   "cell_type": "markdown",
   "metadata": {},
   "source": [
    "where C(Mi) is the complexity value of $i^{th}$ message and\n",
    "can be evaluated by :\n",
    "$$ C(M) = \\sum_{j=0}^{n_p-1} wp_j $$\n",
    "\n",
    "where $n_p$ is the total number of <part> elements\n",
    "encapsulated by a given message construct, and is the\n",
    "weight value of $i^{th}$ <part> definition of the messages\n",
    "exchanged. "
   ]
  },
  {
   "cell_type": "code",
   "execution_count": 109,
   "metadata": {},
   "outputs": [
    {
     "data": {
      "text/plain": [
       "9"
      ]
     },
     "execution_count": 109,
     "metadata": {},
     "output_type": "execute_result"
    }
   ],
   "source": [
    "def getElement(elementName, file):\n",
    "    xtree = et.parse(file)\n",
    "    elementName = removenamespace(elementName)\n",
    "    foundelement = None\n",
    "    try:\n",
    "        for k in xtree.iterfind('.//*[@name=\"'+str(elementName)+'\"]'):\n",
    "            tag = removenamespace(k.tag)\n",
    "            if tag not in [\"operation\",\"documentation\",\"binding\",\"input\",\"output\", \"part\", \"message\"]:\n",
    "                foundelement = k\n",
    "    except:\n",
    "        return None\n",
    "    if foundelement == None:\n",
    "        if elementName in [\"string\", \"double\", \"float\", \"boolean\", \"integer\"]:\n",
    "            return 1\n",
    "        else:\n",
    "            return None\n",
    "    return foundelement\n",
    "            \n",
    "def removenamespace(elementtag):\n",
    "    if \"}\" in elementtag:\n",
    "        elementtag=elementtag.split(\"}\")[1]\n",
    "    elif \":\" in elementtag:\n",
    "        elementtag=elementtag.split(\":\")[1]\n",
    "    return elementtag\n",
    "\n",
    "def we(xml):\n",
    "#     print(xml)\n",
    "    if xml is not None and xml is not 1:\n",
    "#         print(\"\\tComplex-Simple\")\n",
    "        simpletype = xml.find(\".{http://www.w3.org/2001/XMLSchema}simpleType\")\n",
    "        complextype = xml.find(\".{http://www.w3.org/2001/XMLSchema}complexType\")\n",
    "        if simpletype is not None:\n",
    "#             print(\"\\tsimple\")\n",
    "            return ws(simpletype)\n",
    "        elif complextype is not None:\n",
    "#             print(\"\\tcomplex\")\n",
    "            return wc(complextype)\n",
    "        else:\n",
    "#             print(\"\\telse\")\n",
    "            return 1\n",
    "    elif xml == None:\n",
    "#         print(\"none\")\n",
    "        return 0\n",
    "    else:\n",
    "#         print(\"else\")\n",
    "        return xml\n",
    "#     if \"simple\" in removenamespace(xml.tag): \n",
    "#         return ws(smth) # ws, if elements have simple- type \n",
    "#     elif \"complex\" in removenamespace(xml.tag): #toimplement #TODO \n",
    "#         return wc(smth) # if element has complex-type\n",
    "#     else:\n",
    "#         return 1\n",
    "#     #        = 1, if element is declared by using < any > element\n",
    "#     #        = 1, if element is declared by using anyType \n",
    "\n",
    "def ws(xml):\n",
    "#     print(xml)\n",
    "    tag = removenamespace(xml.tag)\n",
    "    if \"simpleType\" == tag:\n",
    "#         print(\"simple\")\n",
    "        return 1 # 1, if it is built in simple type \n",
    "    elif \"restriction\" == tag:\n",
    "#         print(\"restriction\")\n",
    "        r = 0\n",
    "        for i in xml:\n",
    "            r+=1\n",
    "        return r #  r is the number of restriction, if it is derived by restriction. \n",
    "    elif \"union\" == tag:\n",
    "#         print(\"union\")\n",
    "        return u(tag) # u if it is derived by union. \n",
    "    else:\n",
    "#         print(\"l\")\n",
    "        l = 0\n",
    "        for i in xml:\n",
    "            l += 1\n",
    "        return l # l is the weight value of item type, if it is derived by list. \n",
    "    \n",
    "def wc(xml): \n",
    "#     print(xml)\n",
    "    sumwc = 0\n",
    "    for i in xml:\n",
    "#         print(i)\n",
    "#         sumwc += 1\n",
    "        for j in i:\n",
    "#             print(j)\n",
    "            sumwc += 1\n",
    "#     wc   = The weight value of a complex-type can be calculated by all its constituent component\n",
    "    return sumwc\n",
    "\n",
    "\n",
    "def u(P):\n",
    "    sumu = 0\n",
    "    for i in P:\n",
    "        sumu += 1\n",
    "    return sumu\n",
    "\n",
    "def wt(xml):\n",
    "#     print(xml)\n",
    "    if xml is not None and xml is not 1:\n",
    "#         print(\"simple/complex\")\n",
    "        simpletype = xml.find(\".{http://www.w3.org/2001/XMLSchema}simpleType\")\n",
    "        complextype = xml.find(\".{http://www.w3.org/2001/XMLSchema}complexType\")\n",
    "        if simpletype is not None:\n",
    "#             print(\"\\tsimple\")\n",
    "            return ws(simpletype)\n",
    "        elif complextype is not None:\n",
    "#             print(\"\\tcomplex\")\n",
    "#             print(xml)\n",
    "#             print(complextype)\n",
    "            return wc(complextype)\n",
    "        else:\n",
    "#             print(\"\\tother\")\n",
    "            return 1\n",
    "    elif xml == None:\n",
    "#         print(\"None\")\n",
    "        return 0\n",
    "    else:\n",
    "#         print(\"else\")\n",
    "        return xml\n",
    "#     if \"complex\" in removenamespace(xml.tag):\n",
    "#         return wc(smth) # wc, if the type is complex type definition (7)\n",
    "#     elif \"simple\" in removenamespace(xml.tag):\n",
    "#         return ws(smth) # ws, if the type is simple type definition (8) \n",
    "\n",
    "def CMi(filepath):\n",
    "    xtree = et.parse(filepath)\n",
    "    totalsum = 0\n",
    "    for m in xtree.iterfind('.//{http://schemas.xmlsoap.org/wsdl/}message'): #\\sum^{N_m}_{i=1}\n",
    "#         print(totalsum)\n",
    "        for j in m: #\\sum^{N_p-1}_{j=0}\n",
    "#             print(j)\n",
    "            element = j.attrib.get(\"element\", None)\n",
    "            elemtype = j.attrib.get(\"type\", None)\n",
    "            #WP: \n",
    "            if element is not None:\n",
    "#                 print(\"case1\")\n",
    "                totalsum += we(getElement(element, filepath))\n",
    "            elif elemtype is not None:\n",
    "#                 print(\"case2\")\n",
    "                totalsum += wt(getElement(elemtype, filepath))\n",
    "            else:\n",
    "                totalsum += 0\n",
    "    return totalsum\n",
    "        \n",
    "testwsdl = \"../../../Downloads/testcpi/CPI_Basis_Oefening_15b/src/main/resources/wsdl/CurrencyConvertor.wsdl\"\n",
    "CMi(testwsdl)"
   ]
  },
  {
   "cell_type": "code",
   "execution_count": 111,
   "metadata": {},
   "outputs": [],
   "source": [
    "wsdldw = {\"file\":[],\"DW\":[],\"APO\":[],\"OPS\":[]}\n",
    "for i in wsdlfilelist:\n",
    "    try:\n",
    "        operations, arguments = getOperationCount(i)\n",
    "        APO = arguments/operations\n",
    "        cm = CMi(i)\n",
    "        ops = getOPS(i)\n",
    "        wsdldw['file'].append(i)\n",
    "        wsdldw['DW'].append(cm)\n",
    "        wsdldw['APO'].append(APO)\n",
    "        wsdldw['OPS'].append(ops)\n",
    "    except:\n",
    "        pass"
   ]
  },
  {
   "cell_type": "code",
   "execution_count": 112,
   "metadata": {},
   "outputs": [],
   "source": [
    "wdsldwdf = pd.DataFrame(wsdldw)\n",
    "wdsldwdf = wdsldwdf.sort_values('APO')\n",
    "wdsldwdf.to_csv(\"../generateddata/qaswsdl_DWAPOOPS.csv\")"
   ]
  },
  {
   "cell_type": "code",
   "execution_count": 91,
   "metadata": {},
   "outputs": [],
   "source": [
    "# def C(M):\n",
    "#     sumc = 0\n",
    "#     for j in M:\n",
    "#         sumc += wp(j)\n",
    "#     return sumc\n",
    "    \n",
    "# def wp(smth):\n",
    "#     if \"part\" in str(smth):\n",
    "#         if \"element\" in smth.attrib: #toimplement #TODO\n",
    "#             return we(smth) # - if part has element reference to the schema element declaration (4)\n",
    "#         elif \"schema\" in smth.attrib: #toimplement #TODO\n",
    "#             return wt(smth) # - if part has type reference to the schema element definition (5)\n",
    "#         else:\n",
    "#             print(smth.attrib)\n",
    "#     else: \n",
    "#         return 0 # if the message has no <part> element. (6)\n",
    "\n",
    "# #TODO\n",
    "# def we(smth):\n",
    "# #     print(smth)\n",
    "# #     print(smth.attrib)\n",
    "# #     return NotImplemented\n",
    "#     if \"simple\" in smth: #toimplement #TODO\n",
    "#         return ws(smth) # ws, if elements have simple- type \n",
    "#     if \"complex\" in smth: #toimplement #TODO \n",
    "#         return wc(smth) # if element has complex-type\n",
    "#     else:\n",
    "#         return 1\n",
    "#     #        = 1, if element is declared by using < any > element\n",
    "#     #        = 1, if element is declared by using anyType \n",
    "\n",
    "\n",
    "# def wt(smth):\n",
    "#     if \"complex\" in smth:\n",
    "#         return wc(smth) # wc, if the type is complex type definition (7)\n",
    "#     elif \"simple\" in smth:\n",
    "#         return ws(smth) # ws, if the type is simple type definition (8) \n",
    "    \n",
    "# def ws(smth):\n",
    "#     if \"simple\" in smth:\n",
    "#         return 1 # 1, if it is built in simple type \n",
    "#     elif \"restriction\" in smth:\n",
    "#         r = 0\n",
    "#         for i in smth:\n",
    "#             r+=1\n",
    "#         return r #  r is the number of restriction, if it is derived by restriction. \n",
    "#     elif \"union\" in smth:\n",
    "#         return u(smth) # u if it is derived by union. \n",
    "#     else:\n",
    "#         l = 0\n",
    "#         for i in smth:\n",
    "#             l += 1\n",
    "#         return l # l is the weight value of item type, if it is derived by list. \n",
    "    \n",
    "# def u(P):\n",
    "#     sumu = 0\n",
    "#     for i in P:\n",
    "#         sumu += getweightwi(i)*1\n",
    "\n",
    "# def wc(smth): #toimplement #TODO\n",
    "# #     return NotImplemented\n",
    "#     sumwc = 0\n",
    "#     for i in smth:\n",
    "#         sumwc += getweightwi(i)\n",
    "# #     wc   = The weight value of a complex-type can be calculated by all its constituent component"
   ]
  },
  {
   "cell_type": "code",
   "execution_count": 232,
   "metadata": {},
   "outputs": [],
   "source": [
    "# for i in wsdlfilelist:\n",
    "#     xtree = et.parse(i)\n",
    "#     print(i)\n",
    "#     dw = 0\n",
    "#     for m in xtree.iterfind('.//{http://schemas.xmlsoap.org/wsdl/}message'):\n",
    "#         dw+=C(m)\n",
    "#     print(dw)"
   ]
  },
  {
   "cell_type": "markdown",
   "metadata": {},
   "source": [
    "As we stated earlier the arguments contained by the part\n",
    "elements of the messages are associated with the element\n",
    "definition/declarations or type definitions of the XSD\n",
    "schema. Since each element or type definition in the XSD\n",
    "schema is assigned to a weight value reflecting their\n",
    "complexity degrees [14] and is associated to the arguments,\n",
    "the $wp_i$ has the same weight value with the associated\n",
    "element or type definitions of XSD schema. That is\n",
    "\n",
    "    wp = we, if part has element reference to the schema element declaration (4)\n",
    "\n",
    "       = wt, if part has type reference to the schema element definition (5)\n",
    "\n",
    "       = 0, if the message has no <part> element. (6)\n",
    "    \n",
    "where $we$ is the weight value [14] of the associated\n",
    "element declaration and, $wt$ is the weight value of the\n",
    "associated type definition in the XSD schema embedded in\n",
    "or imported to WSDL. As we presented in [X] the\n",
    "complexities of each type definition in the schema are\n",
    "different according to their structures. So,\n",
    "    \n",
    "    wt = wc, if the type is complex type definition (7)\n",
    "    \n",
    "       = ws, if the type is simple type definition (8) \n",
    "       \n",
    "The weight value for a part element is assigned based on\n",
    "the weight value of the argument it describes and the\n",
    "argument described by part element will have a weight of its\n",
    "associated type of XML Schema. As stated in [14] the\n",
    "weight values for built-in simple types of XML Schema are\n",
    "assigned to 1. Hence, the arguments that have built-in simple\n",
    "type have a weight value of 1. Then the data complexity\n",
    "value for the input message is found as 2 and for the output\n",
    "message it is found 1. Overall the data complexity of the\n",
    "WSDL in example 1 is evaluated by (2)"
   ]
  },
  {
   "cell_type": "markdown",
   "metadata": {},
   "source": [
    "Element’s weight value\n",
    "\n",
    "    we = ws, if elements have simple- type \n",
    "       = wc, if element has complex-type \n",
    "       = 1, if element is declared by using < any > element\n",
    "       = 1, if element is declared by using anyType \n",
    "       \n",
    "where $ws$ is the weight value for simple type definition; $wc$ is the weight value for the\n",
    "complex type definition.\n",
    "        \n",
    "Weight value of a simple-type can be defined as:\n",
    "    \n",
    "    ws   = 1, if it is built in simple type \n",
    "         = r | r is the number of restriction, if it is derived by restriction. \n",
    "         = u | u if it is derived by union. \n",
    "         = l | l is the weight value of item type, if it is derived by list. \n",
    "         \n",
    "$$u = \\sum_{i=1}^Pw_iM_i$$\n",
    "\n",
    "$P$ is the number of members declared within union simple-type; $w_i$ is the\n",
    "weight value of member $M_i$ that can be built-in or derived simple type and equals to\n",
    "$ws$ since the types of the members should only be simple type [18]. \n",
    "\n",
    "    wc   = The weight value of a complex-type can be calculated by all its constituent component"
   ]
  },
  {
   "cell_type": "code",
   "execution_count": null,
   "metadata": {},
   "outputs": [],
   "source": []
  },
  {
   "cell_type": "markdown",
   "metadata": {},
   "source": [
    "# Groovy"
   ]
  },
  {
   "cell_type": "code",
   "execution_count": 113,
   "metadata": {},
   "outputs": [
    {
     "data": {
      "text/html": [
       "<div>\n",
       "<style scoped>\n",
       "    .dataframe tbody tr th:only-of-type {\n",
       "        vertical-align: middle;\n",
       "    }\n",
       "\n",
       "    .dataframe tbody tr th {\n",
       "        vertical-align: top;\n",
       "    }\n",
       "\n",
       "    .dataframe thead th {\n",
       "        text-align: right;\n",
       "    }\n",
       "</style>\n",
       "<table border=\"1\" class=\"dataframe\">\n",
       "  <thead>\n",
       "    <tr style=\"text-align: right;\">\n",
       "      <th></th>\n",
       "      <th>filepath</th>\n",
       "      <th>comments</th>\n",
       "      <th>singlelinecomments</th>\n",
       "      <th>defines</th>\n",
       "      <th>imports</th>\n",
       "      <th>linecount</th>\n",
       "      <th>whitelines</th>\n",
       "      <th>linesofcode</th>\n",
       "    </tr>\n",
       "  </thead>\n",
       "  <tbody>\n",
       "    <tr>\n",
       "      <th>0</th>\n",
       "      <td>../../../Downloads/PostNLQAS/BYD0550b_UBLSimpl...</td>\n",
       "      <td>17</td>\n",
       "      <td>2</td>\n",
       "      <td>3</td>\n",
       "      <td>2</td>\n",
       "      <td>40</td>\n",
       "      <td>12</td>\n",
       "      <td>9</td>\n",
       "    </tr>\n",
       "    <tr>\n",
       "      <th>1</th>\n",
       "      <td>../../../Downloads/PostNLQAS/BYD0550b_UBLSimpl...</td>\n",
       "      <td>16</td>\n",
       "      <td>1</td>\n",
       "      <td>3</td>\n",
       "      <td>2</td>\n",
       "      <td>30</td>\n",
       "      <td>4</td>\n",
       "      <td>9</td>\n",
       "    </tr>\n",
       "    <tr>\n",
       "      <th>2</th>\n",
       "      <td>../../../Downloads/PostNLQAS/BYD0550b_UBLSimpl...</td>\n",
       "      <td>0</td>\n",
       "      <td>5</td>\n",
       "      <td>13</td>\n",
       "      <td>1</td>\n",
       "      <td>85</td>\n",
       "      <td>14</td>\n",
       "      <td>66</td>\n",
       "    </tr>\n",
       "    <tr>\n",
       "      <th>3</th>\n",
       "      <td>../../../Downloads/PostNLQAS/BYD0550b_UBLSimpl...</td>\n",
       "      <td>13</td>\n",
       "      <td>2</td>\n",
       "      <td>3</td>\n",
       "      <td>2</td>\n",
       "      <td>29</td>\n",
       "      <td>2</td>\n",
       "      <td>12</td>\n",
       "    </tr>\n",
       "    <tr>\n",
       "      <th>4</th>\n",
       "      <td>../../../Downloads/PostNLQAS/BYD0550b_UBLSimpl...</td>\n",
       "      <td>0</td>\n",
       "      <td>1</td>\n",
       "      <td>3</td>\n",
       "      <td>3</td>\n",
       "      <td>13</td>\n",
       "      <td>4</td>\n",
       "      <td>8</td>\n",
       "    </tr>\n",
       "  </tbody>\n",
       "</table>\n",
       "</div>"
      ],
      "text/plain": [
       "                                            filepath  comments  \\\n",
       "0  ../../../Downloads/PostNLQAS/BYD0550b_UBLSimpl...        17   \n",
       "1  ../../../Downloads/PostNLQAS/BYD0550b_UBLSimpl...        16   \n",
       "2  ../../../Downloads/PostNLQAS/BYD0550b_UBLSimpl...         0   \n",
       "3  ../../../Downloads/PostNLQAS/BYD0550b_UBLSimpl...        13   \n",
       "4  ../../../Downloads/PostNLQAS/BYD0550b_UBLSimpl...         0   \n",
       "\n",
       "   singlelinecomments  defines  imports  linecount  whitelines  linesofcode  \n",
       "0                   2        3        2         40          12            9  \n",
       "1                   1        3        2         30           4            9  \n",
       "2                   5       13        1         85          14           66  \n",
       "3                   2        3        2         29           2           12  \n",
       "4                   1        3        3         13           4            8  "
      ]
     },
     "execution_count": 113,
     "metadata": {},
     "output_type": "execute_result"
    }
   ],
   "source": [
    "dfgroovy = pd.read_csv(\"../generateddata/qasgroovy.csv\")\n",
    "dfgroovy.drop(columns=[\"Unnamed: 0\"], inplace=True)\n",
    "dfgroovy.head()"
   ]
  },
  {
   "cell_type": "markdown",
   "metadata": {},
   "source": [
    "# Properties"
   ]
  },
  {
   "cell_type": "code",
   "execution_count": 114,
   "metadata": {},
   "outputs": [],
   "source": [
    "def readPropDef(file):\n",
    "    xtree = et.parse(file)\n",
    "    for m in xtree.iterfind('.//parameter'):\n",
    "        propdefdict['file'].append(file)\n",
    "        for par in m:\n",
    "            for key in propdefdict.keys():\n",
    "                if par.tag == key:\n",
    "                    text = par.text\n",
    "                    if text == None:\n",
    "                        text == \"\"\n",
    "                    propdefdict[key].append(text)"
   ]
  },
  {
   "cell_type": "code",
   "execution_count": 115,
   "metadata": {},
   "outputs": [],
   "source": [
    "propdefdict = {\"file\":[],\"key\":[],\"name\":[],\"type\":[],\"isRequired\":[],\n",
    "               \"constraint\":[],\"description\":[]}\n",
    "for i in propdeffilelist:\n",
    "    readPropDef(i)"
   ]
  },
  {
   "cell_type": "code",
   "execution_count": 116,
   "metadata": {},
   "outputs": [
    {
     "data": {
      "text/html": [
       "<div>\n",
       "<style scoped>\n",
       "    .dataframe tbody tr th:only-of-type {\n",
       "        vertical-align: middle;\n",
       "    }\n",
       "\n",
       "    .dataframe tbody tr th {\n",
       "        vertical-align: top;\n",
       "    }\n",
       "\n",
       "    .dataframe thead th {\n",
       "        text-align: right;\n",
       "    }\n",
       "</style>\n",
       "<table border=\"1\" class=\"dataframe\">\n",
       "  <thead>\n",
       "    <tr style=\"text-align: right;\">\n",
       "      <th></th>\n",
       "      <th>file</th>\n",
       "      <th>key</th>\n",
       "      <th>name</th>\n",
       "      <th>type</th>\n",
       "      <th>isRequired</th>\n",
       "      <th>constraint</th>\n",
       "      <th>description</th>\n",
       "    </tr>\n",
       "  </thead>\n",
       "  <tbody>\n",
       "    <tr>\n",
       "      <th>count</th>\n",
       "      <td>2924</td>\n",
       "      <td>0</td>\n",
       "      <td>2924</td>\n",
       "      <td>2924</td>\n",
       "      <td>2924</td>\n",
       "      <td>0</td>\n",
       "      <td>0</td>\n",
       "    </tr>\n",
       "    <tr>\n",
       "      <th>unique</th>\n",
       "      <td>387</td>\n",
       "      <td>0</td>\n",
       "      <td>1140</td>\n",
       "      <td>4</td>\n",
       "      <td>2</td>\n",
       "      <td>0</td>\n",
       "      <td>0</td>\n",
       "    </tr>\n",
       "    <tr>\n",
       "      <th>top</th>\n",
       "      <td>../../../Downloads/PostNLQAS/PBPR0003_Business...</td>\n",
       "      <td>NaN</td>\n",
       "      <td>Scheduler</td>\n",
       "      <td>xsd:string</td>\n",
       "      <td>false</td>\n",
       "      <td>NaN</td>\n",
       "      <td>NaN</td>\n",
       "    </tr>\n",
       "    <tr>\n",
       "      <th>freq</th>\n",
       "      <td>51</td>\n",
       "      <td>NaN</td>\n",
       "      <td>123</td>\n",
       "      <td>2744</td>\n",
       "      <td>2913</td>\n",
       "      <td>NaN</td>\n",
       "      <td>NaN</td>\n",
       "    </tr>\n",
       "  </tbody>\n",
       "</table>\n",
       "</div>"
      ],
      "text/plain": [
       "                                                     file  key       name  \\\n",
       "count                                                2924    0       2924   \n",
       "unique                                                387    0       1140   \n",
       "top     ../../../Downloads/PostNLQAS/PBPR0003_Business...  NaN  Scheduler   \n",
       "freq                                                   51  NaN        123   \n",
       "\n",
       "              type isRequired constraint description  \n",
       "count         2924       2924          0           0  \n",
       "unique           4          2          0           0  \n",
       "top     xsd:string      false        NaN         NaN  \n",
       "freq          2744       2913        NaN         NaN  "
      ]
     },
     "execution_count": 116,
     "metadata": {},
     "output_type": "execute_result"
    }
   ],
   "source": [
    "propdefdf = pd.DataFrame(propdefdict)\n",
    "propdefdf.describe()"
   ]
  },
  {
   "cell_type": "code",
   "execution_count": 118,
   "metadata": {},
   "outputs": [],
   "source": [
    "propdefdf.to_csv(\"../generateddata/qaspropdef.csv\")"
   ]
  },
  {
   "cell_type": "markdown",
   "metadata": {},
   "source": [
    "# File relation to Package"
   ]
  },
  {
   "cell_type": "code",
   "execution_count": 119,
   "metadata": {},
   "outputs": [],
   "source": [
    "wsdlfilelist = []\n",
    "xsdfilelist = []\n",
    "bpmnfilelist = []\n",
    "mmapfilelist = []\n",
    "groovyfilelist = []\n",
    "propdeffilelist = []\n",
    "for root, dirs, files in os.walk(\"../../../Downloads/PostNLQAS\"):\n",
    "    wsdlfilelist = wsdlfilelist + glob.glob(root+'/*.wsdl')\n",
    "    xsdfilelist = xsdfilelist + glob.glob(root+'/*.xsd')\n",
    "    bpmnfilelist = bpmnfilelist + glob.glob(root+'/*.iflw')\n",
    "    mmapfilelist = mmapfilelist + glob.glob(root+'/*.mmap')\n",
    "    groovyfilelist = groovyfilelist + glob.glob(root+'/*.groovy')\n",
    "    groovyfilelist = groovyfilelist + glob.glob(root+'/*.gsh')\n",
    "    propdeffilelist = propdeffilelist + glob.glob(root+'/*.propdef')"
   ]
  },
  {
   "cell_type": "code",
   "execution_count": 120,
   "metadata": {},
   "outputs": [],
   "source": [
    "scenarios = []\n",
    "for x, dirs, files in os.walk(\"../../../Downloads/PostNLQAS\"):\n",
    "    scenarios = dirs\n",
    "    break\n",
    "\n",
    "combinations = {'scenario':[],'file':[]}\n",
    "for s in scenarios:\n",
    "    for l in [wsdlfilelist, xsdfilelist, bpmnfilelist, mmapfilelist, groovyfilelist, \\\n",
    "              groovyfilelist, propdeffilelist]:\n",
    "        for i in l:\n",
    "            if s in i:\n",
    "                combinations['scenario'].append(s)\n",
    "                combinations['file'].append(i)"
   ]
  },
  {
   "cell_type": "code",
   "execution_count": 121,
   "metadata": {},
   "outputs": [],
   "source": [
    "scenariofilesdf = pd.DataFrame(combinations)"
   ]
  },
  {
   "cell_type": "code",
   "execution_count": 123,
   "metadata": {},
   "outputs": [],
   "source": [
    "scenarionames = scenariofilesdf['scenario'].unique()\n",
    "mapscenarionames = dict(zip(scenarionames,range(len(scenarionames))))\n",
    "scenariofilesdf['scenarioid'] = scenariofilesdf['scenario'].map(mapscenarionames)\n",
    "\n",
    "filenames = scenariofilesdf['file'].unique()\n",
    "mapfiles = dict(zip(filenames,range(len(filenames))))\n",
    "scenariofilesdf['fileid'] = scenariofilesdf['file'].map(mapfiles)"
   ]
  },
  {
   "cell_type": "code",
   "execution_count": 124,
   "metadata": {},
   "outputs": [],
   "source": [
    "sub = lambda x: str(x).split(\"/\")[-1]\n",
    "scenariofilesdf['filename'] = scenariofilesdf['file'].apply(sub)"
   ]
  },
  {
   "cell_type": "code",
   "execution_count": 125,
   "metadata": {},
   "outputs": [],
   "source": [
    "scenariofilesdf.to_csv(\"../generateddata/qasscenariofilecombination.csv\")"
   ]
  },
  {
   "cell_type": "code",
   "execution_count": 126,
   "metadata": {},
   "outputs": [
    {
     "data": {
      "text/plain": [
       "<matplotlib.axes._subplots.AxesSubplot at 0x12804c160>"
      ]
     },
     "execution_count": 126,
     "metadata": {},
     "output_type": "execute_result"
    }
   ],
   "source": [
    "scenariofilesdf['scenarioid'].hist(bins=scenariofilesdf['scenarioid'])"
   ]
  },
  {
   "cell_type": "code",
   "execution_count": 127,
   "metadata": {},
   "outputs": [],
   "source": [
    "# !pip install ipympl"
   ]
  },
  {
   "cell_type": "code",
   "execution_count": 7,
   "metadata": {},
   "outputs": [],
   "source": [
    "# scenariofilesdf.head()"
   ]
  },
  {
   "cell_type": "markdown",
   "metadata": {},
   "source": [
    "# Attempt to combine all metrics for all files"
   ]
  },
  {
   "cell_type": "code",
   "execution_count": 129,
   "metadata": {},
   "outputs": [],
   "source": [
    "combinedlist = wsdlfilelist + xsdfilelist + bpmnfilelist + mmapfilelist + groovyfilelist + propdeffilelist"
   ]
  },
  {
   "cell_type": "code",
   "execution_count": 130,
   "metadata": {},
   "outputs": [
    {
     "data": {
      "application/vnd.jupyter.widget-view+json": {
       "model_id": "",
       "version_major": 2,
       "version_minor": 0
      },
      "text/plain": [
       "HBox(children=(IntProgress(value=0, max=4810), HTML(value='')))"
      ]
     },
     "metadata": {},
     "output_type": "display_data"
    },
    {
     "name": "stderr",
     "output_type": "stream",
     "text": [
      "/Users/max/anaconda3/lib/python3.7/site-packages/ipykernel_launcher.py:4: RuntimeWarning:\n",
      "\n",
      "invalid value encountered in double_scalars\n",
      "\n"
     ]
    }
   ],
   "source": [
    "combined_complexity_value_dict = []\n",
    "pbar = tqdm(total=len(combinedlist), leave=False)\n",
    "pbar.set_description(desc='Processing all files', refresh=True)\n",
    "for i in combinedlist:\n",
    "    try:\n",
    "        complexityvalue = complexity(i)\n",
    "    except:\n",
    "        pass\n",
    "    combined_complexity_value_dict.append(complexityvalue)\n",
    "    pbar.update(1)\n",
    "pbar.close()\n"
   ]
  },
  {
   "cell_type": "code",
   "execution_count": 131,
   "metadata": {},
   "outputs": [],
   "source": [
    "all_combinedcomplexitydf = pd.DataFrame(combined_complexity_value_dict)"
   ]
  },
  {
   "cell_type": "code",
   "execution_count": 132,
   "metadata": {},
   "outputs": [
    {
     "data": {
      "text/html": [
       "<div>\n",
       "<style scoped>\n",
       "    .dataframe tbody tr th:only-of-type {\n",
       "        vertical-align: middle;\n",
       "    }\n",
       "\n",
       "    .dataframe tbody tr th {\n",
       "        vertical-align: top;\n",
       "    }\n",
       "\n",
       "    .dataframe thead th {\n",
       "        text-align: right;\n",
       "    }\n",
       "</style>\n",
       "<table border=\"1\" class=\"dataframe\">\n",
       "  <thead>\n",
       "    <tr style=\"text-align: right;\">\n",
       "      <th></th>\n",
       "      <th>complexity</th>\n",
       "      <th>size_complexity</th>\n",
       "      <th>concept_complexity</th>\n",
       "      <th>name_complexity</th>\n",
       "    </tr>\n",
       "  </thead>\n",
       "  <tbody>\n",
       "    <tr>\n",
       "      <th>count</th>\n",
       "      <td>1402.000000</td>\n",
       "      <td>4810.000000</td>\n",
       "      <td>1402.000000</td>\n",
       "      <td>4810.000000</td>\n",
       "    </tr>\n",
       "    <tr>\n",
       "      <th>mean</th>\n",
       "      <td>0.274218</td>\n",
       "      <td>0.060856</td>\n",
       "      <td>0.097207</td>\n",
       "      <td>0.219012</td>\n",
       "    </tr>\n",
       "    <tr>\n",
       "      <th>std</th>\n",
       "      <td>0.173054</td>\n",
       "      <td>0.217457</td>\n",
       "      <td>0.086292</td>\n",
       "      <td>0.335566</td>\n",
       "    </tr>\n",
       "    <tr>\n",
       "      <th>min</th>\n",
       "      <td>0.000000</td>\n",
       "      <td>0.000000</td>\n",
       "      <td>0.000000</td>\n",
       "      <td>0.000000</td>\n",
       "    </tr>\n",
       "    <tr>\n",
       "      <th>25%</th>\n",
       "      <td>0.122837</td>\n",
       "      <td>0.000000</td>\n",
       "      <td>0.000000</td>\n",
       "      <td>0.000000</td>\n",
       "    </tr>\n",
       "    <tr>\n",
       "      <th>50%</th>\n",
       "      <td>0.270816</td>\n",
       "      <td>0.000000</td>\n",
       "      <td>0.108644</td>\n",
       "      <td>0.000000</td>\n",
       "    </tr>\n",
       "    <tr>\n",
       "      <th>75%</th>\n",
       "      <td>0.384440</td>\n",
       "      <td>0.000000</td>\n",
       "      <td>0.177215</td>\n",
       "      <td>0.311562</td>\n",
       "    </tr>\n",
       "    <tr>\n",
       "      <th>max</th>\n",
       "      <td>0.741486</td>\n",
       "      <td>1.000000</td>\n",
       "      <td>0.272727</td>\n",
       "      <td>1.000000</td>\n",
       "    </tr>\n",
       "  </tbody>\n",
       "</table>\n",
       "</div>"
      ],
      "text/plain": [
       "        complexity  size_complexity  concept_complexity  name_complexity\n",
       "count  1402.000000      4810.000000         1402.000000      4810.000000\n",
       "mean      0.274218         0.060856            0.097207         0.219012\n",
       "std       0.173054         0.217457            0.086292         0.335566\n",
       "min       0.000000         0.000000            0.000000         0.000000\n",
       "25%       0.122837         0.000000            0.000000         0.000000\n",
       "50%       0.270816         0.000000            0.108644         0.000000\n",
       "75%       0.384440         0.000000            0.177215         0.311562\n",
       "max       0.741486         1.000000            0.272727         1.000000"
      ]
     },
     "execution_count": 132,
     "metadata": {},
     "output_type": "execute_result"
    }
   ],
   "source": [
    "all_combinedcomplexitydf.describe()"
   ]
  },
  {
   "cell_type": "code",
   "execution_count": 133,
   "metadata": {},
   "outputs": [
    {
     "name": "stdout",
     "output_type": "stream",
     "text": [
      "<class 'pandas.core.frame.DataFrame'>\n",
      "RangeIndex: 4810 entries, 0 to 4809\n",
      "Data columns (total 5 columns):\n",
      "file                  4810 non-null object\n",
      "complexity            1402 non-null float64\n",
      "size_complexity       4810 non-null float64\n",
      "concept_complexity    1402 non-null float64\n",
      "name_complexity       4810 non-null float64\n",
      "dtypes: float64(4), object(1)\n",
      "memory usage: 188.0+ KB\n"
     ]
    }
   ],
   "source": [
    "all_combinedcomplexitydf.info()"
   ]
  },
  {
   "cell_type": "code",
   "execution_count": 134,
   "metadata": {},
   "outputs": [
    {
     "data": {
      "application/vnd.jupyter.widget-view+json": {
       "model_id": "",
       "version_major": 2,
       "version_minor": 0
      },
      "text/plain": [
       "HBox(children=(IntProgress(value=0, max=4810), HTML(value='')))"
      ]
     },
     "metadata": {},
     "output_type": "display_data"
    }
   ],
   "source": [
    "all_reusedf = {'file':[],'reuse':[]}\n",
    "pbar = tqdm(total=len(combinedlist), leave=False)\n",
    "pbar.set_description(desc='Processing all files', refresh=True)\n",
    "for file in combinedlist:\n",
    "    all_reusedf['file'].append(file)\n",
    "    try:\n",
    "        all_reusedf['reuse'].append(reuse(file))\n",
    "    except:\n",
    "        all_reusedf['reuse'].append(None)\n",
    "    pbar.update(1)\n",
    "pbar.close()"
   ]
  },
  {
   "cell_type": "code",
   "execution_count": 135,
   "metadata": {},
   "outputs": [
    {
     "data": {
      "text/html": [
       "<div>\n",
       "<style scoped>\n",
       "    .dataframe tbody tr th:only-of-type {\n",
       "        vertical-align: middle;\n",
       "    }\n",
       "\n",
       "    .dataframe tbody tr th {\n",
       "        vertical-align: top;\n",
       "    }\n",
       "\n",
       "    .dataframe thead th {\n",
       "        text-align: right;\n",
       "    }\n",
       "</style>\n",
       "<table border=\"1\" class=\"dataframe\">\n",
       "  <thead>\n",
       "    <tr style=\"text-align: right;\">\n",
       "      <th></th>\n",
       "      <th>reuse</th>\n",
       "    </tr>\n",
       "  </thead>\n",
       "  <tbody>\n",
       "    <tr>\n",
       "      <th>count</th>\n",
       "      <td>1396.000000</td>\n",
       "    </tr>\n",
       "    <tr>\n",
       "      <th>mean</th>\n",
       "      <td>0.071534</td>\n",
       "    </tr>\n",
       "    <tr>\n",
       "      <th>std</th>\n",
       "      <td>0.118848</td>\n",
       "    </tr>\n",
       "    <tr>\n",
       "      <th>min</th>\n",
       "      <td>0.000072</td>\n",
       "    </tr>\n",
       "    <tr>\n",
       "      <th>25%</th>\n",
       "      <td>0.006061</td>\n",
       "    </tr>\n",
       "    <tr>\n",
       "      <th>50%</th>\n",
       "      <td>0.024390</td>\n",
       "    </tr>\n",
       "    <tr>\n",
       "      <th>75%</th>\n",
       "      <td>0.076923</td>\n",
       "    </tr>\n",
       "    <tr>\n",
       "      <th>max</th>\n",
       "      <td>1.000000</td>\n",
       "    </tr>\n",
       "  </tbody>\n",
       "</table>\n",
       "</div>"
      ],
      "text/plain": [
       "             reuse\n",
       "count  1396.000000\n",
       "mean      0.071534\n",
       "std       0.118848\n",
       "min       0.000072\n",
       "25%       0.006061\n",
       "50%       0.024390\n",
       "75%       0.076923\n",
       "max       1.000000"
      ]
     },
     "execution_count": 135,
     "metadata": {},
     "output_type": "execute_result"
    }
   ],
   "source": [
    "all_reusedf = pd.DataFrame(all_reusedf)\n",
    "all_reusedf.describe()"
   ]
  },
  {
   "cell_type": "code",
   "execution_count": 136,
   "metadata": {},
   "outputs": [
    {
     "name": "stdout",
     "output_type": "stream",
     "text": [
      "<class 'pandas.core.frame.DataFrame'>\n",
      "RangeIndex: 4810 entries, 0 to 4809\n",
      "Data columns (total 2 columns):\n",
      "file     4810 non-null object\n",
      "reuse    1396 non-null float64\n",
      "dtypes: float64(1), object(1)\n",
      "memory usage: 75.3+ KB\n"
     ]
    }
   ],
   "source": [
    "all_reusedf.info()"
   ]
  },
  {
   "cell_type": "code",
   "execution_count": 137,
   "metadata": {},
   "outputs": [
    {
     "data": {
      "application/vnd.jupyter.widget-view+json": {
       "model_id": "",
       "version_major": 2,
       "version_minor": 0
      },
      "text/plain": [
       "HBox(children=(IntProgress(value=0, max=4810), HTML(value='')))"
      ]
     },
     "metadata": {},
     "output_type": "display_data"
    }
   ],
   "source": [
    "all_complexity_value_dict = {\"file\":[],\"DW\":[],\"APO\":[],\"OPS\":[]}\n",
    "pbar = tqdm(total=len(combinedlist), leave=False)\n",
    "pbar.set_description(desc='Processing all files', refresh=True)\n",
    "for i in combinedlist:\n",
    "    all_complexity_value_dict['file'].append(i)\n",
    "    try:\n",
    "        all_complexity_value_dict['DW'].append(CMi(i))\n",
    "    except:\n",
    "        all_complexity_value_dict['DW'].append(None)\n",
    "    try:\n",
    "        all_complexity_value_dict['APO'].append(APO)\n",
    "    except:\n",
    "        all_complexity_value_dict['APO'].append(None)\n",
    "    try:\n",
    "        all_complexity_value_dict['OPS'].append(getOPS(i))\n",
    "    except:\n",
    "        all_complexity_value_dict['OPS'].append(None)\n",
    "    pbar.update(1)\n",
    "pbar.close()\n",
    "all_combinedcomplexitydf = pd.DataFrame(all_complexity_value_dict)"
   ]
  },
  {
   "cell_type": "code",
   "execution_count": 138,
   "metadata": {},
   "outputs": [
    {
     "name": "stdout",
     "output_type": "stream",
     "text": [
      "<class 'pandas.core.frame.DataFrame'>\n",
      "RangeIndex: 4810 entries, 0 to 4809\n",
      "Data columns (total 4 columns):\n",
      "file    4810 non-null object\n",
      "DW      3038 non-null float64\n",
      "APO     4810 non-null float64\n",
      "OPS     471 non-null float64\n",
      "dtypes: float64(3), object(1)\n",
      "memory usage: 150.4+ KB\n"
     ]
    }
   ],
   "source": [
    "all_combinedcomplexitydf.info()"
   ]
  },
  {
   "cell_type": "code",
   "execution_count": 139,
   "metadata": {},
   "outputs": [
    {
     "data": {
      "text/html": [
       "<div>\n",
       "<style scoped>\n",
       "    .dataframe tbody tr th:only-of-type {\n",
       "        vertical-align: middle;\n",
       "    }\n",
       "\n",
       "    .dataframe tbody tr th {\n",
       "        vertical-align: top;\n",
       "    }\n",
       "\n",
       "    .dataframe thead th {\n",
       "        text-align: right;\n",
       "    }\n",
       "</style>\n",
       "<table border=\"1\" class=\"dataframe\">\n",
       "  <thead>\n",
       "    <tr style=\"text-align: right;\">\n",
       "      <th></th>\n",
       "      <th>DW</th>\n",
       "      <th>APO</th>\n",
       "      <th>OPS</th>\n",
       "    </tr>\n",
       "  </thead>\n",
       "  <tbody>\n",
       "    <tr>\n",
       "      <th>count</th>\n",
       "      <td>3038.000000</td>\n",
       "      <td>4810.0</td>\n",
       "      <td>471.000000</td>\n",
       "    </tr>\n",
       "    <tr>\n",
       "      <th>mean</th>\n",
       "      <td>6.319947</td>\n",
       "      <td>1.0</td>\n",
       "      <td>9.552017</td>\n",
       "    </tr>\n",
       "    <tr>\n",
       "      <th>std</th>\n",
       "      <td>40.059073</td>\n",
       "      <td>0.0</td>\n",
       "      <td>20.636630</td>\n",
       "    </tr>\n",
       "    <tr>\n",
       "      <th>min</th>\n",
       "      <td>0.000000</td>\n",
       "      <td>1.0</td>\n",
       "      <td>1.000000</td>\n",
       "    </tr>\n",
       "    <tr>\n",
       "      <th>25%</th>\n",
       "      <td>0.000000</td>\n",
       "      <td>1.0</td>\n",
       "      <td>2.000000</td>\n",
       "    </tr>\n",
       "    <tr>\n",
       "      <th>50%</th>\n",
       "      <td>0.000000</td>\n",
       "      <td>1.0</td>\n",
       "      <td>2.000000</td>\n",
       "    </tr>\n",
       "    <tr>\n",
       "      <th>75%</th>\n",
       "      <td>1.000000</td>\n",
       "      <td>1.0</td>\n",
       "      <td>3.000000</td>\n",
       "    </tr>\n",
       "    <tr>\n",
       "      <th>max</th>\n",
       "      <td>460.000000</td>\n",
       "      <td>1.0</td>\n",
       "      <td>126.000000</td>\n",
       "    </tr>\n",
       "  </tbody>\n",
       "</table>\n",
       "</div>"
      ],
      "text/plain": [
       "                DW     APO         OPS\n",
       "count  3038.000000  4810.0  471.000000\n",
       "mean      6.319947     1.0    9.552017\n",
       "std      40.059073     0.0   20.636630\n",
       "min       0.000000     1.0    1.000000\n",
       "25%       0.000000     1.0    2.000000\n",
       "50%       0.000000     1.0    2.000000\n",
       "75%       1.000000     1.0    3.000000\n",
       "max     460.000000     1.0  126.000000"
      ]
     },
     "execution_count": 139,
     "metadata": {},
     "output_type": "execute_result"
    }
   ],
   "source": [
    "all_combinedcomplexitydf.describe()"
   ]
  },
  {
   "cell_type": "code",
   "execution_count": null,
   "metadata": {},
   "outputs": [],
   "source": []
  }
 ],
 "metadata": {
  "kernelspec": {
   "display_name": "Python 3",
   "language": "python",
   "name": "python3"
  },
  "language_info": {
   "codemirror_mode": {
    "name": "ipython",
    "version": 3
   },
   "file_extension": ".py",
   "mimetype": "text/x-python",
   "name": "python",
   "nbconvert_exporter": "python",
   "pygments_lexer": "ipython3",
   "version": "3.7.3-final"
  },
  "toc-autonumbering": true,
  "toc-showmarkdowntxt": false
 },
 "nbformat": 4,
 "nbformat_minor": 4
}