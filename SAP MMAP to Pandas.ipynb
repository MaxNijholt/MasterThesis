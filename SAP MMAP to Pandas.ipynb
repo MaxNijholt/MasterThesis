{
 "cells": [
  {
   "cell_type": "code",
   "execution_count": 18,
   "metadata": {
    "ExecuteTime": {
     "end_time": "2019-10-17T13:38:47.581733Z",
     "start_time": "2019-10-17T13:38:47.578578Z"
    }
   },
   "outputs": [],
   "source": [
    "import pandas as pd \n",
    "import xml.etree.ElementTree as et \n",
    "import os\n",
    "import regex as re\n",
    "import json\n",
    "import os\n",
    "import glob\n",
    "from tqdm.autonotebook import tqdm"
   ]
  },
  {
   "cell_type": "code",
   "execution_count": 19,
   "metadata": {
    "ExecuteTime": {
     "end_time": "2019-10-17T13:38:48.463692Z",
     "start_time": "2019-10-17T13:38:48.252342Z"
    }
   },
   "outputs": [],
   "source": [
    "mmapfilelist = []\n",
    "for root, dirs, files in os.walk(\"../../../Downloads/PostNLQAS\"):\n",
    "    mmapfilelist = mmapfilelist + glob.glob(root+'/*.mmap')\n"
   ]
  },
  {
   "cell_type": "code",
   "execution_count": null,
   "metadata": {
    "ExecuteTime": {
     "end_time": "2019-10-17T13:38:48.895013Z",
     "start_time": "2019-10-17T13:38:48.885703Z"
    }
   },
   "outputs": [],
   "source": []
  },
  {
   "cell_type": "code",
   "execution_count": 20,
   "metadata": {
    "ExecuteTime": {
     "end_time": "2019-10-17T13:36:35.808965Z",
     "start_time": "2019-10-17T13:36:35.795759Z"
    }
   },
   "outputs": [
    {
     "name": "stdout",
     "output_type": "stream",
     "text": [
      "17\n"
     ]
    },
    {
     "data": {
      "text/html": [
       "<div>\n",
       "<style scoped>\n",
       "    .dataframe tbody tr th:only-of-type {\n",
       "        vertical-align: middle;\n",
       "    }\n",
       "\n",
       "    .dataframe tbody tr th {\n",
       "        vertical-align: top;\n",
       "    }\n",
       "\n",
       "    .dataframe thead th {\n",
       "        text-align: right;\n",
       "    }\n",
       "</style>\n",
       "<table border=\"1\" class=\"dataframe\">\n",
       "  <thead>\n",
       "    <tr style=\"text-align: right;\">\n",
       "      <th></th>\n",
       "      <th>filename</th>\n",
       "      <th>reffile</th>\n",
       "      <th>elempath</th>\n",
       "      <th>reffiletype</th>\n",
       "      <th>target</th>\n",
       "      <th>usedfunction</th>\n",
       "      <th>role</th>\n",
       "      <th>path</th>\n",
       "      <th>gid</th>\n",
       "      <th>fname</th>\n",
       "      <th>fns</th>\n",
       "      <th>type2</th>\n",
       "      <th>type</th>\n",
       "      <th>path2</th>\n",
       "      <th>gid2</th>\n",
       "      <th>fname2</th>\n",
       "      <th>fns2</th>\n",
       "    </tr>\n",
       "  </thead>\n",
       "  <tbody>\n",
       "  </tbody>\n",
       "</table>\n",
       "</div>"
      ],
      "text/plain": [
       "Empty DataFrame\n",
       "Columns: [filename, reffile, elempath, reffiletype, target, usedfunction, role, path, gid, fname, fns, type2, type, path2, gid2, fname2, fns2]\n",
       "Index: []"
      ]
     },
     "execution_count": 20,
     "metadata": {},
     "output_type": "execute_result"
    }
   ],
   "source": [
    "columns = ['filename', 'reffile', 'elempath', 'reffiletype', 'target', 'usedfunction', 'role', 'path', 'gid',\\\n",
    "           'fname', 'fns', 'type2' ,'type', 'path2','gid2', 'fname2', 'fns2']\n",
    "print(len(columns))\n",
    "df = pd.DataFrame(columns=columns)\n",
    "df.head()"
   ]
  },
  {
   "cell_type": "code",
   "execution_count": 21,
   "metadata": {
    "ExecuteTime": {
     "end_time": "2019-10-04T09:11:33.237628Z",
     "start_time": "2019-10-04T09:11:33.234609Z"
    }
   },
   "outputs": [
    {
     "data": {
      "text/plain": [
       "727"
      ]
     },
     "execution_count": 21,
     "metadata": {},
     "output_type": "execute_result"
    }
   ],
   "source": [
    "len(mmapfilelist)"
   ]
  },
  {
   "cell_type": "code",
   "execution_count": 22,
   "metadata": {
    "ExecuteTime": {
     "end_time": "2019-10-17T13:49:37.395622Z",
     "start_time": "2019-10-17T13:49:37.370505Z"
    },
    "code_folding": []
   },
   "outputs": [],
   "source": [
    "def parse_mmap_XML(xml_file): \n",
    "    xtree = et.parse(xml_file)\n",
    "    xroot = xtree.getroot()\n",
    "    return iterxml(xroot, xml_file)\n",
    "    \n",
    "    \n",
    "def iterxml(xml, filename):\n",
    "    df = pd.DataFrame(columns=columns)\n",
    "    for elem in list(xml): # 1\n",
    "        path = \"\"\n",
    "        firsttabs = \"\"\n",
    "        rootelem = \"\"\n",
    "        if \"}\" in elem.tag:\n",
    "            rootelem = elem.tag.split(\"}\", 1)[1]\n",
    "        else:\n",
    "            rootelem = elem.tag\n",
    "            \n",
    "        #print(firsttabs + rootelem)\n",
    "        #print(firsttabs + \"  \" + str(elem.attrib))\n",
    "        rootid = elem.attrib.get(\"id\")\n",
    "        rootname = elem.attrib.get(\"name\")\n",
    "        path += \"/\"+rootelem\n",
    "        rootpath1 = path\n",
    "        if rootelem == \"generic\" or rootelem == \"content\":\n",
    "            for items in elem:# 2\n",
    "                path = rootpath1\n",
    "                firsttabs = \"\\t\"\n",
    "                tagname = \"\"\n",
    "                if \"}\" in items.tag:\n",
    "                    tagname = items.tag.split(\"}\", 1)[1]\n",
    "                else:\n",
    "                    tagname = items.tag\n",
    "\n",
    "                path += \"/\"+tagname\n",
    "                #print(firsttabs + tagname)\n",
    "                #print(firsttabs + \"  \" + str(items.attrib))\n",
    "                #print(firsttabs + \"  \" + str(items.text))\n",
    "\n",
    "                rootpath2 = path\n",
    "                for inner in items: # 3\n",
    "                    path = rootpath2\n",
    "                    firsttabs = \"\\t\\t\"\n",
    "                    tagname = \"\"\n",
    "                    if \"}\" in inner.tag:\n",
    "                        tagname = inner.tag.split(\"}\", 1)[1]\n",
    "                    else:\n",
    "                        tagname = inner.tag\n",
    "\n",
    "                    path += \"/\"+tagname\n",
    "                    #print(firsttabs + tagname)\n",
    "                    #print(firsttabs + \"  \" + str(inner.attrib))\n",
    "                    #print(firsttabs + \"  \" + str(inner.text))\n",
    "                    rootpath3 = path\n",
    "                    for diep in inner: # 4\n",
    "                        path = rootpath3\n",
    "                        firsttabs = \"\\t\\t\\t\"\n",
    "                        tagname = \"\"\n",
    "                        if \"}\" in diep.tag:\n",
    "                            tagname = diep.tag.split(\"}\", 1)[1]\n",
    "                        else:\n",
    "                            tagname = diep.tag\n",
    "\n",
    "                        path += \"/\"+tagname\n",
    "                        #print(firsttabs + tagname)\n",
    "                        #print(firsttabs + \"  \" + str(diep.attrib))\n",
    "                        #print(firsttabs + \"  \" + str(diep.text))\n",
    "                        rootpath4 = path\n",
    "                        for nogdieper in diep: # 5\n",
    "                            path = rootpath4\n",
    "                            firsttabs = \"\\t\\t\\t\\t\"\n",
    "                            tagname = \"\"\n",
    "                            if \"}\" in nogdieper.tag:\n",
    "                                tagname = nogdieper.tag.split(\"}\", 1)[1]\n",
    "                            else:\n",
    "                                tagname = nogdieper.tag\n",
    "\n",
    "                            path += \"/\"+tagname\n",
    "                            #print(firsttabs + tagname)\n",
    "                            #print(firsttabs + \"  \" + str(nogdieper.attrib))\n",
    "                            #print(firsttabs + \"  \" + str(nogdieper.text))\n",
    "                            rootpath5 = path\n",
    "                            passed = False\n",
    "                            for evendeeper in nogdieper: # 6\n",
    "                                path = rootpath5\n",
    "                                firsttabs = \"\\t\\t\\t\\t\\t\"\n",
    "                                tagname = \"\"\n",
    "                                if \"}\" in evendeeper.tag:\n",
    "                                    tagname = evendeeper.tag.split(\"}\", 1)[1]\n",
    "                                else:\n",
    "                                    tagname = evendeeper.tag\n",
    "\n",
    "                                path += \"/\"+tagname\n",
    "                                #print(firsttabs + tagname)\n",
    "                                #print(firsttabs + \"  \" + str(evendeeper.attrib))\n",
    "                                #print(firsttabs + \"  \" + str(evendeeper.text))\n",
    "                                if not passed:\n",
    "                                    reffile = evendeeper.text\n",
    "                                    passed = True\n",
    "                                if tagname == \"elem\":\n",
    "                                    df = df.append({\\\n",
    "                                            'filename':filename, 'reffile':reffile,\\\n",
    "                                            'elempath':path,'reffiletype':nogdieper.attrib.get('typeID',None),\\\n",
    "                                            'usedfunction':evendeeper.text, \\\n",
    "                                            'role':inner.attrib.get('role',None),\\\n",
    "                                            'path':None,'gid':None,\\\n",
    "                                            'fname':None, 'fns':None,\\\n",
    "                                            'type2':None,'type':None,\\\n",
    "                                            'path2':None,'gid2':None,\\\n",
    "                                            'fname2':None, 'fns2':None},\\\n",
    "                                            ignore_index=True)\n",
    "                                elif tagname == \"transformation\":\n",
    "                                    rootpath6 = path\n",
    "                                    for opnieuwevendeeper in evendeeper: # 7\n",
    "                                        path = rootpath6\n",
    "                                        firsttabs = \"\\t\\t\\t\\t\\t\\t\"\n",
    "                                        tagname = \"\"\n",
    "                                        if \"}\" in opnieuwevendeeper.tag:\n",
    "                                            tagname = opnieuwevendeeper.tag.split(\"}\", 1)[1]\n",
    "                                        else:\n",
    "                                            tagname = opnieuwevendeeper.tag\n",
    "\n",
    "                                        path += \"/\"+tagname\n",
    "                                        #print(firsttabs + tagname)\n",
    "                                        #print(firsttabs + \"  \" + str(opnieuwevendeeper.attrib))\n",
    "                                        #print(firsttabs + \"  \" + str(opnieuwevendeeper.text))\n",
    "                                        if tagname == \"brick\":\n",
    "                                            brickattr = opnieuwevendeeper.attrib\n",
    "                                            rootpath7 = path\n",
    "                                            for opnieuwevendeeper2 in opnieuwevendeeper: # 8\n",
    "                                                path = rootpath7\n",
    "                                                firsttabs = \"\\t\\t\\t\\t\\t\\t\\t\"\n",
    "                                                tagname = \"\"\n",
    "                                                if \"}\" in opnieuwevendeeper2.tag:\n",
    "                                                    tagname = opnieuwevendeeper2.tag.split(\"}\", 1)[1]\n",
    "                                                else:\n",
    "                                                    tagname = opnieuwevendeeper2.tag\n",
    "\n",
    "                                                path += \"/\"+tagname\n",
    "                                                #print(firsttabs + tagname)\n",
    "                                                #print(firsttabs + \"  \" + str(opnieuwevendeeper2.attrib))\n",
    "                                                #print(firsttabs + \"  \" + str(opnieuwevendeeper2.text))\n",
    "                                                rootpath8 = path\n",
    "                                                for opnieuwevendeeper23 in opnieuwevendeeper2: # 9\n",
    "                                                    path = rootpath8\n",
    "                                                    firsttabs = \"\\t\\t\\t\\t\\t\\t\\t\\t\"\n",
    "                                                    tagname = \"\"\n",
    "                                                    if \"}\" in opnieuwevendeeper23.tag:\n",
    "                                                        tagname = opnieuwevendeeper23.tag.split(\"}\", 1)[1]\n",
    "                                                    else:\n",
    "                                                        tagname = opnieuwevendeeper23.tag\n",
    "\n",
    "                                                    path += \"/\"+tagname\n",
    "                                                    localattr = opnieuwevendeeper23.attrib\n",
    "                                                    #print(firsttabs + tagname)\n",
    "                                                    #print(firsttabs + \"  \" + str(opnieuwevendeeper23.attrib))\n",
    "                                                    #print(firsttabs + \"  \" + str(opnieuwevendeeper23.text))\n",
    "                                                    df = df.append({\\\n",
    "                                                        'filename':filename, 'reffile':None,\\\n",
    "                                                        'elempath':path,'reffiletype':None,\\\n",
    "                                                        'target':None, 'usedfunction':None, \\\n",
    "                                                        'role':None,\\\n",
    "                                                        'path':brickattr.get('path', None),'gid':brickattr.get('gid', None),\\\n",
    "                                                        'fname':brickattr.get('fname', None), 'fns':brickattr.get('fns', None),\\\n",
    "                                                        'type2':localattr.get('type',None),'type':brickattr.get('type',None),\\\n",
    "                                                        'path2':localattr.get('path', None),'gid2':localattr.get('gid', None),\\\n",
    "                                                        'fname2':localattr.get('fname', None), 'fns2':localattr.get('fns', None)},\\\n",
    "                                                        ignore_index=True)\n",
    "    return df\n",
    "        "
   ]
  },
  {
   "cell_type": "code",
   "execution_count": 23,
   "metadata": {
    "ExecuteTime": {
     "end_time": "2019-10-17T13:49:39.388556Z",
     "start_time": "2019-10-17T13:49:38.585971Z"
    }
   },
   "outputs": [
    {
     "ename": "FileNotFoundError",
     "evalue": "[Errno 2] No such file or directory: 'mm_BYD0500_BYD_GenericEnv_Level1and2_CI.mmap'",
     "output_type": "error",
     "traceback": [
      "\u001b[0;31m---------------------------------------------------------------------------\u001b[0m",
      "\u001b[0;31mFileNotFoundError\u001b[0m                         Traceback (most recent call last)",
      "\u001b[0;32m<ipython-input-23-56c215362cef>\u001b[0m in \u001b[0;36m<module>\u001b[0;34m\u001b[0m\n\u001b[1;32m      1\u001b[0m \u001b[0mfile\u001b[0m \u001b[0;34m=\u001b[0m \u001b[0;34m'mm_BYD0500_BYD_GenericEnv_Level1and2_CI.mmap'\u001b[0m\u001b[0;34m\u001b[0m\u001b[0;34m\u001b[0m\u001b[0m\n\u001b[0;32m----> 2\u001b[0;31m \u001b[0mdf\u001b[0m \u001b[0;34m=\u001b[0m \u001b[0mparse_mmap_XML\u001b[0m\u001b[0;34m(\u001b[0m\u001b[0mfile\u001b[0m\u001b[0;34m)\u001b[0m\u001b[0;34m\u001b[0m\u001b[0;34m\u001b[0m\u001b[0m\n\u001b[0m",
      "\u001b[0;32m<ipython-input-22-e14895ca73c2>\u001b[0m in \u001b[0;36mparse_mmap_XML\u001b[0;34m(xml_file)\u001b[0m\n\u001b[1;32m      1\u001b[0m \u001b[0;32mdef\u001b[0m \u001b[0mparse_mmap_XML\u001b[0m\u001b[0;34m(\u001b[0m\u001b[0mxml_file\u001b[0m\u001b[0;34m)\u001b[0m\u001b[0;34m:\u001b[0m\u001b[0;34m\u001b[0m\u001b[0;34m\u001b[0m\u001b[0m\n\u001b[0;32m----> 2\u001b[0;31m     \u001b[0mxtree\u001b[0m \u001b[0;34m=\u001b[0m \u001b[0met\u001b[0m\u001b[0;34m.\u001b[0m\u001b[0mparse\u001b[0m\u001b[0;34m(\u001b[0m\u001b[0mxml_file\u001b[0m\u001b[0;34m)\u001b[0m\u001b[0;34m\u001b[0m\u001b[0;34m\u001b[0m\u001b[0m\n\u001b[0m\u001b[1;32m      3\u001b[0m     \u001b[0mxroot\u001b[0m \u001b[0;34m=\u001b[0m \u001b[0mxtree\u001b[0m\u001b[0;34m.\u001b[0m\u001b[0mgetroot\u001b[0m\u001b[0;34m(\u001b[0m\u001b[0;34m)\u001b[0m\u001b[0;34m\u001b[0m\u001b[0;34m\u001b[0m\u001b[0m\n\u001b[1;32m      4\u001b[0m     \u001b[0;32mreturn\u001b[0m \u001b[0miterxml\u001b[0m\u001b[0;34m(\u001b[0m\u001b[0mxroot\u001b[0m\u001b[0;34m,\u001b[0m \u001b[0mxml_file\u001b[0m\u001b[0;34m)\u001b[0m\u001b[0;34m\u001b[0m\u001b[0;34m\u001b[0m\u001b[0m\n\u001b[1;32m      5\u001b[0m \u001b[0;34m\u001b[0m\u001b[0m\n",
      "\u001b[0;32m~/anaconda3/lib/python3.7/xml/etree/ElementTree.py\u001b[0m in \u001b[0;36mparse\u001b[0;34m(source, parser)\u001b[0m\n\u001b[1;32m   1195\u001b[0m     \"\"\"\n\u001b[1;32m   1196\u001b[0m     \u001b[0mtree\u001b[0m \u001b[0;34m=\u001b[0m \u001b[0mElementTree\u001b[0m\u001b[0;34m(\u001b[0m\u001b[0;34m)\u001b[0m\u001b[0;34m\u001b[0m\u001b[0;34m\u001b[0m\u001b[0m\n\u001b[0;32m-> 1197\u001b[0;31m     \u001b[0mtree\u001b[0m\u001b[0;34m.\u001b[0m\u001b[0mparse\u001b[0m\u001b[0;34m(\u001b[0m\u001b[0msource\u001b[0m\u001b[0;34m,\u001b[0m \u001b[0mparser\u001b[0m\u001b[0;34m)\u001b[0m\u001b[0;34m\u001b[0m\u001b[0;34m\u001b[0m\u001b[0m\n\u001b[0m\u001b[1;32m   1198\u001b[0m     \u001b[0;32mreturn\u001b[0m \u001b[0mtree\u001b[0m\u001b[0;34m\u001b[0m\u001b[0;34m\u001b[0m\u001b[0m\n\u001b[1;32m   1199\u001b[0m \u001b[0;34m\u001b[0m\u001b[0m\n",
      "\u001b[0;32m~/anaconda3/lib/python3.7/xml/etree/ElementTree.py\u001b[0m in \u001b[0;36mparse\u001b[0;34m(self, source, parser)\u001b[0m\n\u001b[1;32m    585\u001b[0m         \u001b[0mclose_source\u001b[0m \u001b[0;34m=\u001b[0m \u001b[0;32mFalse\u001b[0m\u001b[0;34m\u001b[0m\u001b[0;34m\u001b[0m\u001b[0m\n\u001b[1;32m    586\u001b[0m         \u001b[0;32mif\u001b[0m \u001b[0;32mnot\u001b[0m \u001b[0mhasattr\u001b[0m\u001b[0;34m(\u001b[0m\u001b[0msource\u001b[0m\u001b[0;34m,\u001b[0m \u001b[0;34m\"read\"\u001b[0m\u001b[0;34m)\u001b[0m\u001b[0;34m:\u001b[0m\u001b[0;34m\u001b[0m\u001b[0;34m\u001b[0m\u001b[0m\n\u001b[0;32m--> 587\u001b[0;31m             \u001b[0msource\u001b[0m \u001b[0;34m=\u001b[0m \u001b[0mopen\u001b[0m\u001b[0;34m(\u001b[0m\u001b[0msource\u001b[0m\u001b[0;34m,\u001b[0m \u001b[0;34m\"rb\"\u001b[0m\u001b[0;34m)\u001b[0m\u001b[0;34m\u001b[0m\u001b[0;34m\u001b[0m\u001b[0m\n\u001b[0m\u001b[1;32m    588\u001b[0m             \u001b[0mclose_source\u001b[0m \u001b[0;34m=\u001b[0m \u001b[0;32mTrue\u001b[0m\u001b[0;34m\u001b[0m\u001b[0;34m\u001b[0m\u001b[0m\n\u001b[1;32m    589\u001b[0m         \u001b[0;32mtry\u001b[0m\u001b[0;34m:\u001b[0m\u001b[0;34m\u001b[0m\u001b[0;34m\u001b[0m\u001b[0m\n",
      "\u001b[0;31mFileNotFoundError\u001b[0m: [Errno 2] No such file or directory: 'mm_BYD0500_BYD_GenericEnv_Level1and2_CI.mmap'"
     ]
    }
   ],
   "source": [
    "file = '.mmap'\n",
    "df = parse_mmap_XML(file)"
   ]
  },
  {
   "cell_type": "code",
   "execution_count": 24,
   "metadata": {
    "ExecuteTime": {
     "end_time": "2019-10-17T13:49:40.529094Z",
     "start_time": "2019-10-17T13:49:40.522601Z"
    }
   },
   "outputs": [
    {
     "name": "stdout",
     "output_type": "stream",
     "text": [
      "<class 'pandas.core.frame.DataFrame'>\n",
      "Index: 0 entries\n",
      "Data columns (total 17 columns):\n",
      "filename        0 non-null object\n",
      "reffile         0 non-null object\n",
      "elempath        0 non-null object\n",
      "reffiletype     0 non-null object\n",
      "target          0 non-null object\n",
      "usedfunction    0 non-null object\n",
      "role            0 non-null object\n",
      "path            0 non-null object\n",
      "gid             0 non-null object\n",
      "fname           0 non-null object\n",
      "fns             0 non-null object\n",
      "type2           0 non-null object\n",
      "type            0 non-null object\n",
      "path2           0 non-null object\n",
      "gid2            0 non-null object\n",
      "fname2          0 non-null object\n",
      "fns2            0 non-null object\n",
      "dtypes: object(17)\n",
      "memory usage: 0.0+ bytes\n"
     ]
    }
   ],
   "source": [
    "df.info()"
   ]
  },
  {
   "cell_type": "code",
   "execution_count": 7,
   "metadata": {
    "ExecuteTime": {
     "end_time": "2019-10-17T13:51:44.513634Z",
     "start_time": "2019-10-17T13:49:41.676507Z"
    }
   },
   "outputs": [
    {
     "data": {
      "application/vnd.jupyter.widget-view+json": {
       "model_id": "",
       "version_major": 2,
       "version_minor": 0
      },
      "text/plain": [
       "HBox(children=(IntProgress(value=0, max=727), HTML(value='')))"
      ]
     },
     "metadata": {},
     "output_type": "display_data"
    },
    {
     "name": "stdout",
     "output_type": "stream",
     "text": [
      "\r"
     ]
    }
   ],
   "source": [
    "files = mmapfilelist\n",
    "dfset = []\n",
    "pbar = tqdm(total=len(mmapfilelist), leave=False)\n",
    "pbar.set_description(desc='Processing mappings', refresh=True)\n",
    "\n",
    "for i in files: \n",
    "    df = parse_mmap_XML(i)\n",
    "    pbar.update(1)\n",
    "#     print(len(df.columns))\n",
    "#     df.dropna(axis=0, how='all', subset=df.columns.values, inplace=True)\n",
    "    dfset.append(df)\n",
    "pbar.close()"
   ]
  },
  {
   "cell_type": "code",
   "execution_count": 8,
   "metadata": {
    "ExecuteTime": {
     "end_time": "2019-10-17T13:51:47.846687Z",
     "start_time": "2019-10-17T13:51:45.642605Z"
    }
   },
   "outputs": [
    {
     "data": {
      "application/vnd.jupyter.widget-view+json": {
       "model_id": "",
       "version_major": 2,
       "version_minor": 0
      },
      "text/plain": [
       "HBox(children=(IntProgress(value=0, max=727), HTML(value='')))"
      ]
     },
     "metadata": {},
     "output_type": "display_data"
    },
    {
     "name": "stdout",
     "output_type": "stream",
     "text": [
      "\r"
     ]
    }
   ],
   "source": [
    "df = dfset[0]\n",
    "pbar = tqdm(total=len(dfset), leave=False)\n",
    "pbar.set_description(desc='Processing mappings', refresh=True)\n",
    "pbar.update(1)\n",
    "for i in range(1, len(dfset)):\n",
    "    df = df.append(dfset[i])\n",
    "    pbar.update(1)\n",
    "pbar.close()\n",
    "df.to_csv(\"../generateddata/QASmappings.csv\")"
   ]
  },
  {
   "cell_type": "code",
   "execution_count": 9,
   "metadata": {
    "ExecuteTime": {
     "end_time": "2019-10-17T13:51:49.047987Z",
     "start_time": "2019-10-17T13:51:49.018596Z"
    }
   },
   "outputs": [
    {
     "name": "stdout",
     "output_type": "stream",
     "text": [
      "<class 'pandas.core.frame.DataFrame'>\n",
      "Int64Index: 493071 entries, 0 to 7\n",
      "Data columns (total 17 columns):\n",
      "filename        493071 non-null object\n",
      "reffile         6822 non-null object\n",
      "elempath        493071 non-null object\n",
      "reffiletype     6822 non-null object\n",
      "target          0 non-null object\n",
      "usedfunction    6719 non-null object\n",
      "role            6822 non-null object\n",
      "path            486249 non-null object\n",
      "gid             486249 non-null object\n",
      "fname           0 non-null object\n",
      "fns             0 non-null object\n",
      "type2           435930 non-null object\n",
      "type            486249 non-null object\n",
      "path2           419938 non-null object\n",
      "gid2            419938 non-null object\n",
      "fname2          15992 non-null object\n",
      "fns2            15992 non-null object\n",
      "dtypes: object(17)\n",
      "memory usage: 67.7+ MB\n"
     ]
    }
   ],
   "source": [
    "df.info()"
   ]
  },
  {
   "cell_type": "code",
   "execution_count": 1,
   "metadata": {},
   "outputs": [],
   "source": [
    "# df.head()"
   ]
  },
  {
   "cell_type": "code",
   "execution_count": 11,
   "metadata": {},
   "outputs": [],
   "source": [
    "filecombinations = {'file':[],'reffile':[]}\n",
    "for filename in df['filename'].unique():\n",
    "    splitdf = df[df['filename']==filename]\n",
    "    for reffile in splitdf['reffile'].unique():\n",
    "        if \".xsd\" in str(reffile):\n",
    "            filecombinations['file'].append(filename)\n",
    "            filecombinations['reffile'].append(reffile)\n",
    "#         filecombinations.append({filename:reffile})"
   ]
  },
  {
   "cell_type": "code",
   "execution_count": 12,
   "metadata": {},
   "outputs": [],
   "source": [
    "filecombinationsdf = pd.DataFrame(filecombinations)"
   ]
  },
  {
   "cell_type": "code",
   "execution_count": 13,
   "metadata": {},
   "outputs": [],
   "source": [
    "sub = lambda x: str(x).split(\"/\")[-1]\n",
    "interf = lambda x: str(x).split(\"/\")[5]\n",
    "filecombinationsdf['interface'] = filecombinationsdf['file'].apply(interf)\n",
    "filecombinationsdf['mapping'] = filecombinationsdf['file'].apply(sub)"
   ]
  },
  {
   "cell_type": "code",
   "execution_count": 2,
   "metadata": {},
   "outputs": [],
   "source": [
    "# filecombinationsdf.describe()"
   ]
  },
  {
   "cell_type": "code",
   "execution_count": 15,
   "metadata": {},
   "outputs": [],
   "source": [
    "filecombinationsdf.to_csv(\"../generateddata/qasmapping_combinations.csv\")"
   ]
  },
  {
   "cell_type": "code",
   "execution_count": 25,
   "metadata": {},
   "outputs": [],
   "source": [
    "mappings = pd.read_csv(\"../generateddata/QASmappings.csv\", sep=\",\")\n",
    "mappings.drop(columns=\"Unnamed: 0\", axis=1, inplace=True)"
   ]
  },
  {
   "cell_type": "code",
   "execution_count": 3,
   "metadata": {},
   "outputs": [],
   "source": [
    "# mappings.head()"
   ]
  },
  {
   "cell_type": "code",
   "execution_count": 27,
   "metadata": {},
   "outputs": [],
   "source": [
    "bricks = mappings[mappings['elempath'].str.contains(\"brick\")]"
   ]
  },
  {
   "cell_type": "code",
   "execution_count": 4,
   "metadata": {},
   "outputs": [],
   "source": [
    "# bricks.iloc[0]['filename']"
   ]
  },
  {
   "cell_type": "code",
   "execution_count": 29,
   "metadata": {},
   "outputs": [
    {
     "name": "stdout",
     "output_type": "stream",
     "text": [
      "<class 'pandas.core.frame.DataFrame'>\n",
      "Int64Index: 486249 entries, 22 to 493062\n",
      "Data columns (total 17 columns):\n",
      "filename        486249 non-null object\n",
      "reffile         0 non-null object\n",
      "elempath        486249 non-null object\n",
      "reffiletype     0 non-null object\n",
      "target          0 non-null float64\n",
      "usedfunction    0 non-null object\n",
      "role            0 non-null object\n",
      "path            486249 non-null object\n",
      "gid             486249 non-null float64\n",
      "fname           0 non-null float64\n",
      "fns             0 non-null float64\n",
      "type2           435930 non-null object\n",
      "type            486249 non-null object\n",
      "path2           419938 non-null object\n",
      "gid2            419938 non-null float64\n",
      "fname2          15992 non-null object\n",
      "fns2            15992 non-null object\n",
      "dtypes: float64(5), object(12)\n",
      "memory usage: 66.8+ MB\n"
     ]
    }
   ],
   "source": [
    "bricks.info()"
   ]
  },
  {
   "cell_type": "code",
   "execution_count": 173,
   "metadata": {},
   "outputs": [],
   "source": [
    "def parse_mmap_bricks_XML(xml_file): \n",
    "    try:\n",
    "        xtree = et.parse(xml_file)\n",
    "        xroot = xtree.getroot()\n",
    "    except et.ParseError:\n",
    "        return None\n",
    "    return iterxml(xroot, xml_file)\n",
    "    \n",
    "    \n",
    "def iterxml(xml, filename):\n",
    "    brickcount = 0\n",
    "    brickbrickcount = 0\n",
    "#     for elem in list(xml):\n",
    "#         path = \"\"\n",
    "#         firsttabs = \"\"\n",
    "#         rootelem = \"\"\n",
    "#         if \"}\" in elem.tag:\n",
    "#             rootelem = elem.tag.split(\"}\", 1)[1]\n",
    "#         else:\n",
    "#             rootelem = elem.tag\n",
    "# #         if rootelem == \"content\":\n",
    "#             #print(firsttabs + rootelem)\n",
    "#             #print(firsttabs + \"  \" + str(elem.attrib))\n",
    "#         rootid = elem.attrib.get(\"id\")\n",
    "#         rootname = elem.attrib.get(\"name\")\n",
    "#         path += \"/\"+rootelem\n",
    "#         rootpath1 = path\n",
    "#     try:\n",
    "    content = xml.find('{urn:sap-com:xi}content')\n",
    "    if content == None:\n",
    "        return 0,0\n",
    "    trafo = content.find(\"{urn:sap-com:xi:mapping:xitrafo}XiTrafo\")\n",
    "    if trafo == None:\n",
    "        return 0,0\n",
    "    meta = trafo.find(\"{urn:sap-com:xi:mapping:xitrafo}MetaData\")\n",
    "    if meta == None:\n",
    "        return 0,0\n",
    "    mapping = meta.find(\"{urn:sap-com:xi}mappingtool\")\n",
    "    if mapping == None:\n",
    "        return 0,0\n",
    "    project = mapping.find(\"{urn:sap-com:xi}project\")\n",
    "    if project == None:\n",
    "        return 0,0\n",
    "    transform = project.find(\"{urn:sap-com:xi}transformation\")\n",
    "    if transform == None:\n",
    "        return 0,0\n",
    "    for elem in transform:\n",
    "        if elem.tag == \"{urn:sap-com:xi}brick\":\n",
    "            brickcount += 1\n",
    "            brickbrickcount += parse_mmap_brick(elem, filename)\n",
    "#             else:\n",
    "#                 iterxml(elem, filename, brickcount, brickbrickcount)\n",
    "#     print(brickcount, brickbrickcount)\n",
    "    return brickcount, brickbrickcount\n",
    "#     except:\n",
    "#         return 0,0\n",
    "            \n",
    "def parse_mmap_brick(brick, filename):\n",
    "    return len(brick.findall('.//{urn:sap-com:xi}brick'))\n",
    "#     print(\"hurr\")\n",
    "#     for elem in list(brick): # 1\n",
    "#         rootelem = \"\"\n",
    "#         if \"}\" in elem.tag:\n",
    "#             rootelem = elem.tag.split(\"}\", 1)[1]\n",
    "#         else:\n",
    "#             rootelem = elem.tag\n",
    "            \n",
    "#         print(firsttabs + rootelem)\n",
    "#         print(firsttabs + \"  \" + str(elem.attrib))\n",
    "#         if rootelem == \"brick\":\n",
    "#             print(\"brick\")\n",
    "#             brickcount += 1\n",
    "# #         firsttabs +=\"\\t\"\n",
    "# #         path += rootelem + \"/\"\n",
    "# #         if len(list(elem)) >= 1:\n",
    "#             brickcount += parse_mmap_brick(elem, filename, firsttabs, path, brickcount)\n",
    "#         if len(list(elem)) == 0:\n",
    "#             return brickcount"
   ]
  },
  {
   "cell_type": "code",
   "execution_count": 169,
   "metadata": {},
   "outputs": [
    {
     "name": "stdout",
     "output_type": "stream",
     "text": [
      "289 252\n"
     ]
    },
    {
     "data": {
      "text/plain": [
       "(289, 252)"
      ]
     },
     "execution_count": 169,
     "metadata": {},
     "output_type": "execute_result"
    }
   ],
   "source": [
    "parse_mmap_bricks_XML(\"../../../Downloads/PostNLQAS//src/main/resources/mapping/.mmap\")"
   ]
  },
  {
   "cell_type": "code",
   "execution_count": 170,
   "metadata": {},
   "outputs": [],
   "source": [
    "brickfilelist = bricks['filename'].unique()"
   ]
  },
  {
   "cell_type": "code",
   "execution_count": 175,
   "metadata": {},
   "outputs": [],
   "source": [
    "collection = []\n",
    "for i in mmapfilelist:\n",
    "    val = parse_mmap_bricks_XML(i)\n",
    "    if val != None:\n",
    "        collection.append({'file':i, \"bricks\":val[0], \"sources\":val[1]})"
   ]
  },
  {
   "cell_type": "code",
   "execution_count": 176,
   "metadata": {},
   "outputs": [],
   "source": [
    "brickdf = pd.DataFrame(collection)"
   ]
  },
  {
   "cell_type": "code",
   "execution_count": 5,
   "metadata": {},
   "outputs": [],
   "source": [
    "# brickdf.head()"
   ]
  },
  {
   "cell_type": "code",
   "execution_count": 6,
   "metadata": {},
   "outputs": [],
   "source": [
    "mmap_complexity_df = pd.read_csv(\"../generateddata/QAScomplexity-mappings-xml.csv\")\n",
    "mmap_complexity_df.drop(columns=['Unnamed: 0', \"complexity\", 'concept_complexity'], inplace=True)\n",
    "mmap_complexity_df.head()"
   ]
  },
  {
   "cell_type": "code",
   "execution_count": null,
   "metadata": {},
   "outputs": [],
   "source": []
  },
  {
   "cell_type": "code",
   "execution_count": 7,
   "metadata": {},
   "outputs": [],
   "source": [
    "combineddf = pd.merge(brickdf, mmap_complexity_df, on=\"file\")\n",
    "combineddf.head()"
   ]
  },
  {
   "cell_type": "code",
   "execution_count": 198,
   "metadata": {},
   "outputs": [],
   "source": [
    "combineddf.to_csv(\"../generateddata/QASmmap-stats.csv\")"
   ]
  },
  {
   "cell_type": "code",
   "execution_count": 199,
   "metadata": {},
   "outputs": [
    {
     "data": {
      "text/html": [
       "<div>\n",
       "<style scoped>\n",
       "    .dataframe tbody tr th:only-of-type {\n",
       "        vertical-align: middle;\n",
       "    }\n",
       "\n",
       "    .dataframe tbody tr th {\n",
       "        vertical-align: top;\n",
       "    }\n",
       "\n",
       "    .dataframe thead th {\n",
       "        text-align: right;\n",
       "    }\n",
       "</style>\n",
       "<table border=\"1\" class=\"dataframe\">\n",
       "  <thead>\n",
       "    <tr style=\"text-align: right;\">\n",
       "      <th></th>\n",
       "      <th>bricks</th>\n",
       "      <th>sources</th>\n",
       "      <th>size_complexity</th>\n",
       "      <th>name_complexity</th>\n",
       "    </tr>\n",
       "  </thead>\n",
       "  <tbody>\n",
       "    <tr>\n",
       "      <th>count</th>\n",
       "      <td>726.000000</td>\n",
       "      <td>726.000000</td>\n",
       "      <td>726.000000</td>\n",
       "      <td>726.000000</td>\n",
       "    </tr>\n",
       "    <tr>\n",
       "      <th>mean</th>\n",
       "      <td>663.571625</td>\n",
       "      <td>673.435262</td>\n",
       "      <td>0.189785</td>\n",
       "      <td>0.262346</td>\n",
       "    </tr>\n",
       "    <tr>\n",
       "      <th>std</th>\n",
       "      <td>3387.305816</td>\n",
       "      <td>3359.790633</td>\n",
       "      <td>0.267399</td>\n",
       "      <td>0.337922</td>\n",
       "    </tr>\n",
       "    <tr>\n",
       "      <th>min</th>\n",
       "      <td>0.000000</td>\n",
       "      <td>0.000000</td>\n",
       "      <td>0.016954</td>\n",
       "      <td>0.000000</td>\n",
       "    </tr>\n",
       "    <tr>\n",
       "      <th>25%</th>\n",
       "      <td>0.000000</td>\n",
       "      <td>0.000000</td>\n",
       "      <td>0.018198</td>\n",
       "      <td>0.000000</td>\n",
       "    </tr>\n",
       "    <tr>\n",
       "      <th>50%</th>\n",
       "      <td>12.000000</td>\n",
       "      <td>19.000000</td>\n",
       "      <td>0.068031</td>\n",
       "      <td>0.092045</td>\n",
       "    </tr>\n",
       "    <tr>\n",
       "      <th>75%</th>\n",
       "      <td>48.000000</td>\n",
       "      <td>110.750000</td>\n",
       "      <td>0.215382</td>\n",
       "      <td>0.347009</td>\n",
       "    </tr>\n",
       "    <tr>\n",
       "      <th>max</th>\n",
       "      <td>30757.000000</td>\n",
       "      <td>30785.000000</td>\n",
       "      <td>1.000000</td>\n",
       "      <td>1.000000</td>\n",
       "    </tr>\n",
       "  </tbody>\n",
       "</table>\n",
       "</div>"
      ],
      "text/plain": [
       "             bricks       sources  size_complexity  name_complexity\n",
       "count    726.000000    726.000000       726.000000       726.000000\n",
       "mean     663.571625    673.435262         0.189785         0.262346\n",
       "std     3387.305816   3359.790633         0.267399         0.337922\n",
       "min        0.000000      0.000000         0.016954         0.000000\n",
       "25%        0.000000      0.000000         0.018198         0.000000\n",
       "50%       12.000000     19.000000         0.068031         0.092045\n",
       "75%       48.000000    110.750000         0.215382         0.347009\n",
       "max    30757.000000  30785.000000         1.000000         1.000000"
      ]
     },
     "execution_count": 199,
     "metadata": {},
     "output_type": "execute_result"
    }
   ],
   "source": [
    "combineddf.describe()"
   ]
  },
  {
   "cell_type": "code",
   "execution_count": null,
   "metadata": {},
   "outputs": [],
   "source": []
  }
 ],
 "metadata": {
  "kernelspec": {
   "display_name": "Python 3",
   "language": "python",
   "name": "python3"
  },
  "language_info": {
   "codemirror_mode": {
    "name": "ipython",
    "version": 3
   },
   "file_extension": ".py",
   "mimetype": "text/x-python",
   "name": "python",
   "nbconvert_exporter": "python",
   "pygments_lexer": "ipython3",
   "version": "3.7.3-final"
  },
  "toc": {
   "base_numbering": 1,
   "nav_menu": {},
   "number_sections": true,
   "sideBar": true,
   "skip_h1_title": false,
   "title_cell": "Table of Contents",
   "title_sidebar": "Contents",
   "toc_cell": false,
   "toc_position": {},
   "toc_section_display": true,
   "toc_window_display": false
  },
  "varInspector": {
   "cols": {
    "lenName": 16,
    "lenType": 16,
    "lenVar": 40
   },
   "kernels_config": {
    "python": {
     "delete_cmd_postfix": "",
     "delete_cmd_prefix": "del ",
     "library": "var_list.py",
     "varRefreshCmd": "print(var_dic_list())"
    },
    "r": {
     "delete_cmd_postfix": ") ",
     "delete_cmd_prefix": "rm(",
     "library": "var_list.r",
     "varRefreshCmd": "cat(var_dic_list()) "
    }
   },
   "types_to_exclude": [
    "module",
    "function",
    "builtin_function_or_method",
    "instance",
    "_Feature"
   ],
   "window_display": false
  }
 },
 "nbformat": 4,
 "nbformat_minor": 4
}