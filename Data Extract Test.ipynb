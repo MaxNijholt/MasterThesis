{
 "cells": [
  {
   "cell_type": "markdown",
   "metadata": {},
   "source": [
    "# HTTP"
   ]
  },
  {
   "cell_type": "code",
   "execution_count": 2,
   "metadata": {
    "ExecuteTime": {
     "end_time": "2019-10-15T10:39:13.419937Z",
     "start_time": "2019-10-15T10:39:13.410263Z"
    },
    "init_cell": true
   },
   "outputs": [
    {
     "name": "stderr",
     "output_type": "stream",
     "text": [
      "/Users/max/anaconda3/lib/python3.7/site-packages/tqdm/autonotebook.py:17: TqdmExperimentalWarning: Using `tqdm.autonotebook.tqdm` in notebook mode. Use `tqdm.tqdm` instead to force console mode (e.g. in jupyter console)\n",
      "  \" (e.g. in jupyter console)\", TqdmExperimentalWarning)\n"
     ]
    }
   ],
   "source": [
    "import pandas as pd\n",
    "import numpy as np\n",
    "import os\n",
    "import regex as re\n",
    "from tqdm.autonotebook import tqdm\n",
    "import requests\n",
    "import math\n",
    "import time\n",
    "import json\n",
    "import xml.etree.ElementTree as ET\n",
    "import io\n",
    "import datetime\n",
    "from dateutil import parser\n",
    "from multiprocessing.dummy import Pool\n",
    "import urllib3\n",
    "from requests.adapters import HTTPAdapter\n",
    "from datetime import datetime, timedelta"
   ]
  },
  {
   "cell_type": "code",
   "execution_count": 4,
   "metadata": {},
   "outputs": [],
   "source": [
    "url_user_pass = {}\n",
    "with open('url_user_pass.json') as json_file:\n",
    "    url_user_pass = json.load(json_file)\n",
    "    url_user_pass = url_user_pass.get(\"Data Extract Test\")"
   ]
  },
  {
   "cell_type": "code",
   "execution_count": 6,
   "metadata": {
    "ExecuteTime": {
     "end_time": "2019-10-15T10:39:13.422747Z",
     "start_time": "2019-10-15T10:39:13.413Z"
    },
    "init_cell": true
   },
   "outputs": [],
   "source": [
    "host= url_user_pass.get(\"QforIT\").get(\"tenant\")\n",
    "\n",
    "session = requests.Session()\n",
    "session.auth = (url_user_pass.get(\"suser\"), url_user_pass.get(\"password\"))\n",
    "session.mount('https://', HTTPAdapter(pool_connections=5, pool_maxsize=20))\n",
    "def getCount():\n",
    "    counturl = url_user_pass.get(\"QforIT\").get(\"get_count\")\n",
    "\n",
    "    r = session.get(str(counturl))\n",
    "    count = r.content\n",
    "    bcount = int(str(count)[2:8])\n",
    "    return bcount"
   ]
  },
  {
   "cell_type": "code",
   "execution_count": 7,
   "metadata": {
    "ExecuteTime": {
     "end_time": "2019-10-15T10:39:13.424458Z",
     "start_time": "2019-10-15T10:39:13.415Z"
    },
    "init_cell": true
   },
   "outputs": [],
   "source": [
    "def requesturl(top,skip, url):\n",
    "    requesturl = url.format(top,skip)\n",
    "    return requesturl\n",
    "\n",
    "def request(top,skip, url):\n",
    "    req = requesturl(top,skip, str(url))\n",
    "    res = session.get(req)\n",
    "    contents = res.content.decode('utf8')\n",
    "    data = json.loads(contents)\n",
    "    \n",
    "    return data"
   ]
  },
  {
   "cell_type": "code",
   "execution_count": 17,
   "metadata": {
    "ExecuteTime": {
     "end_time": "2019-08-12T08:02:15.070821Z",
     "start_time": "2019-08-12T08:02:15.053203Z"
    },
    "code_folding": []
   },
   "outputs": [],
   "source": [
    "def processMsg(stack, data):\n",
    "    for msg in data.get('d').get('results'):\n",
    "        dat = dict({\n",
    "            'MessageGuid': msg.get('MessageGuid'),\n",
    "            'CorrelationId': msg.get('CorrelationId'),\n",
    "            'ApplicationMessageId': msg.get('ApplicationMessageId'),\n",
    "            'ApplicationMessageType': msg.get('ApplicationMessageType'),\n",
    "            'LogStart': convertdatetime(msg.get('LogStart')),\n",
    "            'LogEnd': convertdatetime(msg.get('LogEnd')),\n",
    "            'Sender': msg.get('Sender'),\n",
    "            'Receiver': msg.get('Receiver'),\n",
    "            'IntegrationFlowName': msg.get('IntegrationFlowName'),\n",
    "            'Status': msg.get('Status'),\n",
    "            'LogLevel': msg.get('LogLevel'),\n",
    "            'CustomStatus': msg.get('CustomStatus'),\n",
    "            'TransactionId': msg.get('TransactionId'),\n",
    "            'PreviousComponentName': msg.get('PreviousComponentName') \n",
    "        })\n",
    "        stack.append(dat)\n",
    "    return stack\n",
    "\n",
    "def convertdatetime(x):\n",
    "    regexstring = r\"\\/\\w{4}\\((\\d*?)\\d{3}\\)\\/\"\n",
    "    res = re.search(regexstring, x)\n",
    "    if res:\n",
    "        dt = datetime.fromtimestamp(int(res.group(1))).isoformat()\n",
    "        return dt\n",
    "    return None\n",
    "        \n",
    "def download_logs(lastdate = None):\n",
    "    skipamount = 1000\n",
    "    \n",
    "    stack = []#pd.DataFrame(columns=['MessageGuid','CorrelationId','ApplicationMessageId','ApplicationMessageType','LogStart','LogEnd','Sender','Receiver''IntegrationFlowName','Status''LogLevel','CustomStatus','TransactionId','PreviousComponentName'])\n",
    "    \n",
    "    url = str(url_user_pass.get(\"QforIT\").get(\"download_logs_url\"))\n",
    "    if lastdate != None:\n",
    "        url = url + \"&$filter=LogEnd ge datetime%27\"+lastdate[:-3]+\"%27\"\n",
    "    data = request(skipamount,skipamount,url)\n",
    "    count = data.get('d').get('__count')\n",
    "    \n",
    "    requestcount = math.ceil(int(count)/skipamount)\n",
    "    \n",
    "    pbar = tqdm(total=requestcount*skipamount, leave=False)\n",
    "    pbar.set_description(desc='Downloading log entries', refresh=True)\n",
    "    pbar.update(skipamount)\n",
    "    for i in range(0,requestcount):\n",
    "        data = request(skipamount,i*skipamount,url)\n",
    "        stack = processMsg(stack, data)\n",
    "        pbar.update(skipamount)\n",
    "    pbar.close()\n",
    "    return stack\n",
    "\n",
    "def getMaxDate(df):\n",
    "    start = df.LogStart.max()\n",
    "    end = df.LogEnd.max()\n",
    "    if start >= end:\n",
    "        return start\n",
    "    elif end > start:\n",
    "        return end\n",
    "\n",
    "def getLogs(date):\n",
    "#     date = readfromfile()\n",
    "    df = download_logs(date)\n",
    "    df = pd.DataFrame(df, columns=['MessageGuid','CorrelationId','ApplicationMessageId','ApplicationMessageType','LogStart','LogEnd','Sender','Receiver''IntegrationFlowName','Status''LogLevel','CustomStatus','TransactionId','PreviousComponentName'])\n",
    "    dfcount = df.shape[0]\n",
    "    if dfcount > 0:\n",
    "        newmaxdate = getMaxDate(df)\n",
    "#         filename = getfilename(df)\n",
    "#         writetofile(newmaxdate)\n",
    "#         df.to_csv(filename)\n",
    "        guids = df['MessageGuid'].unique()\n",
    "        return guids, date, newmaxdate\n",
    "    else:\n",
    "        return [], None, None\n",
    "    \n",
    "\n",
    "# def writetofile(date):\n",
    "#     with open('latestdate.txt', 'w') as file:  \n",
    "#         file.write(str(date))\n",
    "        \n",
    "def readfromfile():\n",
    "    with open('latestdate.txt', 'r') as file:  \n",
    "        data = file.read() \n",
    "        return data\n",
    "    \n",
    "def getfilename(df):\n",
    "    olddate = readfromfile()\n",
    "    newdate = parser.parse(str(getMaxDate(df))).isoformat()\n",
    "    filename = \"logs\" + str(olddate) + \" to \" + str(newdate) + \".csv\"\n",
    "    return filename\n"
   ]
  },
  {
   "cell_type": "code",
   "execution_count": 18,
   "metadata": {
    "ExecuteTime": {
     "end_time": "2019-08-12T08:02:16.470465Z",
     "start_time": "2019-08-12T08:02:16.461321Z"
    }
   },
   "outputs": [],
   "source": [
    "MSG_DETAIL_URL = url_user_pass.get(\"QforIT\").get(\"msgdetailurl\")\n",
    "\n",
    "def getMessageText(guids):\n",
    "    session = requests.Session()\n",
    "    session.auth = (url_user_pass.get(\"suser\"), url_user_pass.get(\"password\"))\n",
    "    \n",
    "    stack = []\n",
    "    \n",
    "    def req_split(GUID):\n",
    "        res = session.get(MSG_DETAIL_URL + GUID)\n",
    "        contents = res.content.decode('utf8')\n",
    "        root = ET.fromstring(contents)\n",
    "        tag = (GUID, root.findtext(\".//mplData\"))\n",
    "        \n",
    "        pbar.update(1)\n",
    "        stack.append(tag) \n",
    "    \n",
    "    pbar = tqdm(total=len(guids), leave=False)\n",
    "    pbar.set_description(desc='Downloading log entries text', refresh=True)\n",
    "    \n",
    "    with Pool(49) as p:\n",
    "        pm = p.imap_unordered(req_split,guids)\n",
    "        pm = [i for i in pm if i]\n",
    "    \n",
    "    pbar.close()\n",
    "    return stack    \n",
    "\n",
    "def getmsgfilename(date1,date2):\n",
    "    filename = \"log msg\" + str(date1) + \" to \" + str(date2) + \".csv\"\n",
    "    return filename\n",
    "        \n",
    "def getDetails(guids, date, newmaxdate):\n",
    "    stack = getMessageText(guids)\n",
    "    dt = []\n",
    "    count = 0\n",
    "    for i in stack:\n",
    "        dt.append((i))\n",
    "    df = pd.DataFrame(dt, columns=['GUID','MSG'])\n",
    "#     filename = getmsgfilename(date, newmaxdate)\n",
    "#     df.to_csv(filename)"
   ]
  },
  {
   "cell_type": "code",
   "execution_count": 19,
   "metadata": {
    "ExecuteTime": {
     "end_time": "2019-08-12T08:02:19.728737Z",
     "start_time": "2019-08-12T08:02:19.726027Z"
    },
    "scrolled": true
   },
   "outputs": [],
   "source": [
    "# waittime_in_sec = 60*60\n",
    "# while True:\n",
    "# guids, date, newmaxdate = getLogs()\n",
    "# if len(guids) > 0: \n",
    "#     getDetails(guids, date, newmaxdate)\n",
    "#     pbar = tqdm(total=waittime_in_sec, leave=False)\n",
    "#     pbar.set_description(desc='Waiting', refresh=True)\n",
    "#     for i in range(0,waittime_in_sec):\n",
    "#         time.sleep(1)\n",
    "#         pbar.update(1)\n",
    "#     pbar.close()"
   ]
  },
  {
   "cell_type": "code",
   "execution_count": 20,
   "metadata": {},
   "outputs": [],
   "source": [
    "downloadrangeinhours = [1,2,4,8,12,24,48,72,168,336,504,672]\n",
    "times = []\n",
    "size = []"
   ]
  },
  {
   "cell_type": "code",
   "execution_count": 21,
   "metadata": {
    "ExecuteTime": {
     "end_time": "2019-08-12T11:47:42.224454Z",
     "start_time": "2019-08-12T11:47:42.217928Z"
    },
    "code_folding": []
   },
   "outputs": [],
   "source": [
    "def getTimeInsight(downloadrangeinhours):\n",
    "    for i in downloadrangeinhours:\n",
    "        date = datetime.today() - timedelta(days=1 ,hours=i, minutes=0)\n",
    "        date = parser.parse(str(date))\n",
    "        date = date.isoformat()\n",
    "        start = time.time()\n",
    "        guids, date, newmaxdate = getLogs(date)\n",
    "        if len(guids) > 0: \n",
    "            getDetails(guids, date, newmaxdate)\n",
    "        \n",
    "        end = time.time()\n",
    "        elapsed = end - start\n",
    "        print(elapsed)\n",
    "        print(len(guids))\n",
    "        times.append(elapsed)\n",
    "        size.append(len(guids))"
   ]
  },
  {
   "cell_type": "code",
   "execution_count": 22,
   "metadata": {
    "ExecuteTime": {
     "end_time": "2019-08-12T13:03:18.226146Z",
     "start_time": "2019-08-12T11:48:18.601598Z"
    }
   },
   "outputs": [
    {
     "ename": "JSONDecodeError",
     "evalue": "Expecting value: line 1 column 1 (char 0)",
     "output_type": "error",
     "traceback": [
      "\u001b[0;31m---------------------------------------------------------------------------\u001b[0m",
      "\u001b[0;31mJSONDecodeError\u001b[0m                           Traceback (most recent call last)",
      "\u001b[0;32m<ipython-input-22-00932ab97d61>\u001b[0m in \u001b[0;36m<module>\u001b[0;34m\u001b[0m\n\u001b[1;32m      1\u001b[0m \u001b[0mdownloadrangeinhours\u001b[0m \u001b[0;34m=\u001b[0m \u001b[0;34m[\u001b[0m\u001b[0;36m840\u001b[0m\u001b[0;34m]\u001b[0m\u001b[0;34m\u001b[0m\u001b[0;34m\u001b[0m\u001b[0m\n\u001b[0;32m----> 2\u001b[0;31m \u001b[0mgetTimeInsight\u001b[0m\u001b[0;34m(\u001b[0m\u001b[0mdownloadrangeinhours\u001b[0m\u001b[0;34m)\u001b[0m\u001b[0;34m\u001b[0m\u001b[0;34m\u001b[0m\u001b[0m\n\u001b[0m\u001b[1;32m      3\u001b[0m \u001b[0mdownloadrangeinhours\u001b[0m \u001b[0;34m=\u001b[0m \u001b[0;34m[\u001b[0m\u001b[0;36m1\u001b[0m\u001b[0;34m,\u001b[0m\u001b[0;36m2\u001b[0m\u001b[0;34m,\u001b[0m\u001b[0;36m4\u001b[0m\u001b[0;34m,\u001b[0m\u001b[0;36m8\u001b[0m\u001b[0;34m,\u001b[0m\u001b[0;36m12\u001b[0m\u001b[0;34m]\u001b[0m\u001b[0;34m\u001b[0m\u001b[0;34m\u001b[0m\u001b[0m\n",
      "\u001b[0;32m<ipython-input-21-c2b030501873>\u001b[0m in \u001b[0;36mgetTimeInsight\u001b[0;34m(downloadrangeinhours)\u001b[0m\n\u001b[1;32m      5\u001b[0m         \u001b[0mdate\u001b[0m \u001b[0;34m=\u001b[0m \u001b[0mdate\u001b[0m\u001b[0;34m.\u001b[0m\u001b[0misoformat\u001b[0m\u001b[0;34m(\u001b[0m\u001b[0;34m)\u001b[0m\u001b[0;34m\u001b[0m\u001b[0;34m\u001b[0m\u001b[0m\n\u001b[1;32m      6\u001b[0m         \u001b[0mstart\u001b[0m \u001b[0;34m=\u001b[0m \u001b[0mtime\u001b[0m\u001b[0;34m.\u001b[0m\u001b[0mtime\u001b[0m\u001b[0;34m(\u001b[0m\u001b[0;34m)\u001b[0m\u001b[0;34m\u001b[0m\u001b[0;34m\u001b[0m\u001b[0m\n\u001b[0;32m----> 7\u001b[0;31m         \u001b[0mguids\u001b[0m\u001b[0;34m,\u001b[0m \u001b[0mdate\u001b[0m\u001b[0;34m,\u001b[0m \u001b[0mnewmaxdate\u001b[0m \u001b[0;34m=\u001b[0m \u001b[0mgetLogs\u001b[0m\u001b[0;34m(\u001b[0m\u001b[0mdate\u001b[0m\u001b[0;34m)\u001b[0m\u001b[0;34m\u001b[0m\u001b[0;34m\u001b[0m\u001b[0m\n\u001b[0m\u001b[1;32m      8\u001b[0m         \u001b[0;32mif\u001b[0m \u001b[0mlen\u001b[0m\u001b[0;34m(\u001b[0m\u001b[0mguids\u001b[0m\u001b[0;34m)\u001b[0m \u001b[0;34m>\u001b[0m \u001b[0;36m0\u001b[0m\u001b[0;34m:\u001b[0m\u001b[0;34m\u001b[0m\u001b[0;34m\u001b[0m\u001b[0m\n\u001b[1;32m      9\u001b[0m             \u001b[0mgetDetails\u001b[0m\u001b[0;34m(\u001b[0m\u001b[0mguids\u001b[0m\u001b[0;34m,\u001b[0m \u001b[0mdate\u001b[0m\u001b[0;34m,\u001b[0m \u001b[0mnewmaxdate\u001b[0m\u001b[0;34m)\u001b[0m\u001b[0;34m\u001b[0m\u001b[0;34m\u001b[0m\u001b[0m\n",
      "\u001b[0;32m<ipython-input-17-dabb67402bae>\u001b[0m in \u001b[0;36mgetLogs\u001b[0;34m(date)\u001b[0m\n\u001b[1;32m     62\u001b[0m \u001b[0;32mdef\u001b[0m \u001b[0mgetLogs\u001b[0m\u001b[0;34m(\u001b[0m\u001b[0mdate\u001b[0m\u001b[0;34m)\u001b[0m\u001b[0;34m:\u001b[0m\u001b[0;34m\u001b[0m\u001b[0;34m\u001b[0m\u001b[0m\n\u001b[1;32m     63\u001b[0m \u001b[0;31m#     date = readfromfile()\u001b[0m\u001b[0;34m\u001b[0m\u001b[0;34m\u001b[0m\u001b[0;34m\u001b[0m\u001b[0m\n\u001b[0;32m---> 64\u001b[0;31m     \u001b[0mdf\u001b[0m \u001b[0;34m=\u001b[0m \u001b[0mdownload_logs\u001b[0m\u001b[0;34m(\u001b[0m\u001b[0mdate\u001b[0m\u001b[0;34m)\u001b[0m\u001b[0;34m\u001b[0m\u001b[0;34m\u001b[0m\u001b[0m\n\u001b[0m\u001b[1;32m     65\u001b[0m     \u001b[0mdf\u001b[0m \u001b[0;34m=\u001b[0m \u001b[0mpd\u001b[0m\u001b[0;34m.\u001b[0m\u001b[0mDataFrame\u001b[0m\u001b[0;34m(\u001b[0m\u001b[0mdf\u001b[0m\u001b[0;34m,\u001b[0m \u001b[0mcolumns\u001b[0m\u001b[0;34m=\u001b[0m\u001b[0;34m[\u001b[0m\u001b[0;34m'MessageGuid'\u001b[0m\u001b[0;34m,\u001b[0m\u001b[0;34m'CorrelationId'\u001b[0m\u001b[0;34m,\u001b[0m\u001b[0;34m'ApplicationMessageId'\u001b[0m\u001b[0;34m,\u001b[0m\u001b[0;34m'ApplicationMessageType'\u001b[0m\u001b[0;34m,\u001b[0m\u001b[0;34m'LogStart'\u001b[0m\u001b[0;34m,\u001b[0m\u001b[0;34m'LogEnd'\u001b[0m\u001b[0;34m,\u001b[0m\u001b[0;34m'Sender'\u001b[0m\u001b[0;34m,\u001b[0m\u001b[0;34m'Receiver'\u001b[0m\u001b[0;34m'IntegrationFlowName'\u001b[0m\u001b[0;34m,\u001b[0m\u001b[0;34m'Status'\u001b[0m\u001b[0;34m'LogLevel'\u001b[0m\u001b[0;34m,\u001b[0m\u001b[0;34m'CustomStatus'\u001b[0m\u001b[0;34m,\u001b[0m\u001b[0;34m'TransactionId'\u001b[0m\u001b[0;34m,\u001b[0m\u001b[0;34m'PreviousComponentName'\u001b[0m\u001b[0;34m]\u001b[0m\u001b[0;34m)\u001b[0m\u001b[0;34m\u001b[0m\u001b[0;34m\u001b[0m\u001b[0m\n\u001b[1;32m     66\u001b[0m     \u001b[0mdfcount\u001b[0m \u001b[0;34m=\u001b[0m \u001b[0mdf\u001b[0m\u001b[0;34m.\u001b[0m\u001b[0mshape\u001b[0m\u001b[0;34m[\u001b[0m\u001b[0;36m0\u001b[0m\u001b[0;34m]\u001b[0m\u001b[0;34m\u001b[0m\u001b[0;34m\u001b[0m\u001b[0m\n",
      "\u001b[0;32m<ipython-input-17-dabb67402bae>\u001b[0m in \u001b[0;36mdownload_logs\u001b[0;34m(lastdate)\u001b[0m\n\u001b[1;32m     37\u001b[0m     \u001b[0;32mif\u001b[0m \u001b[0mlastdate\u001b[0m \u001b[0;34m!=\u001b[0m \u001b[0;32mNone\u001b[0m\u001b[0;34m:\u001b[0m\u001b[0;34m\u001b[0m\u001b[0;34m\u001b[0m\u001b[0m\n\u001b[1;32m     38\u001b[0m         \u001b[0murl\u001b[0m \u001b[0;34m=\u001b[0m \u001b[0murl\u001b[0m \u001b[0;34m+\u001b[0m \u001b[0;34m\"&$filter=LogEnd ge datetime%27\"\u001b[0m\u001b[0;34m+\u001b[0m\u001b[0mlastdate\u001b[0m\u001b[0;34m[\u001b[0m\u001b[0;34m:\u001b[0m\u001b[0;34m-\u001b[0m\u001b[0;36m3\u001b[0m\u001b[0;34m]\u001b[0m\u001b[0;34m+\u001b[0m\u001b[0;34m\"%27\"\u001b[0m\u001b[0;34m\u001b[0m\u001b[0;34m\u001b[0m\u001b[0m\n\u001b[0;32m---> 39\u001b[0;31m     \u001b[0mdata\u001b[0m \u001b[0;34m=\u001b[0m \u001b[0mrequest\u001b[0m\u001b[0;34m(\u001b[0m\u001b[0mskipamount\u001b[0m\u001b[0;34m,\u001b[0m\u001b[0mskipamount\u001b[0m\u001b[0;34m,\u001b[0m\u001b[0murl\u001b[0m\u001b[0;34m)\u001b[0m\u001b[0;34m\u001b[0m\u001b[0;34m\u001b[0m\u001b[0m\n\u001b[0m\u001b[1;32m     40\u001b[0m     \u001b[0mcount\u001b[0m \u001b[0;34m=\u001b[0m \u001b[0mdata\u001b[0m\u001b[0;34m.\u001b[0m\u001b[0mget\u001b[0m\u001b[0;34m(\u001b[0m\u001b[0;34m'd'\u001b[0m\u001b[0;34m)\u001b[0m\u001b[0;34m.\u001b[0m\u001b[0mget\u001b[0m\u001b[0;34m(\u001b[0m\u001b[0;34m'__count'\u001b[0m\u001b[0;34m)\u001b[0m\u001b[0;34m\u001b[0m\u001b[0;34m\u001b[0m\u001b[0m\n\u001b[1;32m     41\u001b[0m \u001b[0;34m\u001b[0m\u001b[0m\n",
      "\u001b[0;32m<ipython-input-7-f8e1f6760be7>\u001b[0m in \u001b[0;36mrequest\u001b[0;34m(top, skip, url)\u001b[0m\n\u001b[1;32m      7\u001b[0m     \u001b[0mres\u001b[0m \u001b[0;34m=\u001b[0m \u001b[0msession\u001b[0m\u001b[0;34m.\u001b[0m\u001b[0mget\u001b[0m\u001b[0;34m(\u001b[0m\u001b[0mreq\u001b[0m\u001b[0;34m)\u001b[0m\u001b[0;34m\u001b[0m\u001b[0;34m\u001b[0m\u001b[0m\n\u001b[1;32m      8\u001b[0m     \u001b[0mcontents\u001b[0m \u001b[0;34m=\u001b[0m \u001b[0mres\u001b[0m\u001b[0;34m.\u001b[0m\u001b[0mcontent\u001b[0m\u001b[0;34m.\u001b[0m\u001b[0mdecode\u001b[0m\u001b[0;34m(\u001b[0m\u001b[0;34m'utf8'\u001b[0m\u001b[0;34m)\u001b[0m\u001b[0;34m\u001b[0m\u001b[0;34m\u001b[0m\u001b[0m\n\u001b[0;32m----> 9\u001b[0;31m     \u001b[0mdata\u001b[0m \u001b[0;34m=\u001b[0m \u001b[0mjson\u001b[0m\u001b[0;34m.\u001b[0m\u001b[0mloads\u001b[0m\u001b[0;34m(\u001b[0m\u001b[0mcontents\u001b[0m\u001b[0;34m)\u001b[0m\u001b[0;34m\u001b[0m\u001b[0;34m\u001b[0m\u001b[0m\n\u001b[0m\u001b[1;32m     10\u001b[0m \u001b[0;34m\u001b[0m\u001b[0m\n\u001b[1;32m     11\u001b[0m     \u001b[0;32mreturn\u001b[0m \u001b[0mdata\u001b[0m\u001b[0;34m\u001b[0m\u001b[0;34m\u001b[0m\u001b[0m\n",
      "\u001b[0;32m~/anaconda3/lib/python3.7/json/__init__.py\u001b[0m in \u001b[0;36mloads\u001b[0;34m(s, encoding, cls, object_hook, parse_float, parse_int, parse_constant, object_pairs_hook, **kw)\u001b[0m\n\u001b[1;32m    346\u001b[0m             \u001b[0mparse_int\u001b[0m \u001b[0;32mis\u001b[0m \u001b[0;32mNone\u001b[0m \u001b[0;32mand\u001b[0m \u001b[0mparse_float\u001b[0m \u001b[0;32mis\u001b[0m \u001b[0;32mNone\u001b[0m \u001b[0;32mand\u001b[0m\u001b[0;34m\u001b[0m\u001b[0;34m\u001b[0m\u001b[0m\n\u001b[1;32m    347\u001b[0m             parse_constant is None and object_pairs_hook is None and not kw):\n\u001b[0;32m--> 348\u001b[0;31m         \u001b[0;32mreturn\u001b[0m \u001b[0m_default_decoder\u001b[0m\u001b[0;34m.\u001b[0m\u001b[0mdecode\u001b[0m\u001b[0;34m(\u001b[0m\u001b[0ms\u001b[0m\u001b[0;34m)\u001b[0m\u001b[0;34m\u001b[0m\u001b[0;34m\u001b[0m\u001b[0m\n\u001b[0m\u001b[1;32m    349\u001b[0m     \u001b[0;32mif\u001b[0m \u001b[0mcls\u001b[0m \u001b[0;32mis\u001b[0m \u001b[0;32mNone\u001b[0m\u001b[0;34m:\u001b[0m\u001b[0;34m\u001b[0m\u001b[0;34m\u001b[0m\u001b[0m\n\u001b[1;32m    350\u001b[0m         \u001b[0mcls\u001b[0m \u001b[0;34m=\u001b[0m \u001b[0mJSONDecoder\u001b[0m\u001b[0;34m\u001b[0m\u001b[0;34m\u001b[0m\u001b[0m\n",
      "\u001b[0;32m~/anaconda3/lib/python3.7/json/decoder.py\u001b[0m in \u001b[0;36mdecode\u001b[0;34m(self, s, _w)\u001b[0m\n\u001b[1;32m    335\u001b[0m \u001b[0;34m\u001b[0m\u001b[0m\n\u001b[1;32m    336\u001b[0m         \"\"\"\n\u001b[0;32m--> 337\u001b[0;31m         \u001b[0mobj\u001b[0m\u001b[0;34m,\u001b[0m \u001b[0mend\u001b[0m \u001b[0;34m=\u001b[0m \u001b[0mself\u001b[0m\u001b[0;34m.\u001b[0m\u001b[0mraw_decode\u001b[0m\u001b[0;34m(\u001b[0m\u001b[0ms\u001b[0m\u001b[0;34m,\u001b[0m \u001b[0midx\u001b[0m\u001b[0;34m=\u001b[0m\u001b[0m_w\u001b[0m\u001b[0;34m(\u001b[0m\u001b[0ms\u001b[0m\u001b[0;34m,\u001b[0m \u001b[0;36m0\u001b[0m\u001b[0;34m)\u001b[0m\u001b[0;34m.\u001b[0m\u001b[0mend\u001b[0m\u001b[0;34m(\u001b[0m\u001b[0;34m)\u001b[0m\u001b[0;34m)\u001b[0m\u001b[0;34m\u001b[0m\u001b[0;34m\u001b[0m\u001b[0m\n\u001b[0m\u001b[1;32m    338\u001b[0m         \u001b[0mend\u001b[0m \u001b[0;34m=\u001b[0m \u001b[0m_w\u001b[0m\u001b[0;34m(\u001b[0m\u001b[0ms\u001b[0m\u001b[0;34m,\u001b[0m \u001b[0mend\u001b[0m\u001b[0;34m)\u001b[0m\u001b[0;34m.\u001b[0m\u001b[0mend\u001b[0m\u001b[0;34m(\u001b[0m\u001b[0;34m)\u001b[0m\u001b[0;34m\u001b[0m\u001b[0;34m\u001b[0m\u001b[0m\n\u001b[1;32m    339\u001b[0m         \u001b[0;32mif\u001b[0m \u001b[0mend\u001b[0m \u001b[0;34m!=\u001b[0m \u001b[0mlen\u001b[0m\u001b[0;34m(\u001b[0m\u001b[0ms\u001b[0m\u001b[0;34m)\u001b[0m\u001b[0;34m:\u001b[0m\u001b[0;34m\u001b[0m\u001b[0;34m\u001b[0m\u001b[0m\n",
      "\u001b[0;32m~/anaconda3/lib/python3.7/json/decoder.py\u001b[0m in \u001b[0;36mraw_decode\u001b[0;34m(self, s, idx)\u001b[0m\n\u001b[1;32m    353\u001b[0m             \u001b[0mobj\u001b[0m\u001b[0;34m,\u001b[0m \u001b[0mend\u001b[0m \u001b[0;34m=\u001b[0m \u001b[0mself\u001b[0m\u001b[0;34m.\u001b[0m\u001b[0mscan_once\u001b[0m\u001b[0;34m(\u001b[0m\u001b[0ms\u001b[0m\u001b[0;34m,\u001b[0m \u001b[0midx\u001b[0m\u001b[0;34m)\u001b[0m\u001b[0;34m\u001b[0m\u001b[0;34m\u001b[0m\u001b[0m\n\u001b[1;32m    354\u001b[0m         \u001b[0;32mexcept\u001b[0m \u001b[0mStopIteration\u001b[0m \u001b[0;32mas\u001b[0m \u001b[0merr\u001b[0m\u001b[0;34m:\u001b[0m\u001b[0;34m\u001b[0m\u001b[0;34m\u001b[0m\u001b[0m\n\u001b[0;32m--> 355\u001b[0;31m             \u001b[0;32mraise\u001b[0m \u001b[0mJSONDecodeError\u001b[0m\u001b[0;34m(\u001b[0m\u001b[0;34m\"Expecting value\"\u001b[0m\u001b[0;34m,\u001b[0m \u001b[0ms\u001b[0m\u001b[0;34m,\u001b[0m \u001b[0merr\u001b[0m\u001b[0;34m.\u001b[0m\u001b[0mvalue\u001b[0m\u001b[0;34m)\u001b[0m \u001b[0;32mfrom\u001b[0m \u001b[0;32mNone\u001b[0m\u001b[0;34m\u001b[0m\u001b[0;34m\u001b[0m\u001b[0m\n\u001b[0m\u001b[1;32m    356\u001b[0m         \u001b[0;32mreturn\u001b[0m \u001b[0mobj\u001b[0m\u001b[0;34m,\u001b[0m \u001b[0mend\u001b[0m\u001b[0;34m\u001b[0m\u001b[0;34m\u001b[0m\u001b[0m\n",
      "\u001b[0;31mJSONDecodeError\u001b[0m: Expecting value: line 1 column 1 (char 0)"
     ]
    }
   ],
   "source": [
    "downloadrangeinhours = [840]\n",
    "getTimeInsight(downloadrangeinhours)\n",
    "downloadrangeinhours = [1,2,4,8,12]"
   ]
  },
  {
   "cell_type": "code",
   "execution_count": 28,
   "metadata": {
    "ExecuteTime": {
     "end_time": "2019-08-12T13:03:18.277180Z",
     "start_time": "2019-08-12T13:03:18.273266Z"
    }
   },
   "outputs": [],
   "source": [
    "df = pd.DataFrame(\n",
    "    {'hours': downloadrangeinhours,\n",
    "     'time': times,\n",
    "     'size': size\n",
    "    })"
   ]
  },
  {
   "cell_type": "code",
   "execution_count": 29,
   "metadata": {
    "ExecuteTime": {
     "end_time": "2019-08-12T13:03:18.314202Z",
     "start_time": "2019-08-12T13:03:18.309825Z"
    }
   },
   "outputs": [],
   "source": [
    "df['time_in_min'] = df['time']/60"
   ]
  },
  {
   "cell_type": "code",
   "execution_count": 30,
   "metadata": {
    "ExecuteTime": {
     "end_time": "2019-08-12T13:03:18.354163Z",
     "start_time": "2019-08-12T13:03:18.350319Z"
    }
   },
   "outputs": [],
   "source": [
    "import seaborn as sns\n",
    "sns.set_style(\"whitegrid\")"
   ]
  },
  {
   "cell_type": "code",
   "execution_count": 31,
   "metadata": {
    "ExecuteTime": {
     "end_time": "2019-08-12T13:03:18.653917Z",
     "start_time": "2019-08-12T13:03:18.395071Z"
    }
   },
   "outputs": [
    {
     "data": {
      "image/png": "[encoded data removed]",
      "text/plain": [
       "<Figure size 432x288 with 1 Axes>"
      ]
     },
     "metadata": {},
     "output_type": "display_data"
    }
   ],
   "source": [
    "ax = sns.regplot(x=\"size\", y=\"time_in_min\", data=df)"
   ]
  },
  {
   "cell_type": "code",
   "execution_count": 35,
   "metadata": {
    "ExecuteTime": {
     "end_time": "2019-08-13T06:21:23.432026Z",
     "start_time": "2019-08-13T06:21:21.929287Z"
    }
   },
   "outputs": [],
   "source": [
    "from sklearn.linear_model import LinearRegression"
   ]
  },
  {
   "cell_type": "code",
   "execution_count": 42,
   "metadata": {
    "ExecuteTime": {
     "end_time": "2019-08-13T06:26:02.029916Z",
     "start_time": "2019-08-13T06:26:02.023884Z"
    }
   },
   "outputs": [],
   "source": [
    "X = df.drop(['time','hours','time_in_min'], axis=1).values\n",
    "y = df['time_in_min'].values\n",
    "reg = LinearRegression().fit(X, y)"
   ]
  },
  {
   "cell_type": "code",
   "execution_count": 53,
   "metadata": {
    "ExecuteTime": {
     "end_time": "2019-08-13T10:43:11.181399Z",
     "start_time": "2019-08-13T10:43:11.164386Z"
    }
   },
   "outputs": [
    {
     "data": {
      "text/plain": [
       "array([2788.02769828])"
      ]
     },
     "execution_count": 53,
     "metadata": {},
     "output_type": "execute_result"
    }
   ],
   "source": [
    "month = 490000*30\n",
    "pred = reg.predict([[7069924]])\n",
    "pred"
   ]
  },
  {
   "cell_type": "code",
   "execution_count": 54,
   "metadata": {
    "ExecuteTime": {
     "end_time": "2019-08-13T10:43:12.527758Z",
     "start_time": "2019-08-13T10:43:12.523435Z"
    }
   },
   "outputs": [
    {
     "data": {
      "text/plain": [
       "46.46712830465929"
      ]
     },
     "execution_count": 54,
     "metadata": {},
     "output_type": "execute_result"
    }
   ],
   "source": [
    "pred[0]/60"
   ]
  },
  {
   "cell_type": "code",
   "execution_count": null,
   "metadata": {},
   "outputs": [],
   "source": []
  }
 ],
 "metadata": {
  "celltoolbar": "Initialization Cell",
  "kernelspec": {
   "display_name": "Python 3",
   "language": "python",
   "name": "python3"
  },
  "language_info": {
   "codemirror_mode": {
    "name": "ipython",
    "version": 3
   },
   "file_extension": ".py",
   "mimetype": "text/x-python",
   "name": "python",
   "nbconvert_exporter": "python",
   "pygments_lexer": "ipython3",
   "version": "3.7.3"
  },
  "toc": {
   "base_numbering": 1,
   "nav_menu": {},
   "number_sections": true,
   "sideBar": true,
   "skip_h1_title": false,
   "title_cell": "Table of Contents",
   "title_sidebar": "Contents",
   "toc_cell": false,
   "toc_position": {
    "height": "calc(100% - 180px)",
    "left": "10px",
    "top": "150px",
    "width": "380px"
   },
   "toc_section_display": true,
   "toc_window_display": true
  },
  "varInspector": {
   "cols": {
    "lenName": 16,
    "lenType": 16,
    "lenVar": 40
   },
   "kernels_config": {
    "python": {
     "delete_cmd_postfix": "",
     "delete_cmd_prefix": "del ",
     "library": "var_list.py",
     "varRefreshCmd": "print(var_dic_list())"
    },
    "r": {
     "delete_cmd_postfix": ") ",
     "delete_cmd_prefix": "rm(",
     "library": "var_list.r",
     "varRefreshCmd": "cat(var_dic_list()) "
    }
   },
   "position": {
    "height": "243px",
    "left": "1445px",
    "right": "20px",
    "top": "120px",
    "width": "336px"
   },
   "types_to_exclude": [
    "module",
    "function",
    "builtin_function_or_method",
    "instance",
    "_Feature"
   ],
   "window_display": false
  }
 },
 "nbformat": 4,
 "nbformat_minor": 4
}
