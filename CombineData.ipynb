{
 "cells": [
  {
   "cell_type": "markdown",
   "metadata": {},
   "source": [
    "# Combining Data"
   ]
  },
  {
   "cell_type": "markdown",
   "metadata": {},
   "source": [
    "## Imports"
   ]
  },
  {
   "cell_type": "code",
   "execution_count": 1,
   "metadata": {},
   "outputs": [],
   "source": [
    "#defaults python\n",
    "import os\n",
    "import glob\n",
    "import math\n",
    "import ast\n",
    "import statistics\n",
    "import requests\n",
    "import json\n",
    "import io\n",
    "import datetime\n",
    "from dateutil import parser\n",
    "from multiprocessing.dummy import Pool\n",
    "import urllib3\n",
    "from requests.adapters import HTTPAdapter\n",
    "from datetime import datetime, timedelta\n",
    "from collections import Counter\n",
    "from itertools import chain\n",
    "\n",
    "# datascience imports\n",
    "import pandas as pd\n",
    "import numpy as np\n",
    "import matplotlib.pyplot as plt\n",
    "import networkx as nx\n",
    "from networkx.algorithms import bipartite\n",
    "\n",
    "\n",
    "from scipy.sparse import linalg\n",
    "import scipy.stats\n",
    "\n",
    "from sklearn.cluster import KMeans\n",
    "from sklearn.cluster import KMeans, MiniBatchKMeans, AffinityPropagation, \\\n",
    "                MeanShift, SpectralClustering, AgglomerativeClustering, DBSCAN, OPTICS\n",
    "\n",
    "from sklearn.decomposition import PCA\n",
    "\n",
    "from sklearn.random_projection import GaussianRandomProjection\n",
    "\n",
    "from sklearn import metrics\n",
    "from sklearn.metrics import silhouette_score, davies_bouldin_score,  \\\n",
    "                        calinski_harabasz_score, homogeneity_score\n",
    "\n",
    "from sklearn.model_selection import train_test_split\n",
    "\n",
    "from sklearn.ensemble import RandomForestClassifier\n",
    "from sklearn.ensemble import StackingClassifier\n",
    "\n",
    "from sklearn.svm import LinearSVC\n",
    "\n",
    "from sklearn.linear_model import LogisticRegression\n",
    "\n",
    "from sklearn.preprocessing import StandardScaler\n",
    "\n",
    "from sklearn.pipeline import make_pipeline\n",
    "\n",
    "from tqdm.autonotebook import tqdm\n",
    "\n",
    "#graphical imports\n",
    "import matplotlib.pyplot as plt\n",
    "from matplotlib import colors as mcolors \n",
    "%matplotlib inline\n",
    "\n",
    "import plotly\n",
    "import plotly.express as px\n",
    "import chart_studio.plotly as py\n",
    "import plotly.graph_objs as go\n",
    "from plotly import io as plotlyio\n",
    "\n",
    "from mpl_toolkits.mplot3d import Axes3D "
   ]
  },
  {
   "cell_type": "code",
   "execution_count": 34,
   "metadata": {},
   "outputs": [],
   "source": [
    "# !conda install scikit-learn"
   ]
  },
  {
   "cell_type": "markdown",
   "metadata": {},
   "source": [
    "## Read CSVs\n"
   ]
  },
  {
   "cell_type": "code",
   "execution_count": 35,
   "metadata": {},
   "outputs": [],
   "source": [
    "csvfilelist = []\n",
    "for root, dirs, files in os.walk(\"../generateddata\"):\n",
    "    csvfilelist = csvfilelist + glob.glob(root+'/*.csv')"
   ]
  },
  {
   "cell_type": "markdown",
   "metadata": {},
   "source": [
    "Listing all CSVs for easy checking if they are in the folder or not."
   ]
  },
  {
   "cell_type": "code",
   "execution_count": 36,
   "metadata": {},
   "outputs": [
    {
     "output_type": "execute_result",
     "data": {
      "text/plain": "['../generateddata/scenario_clusters.csv',\n '../generateddata/xsd.csv',\n '../generateddata/QAS_calinski_Property_clusters.csv',\n '../generateddata/QAScomplexity-mappings-xml.csv',\n '../generateddata/QAS_highclusters_WSDL-xsd_clusters.csv',\n '../generateddata/WSDL_clusters.csv',\n '../generateddata/QAS_calinski_WSDL-xsd_clusters.csv',\n '../generateddata/QAS_new_v2_clusters_Groovy_clusters.csv',\n '../generateddata/iFlow_clusters.csv',\n '../generateddata/QAS_highclusters_Groovy_clusters.csv',\n '../generateddata/QAS_highclusters_iFlow_clusters.csv',\n '../generateddata/QAS_highclusters_Property_clusters.csv',\n '../generateddata/QAS_new_v2_clusters_WSDL_clusters.csv',\n '../generateddata/WSDL-xsd_clusters.csv',\n '../generateddata/qasmapping_combinations.csv',\n '../generateddata/Property_clusters.csv',\n '../generateddata/ratiobinnedpred.csv',\n '../generateddata/mapping_combinations.csv',\n '../generateddata/qasgroovy.csv',\n '../generateddata/QAS_highclusters_scenario_clusters.csv',\n '../generateddata/QAS_calinski_iFlow_clusters.csv',\n '../generateddata/QAS_calinski_XSD_clusters.csv',\n '../generateddata/QAS_calinski_scenario_clusters.csv',\n '../generateddata/mappings.csv',\n '../generateddata/QAS_new_v2_clusters_ComplexityReuse_clusters.csv',\n '../generateddata/QAS_calinski_WSDL_clusters.csv',\n '../generateddata/QAS_new_v2_clusters_iFlow_clusters.csv',\n '../generateddata/reuse.csv',\n '../generateddata/QAS_calinski_Groovy_clusters.csv',\n '../generateddata/bpmn_complexity.csv',\n '../generateddata/propdef.csv',\n '../generateddata/qaswsdl_DWAPOOPS.csv',\n '../generateddata/QAS_Groovy_clusters.csv',\n '../generateddata/wsdl.csv',\n '../generateddata/QAS_highclusters_WSDL_clusters.csv',\n '../generateddata/QAS_XSD_clusters.csv',\n '../generateddata/wsdl_DWAPOOPS.csv',\n '../generateddata/binarybinnedpred.csv',\n '../generateddata/scenariofilecombination.csv',\n '../generateddata/QAScomplexity-mapping.csv',\n '../generateddata/ratiooccuranceclusters.csv',\n '../generateddata/QAS_iFlow_clusters.csv',\n '../generateddata/QAS_WSDL-xsd_clusters.csv',\n '../generateddata/binarydffiltered2.csv',\n '../generateddata/QAS_Property_clusters.csv',\n '../generateddata/qaswsdl-xsdcomplexity.csv',\n '../generateddata/mapping_complexity.csv',\n '../generateddata/XSD_clusters.csv',\n '../generateddata/Groovy_clusters.csv',\n '../generateddata/QASmmap-stats.csv',\n '../generateddata/qasgroovymetrics.csv',\n '../generateddata/ratiodffiltered2.csv',\n '../generateddata/QAS_scenario_clusters.csv',\n '../generateddata/QAS_WSDL_clusters.csv',\n '../generateddata/QAS_new_v2_clusters_Property_clusters.csv',\n '../generateddata/qaspropdef.csv',\n '../generateddata/QAS_new_v2_clusters_WSDL-xsd_clusters.csv',\n '../generateddata/wsdl-xsdcomplexity.csv',\n '../generateddata/qasbpmn_complexity.csv',\n '../generateddata/groovy.csv',\n '../generateddata/complexity-wsdl.csv',\n '../generateddata/QAS_highclusters_XSD_clusters.csv',\n '../generateddata/complexity.csv',\n '../generateddata/QAScomplexity-xsd.csv',\n '../generateddata/QAS_new_v2_clusters_Mapping_clusters.csv',\n '../generateddata/qasreuse.csv',\n '../generateddata/originalcomplexity-xsd.csv',\n '../generateddata/QASmappings.csv',\n '../generateddata/binaryoccuranceclusters.csv',\n '../generateddata/qasmapping_complexity.csv',\n '../generateddata/qasscenariofilecombination.csv']"
     },
     "metadata": {},
     "execution_count": 36
    }
   ],
   "source": [
    "csvfilelist"
   ]
  },
  {
   "cell_type": "code",
   "execution_count": 2,
   "metadata": {},
   "outputs": [],
   "source": [
    "prefix = \"../generateddata/\""
   ]
  },
  {
   "cell_type": "markdown",
   "metadata": {},
   "source": [
    "## Scenario's"
   ]
  },
  {
   "cell_type": "code",
   "execution_count": 3,
   "metadata": {},
   "outputs": [],
   "source": [
    "scenariodf = pd.read_csv(prefix+\"qasscenariofilecombination.csv\")\n",
    "scenariodf.drop(columns=[\"Unnamed: 0\"], inplace=True)\n",
    "# scenariodf.head()"
   ]
  },
  {
   "cell_type": "code",
   "execution_count": 6,
   "metadata": {},
   "outputs": [
    {
     "output_type": "execute_result",
     "data": {
      "text/plain": "455"
     },
     "metadata": {},
     "execution_count": 6
    }
   ],
   "source": [
    "scenariodf['scenarioid'].max()"
   ]
  },
  {
   "cell_type": "code",
   "execution_count": 7,
   "metadata": {},
   "outputs": [],
   "source": [
    "lookupdict_file_scenarioid = {}\n",
    "lookupdict_filename_scenarioid = {}\n",
    "lookupdict_scenario_scenarioid = {}\n",
    "lookupdict_file_fileid={}\n",
    "lookupdict_filepath_fileid= {}\n",
    "lookupdict_scenarioid_scenario = {}\n",
    "for i in scenariodf.iterrows():\n",
    "    scenario = i[1][0]\n",
    "    file = i[1][1]\n",
    "    scenarioid = i[1][2]\n",
    "    fileid = i[1][3]\n",
    "    filename = i[1][4]\n",
    "    lookupdict_file_scenarioid.update({file:scenarioid})\n",
    "    lookupdict_filename_scenarioid.update({filename:scenarioid})\n",
    "    lookupdict_scenario_scenarioid.update({scenario:scenarioid})\n",
    "    lookupdict_scenarioid_scenario.update({scenarioid:scenario})\n",
    "    lookupdict_file_fileid.update({filename:fileid})\n",
    "    lookupdict_filepath_fileid.update({file:fileid})\n",
    "    \n",
    "    \n",
    "filepath_to_scenarioid = lambda x: lookupdict_file_scenarioid.get(x)\n",
    "filename_to_scenarioid = lambda x: lookupdict_filename_scenarioid.get(x)\n",
    "scenario_to_scenarioid = lambda x: lookupdict_scenario_scenarioid.get(x)\n",
    "filename_to_fileid = lambda x: lookupdict_file_fileid.get(x)\n",
    "filepath_to_fileid = lambda x: lookupdict_filepath_fileid.get(x)\n",
    "scenarioid_to_scenario = lambda x: lookupdict_scenarioid_scenario.get(x)"
   ]
  },
  {
   "cell_type": "code",
   "execution_count": 8,
   "metadata": {},
   "outputs": [],
   "source": [
    "# filename_to_fileid(dfmapping_complexity.iloc(0)[0][0])"
   ]
  },
  {
   "cell_type": "code",
   "execution_count": 9,
   "metadata": {},
   "outputs": [],
   "source": [
    "import json\n",
    "with open('scenario_to_scenarioid.json', 'w') as fp:\n",
    "    json.dump(lookupdict_scenario_scenarioid, fp)"
   ]
  },
  {
   "cell_type": "markdown",
   "metadata": {},
   "source": [
    "## XSD Complexities"
   ]
  },
  {
   "cell_type": "code",
   "execution_count": 10,
   "metadata": {},
   "outputs": [
    {
     "output_type": "execute_result",
     "data": {
      "text/plain": "   complexity  size_complexity  concept_complexity  name_complexity  scenario  \\\n0    0.463260         0.981498            0.272727         0.135556         1   \n1    0.418045         0.994060            0.090909         0.169167         3   \n2    0.435673         0.949610            0.194444         0.162963         4   \n3    0.416243         0.999964            0.000000         0.248765         7   \n4    0.407157         0.999945            0.000000         0.221528         7   \n\n   fileid  \n0      16  \n1      28  \n2      35  \n3      54  \n4      55  ",
      "text/html": "<div>\n<style scoped>\n    .dataframe tbody tr th:only-of-type {\n        vertical-align: middle;\n    }\n\n    .dataframe tbody tr th {\n        vertical-align: top;\n    }\n\n    .dataframe thead th {\n        text-align: right;\n    }\n</style>\n<table border=\"1\" class=\"dataframe\">\n  <thead>\n    <tr style=\"text-align: right;\">\n      <th></th>\n      <th>complexity</th>\n      <th>size_complexity</th>\n      <th>concept_complexity</th>\n      <th>name_complexity</th>\n      <th>scenario</th>\n      <th>fileid</th>\n    </tr>\n  </thead>\n  <tbody>\n    <tr>\n      <th>0</th>\n      <td>0.463260</td>\n      <td>0.981498</td>\n      <td>0.272727</td>\n      <td>0.135556</td>\n      <td>1</td>\n      <td>16</td>\n    </tr>\n    <tr>\n      <th>1</th>\n      <td>0.418045</td>\n      <td>0.994060</td>\n      <td>0.090909</td>\n      <td>0.169167</td>\n      <td>3</td>\n      <td>28</td>\n    </tr>\n    <tr>\n      <th>2</th>\n      <td>0.435673</td>\n      <td>0.949610</td>\n      <td>0.194444</td>\n      <td>0.162963</td>\n      <td>4</td>\n      <td>35</td>\n    </tr>\n    <tr>\n      <th>3</th>\n      <td>0.416243</td>\n      <td>0.999964</td>\n      <td>0.000000</td>\n      <td>0.248765</td>\n      <td>7</td>\n      <td>54</td>\n    </tr>\n    <tr>\n      <th>4</th>\n      <td>0.407157</td>\n      <td>0.999945</td>\n      <td>0.000000</td>\n      <td>0.221528</td>\n      <td>7</td>\n      <td>55</td>\n    </tr>\n  </tbody>\n</table>\n</div>"
     },
     "metadata": {},
     "execution_count": 10
    }
   ],
   "source": [
    "dfcomplexity_xsd = pd.read_csv(prefix+\"qascomplexity-xsd.csv\")\n",
    "dfcomplexity_xsd.drop(columns=[\"Unnamed: 0\"], inplace=True)\n",
    "dfcomplexity_xsd['scenario'] = dfcomplexity_xsd['file'].apply(filepath_to_scenarioid)\n",
    "dfcomplexity_xsd['fileid'] = dfcomplexity_xsd['file'].apply(filepath_to_fileid)\n",
    "dfcomplexity_xsd.drop(columns=[\"file\"], inplace=True)\n",
    "dfcomplexity_xsd = dfcomplexity_xsd.fillna(0)\n",
    "dfcomplexity_xsd.head()"
   ]
  },
  {
   "cell_type": "code",
   "execution_count": 11,
   "metadata": {},
   "outputs": [
    {
     "output_type": "execute_result",
     "data": {
      "text/plain": "count    449.000000\nmean       0.353269\nstd        0.213159\nmin        0.000000\n25%        0.182424\n50%        0.345866\n75%        0.500925\nmax        0.741486\nName: complexity, dtype: float64"
     },
     "metadata": {},
     "execution_count": 11
    }
   ],
   "source": [
    "dfcomplexity_xsd['complexity'].describe()"
   ]
  },
  {
   "cell_type": "code",
   "execution_count": 12,
   "metadata": {},
   "outputs": [
    {
     "output_type": "display_data",
     "data": {
      "text/plain": "<Figure size 432x288 with 1 Axes>",
      "image/svg+xml": "<?xml version=\"1.0\" encoding=\"utf-8\" standalone=\"no\"?>\n<!DOCTYPE svg PUBLIC \"-//W3C//DTD SVG 1.1//EN\"\n  \"http://www.w3.org/Graphics/SVG/1.1/DTD/svg11.dtd\">\n<!-- Created with matplotlib (https://matplotlib.org/) -->\n<svg height=\"248.518125pt\" version=\"1.1\" viewBox=\"0 0 368.925 248.518125\" width=\"368.925pt\" xmlns=\"http://www.w3.org/2000/svg\" xmlns:xlink=\"http://www.w3.org/1999/xlink\">\n <defs>\n  <style type=\"text/css\">\n*{stroke-linecap:butt;stroke-linejoin:round;}\n  </style>\n </defs>\n <g id=\"figure_1\">\n  <g id=\"patch_1\">\n   <path d=\"M -0 248.518125 \nL 368.925 248.518125 \nL 368.925 0 \nL -0 0 \nz\n\" style=\"fill:none;\"/>\n  </g>\n  <g id=\"axes_1\">\n   <g id=\"patch_2\">\n    <path d=\"M 26.925 224.64 \nL 361.725 224.64 \nL 361.725 7.2 \nL 26.925 7.2 \nz\n\" style=\"fill:#ffffff;\"/>\n   </g>\n   <g id=\"patch_3\">\n    <path clip-path=\"url(#p33bb3a5b38)\" d=\"M 42.143182 224.64 \nL 72.579545 224.64 \nL 72.579545 48.107916 \nL 42.143182 48.107916 \nz\n\" style=\"fill:#1f77b4;\"/>\n   </g>\n   <g id=\"patch_4\">\n    <path clip-path=\"url(#p33bb3a5b38)\" d=\"M 72.579545 224.64 \nL 103.015909 224.64 \nL 103.015909 61.687307 \nL 72.579545 61.687307 \nz\n\" style=\"fill:#1f77b4;\"/>\n   </g>\n   <g id=\"patch_5\">\n    <path clip-path=\"url(#p33bb3a5b38)\" d=\"M 103.015909 224.64 \nL 133.452273 224.64 \nL 133.452273 71.87185 \nL 103.015909 71.87185 \nz\n\" style=\"fill:#1f77b4;\"/>\n   </g>\n   <g id=\"patch_6\">\n    <path clip-path=\"url(#p33bb3a5b38)\" d=\"M 133.452273 224.64 \nL 163.888636 224.64 \nL 163.888636 88.846089 \nL 133.452273 88.846089 \nz\n\" style=\"fill:#1f77b4;\"/>\n   </g>\n   <g id=\"patch_7\">\n    <path clip-path=\"url(#p33bb3a5b38)\" d=\"M 163.888636 224.64 \nL 194.325 224.64 \nL 194.325 17.554286 \nL 163.888636 17.554286 \nz\n\" style=\"fill:#1f77b4;\"/>\n   </g>\n   <g id=\"patch_8\">\n    <path clip-path=\"url(#p33bb3a5b38)\" d=\"M 194.325 224.64 \nL 224.761364 224.64 \nL 224.761364 27.738829 \nL 194.325 27.738829 \nz\n\" style=\"fill:#1f77b4;\"/>\n   </g>\n   <g id=\"patch_9\">\n    <path clip-path=\"url(#p33bb3a5b38)\" d=\"M 224.761364 224.64 \nL 255.197727 224.64 \nL 255.197727 92.240937 \nL 224.761364 92.240937 \nz\n\" style=\"fill:#1f77b4;\"/>\n   </g>\n   <g id=\"patch_10\">\n    <path clip-path=\"url(#p33bb3a5b38)\" d=\"M 255.197727 224.64 \nL 285.634091 224.64 \nL 285.634091 149.953349 \nL 255.197727 149.953349 \nz\n\" style=\"fill:#1f77b4;\"/>\n   </g>\n   <g id=\"patch_11\">\n    <path clip-path=\"url(#p33bb3a5b38)\" d=\"M 285.634091 224.64 \nL 316.070455 224.64 \nL 316.070455 95.635785 \nL 285.634091 95.635785 \nz\n\" style=\"fill:#1f77b4;\"/>\n   </g>\n   <g id=\"patch_12\">\n    <path clip-path=\"url(#p33bb3a5b38)\" d=\"M 316.070455 224.64 \nL 346.506818 224.64 \nL 346.506818 68.477002 \nL 316.070455 68.477002 \nz\n\" style=\"fill:#1f77b4;\"/>\n   </g>\n   <g id=\"matplotlib.axis_1\">\n    <g id=\"xtick_1\">\n     <g id=\"line2d_1\">\n      <path clip-path=\"url(#p33bb3a5b38)\" d=\"M 42.143182 224.64 \nL 42.143182 7.2 \n\" style=\"fill:none;stroke:#b0b0b0;stroke-linecap:square;stroke-width:0.8;\"/>\n     </g>\n     <g id=\"line2d_2\">\n      <defs>\n       <path d=\"M 0 0 \nL 0 3.5 \n\" id=\"mbd1cb17522\" style=\"stroke:#000000;stroke-width:0.8;\"/>\n      </defs>\n      <g>\n       <use style=\"stroke:#000000;stroke-width:0.8;\" x=\"42.143182\" xlink:href=\"#mbd1cb17522\" y=\"224.64\"/>\n      </g>\n     </g>\n     <g id=\"text_1\">\n      <!-- 0.0 -->\n      <defs>\n       <path d=\"M 31.78125 66.40625 \nQ 24.171875 66.40625 20.328125 58.90625 \nQ 16.5 51.421875 16.5 36.375 \nQ 16.5 21.390625 20.328125 13.890625 \nQ 24.171875 6.390625 31.78125 6.390625 \nQ 39.453125 6.390625 43.28125 13.890625 \nQ 47.125 21.390625 47.125 36.375 \nQ 47.125 51.421875 43.28125 58.90625 \nQ 39.453125 66.40625 31.78125 66.40625 \nz\nM 31.78125 74.21875 \nQ 44.046875 74.21875 50.515625 64.515625 \nQ 56.984375 54.828125 56.984375 36.375 \nQ 56.984375 17.96875 50.515625 8.265625 \nQ 44.046875 -1.421875 31.78125 -1.421875 \nQ 19.53125 -1.421875 13.0625 8.265625 \nQ 6.59375 17.96875 6.59375 36.375 \nQ 6.59375 54.828125 13.0625 64.515625 \nQ 19.53125 74.21875 31.78125 74.21875 \nz\n\" id=\"DejaVuSans-48\"/>\n       <path d=\"M 10.6875 12.40625 \nL 21 12.40625 \nL 21 0 \nL 10.6875 0 \nz\n\" id=\"DejaVuSans-46\"/>\n      </defs>\n      <g transform=\"translate(34.191619 239.238437)scale(0.1 -0.1)\">\n       <use xlink:href=\"#DejaVuSans-48\"/>\n       <use x=\"63.623047\" xlink:href=\"#DejaVuSans-46\"/>\n       <use x=\"95.410156\" xlink:href=\"#DejaVuSans-48\"/>\n      </g>\n     </g>\n    </g>\n    <g id=\"xtick_2\">\n     <g id=\"line2d_3\">\n      <path clip-path=\"url(#p33bb3a5b38)\" d=\"M 83.190949 224.64 \nL 83.190949 7.2 \n\" style=\"fill:none;stroke:#b0b0b0;stroke-linecap:square;stroke-width:0.8;\"/>\n     </g>\n     <g id=\"line2d_4\">\n      <g>\n       <use style=\"stroke:#000000;stroke-width:0.8;\" x=\"83.190949\" xlink:href=\"#mbd1cb17522\" y=\"224.64\"/>\n      </g>\n     </g>\n     <g id=\"text_2\">\n      <!-- 0.1 -->\n      <defs>\n       <path d=\"M 12.40625 8.296875 \nL 28.515625 8.296875 \nL 28.515625 63.921875 \nL 10.984375 60.40625 \nL 10.984375 69.390625 \nL 28.421875 72.90625 \nL 38.28125 72.90625 \nL 38.28125 8.296875 \nL 54.390625 8.296875 \nL 54.390625 0 \nL 12.40625 0 \nz\n\" id=\"DejaVuSans-49\"/>\n      </defs>\n      <g transform=\"translate(75.239387 239.238437)scale(0.1 -0.1)\">\n       <use xlink:href=\"#DejaVuSans-48\"/>\n       <use x=\"63.623047\" xlink:href=\"#DejaVuSans-46\"/>\n       <use x=\"95.410156\" xlink:href=\"#DejaVuSans-49\"/>\n      </g>\n     </g>\n    </g>\n    <g id=\"xtick_3\">\n     <g id=\"line2d_5\">\n      <path clip-path=\"url(#p33bb3a5b38)\" d=\"M 124.238717 224.64 \nL 124.238717 7.2 \n\" style=\"fill:none;stroke:#b0b0b0;stroke-linecap:square;stroke-width:0.8;\"/>\n     </g>\n     <g id=\"line2d_6\">\n      <g>\n       <use style=\"stroke:#000000;stroke-width:0.8;\" x=\"124.238717\" xlink:href=\"#mbd1cb17522\" y=\"224.64\"/>\n      </g>\n     </g>\n     <g id=\"text_3\">\n      <!-- 0.2 -->\n      <defs>\n       <path d=\"M 19.1875 8.296875 \nL 53.609375 8.296875 \nL 53.609375 0 \nL 7.328125 0 \nL 7.328125 8.296875 \nQ 12.9375 14.109375 22.625 23.890625 \nQ 32.328125 33.6875 34.8125 36.53125 \nQ 39.546875 41.84375 41.421875 45.53125 \nQ 43.3125 49.21875 43.3125 52.78125 \nQ 43.3125 58.59375 39.234375 62.25 \nQ 35.15625 65.921875 28.609375 65.921875 \nQ 23.96875 65.921875 18.8125 64.3125 \nQ 13.671875 62.703125 7.8125 59.421875 \nL 7.8125 69.390625 \nQ 13.765625 71.78125 18.9375 73 \nQ 24.125 74.21875 28.421875 74.21875 \nQ 39.75 74.21875 46.484375 68.546875 \nQ 53.21875 62.890625 53.21875 53.421875 \nQ 53.21875 48.921875 51.53125 44.890625 \nQ 49.859375 40.875 45.40625 35.40625 \nQ 44.1875 33.984375 37.640625 27.21875 \nQ 31.109375 20.453125 19.1875 8.296875 \nz\n\" id=\"DejaVuSans-50\"/>\n      </defs>\n      <g transform=\"translate(116.287155 239.238437)scale(0.1 -0.1)\">\n       <use xlink:href=\"#DejaVuSans-48\"/>\n       <use x=\"63.623047\" xlink:href=\"#DejaVuSans-46\"/>\n       <use x=\"95.410156\" xlink:href=\"#DejaVuSans-50\"/>\n      </g>\n     </g>\n    </g>\n    <g id=\"xtick_4\">\n     <g id=\"line2d_7\">\n      <path clip-path=\"url(#p33bb3a5b38)\" d=\"M 165.286485 224.64 \nL 165.286485 7.2 \n\" style=\"fill:none;stroke:#b0b0b0;stroke-linecap:square;stroke-width:0.8;\"/>\n     </g>\n     <g id=\"line2d_8\">\n      <g>\n       <use style=\"stroke:#000000;stroke-width:0.8;\" x=\"165.286485\" xlink:href=\"#mbd1cb17522\" y=\"224.64\"/>\n      </g>\n     </g>\n     <g id=\"text_4\">\n      <!-- 0.3 -->\n      <defs>\n       <path d=\"M 40.578125 39.3125 \nQ 47.65625 37.796875 51.625 33 \nQ 55.609375 28.21875 55.609375 21.1875 \nQ 55.609375 10.40625 48.1875 4.484375 \nQ 40.765625 -1.421875 27.09375 -1.421875 \nQ 22.515625 -1.421875 17.65625 -0.515625 \nQ 12.796875 0.390625 7.625 2.203125 \nL 7.625 11.71875 \nQ 11.71875 9.328125 16.59375 8.109375 \nQ 21.484375 6.890625 26.8125 6.890625 \nQ 36.078125 6.890625 40.9375 10.546875 \nQ 45.796875 14.203125 45.796875 21.1875 \nQ 45.796875 27.640625 41.28125 31.265625 \nQ 36.765625 34.90625 28.71875 34.90625 \nL 20.21875 34.90625 \nL 20.21875 43.015625 \nL 29.109375 43.015625 \nQ 36.375 43.015625 40.234375 45.921875 \nQ 44.09375 48.828125 44.09375 54.296875 \nQ 44.09375 59.90625 40.109375 62.90625 \nQ 36.140625 65.921875 28.71875 65.921875 \nQ 24.65625 65.921875 20.015625 65.03125 \nQ 15.375 64.15625 9.8125 62.3125 \nL 9.8125 71.09375 \nQ 15.4375 72.65625 20.34375 73.4375 \nQ 25.25 74.21875 29.59375 74.21875 \nQ 40.828125 74.21875 47.359375 69.109375 \nQ 53.90625 64.015625 53.90625 55.328125 \nQ 53.90625 49.265625 50.4375 45.09375 \nQ 46.96875 40.921875 40.578125 39.3125 \nz\n\" id=\"DejaVuSans-51\"/>\n      </defs>\n      <g transform=\"translate(157.334922 239.238437)scale(0.1 -0.1)\">\n       <use xlink:href=\"#DejaVuSans-48\"/>\n       <use x=\"63.623047\" xlink:href=\"#DejaVuSans-46\"/>\n       <use x=\"95.410156\" xlink:href=\"#DejaVuSans-51\"/>\n      </g>\n     </g>\n    </g>\n    <g id=\"xtick_5\">\n     <g id=\"line2d_9\">\n      <path clip-path=\"url(#p33bb3a5b38)\" d=\"M 206.334252 224.64 \nL 206.334252 7.2 \n\" style=\"fill:none;stroke:#b0b0b0;stroke-linecap:square;stroke-width:0.8;\"/>\n     </g>\n     <g id=\"line2d_10\">\n      <g>\n       <use style=\"stroke:#000000;stroke-width:0.8;\" x=\"206.334252\" xlink:href=\"#mbd1cb17522\" y=\"224.64\"/>\n      </g>\n     </g>\n     <g id=\"text_5\">\n      <!-- 0.4 -->\n      <defs>\n       <path d=\"M 37.796875 64.3125 \nL 12.890625 25.390625 \nL 37.796875 25.390625 \nz\nM 35.203125 72.90625 \nL 47.609375 72.90625 \nL 47.609375 25.390625 \nL 58.015625 25.390625 \nL 58.015625 17.1875 \nL 47.609375 17.1875 \nL 47.609375 0 \nL 37.796875 0 \nL 37.796875 17.1875 \nL 4.890625 17.1875 \nL 4.890625 26.703125 \nz\n\" id=\"DejaVuSans-52\"/>\n      </defs>\n      <g transform=\"translate(198.38269 239.238437)scale(0.1 -0.1)\">\n       <use xlink:href=\"#DejaVuSans-48\"/>\n       <use x=\"63.623047\" xlink:href=\"#DejaVuSans-46\"/>\n       <use x=\"95.410156\" xlink:href=\"#DejaVuSans-52\"/>\n      </g>\n     </g>\n    </g>\n    <g id=\"xtick_6\">\n     <g id=\"line2d_11\">\n      <path clip-path=\"url(#p33bb3a5b38)\" d=\"M 247.38202 224.64 \nL 247.38202 7.2 \n\" style=\"fill:none;stroke:#b0b0b0;stroke-linecap:square;stroke-width:0.8;\"/>\n     </g>\n     <g id=\"line2d_12\">\n      <g>\n       <use style=\"stroke:#000000;stroke-width:0.8;\" x=\"247.38202\" xlink:href=\"#mbd1cb17522\" y=\"224.64\"/>\n      </g>\n     </g>\n     <g id=\"text_6\">\n      <!-- 0.5 -->\n      <defs>\n       <path d=\"M 10.796875 72.90625 \nL 49.515625 72.90625 \nL 49.515625 64.59375 \nL 19.828125 64.59375 \nL 19.828125 46.734375 \nQ 21.96875 47.46875 24.109375 47.828125 \nQ 26.265625 48.1875 28.421875 48.1875 \nQ 40.625 48.1875 47.75 41.5 \nQ 54.890625 34.8125 54.890625 23.390625 \nQ 54.890625 11.625 47.5625 5.09375 \nQ 40.234375 -1.421875 26.90625 -1.421875 \nQ 22.3125 -1.421875 17.546875 -0.640625 \nQ 12.796875 0.140625 7.71875 1.703125 \nL 7.71875 11.625 \nQ 12.109375 9.234375 16.796875 8.0625 \nQ 21.484375 6.890625 26.703125 6.890625 \nQ 35.15625 6.890625 40.078125 11.328125 \nQ 45.015625 15.765625 45.015625 23.390625 \nQ 45.015625 31 40.078125 35.4375 \nQ 35.15625 39.890625 26.703125 39.890625 \nQ 22.75 39.890625 18.8125 39.015625 \nQ 14.890625 38.140625 10.796875 36.28125 \nz\n\" id=\"DejaVuSans-53\"/>\n      </defs>\n      <g transform=\"translate(239.430458 239.238437)scale(0.1 -0.1)\">\n       <use xlink:href=\"#DejaVuSans-48\"/>\n       <use x=\"63.623047\" xlink:href=\"#DejaVuSans-46\"/>\n       <use x=\"95.410156\" xlink:href=\"#DejaVuSans-53\"/>\n      </g>\n     </g>\n    </g>\n    <g id=\"xtick_7\">\n     <g id=\"line2d_13\">\n      <path clip-path=\"url(#p33bb3a5b38)\" d=\"M 288.429788 224.64 \nL 288.429788 7.2 \n\" style=\"fill:none;stroke:#b0b0b0;stroke-linecap:square;stroke-width:0.8;\"/>\n     </g>\n     <g id=\"line2d_14\">\n      <g>\n       <use style=\"stroke:#000000;stroke-width:0.8;\" x=\"288.429788\" xlink:href=\"#mbd1cb17522\" y=\"224.64\"/>\n      </g>\n     </g>\n     <g id=\"text_7\">\n      <!-- 0.6 -->\n      <defs>\n       <path d=\"M 33.015625 40.375 \nQ 26.375 40.375 22.484375 35.828125 \nQ 18.609375 31.296875 18.609375 23.390625 \nQ 18.609375 15.53125 22.484375 10.953125 \nQ 26.375 6.390625 33.015625 6.390625 \nQ 39.65625 6.390625 43.53125 10.953125 \nQ 47.40625 15.53125 47.40625 23.390625 \nQ 47.40625 31.296875 43.53125 35.828125 \nQ 39.65625 40.375 33.015625 40.375 \nz\nM 52.59375 71.296875 \nL 52.59375 62.3125 \nQ 48.875 64.0625 45.09375 64.984375 \nQ 41.3125 65.921875 37.59375 65.921875 \nQ 27.828125 65.921875 22.671875 59.328125 \nQ 17.53125 52.734375 16.796875 39.40625 \nQ 19.671875 43.65625 24.015625 45.921875 \nQ 28.375 48.1875 33.59375 48.1875 \nQ 44.578125 48.1875 50.953125 41.515625 \nQ 57.328125 34.859375 57.328125 23.390625 \nQ 57.328125 12.15625 50.6875 5.359375 \nQ 44.046875 -1.421875 33.015625 -1.421875 \nQ 20.359375 -1.421875 13.671875 8.265625 \nQ 6.984375 17.96875 6.984375 36.375 \nQ 6.984375 53.65625 15.1875 63.9375 \nQ 23.390625 74.21875 37.203125 74.21875 \nQ 40.921875 74.21875 44.703125 73.484375 \nQ 48.484375 72.75 52.59375 71.296875 \nz\n\" id=\"DejaVuSans-54\"/>\n      </defs>\n      <g transform=\"translate(280.478225 239.238437)scale(0.1 -0.1)\">\n       <use xlink:href=\"#DejaVuSans-48\"/>\n       <use x=\"63.623047\" xlink:href=\"#DejaVuSans-46\"/>\n       <use x=\"95.410156\" xlink:href=\"#DejaVuSans-54\"/>\n      </g>\n     </g>\n    </g>\n    <g id=\"xtick_8\">\n     <g id=\"line2d_15\">\n      <path clip-path=\"url(#p33bb3a5b38)\" d=\"M 329.477555 224.64 \nL 329.477555 7.2 \n\" style=\"fill:none;stroke:#b0b0b0;stroke-linecap:square;stroke-width:0.8;\"/>\n     </g>\n     <g id=\"line2d_16\">\n      <g>\n       <use style=\"stroke:#000000;stroke-width:0.8;\" x=\"329.477555\" xlink:href=\"#mbd1cb17522\" y=\"224.64\"/>\n      </g>\n     </g>\n     <g id=\"text_8\">\n      <!-- 0.7 -->\n      <defs>\n       <path d=\"M 8.203125 72.90625 \nL 55.078125 72.90625 \nL 55.078125 68.703125 \nL 28.609375 0 \nL 18.3125 0 \nL 43.21875 64.59375 \nL 8.203125 64.59375 \nz\n\" id=\"DejaVuSans-55\"/>\n      </defs>\n      <g transform=\"translate(321.525993 239.238437)scale(0.1 -0.1)\">\n       <use xlink:href=\"#DejaVuSans-48\"/>\n       <use x=\"63.623047\" xlink:href=\"#DejaVuSans-46\"/>\n       <use x=\"95.410156\" xlink:href=\"#DejaVuSans-55\"/>\n      </g>\n     </g>\n    </g>\n   </g>\n   <g id=\"matplotlib.axis_2\">\n    <g id=\"ytick_1\">\n     <g id=\"line2d_17\">\n      <path clip-path=\"url(#p33bb3a5b38)\" d=\"M 26.925 224.64 \nL 361.725 224.64 \n\" style=\"fill:none;stroke:#b0b0b0;stroke-linecap:square;stroke-width:0.8;\"/>\n     </g>\n     <g id=\"line2d_18\">\n      <defs>\n       <path d=\"M 0 0 \nL -3.5 0 \n\" id=\"mbd643783f6\" style=\"stroke:#000000;stroke-width:0.8;\"/>\n      </defs>\n      <g>\n       <use style=\"stroke:#000000;stroke-width:0.8;\" x=\"26.925\" xlink:href=\"#mbd643783f6\" y=\"224.64\"/>\n      </g>\n     </g>\n     <g id=\"text_9\">\n      <!-- 0 -->\n      <g transform=\"translate(13.5625 228.439219)scale(0.1 -0.1)\">\n       <use xlink:href=\"#DejaVuSans-48\"/>\n      </g>\n     </g>\n    </g>\n    <g id=\"ytick_2\">\n     <g id=\"line2d_19\">\n      <path clip-path=\"url(#p33bb3a5b38)\" d=\"M 26.925 190.691522 \nL 361.725 190.691522 \n\" style=\"fill:none;stroke:#b0b0b0;stroke-linecap:square;stroke-width:0.8;\"/>\n     </g>\n     <g id=\"line2d_20\">\n      <g>\n       <use style=\"stroke:#000000;stroke-width:0.8;\" x=\"26.925\" xlink:href=\"#mbd643783f6\" y=\"190.691522\"/>\n      </g>\n     </g>\n     <g id=\"text_10\">\n      <!-- 10 -->\n      <g transform=\"translate(7.2 194.490741)scale(0.1 -0.1)\">\n       <use xlink:href=\"#DejaVuSans-49\"/>\n       <use x=\"63.623047\" xlink:href=\"#DejaVuSans-48\"/>\n      </g>\n     </g>\n    </g>\n    <g id=\"ytick_3\">\n     <g id=\"line2d_21\">\n      <path clip-path=\"url(#p33bb3a5b38)\" d=\"M 26.925 156.743044 \nL 361.725 156.743044 \n\" style=\"fill:none;stroke:#b0b0b0;stroke-linecap:square;stroke-width:0.8;\"/>\n     </g>\n     <g id=\"line2d_22\">\n      <g>\n       <use style=\"stroke:#000000;stroke-width:0.8;\" x=\"26.925\" xlink:href=\"#mbd643783f6\" y=\"156.743044\"/>\n      </g>\n     </g>\n     <g id=\"text_11\">\n      <!-- 20 -->\n      <g transform=\"translate(7.2 160.542263)scale(0.1 -0.1)\">\n       <use xlink:href=\"#DejaVuSans-50\"/>\n       <use x=\"63.623047\" xlink:href=\"#DejaVuSans-48\"/>\n      </g>\n     </g>\n    </g>\n    <g id=\"ytick_4\">\n     <g id=\"line2d_23\">\n      <path clip-path=\"url(#p33bb3a5b38)\" d=\"M 26.925 122.794567 \nL 361.725 122.794567 \n\" style=\"fill:none;stroke:#b0b0b0;stroke-linecap:square;stroke-width:0.8;\"/>\n     </g>\n     <g id=\"line2d_24\">\n      <g>\n       <use style=\"stroke:#000000;stroke-width:0.8;\" x=\"26.925\" xlink:href=\"#mbd643783f6\" y=\"122.794567\"/>\n      </g>\n     </g>\n     <g id=\"text_12\">\n      <!-- 30 -->\n      <g transform=\"translate(7.2 126.593785)scale(0.1 -0.1)\">\n       <use xlink:href=\"#DejaVuSans-51\"/>\n       <use x=\"63.623047\" xlink:href=\"#DejaVuSans-48\"/>\n      </g>\n     </g>\n    </g>\n    <g id=\"ytick_5\">\n     <g id=\"line2d_25\">\n      <path clip-path=\"url(#p33bb3a5b38)\" d=\"M 26.925 88.846089 \nL 361.725 88.846089 \n\" style=\"fill:none;stroke:#b0b0b0;stroke-linecap:square;stroke-width:0.8;\"/>\n     </g>\n     <g id=\"line2d_26\">\n      <g>\n       <use style=\"stroke:#000000;stroke-width:0.8;\" x=\"26.925\" xlink:href=\"#mbd643783f6\" y=\"88.846089\"/>\n      </g>\n     </g>\n     <g id=\"text_13\">\n      <!-- 40 -->\n      <g transform=\"translate(7.2 92.645308)scale(0.1 -0.1)\">\n       <use xlink:href=\"#DejaVuSans-52\"/>\n       <use x=\"63.623047\" xlink:href=\"#DejaVuSans-48\"/>\n      </g>\n     </g>\n    </g>\n    <g id=\"ytick_6\">\n     <g id=\"line2d_27\">\n      <path clip-path=\"url(#p33bb3a5b38)\" d=\"M 26.925 54.897611 \nL 361.725 54.897611 \n\" style=\"fill:none;stroke:#b0b0b0;stroke-linecap:square;stroke-width:0.8;\"/>\n     </g>\n     <g id=\"line2d_28\">\n      <g>\n       <use style=\"stroke:#000000;stroke-width:0.8;\" x=\"26.925\" xlink:href=\"#mbd643783f6\" y=\"54.897611\"/>\n      </g>\n     </g>\n     <g id=\"text_14\">\n      <!-- 50 -->\n      <g transform=\"translate(7.2 58.69683)scale(0.1 -0.1)\">\n       <use xlink:href=\"#DejaVuSans-53\"/>\n       <use x=\"63.623047\" xlink:href=\"#DejaVuSans-48\"/>\n      </g>\n     </g>\n    </g>\n    <g id=\"ytick_7\">\n     <g id=\"line2d_29\">\n      <path clip-path=\"url(#p33bb3a5b38)\" d=\"M 26.925 20.949133 \nL 361.725 20.949133 \n\" style=\"fill:none;stroke:#b0b0b0;stroke-linecap:square;stroke-width:0.8;\"/>\n     </g>\n     <g id=\"line2d_30\">\n      <g>\n       <use style=\"stroke:#000000;stroke-width:0.8;\" x=\"26.925\" xlink:href=\"#mbd643783f6\" y=\"20.949133\"/>\n      </g>\n     </g>\n     <g id=\"text_15\">\n      <!-- 60 -->\n      <g transform=\"translate(7.2 24.748352)scale(0.1 -0.1)\">\n       <use xlink:href=\"#DejaVuSans-54\"/>\n       <use x=\"63.623047\" xlink:href=\"#DejaVuSans-48\"/>\n      </g>\n     </g>\n    </g>\n   </g>\n   <g id=\"patch_13\">\n    <path d=\"M 26.925 224.64 \nL 26.925 7.2 \n\" style=\"fill:none;stroke:#000000;stroke-linecap:square;stroke-linejoin:miter;stroke-width:0.8;\"/>\n   </g>\n   <g id=\"patch_14\">\n    <path d=\"M 361.725 224.64 \nL 361.725 7.2 \n\" style=\"fill:none;stroke:#000000;stroke-linecap:square;stroke-linejoin:miter;stroke-width:0.8;\"/>\n   </g>\n   <g id=\"patch_15\">\n    <path d=\"M 26.925 224.64 \nL 361.725 224.64 \n\" style=\"fill:none;stroke:#000000;stroke-linecap:square;stroke-linejoin:miter;stroke-width:0.8;\"/>\n   </g>\n   <g id=\"patch_16\">\n    <path d=\"M 26.925 7.2 \nL 361.725 7.2 \n\" style=\"fill:none;stroke:#000000;stroke-linecap:square;stroke-linejoin:miter;stroke-width:0.8;\"/>\n   </g>\n  </g>\n </g>\n <defs>\n  <clipPath id=\"p33bb3a5b38\">\n   <rect height=\"217.44\" width=\"334.8\" x=\"26.925\" y=\"7.2\"/>\n  </clipPath>\n </defs>\n</svg>\n",
      "image/png": "[encoded data removed]"
     },
     "metadata": {
      "needs_background": "light"
     }
    }
   ],
   "source": [
    "xsdcomplexityhistfig = dfcomplexity_xsd['complexity'].hist()\n",
    "xsdcomplexityhistfig = xsdcomplexityhistfig.get_figure()\n",
    "xsdcomplexityhistfig.savefig(\"./xsdcomplexityhistfig.png\")"
   ]
  },
  {
   "cell_type": "code",
   "execution_count": 13,
   "metadata": {},
   "outputs": [
    {
     "output_type": "display_data",
     "data": {
      "application/vnd.plotly.v1+json": {
       "config": {
        "plotlyServerURL": "https://plot.ly"
       },
       "data": [
        {
         "alignmentgroup": "True",
         "bingroup": "x",
         "hoverlabel": {
          "namelength": 0
         },
         "hovertemplate": "complexity=%{x}<br>count of fileid=%{y}",
         "legendgroup": "",
         "marker": {
          "color": "#636efa"
         },
         "name": "",
         "offsetgroup": "",
         "orientation": "v",
         "showlegend": false,
         "type": "histogram",
         "x": [
          0.4632602178731422,
          0.4180452188387402,
          0.4356725452493013,
          0.4162432022968395,
          0.4071574981632115,
          0.2529415142356415,
          0.6931818181818181,
          0.3604215523108899,
          0.3577240784682637,
          0.41910123711923336,
          0.3458658662745286,
          0.4451566433107829,
          0.4422513818814362,
          0.3873237903585292,
          0.268567212279979,
          0.4135745836649001,
          0.3748108546234457,
          0.3676129588719213,
          0.7350191793185701,
          0.3675904460182125,
          0.6666666666666666,
          0.6764705882352942,
          0.36755638130310864,
          0.6764705882352942,
          0.6766666666666666,
          0.6770833333333333,
          0.43236981509562494,
          0.4391913912758661,
          0.3775645218837933,
          0.368401424827356,
          0.5366705470761427,
          0.4050381640319799,
          0.2669498655046777,
          0.2935362366026204,
          0.3297378354278593,
          0.4041108493383323,
          0.6666666666666666,
          0.3137980629368151,
          0.5776485788113693,
          0.4141221187203359,
          0.3935671269321923,
          0.3932059296585445,
          0.7257383966244726,
          0.26594778590910145,
          0.7256666666666667,
          0.3613013934698632,
          0.3617894275819339,
          0.6666666666666666,
          0.6666666666666666,
          0.6666666666666666,
          0.6666666666666666,
          0.6666666666666666,
          0.6666666666666666,
          0.20330283652664374,
          0.12602088255988825,
          0.12595082671259966,
          0.12588074867818622,
          0.6666666666666666,
          0.1257405260198754,
          0.6666666666666666,
          0.2026510571176966,
          0.6501966568338249,
          0.6666666666666666,
          0.2503642097158852,
          0.6612060778727444,
          0.6666666666666666,
          0.3928332523966055,
          0.4942460314060816,
          0.3928307037257263,
          0.5058287793651645,
          0.5727813852813638,
          0.5085425685425355,
          0.364196541409298,
          0.36412660513502026,
          0.3152470342347719,
          0.3806923099750643,
          0.3368647057457816,
          0.3356693505045115,
          0.3933730708672461,
          0.4137716680311944,
          0.4162601701266033,
          0,
          0.7257383966244726,
          0.7257383966244726,
          0.6666666666666666,
          0.7257383966244726,
          0.261928531565178,
          0.4749433091003907,
          0.4680254045929548,
          0.4715634497570956,
          0.455341435345301,
          0.3632378701016966,
          0.35739639763108555,
          0.3890877538356067,
          0.3861510480161812,
          0.12313032424708313,
          0.4577766236160305,
          0.4216400264191821,
          0.4551498521207551,
          0.4493789852688037,
          0.7281746031746031,
          0.3997025974850124,
          0.3903356523214993,
          0.3988171092766372,
          0.4119166777869113,
          0.6764705882352942,
          0.6764705882352942,
          0.6770833333333333,
          0.6666666666666666,
          0.551283670004712,
          0.4981481480524172,
          0.4186980044751653,
          0.3723664101000901,
          0.3259764113675778,
          0.3256678305248661,
          0.31642338158224104,
          0.3351338544517685,
          0.365282251597196,
          0.04428019666955259,
          0.08955550314593519,
          0.5776010369738986,
          0.3010522358570915,
          0.2806039483771444,
          0.08917494640132133,
          0.4212971878161653,
          0.2504160054208536,
          0.2500553053934625,
          0.2351836972271986,
          0.424560627587725,
          0.7414864528958489,
          0.5754209327408519,
          0.6037510797545471,
          0.5207232011066646,
          0.6036260186706611,
          0.5611454728617159,
          0.24796887254152025,
          0.3169248274589119,
          0.27480837916941797,
          0.2868570900808465,
          0.3158793795935659,
          0.6764705877521634,
          0.6764705877672224,
          0.6770832936214033,
          0.35416926299883883,
          0.2953669420257469,
          0.2831529078959893,
          0.2548173265836645,
          0.2926152352549286,
          0.3031927228574687,
          0.6403848014497759,
          0.7060975609756097,
          0.7059061488673142,
          0.11895323299601394,
          0.3163056475774125,
          0.3280234611356246,
          0.2506597748619695,
          0.3150568846119527,
          0.5897846309973728,
          0.14369490456019093,
          0.4170906861561844,
          0.38068980162369537,
          0.12132979545022915,
          0.235109005132562,
          0.2191309697626015,
          0.22996261339434246,
          0.4722677528090888,
          0.19723152321764328,
          0.140412609288932,
          0.5373615437666034,
          0.4656681088529585,
          0.7395026976307764,
          0.5201210422761494,
          0.7104377621630749,
          0.45447950045146207,
          0.4706584608393672,
          0.4575333243207862,
          0.7142557651991615,
          0.3881098125467538,
          0.5897182153020935,
          0.3003094210593164,
          0.26936901126471785,
          0.04008384312840189,
          0.2020680146999413,
          0.5391865339477417,
          0.4888172863845443,
          0.4933657144818922,
          0.3270570175994672,
          0.4290582936973415,
          0.21979316972790447,
          0.2989848133293559,
          0.30738439947865664,
          0.2980754712670061,
          0.042719082574121284,
          0.29483297548298393,
          0.1007235871467662,
          0.386050275057002,
          0.28480990507703474,
          0.6666666621369592,
          0.6666666609607728,
          0.6666664823232382,
          0.6666666605857979,
          0.6666664754260161,
          0.6666664475301907,
          0.6666352572650598,
          0.0844918498372402,
          0.6025614467856886,
          0.6666314980717631,
          0.7350191793185701,
          0.5895189318374779,
          0.2520795263223509,
          0.4211707824723792,
          0.7039682539682539,
          0.70414673046252,
          0.1970412818301524,
          0.5142062338353084,
          0.6990983181281987,
          0.522814163114236,
          0.7074652422683918,
          0.5257062799830957,
          0.5286431525817301,
          0.7039682539682539,
          0.06426256836694558,
          0.70414673046252,
          0.7008101851850428,
          0.2062208799567192,
          0.24482028684647697,
          0.2442734722460045,
          0.23240323228784845,
          0.4811582643954584,
          0.13957064398999447,
          0.09852499697084356,
          0.2253536431268392,
          0.3215023486548121,
          0.3292164606559459,
          0.30440067059590153,
          0.3292849569507233,
          0.30357159937449674,
          0.05854640506968254,
          0.3110708359475121,
          0.31051425323475634,
          0.30995413443021835,
          0.309390457068333,
          0.057622036687164466,
          0.2497658917943001,
          0.2491983588990634,
          0.18513279275023287,
          0.14786721905781325,
          0.5612552736097767,
          0.6272497913695498,
          0.6270957429109039,
          0.0887112932985553,
          0.3092419139285356,
          0.3213154091568827,
          0.3080078422306877,
          0.3200672360476829,
          0.6498540463180571,
          0.6664352413171282,
          0.07779787799737138,
          0.0842203548085901,
          0.07032520991947101,
          0.6608840849128633,
          0.7029120198265135,
          0.11002557851464644,
          0.17114069157528028,
          0.37793050698383546,
          0.21935974985796255,
          0.41447765972695977,
          0.7222222218968075,
          0.7222222218575143,
          0.7222222222222217,
          0.7222222222222214,
          0.4839556309015736,
          0.490663646174408,
          0.3162822592265533,
          0.312369122625466,
          0.3191644356865847,
          0.31404229154638696,
          0.2311822389472447,
          0.5211344887618299,
          0.5182468411592875,
          0.3615997312973185,
          0.08278104952061033,
          0.27101015043149057,
          0.2702736550586292,
          0.14330164018454453,
          0.14289489274967024,
          0.15732776171886576,
          0,
          0.14188805014458847,
          0.1444121564466607,
          0.4656042317222177,
          0.2156948632313348,
          0.21512826006079644,
          0.2145602197238228,
          0.10675030543036107,
          0.10647687525386663,
          0.21284743921487936,
          0.7015770499332101,
          0.25085349739539664,
          0.6928213689482471,
          0.7039682539666248,
          0.7041467304603889,
          0.6182685089830682,
          0.08943048658432735,
          0.15469267982384746,
          0.042016996114054635,
          0.04182423128034615,
          0.2303297130932288,
          0.2058646537305655,
          0.2052731166241056,
          0.2046800791072722,
          0.2040855373743341,
          0.20348948760990687,
          0.1409200276759179,
          0.14037285408302955,
          0.05762003506665514,
          0.05345220647813458,
          0.06829645845884147,
          0.11363495363828448,
          0.480872432433612,
          0.4665644570480632,
          0.4911429540881224,
          0.5977051863496774,
          0.5973332787581117,
          0.3712851379599775,
          0.16584411724431028,
          0.041646890133763007,
          0.04145154448944456,
          0.04125607509115856,
          0.04106048186050528,
          0.040864764719035315,
          0.0406689235882496,
          0.5091143679140564,
          0.04027686904448585,
          0.15774997613824748,
          0.35999580270449344,
          0.3589158728886901,
          0.4634202897341824,
          0.4345295439016375,
          0.4385504515761036,
          0.4345626455730024,
          0.4418912973933696,
          0.1117283950617284,
          0.03460542650684318,
          0.040889447830346634,
          0.040691862578829584,
          0.6976430972585843,
          0.11637629605893846,
          0.09002806992973714,
          0.06490026905165051,
          0.4876280708153683,
          0,
          0.03097192320259175,
          0.04294292203998056,
          0.4840141699265437,
          0.4317729314011983,
          0.08917779937989961,
          0.4943899374264769,
          0.2793050656555869,
          0.17545390478807346,
          0.17438076682141307,
          0.16179286621221667,
          0.05545372472111258,
          0.38112996021148815,
          0.37340548581141453,
          0.371957329083908,
          0.3704930332181237,
          0.35839639026205233,
          0.5567263882589527,
          0.02943060020083355,
          0.5009252498699869,
          0.024798882628356108,
          0.021918111623451225,
          0.06844169776408844,
          0.06916637604812274,
          0.13096925449924887,
          0.1220216485755741,
          0.4016257049697947,
          0.08187301097762814,
          0.39542721742325215,
          0.21379494736055207,
          0.07775066336779228,
          0.06892003073348023,
          0.10966398735653984,
          0.2720944340484779,
          0.16355201767245134,
          0.3906386547361277,
          0.2531093921776507,
          0.5312676680628512,
          0.07360910769323907,
          0.2220527189118475,
          0.1892674933738843,
          0.18547209772611464,
          0.16575884228855245,
          0.18854286621221664,
          0.18242424956040987,
          0.5183587641645847,
          0.7223128753904295,
          0.7216750733098701,
          0.7265295058202345,
          0.08401881704113236,
          0.08974755812488605,
          0.21885283267005165,
          0.21677986708804503,
          0.2146864523685758,
          0.21257238678749274,
          0.4566612146534664,
          0.2302292203119403,
          0.2219747309210877,
          0.3970529058047035,
          0.20081703965622485,
          0.2040034116462271,
          0.09869109842652936,
          0.17284437901776406,
          0.1713621287507927,
          0.08325648522259521,
          0.0875260112864994,
          0.032129404842824935,
          0.05411765159591364,
          0,
          0.011380330668820968,
          0.4413582124514081,
          0.08656163582433367,
          0,
          0.5852139006383126,
          0.6989449753805035,
          0.021486869177985164,
          0.035906487813310566,
          0.08345140562030309,
          0.08255534690825568,
          0.05034720706214271,
          0.05000158195804025,
          0.4928017354229444,
          0.4872020273381876,
          0.07361735532503358,
          0.3564819981144701,
          0.3501508858491835,
          0.6225722385327577,
          0.33802157470423244,
          0.027458264084084177,
          0.045309686903419855,
          0.4368366752844446,
          0.19287372821833465,
          0.4255633745696536,
          0.6324069977346327,
          0.05303029601892671,
          0.06824619300433163,
          0.06679459168997592,
          0.04086866576405
         ],
         "xaxis": "x",
         "y": [
          16,
          28,
          35,
          54,
          55,
          72,
          80,
          102,
          103,
          104,
          125,
          158,
          159,
          230,
          246,
          260,
          314,
          315,
          316,
          317,
          318,
          319,
          320,
          321,
          322,
          323,
          344,
          345,
          346,
          384,
          404,
          413,
          435,
          443,
          473,
          474,
          522,
          535,
          545,
          546,
          569,
          570,
          599,
          619,
          627,
          632,
          633,
          649,
          650,
          651,
          652,
          653,
          654,
          655,
          656,
          657,
          658,
          659,
          660,
          661,
          662,
          663,
          664,
          665,
          666,
          667,
          693,
          694,
          695,
          721,
          722,
          723,
          764,
          765,
          766,
          767,
          821,
          822,
          863,
          864,
          865,
          884,
          885,
          886,
          887,
          888,
          911,
          944,
          945,
          946,
          980,
          1033,
          1034,
          1059,
          1060,
          1109,
          1110,
          1111,
          1112,
          1113,
          1150,
          1151,
          1174,
          1175,
          1202,
          1211,
          1212,
          1213,
          1224,
          1225,
          1226,
          1227,
          1319,
          1321,
          1322,
          1323,
          1324,
          1325,
          1333,
          1334,
          1347,
          1348,
          1349,
          1382,
          1406,
          1430,
          1431,
          1438,
          1439,
          1440,
          1441,
          1442,
          1443,
          1444,
          1445,
          1477,
          1490,
          1491,
          1492,
          1493,
          1494,
          1495,
          1496,
          1580,
          1581,
          1582,
          1583,
          1584,
          1585,
          1634,
          1668,
          1669,
          1677,
          1678,
          1679,
          1680,
          1681,
          1723,
          1730,
          1746,
          1747,
          1803,
          1812,
          1813,
          1825,
          1861,
          1865,
          1866,
          1888,
          1889,
          1890,
          1891,
          1892,
          1918,
          1919,
          1920,
          1928,
          1929,
          1969,
          1970,
          1971,
          2007,
          2008,
          2025,
          2039,
          2040,
          2058,
          2059,
          2060,
          2121,
          2122,
          2123,
          2132,
          2133,
          2148,
          2166,
          2185,
          2223,
          2224,
          2225,
          2226,
          2227,
          2228,
          2229,
          2230,
          2231,
          2232,
          2254,
          2255,
          2256,
          2263,
          2272,
          2273,
          2282,
          2292,
          2293,
          2294,
          2295,
          2296,
          2297,
          2349,
          2350,
          2351,
          2377,
          2378,
          2406,
          2407,
          2452,
          2461,
          2473,
          2507,
          2508,
          2512,
          2513,
          2514,
          2515,
          2516,
          2517,
          2518,
          2519,
          2520,
          2521,
          2522,
          2561,
          2562,
          2580,
          2601,
          2602,
          2612,
          2613,
          2636,
          2637,
          2638,
          2639,
          2640,
          2681,
          2682,
          2683,
          2684,
          2685,
          2686,
          2687,
          2756,
          2764,
          2765,
          2766,
          2783,
          2804,
          2805,
          2806,
          2807,
          2808,
          2809,
          2836,
          2837,
          2838,
          2839,
          2911,
          2912,
          2913,
          2915,
          2954,
          2955,
          2956,
          2975,
          2976,
          3014,
          3020,
          3021,
          3022,
          3031,
          3038,
          3039,
          3040,
          3041,
          3042,
          3043,
          3096,
          3101,
          3161,
          3197,
          3198,
          3226,
          3232,
          3233,
          3239,
          3240,
          3245,
          3246,
          3247,
          3248,
          3249,
          3250,
          3268,
          3269,
          3302,
          3303,
          3318,
          3335,
          3355,
          3356,
          3357,
          3358,
          3359,
          3360,
          3361,
          3362,
          3363,
          3364,
          3365,
          3366,
          3367,
          3368,
          3369,
          3370,
          3371,
          3372,
          3373,
          3374,
          3375,
          3376,
          3377,
          3378,
          3379,
          3438,
          3439,
          3440,
          3453,
          3454,
          3455,
          3475,
          3477,
          3478,
          3479,
          3480,
          3481,
          3513,
          3514,
          3576,
          3621,
          3622,
          3699,
          3700,
          3715,
          3716,
          3717,
          3718,
          3719,
          3732,
          3733,
          3734,
          3745,
          3821,
          3822,
          3823,
          3837,
          3838,
          3839,
          3847,
          3868,
          3886,
          3887,
          3888,
          3925,
          160,
          4017,
          4085,
          4090,
          4091,
          4123,
          4144,
          2840,
          2841,
          2842,
          2843,
          2844,
          4239,
          4240,
          4241,
          4242,
          4256,
          4265,
          4298,
          4299,
          4300,
          4301,
          4363,
          4366,
          4367,
          4368,
          4369,
          4370,
          4388,
          4396,
          4397,
          4432,
          4433,
          4441,
          4442,
          4463,
          4464,
          4471,
          4485,
          4486,
          4487,
          4510,
          4511,
          4523,
          4539,
          4540,
          4547,
          4548,
          4563,
          4564,
          4571,
          4579,
          4580,
          4581,
          4582,
          4604,
          4720,
          4728,
          4745,
          4758,
          4759,
          4760,
          4761,
          4762,
          4788
         ],
         "yaxis": "y"
        }
       ],
       "layout": {
        "barmode": "relative",
        "legend": {
         "tracegroupgap": 0
        },
        "margin": {
         "t": 60
        },
        "template": {
         "data": {
          "bar": [
           {
            "error_x": {
             "color": "#2a3f5f"
            },
            "error_y": {
             "color": "#2a3f5f"
            },
            "marker": {
             "line": {
              "color": "#E5ECF6",
              "width": 0.5
             }
            },
            "type": "bar"
           }
          ],
          "barpolar": [
           {
            "marker": {
             "line": {
              "color": "#E5ECF6",
              "width": 0.5
             }
            },
            "type": "barpolar"
           }
          ],
          "carpet": [
           {
            "aaxis": {
             "endlinecolor": "#2a3f5f",
             "gridcolor": "white",
             "linecolor": "white",
             "minorgridcolor": "white",
             "startlinecolor": "#2a3f5f"
            },
            "baxis": {
             "endlinecolor": "#2a3f5f",
             "gridcolor": "white",
             "linecolor": "white",
             "minorgridcolor": "white",
             "startlinecolor": "#2a3f5f"
            },
            "type": "carpet"
           }
          ],
          "choropleth": [
           {
            "colorbar": {
             "outlinewidth": 0,
             "ticks": ""
            },
            "type": "choropleth"
           }
          ],
          "contour": [
           {
            "colorbar": {
             "outlinewidth": 0,
             "ticks": ""
            },
            "colorscale": [
             [
              0,
              "#0d0887"
             ],
             [
              0.1111111111111111,
              "#46039f"
             ],
             [
              0.2222222222222222,
              "#7201a8"
             ],
             [
              0.3333333333333333,
              "#9c179e"
             ],
             [
              0.4444444444444444,
              "#bd3786"
             ],
             [
              0.5555555555555556,
              "#d8576b"
             ],
             [
              0.6666666666666666,
              "#ed7953"
             ],
             [
              0.7777777777777778,
              "#fb9f3a"
             ],
             [
              0.8888888888888888,
              "#fdca26"
             ],
             [
              1,
              "#f0f921"
             ]
            ],
            "type": "contour"
           }
          ],
          "contourcarpet": [
           {
            "colorbar": {
             "outlinewidth": 0,
             "ticks": ""
            },
            "type": "contourcarpet"
           }
          ],
          "heatmap": [
           {
            "colorbar": {
             "outlinewidth": 0,
             "ticks": ""
            },
            "colorscale": [
             [
              0,
              "#0d0887"
             ],
             [
              0.1111111111111111,
              "#46039f"
             ],
             [
              0.2222222222222222,
              "#7201a8"
             ],
             [
              0.3333333333333333,
              "#9c179e"
             ],
             [
              0.4444444444444444,
              "#bd3786"
             ],
             [
              0.5555555555555556,
              "#d8576b"
             ],
             [
              0.6666666666666666,
              "#ed7953"
             ],
             [
              0.7777777777777778,
              "#fb9f3a"
             ],
             [
              0.8888888888888888,
              "#fdca26"
             ],
             [
              1,
              "#f0f921"
             ]
            ],
            "type": "heatmap"
           }
          ],
          "heatmapgl": [
           {
            "colorbar": {
             "outlinewidth": 0,
             "ticks": ""
            },
            "colorscale": [
             [
              0,
              "#0d0887"
             ],
             [
              0.1111111111111111,
              "#46039f"
             ],
             [
              0.2222222222222222,
              "#7201a8"
             ],
             [
              0.3333333333333333,
              "#9c179e"
             ],
             [
              0.4444444444444444,
              "#bd3786"
             ],
             [
              0.5555555555555556,
              "#d8576b"
             ],
             [
              0.6666666666666666,
              "#ed7953"
             ],
             [
              0.7777777777777778,
              "#fb9f3a"
             ],
             [
              0.8888888888888888,
              "#fdca26"
             ],
             [
              1,
              "#f0f921"
             ]
            ],
            "type": "heatmapgl"
           }
          ],
          "histogram": [
           {
            "marker": {
             "colorbar": {
              "outlinewidth": 0,
              "ticks": ""
             }
            },
            "type": "histogram"
           }
          ],
          "histogram2d": [
           {
            "colorbar": {
             "outlinewidth": 0,
             "ticks": ""
            },
            "colorscale": [
             [
              0,
              "#0d0887"
             ],
             [
              0.1111111111111111,
              "#46039f"
             ],
             [
              0.2222222222222222,
              "#7201a8"
             ],
             [
              0.3333333333333333,
              "#9c179e"
             ],
             [
              0.4444444444444444,
              "#bd3786"
             ],
             [
              0.5555555555555556,
              "#d8576b"
             ],
             [
              0.6666666666666666,
              "#ed7953"
             ],
             [
              0.7777777777777778,
              "#fb9f3a"
             ],
             [
              0.8888888888888888,
              "#fdca26"
             ],
             [
              1,
              "#f0f921"
             ]
            ],
            "type": "histogram2d"
           }
          ],
          "histogram2dcontour": [
           {
            "colorbar": {
             "outlinewidth": 0,
             "ticks": ""
            },
            "colorscale": [
             [
              0,
              "#0d0887"
             ],
             [
              0.1111111111111111,
              "#46039f"
             ],
             [
              0.2222222222222222,
              "#7201a8"
             ],
             [
              0.3333333333333333,
              "#9c179e"
             ],
             [
              0.4444444444444444,
              "#bd3786"
             ],
             [
              0.5555555555555556,
              "#d8576b"
             ],
             [
              0.6666666666666666,
              "#ed7953"
             ],
             [
              0.7777777777777778,
              "#fb9f3a"
             ],
             [
              0.8888888888888888,
              "#fdca26"
             ],
             [
              1,
              "#f0f921"
             ]
            ],
            "type": "histogram2dcontour"
           }
          ],
          "mesh3d": [
           {
            "colorbar": {
             "outlinewidth": 0,
             "ticks": ""
            },
            "type": "mesh3d"
           }
          ],
          "parcoords": [
           {
            "line": {
             "colorbar": {
              "outlinewidth": 0,
              "ticks": ""
             }
            },
            "type": "parcoords"
           }
          ],
          "pie": [
           {
            "automargin": true,
            "type": "pie"
           }
          ],
          "scatter": [
           {
            "marker": {
             "colorbar": {
              "outlinewidth": 0,
              "ticks": ""
             }
            },
            "type": "scatter"
           }
          ],
          "scatter3d": [
           {
            "line": {
             "colorbar": {
              "outlinewidth": 0,
              "ticks": ""
             }
            },
            "marker": {
             "colorbar": {
              "outlinewidth": 0,
              "ticks": ""
             }
            },
            "type": "scatter3d"
           }
          ],
          "scattercarpet": [
           {
            "marker": {
             "colorbar": {
              "outlinewidth": 0,
              "ticks": ""
             }
            },
            "type": "scattercarpet"
           }
          ],
          "scattergeo": [
           {
            "marker": {
             "colorbar": {
              "outlinewidth": 0,
              "ticks": ""
             }
            },
            "type": "scattergeo"
           }
          ],
          "scattergl": [
           {
            "marker": {
             "colorbar": {
              "outlinewidth": 0,
              "ticks": ""
             }
            },
            "type": "scattergl"
           }
          ],
          "scattermapbox": [
           {
            "marker": {
             "colorbar": {
              "outlinewidth": 0,
              "ticks": ""
             }
            },
            "type": "scattermapbox"
           }
          ],
          "scatterpolar": [
           {
            "marker": {
             "colorbar": {
              "outlinewidth": 0,
              "ticks": ""
             }
            },
            "type": "scatterpolar"
           }
          ],
          "scatterpolargl": [
           {
            "marker": {
             "colorbar": {
              "outlinewidth": 0,
              "ticks": ""
             }
            },
            "type": "scatterpolargl"
           }
          ],
          "scatterternary": [
           {
            "marker": {
             "colorbar": {
              "outlinewidth": 0,
              "ticks": ""
             }
            },
            "type": "scatterternary"
           }
          ],
          "surface": [
           {
            "colorbar": {
             "outlinewidth": 0,
             "ticks": ""
            },
            "colorscale": [
             [
              0,
              "#0d0887"
             ],
             [
              0.1111111111111111,
              "#46039f"
             ],
             [
              0.2222222222222222,
              "#7201a8"
             ],
             [
              0.3333333333333333,
              "#9c179e"
             ],
             [
              0.4444444444444444,
              "#bd3786"
             ],
             [
              0.5555555555555556,
              "#d8576b"
             ],
             [
              0.6666666666666666,
              "#ed7953"
             ],
             [
              0.7777777777777778,
              "#fb9f3a"
             ],
             [
              0.8888888888888888,
              "#fdca26"
             ],
             [
              1,
              "#f0f921"
             ]
            ],
            "type": "surface"
           }
          ],
          "table": [
           {
            "cells": {
             "fill": {
              "color": "#EBF0F8"
             },
             "line": {
              "color": "white"
             }
            },
            "header": {
             "fill": {
              "color": "#C8D4E3"
             },
             "line": {
              "color": "white"
             }
            },
            "type": "table"
           }
          ]
         },
         "layout": {
          "annotationdefaults": {
           "arrowcolor": "#2a3f5f",
           "arrowhead": 0,
           "arrowwidth": 1
          },
          "coloraxis": {
           "colorbar": {
            "outlinewidth": 0,
            "ticks": ""
           }
          },
          "colorscale": {
           "diverging": [
            [
             0,
             "#8e0152"
            ],
            [
             0.1,
             "#c51b7d"
            ],
            [
             0.2,
             "#de77ae"
            ],
            [
             0.3,
             "#f1b6da"
            ],
            [
             0.4,
             "#fde0ef"
            ],
            [
             0.5,
             "#f7f7f7"
            ],
            [
             0.6,
             "#e6f5d0"
            ],
            [
             0.7,
             "#b8e186"
            ],
            [
             0.8,
             "#7fbc41"
            ],
            [
             0.9,
             "#4d9221"
            ],
            [
             1,
             "#276419"
            ]
           ],
           "sequential": [
            [
             0,
             "#0d0887"
            ],
            [
             0.1111111111111111,
             "#46039f"
            ],
            [
             0.2222222222222222,
             "#7201a8"
            ],
            [
             0.3333333333333333,
             "#9c179e"
            ],
            [
             0.4444444444444444,
             "#bd3786"
            ],
            [
             0.5555555555555556,
             "#d8576b"
            ],
            [
             0.6666666666666666,
             "#ed7953"
            ],
            [
             0.7777777777777778,
             "#fb9f3a"
            ],
            [
             0.8888888888888888,
             "#fdca26"
            ],
            [
             1,
             "#f0f921"
            ]
           ],
           "sequentialminus": [
            [
             0,
             "#0d0887"
            ],
            [
             0.1111111111111111,
             "#46039f"
            ],
            [
             0.2222222222222222,
             "#7201a8"
            ],
            [
             0.3333333333333333,
             "#9c179e"
            ],
            [
             0.4444444444444444,
             "#bd3786"
            ],
            [
             0.5555555555555556,
             "#d8576b"
            ],
            [
             0.6666666666666666,
             "#ed7953"
            ],
            [
             0.7777777777777778,
             "#fb9f3a"
            ],
            [
             0.8888888888888888,
             "#fdca26"
            ],
            [
             1,
             "#f0f921"
            ]
           ]
          },
          "colorway": [
           "#636efa",
           "#EF553B",
           "#00cc96",
           "#ab63fa",
           "#FFA15A",
           "#19d3f3",
           "#FF6692",
           "#B6E880",
           "#FF97FF",
           "#FECB52"
          ],
          "font": {
           "color": "#2a3f5f"
          },
          "geo": {
           "bgcolor": "white",
           "lakecolor": "white",
           "landcolor": "#E5ECF6",
           "showlakes": true,
           "showland": true,
           "subunitcolor": "white"
          },
          "hoverlabel": {
           "align": "left"
          },
          "hovermode": "closest",
          "mapbox": {
           "style": "light"
          },
          "paper_bgcolor": "white",
          "plot_bgcolor": "#E5ECF6",
          "polar": {
           "angularaxis": {
            "gridcolor": "white",
            "linecolor": "white",
            "ticks": ""
           },
           "bgcolor": "#E5ECF6",
           "radialaxis": {
            "gridcolor": "white",
            "linecolor": "white",
            "ticks": ""
           }
          },
          "scene": {
           "xaxis": {
            "backgroundcolor": "#E5ECF6",
            "gridcolor": "white",
            "gridwidth": 2,
            "linecolor": "white",
            "showbackground": true,
            "ticks": "",
            "zerolinecolor": "white"
           },
           "yaxis": {
            "backgroundcolor": "#E5ECF6",
            "gridcolor": "white",
            "gridwidth": 2,
            "linecolor": "white",
            "showbackground": true,
            "ticks": "",
            "zerolinecolor": "white"
           },
           "zaxis": {
            "backgroundcolor": "#E5ECF6",
            "gridcolor": "white",
            "gridwidth": 2,
            "linecolor": "white",
            "showbackground": true,
            "ticks": "",
            "zerolinecolor": "white"
           }
          },
          "shapedefaults": {
           "line": {
            "color": "#2a3f5f"
           }
          },
          "ternary": {
           "aaxis": {
            "gridcolor": "white",
            "linecolor": "white",
            "ticks": ""
           },
           "baxis": {
            "gridcolor": "white",
            "linecolor": "white",
            "ticks": ""
           },
           "bgcolor": "#E5ECF6",
           "caxis": {
            "gridcolor": "white",
            "linecolor": "white",
            "ticks": ""
           }
          },
          "title": {
           "x": 0.05
          },
          "xaxis": {
           "automargin": true,
           "gridcolor": "white",
           "linecolor": "white",
           "ticks": "",
           "title": {
            "standoff": 15
           },
           "zerolinecolor": "white",
           "zerolinewidth": 2
          },
          "yaxis": {
           "automargin": true,
           "gridcolor": "white",
           "linecolor": "white",
           "ticks": "",
           "title": {
            "standoff": 15
           },
           "zerolinecolor": "white",
           "zerolinewidth": 2
          }
         }
        },
        "xaxis": {
         "anchor": "y",
         "domain": [
          0,
          1
         ],
         "title": {
          "text": "complexity"
         }
        },
        "yaxis": {
         "anchor": "x",
         "domain": [
          0,
          1
         ],
         "title": {
          "text": "count of fileid"
         }
        }
       }
      }
     },
     "metadata": {}
    }
   ],
   "source": [
    "fig = px.histogram(dfcomplexity_xsd, x=\"complexity\", y=\"fileid\")\n",
    "fig.show()"
   ]
  },
  {
   "cell_type": "code",
   "execution_count": 14,
   "metadata": {},
   "outputs": [
    {
     "output_type": "stream",
     "name": "stdout",
     "text": "complexity            0\nsize_complexity       0\nconcept_complexity    0\nname_complexity       0\nscenario              0\nfileid                0\ndtype: int64\n"
    }
   ],
   "source": [
    "print(dfcomplexity_xsd.isna().sum())"
   ]
  },
  {
   "cell_type": "markdown",
   "metadata": {},
   "source": [
    "## Mapping Complexities"
   ]
  },
  {
   "cell_type": "code",
   "execution_count": 15,
   "metadata": {},
   "outputs": [
    {
     "output_type": "execute_result",
     "data": {
      "text/plain": "   mapping_complexity  scenario  fileid\n0            0.474467         7      57\n1            0.516861       375     167\n2            0.439316        30     325\n3            0.470497        30     326\n4            0.417094        30     327",
      "text/html": "<div>\n<style scoped>\n    .dataframe tbody tr th:only-of-type {\n        vertical-align: middle;\n    }\n\n    .dataframe tbody tr th {\n        vertical-align: top;\n    }\n\n    .dataframe thead th {\n        text-align: right;\n    }\n</style>\n<table border=\"1\" class=\"dataframe\">\n  <thead>\n    <tr style=\"text-align: right;\">\n      <th></th>\n      <th>mapping_complexity</th>\n      <th>scenario</th>\n      <th>fileid</th>\n    </tr>\n  </thead>\n  <tbody>\n    <tr>\n      <th>0</th>\n      <td>0.474467</td>\n      <td>7</td>\n      <td>57</td>\n    </tr>\n    <tr>\n      <th>1</th>\n      <td>0.516861</td>\n      <td>375</td>\n      <td>167</td>\n    </tr>\n    <tr>\n      <th>2</th>\n      <td>0.439316</td>\n      <td>30</td>\n      <td>325</td>\n    </tr>\n    <tr>\n      <th>3</th>\n      <td>0.470497</td>\n      <td>30</td>\n      <td>326</td>\n    </tr>\n    <tr>\n      <th>4</th>\n      <td>0.417094</td>\n      <td>30</td>\n      <td>327</td>\n    </tr>\n  </tbody>\n</table>\n</div>"
     },
     "metadata": {},
     "execution_count": 15
    }
   ],
   "source": [
    "dfmapping_complexity = pd.read_csv(prefix+\"qasmapping_complexity.csv\")\n",
    "dfmapping_complexity.drop(columns=[\"Unnamed: 0\"], inplace=True)\n",
    "dfmapping_complexity = dfmapping_complexity.drop_duplicates()\n",
    "dfmapping_complexity.reset_index(inplace=True)\n",
    "dfmapping_complexity.drop(columns=[\"index\"], inplace=True)\n",
    "dfmapping_complexity['scenario'] = dfmapping_complexity['file'].apply(filename_to_scenarioid)\n",
    "dfmapping_complexity['fileid'] = dfmapping_complexity['file'].apply(filename_to_fileid)\n",
    "dfmapping_complexity.drop(columns=[\"file\"], inplace=True)\n",
    "dfmapping_complexity.head()"
   ]
  },
  {
   "cell_type": "code",
   "execution_count": 16,
   "metadata": {},
   "outputs": [
    {
     "output_type": "execute_result",
     "data": {
      "text/plain": "     bricks  sources  size_complexity  name_complexity  scenario  fileid\n390   27110    27169         1.000000         0.419333       254    2743\n391   27110    27169         1.000000         0.419333       254    2744\n526   27110    27169         1.000000         0.419333       343    3669\n527   27110    27169         1.000000         0.419333       343    3670\n546   30756    30784         1.000000         0.336667       351    3783\n548   30757    30785         1.000000         0.336667       351    3785\n388   27110    27144         1.000000         0.336250       254    2741\n524   27110    27144         1.000000         0.336250       343    3667\n547   30757    30785         1.000000         0.304630       351    3784\n195    2317    14947         1.000000         1.000000       132    1422\n31    10467      152         1.000000         1.000000        26     268\n142   10467      154         1.000000         1.000000        99    1087\n170   10467      151         1.000000         1.000000       112    1244\n475   10466      144         1.000000         1.000000       308    3312\n421    6577     7648         1.000000         1.000000       271    2926\n587    6577     7648         1.000000         1.000000       371    3957\n704    7069     7205         0.999999         0.327350       440    4637\n699    7068     7180         0.999999         0.381522       440    4632\n697    6774     6781         0.999998         0.072222       440    4630\n418    6576     6707         0.999997         0.695181       271    2923",
      "text/html": "<div>\n<style scoped>\n    .dataframe tbody tr th:only-of-type {\n        vertical-align: middle;\n    }\n\n    .dataframe tbody tr th {\n        vertical-align: top;\n    }\n\n    .dataframe thead th {\n        text-align: right;\n    }\n</style>\n<table border=\"1\" class=\"dataframe\">\n  <thead>\n    <tr style=\"text-align: right;\">\n      <th></th>\n      <th>bricks</th>\n      <th>sources</th>\n      <th>size_complexity</th>\n      <th>name_complexity</th>\n      <th>scenario</th>\n      <th>fileid</th>\n    </tr>\n  </thead>\n  <tbody>\n    <tr>\n      <th>390</th>\n      <td>27110</td>\n      <td>27169</td>\n      <td>1.000000</td>\n      <td>0.419333</td>\n      <td>254</td>\n      <td>2743</td>\n    </tr>\n    <tr>\n      <th>391</th>\n      <td>27110</td>\n      <td>27169</td>\n      <td>1.000000</td>\n      <td>0.419333</td>\n      <td>254</td>\n      <td>2744</td>\n    </tr>\n    <tr>\n      <th>526</th>\n      <td>27110</td>\n      <td>27169</td>\n      <td>1.000000</td>\n      <td>0.419333</td>\n      <td>343</td>\n      <td>3669</td>\n    </tr>\n    <tr>\n      <th>527</th>\n      <td>27110</td>\n      <td>27169</td>\n      <td>1.000000</td>\n      <td>0.419333</td>\n      <td>343</td>\n      <td>3670</td>\n    </tr>\n    <tr>\n      <th>546</th>\n      <td>30756</td>\n      <td>30784</td>\n      <td>1.000000</td>\n      <td>0.336667</td>\n      <td>351</td>\n      <td>3783</td>\n    </tr>\n    <tr>\n      <th>548</th>\n      <td>30757</td>\n      <td>30785</td>\n      <td>1.000000</td>\n      <td>0.336667</td>\n      <td>351</td>\n      <td>3785</td>\n    </tr>\n    <tr>\n      <th>388</th>\n      <td>27110</td>\n      <td>27144</td>\n      <td>1.000000</td>\n      <td>0.336250</td>\n      <td>254</td>\n      <td>2741</td>\n    </tr>\n    <tr>\n      <th>524</th>\n      <td>27110</td>\n      <td>27144</td>\n      <td>1.000000</td>\n      <td>0.336250</td>\n      <td>343</td>\n      <td>3667</td>\n    </tr>\n    <tr>\n      <th>547</th>\n      <td>30757</td>\n      <td>30785</td>\n      <td>1.000000</td>\n      <td>0.304630</td>\n      <td>351</td>\n      <td>3784</td>\n    </tr>\n    <tr>\n      <th>195</th>\n      <td>2317</td>\n      <td>14947</td>\n      <td>1.000000</td>\n      <td>1.000000</td>\n      <td>132</td>\n      <td>1422</td>\n    </tr>\n    <tr>\n      <th>31</th>\n      <td>10467</td>\n      <td>152</td>\n      <td>1.000000</td>\n      <td>1.000000</td>\n      <td>26</td>\n      <td>268</td>\n    </tr>\n    <tr>\n      <th>142</th>\n      <td>10467</td>\n      <td>154</td>\n      <td>1.000000</td>\n      <td>1.000000</td>\n      <td>99</td>\n      <td>1087</td>\n    </tr>\n    <tr>\n      <th>170</th>\n      <td>10467</td>\n      <td>151</td>\n      <td>1.000000</td>\n      <td>1.000000</td>\n      <td>112</td>\n      <td>1244</td>\n    </tr>\n    <tr>\n      <th>475</th>\n      <td>10466</td>\n      <td>144</td>\n      <td>1.000000</td>\n      <td>1.000000</td>\n      <td>308</td>\n      <td>3312</td>\n    </tr>\n    <tr>\n      <th>421</th>\n      <td>6577</td>\n      <td>7648</td>\n      <td>1.000000</td>\n      <td>1.000000</td>\n      <td>271</td>\n      <td>2926</td>\n    </tr>\n    <tr>\n      <th>587</th>\n      <td>6577</td>\n      <td>7648</td>\n      <td>1.000000</td>\n      <td>1.000000</td>\n      <td>371</td>\n      <td>3957</td>\n    </tr>\n    <tr>\n      <th>704</th>\n      <td>7069</td>\n      <td>7205</td>\n      <td>0.999999</td>\n      <td>0.327350</td>\n      <td>440</td>\n      <td>4637</td>\n    </tr>\n    <tr>\n      <th>699</th>\n      <td>7068</td>\n      <td>7180</td>\n      <td>0.999999</td>\n      <td>0.381522</td>\n      <td>440</td>\n      <td>4632</td>\n    </tr>\n    <tr>\n      <th>697</th>\n      <td>6774</td>\n      <td>6781</td>\n      <td>0.999998</td>\n      <td>0.072222</td>\n      <td>440</td>\n      <td>4630</td>\n    </tr>\n    <tr>\n      <th>418</th>\n      <td>6576</td>\n      <td>6707</td>\n      <td>0.999997</td>\n      <td>0.695181</td>\n      <td>271</td>\n      <td>2923</td>\n    </tr>\n  </tbody>\n</table>\n</div>"
     },
     "metadata": {},
     "execution_count": 16
    }
   ],
   "source": [
    "dfmmap = pd.read_csv(prefix+\"/QASmmap-stats.csv\")\n",
    "dfmmap.drop(columns=[\"Unnamed: 0\"], inplace=True)\n",
    "dfmmap = dfmmap.drop_duplicates()\n",
    "dfmmap.reset_index(inplace=True)\n",
    "dfmmap.drop(columns=[\"index\"], inplace=True)\n",
    "dfmmap['scenario'] = dfmmap['file'].apply(filepath_to_scenarioid)\n",
    "dfmmap['fileid'] = dfmmap['file'].apply(filepath_to_fileid)\n",
    "dfmmap.drop(columns=[\"file\"], inplace=True)\n",
    "dfmmap.sort_values(by=['size_complexity', 'name_complexity'], ascending=False, inplace=True)\n",
    "dfmmap.head(20)"
   ]
  },
  {
   "cell_type": "code",
   "execution_count": 17,
   "metadata": {},
   "outputs": [
    {
     "output_type": "stream",
     "name": "stdout",
     "text": "0 0\n30757 943\n"
    }
   ],
   "source": [
    "winsor = dfmmap.bricks.values\n",
    "win_edit = scipy.stats.mstats.winsorize(winsor, limits=[0.06, 0.06])\n",
    "\n",
    "print(min(winsor), min(win_edit))\n",
    "print(max(winsor), max(win_edit))"
   ]
  },
  {
   "cell_type": "code",
   "execution_count": 18,
   "metadata": {},
   "outputs": [
    {
     "output_type": "stream",
     "name": "stdout",
     "text": "0 0\n30785 1299\n"
    }
   ],
   "source": [
    "winsor = dfmmap.sources.values\n",
    "win_edit = scipy.stats.mstats.winsorize(winsor, limits=[0.06, 0.06])\n",
    "\n",
    "print(min(winsor), min(win_edit))\n",
    "print(max(winsor), max(win_edit))"
   ]
  },
  {
   "cell_type": "code",
   "execution_count": 19,
   "metadata": {},
   "outputs": [
    {
     "output_type": "execute_result",
     "data": {
      "text/plain": "             bricks       sources  size_complexity  name_complexity  \\\ncount    726.000000    726.000000       726.000000       726.000000   \nmean     663.571625    673.435262         0.189785         0.262346   \nstd     3387.305816   3359.790633         0.267399         0.337922   \nmin        0.000000      0.000000         0.016954         0.000000   \n25%        0.000000      0.000000         0.018198         0.000000   \n50%       12.000000     19.000000         0.068031         0.092045   \n75%       48.000000    110.750000         0.215382         0.347009   \nmax    30757.000000  30785.000000         1.000000         1.000000   \n\n         scenario       fileid  \ncount  726.000000   726.000000  \nmean   234.315427  2500.685950  \nstd    129.790828  1375.455906  \nmin      0.000000     5.000000  \n25%    121.500000  1304.250000  \n50%    247.000000  2587.500000  \n75%    349.750000  3732.250000  \nmax    455.000000  4802.000000  ",
      "text/html": "<div>\n<style scoped>\n    .dataframe tbody tr th:only-of-type {\n        vertical-align: middle;\n    }\n\n    .dataframe tbody tr th {\n        vertical-align: top;\n    }\n\n    .dataframe thead th {\n        text-align: right;\n    }\n</style>\n<table border=\"1\" class=\"dataframe\">\n  <thead>\n    <tr style=\"text-align: right;\">\n      <th></th>\n      <th>bricks</th>\n      <th>sources</th>\n      <th>size_complexity</th>\n      <th>name_complexity</th>\n      <th>scenario</th>\n      <th>fileid</th>\n    </tr>\n  </thead>\n  <tbody>\n    <tr>\n      <th>count</th>\n      <td>726.000000</td>\n      <td>726.000000</td>\n      <td>726.000000</td>\n      <td>726.000000</td>\n      <td>726.000000</td>\n      <td>726.000000</td>\n    </tr>\n    <tr>\n      <th>mean</th>\n      <td>663.571625</td>\n      <td>673.435262</td>\n      <td>0.189785</td>\n      <td>0.262346</td>\n      <td>234.315427</td>\n      <td>2500.685950</td>\n    </tr>\n    <tr>\n      <th>std</th>\n      <td>3387.305816</td>\n      <td>3359.790633</td>\n      <td>0.267399</td>\n      <td>0.337922</td>\n      <td>129.790828</td>\n      <td>1375.455906</td>\n    </tr>\n    <tr>\n      <th>min</th>\n      <td>0.000000</td>\n      <td>0.000000</td>\n      <td>0.016954</td>\n      <td>0.000000</td>\n      <td>0.000000</td>\n      <td>5.000000</td>\n    </tr>\n    <tr>\n      <th>25%</th>\n      <td>0.000000</td>\n      <td>0.000000</td>\n      <td>0.018198</td>\n      <td>0.000000</td>\n      <td>121.500000</td>\n      <td>1304.250000</td>\n    </tr>\n    <tr>\n      <th>50%</th>\n      <td>12.000000</td>\n      <td>19.000000</td>\n      <td>0.068031</td>\n      <td>0.092045</td>\n      <td>247.000000</td>\n      <td>2587.500000</td>\n    </tr>\n    <tr>\n      <th>75%</th>\n      <td>48.000000</td>\n      <td>110.750000</td>\n      <td>0.215382</td>\n      <td>0.347009</td>\n      <td>349.750000</td>\n      <td>3732.250000</td>\n    </tr>\n    <tr>\n      <th>max</th>\n      <td>30757.000000</td>\n      <td>30785.000000</td>\n      <td>1.000000</td>\n      <td>1.000000</td>\n      <td>455.000000</td>\n      <td>4802.000000</td>\n    </tr>\n  </tbody>\n</table>\n</div>"
     },
     "metadata": {},
     "execution_count": 19
    }
   ],
   "source": [
    "dfmmap.describe()"
   ]
  },
  {
   "cell_type": "markdown",
   "metadata": {},
   "source": [
    "## Reuse"
   ]
  },
  {
   "cell_type": "code",
   "execution_count": 20,
   "metadata": {},
   "outputs": [
    {
     "output_type": "execute_result",
     "data": {
      "text/plain": "      reuse  scenario  fileid\n0  0.083333         1      16\n1  0.076923         3      28\n2  0.090909         4      35\n3  0.040000         7      54\n4  0.041667         7      55",
      "text/html": "<div>\n<style scoped>\n    .dataframe tbody tr th:only-of-type {\n        vertical-align: middle;\n    }\n\n    .dataframe tbody tr th {\n        vertical-align: top;\n    }\n\n    .dataframe thead th {\n        text-align: right;\n    }\n</style>\n<table border=\"1\" class=\"dataframe\">\n  <thead>\n    <tr style=\"text-align: right;\">\n      <th></th>\n      <th>reuse</th>\n      <th>scenario</th>\n      <th>fileid</th>\n    </tr>\n  </thead>\n  <tbody>\n    <tr>\n      <th>0</th>\n      <td>0.083333</td>\n      <td>1</td>\n      <td>16</td>\n    </tr>\n    <tr>\n      <th>1</th>\n      <td>0.076923</td>\n      <td>3</td>\n      <td>28</td>\n    </tr>\n    <tr>\n      <th>2</th>\n      <td>0.090909</td>\n      <td>4</td>\n      <td>35</td>\n    </tr>\n    <tr>\n      <th>3</th>\n      <td>0.040000</td>\n      <td>7</td>\n      <td>54</td>\n    </tr>\n    <tr>\n      <th>4</th>\n      <td>0.041667</td>\n      <td>7</td>\n      <td>55</td>\n    </tr>\n  </tbody>\n</table>\n</div>"
     },
     "metadata": {},
     "execution_count": 20
    }
   ],
   "source": [
    "dfreuse = pd.read_csv(prefix+\"qasreuse.csv\")\n",
    "dfreuse.drop(columns=[\"Unnamed: 0\"], inplace=True)\n",
    "dfreuse['scenario'] = dfreuse['file'].apply(filepath_to_scenarioid)\n",
    "dfreuse['fileid'] = dfreuse['file'].apply(filepath_to_fileid)\n",
    "dfreuse.drop(columns=[\"file\"], inplace=True)\n",
    "dfreuse.head()"
   ]
  },
  {
   "cell_type": "code",
   "execution_count": 21,
   "metadata": {},
   "outputs": [
    {
     "output_type": "execute_result",
     "data": {
      "text/plain": "   complexity  size_complexity  concept_complexity  name_complexity  scenario  \\\n0    0.463260         0.981498            0.272727         0.135556         1   \n1    0.418045         0.994060            0.090909         0.169167         3   \n2    0.435673         0.949610            0.194444         0.162963         4   \n3    0.416243         0.999964            0.000000         0.248765         7   \n4    0.407157         0.999945            0.000000         0.221528         7   \n\n   fileid     reuse  \n0      16  0.083333  \n1      28  0.076923  \n2      35  0.090909  \n3      54  0.040000  \n4      55  0.041667  ",
      "text/html": "<div>\n<style scoped>\n    .dataframe tbody tr th:only-of-type {\n        vertical-align: middle;\n    }\n\n    .dataframe tbody tr th {\n        vertical-align: top;\n    }\n\n    .dataframe thead th {\n        text-align: right;\n    }\n</style>\n<table border=\"1\" class=\"dataframe\">\n  <thead>\n    <tr style=\"text-align: right;\">\n      <th></th>\n      <th>complexity</th>\n      <th>size_complexity</th>\n      <th>concept_complexity</th>\n      <th>name_complexity</th>\n      <th>scenario</th>\n      <th>fileid</th>\n      <th>reuse</th>\n    </tr>\n  </thead>\n  <tbody>\n    <tr>\n      <th>0</th>\n      <td>0.463260</td>\n      <td>0.981498</td>\n      <td>0.272727</td>\n      <td>0.135556</td>\n      <td>1</td>\n      <td>16</td>\n      <td>0.083333</td>\n    </tr>\n    <tr>\n      <th>1</th>\n      <td>0.418045</td>\n      <td>0.994060</td>\n      <td>0.090909</td>\n      <td>0.169167</td>\n      <td>3</td>\n      <td>28</td>\n      <td>0.076923</td>\n    </tr>\n    <tr>\n      <th>2</th>\n      <td>0.435673</td>\n      <td>0.949610</td>\n      <td>0.194444</td>\n      <td>0.162963</td>\n      <td>4</td>\n      <td>35</td>\n      <td>0.090909</td>\n    </tr>\n    <tr>\n      <th>3</th>\n      <td>0.416243</td>\n      <td>0.999964</td>\n      <td>0.000000</td>\n      <td>0.248765</td>\n      <td>7</td>\n      <td>54</td>\n      <td>0.040000</td>\n    </tr>\n    <tr>\n      <th>4</th>\n      <td>0.407157</td>\n      <td>0.999945</td>\n      <td>0.000000</td>\n      <td>0.221528</td>\n      <td>7</td>\n      <td>55</td>\n      <td>0.041667</td>\n    </tr>\n  </tbody>\n</table>\n</div>"
     },
     "metadata": {},
     "execution_count": 21
    }
   ],
   "source": [
    "dfreusecomplexity = pd.merge(left=dfcomplexity_xsd, right=dfreuse, on=[\"scenario\",\"fileid\"])\n",
    "dfreusecomplexity.head()\n",
    "# dfreusecomplexity.to_csv(\"test.csv\")"
   ]
  },
  {
   "cell_type": "code",
   "execution_count": 22,
   "metadata": {},
   "outputs": [
    {
     "output_type": "stream",
     "name": "stdout",
     "text": "(11, reuse         0.333333\nscenario     17.000000\nfileid      134.000000\nName: 11, dtype: float64)\n"
    }
   ],
   "source": [
    "for i in dfreuse.iterrows():\n",
    "    row = i[1]\n",
    "    if not row['scenario'] in dfcomplexity_xsd.scenario.values and not row['fileid'] in dfcomplexity_xsd.fileid.values:\n",
    "        print(i)    "
   ]
  },
  {
   "cell_type": "markdown",
   "metadata": {},
   "source": [
    "## BPMN Complexities"
   ]
  },
  {
   "cell_type": "code",
   "execution_count": 23,
   "metadata": {},
   "outputs": [
    {
     "output_type": "execute_result",
     "data": {
      "text/plain": "   AverageGatewayDegree_metric  CoefficientOfNetworkComplexity_metric  \\\n0                          NaN                               1.000000   \n1                          NaN                               0.700000   \n2                          NaN                               0.875000   \n3                          3.0                               0.769231   \n4                          NaN                               0.750000   \n\n   DurfeeSquare_metric  GatewayHeterogenity_metric  NOAC_metric  NOAJS_metric  \\\n0                    3                           0            2             0   \n1                    2                           0            5             1   \n2                    2                           0            2             0   \n3                    4                           1           12             3   \n4                    2                           0            5             1   \n\n   NOA_metric  NumberOfNodes_metric  PerfectSquare_metric  TNEE_metric  \\\n0           0                     2                     3            1   \n1           1                     5                     2            2   \n2           0                     2                     2            1   \n3           2                    12                     4            5   \n4           1                     5                     2            2   \n\n   TNE_metric  TNSE_metric  all_activities_count  \\\n0           2            1                     0   \n1           4            2                     1   \n2           2            1                     0   \n3           9            4                     2   \n4           4            2                     1   \n\n   all_control_flow_elements_count  all_events_count  all_gateways_count  \\\n0                                2                 2                   0   \n1                                4                 4                   0   \n2                                2                 2                   0   \n3                               10                 9                   1   \n4                                4                 4                   0   \n\n   scenario  fileid  \n0         0       4  \n1         1      17  \n2         2      23  \n3         3      29  \n4         4      36  ",
      "text/html": "<div>\n<style scoped>\n    .dataframe tbody tr th:only-of-type {\n        vertical-align: middle;\n    }\n\n    .dataframe tbody tr th {\n        vertical-align: top;\n    }\n\n    .dataframe thead th {\n        text-align: right;\n    }\n</style>\n<table border=\"1\" class=\"dataframe\">\n  <thead>\n    <tr style=\"text-align: right;\">\n      <th></th>\n      <th>AverageGatewayDegree_metric</th>\n      <th>CoefficientOfNetworkComplexity_metric</th>\n      <th>DurfeeSquare_metric</th>\n      <th>GatewayHeterogenity_metric</th>\n      <th>NOAC_metric</th>\n      <th>NOAJS_metric</th>\n      <th>NOA_metric</th>\n      <th>NumberOfNodes_metric</th>\n      <th>PerfectSquare_metric</th>\n      <th>TNEE_metric</th>\n      <th>TNE_metric</th>\n      <th>TNSE_metric</th>\n      <th>all_activities_count</th>\n      <th>all_control_flow_elements_count</th>\n      <th>all_events_count</th>\n      <th>all_gateways_count</th>\n      <th>scenario</th>\n      <th>fileid</th>\n    </tr>\n  </thead>\n  <tbody>\n    <tr>\n      <th>0</th>\n      <td>NaN</td>\n      <td>1.000000</td>\n      <td>3</td>\n      <td>0</td>\n      <td>2</td>\n      <td>0</td>\n      <td>0</td>\n      <td>2</td>\n      <td>3</td>\n      <td>1</td>\n      <td>2</td>\n      <td>1</td>\n      <td>0</td>\n      <td>2</td>\n      <td>2</td>\n      <td>0</td>\n      <td>0</td>\n      <td>4</td>\n    </tr>\n    <tr>\n      <th>1</th>\n      <td>NaN</td>\n      <td>0.700000</td>\n      <td>2</td>\n      <td>0</td>\n      <td>5</td>\n      <td>1</td>\n      <td>1</td>\n      <td>5</td>\n      <td>2</td>\n      <td>2</td>\n      <td>4</td>\n      <td>2</td>\n      <td>1</td>\n      <td>4</td>\n      <td>4</td>\n      <td>0</td>\n      <td>1</td>\n      <td>17</td>\n    </tr>\n    <tr>\n      <th>2</th>\n      <td>NaN</td>\n      <td>0.875000</td>\n      <td>2</td>\n      <td>0</td>\n      <td>2</td>\n      <td>0</td>\n      <td>0</td>\n      <td>2</td>\n      <td>2</td>\n      <td>1</td>\n      <td>2</td>\n      <td>1</td>\n      <td>0</td>\n      <td>2</td>\n      <td>2</td>\n      <td>0</td>\n      <td>2</td>\n      <td>23</td>\n    </tr>\n    <tr>\n      <th>3</th>\n      <td>3.0</td>\n      <td>0.769231</td>\n      <td>4</td>\n      <td>1</td>\n      <td>12</td>\n      <td>3</td>\n      <td>2</td>\n      <td>12</td>\n      <td>4</td>\n      <td>5</td>\n      <td>9</td>\n      <td>4</td>\n      <td>2</td>\n      <td>10</td>\n      <td>9</td>\n      <td>1</td>\n      <td>3</td>\n      <td>29</td>\n    </tr>\n    <tr>\n      <th>4</th>\n      <td>NaN</td>\n      <td>0.750000</td>\n      <td>2</td>\n      <td>0</td>\n      <td>5</td>\n      <td>1</td>\n      <td>1</td>\n      <td>5</td>\n      <td>2</td>\n      <td>2</td>\n      <td>4</td>\n      <td>2</td>\n      <td>1</td>\n      <td>4</td>\n      <td>4</td>\n      <td>0</td>\n      <td>4</td>\n      <td>36</td>\n    </tr>\n  </tbody>\n</table>\n</div>"
     },
     "metadata": {},
     "execution_count": 23
    }
   ],
   "source": [
    "threshold = 0.001\n",
    "dfbpmn_complexity = pd.read_csv(prefix+\"qasbpmn_complexity.csv\")\n",
    "dfbpmn_complexity.drop(columns=[\"Unnamed: 0\"], inplace=True)\n",
    "# print(\"Col count: {}\".format(len(dfbpmn_complexity.columns)))\n",
    "dfbpmn_complexity = dfbpmn_complexity.drop(dfbpmn_complexity.std()\\\n",
    "                       [dfbpmn_complexity.std() < threshold].index.values, axis=1)\n",
    "dfbpmn_complexity['scenario'] = dfbpmn_complexity['file'].apply(filepath_to_scenarioid)\n",
    "dfbpmn_complexity['fileid'] = dfbpmn_complexity['file'].apply(filepath_to_fileid)\n",
    "dfbpmn_complexity.drop(columns=[\"file\"], inplace=True)\n",
    "# dfbpmn_complexity.dropna(thresh=3, axis=1, inplace=True)\n",
    "# print(\"Col count: {}\".format(len(dfbpmn_complexity.columns)))\n",
    "dfbpmn_complexity.head()"
   ]
  },
  {
   "cell_type": "code",
   "execution_count": 24,
   "metadata": {},
   "outputs": [
    {
     "output_type": "execute_result",
     "data": {
      "text/plain": "       AverageGatewayDegree_metric  CoefficientOfNetworkComplexity_metric  \\\ncount                   217.000000                             456.000000   \nmean                      3.362681                               0.885157   \nstd                       0.999185                               0.098864   \nmin                       3.000000                               0.250000   \n25%                       3.000000                               0.840000   \n50%                       3.000000                               0.876276   \n75%                       3.166667                               0.909091   \nmax                      11.500000                               1.357143   \n\n       DurfeeSquare_metric  GatewayHeterogenity_metric  NOAC_metric  \\\ncount           456.000000                  456.000000   456.000000   \nmean              2.682018                    0.557018     8.774123   \nstd               1.032326                    0.640257    10.496858   \nmin               1.000000                    0.000000     2.000000   \n25%               2.000000                    0.000000     2.000000   \n50%               2.000000                    0.000000     4.000000   \n75%               3.000000                    1.000000    11.000000   \nmax               6.000000                    2.000000    76.000000   \n\n       NOAJS_metric  NOA_metric  NumberOfNodes_metric  PerfectSquare_metric  \\\ncount    456.000000  456.000000            456.000000            456.000000   \nmean       1.673246    0.532895              8.774123              3.570175   \nstd        2.693220    1.128557             10.496858              1.727448   \nmin        0.000000    0.000000              2.000000              1.000000   \n25%        0.000000    0.000000              2.000000              2.000000   \n50%        1.000000    0.000000              4.000000              3.000000   \n75%        2.000000    1.000000             11.000000              4.000000   \nmax       19.000000   11.000000             76.000000              8.000000   \n\n       TNEE_metric  TNE_metric  TNSE_metric  all_activities_count  \\\ncount   456.000000  456.000000   456.000000            456.000000   \nmean      4.118421    7.100877     2.982456              0.532895   \nstd       4.827487    8.051122     3.390309              1.128557   \nmin       1.000000    2.000000     1.000000              0.000000   \n25%       1.000000    2.000000     1.000000              0.000000   \n50%       2.000000    4.000000     1.000000              0.000000   \n75%       5.000000    9.000000     4.000000              1.000000   \nmax      30.000000   57.000000    27.000000             11.000000   \n\n       all_control_flow_elements_count  all_events_count  all_gateways_count  \\\ncount                       456.000000        456.000000          456.000000   \nmean                          8.241228          7.100877            1.140351   \nstd                           9.608086          8.051122            1.960611   \nmin                           2.000000          2.000000            0.000000   \n25%                           2.000000          2.000000            0.000000   \n50%                           4.000000          4.000000            0.000000   \n75%                          10.000000          9.000000            1.000000   \nmax                          65.000000         57.000000           14.000000   \n\n        scenario       fileid  \ncount  456.00000   456.000000  \nmean   230.91886  2322.131579  \nstd    130.73962  1404.304327  \nmin      0.00000     4.000000  \n25%    120.75000  1149.250000  \n50%    231.50000  2260.500000  \n75%    344.00000  3548.000000  \nmax    455.00000  4800.000000  ",
      "text/html": "<div>\n<style scoped>\n    .dataframe tbody tr th:only-of-type {\n        vertical-align: middle;\n    }\n\n    .dataframe tbody tr th {\n        vertical-align: top;\n    }\n\n    .dataframe thead th {\n        text-align: right;\n    }\n</style>\n<table border=\"1\" class=\"dataframe\">\n  <thead>\n    <tr style=\"text-align: right;\">\n      <th></th>\n      <th>AverageGatewayDegree_metric</th>\n      <th>CoefficientOfNetworkComplexity_metric</th>\n      <th>DurfeeSquare_metric</th>\n      <th>GatewayHeterogenity_metric</th>\n      <th>NOAC_metric</th>\n      <th>NOAJS_metric</th>\n      <th>NOA_metric</th>\n      <th>NumberOfNodes_metric</th>\n      <th>PerfectSquare_metric</th>\n      <th>TNEE_metric</th>\n      <th>TNE_metric</th>\n      <th>TNSE_metric</th>\n      <th>all_activities_count</th>\n      <th>all_control_flow_elements_count</th>\n      <th>all_events_count</th>\n      <th>all_gateways_count</th>\n      <th>scenario</th>\n      <th>fileid</th>\n    </tr>\n  </thead>\n  <tbody>\n    <tr>\n      <th>count</th>\n      <td>217.000000</td>\n      <td>456.000000</td>\n      <td>456.000000</td>\n      <td>456.000000</td>\n      <td>456.000000</td>\n      <td>456.000000</td>\n      <td>456.000000</td>\n      <td>456.000000</td>\n      <td>456.000000</td>\n      <td>456.000000</td>\n      <td>456.000000</td>\n      <td>456.000000</td>\n      <td>456.000000</td>\n      <td>456.000000</td>\n      <td>456.000000</td>\n      <td>456.000000</td>\n      <td>456.00000</td>\n      <td>456.000000</td>\n    </tr>\n    <tr>\n      <th>mean</th>\n      <td>3.362681</td>\n      <td>0.885157</td>\n      <td>2.682018</td>\n      <td>0.557018</td>\n      <td>8.774123</td>\n      <td>1.673246</td>\n      <td>0.532895</td>\n      <td>8.774123</td>\n      <td>3.570175</td>\n      <td>4.118421</td>\n      <td>7.100877</td>\n      <td>2.982456</td>\n      <td>0.532895</td>\n      <td>8.241228</td>\n      <td>7.100877</td>\n      <td>1.140351</td>\n      <td>230.91886</td>\n      <td>2322.131579</td>\n    </tr>\n    <tr>\n      <th>std</th>\n      <td>0.999185</td>\n      <td>0.098864</td>\n      <td>1.032326</td>\n      <td>0.640257</td>\n      <td>10.496858</td>\n      <td>2.693220</td>\n      <td>1.128557</td>\n      <td>10.496858</td>\n      <td>1.727448</td>\n      <td>4.827487</td>\n      <td>8.051122</td>\n      <td>3.390309</td>\n      <td>1.128557</td>\n      <td>9.608086</td>\n      <td>8.051122</td>\n      <td>1.960611</td>\n      <td>130.73962</td>\n      <td>1404.304327</td>\n    </tr>\n    <tr>\n      <th>min</th>\n      <td>3.000000</td>\n      <td>0.250000</td>\n      <td>1.000000</td>\n      <td>0.000000</td>\n      <td>2.000000</td>\n      <td>0.000000</td>\n      <td>0.000000</td>\n      <td>2.000000</td>\n      <td>1.000000</td>\n      <td>1.000000</td>\n      <td>2.000000</td>\n      <td>1.000000</td>\n      <td>0.000000</td>\n      <td>2.000000</td>\n      <td>2.000000</td>\n      <td>0.000000</td>\n      <td>0.00000</td>\n      <td>4.000000</td>\n    </tr>\n    <tr>\n      <th>25%</th>\n      <td>3.000000</td>\n      <td>0.840000</td>\n      <td>2.000000</td>\n      <td>0.000000</td>\n      <td>2.000000</td>\n      <td>0.000000</td>\n      <td>0.000000</td>\n      <td>2.000000</td>\n      <td>2.000000</td>\n      <td>1.000000</td>\n      <td>2.000000</td>\n      <td>1.000000</td>\n      <td>0.000000</td>\n      <td>2.000000</td>\n      <td>2.000000</td>\n      <td>0.000000</td>\n      <td>120.75000</td>\n      <td>1149.250000</td>\n    </tr>\n    <tr>\n      <th>50%</th>\n      <td>3.000000</td>\n      <td>0.876276</td>\n      <td>2.000000</td>\n      <td>0.000000</td>\n      <td>4.000000</td>\n      <td>1.000000</td>\n      <td>0.000000</td>\n      <td>4.000000</td>\n      <td>3.000000</td>\n      <td>2.000000</td>\n      <td>4.000000</td>\n      <td>1.000000</td>\n      <td>0.000000</td>\n      <td>4.000000</td>\n      <td>4.000000</td>\n      <td>0.000000</td>\n      <td>231.50000</td>\n      <td>2260.500000</td>\n    </tr>\n    <tr>\n      <th>75%</th>\n      <td>3.166667</td>\n      <td>0.909091</td>\n      <td>3.000000</td>\n      <td>1.000000</td>\n      <td>11.000000</td>\n      <td>2.000000</td>\n      <td>1.000000</td>\n      <td>11.000000</td>\n      <td>4.000000</td>\n      <td>5.000000</td>\n      <td>9.000000</td>\n      <td>4.000000</td>\n      <td>1.000000</td>\n      <td>10.000000</td>\n      <td>9.000000</td>\n      <td>1.000000</td>\n      <td>344.00000</td>\n      <td>3548.000000</td>\n    </tr>\n    <tr>\n      <th>max</th>\n      <td>11.500000</td>\n      <td>1.357143</td>\n      <td>6.000000</td>\n      <td>2.000000</td>\n      <td>76.000000</td>\n      <td>19.000000</td>\n      <td>11.000000</td>\n      <td>76.000000</td>\n      <td>8.000000</td>\n      <td>30.000000</td>\n      <td>57.000000</td>\n      <td>27.000000</td>\n      <td>11.000000</td>\n      <td>65.000000</td>\n      <td>57.000000</td>\n      <td>14.000000</td>\n      <td>455.00000</td>\n      <td>4800.000000</td>\n    </tr>\n  </tbody>\n</table>\n</div>"
     },
     "metadata": {},
     "execution_count": 24
    }
   ],
   "source": [
    "dfbpmn_complexity.describe()"
   ]
  },
  {
   "cell_type": "code",
   "execution_count": 61,
   "metadata": {},
   "outputs": [],
   "source": [
    "# colmaxlist = []\n",
    "# for col in dfbpmn_complexity.columns:\n",
    "#     colmaxlist.append(dfbpmn_complexity[col].max())\n",
    "    \n",
    "# # print(colmaxdict)\n",
    "# for row in dfbpmn_complexity.iterrows():\n",
    "# #     print(row[1])\n",
    "#     localcomplexity = 0\n",
    "#     for i in range(1,len(row[1][1:-2])):\n",
    "#         localcomplexity += (row[1][i]/colmaxlist[i])\n",
    "# #         print(row[1][i])\n",
    "# #         print(\"max: {}\".format(colmaxlist[i]))\n",
    "# #     print(dfbpmn_complexity)\n",
    "#     localcomplexity = localcomplexity / len(row[1][1:-2])\n",
    "#     print(localcomplexity)\n",
    "# #     break\n",
    "def normalize(df):\n",
    "    result = df.copy()\n",
    "    for feature_name in df.columns:\n",
    "        max_value = df[feature_name].max()\n",
    "        min_value = df[feature_name].min()\n",
    "        result[feature_name] = (df[feature_name] - min_value) / (max_value - min_value)\n",
    "    return result\n",
    "\n",
    "normdfbpmn = normalize(dfbpmn_complexity)\n",
    "# normdfbpmn.describe()\n",
    "\n",
    "def bpmncomplexity(row):\n",
    "#     print(row)\n",
    "    localcomplexity = 0\n",
    "    for i in range(1,len(normdfbpmn.columns[1:-2])):\n",
    "        localcomplexity += row[normdfbpmn.columns[i]]\n",
    "#         print(row[1][i])\n",
    "#         print(\"max: {}\".format(colmaxlist[i]))\n",
    "#     print(dfbpmn_complexity)\n",
    "    localcomplexity = localcomplexity / len(row[1:-2])\n",
    "#     print(localcomplexity)\n",
    "#     normdfbpmn.iloc[row[0]]['complexity'] = localcomplexity\n",
    "    return localcomplexity\n",
    "#     break"
   ]
  },
  {
   "cell_type": "code",
   "execution_count": 62,
   "metadata": {},
   "outputs": [],
   "source": [
    "normdfbpmn['complexity'] = normdfbpmn.apply(lambda x: bpmncomplexity(x), axis=1)"
   ]
  },
  {
   "cell_type": "code",
   "execution_count": 63,
   "metadata": {},
   "outputs": [
    {
     "output_type": "display_data",
     "data": {
      "text/plain": "<Figure size 432x288 with 1 Axes>",
      "image/svg+xml": "<?xml version=\"1.0\" encoding=\"utf-8\" standalone=\"no\"?>\n<!DOCTYPE svg PUBLIC \"-//W3C//DTD SVG 1.1//EN\"\n  \"http://www.w3.org/Graphics/SVG/1.1/DTD/svg11.dtd\">\n<!-- Created with matplotlib (https://matplotlib.org/) -->\n<svg height=\"249.473939pt\" version=\"1.1\" viewBox=\"0 0 375.2875 249.473939\" width=\"375.2875pt\" xmlns=\"http://www.w3.org/2000/svg\" xmlns:xlink=\"http://www.w3.org/1999/xlink\">\n <defs>\n  <style type=\"text/css\">\n*{stroke-linecap:butt;stroke-linejoin:round;}\n  </style>\n </defs>\n <g id=\"figure_1\">\n  <g id=\"patch_1\">\n   <path d=\"M 0 249.473939 \nL 375.2875 249.473939 \nL 375.2875 0 \nL 0 0 \nz\n\" style=\"fill:none;\"/>\n  </g>\n  <g id=\"axes_1\">\n   <g id=\"patch_2\">\n    <path d=\"M 33.2875 225.595814 \nL 368.0875 225.595814 \nL 368.0875 8.155814 \nL 33.2875 8.155814 \nz\n\" style=\"fill:#ffffff;\"/>\n   </g>\n   <g id=\"patch_3\">\n    <path clip-path=\"url(#pa4914ce490)\" d=\"M 48.505682 225.595814 \nL 78.942045 225.595814 \nL 78.942045 18.5101 \nL 48.505682 18.5101 \nz\n\" style=\"fill:#1f77b4;\"/>\n   </g>\n   <g id=\"patch_4\">\n    <path clip-path=\"url(#pa4914ce490)\" d=\"M 78.942045 225.595814 \nL 109.378409 225.595814 \nL 109.378409 131.173312 \nL 78.942045 131.173312 \nz\n\" style=\"fill:#1f77b4;\"/>\n   </g>\n   <g id=\"patch_5\">\n    <path clip-path=\"url(#pa4914ce490)\" d=\"M 109.378409 225.595814 \nL 139.814773 225.595814 \nL 139.814773 114.005584 \nL 109.378409 114.005584 \nz\n\" style=\"fill:#1f77b4;\"/>\n   </g>\n   <g id=\"patch_6\">\n    <path clip-path=\"url(#pa4914ce490)\" d=\"M 139.814773 225.595814 \nL 170.251136 225.595814 \nL 170.251136 193.406325 \nL 139.814773 193.406325 \nz\n\" style=\"fill:#1f77b4;\"/>\n   </g>\n   <g id=\"patch_7\">\n    <path clip-path=\"url(#pa4914ce490)\" d=\"M 170.251136 225.595814 \nL 200.6875 225.595814 \nL 200.6875 205.209137 \nL 170.251136 205.209137 \nz\n\" style=\"fill:#1f77b4;\"/>\n   </g>\n   <g id=\"patch_8\">\n    <path clip-path=\"url(#pa4914ce490)\" d=\"M 200.6875 225.595814 \nL 231.123864 225.595814 \nL 231.123864 213.793001 \nL 200.6875 213.793001 \nz\n\" style=\"fill:#1f77b4;\"/>\n   </g>\n   <g id=\"patch_9\">\n    <path clip-path=\"url(#pa4914ce490)\" d=\"M 231.123864 225.595814 \nL 261.560227 225.595814 \nL 261.560227 221.303882 \nL 231.123864 221.303882 \nz\n\" style=\"fill:#1f77b4;\"/>\n   </g>\n   <g id=\"patch_10\">\n    <path clip-path=\"url(#pa4914ce490)\" d=\"M 261.560227 225.595814 \nL 291.996591 225.595814 \nL 291.996591 222.376865 \nL 261.560227 222.376865 \nz\n\" style=\"fill:#1f77b4;\"/>\n   </g>\n   <g id=\"patch_11\">\n    <path clip-path=\"url(#pa4914ce490)\" d=\"M 291.996591 225.595814 \nL 322.432955 225.595814 \nL 322.432955 222.376865 \nL 291.996591 222.376865 \nz\n\" style=\"fill:#1f77b4;\"/>\n   </g>\n   <g id=\"patch_12\">\n    <path clip-path=\"url(#pa4914ce490)\" d=\"M 322.432955 225.595814 \nL 352.869318 225.595814 \nL 352.869318 224.522831 \nL 322.432955 224.522831 \nz\n\" style=\"fill:#1f77b4;\"/>\n   </g>\n   <g id=\"matplotlib.axis_1\">\n    <g id=\"xtick_1\">\n     <g id=\"line2d_1\">\n      <path clip-path=\"url(#pa4914ce490)\" d=\"M 48.505682 225.595814 \nL 48.505682 8.155814 \n\" style=\"fill:none;stroke:#b0b0b0;stroke-linecap:square;stroke-width:0.8;\"/>\n     </g>\n     <g id=\"line2d_2\">\n      <defs>\n       <path d=\"M 0 0 \nL 0 3.5 \n\" id=\"md051eac96d\" style=\"stroke:#000000;stroke-width:0.8;\"/>\n      </defs>\n      <g>\n       <use style=\"stroke:#000000;stroke-width:0.8;\" x=\"48.505682\" xlink:href=\"#md051eac96d\" y=\"225.595814\"/>\n      </g>\n     </g>\n     <g id=\"text_1\">\n      <!-- 0.0 -->\n      <defs>\n       <path d=\"M 31.78125 66.40625 \nQ 24.171875 66.40625 20.328125 58.90625 \nQ 16.5 51.421875 16.5 36.375 \nQ 16.5 21.390625 20.328125 13.890625 \nQ 24.171875 6.390625 31.78125 6.390625 \nQ 39.453125 6.390625 43.28125 13.890625 \nQ 47.125 21.390625 47.125 36.375 \nQ 47.125 51.421875 43.28125 58.90625 \nQ 39.453125 66.40625 31.78125 66.40625 \nz\nM 31.78125 74.21875 \nQ 44.046875 74.21875 50.515625 64.515625 \nQ 56.984375 54.828125 56.984375 36.375 \nQ 56.984375 17.96875 50.515625 8.265625 \nQ 44.046875 -1.421875 31.78125 -1.421875 \nQ 19.53125 -1.421875 13.0625 8.265625 \nQ 6.59375 17.96875 6.59375 36.375 \nQ 6.59375 54.828125 13.0625 64.515625 \nQ 19.53125 74.21875 31.78125 74.21875 \nz\n\" id=\"DejaVuSans-48\"/>\n       <path d=\"M 10.6875 12.40625 \nL 21 12.40625 \nL 21 0 \nL 10.6875 0 \nz\n\" id=\"DejaVuSans-46\"/>\n      </defs>\n      <g transform=\"translate(40.554119 240.194251)scale(0.1 -0.1)\">\n       <use xlink:href=\"#DejaVuSans-48\"/>\n       <use x=\"63.623047\" xlink:href=\"#DejaVuSans-46\"/>\n       <use x=\"95.410156\" xlink:href=\"#DejaVuSans-48\"/>\n      </g>\n     </g>\n    </g>\n    <g id=\"xtick_2\">\n     <g id=\"line2d_3\">\n      <path clip-path=\"url(#pa4914ce490)\" d=\"M 119.04601 225.595814 \nL 119.04601 8.155814 \n\" style=\"fill:none;stroke:#b0b0b0;stroke-linecap:square;stroke-width:0.8;\"/>\n     </g>\n     <g id=\"line2d_4\">\n      <g>\n       <use style=\"stroke:#000000;stroke-width:0.8;\" x=\"119.04601\" xlink:href=\"#md051eac96d\" y=\"225.595814\"/>\n      </g>\n     </g>\n     <g id=\"text_2\">\n      <!-- 0.2 -->\n      <defs>\n       <path d=\"M 19.1875 8.296875 \nL 53.609375 8.296875 \nL 53.609375 0 \nL 7.328125 0 \nL 7.328125 8.296875 \nQ 12.9375 14.109375 22.625 23.890625 \nQ 32.328125 33.6875 34.8125 36.53125 \nQ 39.546875 41.84375 41.421875 45.53125 \nQ 43.3125 49.21875 43.3125 52.78125 \nQ 43.3125 58.59375 39.234375 62.25 \nQ 35.15625 65.921875 28.609375 65.921875 \nQ 23.96875 65.921875 18.8125 64.3125 \nQ 13.671875 62.703125 7.8125 59.421875 \nL 7.8125 69.390625 \nQ 13.765625 71.78125 18.9375 73 \nQ 24.125 74.21875 28.421875 74.21875 \nQ 39.75 74.21875 46.484375 68.546875 \nQ 53.21875 62.890625 53.21875 53.421875 \nQ 53.21875 48.921875 51.53125 44.890625 \nQ 49.859375 40.875 45.40625 35.40625 \nQ 44.1875 33.984375 37.640625 27.21875 \nQ 31.109375 20.453125 19.1875 8.296875 \nz\n\" id=\"DejaVuSans-50\"/>\n      </defs>\n      <g transform=\"translate(111.094447 240.194251)scale(0.1 -0.1)\">\n       <use xlink:href=\"#DejaVuSans-48\"/>\n       <use x=\"63.623047\" xlink:href=\"#DejaVuSans-46\"/>\n       <use x=\"95.410156\" xlink:href=\"#DejaVuSans-50\"/>\n      </g>\n     </g>\n    </g>\n    <g id=\"xtick_3\">\n     <g id=\"line2d_5\">\n      <path clip-path=\"url(#pa4914ce490)\" d=\"M 189.586338 225.595814 \nL 189.586338 8.155814 \n\" style=\"fill:none;stroke:#b0b0b0;stroke-linecap:square;stroke-width:0.8;\"/>\n     </g>\n     <g id=\"line2d_6\">\n      <g>\n       <use style=\"stroke:#000000;stroke-width:0.8;\" x=\"189.586338\" xlink:href=\"#md051eac96d\" y=\"225.595814\"/>\n      </g>\n     </g>\n     <g id=\"text_3\">\n      <!-- 0.4 -->\n      <defs>\n       <path d=\"M 37.796875 64.3125 \nL 12.890625 25.390625 \nL 37.796875 25.390625 \nz\nM 35.203125 72.90625 \nL 47.609375 72.90625 \nL 47.609375 25.390625 \nL 58.015625 25.390625 \nL 58.015625 17.1875 \nL 47.609375 17.1875 \nL 47.609375 0 \nL 37.796875 0 \nL 37.796875 17.1875 \nL 4.890625 17.1875 \nL 4.890625 26.703125 \nz\n\" id=\"DejaVuSans-52\"/>\n      </defs>\n      <g transform=\"translate(181.634775 240.194251)scale(0.1 -0.1)\">\n       <use xlink:href=\"#DejaVuSans-48\"/>\n       <use x=\"63.623047\" xlink:href=\"#DejaVuSans-46\"/>\n       <use x=\"95.410156\" xlink:href=\"#DejaVuSans-52\"/>\n      </g>\n     </g>\n    </g>\n    <g id=\"xtick_4\">\n     <g id=\"line2d_7\">\n      <path clip-path=\"url(#pa4914ce490)\" d=\"M 260.126666 225.595814 \nL 260.126666 8.155814 \n\" style=\"fill:none;stroke:#b0b0b0;stroke-linecap:square;stroke-width:0.8;\"/>\n     </g>\n     <g id=\"line2d_8\">\n      <g>\n       <use style=\"stroke:#000000;stroke-width:0.8;\" x=\"260.126666\" xlink:href=\"#md051eac96d\" y=\"225.595814\"/>\n      </g>\n     </g>\n     <g id=\"text_4\">\n      <!-- 0.6 -->\n      <defs>\n       <path d=\"M 33.015625 40.375 \nQ 26.375 40.375 22.484375 35.828125 \nQ 18.609375 31.296875 18.609375 23.390625 \nQ 18.609375 15.53125 22.484375 10.953125 \nQ 26.375 6.390625 33.015625 6.390625 \nQ 39.65625 6.390625 43.53125 10.953125 \nQ 47.40625 15.53125 47.40625 23.390625 \nQ 47.40625 31.296875 43.53125 35.828125 \nQ 39.65625 40.375 33.015625 40.375 \nz\nM 52.59375 71.296875 \nL 52.59375 62.3125 \nQ 48.875 64.0625 45.09375 64.984375 \nQ 41.3125 65.921875 37.59375 65.921875 \nQ 27.828125 65.921875 22.671875 59.328125 \nQ 17.53125 52.734375 16.796875 39.40625 \nQ 19.671875 43.65625 24.015625 45.921875 \nQ 28.375 48.1875 33.59375 48.1875 \nQ 44.578125 48.1875 50.953125 41.515625 \nQ 57.328125 34.859375 57.328125 23.390625 \nQ 57.328125 12.15625 50.6875 5.359375 \nQ 44.046875 -1.421875 33.015625 -1.421875 \nQ 20.359375 -1.421875 13.671875 8.265625 \nQ 6.984375 17.96875 6.984375 36.375 \nQ 6.984375 53.65625 15.1875 63.9375 \nQ 23.390625 74.21875 37.203125 74.21875 \nQ 40.921875 74.21875 44.703125 73.484375 \nQ 48.484375 72.75 52.59375 71.296875 \nz\n\" id=\"DejaVuSans-54\"/>\n      </defs>\n      <g transform=\"translate(252.175103 240.194251)scale(0.1 -0.1)\">\n       <use xlink:href=\"#DejaVuSans-48\"/>\n       <use x=\"63.623047\" xlink:href=\"#DejaVuSans-46\"/>\n       <use x=\"95.410156\" xlink:href=\"#DejaVuSans-54\"/>\n      </g>\n     </g>\n    </g>\n    <g id=\"xtick_5\">\n     <g id=\"line2d_9\">\n      <path clip-path=\"url(#pa4914ce490)\" d=\"M 330.666994 225.595814 \nL 330.666994 8.155814 \n\" style=\"fill:none;stroke:#b0b0b0;stroke-linecap:square;stroke-width:0.8;\"/>\n     </g>\n     <g id=\"line2d_10\">\n      <g>\n       <use style=\"stroke:#000000;stroke-width:0.8;\" x=\"330.666994\" xlink:href=\"#md051eac96d\" y=\"225.595814\"/>\n      </g>\n     </g>\n     <g id=\"text_5\">\n      <!-- 0.8 -->\n      <defs>\n       <path d=\"M 31.78125 34.625 \nQ 24.75 34.625 20.71875 30.859375 \nQ 16.703125 27.09375 16.703125 20.515625 \nQ 16.703125 13.921875 20.71875 10.15625 \nQ 24.75 6.390625 31.78125 6.390625 \nQ 38.8125 6.390625 42.859375 10.171875 \nQ 46.921875 13.96875 46.921875 20.515625 \nQ 46.921875 27.09375 42.890625 30.859375 \nQ 38.875 34.625 31.78125 34.625 \nz\nM 21.921875 38.8125 \nQ 15.578125 40.375 12.03125 44.71875 \nQ 8.5 49.078125 8.5 55.328125 \nQ 8.5 64.0625 14.71875 69.140625 \nQ 20.953125 74.21875 31.78125 74.21875 \nQ 42.671875 74.21875 48.875 69.140625 \nQ 55.078125 64.0625 55.078125 55.328125 \nQ 55.078125 49.078125 51.53125 44.71875 \nQ 48 40.375 41.703125 38.8125 \nQ 48.828125 37.15625 52.796875 32.3125 \nQ 56.78125 27.484375 56.78125 20.515625 \nQ 56.78125 9.90625 50.3125 4.234375 \nQ 43.84375 -1.421875 31.78125 -1.421875 \nQ 19.734375 -1.421875 13.25 4.234375 \nQ 6.78125 9.90625 6.78125 20.515625 \nQ 6.78125 27.484375 10.78125 32.3125 \nQ 14.796875 37.15625 21.921875 38.8125 \nz\nM 18.3125 54.390625 \nQ 18.3125 48.734375 21.84375 45.5625 \nQ 25.390625 42.390625 31.78125 42.390625 \nQ 38.140625 42.390625 41.71875 45.5625 \nQ 45.3125 48.734375 45.3125 54.390625 \nQ 45.3125 60.0625 41.71875 63.234375 \nQ 38.140625 66.40625 31.78125 66.40625 \nQ 25.390625 66.40625 21.84375 63.234375 \nQ 18.3125 60.0625 18.3125 54.390625 \nz\n\" id=\"DejaVuSans-56\"/>\n      </defs>\n      <g transform=\"translate(322.715431 240.194251)scale(0.1 -0.1)\">\n       <use xlink:href=\"#DejaVuSans-48\"/>\n       <use x=\"63.623047\" xlink:href=\"#DejaVuSans-46\"/>\n       <use x=\"95.410156\" xlink:href=\"#DejaVuSans-56\"/>\n      </g>\n     </g>\n    </g>\n   </g>\n   <g id=\"matplotlib.axis_2\">\n    <g id=\"ytick_1\">\n     <g id=\"line2d_11\">\n      <path clip-path=\"url(#pa4914ce490)\" d=\"M 33.2875 225.595814 \nL 368.0875 225.595814 \n\" style=\"fill:none;stroke:#b0b0b0;stroke-linecap:square;stroke-width:0.8;\"/>\n     </g>\n     <g id=\"line2d_12\">\n      <defs>\n       <path d=\"M 0 0 \nL -3.5 0 \n\" id=\"m950e2b739d\" style=\"stroke:#000000;stroke-width:0.8;\"/>\n      </defs>\n      <g>\n       <use style=\"stroke:#000000;stroke-width:0.8;\" x=\"33.2875\" xlink:href=\"#m950e2b739d\" y=\"225.595814\"/>\n      </g>\n     </g>\n     <g id=\"text_6\">\n      <!-- 0 -->\n      <g transform=\"translate(19.925 229.395033)scale(0.1 -0.1)\">\n       <use xlink:href=\"#DejaVuSans-48\"/>\n      </g>\n     </g>\n    </g>\n    <g id=\"ytick_2\">\n     <g id=\"line2d_13\">\n      <path clip-path=\"url(#pa4914ce490)\" d=\"M 33.2875 198.771239 \nL 368.0875 198.771239 \n\" style=\"fill:none;stroke:#b0b0b0;stroke-linecap:square;stroke-width:0.8;\"/>\n     </g>\n     <g id=\"line2d_14\">\n      <g>\n       <use style=\"stroke:#000000;stroke-width:0.8;\" x=\"33.2875\" xlink:href=\"#m950e2b739d\" y=\"198.771239\"/>\n      </g>\n     </g>\n     <g id=\"text_7\">\n      <!-- 25 -->\n      <defs>\n       <path d=\"M 10.796875 72.90625 \nL 49.515625 72.90625 \nL 49.515625 64.59375 \nL 19.828125 64.59375 \nL 19.828125 46.734375 \nQ 21.96875 47.46875 24.109375 47.828125 \nQ 26.265625 48.1875 28.421875 48.1875 \nQ 40.625 48.1875 47.75 41.5 \nQ 54.890625 34.8125 54.890625 23.390625 \nQ 54.890625 11.625 47.5625 5.09375 \nQ 40.234375 -1.421875 26.90625 -1.421875 \nQ 22.3125 -1.421875 17.546875 -0.640625 \nQ 12.796875 0.140625 7.71875 1.703125 \nL 7.71875 11.625 \nQ 12.109375 9.234375 16.796875 8.0625 \nQ 21.484375 6.890625 26.703125 6.890625 \nQ 35.15625 6.890625 40.078125 11.328125 \nQ 45.015625 15.765625 45.015625 23.390625 \nQ 45.015625 31 40.078125 35.4375 \nQ 35.15625 39.890625 26.703125 39.890625 \nQ 22.75 39.890625 18.8125 39.015625 \nQ 14.890625 38.140625 10.796875 36.28125 \nz\n\" id=\"DejaVuSans-53\"/>\n      </defs>\n      <g transform=\"translate(13.5625 202.570458)scale(0.1 -0.1)\">\n       <use xlink:href=\"#DejaVuSans-50\"/>\n       <use x=\"63.623047\" xlink:href=\"#DejaVuSans-53\"/>\n      </g>\n     </g>\n    </g>\n    <g id=\"ytick_3\">\n     <g id=\"line2d_15\">\n      <path clip-path=\"url(#pa4914ce490)\" d=\"M 33.2875 171.946665 \nL 368.0875 171.946665 \n\" style=\"fill:none;stroke:#b0b0b0;stroke-linecap:square;stroke-width:0.8;\"/>\n     </g>\n     <g id=\"line2d_16\">\n      <g>\n       <use style=\"stroke:#000000;stroke-width:0.8;\" x=\"33.2875\" xlink:href=\"#m950e2b739d\" y=\"171.946665\"/>\n      </g>\n     </g>\n     <g id=\"text_8\">\n      <!-- 50 -->\n      <g transform=\"translate(13.5625 175.745884)scale(0.1 -0.1)\">\n       <use xlink:href=\"#DejaVuSans-53\"/>\n       <use x=\"63.623047\" xlink:href=\"#DejaVuSans-48\"/>\n      </g>\n     </g>\n    </g>\n    <g id=\"ytick_4\">\n     <g id=\"line2d_17\">\n      <path clip-path=\"url(#pa4914ce490)\" d=\"M 33.2875 145.122091 \nL 368.0875 145.122091 \n\" style=\"fill:none;stroke:#b0b0b0;stroke-linecap:square;stroke-width:0.8;\"/>\n     </g>\n     <g id=\"line2d_18\">\n      <g>\n       <use style=\"stroke:#000000;stroke-width:0.8;\" x=\"33.2875\" xlink:href=\"#m950e2b739d\" y=\"145.122091\"/>\n      </g>\n     </g>\n     <g id=\"text_9\">\n      <!-- 75 -->\n      <defs>\n       <path d=\"M 8.203125 72.90625 \nL 55.078125 72.90625 \nL 55.078125 68.703125 \nL 28.609375 0 \nL 18.3125 0 \nL 43.21875 64.59375 \nL 8.203125 64.59375 \nz\n\" id=\"DejaVuSans-55\"/>\n      </defs>\n      <g transform=\"translate(13.5625 148.921309)scale(0.1 -0.1)\">\n       <use xlink:href=\"#DejaVuSans-55\"/>\n       <use x=\"63.623047\" xlink:href=\"#DejaVuSans-53\"/>\n      </g>\n     </g>\n    </g>\n    <g id=\"ytick_5\">\n     <g id=\"line2d_19\">\n      <path clip-path=\"url(#pa4914ce490)\" d=\"M 33.2875 118.297516 \nL 368.0875 118.297516 \n\" style=\"fill:none;stroke:#b0b0b0;stroke-linecap:square;stroke-width:0.8;\"/>\n     </g>\n     <g id=\"line2d_20\">\n      <g>\n       <use style=\"stroke:#000000;stroke-width:0.8;\" x=\"33.2875\" xlink:href=\"#m950e2b739d\" y=\"118.297516\"/>\n      </g>\n     </g>\n     <g id=\"text_10\">\n      <!-- 100 -->\n      <defs>\n       <path d=\"M 12.40625 8.296875 \nL 28.515625 8.296875 \nL 28.515625 63.921875 \nL 10.984375 60.40625 \nL 10.984375 69.390625 \nL 28.421875 72.90625 \nL 38.28125 72.90625 \nL 38.28125 8.296875 \nL 54.390625 8.296875 \nL 54.390625 0 \nL 12.40625 0 \nz\n\" id=\"DejaVuSans-49\"/>\n      </defs>\n      <g transform=\"translate(7.2 122.096735)scale(0.1 -0.1)\">\n       <use xlink:href=\"#DejaVuSans-49\"/>\n       <use x=\"63.623047\" xlink:href=\"#DejaVuSans-48\"/>\n       <use x=\"127.246094\" xlink:href=\"#DejaVuSans-48\"/>\n      </g>\n     </g>\n    </g>\n    <g id=\"ytick_6\">\n     <g id=\"line2d_21\">\n      <path clip-path=\"url(#pa4914ce490)\" d=\"M 33.2875 91.472942 \nL 368.0875 91.472942 \n\" style=\"fill:none;stroke:#b0b0b0;stroke-linecap:square;stroke-width:0.8;\"/>\n     </g>\n     <g id=\"line2d_22\">\n      <g>\n       <use style=\"stroke:#000000;stroke-width:0.8;\" x=\"33.2875\" xlink:href=\"#m950e2b739d\" y=\"91.472942\"/>\n      </g>\n     </g>\n     <g id=\"text_11\">\n      <!-- 125 -->\n      <g transform=\"translate(7.2 95.272161)scale(0.1 -0.1)\">\n       <use xlink:href=\"#DejaVuSans-49\"/>\n       <use x=\"63.623047\" xlink:href=\"#DejaVuSans-50\"/>\n       <use x=\"127.246094\" xlink:href=\"#DejaVuSans-53\"/>\n      </g>\n     </g>\n    </g>\n    <g id=\"ytick_7\">\n     <g id=\"line2d_23\">\n      <path clip-path=\"url(#pa4914ce490)\" d=\"M 33.2875 64.648368 \nL 368.0875 64.648368 \n\" style=\"fill:none;stroke:#b0b0b0;stroke-linecap:square;stroke-width:0.8;\"/>\n     </g>\n     <g id=\"line2d_24\">\n      <g>\n       <use style=\"stroke:#000000;stroke-width:0.8;\" x=\"33.2875\" xlink:href=\"#m950e2b739d\" y=\"64.648368\"/>\n      </g>\n     </g>\n     <g id=\"text_12\">\n      <!-- 150 -->\n      <g transform=\"translate(7.2 68.447586)scale(0.1 -0.1)\">\n       <use xlink:href=\"#DejaVuSans-49\"/>\n       <use x=\"63.623047\" xlink:href=\"#DejaVuSans-53\"/>\n       <use x=\"127.246094\" xlink:href=\"#DejaVuSans-48\"/>\n      </g>\n     </g>\n    </g>\n    <g id=\"ytick_8\">\n     <g id=\"line2d_25\">\n      <path clip-path=\"url(#pa4914ce490)\" d=\"M 33.2875 37.823793 \nL 368.0875 37.823793 \n\" style=\"fill:none;stroke:#b0b0b0;stroke-linecap:square;stroke-width:0.8;\"/>\n     </g>\n     <g id=\"line2d_26\">\n      <g>\n       <use style=\"stroke:#000000;stroke-width:0.8;\" x=\"33.2875\" xlink:href=\"#m950e2b739d\" y=\"37.823793\"/>\n      </g>\n     </g>\n     <g id=\"text_13\">\n      <!-- 175 -->\n      <g transform=\"translate(7.2 41.623012)scale(0.1 -0.1)\">\n       <use xlink:href=\"#DejaVuSans-49\"/>\n       <use x=\"63.623047\" xlink:href=\"#DejaVuSans-55\"/>\n       <use x=\"127.246094\" xlink:href=\"#DejaVuSans-53\"/>\n      </g>\n     </g>\n    </g>\n    <g id=\"ytick_9\">\n     <g id=\"line2d_27\">\n      <path clip-path=\"url(#pa4914ce490)\" d=\"M 33.2875 10.999219 \nL 368.0875 10.999219 \n\" style=\"fill:none;stroke:#b0b0b0;stroke-linecap:square;stroke-width:0.8;\"/>\n     </g>\n     <g id=\"line2d_28\">\n      <g>\n       <use style=\"stroke:#000000;stroke-width:0.8;\" x=\"33.2875\" xlink:href=\"#m950e2b739d\" y=\"10.999219\"/>\n      </g>\n     </g>\n     <g id=\"text_14\">\n      <!-- 200 -->\n      <g transform=\"translate(7.2 14.798437)scale(0.1 -0.1)\">\n       <use xlink:href=\"#DejaVuSans-50\"/>\n       <use x=\"63.623047\" xlink:href=\"#DejaVuSans-48\"/>\n       <use x=\"127.246094\" xlink:href=\"#DejaVuSans-48\"/>\n      </g>\n     </g>\n    </g>\n   </g>\n   <g id=\"patch_13\">\n    <path d=\"M 33.2875 225.595814 \nL 33.2875 8.155814 \n\" style=\"fill:none;stroke:#000000;stroke-linecap:square;stroke-linejoin:miter;stroke-width:0.8;\"/>\n   </g>\n   <g id=\"patch_14\">\n    <path d=\"M 368.0875 225.595814 \nL 368.0875 8.155814 \n\" style=\"fill:none;stroke:#000000;stroke-linecap:square;stroke-linejoin:miter;stroke-width:0.8;\"/>\n   </g>\n   <g id=\"patch_15\">\n    <path d=\"M 33.2875 225.595814 \nL 368.0875 225.595814 \n\" style=\"fill:none;stroke:#000000;stroke-linecap:square;stroke-linejoin:miter;stroke-width:0.8;\"/>\n   </g>\n   <g id=\"patch_16\">\n    <path d=\"M 33.2875 8.155814 \nL 368.0875 8.155814 \n\" style=\"fill:none;stroke:#000000;stroke-linecap:square;stroke-linejoin:miter;stroke-width:0.8;\"/>\n   </g>\n  </g>\n </g>\n <defs>\n  <clipPath id=\"pa4914ce490\">\n   <rect height=\"217.44\" width=\"334.8\" x=\"33.2875\" y=\"8.155814\"/>\n  </clipPath>\n </defs>\n</svg>\n",
      "image/png": "[encoded data removed]"
     },
     "metadata": {
      "needs_background": "light"
     }
    }
   ],
   "source": [
    "normdfbpmnhistfig = normdfbpmn['complexity'].hist()\n",
    "normdfbpmnfig = normdfbpmnhistfig.get_figure()\n",
    "normdfbpmnfig.savefig(\"./normdfbpmnhistfig.png\")"
   ]
  },
  {
   "cell_type": "code",
   "execution_count": 64,
   "metadata": {},
   "outputs": [
    {
     "output_type": "display_data",
     "data": {
      "application/vnd.plotly.v1+json": {
       "config": {
        "plotlyServerURL": "https://plot.ly"
       },
       "data": [
        {
         "alignmentgroup": "True",
         "bingroup": "x",
         "hoverlabel": {
          "namelength": 0
         },
         "hovertemplate": "complexity=%{x}<br>count of fileid=%{y}",
         "legendgroup": "",
         "marker": {
          "color": "#636efa"
         },
         "name": "",
         "nbinsx": 10,
         "offsetgroup": "",
         "orientation": "v",
         "showlegend": false,
         "type": "histogram",
         "x": [
          0.09087557603686637,
          0.08281714661083553,
          0.060491551459293386,
          0.22828004406600505,
          0.08582789929900755,
          0.07152073732718893,
          0.12019551947307931,
          0.059416282642089084,
          0.08686123911930362,
          0.11009606224289208,
          0.059416282642089084,
          0.19355627196620112,
          0.11009606224289208,
          0.057982590885816684,
          0.15651235454876927,
          0.11009606224289208,
          0.07252432155657962,
          0.3009862391094244,
          0.20093852325434328,
          0.45410069205865705,
          0.1824072911737568,
          0.06199692780337941,
          0.060491551459293386,
          0.11530363716184215,
          0.2137827591349048,
          0.2013748642236436,
          0.2257628936956845,
          0.8629493087557604,
          0.059416282642089084,
          0.21833956163913423,
          0.2323973443462934,
          0.22380919700514573,
          0.06132787165045229,
          0.059416282642089084,
          0.14199573797021253,
          0.08582789929900755,
          0.10777675544141205,
          0.11935335088897527,
          0.328135181386162,
          0.28010244980458243,
          0.1947953525940763,
          0.11530363716184215,
          0.060491551459293386,
          0.2004625149241975,
          0.060491551459293386,
          0.6641707323096689,
          0.22413369851810222,
          0.059416282642089084,
          0.13099503596781273,
          0.06132787165045229,
          0.059416282642089084,
          0.03010752688172043,
          0.059416282642089084,
          0.060491551459293386,
          0.23676968170836485,
          0.40878419133694177,
          0.06132787165045229,
          0.4652876887710914,
          0.07291031549096066,
          0.057982590885816684,
          0.20177629791539983,
          0.22014585915762658,
          0.2256656988370588,
          0.1483031268582465,
          0.3545424617094894,
          0.11009606224289208,
          0.06132787165045229,
          0.12175463290737572,
          0.20251772027188125,
          0.06132787165045229,
          0.36233698490123756,
          0.050814132104454686,
          0.06132787165045229,
          0.1947953525940763,
          0.06199692780337941,
          0.06132787165045229,
          0.11009606224289208,
          0.3195217316369474,
          0.059416282642089084,
          0.29523037265206925,
          0.4057674375396392,
          0.2080312902349083,
          0.22413369851810222,
          0.11530363716184215,
          0.059416282642089084,
          0.057982590885816684,
          0.11009606224289208,
          0.22248011440252333,
          0.22344660823087142,
          0.13099503596781273,
          0.12431438215642888,
          0.033118279569892474,
          0.11009606224289208,
          0.22633011745475884,
          0.059416282642089084,
          0.059416282642089084,
          0.1161961714915289,
          0.11009606224289208,
          0.2820197557437257,
          0.22413369851810222,
          0.06132787165045229,
          0.08281714661083553,
          0.4360791774176062,
          0.07152073732718893,
          0.5748092987530813,
          0.06132787165045229,
          0.1429448070499531,
          0.17507372330626236,
          0.32009161205227005,
          0.11997195039464227,
          0.060491551459293386,
          0.36923164065837205,
          0.2268577128550198,
          0.2013748642236436,
          0.06132787165045229,
          0.06132787165045229,
          0.20177629791539983,
          0.10326062640915398,
          0.06132787165045229,
          0.059416282642089084,
          0.06132787165045229,
          0.20177629791539983,
          0.057982590885816684,
          0.18628854605670947,
          0.19112376651923516,
          0.057982590885816684,
          0.36780017834991197,
          0.07352790578597031,
          0.2773124515856206,
          0.22310094682906584,
          0.08849043429688593,
          0.1476845895427945,
          0.07152073732718893,
          0.22373545080802656,
          0.46868954244392086,
          0.2004625149241975,
          0.059416282642089084,
          0.060491551459293386,
          0.07252432155657962,
          0.6969924704012613,
          0.1983204774385415,
          0.16534011955474398,
          0.07152073732718893,
          0.06132787165045229,
          0.06132787165045229,
          0.18168254314088864,
          0.4267642145019447,
          0.1947953525940763,
          0.20177629791539983,
          0.2412247893027706,
          0.292164643060203,
          0.07352790578597031,
          0.12019551947307931,
          0.10777675544141205,
          0.03010752688172043,
          0.057982590885816684,
          0.025089605734767022,
          0.08445937534983844,
          0.060491551459293386,
          0.057982590885816684,
          0.059416282642089084,
          0.04715821812596006,
          0.11009606224289208,
          0.07324116743471581,
          0.3487312562240259,
          0.060491551459293386,
          0.06132787165045229,
          0.060491551459293386,
          0.059416282642089084,
          0.29723715693803693,
          0.07252432155657962,
          0.07352790578597031,
          0.37782947335198375,
          0.23969164443919672,
          0.060491551459293386,
          0.44723609085531685,
          0.08256016385048642,
          0.07830101757857745,
          0.24020079797750135,
          0.337935080752246,
          0.06132787165045229,
          0.7356228329848538,
          0.20177629791539983,
          0.06132787165045229,
          0.07252432155657962,
          0.06199692780337941,
          0.3384412865309769,
          0.08445937534983844,
          0.060491551459293386,
          0.06199692780337941,
          0.20177629791539983,
          0.31465736746564055,
          0.14961571781430102,
          0.07252432155657962,
          0.059416282642089084,
          0.20093852325434328,
          0,
          0.059416282642089084,
          0.2414748228108102,
          0.1573413086544636,
          0.23655990085473136,
          0.060491551459293386,
          0.2013748642236436,
          0.1744317117304647,
          0.07206814690685658,
          0.52101915228122,
          0.16285078126071043,
          0.19379176836468562,
          0.13099503596781273,
          0.30850697133896793,
          0.2298223231744688,
          0.20177629791539983,
          0.22450448086886238,
          0.06132787165045229,
          0.28095291400367217,
          0.11009606224289208,
          0.22346273394221405,
          0.07252432155657962,
          0.22450448086886238,
          0.11009606224289208,
          0.11009606224289208,
          0.07152073732718893,
          0.35872232670004445,
          0.06199692780337941,
          0.046082949308755755,
          0.06132787165045229,
          0.0680184331797235,
          0.06132787165045229,
          0.06132787165045229,
          0.057982590885816684,
          0.2142973473574726,
          0.060491551459293386,
          0.06132787165045229,
          0.07152073732718893,
          0.033118279569892474,
          0.07140686613434108,
          0.16028700511459132,
          0.20177629791539983,
          0.11009606224289208,
          0.13099503596781273,
          0.03512544802867383,
          0.21679948161770068,
          0.20177629791539983,
          0.025089605734767022,
          0.20177629791539983,
          0.033118279569892474,
          0.06132787165045229,
          0.057982590885816684,
          0.634045830891777,
          0.3435768126034228,
          0.06132787165045229,
          0.2923462872646176,
          0.4632577756979139,
          0.059416282642089084,
          0.3450700323486215,
          0.1947953525940763,
          0.060491551459293386,
          0.2547960087655724,
          0.250299748653475,
          0.059416282642089084,
          0.08370983198569407,
          0.06132787165045229,
          0.059416282642089084,
          0.30030238949523647,
          0.2013748642236436,
          0.2004625149241975,
          0.22067367279687813,
          0.050814132104454686,
          0.10980932389163758,
          0.06132787165045229,
          0.12993737370647387,
          0.3611230158528327,
          0.29813332971461887,
          0.1267681603505033,
          0.20177629791539983,
          0.20177629791539983,
          0.1387497271707798,
          0.05296466973886328,
          0.057982590885816684,
          0.06132787165045229,
          0.13617398340482464,
          0.2013748642236436,
          0.1248274466856517,
          0.1942668466996082,
          0.07206814690685658,
          0.18737711227261017,
          0.3828031207306425,
          0.3043042390680117,
          0.033118279569892474,
          0.1172443508266938,
          0.2013748642236436,
          0.07152073732718893,
          0.5242051291380266,
          0.22413369851810222,
          0.20218857608237617,
          0.08445937534983844,
          0.3822849151891741,
          0.10861307563257094,
          0.06132787165045229,
          0.21318666632407046,
          0.09297368641083881,
          0.057982590885816684,
          0.2013748642236436,
          0.033118279569892474,
          0.1260395387202951,
          0.04715821812596006,
          0.06132787165045229,
          0.18594342051633778,
          0.22628423615251084,
          0.11530363716184215,
          0.25191860653133413,
          0.07206814690685658,
          0.11009606224289208,
          0.5856636128540582,
          0.06132787165045229,
          0.07252432155657962,
          0.059416282642089084,
          0.10526779486793535,
          0.33729996621396424,
          0.06132787165045229,
          0.1267681603505033,
          0.31873025047367837,
          0.07377880184331799,
          0.6192153694337406,
          0.19135051574604292,
          0.07252432155657962,
          0.13022304809905066,
          0.057982590885816684,
          0.06199692780337941,
          0.03010752688172043,
          0.22541776815531278,
          0.13099503596781273,
          0.08445937534983844,
          0.060491551459293386,
          0.10326062640915398,
          0.11009606224289208,
          0.06132787165045229,
          0.1947953525940763,
          0.09143802434125016,
          0.057982590885816684,
          0.34910506177879275,
          0.059416282642089084,
          0.12019551947307931,
          0.3311755582495714,
          0.19135051574604292,
          0.06132787165045229,
          0.17712443864893954,
          0.380400652541439,
          0.4094043503125719,
          0.13118204285349064,
          0.060491551459293386,
          0.21022654433344673,
          0.11009606224289208,
          0.2004625149241975,
          0.06132787165045229,
          0.14144280060912573,
          0.09977928630542302,
          0.18058690247906328,
          0.2349431819650191,
          0.082937844116932,
          0.060491551459293386,
          0.03010752688172043,
          0.1947953525940763,
          0.1479840392632384,
          0.15922785804104223,
          0.07140686613434108,
          0.07206814690685658,
          0.2013748642236436,
          0.34708553098342915,
          0.4362397740022658,
          0.059416282642089084,
          0.18163646019157983,
          0.11009606224289208,
          0.3576419676331859,
          0.033118279569892474,
          0.44066890230148165,
          0.1386582165342191,
          0.06132787165045229,
          0.3509755005440269,
          0.07252432155657962,
          0.11009606224289208,
          0.07152073732718893,
          0.17033633326239145,
          0.21644182846064078,
          0.11009606224289208,
          0.13099503596781273,
          0.216098722741191,
          0.06132787165045229,
          0.060491551459293386,
          0.06132787165045229,
          0.4802042235089887,
          0.06132787165045229,
          0.11009606224289208,
          0.11009606224289208,
          0.30069341567029045,
          0,
          0.43972234227488605,
          0.1248274466856517,
          0.27341483554117474,
          0.10861307563257094,
          0.16405945103562342,
          0.29283471530646754,
          0.2875879845097104,
          0.2892468778693928,
          0.06132787165045229,
          0.11009606224289208,
          0.22789145596943727,
          0.06839611344616904,
          0.0680184331797235,
          0.060491551459293386,
          0.06132787165045229,
          0.06132787165045229,
          0.19886590365016688,
          0.13099503596781273,
          0.050814132104454686,
          0.059416282642089084,
          0.06132787165045229,
          0.059416282642089084,
          0.16163646019157987,
          0.08749959061416238,
          0.08080997815205415,
          0.18450972876006538,
          0.07152073732718893,
          0.22485054439623842,
          0.06132787165045229,
          0.11980952553869827,
          0.06132787165045229,
          0.1458000900164708,
          0.22517428124442898,
          0.11530363716184215,
          0.11009606224289208,
          0.22373545080802656,
          0.06132787165045229,
          0.06132787165045229,
          0.20214685209240563,
          0.06199692780337941,
          0.1839362520575564,
          0.3053917537472364,
          0.033118279569892474,
          0.22776380921103126,
          0.6939712575730967,
          0.06132787165045229,
          0.08330261136712751,
          0.06132787165045229,
          0.03010752688172043,
          0.1947953525940763,
          0.07252432155657962,
          0.07324116743471581,
          0.059416282642089084,
          0.060491551459293386,
          0.2123323655037255,
          0.06132787165045229,
          0.060491551459293386,
          0.43579832778357447,
          0.060491551459293386,
          0.07291031549096066
         ],
         "xaxis": "x",
         "y": [
          0,
          0.0027105921601334446,
          0.00396163469557965,
          0.0052126772310258545,
          0.006672226855713094,
          0.008548790658882402,
          0.010008340283569641,
          0.010842368640533779,
          0.011676396997497914,
          0.012510425354462052,
          0.014386989157631359,
          0.016055045871559634,
          0.018765638031693076,
          0.021059216013344453,
          0.021893244370308592,
          0.023144286905754794,
          0.02543786488740617,
          0.02731442869057548,
          0.02981651376146789,
          0.032735613010842365,
          0.042952460383653045,
          0.04566305254378649,
          0.04733110925771476,
          0.05066722268557131,
          0.05212677231025855,
          0.05358632193494579,
          0.054837364470391996,
          0.05629691409507923,
          0.061718098415346125,
          0.0633861551292744,
          0.06672226855713094,
          0.07151793160967473,
          0.07589658048373644,
          0.06192660550458716,
          0.07839866555462886,
          0.07944120100083403,
          0.08069224353628024,
          0.0817347789824854,
          0.08361134278565471,
          0.08548790658882402,
          0.08882402001668056,
          0.09007506255212677,
          0.09174311926605505,
          0.09382819015846539,
          0.09549624687239366,
          0.09820683903252711,
          0.10237698081734779,
          0.10383653044203503,
          0.1048790658882402,
          0.1067556296914095,
          0.10821517931609674,
          0.10884070058381985,
          0.10946622185154295,
          0.11092577147623019,
          0.11321934945788156,
          0.11822351959966639,
          0.12239366138448707,
          0.12427022518765637,
          0.1263552960800667,
          0.12844036697247707,
          0.13010842368640535,
          0.13135946622185155,
          0.13844870725604672,
          0.14428690575479566,
          0.1501251042535446,
          0.15450375312760634,
          0.15617180984153461,
          0.15721434528773978,
          0.15929941618015012,
          0.16201000834028356,
          0.16451209341117598,
          0.16680567139282734,
          0.1682652210175146,
          0.16972477064220184,
          0.170767306088407,
          0.17222685571309423,
          0.17347789824854046,
          0.1755629691409508,
          0.1780650542118432,
          0.1797331109257715,
          0.18452877397831527,
          0.18577981651376146,
          0.18765638031693077,
          0.18932443703085905,
          0.19099249374478733,
          0.19224353628023352,
          0.19432860717264386,
          0.19662218515429525,
          0.1999582985821518,
          0.20225187656380317,
          0.20371142618849042,
          0.20829858215179317,
          0.20892410341951625,
          0.21100917431192662,
          0.21288573811509592,
          0.0475396163469558,
          0.21684737281067556,
          0.21747289407839868,
          0.22039199332777315,
          0.225604670558799,
          0.2274812343619683,
          0.10404503753127606,
          0.23144286905754796,
          0.23707256046705588,
          0.23936613844870724,
          0.24228523769808175,
          0.2433277731442869,
          0.24437030859049208,
          0.24708090075062553,
          0.25,
          0.25229357798165136,
          0.25521267723102586,
          0.2583402835696414,
          0.2597998331943286,
          0.2618849040867389,
          0.2633444537114262,
          0.2648040033361134,
          0.26688907422852376,
          0.26814011676397,
          0.2693911592994162,
          0.2708507089241034,
          0.26501251042535445,
          0.2735613010842369,
          0.2756463719766472,
          0.2775229357798165,
          0.27898248540450377,
          0.28065054211843204,
          0.2856547122602168,
          0.28753127606338613,
          0.2896163469557965,
          0.29128440366972475,
          0.29253544620517097,
          0.29545454545454547,
          0.29774812343619683,
          0.30066722268557133,
          0.3035863219349458,
          0.30442035029190995,
          0.30525437864887406,
          0.3073394495412844,
          0.31130108423686403,
          0.32610508757297746,
          0.32714762301918265,
          0.32985821517931607,
          0.33340283569641366,
          0.33527939949958296,
          0.33798999165971644,
          0.3400750625521268,
          0.33548790658882405,
          0.34341117597998333,
          0.34737281067556297,
          0.34987489574645536,
          0.3550875729774812,
          0.35696413678065053,
          0.3586321934945788,
          0.359466221851543,
          0.36009174311926606,
          0.3605087572977481,
          0.3615512927439533,
          0.36363636363636365,
          0.3653044203502919,
          0.3669724770642202,
          0.36801501251042534,
          0.3694745621351126,
          0.37093411175979984,
          0.3713511259382819,
          0.372185154295246,
          0.37364470391993326,
          0.37531276063386154,
          0.04774812343619683,
          0.3798999165971643,
          0.3821934945788157,
          0.3849040867389491,
          0.38740617180984155,
          0.3884487072560467,
          0.3919933277731443,
          0.3938698915763136,
          0.3969974979149291,
          0.3978315262718932,
          0.3997080900750625,
          0.40158465387823183,
          0.4080483736447039,
          0.4103419516263553,
          0.41284403669724773,
          0.41388657214345287,
          0.4157631359466222,
          0.41805671392827354,
          0.4195162635529608,
          0.4216013344453711,
          0.04795663052543787,
          0.42472894078398665,
          0.2652210175145955,
          0.42764804003336115,
          0.4288990825688073,
          0.43452877397831524,
          0.43682235195996666,
          0.4380733944954128,
          0.43932443703085905,
          0.44203502919099247,
          0.44412010008340286,
          0.44724770642201833,
          0.44912427022518764,
          0.45100083402835695,
          0.4526688907422852,
          0.4535029190992494,
          0.4549624687239366,
          0.4562135112593828,
          0.457256046705588,
          0.45934111759799834,
          0.46121768140116765,
          0.46476230191826523,
          0.46976647206005007,
          0.47122602168473726,
          0.4733110925771476,
          0.47518765638031696,
          0.47831526271893243,
          0.4799833194328607,
          0.48206839032527105,
          0.4864470391993328,
          0.48957464553794827,
          0.4910341951626355,
          0.4927022518765638,
          0.4952043369474562,
          0.4981234361968307,
          0.5012510425354462,
          0.5047956630525438,
          0.5068807339449541,
          0.5079232693911593,
          0.5089658048373644,
          0.5106338615512928,
          0.0481651376146789,
          0.5135529608006673,
          0.5150125104253545,
          0.5164720600500416,
          0.5202251876563804,
          0.5214762301918265,
          0.5223102585487907,
          0.5252293577981652,
          0.2654295246038365,
          0.531067556296914,
          0.5325271059216014,
          0.5335696413678065,
          0.5344036697247706,
          0.2656380316930776,
          0.36071726438698914,
          0.5373227689741451,
          0.5383653044203502,
          0.5396163469557965,
          0.5406588824020017,
          0.5419099249374478,
          0.5442035029190992,
          0.5477481234361968,
          0.5498331943286072,
          0.5596330275229358,
          0.5685988323603003,
          0.5700583819849875,
          0.3356964136780651,
          0.5740200166805671,
          0.5761050875729775,
          0.5775646371976647,
          0.5783986655546288,
          0.5796497080900751,
          0.5815262718932444,
          0.5827773144286906,
          0.5850708924103419,
          0.5879899916597164,
          0.5892410341951626,
          0.5923686405337781,
          0.1670141784820684,
          0.6002919099249374,
          0.6021684737281068,
          0.604045037531276,
          0.6071726438698916,
          0.6157214345287739,
          0.6198915763135947,
          0.2658465387823186,
          0.5408673894912427,
          0.627814845704754,
          0.6294829024186822,
          0.04837364470391994,
          0.6338615512927439,
          0.6359466221851543,
          0.6378231859883235,
          0.6392827356130109,
          0.3273561301084237,
          0.6434528773978315,
          0.6449124270225187,
          0.645954962468724,
          0.6507506255212677,
          0.6522101751459549,
          0.6536697247706422,
          0.6565888240200167,
          0.658465387823186,
          0.6624270225187656,
          0.6661801501251042,
          0.6682652210175146,
          0.6720183486238532,
          0.6734778982485404,
          0.6749374478732277,
          0.677022518765638,
          0.6791075896580484,
          0.6809841534612177,
          0.6814011676396997,
          0.6822351959966639,
          0.683069224353628,
          0.6836947456213511,
          0.6847372810675563,
          0.6864053377814846,
          0.6880733944954128,
          0.689324437030859,
          0.6912010008340284,
          0.6926605504587156,
          0.6947456213511259,
          0.6966221851542952,
          0.7039199332777314,
          0.7116346955796498,
          0.713094245204337,
          0.7147623019182652,
          0.7153878231859884,
          0.7166388657214345,
          0.7180984153461217,
          0.7197664720600501,
          0.7251876563803169,
          0.7301918265221018,
          0.732068390325271,
          0.7341534612176814,
          0.713302752293578,
          0.7368640533778148,
          0.7381150959132611,
          0.7387406171809842,
          0.7395746455379483,
          0.7404086738949124,
          0.7418682235195997,
          0.7433277731442869,
          0.7449958298582152,
          0.7462468723936614,
          0.7472894078398665,
          0.7493744787322769,
          0.3359049207673061,
          0.7514595496246872,
          0.7520850708924104,
          0.7545871559633027,
          0.7589658048373644,
          0.7606338615512928,
          0.7631359466221852,
          0.7660550458715596,
          0.76814011676397,
          0.7708507089241035,
          0.7748123436196831,
          0.7779399499582986,
          0.7802335279399499,
          0.7854462051709759,
          0.7877397831526272,
          0.7889908256880734,
          0.7912844036697247,
          0.792743953294412,
          0.7944120100083403,
          0.7964970809007507,
          0.7981651376146789,
          0.6839032527105922,
          0.7998331943286072,
          0.8015012510425354,
          0.8029608006672226,
          0.33611342785654713,
          0.80442035029191,
          0.8058798999165971,
          0.8100500417014178,
          0.810884070058382,
          0.8123436196830692,
          0.8142201834862385,
          0.8177648040033361,
          0.5829858215179317,
          0.8223519599666389,
          0.8288156797331109,
          0.8309007506255213,
          0.8342368640533778,
          0.0329441201000834,
          0.8348623853211009,
          0.8369474562135113,
          0.4983319432860717,
          0.8448707256046706,
          0.8469557964970809,
          0.8490408673894912,
          0.8511259382819016,
          0.8523769808173478,
          0.8532110091743119,
          0.8546705587989991,
          0.8561301084236864,
          0.8571726438698916,
          0.8590492076730609,
          0.8611342785654712,
          0.8634278565471226,
          0.8726021684737281,
          0.8738532110091743,
          0.8755212677231026,
          0.8769808173477899,
          0.8788573811509591,
          0.5925771476230192,
          0.8807339449541285,
          0.8838615512927439,
          0.048582151793160964,
          0.8886572143452878,
          0.890742285237698,
          0.8932443703085905,
          0.896163469557965,
          0.9047122602168474,
          0.9059633027522935,
          0.9074228523769808,
          0.908256880733945,
          0.9090909090909091,
          0.9105504587155964,
          0.9126355296080066,
          0.914303586321935,
          0.9161801501251042,
          0.9172226855713094,
          0.16722268557130943,
          0.9199332777314428,
          0.9213928273561302,
          0.9236864053377815,
          0.9255629691409508,
          0.19245204336947455,
          0.5385738115095913,
          0.9301501251042535,
          0.9307756463719766,
          0.9316096747289407,
          0.933069224353628,
          0.9349457881567973,
          0.9368223519599667,
          0.9382819015846539,
          0.9399499582985822,
          0.9424520433694745,
          0.9437030859049208,
          0.9459966638865721,
          0.9476647206005004,
          0.9493327773144287,
          0.951000834028357,
          0.9524603836530442,
          0.9547539616346956,
          0.9582985821517932,
          0.9593411175979983,
          0.9608006672226855,
          0.9641367806505421,
          0.9701834862385321,
          0.9724770642201835,
          0.9733110925771477,
          0.9743536280233528,
          0.33632193494578816,
          0.9791492910758965,
          0.9812343619683069,
          0.982068390325271,
          0.9835279399499584,
          0.9851959966638866,
          0.9870725604670558,
          0.048790658882402,
          0.9922852376980817,
          0.9977064220183486,
          1
         ],
         "yaxis": "y"
        }
       ],
       "layout": {
        "barmode": "relative",
        "legend": {
         "tracegroupgap": 0
        },
        "margin": {
         "t": 60
        },
        "template": {
         "data": {
          "bar": [
           {
            "error_x": {
             "color": "#2a3f5f"
            },
            "error_y": {
             "color": "#2a3f5f"
            },
            "marker": {
             "line": {
              "color": "#E5ECF6",
              "width": 0.5
             }
            },
            "type": "bar"
           }
          ],
          "barpolar": [
           {
            "marker": {
             "line": {
              "color": "#E5ECF6",
              "width": 0.5
             }
            },
            "type": "barpolar"
           }
          ],
          "carpet": [
           {
            "aaxis": {
             "endlinecolor": "#2a3f5f",
             "gridcolor": "white",
             "linecolor": "white",
             "minorgridcolor": "white",
             "startlinecolor": "#2a3f5f"
            },
            "baxis": {
             "endlinecolor": "#2a3f5f",
             "gridcolor": "white",
             "linecolor": "white",
             "minorgridcolor": "white",
             "startlinecolor": "#2a3f5f"
            },
            "type": "carpet"
           }
          ],
          "choropleth": [
           {
            "colorbar": {
             "outlinewidth": 0,
             "ticks": ""
            },
            "type": "choropleth"
           }
          ],
          "contour": [
           {
            "colorbar": {
             "outlinewidth": 0,
             "ticks": ""
            },
            "colorscale": [
             [
              0,
              "#0d0887"
             ],
             [
              0.1111111111111111,
              "#46039f"
             ],
             [
              0.2222222222222222,
              "#7201a8"
             ],
             [
              0.3333333333333333,
              "#9c179e"
             ],
             [
              0.4444444444444444,
              "#bd3786"
             ],
             [
              0.5555555555555556,
              "#d8576b"
             ],
             [
              0.6666666666666666,
              "#ed7953"
             ],
             [
              0.7777777777777778,
              "#fb9f3a"
             ],
             [
              0.8888888888888888,
              "#fdca26"
             ],
             [
              1,
              "#f0f921"
             ]
            ],
            "type": "contour"
           }
          ],
          "contourcarpet": [
           {
            "colorbar": {
             "outlinewidth": 0,
             "ticks": ""
            },
            "type": "contourcarpet"
           }
          ],
          "heatmap": [
           {
            "colorbar": {
             "outlinewidth": 0,
             "ticks": ""
            },
            "colorscale": [
             [
              0,
              "#0d0887"
             ],
             [
              0.1111111111111111,
              "#46039f"
             ],
             [
              0.2222222222222222,
              "#7201a8"
             ],
             [
              0.3333333333333333,
              "#9c179e"
             ],
             [
              0.4444444444444444,
              "#bd3786"
             ],
             [
              0.5555555555555556,
              "#d8576b"
             ],
             [
              0.6666666666666666,
              "#ed7953"
             ],
             [
              0.7777777777777778,
              "#fb9f3a"
             ],
             [
              0.8888888888888888,
              "#fdca26"
             ],
             [
              1,
              "#f0f921"
             ]
            ],
            "type": "heatmap"
           }
          ],
          "heatmapgl": [
           {
            "colorbar": {
             "outlinewidth": 0,
             "ticks": ""
            },
            "colorscale": [
             [
              0,
              "#0d0887"
             ],
             [
              0.1111111111111111,
              "#46039f"
             ],
             [
              0.2222222222222222,
              "#7201a8"
             ],
             [
              0.3333333333333333,
              "#9c179e"
             ],
             [
              0.4444444444444444,
              "#bd3786"
             ],
             [
              0.5555555555555556,
              "#d8576b"
             ],
             [
              0.6666666666666666,
              "#ed7953"
             ],
             [
              0.7777777777777778,
              "#fb9f3a"
             ],
             [
              0.8888888888888888,
              "#fdca26"
             ],
             [
              1,
              "#f0f921"
             ]
            ],
            "type": "heatmapgl"
           }
          ],
          "histogram": [
           {
            "marker": {
             "colorbar": {
              "outlinewidth": 0,
              "ticks": ""
             }
            },
            "type": "histogram"
           }
          ],
          "histogram2d": [
           {
            "colorbar": {
             "outlinewidth": 0,
             "ticks": ""
            },
            "colorscale": [
             [
              0,
              "#0d0887"
             ],
             [
              0.1111111111111111,
              "#46039f"
             ],
             [
              0.2222222222222222,
              "#7201a8"
             ],
             [
              0.3333333333333333,
              "#9c179e"
             ],
             [
              0.4444444444444444,
              "#bd3786"
             ],
             [
              0.5555555555555556,
              "#d8576b"
             ],
             [
              0.6666666666666666,
              "#ed7953"
             ],
             [
              0.7777777777777778,
              "#fb9f3a"
             ],
             [
              0.8888888888888888,
              "#fdca26"
             ],
             [
              1,
              "#f0f921"
             ]
            ],
            "type": "histogram2d"
           }
          ],
          "histogram2dcontour": [
           {
            "colorbar": {
             "outlinewidth": 0,
             "ticks": ""
            },
            "colorscale": [
             [
              0,
              "#0d0887"
             ],
             [
              0.1111111111111111,
              "#46039f"
             ],
             [
              0.2222222222222222,
              "#7201a8"
             ],
             [
              0.3333333333333333,
              "#9c179e"
             ],
             [
              0.4444444444444444,
              "#bd3786"
             ],
             [
              0.5555555555555556,
              "#d8576b"
             ],
             [
              0.6666666666666666,
              "#ed7953"
             ],
             [
              0.7777777777777778,
              "#fb9f3a"
             ],
             [
              0.8888888888888888,
              "#fdca26"
             ],
             [
              1,
              "#f0f921"
             ]
            ],
            "type": "histogram2dcontour"
           }
          ],
          "mesh3d": [
           {
            "colorbar": {
             "outlinewidth": 0,
             "ticks": ""
            },
            "type": "mesh3d"
           }
          ],
          "parcoords": [
           {
            "line": {
             "colorbar": {
              "outlinewidth": 0,
              "ticks": ""
             }
            },
            "type": "parcoords"
           }
          ],
          "pie": [
           {
            "automargin": true,
            "type": "pie"
           }
          ],
          "scatter": [
           {
            "marker": {
             "colorbar": {
              "outlinewidth": 0,
              "ticks": ""
             }
            },
            "type": "scatter"
           }
          ],
          "scatter3d": [
           {
            "line": {
             "colorbar": {
              "outlinewidth": 0,
              "ticks": ""
             }
            },
            "marker": {
             "colorbar": {
              "outlinewidth": 0,
              "ticks": ""
             }
            },
            "type": "scatter3d"
           }
          ],
          "scattercarpet": [
           {
            "marker": {
             "colorbar": {
              "outlinewidth": 0,
              "ticks": ""
             }
            },
            "type": "scattercarpet"
           }
          ],
          "scattergeo": [
           {
            "marker": {
             "colorbar": {
              "outlinewidth": 0,
              "ticks": ""
             }
            },
            "type": "scattergeo"
           }
          ],
          "scattergl": [
           {
            "marker": {
             "colorbar": {
              "outlinewidth": 0,
              "ticks": ""
             }
            },
            "type": "scattergl"
           }
          ],
          "scattermapbox": [
           {
            "marker": {
             "colorbar": {
              "outlinewidth": 0,
              "ticks": ""
             }
            },
            "type": "scattermapbox"
           }
          ],
          "scatterpolar": [
           {
            "marker": {
             "colorbar": {
              "outlinewidth": 0,
              "ticks": ""
             }
            },
            "type": "scatterpolar"
           }
          ],
          "scatterpolargl": [
           {
            "marker": {
             "colorbar": {
              "outlinewidth": 0,
              "ticks": ""
             }
            },
            "type": "scatterpolargl"
           }
          ],
          "scatterternary": [
           {
            "marker": {
             "colorbar": {
              "outlinewidth": 0,
              "ticks": ""
             }
            },
            "type": "scatterternary"
           }
          ],
          "surface": [
           {
            "colorbar": {
             "outlinewidth": 0,
             "ticks": ""
            },
            "colorscale": [
             [
              0,
              "#0d0887"
             ],
             [
              0.1111111111111111,
              "#46039f"
             ],
             [
              0.2222222222222222,
              "#7201a8"
             ],
             [
              0.3333333333333333,
              "#9c179e"
             ],
             [
              0.4444444444444444,
              "#bd3786"
             ],
             [
              0.5555555555555556,
              "#d8576b"
             ],
             [
              0.6666666666666666,
              "#ed7953"
             ],
             [
              0.7777777777777778,
              "#fb9f3a"
             ],
             [
              0.8888888888888888,
              "#fdca26"
             ],
             [
              1,
              "#f0f921"
             ]
            ],
            "type": "surface"
           }
          ],
          "table": [
           {
            "cells": {
             "fill": {
              "color": "#EBF0F8"
             },
             "line": {
              "color": "white"
             }
            },
            "header": {
             "fill": {
              "color": "#C8D4E3"
             },
             "line": {
              "color": "white"
             }
            },
            "type": "table"
           }
          ]
         },
         "layout": {
          "annotationdefaults": {
           "arrowcolor": "#2a3f5f",
           "arrowhead": 0,
           "arrowwidth": 1
          },
          "coloraxis": {
           "colorbar": {
            "outlinewidth": 0,
            "ticks": ""
           }
          },
          "colorscale": {
           "diverging": [
            [
             0,
             "#8e0152"
            ],
            [
             0.1,
             "#c51b7d"
            ],
            [
             0.2,
             "#de77ae"
            ],
            [
             0.3,
             "#f1b6da"
            ],
            [
             0.4,
             "#fde0ef"
            ],
            [
             0.5,
             "#f7f7f7"
            ],
            [
             0.6,
             "#e6f5d0"
            ],
            [
             0.7,
             "#b8e186"
            ],
            [
             0.8,
             "#7fbc41"
            ],
            [
             0.9,
             "#4d9221"
            ],
            [
             1,
             "#276419"
            ]
           ],
           "sequential": [
            [
             0,
             "#0d0887"
            ],
            [
             0.1111111111111111,
             "#46039f"
            ],
            [
             0.2222222222222222,
             "#7201a8"
            ],
            [
             0.3333333333333333,
             "#9c179e"
            ],
            [
             0.4444444444444444,
             "#bd3786"
            ],
            [
             0.5555555555555556,
             "#d8576b"
            ],
            [
             0.6666666666666666,
             "#ed7953"
            ],
            [
             0.7777777777777778,
             "#fb9f3a"
            ],
            [
             0.8888888888888888,
             "#fdca26"
            ],
            [
             1,
             "#f0f921"
            ]
           ],
           "sequentialminus": [
            [
             0,
             "#0d0887"
            ],
            [
             0.1111111111111111,
             "#46039f"
            ],
            [
             0.2222222222222222,
             "#7201a8"
            ],
            [
             0.3333333333333333,
             "#9c179e"
            ],
            [
             0.4444444444444444,
             "#bd3786"
            ],
            [
             0.5555555555555556,
             "#d8576b"
            ],
            [
             0.6666666666666666,
             "#ed7953"
            ],
            [
             0.7777777777777778,
             "#fb9f3a"
            ],
            [
             0.8888888888888888,
             "#fdca26"
            ],
            [
             1,
             "#f0f921"
            ]
           ]
          },
          "colorway": [
           "#636efa",
           "#EF553B",
           "#00cc96",
           "#ab63fa",
           "#FFA15A",
           "#19d3f3",
           "#FF6692",
           "#B6E880",
           "#FF97FF",
           "#FECB52"
          ],
          "font": {
           "color": "#2a3f5f"
          },
          "geo": {
           "bgcolor": "white",
           "lakecolor": "white",
           "landcolor": "#E5ECF6",
           "showlakes": true,
           "showland": true,
           "subunitcolor": "white"
          },
          "hoverlabel": {
           "align": "left"
          },
          "hovermode": "closest",
          "mapbox": {
           "style": "light"
          },
          "paper_bgcolor": "white",
          "plot_bgcolor": "#E5ECF6",
          "polar": {
           "angularaxis": {
            "gridcolor": "white",
            "linecolor": "white",
            "ticks": ""
           },
           "bgcolor": "#E5ECF6",
           "radialaxis": {
            "gridcolor": "white",
            "linecolor": "white",
            "ticks": ""
           }
          },
          "scene": {
           "xaxis": {
            "backgroundcolor": "#E5ECF6",
            "gridcolor": "white",
            "gridwidth": 2,
            "linecolor": "white",
            "showbackground": true,
            "ticks": "",
            "zerolinecolor": "white"
           },
           "yaxis": {
            "backgroundcolor": "#E5ECF6",
            "gridcolor": "white",
            "gridwidth": 2,
            "linecolor": "white",
            "showbackground": true,
            "ticks": "",
            "zerolinecolor": "white"
           },
           "zaxis": {
            "backgroundcolor": "#E5ECF6",
            "gridcolor": "white",
            "gridwidth": 2,
            "linecolor": "white",
            "showbackground": true,
            "ticks": "",
            "zerolinecolor": "white"
           }
          },
          "shapedefaults": {
           "line": {
            "color": "#2a3f5f"
           }
          },
          "ternary": {
           "aaxis": {
            "gridcolor": "white",
            "linecolor": "white",
            "ticks": ""
           },
           "baxis": {
            "gridcolor": "white",
            "linecolor": "white",
            "ticks": ""
           },
           "bgcolor": "#E5ECF6",
           "caxis": {
            "gridcolor": "white",
            "linecolor": "white",
            "ticks": ""
           }
          },
          "title": {
           "x": 0.05
          },
          "xaxis": {
           "automargin": true,
           "gridcolor": "white",
           "linecolor": "white",
           "ticks": "",
           "title": {
            "standoff": 15
           },
           "zerolinecolor": "white",
           "zerolinewidth": 2
          },
          "yaxis": {
           "automargin": true,
           "gridcolor": "white",
           "linecolor": "white",
           "ticks": "",
           "title": {
            "standoff": 15
           },
           "zerolinecolor": "white",
           "zerolinewidth": 2
          }
         }
        },
        "xaxis": {
         "anchor": "y",
         "domain": [
          0,
          1
         ],
         "range": [
          0,
          1
         ],
         "title": {
          "text": "complexity"
         }
        },
        "yaxis": {
         "anchor": "x",
         "domain": [
          0,
          1
         ],
         "title": {
          "text": "count of fileid"
         }
        }
       }
      }
     },
     "metadata": {}
    }
   ],
   "source": [
    "fig = px.histogram(normdfbpmn, x=\"complexity\", y=\"fileid\",range_x=[0,1],nbins=10, template=\"plotly\")\n",
    "fig.show()"
   ]
  },
  {
   "cell_type": "code",
   "execution_count": 65,
   "metadata": {},
   "outputs": [],
   "source": [
    "# trace3 = [go.Histogram(\n",
    "#     x=normdfbpmn['complexity'],\n",
    "#     xbins=dict(\n",
    "#         start=0,\n",
    "#         end=1,\n",
    "#         size=0.1),\n",
    "#     autobinx = False\n",
    "# )]\n",
    "# # fig = tools.make_subplots(rows=3, cols=2)\n",
    "# # fig.append_trace(trace3, 2, 2)\n",
    "# py.iplot(trace3, filename='cumulative histogram', renderer='chrome')"
   ]
  },
  {
   "cell_type": "markdown",
   "metadata": {},
   "source": [
    "## WSDL-XSD Complexities"
   ]
  },
  {
   "cell_type": "code",
   "execution_count": 25,
   "metadata": {},
   "outputs": [
    {
     "output_type": "execute_result",
     "data": {
      "text/plain": "   complexity  size_complexity  concept_complexity  name_complexity  scenario  \\\n0    0.395995              0.0            0.187986          1.00000         0   \n1    0.389012              0.0            0.167035          1.00000         0   \n2    0.401254              0.0            0.203763          1.00000         0   \n3    0.395995              0.0            0.187986          1.00000         0   \n4    0.082639              0.0            0.166667          0.08125         1   \n\n   fileid  \n0       0  \n1       1  \n2       2  \n3       3  \n4      14  ",
      "text/html": "<div>\n<style scoped>\n    .dataframe tbody tr th:only-of-type {\n        vertical-align: middle;\n    }\n\n    .dataframe tbody tr th {\n        vertical-align: top;\n    }\n\n    .dataframe thead th {\n        text-align: right;\n    }\n</style>\n<table border=\"1\" class=\"dataframe\">\n  <thead>\n    <tr style=\"text-align: right;\">\n      <th></th>\n      <th>complexity</th>\n      <th>size_complexity</th>\n      <th>concept_complexity</th>\n      <th>name_complexity</th>\n      <th>scenario</th>\n      <th>fileid</th>\n    </tr>\n  </thead>\n  <tbody>\n    <tr>\n      <th>0</th>\n      <td>0.395995</td>\n      <td>0.0</td>\n      <td>0.187986</td>\n      <td>1.00000</td>\n      <td>0</td>\n      <td>0</td>\n    </tr>\n    <tr>\n      <th>1</th>\n      <td>0.389012</td>\n      <td>0.0</td>\n      <td>0.167035</td>\n      <td>1.00000</td>\n      <td>0</td>\n      <td>1</td>\n    </tr>\n    <tr>\n      <th>2</th>\n      <td>0.401254</td>\n      <td>0.0</td>\n      <td>0.203763</td>\n      <td>1.00000</td>\n      <td>0</td>\n      <td>2</td>\n    </tr>\n    <tr>\n      <th>3</th>\n      <td>0.395995</td>\n      <td>0.0</td>\n      <td>0.187986</td>\n      <td>1.00000</td>\n      <td>0</td>\n      <td>3</td>\n    </tr>\n    <tr>\n      <th>4</th>\n      <td>0.082639</td>\n      <td>0.0</td>\n      <td>0.166667</td>\n      <td>0.08125</td>\n      <td>1</td>\n      <td>14</td>\n    </tr>\n  </tbody>\n</table>\n</div>"
     },
     "metadata": {},
     "execution_count": 25
    }
   ],
   "source": [
    "dfwsdl_xsdcomplexity = pd.read_csv(prefix+\"qaswsdl-xsdcomplexity.csv\")\n",
    "dfwsdl_xsdcomplexity.drop(columns=[\"Unnamed: 0\"], inplace=True)\n",
    "dfwsdl_xsdcomplexity['scenario'] = dfwsdl_xsdcomplexity['file'].apply(filepath_to_scenarioid)\n",
    "dfwsdl_xsdcomplexity['fileid'] = dfwsdl_xsdcomplexity['file'].apply(filepath_to_fileid)\n",
    "dfwsdl_xsdcomplexity.drop(columns=[\"file\"], inplace=True)\n",
    "dfwsdl_xsdcomplexity.head()"
   ]
  },
  {
   "cell_type": "markdown",
   "metadata": {},
   "source": [
    "## WSDL DW APO OPS"
   ]
  },
  {
   "cell_type": "code",
   "execution_count": 26,
   "metadata": {},
   "outputs": [
    {
     "output_type": "execute_result",
     "data": {
      "text/plain": "   DW       APO  OPS  scenario  fileid\n0   3  0.333333  6.0       440    4625\n1   3  0.333333  6.0        45     472\n2   3  1.000000  3.0         0       1\n3   3  1.000000  2.0       324    3524\n4   3  1.000000  2.0       324    3523",
      "text/html": "<div>\n<style scoped>\n    .dataframe tbody tr th:only-of-type {\n        vertical-align: middle;\n    }\n\n    .dataframe tbody tr th {\n        vertical-align: top;\n    }\n\n    .dataframe thead th {\n        text-align: right;\n    }\n</style>\n<table border=\"1\" class=\"dataframe\">\n  <thead>\n    <tr style=\"text-align: right;\">\n      <th></th>\n      <th>DW</th>\n      <th>APO</th>\n      <th>OPS</th>\n      <th>scenario</th>\n      <th>fileid</th>\n    </tr>\n  </thead>\n  <tbody>\n    <tr>\n      <th>0</th>\n      <td>3</td>\n      <td>0.333333</td>\n      <td>6.0</td>\n      <td>440</td>\n      <td>4625</td>\n    </tr>\n    <tr>\n      <th>1</th>\n      <td>3</td>\n      <td>0.333333</td>\n      <td>6.0</td>\n      <td>45</td>\n      <td>472</td>\n    </tr>\n    <tr>\n      <th>2</th>\n      <td>3</td>\n      <td>1.000000</td>\n      <td>3.0</td>\n      <td>0</td>\n      <td>1</td>\n    </tr>\n    <tr>\n      <th>3</th>\n      <td>3</td>\n      <td>1.000000</td>\n      <td>2.0</td>\n      <td>324</td>\n      <td>3524</td>\n    </tr>\n    <tr>\n      <th>4</th>\n      <td>3</td>\n      <td>1.000000</td>\n      <td>2.0</td>\n      <td>324</td>\n      <td>3523</td>\n    </tr>\n  </tbody>\n</table>\n</div>"
     },
     "metadata": {},
     "execution_count": 26
    }
   ],
   "source": [
    "dfwsdl = pd.read_csv(prefix+\"qaswsdl_DWAPOOPS.csv\")\n",
    "dfwsdl.drop(columns=[\"Unnamed: 0\"], inplace=True)\n",
    "dfwsdl['scenario'] = dfwsdl['file'].apply(filepath_to_scenarioid)\n",
    "dfwsdl['fileid'] = dfwsdl['file'].apply(filepath_to_fileid)\n",
    "dfwsdl.drop(columns=[\"file\"], inplace=True)\n",
    "dfwsdl.head()"
   ]
  },
  {
   "cell_type": "code",
   "execution_count": 68,
   "metadata": {},
   "outputs": [
    {
     "output_type": "stream",
     "name": "stdout",
     "text": "0 0\n181 9\n"
    }
   ],
   "source": [
    "winsor = dfwsdl.DW.values\n",
    "lim = 0.13\n",
    "win_edit = scipy.stats.mstats.winsorize(winsor, limits=[0, lim])\n",
    "\n",
    "print(min(winsor), min(win_edit))\n",
    "print(max(winsor), max(win_edit))"
   ]
  },
  {
   "cell_type": "code",
   "execution_count": 69,
   "metadata": {},
   "outputs": [
    {
     "output_type": "stream",
     "name": "stdout",
     "text": "1.0 1.0\n126.0 6.0\n"
    }
   ],
   "source": [
    "winsor = dfwsdl.OPS.values\n",
    "lim = 0.15\n",
    "win_edit = scipy.stats.mstats.winsorize(winsor, limits=[0, lim])\n",
    "\n",
    "print(min(winsor), min(win_edit))\n",
    "print(max(winsor), max(win_edit))"
   ]
  },
  {
   "cell_type": "code",
   "execution_count": 70,
   "metadata": {},
   "outputs": [
    {
     "output_type": "execute_result",
     "data": {
      "text/plain": "               DW         APO         OPS    scenario       fileid\ncount  471.000000  471.000000  471.000000  471.000000   471.000000\nmean    17.356688    0.997169    9.552017  237.333333  2520.036093\nstd     41.149341    0.043396   20.636630  129.393714  1372.255922\nmin      0.000000    0.333333    1.000000    0.000000     1.000000\n25%      1.000000    1.000000    2.000000  132.000000  1409.000000\n50%      3.000000    1.000000    2.000000  233.000000  2472.000000\n75%      5.000000    1.000000    3.000000  358.000000  3796.500000\nmax    181.000000    1.000000  126.000000  455.000000  4796.000000",
      "text/html": "<div>\n<style scoped>\n    .dataframe tbody tr th:only-of-type {\n        vertical-align: middle;\n    }\n\n    .dataframe tbody tr th {\n        vertical-align: top;\n    }\n\n    .dataframe thead th {\n        text-align: right;\n    }\n</style>\n<table border=\"1\" class=\"dataframe\">\n  <thead>\n    <tr style=\"text-align: right;\">\n      <th></th>\n      <th>DW</th>\n      <th>APO</th>\n      <th>OPS</th>\n      <th>scenario</th>\n      <th>fileid</th>\n    </tr>\n  </thead>\n  <tbody>\n    <tr>\n      <th>count</th>\n      <td>471.000000</td>\n      <td>471.000000</td>\n      <td>471.000000</td>\n      <td>471.000000</td>\n      <td>471.000000</td>\n    </tr>\n    <tr>\n      <th>mean</th>\n      <td>17.356688</td>\n      <td>0.997169</td>\n      <td>9.552017</td>\n      <td>237.333333</td>\n      <td>2520.036093</td>\n    </tr>\n    <tr>\n      <th>std</th>\n      <td>41.149341</td>\n      <td>0.043396</td>\n      <td>20.636630</td>\n      <td>129.393714</td>\n      <td>1372.255922</td>\n    </tr>\n    <tr>\n      <th>min</th>\n      <td>0.000000</td>\n      <td>0.333333</td>\n      <td>1.000000</td>\n      <td>0.000000</td>\n      <td>1.000000</td>\n    </tr>\n    <tr>\n      <th>25%</th>\n      <td>1.000000</td>\n      <td>1.000000</td>\n      <td>2.000000</td>\n      <td>132.000000</td>\n      <td>1409.000000</td>\n    </tr>\n    <tr>\n      <th>50%</th>\n      <td>3.000000</td>\n      <td>1.000000</td>\n      <td>2.000000</td>\n      <td>233.000000</td>\n      <td>2472.000000</td>\n    </tr>\n    <tr>\n      <th>75%</th>\n      <td>5.000000</td>\n      <td>1.000000</td>\n      <td>3.000000</td>\n      <td>358.000000</td>\n      <td>3796.500000</td>\n    </tr>\n    <tr>\n      <th>max</th>\n      <td>181.000000</td>\n      <td>1.000000</td>\n      <td>126.000000</td>\n      <td>455.000000</td>\n      <td>4796.000000</td>\n    </tr>\n  </tbody>\n</table>\n</div>"
     },
     "metadata": {},
     "execution_count": 70
    }
   ],
   "source": [
    "dfwsdl.describe()"
   ]
  },
  {
   "cell_type": "markdown",
   "metadata": {},
   "source": [
    "## Property Definitions"
   ]
  },
  {
   "cell_type": "code",
   "execution_count": 27,
   "metadata": {},
   "outputs": [
    {
     "output_type": "execute_result",
     "data": {
      "text/plain": "   name  type  isRequired  scenario  fileid\n0     0     0           0         0      13\n1     1     0           0         0      13\n2     2     0           0         0      13\n3     3     0           0         0      13\n4     4     0           0         0      13",
      "text/html": "<div>\n<style scoped>\n    .dataframe tbody tr th:only-of-type {\n        vertical-align: middle;\n    }\n\n    .dataframe tbody tr th {\n        vertical-align: top;\n    }\n\n    .dataframe thead th {\n        text-align: right;\n    }\n</style>\n<table border=\"1\" class=\"dataframe\">\n  <thead>\n    <tr style=\"text-align: right;\">\n      <th></th>\n      <th>name</th>\n      <th>type</th>\n      <th>isRequired</th>\n      <th>scenario</th>\n      <th>fileid</th>\n    </tr>\n  </thead>\n  <tbody>\n    <tr>\n      <th>0</th>\n      <td>0</td>\n      <td>0</td>\n      <td>0</td>\n      <td>0</td>\n      <td>13</td>\n    </tr>\n    <tr>\n      <th>1</th>\n      <td>1</td>\n      <td>0</td>\n      <td>0</td>\n      <td>0</td>\n      <td>13</td>\n    </tr>\n    <tr>\n      <th>2</th>\n      <td>2</td>\n      <td>0</td>\n      <td>0</td>\n      <td>0</td>\n      <td>13</td>\n    </tr>\n    <tr>\n      <th>3</th>\n      <td>3</td>\n      <td>0</td>\n      <td>0</td>\n      <td>0</td>\n      <td>13</td>\n    </tr>\n    <tr>\n      <th>4</th>\n      <td>4</td>\n      <td>0</td>\n      <td>0</td>\n      <td>0</td>\n      <td>13</td>\n    </tr>\n  </tbody>\n</table>\n</div>"
     },
     "metadata": {},
     "execution_count": 27
    }
   ],
   "source": [
    "dfpropdef = pd.read_csv(prefix+\"qaspropdef.csv\")\n",
    "dfpropdef.drop(columns=[\"Unnamed: 0\"], inplace=True)\n",
    "dfpropdef['scenario'] = dfpropdef['file'].apply(filepath_to_scenarioid)\n",
    "dfpropdef['fileid'] = dfpropdef['file'].apply(filepath_to_fileid)\n",
    "dfpropdef.drop(columns=[\"file\"], inplace=True)\n",
    "dfpropdef.dropna(axis='columns', how=\"all\", inplace=True)\n",
    "\n",
    "names = dfpropdef['name'].unique()\n",
    "mapnames = dict(zip(names,range(len(names))))\n",
    "dfpropdef['name'] = dfpropdef['name'].map(mapnames)\n",
    "\n",
    "ptype = dfpropdef['type'].unique()\n",
    "maptype = dict(zip(ptype,range(len(ptype))))\n",
    "dfpropdef['type'] = dfpropdef['type'].map(maptype)\n",
    "\n",
    "dfpropdef['isRequired'] = dfpropdef['isRequired'].apply(lambda x: 0 if x == False else 1)\n",
    "\n",
    "dfpropdef.head()"
   ]
  },
  {
   "cell_type": "markdown",
   "metadata": {},
   "source": [
    "## Groovy"
   ]
  },
  {
   "cell_type": "code",
   "execution_count": 28,
   "metadata": {},
   "outputs": [
    {
     "output_type": "execute_result",
     "data": {
      "text/plain": "   comments  singlelinecomments  defines  imports  linecount  whitelines  \\\n0        17                   2        3        2         40          12   \n1        16                   1        3        2         30           4   \n2         0                   5       13        1         85          14   \n3        13                   2        3        2         29           2   \n4         0                   1        3        3         13           4   \n\n   linesofcode  scenario  fileid  \n0            9         0       6  \n1            9         0       7  \n2           66         0       8  \n3           12         0       9  \n4            8         0      10  ",
      "text/html": "<div>\n<style scoped>\n    .dataframe tbody tr th:only-of-type {\n        vertical-align: middle;\n    }\n\n    .dataframe tbody tr th {\n        vertical-align: top;\n    }\n\n    .dataframe thead th {\n        text-align: right;\n    }\n</style>\n<table border=\"1\" class=\"dataframe\">\n  <thead>\n    <tr style=\"text-align: right;\">\n      <th></th>\n      <th>comments</th>\n      <th>singlelinecomments</th>\n      <th>defines</th>\n      <th>imports</th>\n      <th>linecount</th>\n      <th>whitelines</th>\n      <th>linesofcode</th>\n      <th>scenario</th>\n      <th>fileid</th>\n    </tr>\n  </thead>\n  <tbody>\n    <tr>\n      <th>0</th>\n      <td>17</td>\n      <td>2</td>\n      <td>3</td>\n      <td>2</td>\n      <td>40</td>\n      <td>12</td>\n      <td>9</td>\n      <td>0</td>\n      <td>6</td>\n    </tr>\n    <tr>\n      <th>1</th>\n      <td>16</td>\n      <td>1</td>\n      <td>3</td>\n      <td>2</td>\n      <td>30</td>\n      <td>4</td>\n      <td>9</td>\n      <td>0</td>\n      <td>7</td>\n    </tr>\n    <tr>\n      <th>2</th>\n      <td>0</td>\n      <td>5</td>\n      <td>13</td>\n      <td>1</td>\n      <td>85</td>\n      <td>14</td>\n      <td>66</td>\n      <td>0</td>\n      <td>8</td>\n    </tr>\n    <tr>\n      <th>3</th>\n      <td>13</td>\n      <td>2</td>\n      <td>3</td>\n      <td>2</td>\n      <td>29</td>\n      <td>2</td>\n      <td>12</td>\n      <td>0</td>\n      <td>9</td>\n    </tr>\n    <tr>\n      <th>4</th>\n      <td>0</td>\n      <td>1</td>\n      <td>3</td>\n      <td>3</td>\n      <td>13</td>\n      <td>4</td>\n      <td>8</td>\n      <td>0</td>\n      <td>10</td>\n    </tr>\n  </tbody>\n</table>\n</div>"
     },
     "metadata": {},
     "execution_count": 28
    }
   ],
   "source": [
    "dfgroovy = pd.read_csv(prefix+\"qasgroovy.csv\")\n",
    "dfgroovy.drop(columns=[\"Unnamed: 0\"], inplace=True)\n",
    "dfgroovy['scenario'] = dfgroovy['filepath'].apply(filepath_to_scenarioid)\n",
    "dfgroovy['fileid'] = dfgroovy['filepath'].apply(filepath_to_fileid)\n",
    "dfgroovy.drop(columns=[\"filepath\"], inplace=True)\n",
    "\n",
    "\n",
    "dfgroovy.head()"
   ]
  },
  {
   "cell_type": "code",
   "execution_count": 29,
   "metadata": {},
   "outputs": [
    {
     "output_type": "execute_result",
     "data": {
      "text/plain": "   abcscore  comments  cycloscore  defines  imports  linecount  linesofcode  \\\n0       0.0      17.0           0      3.0      2.0       40.0          9.0   \n1       0.0      16.0           0      3.0      2.0       30.0          9.0   \n2       0.0       0.0           0     13.0      1.0       85.0         66.0   \n3       0.0      13.0           0      3.0      2.0       29.0         12.0   \n4       0.0       0.0           0      3.0      3.0       13.0          8.0   \n\n   nestedscore  paramscore  singlelinecomments  whitelines  scenario  fileid  \n0            0           0                 2.0        12.0         0       6  \n1            0           0                 1.0         4.0         0       7  \n2            0           0                 5.0        14.0         0       8  \n3            0           0                 2.0         2.0         0       9  \n4            0           0                 1.0         4.0         0      10  ",
      "text/html": "<div>\n<style scoped>\n    .dataframe tbody tr th:only-of-type {\n        vertical-align: middle;\n    }\n\n    .dataframe tbody tr th {\n        vertical-align: top;\n    }\n\n    .dataframe thead th {\n        text-align: right;\n    }\n</style>\n<table border=\"1\" class=\"dataframe\">\n  <thead>\n    <tr style=\"text-align: right;\">\n      <th></th>\n      <th>abcscore</th>\n      <th>comments</th>\n      <th>cycloscore</th>\n      <th>defines</th>\n      <th>imports</th>\n      <th>linecount</th>\n      <th>linesofcode</th>\n      <th>nestedscore</th>\n      <th>paramscore</th>\n      <th>singlelinecomments</th>\n      <th>whitelines</th>\n      <th>scenario</th>\n      <th>fileid</th>\n    </tr>\n  </thead>\n  <tbody>\n    <tr>\n      <th>0</th>\n      <td>0.0</td>\n      <td>17.0</td>\n      <td>0</td>\n      <td>3.0</td>\n      <td>2.0</td>\n      <td>40.0</td>\n      <td>9.0</td>\n      <td>0</td>\n      <td>0</td>\n      <td>2.0</td>\n      <td>12.0</td>\n      <td>0</td>\n      <td>6</td>\n    </tr>\n    <tr>\n      <th>1</th>\n      <td>0.0</td>\n      <td>16.0</td>\n      <td>0</td>\n      <td>3.0</td>\n      <td>2.0</td>\n      <td>30.0</td>\n      <td>9.0</td>\n      <td>0</td>\n      <td>0</td>\n      <td>1.0</td>\n      <td>4.0</td>\n      <td>0</td>\n      <td>7</td>\n    </tr>\n    <tr>\n      <th>2</th>\n      <td>0.0</td>\n      <td>0.0</td>\n      <td>0</td>\n      <td>13.0</td>\n      <td>1.0</td>\n      <td>85.0</td>\n      <td>66.0</td>\n      <td>0</td>\n      <td>0</td>\n      <td>5.0</td>\n      <td>14.0</td>\n      <td>0</td>\n      <td>8</td>\n    </tr>\n    <tr>\n      <th>3</th>\n      <td>0.0</td>\n      <td>13.0</td>\n      <td>0</td>\n      <td>3.0</td>\n      <td>2.0</td>\n      <td>29.0</td>\n      <td>12.0</td>\n      <td>0</td>\n      <td>0</td>\n      <td>2.0</td>\n      <td>2.0</td>\n      <td>0</td>\n      <td>9</td>\n    </tr>\n    <tr>\n      <th>4</th>\n      <td>0.0</td>\n      <td>0.0</td>\n      <td>0</td>\n      <td>3.0</td>\n      <td>3.0</td>\n      <td>13.0</td>\n      <td>8.0</td>\n      <td>0</td>\n      <td>0</td>\n      <td>1.0</td>\n      <td>4.0</td>\n      <td>0</td>\n      <td>10</td>\n    </tr>\n  </tbody>\n</table>\n</div>"
     },
     "metadata": {},
     "execution_count": 29
    }
   ],
   "source": [
    "dfgroovymetrics = pd.read_csv(prefix+\"qasgroovymetrics.csv\")\n",
    "dfgroovymetrics.drop(columns=[\"Unnamed: 0\"], inplace=True)\n",
    "dfgroovymetrics['scenario'] = dfgroovymetrics['file'].apply(filepath_to_scenarioid)\n",
    "dfgroovymetrics['fileid'] = dfgroovymetrics['file'].apply(filepath_to_fileid)\n",
    "dfgroovymetrics.drop(columns=[\"file\"], inplace=True)\n",
    "\n",
    "\n",
    "dfgroovymetrics.head()"
   ]
  },
  {
   "cell_type": "code",
   "execution_count": 74,
   "metadata": {},
   "outputs": [
    {
     "output_type": "execute_result",
     "data": {
      "text/plain": "          abcscore     comments   cycloscore      defines      imports  \\\ncount  2805.000000  2805.000000  2805.000000  2805.000000  2805.000000   \nmean      1.667415     7.959358     0.200000     2.105882     1.439216   \nstd       5.200175     7.812701     1.317175     3.028959     1.691938   \nmin       0.000000     0.000000     0.000000     0.000000     0.000000   \n25%       0.000000     0.000000     0.000000     0.000000     0.000000   \n50%       0.000000    12.000000     0.000000     2.000000     2.000000   \n75%       0.000000    16.000000     0.000000     3.000000     2.000000   \nmax      89.400000    25.000000    43.000000    90.000000    14.000000   \n\n         linecount  linesofcode  nestedscore   paramscore  singlelinecomments  \\\ncount  2805.000000  2805.000000  2805.000000  2805.000000         2805.000000   \nmean     19.327629     7.650980     0.046702     0.070232            0.982531   \nstd      21.076637    13.074778     0.424332     0.269175            1.981021   \nmin       0.000000     0.000000     0.000000     0.000000            0.000000   \n25%       0.000000     0.000000     0.000000     0.000000            0.000000   \n50%      27.000000     9.000000     0.000000     0.000000            1.000000   \n75%      28.000000     9.000000     0.000000     0.000000            1.000000   \nmax     415.000000   344.000000     9.000000     2.000000           31.000000   \n\n        whitelines     scenario       fileid  \ncount  2805.000000  2805.000000  2805.000000  \nmean      2.734759   224.052406  2351.890553  \nstd       4.400455   133.283507  1412.754896  \nmin       0.000000     0.000000     6.000000  \n25%       0.000000   105.000000  1098.000000  \n50%       2.000000   221.000000  2311.000000  \n75%       3.000000   342.000000  3585.000000  \nmax      73.000000   455.000000  4808.000000  ",
      "text/html": "<div>\n<style scoped>\n    .dataframe tbody tr th:only-of-type {\n        vertical-align: middle;\n    }\n\n    .dataframe tbody tr th {\n        vertical-align: top;\n    }\n\n    .dataframe thead th {\n        text-align: right;\n    }\n</style>\n<table border=\"1\" class=\"dataframe\">\n  <thead>\n    <tr style=\"text-align: right;\">\n      <th></th>\n      <th>abcscore</th>\n      <th>comments</th>\n      <th>cycloscore</th>\n      <th>defines</th>\n      <th>imports</th>\n      <th>linecount</th>\n      <th>linesofcode</th>\n      <th>nestedscore</th>\n      <th>paramscore</th>\n      <th>singlelinecomments</th>\n      <th>whitelines</th>\n      <th>scenario</th>\n      <th>fileid</th>\n    </tr>\n  </thead>\n  <tbody>\n    <tr>\n      <th>count</th>\n      <td>2805.000000</td>\n      <td>2805.000000</td>\n      <td>2805.000000</td>\n      <td>2805.000000</td>\n      <td>2805.000000</td>\n      <td>2805.000000</td>\n      <td>2805.000000</td>\n      <td>2805.000000</td>\n      <td>2805.000000</td>\n      <td>2805.000000</td>\n      <td>2805.000000</td>\n      <td>2805.000000</td>\n      <td>2805.000000</td>\n    </tr>\n    <tr>\n      <th>mean</th>\n      <td>1.667415</td>\n      <td>7.959358</td>\n      <td>0.200000</td>\n      <td>2.105882</td>\n      <td>1.439216</td>\n      <td>19.327629</td>\n      <td>7.650980</td>\n      <td>0.046702</td>\n      <td>0.070232</td>\n      <td>0.982531</td>\n      <td>2.734759</td>\n      <td>224.052406</td>\n      <td>2351.890553</td>\n    </tr>\n    <tr>\n      <th>std</th>\n      <td>5.200175</td>\n      <td>7.812701</td>\n      <td>1.317175</td>\n      <td>3.028959</td>\n      <td>1.691938</td>\n      <td>21.076637</td>\n      <td>13.074778</td>\n      <td>0.424332</td>\n      <td>0.269175</td>\n      <td>1.981021</td>\n      <td>4.400455</td>\n      <td>133.283507</td>\n      <td>1412.754896</td>\n    </tr>\n    <tr>\n      <th>min</th>\n      <td>0.000000</td>\n      <td>0.000000</td>\n      <td>0.000000</td>\n      <td>0.000000</td>\n      <td>0.000000</td>\n      <td>0.000000</td>\n      <td>0.000000</td>\n      <td>0.000000</td>\n      <td>0.000000</td>\n      <td>0.000000</td>\n      <td>0.000000</td>\n      <td>0.000000</td>\n      <td>6.000000</td>\n    </tr>\n    <tr>\n      <th>25%</th>\n      <td>0.000000</td>\n      <td>0.000000</td>\n      <td>0.000000</td>\n      <td>0.000000</td>\n      <td>0.000000</td>\n      <td>0.000000</td>\n      <td>0.000000</td>\n      <td>0.000000</td>\n      <td>0.000000</td>\n      <td>0.000000</td>\n      <td>0.000000</td>\n      <td>105.000000</td>\n      <td>1098.000000</td>\n    </tr>\n    <tr>\n      <th>50%</th>\n      <td>0.000000</td>\n      <td>12.000000</td>\n      <td>0.000000</td>\n      <td>2.000000</td>\n      <td>2.000000</td>\n      <td>27.000000</td>\n      <td>9.000000</td>\n      <td>0.000000</td>\n      <td>0.000000</td>\n      <td>1.000000</td>\n      <td>2.000000</td>\n      <td>221.000000</td>\n      <td>2311.000000</td>\n    </tr>\n    <tr>\n      <th>75%</th>\n      <td>0.000000</td>\n      <td>16.000000</td>\n      <td>0.000000</td>\n      <td>3.000000</td>\n      <td>2.000000</td>\n      <td>28.000000</td>\n      <td>9.000000</td>\n      <td>0.000000</td>\n      <td>0.000000</td>\n      <td>1.000000</td>\n      <td>3.000000</td>\n      <td>342.000000</td>\n      <td>3585.000000</td>\n    </tr>\n    <tr>\n      <th>max</th>\n      <td>89.400000</td>\n      <td>25.000000</td>\n      <td>43.000000</td>\n      <td>90.000000</td>\n      <td>14.000000</td>\n      <td>415.000000</td>\n      <td>344.000000</td>\n      <td>9.000000</td>\n      <td>2.000000</td>\n      <td>31.000000</td>\n      <td>73.000000</td>\n      <td>455.000000</td>\n      <td>4808.000000</td>\n    </tr>\n  </tbody>\n</table>\n</div>"
     },
     "metadata": {},
     "execution_count": 74
    }
   ],
   "source": [
    "dfgroovymetrics.describe()"
   ]
  },
  {
   "cell_type": "markdown",
   "metadata": {},
   "source": [
    "## Dataframes"
   ]
  },
  {
   "cell_type": "code",
   "execution_count": 75,
   "metadata": {},
   "outputs": [],
   "source": [
    "# dfcomplexity_xsd\n",
    "# dfmapping_complexity\n",
    "# dfreuse\n",
    "# dfbpmn_complexity\n",
    "# dfwsdl_xsdcomplexity\n",
    "# dfwsdl\n",
    "# dfpropdef\n",
    "# dfgroovy"
   ]
  },
  {
   "cell_type": "code",
   "execution_count": 76,
   "metadata": {},
   "outputs": [],
   "source": [
    "dfbpmn_complexity.dropna(axis='columns', how='any', inplace=True)"
   ]
  },
  {
   "cell_type": "code",
   "execution_count": 77,
   "metadata": {},
   "outputs": [],
   "source": [
    "dfwsdl.dropna(how='any', inplace=True)"
   ]
  },
  {
   "cell_type": "code",
   "execution_count": 78,
   "metadata": {},
   "outputs": [],
   "source": [
    "dfwsdl_xsdcomplexity.dropna(how='any', inplace=True)"
   ]
  },
  {
   "cell_type": "code",
   "execution_count": 79,
   "metadata": {},
   "outputs": [],
   "source": [
    "dfreusecomplexity.dropna(how='any', inplace=True)"
   ]
  },
  {
   "cell_type": "code",
   "execution_count": 165,
   "metadata": {},
   "outputs": [
    {
     "output_type": "execute_result",
     "data": {
      "text/plain": "   complexity  size_complexity  concept_complexity  name_complexity  scenario  \\\n0    0.395995              0.0            0.187986          1.00000         0   \n1    0.389012              0.0            0.167035          1.00000         0   \n2    0.401254              0.0            0.203763          1.00000         0   \n3    0.395995              0.0            0.187986          1.00000         0   \n4    0.082639              0.0            0.166667          0.08125         1   \n\n   fileid   DW  APO  OPS  \n0       0  NaN  NaN  NaN  \n1       1  3.0  1.0  3.0  \n2       2  NaN  NaN  NaN  \n3       3  NaN  NaN  NaN  \n4      14  NaN  NaN  NaN  ",
      "text/html": "<div>\n<style scoped>\n    .dataframe tbody tr th:only-of-type {\n        vertical-align: middle;\n    }\n\n    .dataframe tbody tr th {\n        vertical-align: top;\n    }\n\n    .dataframe thead th {\n        text-align: right;\n    }\n</style>\n<table border=\"1\" class=\"dataframe\">\n  <thead>\n    <tr style=\"text-align: right;\">\n      <th></th>\n      <th>complexity</th>\n      <th>size_complexity</th>\n      <th>concept_complexity</th>\n      <th>name_complexity</th>\n      <th>scenario</th>\n      <th>fileid</th>\n      <th>DW</th>\n      <th>APO</th>\n      <th>OPS</th>\n    </tr>\n  </thead>\n  <tbody>\n    <tr>\n      <th>0</th>\n      <td>0.395995</td>\n      <td>0.0</td>\n      <td>0.187986</td>\n      <td>1.00000</td>\n      <td>0</td>\n      <td>0</td>\n      <td>NaN</td>\n      <td>NaN</td>\n      <td>NaN</td>\n    </tr>\n    <tr>\n      <th>1</th>\n      <td>0.389012</td>\n      <td>0.0</td>\n      <td>0.167035</td>\n      <td>1.00000</td>\n      <td>0</td>\n      <td>1</td>\n      <td>3.0</td>\n      <td>1.0</td>\n      <td>3.0</td>\n    </tr>\n    <tr>\n      <th>2</th>\n      <td>0.401254</td>\n      <td>0.0</td>\n      <td>0.203763</td>\n      <td>1.00000</td>\n      <td>0</td>\n      <td>2</td>\n      <td>NaN</td>\n      <td>NaN</td>\n      <td>NaN</td>\n    </tr>\n    <tr>\n      <th>3</th>\n      <td>0.395995</td>\n      <td>0.0</td>\n      <td>0.187986</td>\n      <td>1.00000</td>\n      <td>0</td>\n      <td>3</td>\n      <td>NaN</td>\n      <td>NaN</td>\n      <td>NaN</td>\n    </tr>\n    <tr>\n      <th>4</th>\n      <td>0.082639</td>\n      <td>0.0</td>\n      <td>0.166667</td>\n      <td>0.08125</td>\n      <td>1</td>\n      <td>14</td>\n      <td>NaN</td>\n      <td>NaN</td>\n      <td>NaN</td>\n    </tr>\n  </tbody>\n</table>\n</div>"
     },
     "metadata": {},
     "execution_count": 165
    }
   ],
   "source": [
    "wsdlresultdf = pd.merge(dfwsdl_xsdcomplexity, dfwsdl, how='outer', on=[\"scenario\", \"fileid\"])\n",
    "wsdlresultdf.head()"
   ]
  },
  {
   "cell_type": "code",
   "execution_count": 192,
   "metadata": {},
   "outputs": [
    {
     "output_type": "stream",
     "name": "stdout",
     "text": "\\begin{tabular}{lrrrrrr}\n\\toprule\n{} &  complexity &  size\\_complexity &  concept\\_complexity &  name\\_complexity &  scenario &  fileid \\\\\n\\midrule\n0 &    0.463260 &         0.981498 &            0.272727 &         0.135556 &         1 &      16 \\\\\n1 &    0.418045 &         0.994060 &            0.090909 &         0.169167 &         3 &      28 \\\\\n2 &    0.435673 &         0.949610 &            0.194444 &         0.162963 &         4 &      35 \\\\\n3 &    0.416243 &         0.999964 &            0.000000 &         0.248765 &         7 &      54 \\\\\n4 &    0.407157 &         0.999945 &            0.000000 &         0.221528 &         7 &      55 \\\\\n\\bottomrule\n\\end{tabular}\n\n\\begin{tabular}{lrrrrrr}\n\\toprule\n{} &  bricks &  sources &  size\\_complexity &  name\\_complexity &  scenario &  fileid \\\\\n\\midrule\n390 &   27110 &    27169 &              1.0 &         0.419333 &       254 &    2743 \\\\\n391 &   27110 &    27169 &              1.0 &         0.419333 &       254 &    2744 \\\\\n526 &   27110 &    27169 &              1.0 &         0.419333 &       343 &    3669 \\\\\n527 &   27110 &    27169 &              1.0 &         0.419333 &       343 &    3670 \\\\\n546 &   30756 &    30784 &              1.0 &         0.336667 &       351 &    3783 \\\\\n\\bottomrule\n\\end{tabular}\n\n\\begin{tabular}{lrrrrrrr}\n\\toprule\n{} &  complexity &  size\\_complexity &  concept\\_complexity &  name\\_complexity &  scenario &  fileid &     reuse \\\\\n\\midrule\n0 &    0.463260 &         0.981498 &            0.272727 &         0.135556 &         1 &      16 &  0.083333 \\\\\n1 &    0.418045 &         0.994060 &            0.090909 &         0.169167 &         3 &      28 &  0.076923 \\\\\n2 &    0.435673 &         0.949610 &            0.194444 &         0.162963 &         4 &      35 &  0.090909 \\\\\n3 &    0.416243 &         0.999964 &            0.000000 &         0.248765 &         7 &      54 &  0.040000 \\\\\n4 &    0.407157 &         0.999945 &            0.000000 &         0.221528 &         7 &      55 &  0.041667 \\\\\n\\bottomrule\n\\end{tabular}\n\n\\begin{tabular}{lrrrrrrrrrrrrrrrrr}\n\\toprule\n{} &  CoefficientOfNetworkComplexity\\_metric &  DurfeeSquare\\_metric &  GatewayHeterogenity\\_metric &  NOAC\\_metric &  NOAJS\\_metric &  NOA\\_metric &  NumberOfNodes\\_metric &  PerfectSquare\\_metric &  TNEE\\_metric &  TNE\\_metric &  TNSE\\_metric &  all\\_activities\\_count &  all\\_control\\_flow\\_elements\\_count &  all\\_events\\_count &  all\\_gateways\\_count &  scenario &  fileid \\\\\n\\midrule\n0 &                               1.000000 &                    3 &                           0 &            2 &             0 &           0 &                     2 &                     3 &            1 &           2 &            1 &                     0 &                                2 &                 2 &                   0 &         0 &       4 \\\\\n1 &                               0.700000 &                    2 &                           0 &            5 &             1 &           1 &                     5 &                     2 &            2 &           4 &            2 &                     1 &                                4 &                 4 &                   0 &         1 &      17 \\\\\n2 &                               0.875000 &                    2 &                           0 &            2 &             0 &           0 &                     2 &                     2 &            1 &           2 &            1 &                     0 &                                2 &                 2 &                   0 &         2 &      23 \\\\\n3 &                               0.769231 &                    4 &                           1 &           12 &             3 &           2 &                    12 &                     4 &            5 &           9 &            4 &                     2 &                               10 &                 9 &                   1 &         3 &      29 \\\\\n4 &                               0.750000 &                    2 &                           0 &            5 &             1 &           1 &                     5 &                     2 &            2 &           4 &            2 &                     1 &                                4 &                 4 &                   0 &         4 &      36 \\\\\n\\bottomrule\n\\end{tabular}\n\n\\begin{tabular}{lrrrrrrrrr}\n\\toprule\n{} &  complexity &  size\\_complexity &  concept\\_complexity &  name\\_complexity &  scenario &  fileid &   DW &  APO &  OPS \\\\\n\\midrule\n0 &    0.395995 &              0.0 &            0.187986 &          1.00000 &         0 &       0 &  NaN &  NaN &  NaN \\\\\n1 &    0.389012 &              0.0 &            0.167035 &          1.00000 &         0 &       1 &  3.0 &  1.0 &  3.0 \\\\\n2 &    0.401254 &              0.0 &            0.203763 &          1.00000 &         0 &       2 &  NaN &  NaN &  NaN \\\\\n3 &    0.395995 &              0.0 &            0.187986 &          1.00000 &         0 &       3 &  NaN &  NaN &  NaN \\\\\n4 &    0.082639 &              0.0 &            0.166667 &          0.08125 &         1 &      14 &  NaN &  NaN &  NaN \\\\\n\\bottomrule\n\\end{tabular}\n\n\\begin{tabular}{lrrrrrrrrrrrrr}\n\\toprule\n{} &  abcscore &  comments &  cycloscore &  defines &  imports &  linecount &  linesofcode &  nestedscore &  paramscore &  singlelinecomments &  whitelines &  scenario &  fileid \\\\\n\\midrule\n0 &       0.0 &      17.0 &           0 &      3.0 &      2.0 &       40.0 &          9.0 &            0 &           0 &                 2.0 &        12.0 &         0 &       6 \\\\\n1 &       0.0 &      16.0 &           0 &      3.0 &      2.0 &       30.0 &          9.0 &            0 &           0 &                 1.0 &         4.0 &         0 &       7 \\\\\n2 &       0.0 &       0.0 &           0 &     13.0 &      1.0 &       85.0 &         66.0 &            0 &           0 &                 5.0 &        14.0 &         0 &       8 \\\\\n3 &       0.0 &      13.0 &           0 &      3.0 &      2.0 &       29.0 &         12.0 &            0 &           0 &                 2.0 &         2.0 &         0 &       9 \\\\\n4 &       0.0 &       0.0 &           0 &      3.0 &      3.0 &       13.0 &          8.0 &            0 &           0 &                 1.0 &         4.0 &         0 &      10 \\\\\n\\bottomrule\n\\end{tabular}\n\n"
    }
   ],
   "source": [
    "for d in listofdfs:\n",
    "    print(d.head(5).to_latex())"
   ]
  },
  {
   "cell_type": "code",
   "execution_count": 193,
   "metadata": {},
   "outputs": [
    {
     "output_type": "execute_result",
     "data": {
      "text/plain": "   CoefficientOfNetworkComplexity_metric  DurfeeSquare_metric  \\\n0                               1.000000                    3   \n1                               0.700000                    2   \n2                               0.875000                    2   \n3                               0.769231                    4   \n4                               0.750000                    2   \n5                               0.900000                    2   \n6                               0.923077                    2   \n7                               0.857143                    2   \n8                               0.933333                    3   \n9                               0.904762                    3   \n\n   GatewayHeterogenity_metric  NOAC_metric  NOAJS_metric  NOA_metric  \\\n0                           0            2             0           0   \n1                           0            5             1           1   \n2                           0            2             0           0   \n3                           1           12             3           2   \n4                           0            5             1           1   \n5                           0            2             0           0   \n6                           1            4             1           0   \n7                           0            2             0           0   \n8                           0            2             0           0   \n9                           0            4             0           0   \n\n   NumberOfNodes_metric  PerfectSquare_metric  TNEE_metric  TNE_metric  \\\n0                     2                     3            1           2   \n1                     5                     2            2           4   \n2                     2                     2            1           2   \n3                    12                     4            5           9   \n4                     5                     2            2           4   \n5                     2                     3            1           2   \n6                     4                     3            2           3   \n7                     2                     2            1           2   \n8                     2                     3            1           2   \n9                     4                     4            2           4   \n\n   TNSE_metric  all_activities_count  all_control_flow_elements_count  \\\n0            1                     0                                2   \n1            2                     1                                4   \n2            1                     0                                2   \n3            4                     2                               10   \n4            2                     1                                4   \n5            1                     0                                2   \n6            1                     0                                4   \n7            1                     0                                2   \n8            1                     0                                2   \n9            2                     0                                4   \n\n   all_events_count  all_gateways_count  scenario  fileid  \n0                 2                   0         0       4  \n1                 4                   0         1      17  \n2                 2                   0         2      23  \n3                 9                   1         3      29  \n4                 4                   0         4      36  \n5                 2                   0         5      45  \n6                 3                   1         6      52  \n7                 2                   0         7      56  \n8                 2                   0         8      60  \n9                 4                   0         9      64  ",
      "text/html": "<div>\n<style scoped>\n    .dataframe tbody tr th:only-of-type {\n        vertical-align: middle;\n    }\n\n    .dataframe tbody tr th {\n        vertical-align: top;\n    }\n\n    .dataframe thead th {\n        text-align: right;\n    }\n</style>\n<table border=\"1\" class=\"dataframe\">\n  <thead>\n    <tr style=\"text-align: right;\">\n      <th></th>\n      <th>CoefficientOfNetworkComplexity_metric</th>\n      <th>DurfeeSquare_metric</th>\n      <th>GatewayHeterogenity_metric</th>\n      <th>NOAC_metric</th>\n      <th>NOAJS_metric</th>\n      <th>NOA_metric</th>\n      <th>NumberOfNodes_metric</th>\n      <th>PerfectSquare_metric</th>\n      <th>TNEE_metric</th>\n      <th>TNE_metric</th>\n      <th>TNSE_metric</th>\n      <th>all_activities_count</th>\n      <th>all_control_flow_elements_count</th>\n      <th>all_events_count</th>\n      <th>all_gateways_count</th>\n      <th>scenario</th>\n      <th>fileid</th>\n    </tr>\n  </thead>\n  <tbody>\n    <tr>\n      <th>0</th>\n      <td>1.000000</td>\n      <td>3</td>\n      <td>0</td>\n      <td>2</td>\n      <td>0</td>\n      <td>0</td>\n      <td>2</td>\n      <td>3</td>\n      <td>1</td>\n      <td>2</td>\n      <td>1</td>\n      <td>0</td>\n      <td>2</td>\n      <td>2</td>\n      <td>0</td>\n      <td>0</td>\n      <td>4</td>\n    </tr>\n    <tr>\n      <th>1</th>\n      <td>0.700000</td>\n      <td>2</td>\n      <td>0</td>\n      <td>5</td>\n      <td>1</td>\n      <td>1</td>\n      <td>5</td>\n      <td>2</td>\n      <td>2</td>\n      <td>4</td>\n      <td>2</td>\n      <td>1</td>\n      <td>4</td>\n      <td>4</td>\n      <td>0</td>\n      <td>1</td>\n      <td>17</td>\n    </tr>\n    <tr>\n      <th>2</th>\n      <td>0.875000</td>\n      <td>2</td>\n      <td>0</td>\n      <td>2</td>\n      <td>0</td>\n      <td>0</td>\n      <td>2</td>\n      <td>2</td>\n      <td>1</td>\n      <td>2</td>\n      <td>1</td>\n      <td>0</td>\n      <td>2</td>\n      <td>2</td>\n      <td>0</td>\n      <td>2</td>\n      <td>23</td>\n    </tr>\n    <tr>\n      <th>3</th>\n      <td>0.769231</td>\n      <td>4</td>\n      <td>1</td>\n      <td>12</td>\n      <td>3</td>\n      <td>2</td>\n      <td>12</td>\n      <td>4</td>\n      <td>5</td>\n      <td>9</td>\n      <td>4</td>\n      <td>2</td>\n      <td>10</td>\n      <td>9</td>\n      <td>1</td>\n      <td>3</td>\n      <td>29</td>\n    </tr>\n    <tr>\n      <th>4</th>\n      <td>0.750000</td>\n      <td>2</td>\n      <td>0</td>\n      <td>5</td>\n      <td>1</td>\n      <td>1</td>\n      <td>5</td>\n      <td>2</td>\n      <td>2</td>\n      <td>4</td>\n      <td>2</td>\n      <td>1</td>\n      <td>4</td>\n      <td>4</td>\n      <td>0</td>\n      <td>4</td>\n      <td>36</td>\n    </tr>\n    <tr>\n      <th>5</th>\n      <td>0.900000</td>\n      <td>2</td>\n      <td>0</td>\n      <td>2</td>\n      <td>0</td>\n      <td>0</td>\n      <td>2</td>\n      <td>3</td>\n      <td>1</td>\n      <td>2</td>\n      <td>1</td>\n      <td>0</td>\n      <td>2</td>\n      <td>2</td>\n      <td>0</td>\n      <td>5</td>\n      <td>45</td>\n    </tr>\n    <tr>\n      <th>6</th>\n      <td>0.923077</td>\n      <td>2</td>\n      <td>1</td>\n      <td>4</td>\n      <td>1</td>\n      <td>0</td>\n      <td>4</td>\n      <td>3</td>\n      <td>2</td>\n      <td>3</td>\n      <td>1</td>\n      <td>0</td>\n      <td>4</td>\n      <td>3</td>\n      <td>1</td>\n      <td>6</td>\n      <td>52</td>\n    </tr>\n    <tr>\n      <th>7</th>\n      <td>0.857143</td>\n      <td>2</td>\n      <td>0</td>\n      <td>2</td>\n      <td>0</td>\n      <td>0</td>\n      <td>2</td>\n      <td>2</td>\n      <td>1</td>\n      <td>2</td>\n      <td>1</td>\n      <td>0</td>\n      <td>2</td>\n      <td>2</td>\n      <td>0</td>\n      <td>7</td>\n      <td>56</td>\n    </tr>\n    <tr>\n      <th>8</th>\n      <td>0.933333</td>\n      <td>3</td>\n      <td>0</td>\n      <td>2</td>\n      <td>0</td>\n      <td>0</td>\n      <td>2</td>\n      <td>3</td>\n      <td>1</td>\n      <td>2</td>\n      <td>1</td>\n      <td>0</td>\n      <td>2</td>\n      <td>2</td>\n      <td>0</td>\n      <td>8</td>\n      <td>60</td>\n    </tr>\n    <tr>\n      <th>9</th>\n      <td>0.904762</td>\n      <td>3</td>\n      <td>0</td>\n      <td>4</td>\n      <td>0</td>\n      <td>0</td>\n      <td>4</td>\n      <td>4</td>\n      <td>2</td>\n      <td>4</td>\n      <td>2</td>\n      <td>0</td>\n      <td>4</td>\n      <td>4</td>\n      <td>0</td>\n      <td>9</td>\n      <td>64</td>\n    </tr>\n  </tbody>\n</table>\n</div>"
     },
     "metadata": {},
     "execution_count": 193
    }
   ],
   "source": [
    "dfbpmn_complexity.head(10)"
   ]
  },
  {
   "cell_type": "code",
   "execution_count": 175,
   "metadata": {},
   "outputs": [
    {
     "output_type": "execute_result",
     "data": {
      "text/plain": "   complexity  size_complexity  concept_complexity  name_complexity  scenario  \\\n0    0.395995              0.0            0.187986          1.00000         0   \n1    0.389012              0.0            0.167035          1.00000         0   \n2    0.401254              0.0            0.203763          1.00000         0   \n3    0.395995              0.0            0.187986          1.00000         0   \n4    0.082639              0.0            0.166667          0.08125         1   \n\n   fileid        DW  APO    OPS  \n0       0       NaN  NaN    NaN  \n1       1  0.016575  1.0  0.016  \n2       2       NaN  NaN    NaN  \n3       3       NaN  NaN    NaN  \n4      14       NaN  NaN    NaN  ",
      "text/html": "<div>\n<style scoped>\n    .dataframe tbody tr th:only-of-type {\n        vertical-align: middle;\n    }\n\n    .dataframe tbody tr th {\n        vertical-align: top;\n    }\n\n    .dataframe thead th {\n        text-align: right;\n    }\n</style>\n<table border=\"1\" class=\"dataframe\">\n  <thead>\n    <tr style=\"text-align: right;\">\n      <th></th>\n      <th>complexity</th>\n      <th>size_complexity</th>\n      <th>concept_complexity</th>\n      <th>name_complexity</th>\n      <th>scenario</th>\n      <th>fileid</th>\n      <th>DW</th>\n      <th>APO</th>\n      <th>OPS</th>\n    </tr>\n  </thead>\n  <tbody>\n    <tr>\n      <th>0</th>\n      <td>0.395995</td>\n      <td>0.0</td>\n      <td>0.187986</td>\n      <td>1.00000</td>\n      <td>0</td>\n      <td>0</td>\n      <td>NaN</td>\n      <td>NaN</td>\n      <td>NaN</td>\n    </tr>\n    <tr>\n      <th>1</th>\n      <td>0.389012</td>\n      <td>0.0</td>\n      <td>0.167035</td>\n      <td>1.00000</td>\n      <td>0</td>\n      <td>1</td>\n      <td>0.016575</td>\n      <td>1.0</td>\n      <td>0.016</td>\n    </tr>\n    <tr>\n      <th>2</th>\n      <td>0.401254</td>\n      <td>0.0</td>\n      <td>0.203763</td>\n      <td>1.00000</td>\n      <td>0</td>\n      <td>2</td>\n      <td>NaN</td>\n      <td>NaN</td>\n      <td>NaN</td>\n    </tr>\n    <tr>\n      <th>3</th>\n      <td>0.395995</td>\n      <td>0.0</td>\n      <td>0.187986</td>\n      <td>1.00000</td>\n      <td>0</td>\n      <td>3</td>\n      <td>NaN</td>\n      <td>NaN</td>\n      <td>NaN</td>\n    </tr>\n    <tr>\n      <th>4</th>\n      <td>0.082639</td>\n      <td>0.0</td>\n      <td>0.166667</td>\n      <td>0.08125</td>\n      <td>1</td>\n      <td>14</td>\n      <td>NaN</td>\n      <td>NaN</td>\n      <td>NaN</td>\n    </tr>\n  </tbody>\n</table>\n</div>"
     },
     "metadata": {},
     "execution_count": 175
    }
   ],
   "source": [
    "normalizeddfs = []\n",
    "listofdfs = [dfcomplexity_xsd, dfmmap, dfreusecomplexity, dfbpmn_complexity, wsdlresultdf, dfgroovymetrics]\n",
    "counter = 0\n",
    "for df in listofdfs:\n",
    "    result = df.copy()\n",
    "    for feature_name in df.columns:\n",
    "        if feature_name == \"scenario\" or feature_name == \"fileid\":\n",
    "            continue\n",
    "        max_value = df[feature_name].max()\n",
    "        min_value = df[feature_name].min()\n",
    "        if max_value > 1 or min_value < 0:\n",
    "            result[feature_name] = (df[feature_name] - min_value) / (max_value - min_value)\n",
    "    \n",
    "    normalizeddfs.append(result)\n",
    "\n",
    "normalizeddfs[4].head()"
   ]
  },
  {
   "cell_type": "code",
   "execution_count": 170,
   "metadata": {},
   "outputs": [],
   "source": [
    "dfcomplexity_xsd_copy = normalizeddfs[0]\n",
    "dfcomplexity_xsd_copy.drop(columns=[\"size_complexity\", \"concept_complexity\", \"name_complexity\"], inplace=True)\n",
    "\n",
    "\n",
    "dfmmap_copy = normalizeddfs[1]\n",
    "dfmmap_copy['mmap_complexity'] = dfmmap_copy[[\"bricks\", \"sources\", \"size_complexity\", \"name_complexity\"]].mean(axis=1)\n",
    "dfmmap_copy.drop(columns=[\"bricks\", \"sources\", \"size_complexity\", \"name_complexity\"], inplace=True)\n",
    "# dfmmap_copy.head()\n",
    "\n",
    "dfreusecomplexity_copy = normalizeddfs[2]\n",
    "dfreusecomplexity_copy['reuse_complexity'] = dfreusecomplexity_copy[[\"size_complexity\", \"size_complexity\", \"size_complexity\", \"reuse\"]].mean(axis=1)\n",
    "dfreusecomplexity_copy.drop(columns=[\"complexity\", \"size_complexity\", \"concept_complexity\", \"name_complexity\", \"reuse\"], inplace=True)\n",
    "# dfreusecomplexity_copy.head()\n",
    "\n",
    "dfbpmn_complexity_copy = normalizeddfs[3]\n",
    "dfbpmn_complexity_copy_cols = dfbpmn_complexity_copy.columns\n",
    "dfbpmn_complexity_copy['bpmn_complexity'] = dfbpmn_complexity_copy[dfbpmn_complexity_copy_cols[:-2]].mean(axis=1)\n",
    "dfbpmn_complexity_copy.drop(columns=dfbpmn_complexity_copy_cols[:-2], inplace=True)\n",
    "# dfbpmn_complexity_copy.head()\n",
    "\n",
    "wsdlresultdf_copy = normalizeddfs[4]\n",
    "wsdlresultdf_copy['wsdl_complexity'] = wsdlresultdf_copy[[\"size_complexity\", \"concept_complexity\", \"name_complexity\",\"DW\", \"APO\", \"OPS\"]].mean(axis=1)\n",
    "wsdlresultdf_copy.drop(columns=[\"complexity\",\"size_complexity\", \"concept_complexity\", \"name_complexity\",\"DW\", \"APO\", \"OPS\"], inplace=True)\n",
    "# dfwsdl_xsdcomplexity_copy.head()\n",
    "\n",
    "\n",
    "dfgroovymetrics_copy = normalizeddfs[5]\n",
    "dfgroovymetrics_copy_columns = dfgroovymetrics_copy.columns\n",
    "dfgroovymetrics_copy['groovy_complexity'] = dfgroovymetrics_copy[dfgroovymetrics_copy_columns[:-2]].mean(axis=1)\n",
    "dfgroovymetrics_copy.drop(columns=dfgroovymetrics_copy_columns[:-2], inplace=True)\n",
    "# dfgroovymetrics_copy.head()"
   ]
  },
  {
   "cell_type": "code",
   "execution_count": 173,
   "metadata": {},
   "outputs": [
    {
     "output_type": "execute_result",
     "data": {
      "text/plain": "   complexity  scenario  fileid  mmap_complexity  reuse_complexity  \\\n0    0.463260         1      16              NaN          0.756957   \n1    0.418045         3      28              NaN          0.764776   \n2    0.435673         4      35              NaN          0.734935   \n3    0.416243         7      54              NaN          0.759973   \n4    0.407157         7      55              NaN          0.760375   \n\n   bpmn_complexity  wsdl_complexity  groovy_complexity  \n0              NaN              NaN                NaN  \n1              NaN              NaN                NaN  \n2              NaN              NaN                NaN  \n3              NaN              NaN                NaN  \n4              NaN              NaN                NaN  ",
      "text/html": "<div>\n<style scoped>\n    .dataframe tbody tr th:only-of-type {\n        vertical-align: middle;\n    }\n\n    .dataframe tbody tr th {\n        vertical-align: top;\n    }\n\n    .dataframe thead th {\n        text-align: right;\n    }\n</style>\n<table border=\"1\" class=\"dataframe\">\n  <thead>\n    <tr style=\"text-align: right;\">\n      <th></th>\n      <th>complexity</th>\n      <th>scenario</th>\n      <th>fileid</th>\n      <th>mmap_complexity</th>\n      <th>reuse_complexity</th>\n      <th>bpmn_complexity</th>\n      <th>wsdl_complexity</th>\n      <th>groovy_complexity</th>\n    </tr>\n  </thead>\n  <tbody>\n    <tr>\n      <th>0</th>\n      <td>0.463260</td>\n      <td>1</td>\n      <td>16</td>\n      <td>NaN</td>\n      <td>0.756957</td>\n      <td>NaN</td>\n      <td>NaN</td>\n      <td>NaN</td>\n    </tr>\n    <tr>\n      <th>1</th>\n      <td>0.418045</td>\n      <td>3</td>\n      <td>28</td>\n      <td>NaN</td>\n      <td>0.764776</td>\n      <td>NaN</td>\n      <td>NaN</td>\n      <td>NaN</td>\n    </tr>\n    <tr>\n      <th>2</th>\n      <td>0.435673</td>\n      <td>4</td>\n      <td>35</td>\n      <td>NaN</td>\n      <td>0.734935</td>\n      <td>NaN</td>\n      <td>NaN</td>\n      <td>NaN</td>\n    </tr>\n    <tr>\n      <th>3</th>\n      <td>0.416243</td>\n      <td>7</td>\n      <td>54</td>\n      <td>NaN</td>\n      <td>0.759973</td>\n      <td>NaN</td>\n      <td>NaN</td>\n      <td>NaN</td>\n    </tr>\n    <tr>\n      <th>4</th>\n      <td>0.407157</td>\n      <td>7</td>\n      <td>55</td>\n      <td>NaN</td>\n      <td>0.760375</td>\n      <td>NaN</td>\n      <td>NaN</td>\n      <td>NaN</td>\n    </tr>\n  </tbody>\n</table>\n</div>"
     },
     "metadata": {},
     "execution_count": 173
    }
   ],
   "source": [
    "complexityresultdf = pd.merge(dfcomplexity_xsd_copy, dfmmap_copy, how='outer', on=[\"scenario\", \"fileid\"])\n",
    "complexityresultdf = pd.merge(complexityresultdf, dfreusecomplexity_copy, how='outer', on=[\"scenario\", \"fileid\"])\n",
    "complexityresultdf = pd.merge(complexityresultdf, dfbpmn_complexity_copy, how='outer', on=[\"scenario\", \"fileid\"])\n",
    "complexityresultdf = pd.merge(complexityresultdf, wsdlresultdf_copy, how='outer', on=[\"scenario\", \"fileid\"])\n",
    "complexityresultdf = pd.merge(complexityresultdf, dfgroovymetrics_copy, how='outer', on=[\"scenario\", \"fileid\"])\n",
    "complexityresultdf.head()"
   ]
  },
  {
   "cell_type": "code",
   "execution_count": 184,
   "metadata": {},
   "outputs": [],
   "source": []
  },
  {
   "cell_type": "code",
   "execution_count": 191,
   "metadata": {
    "tags": [
     "outputPrepend"
    ]
   },
   "outputs": [
    {
     "output_type": "stream",
     "name": "stdout",
     "text": "\\begin{tabular}{lrrrrrrr}\n\\toprule\n{} &  complexity &  mmap\\_complexity &  reuse\\_complexity &  bpmn\\_complexity &  wsdl\\_complexity &  groovy\\_complexity &  scenario\\_complexity \\\\\nscenario &             &                  &                   &                  &                  &                    &                      \\\\\n\\midrule\n1        &    0.463260 &         0.019815 &          0.756957 &         0.082817 &         0.071875 &           0.088134 &             0.247143 \\\\\n3        &    0.418045 &         0.066669 &          0.764776 &         0.233042 &         0.061640 &           0.046251 &             0.265070 \\\\\n10       &    0.252942 &         0.016404 &          0.603493 &         0.059416 &         0.245678 &           0.046355 &             0.204048 \\\\\n11       &    0.693182 &         0.019947 &          0.751295 &         0.198318 &         0.369012 &           0.067260 &             0.349836 \\\\\n13       &    0.379082 &         0.022146 &          0.760372 &         0.057983 &         0.198161 &           0.085743 &             0.250581 \\\\\n16       &    0.345866 &         0.119594 &          0.742782 &         0.072524 &         0.036532 &           0.102933 &             0.236705 \\\\\n19       &    0.443704 &         0.069797 &          0.756668 &         0.482672 &         0.399669 &           0.061099 &             0.368935 \\\\\n22       &    0.387324 &         0.004550 &          0.764309 &         0.060492 &         0.166361 &           0.046355 &             0.238232 \\\\\n25       &    0.413575 &         0.029131 &          0.759247 &         0.206137 &         0.329144 &           0.088134 &             0.304228 \\\\\n30       &    0.558595 &         0.291100 &          0.756213 &         0.251445 &         0.245862 &           0.077287 &             0.363417 \\\\\n\\bottomrule\n\\end{tabular}\n\n"
    }
   ],
   "source": [
    "# complexityresultdf['scenario'] = complexityresultdf['scenario'].apply(scenarioid_to_scenario)\n",
    "df_new = complexityresultdf.groupby(complexityresultdf['scenario']).mean()\n",
    "df_new.drop(columns=[\"fileid\"], inplace=True)\n",
    "df_new_cols = df_new.columns\n",
    "# df_new_cols = list(df_new_cols).remove('scenario')\n",
    "df_new['scenario_complexity'] = df_new[df_new_cols].mean(axis=1)\n",
    "df_new = df_new.dropna(how=\"any\")\n",
    "# df_new.sort_values('scenario_complexity', inplace=True, ascending=False)\n",
    "# df_new.head(20)\n",
    "# df_new.to_excel(\"complexity_results.xlsx\")\n",
    "print(df_new.head(10).to_latex())"
   ]
  },
  {
   "cell_type": "markdown",
   "metadata": {},
   "source": [
    "# Clustering"
   ]
  },
  {
   "cell_type": "markdown",
   "metadata": {},
   "source": [
    "## Cluster Ensemble method"
   ]
  },
  {
   "cell_type": "code",
   "execution_count": 30,
   "metadata": {},
   "outputs": [],
   "source": [
    "N_ENSEMBLES = 50\n",
    "N_CLUSTERS = 6"
   ]
  },
  {
   "cell_type": "code",
   "execution_count": 31,
   "metadata": {},
   "outputs": [],
   "source": [
    "def create_random_projection(data, n_components, rng = None):\n",
    "    if rng == None:\n",
    "        rng = np.random.RandomState(42)\n",
    "    transformer = GaussianRandomProjection(n_components=n_components, random_state = rng)\n",
    "    X_new = transformer.fit_transform(data)\n",
    "    return X_new\n",
    "\n",
    "def create_clusters(list_of_projections, n_clusters):\n",
    "    list_of_clusterings = []\n",
    "    for proj in list_of_projections:\n",
    "        kmeans = KMeans(n_clusters=n_clusters).fit(proj)\n",
    "        list_of_clusterings.append(kmeans.labels_)\n",
    "    return list_of_clusterings\n",
    "\n",
    "def create_metaclusters(list_of_clusterings, n_clusters):\n",
    "    metaclusters = []\n",
    "    for index, clustering in enumerate(list_of_clusterings):\n",
    "        new_clustering = [str(cluster + n_clusters*index) for cluster in clustering]\n",
    "        metaclusters.append(new_clustering)\n",
    "    return metaclusters\n",
    "\n",
    "\n",
    "def create_bipartite_graph(metaclusters):\n",
    "    B = nx.Graph()\n",
    "    # Add cluster nodes and instance nodes\n",
    "    B.add_nodes_from(set(chain(*metaclusters)), bipartite=0)  # Cluster nodes\n",
    "    B.add_nodes_from(range(len(metaclusters[0])), bipartite=1)  # Instance nodes\n",
    "    # Add edges\n",
    "    B.add_edges_from([(clust, instance) for cl in metaclusters for instance, clust in enumerate(cl)])\n",
    "    return B\n",
    "\n",
    "def k_largest_eigenvectors(eigenvals, eigenvecs, k):\n",
    "    largest_vecs = np.array([eigenvecs[:,index] for index in np.argsort(eigenvals)[:k]])\n",
    "    return largest_vecs\n",
    "\n",
    "def normalize_rows(matrix):\n",
    "    return [matrix[:,i]/np.linalg.norm(matrix[:,i]) for i in range(len(matrix[0]))]\n",
    "\n",
    "def ensemble_clustering(data, n_clusters, n_ensembles):\n",
    "    random_projections = [create_random_projection(data, 2, i) for i in range(n_ensembles)]\n",
    "    clustering = create_clusters(random_projections, n_clusters)\n",
    "    metaclusters = create_metaclusters(clustering, n_clusters)\n",
    "\n",
    "    B = create_bipartite_graph(metaclusters)\n",
    "    NLM = nx.normalized_laplacian_matrix(B)\n",
    "    eigenvals, eigenvecs = linalg.eigs(NLM)\n",
    "    eigenvals = np.real(eigenvals)\n",
    "    eigenvecs = np.real(eigenvecs)\n",
    "    KLEV = k_largest_eigenvectors(eigenvals, eigenvecs, n_clusters)\n",
    "    normalized_rows = normalize_rows(KLEV)\n",
    "\n",
    "    kmeans = KMeans(n_clusters=n_clusters).fit(normalized_rows[n_clusters*n_ensembles:])\n",
    "    results = kmeans.labels_\n",
    "    \n",
    "    return results\n",
    "\n",
    "def range_of_clusters(data, min_clusters, max_clusters, n_ensembles, debug=True):\n",
    "    cluster_evaluation_metrics = {   'silhouette_score': silhouette_score,\n",
    "                                     'davies_bouldin_score': davies_bouldin_score,\n",
    "                                     'calinski_harabasz_score': calinski_harabasz_score,\n",
    "                                 }\n",
    "\n",
    "    n_clusters = range(min_clusters,max_clusters)\n",
    "    \n",
    "    pbar = tqdm(total=len(n_clusters), leave=False)\n",
    "    pbar.set_description(desc='Processing dataframe', refresh=True)\n",
    "    \n",
    "    scores ={'silhouette_score': [],\n",
    "             'davies_bouldin_score': [],\n",
    "              'calinski_harabasz_score': [],\n",
    "             }\n",
    "    \n",
    "    silhouette_scores = []\n",
    "    davies_bouldin_scores = []\n",
    "    calinski_harabasz_scores = []\n",
    "    \n",
    "    for c in n_clusters:\n",
    "        if debug:\n",
    "            print('number of clusters: {}'.format(c))\n",
    "#         results = create_clusters(data, c, n_ensembles)\n",
    "        \n",
    "        random_projections = [create_random_projection(data, 2, i) for i in range(n_ensembles)]\n",
    "        clustering = create_clusters(random_projections, c)\n",
    "        metaclusters = create_metaclusters(clustering, c)\n",
    "        \n",
    "        B = create_bipartite_graph(metaclusters)\n",
    "        NLM = nx.normalized_laplacian_matrix(B)\n",
    "        eigenvals, eigenvecs = linalg.eigs(NLM)\n",
    "        eigenvals = np.real(eigenvals)\n",
    "        eigenvecs = np.real(eigenvecs)\n",
    "        KLEV = k_largest_eigenvectors(eigenvals, eigenvecs, c)\n",
    "        normalized_rows = normalize_rows(KLEV)\n",
    "        \n",
    "        kmeans = KMeans(n_clusters=c).fit(normalized_rows)\n",
    "        results = kmeans.labels_[c*n_ensembles:]\n",
    "        \n",
    "        for name, method in cluster_evaluation_metrics.items():\n",
    "            res = method(np.array(data), results)\n",
    "            if debug: \n",
    "                print('   {} score: {}'.format(name,res))\n",
    "            scores[name].append(res)\n",
    "        pbar.update(1)\n",
    "    pbar.close()\n",
    "    return scores\n",
    "\n",
    "def plot_scores(scores, size=7, name=\"test\"):\n",
    "    fig, (ax1, ax2, ax3) = plt.subplots(3, gridspec_kw={'hspace': 0.7})\n",
    "    x = np.linspace(2,size,size-2)\n",
    "    ax1.plot(range(2,size),scores['silhouette_score'])\n",
    "    ax2.plot(range(2,size),scores['davies_bouldin_score'])\n",
    "    ax3.plot(range(2,size),scores['calinski_harabasz_score'])\n",
    "\n",
    "    ax1.set_xticks(range(2,size))\n",
    "    ax2.set_xticks(range(2,size))\n",
    "    ax3.set_xticks(range(2,size))\n",
    "    \n",
    "    ax1.set_title('silhouette_score')\n",
    "    ax2.set_title('davies_bouldin_score')\n",
    "    ax3.set_title('calinski_harabasz_score')\n",
    "    \n",
    "#     ax1.set_ylim([0,1])\n",
    "    \n",
    "    fig.suptitle(name, fontsize=14)\n",
    "    plt.show();\n",
    "    return fig"
   ]
  },
  {
   "cell_type": "code",
   "execution_count": 32,
   "metadata": {},
   "outputs": [],
   "source": [
    "datasets = {\n",
    "    #\"XSD\":dfcomplexity_xsd,\n",
    "            \"Mapping\":dfmmap,\n",
    "            \"ComplexityReuse\":dfreusecomplexity,\n",
    "            \"iFlow\":dfbpmn_complexity,\n",
    "            \"WSDL-xsd\":dfwsdl_xsdcomplexity,\n",
    "            \"WSDL\":dfwsdl,\n",
    "            \"Property\":dfpropdef,\n",
    "            \"Groovy\":dfgroovymetrics\n",
    "           }"
   ]
  },
  {
   "cell_type": "code",
   "execution_count": 174,
   "metadata": {},
   "outputs": [
    {
     "data": {
      "application/vnd.jupyter.widget-view+json": {
       "model_id": "",
       "version_major": 2,
       "version_minor": 0
      },
      "text/plain": [
       "HBox(children=(IntProgress(value=0, max=7), HTML(value='')))"
      ]
     },
     "metadata": {},
     "output_type": "display_data"
    },
    {
     "data": {
      "application/vnd.jupyter.widget-view+json": {
       "model_id": "",
       "version_major": 2,
       "version_minor": 0
      },
      "text/plain": [
       "HBox(children=(IntProgress(value=0, max=23), HTML(value='')))"
      ]
     },
     "metadata": {},
     "output_type": "display_data"
    },
    {
     "data": {
      "application/vnd.jupyter.widget-view+json": {
       "model_id": "",
       "version_major": 2,
       "version_minor": 0
      },
      "text/plain": [
       "HBox(children=(IntProgress(value=0, max=23), HTML(value='')))"
      ]
     },
     "metadata": {},
     "output_type": "display_data"
    },
    {
     "data": {
      "application/vnd.jupyter.widget-view+json": {
       "model_id": "",
       "version_major": 2,
       "version_minor": 0
      },
      "text/plain": [
       "HBox(children=(IntProgress(value=0, max=23), HTML(value='')))"
      ]
     },
     "metadata": {},
     "output_type": "display_data"
    },
    {
     "data": {
      "application/vnd.jupyter.widget-view+json": {
       "model_id": "",
       "version_major": 2,
       "version_minor": 0
      },
      "text/plain": [
       "HBox(children=(IntProgress(value=0, max=23), HTML(value='')))"
      ]
     },
     "metadata": {},
     "output_type": "display_data"
    },
    {
     "data": {
      "application/vnd.jupyter.widget-view+json": {
       "model_id": "",
       "version_major": 2,
       "version_minor": 0
      },
      "text/plain": [
       "HBox(children=(IntProgress(value=0, max=23), HTML(value='')))"
      ]
     },
     "metadata": {},
     "output_type": "display_data"
    },
    {
     "name": "stderr",
     "output_type": "stream",
     "text": [
      "/Users/max/anaconda3/lib/python3.7/site-packages/ipykernel_launcher.py:94: ConvergenceWarning:\n",
      "\n",
      "Number of distinct clusters (17) found smaller than n_clusters (18). Possibly due to duplicate points in X.\n",
      "\n",
      "/Users/max/anaconda3/lib/python3.7/site-packages/ipykernel_launcher.py:94: ConvergenceWarning:\n",
      "\n",
      "Number of distinct clusters (22) found smaller than n_clusters (24). Possibly due to duplicate points in X.\n",
      "\n"
     ]
    },
    {
     "data": {
      "application/vnd.jupyter.widget-view+json": {
       "model_id": "",
       "version_major": 2,
       "version_minor": 0
      },
      "text/plain": [
       "HBox(children=(IntProgress(value=0, max=23), HTML(value='')))"
      ]
     },
     "metadata": {},
     "output_type": "display_data"
    },
    {
     "data": {
      "application/vnd.jupyter.widget-view+json": {
       "model_id": "",
       "version_major": 2,
       "version_minor": 0
      },
      "text/plain": [
       "HBox(children=(IntProgress(value=0, max=23), HTML(value='')))"
      ]
     },
     "metadata": {},
     "output_type": "display_data"
    }
   ],
   "source": [
    "DEBUG = False\n",
    "\n",
    "clusterrange = 25\n",
    "\n",
    "datasetscores = []\n",
    "pbar = tqdm(total=len(datasets.items()), leave=False)\n",
    "pbar.set_description(desc='Processing all dataframes', refresh=True)\n",
    "for name, df in datasets.items():\n",
    "    if DEBUG:\n",
    "        print('dataset: {}'.format(name))\n",
    "    localdf = df.drop(columns=['scenario','fileid'])\n",
    "    res = range_of_clusters(localdf, 2, clusterrange, 50, DEBUG)\n",
    "    datasetscores.append((name, res))\n",
    "    pbar.update(1)\n",
    "pbar.close()"
   ]
  },
  {
   "cell_type": "code",
   "execution_count": 33,
   "metadata": {},
   "outputs": [],
   "source": [
    "from scipy import stats"
   ]
  },
  {
   "cell_type": "code",
   "execution_count": 38,
   "metadata": {},
   "outputs": [],
   "source": [
    "localx = dfgroovymetrics.describe()"
   ]
  },
  {
   "cell_type": "code",
   "execution_count": 35,
   "metadata": {},
   "outputs": [
    {
     "output_type": "stream",
     "name": "stdout",
     "text": "\\begin{tabular}{lrrrrrr}\n\\toprule\n{} &        bricks &       sources &  size\\_complexity &  name\\_complexity &    scenario &       fileid \\\\\n\\midrule\ncount &    726.000000 &    726.000000 &       726.000000 &       726.000000 &  726.000000 &   726.000000 \\\\\nmean  &    663.571625 &    673.435262 &         0.189785 &         0.262346 &  234.315427 &  2500.685950 \\\\\nstd   &   3387.305816 &   3359.790633 &         0.267399 &         0.337922 &  129.790828 &  1375.455906 \\\\\nmin   &      0.000000 &      0.000000 &         0.016954 &         0.000000 &    0.000000 &     5.000000 \\\\\n25\\%   &      0.000000 &      0.000000 &         0.018198 &         0.000000 &  121.500000 &  1304.250000 \\\\\n50\\%   &     12.000000 &     19.000000 &         0.068031 &         0.092045 &  247.000000 &  2587.500000 \\\\\n75\\%   &     48.000000 &    110.750000 &         0.215382 &         0.347009 &  349.750000 &  3732.250000 \\\\\nmax   &  30757.000000 &  30785.000000 &         1.000000 &         1.000000 &  455.000000 &  4802.000000 \\\\\n\\bottomrule\n\\end{tabular}\n\n\\begin{tabular}{lrrrrrrr}\n\\toprule\n{} &  complexity &  size\\_complexity &  concept\\_complexity &  name\\_complexity &    scenario &       fileid &       reuse \\\\\n\\midrule\ncount &  449.000000 &       449.000000 &          449.000000 &       449.000000 &  449.000000 &   449.000000 &  444.000000 \\\\\nmean  &    0.353269 &         0.644452 &            0.056491 &         0.358863 &  221.759465 &  2353.801782 &    0.093704 \\\\\nstd   &    0.213159 &         0.352998 &            0.076873 &         0.345586 &  124.697652 &  1313.162756 &    0.134266 \\\\\nmin   &    0.000000 &         0.000000 &            0.000000 &         0.000000 &    1.000000 &    16.000000 &    0.000236 \\\\\n25\\%   &    0.182424 &         0.326446 &            0.000000 &         0.100000 &  123.000000 &  1227.000000 &    0.015565 \\\\\n50\\%   &    0.345866 &         0.737181 &            0.000000 &         0.185000 &  221.000000 &  2377.000000 &    0.047619 \\\\\n75\\%   &    0.500925 &         0.997131 &            0.125000 &         0.573232 &  313.000000 &  3366.000000 &    0.100000 \\\\\nmax   &    0.741486 &         1.000000 &            0.272727 &         1.000000 &  454.000000 &  4788.000000 &    1.000000 \\\\\n\\bottomrule\n\\end{tabular}\n\n\\begin{tabular}{lrrrrrrrrrrrrrrrrrr}\n\\toprule\n{} &  AverageGatewayDegree\\_metric &  CoefficientOfNetworkComplexity\\_metric &  DurfeeSquare\\_metric &  GatewayHeterogenity\\_metric &  NOAC\\_metric &  NOAJS\\_metric &  NOA\\_metric &  NumberOfNodes\\_metric &  PerfectSquare\\_metric &  TNEE\\_metric &  TNE\\_metric &  TNSE\\_metric &  all\\_activities\\_count &  all\\_control\\_flow\\_elements\\_count &  all\\_events\\_count &  all\\_gateways\\_count &   scenario &       fileid \\\\\n\\midrule\ncount &                   217.000000 &                             456.000000 &           456.000000 &                  456.000000 &   456.000000 &    456.000000 &  456.000000 &            456.000000 &            456.000000 &   456.000000 &  456.000000 &   456.000000 &            456.000000 &                       456.000000 &        456.000000 &          456.000000 &  456.00000 &   456.000000 \\\\\nmean  &                     3.362681 &                               0.885157 &             2.682018 &                    0.557018 &     8.774123 &      1.673246 &    0.532895 &              8.774123 &              3.570175 &     4.118421 &    7.100877 &     2.982456 &              0.532895 &                         8.241228 &          7.100877 &            1.140351 &  230.91886 &  2322.131579 \\\\\nstd   &                     0.999185 &                               0.098864 &             1.032326 &                    0.640257 &    10.496858 &      2.693220 &    1.128557 &             10.496858 &              1.727448 &     4.827487 &    8.051122 &     3.390309 &              1.128557 &                         9.608086 &          8.051122 &            1.960611 &  130.73962 &  1404.304327 \\\\\nmin   &                     3.000000 &                               0.250000 &             1.000000 &                    0.000000 &     2.000000 &      0.000000 &    0.000000 &              2.000000 &              1.000000 &     1.000000 &    2.000000 &     1.000000 &              0.000000 &                         2.000000 &          2.000000 &            0.000000 &    0.00000 &     4.000000 \\\\\n25\\%   &                     3.000000 &                               0.840000 &             2.000000 &                    0.000000 &     2.000000 &      0.000000 &    0.000000 &              2.000000 &              2.000000 &     1.000000 &    2.000000 &     1.000000 &              0.000000 &                         2.000000 &          2.000000 &            0.000000 &  120.75000 &  1149.250000 \\\\\n50\\%   &                     3.000000 &                               0.876276 &             2.000000 &                    0.000000 &     4.000000 &      1.000000 &    0.000000 &              4.000000 &              3.000000 &     2.000000 &    4.000000 &     1.000000 &              0.000000 &                         4.000000 &          4.000000 &            0.000000 &  231.50000 &  2260.500000 \\\\\n75\\%   &                     3.166667 &                               0.909091 &             3.000000 &                    1.000000 &    11.000000 &      2.000000 &    1.000000 &             11.000000 &              4.000000 &     5.000000 &    9.000000 &     4.000000 &              1.000000 &                        10.000000 &          9.000000 &            1.000000 &  344.00000 &  3548.000000 \\\\\nmax   &                    11.500000 &                               1.357143 &             6.000000 &                    2.000000 &    76.000000 &     19.000000 &   11.000000 &             76.000000 &              8.000000 &    30.000000 &   57.000000 &    27.000000 &             11.000000 &                        65.000000 &         57.000000 &           14.000000 &  455.00000 &  4800.000000 \\\\\n\\bottomrule\n\\end{tabular}\n\n\\begin{tabular}{lrrrrrr}\n\\toprule\n{} &  complexity &  size\\_complexity &  concept\\_complexity &  name\\_complexity &    scenario &       fileid \\\\\n\\midrule\ncount &  952.000000 &            953.0 &          952.000000 &       953.000000 &  953.000000 &   953.000000 \\\\\nmean  &    0.235555 &              0.0 &            0.116278 &         0.590414 &  232.409234 &  2479.556139 \\\\\nstd   &    0.135571 &              0.0 &            0.083801 &         0.366458 &  131.078279 &  1389.286345 \\\\\nmin   &    0.017778 &              0.0 &            0.000000 &         0.053333 &    0.000000 &     0.000000 \\\\\n25\\%   &    0.096105 &              0.0 &            0.000000 &         0.212500 &  116.000000 &  1266.000000 \\\\\n50\\%   &    0.256337 &              0.0 &            0.137716 &         0.554103 &  228.000000 &  2444.000000 \\\\\n75\\%   &    0.372638 &              0.0 &            0.187289 &         1.000000 &  347.000000 &  3711.000000 \\\\\nmax   &    0.416249 &              0.0 &            0.259259 &         1.000000 &  455.000000 &  4799.000000 \\\\\n\\bottomrule\n\\end{tabular}\n\n\\begin{tabular}{lrrrrr}\n\\toprule\n{} &          DW &         APO &         OPS &    scenario &       fileid \\\\\n\\midrule\ncount &  471.000000 &  471.000000 &  471.000000 &  471.000000 &   471.000000 \\\\\nmean  &   17.356688 &    0.997169 &    9.552017 &  237.333333 &  2520.036093 \\\\\nstd   &   41.149341 &    0.043396 &   20.636630 &  129.393714 &  1372.255922 \\\\\nmin   &    0.000000 &    0.333333 &    1.000000 &    0.000000 &     1.000000 \\\\\n25\\%   &    1.000000 &    1.000000 &    2.000000 &  132.000000 &  1409.000000 \\\\\n50\\%   &    3.000000 &    1.000000 &    2.000000 &  233.000000 &  2472.000000 \\\\\n75\\%   &    5.000000 &    1.000000 &    3.000000 &  358.000000 &  3796.500000 \\\\\nmax   &  181.000000 &    1.000000 &  126.000000 &  455.000000 &  4796.000000 \\\\\n\\bottomrule\n\\end{tabular}\n\n\\begin{tabular}{lrrrrr}\n\\toprule\n{} &         name &         type &   isRequired &     scenario &       fileid \\\\\n\\midrule\ncount &  2924.000000 &  2924.000000 &  2924.000000 &  2924.000000 &  2924.000000 \\\\\nmean  &   315.150137 &     0.065321 &     0.003762 &   225.299248 &  2402.164501 \\\\\nstd   &   331.927718 &     0.263223 &     0.061230 &   129.699934 &  1382.465407 \\\\\nmin   &     0.000000 &     0.000000 &     0.000000 &     0.000000 &    13.000000 \\\\\n25\\%   &    40.000000 &     0.000000 &     0.000000 &   116.000000 &  1254.000000 \\\\\n50\\%   &   154.000000 &     0.000000 &     0.000000 &   227.000000 &  2365.000000 \\\\\n75\\%   &   546.250000 &     0.000000 &     0.000000 &   344.000000 &  3647.000000 \\\\\nmax   &  1139.000000 &     3.000000 &     1.000000 &   454.000000 &  4794.000000 \\\\\n\\bottomrule\n\\end{tabular}\n\n\\begin{tabular}{lrrrrrrrrrrrrr}\n\\toprule\n{} &     abcscore &     comments &   cycloscore &      defines &      imports &    linecount &  linesofcode &  nestedscore &   paramscore &  singlelinecomments &   whitelines &     scenario &       fileid \\\\\n\\midrule\ncount &  2805.000000 &  2805.000000 &  2805.000000 &  2805.000000 &  2805.000000 &  2805.000000 &  2805.000000 &  2805.000000 &  2805.000000 &         2805.000000 &  2805.000000 &  2805.000000 &  2805.000000 \\\\\nmean  &     1.667415 &     7.959358 &     0.200000 &     2.105882 &     1.439216 &    19.327629 &     7.650980 &     0.046702 &     0.070232 &            0.982531 &     2.734759 &   224.052406 &  2351.890553 \\\\\nstd   &     5.200175 &     7.812701 &     1.317175 &     3.028959 &     1.691938 &    21.076637 &    13.074778 &     0.424332 &     0.269175 &            1.981021 &     4.400455 &   133.283507 &  1412.754896 \\\\\nmin   &     0.000000 &     0.000000 &     0.000000 &     0.000000 &     0.000000 &     0.000000 &     0.000000 &     0.000000 &     0.000000 &            0.000000 &     0.000000 &     0.000000 &     6.000000 \\\\\n25\\%   &     0.000000 &     0.000000 &     0.000000 &     0.000000 &     0.000000 &     0.000000 &     0.000000 &     0.000000 &     0.000000 &            0.000000 &     0.000000 &   105.000000 &  1098.000000 \\\\\n50\\%   &     0.000000 &    12.000000 &     0.000000 &     2.000000 &     2.000000 &    27.000000 &     9.000000 &     0.000000 &     0.000000 &            1.000000 &     2.000000 &   221.000000 &  2311.000000 \\\\\n75\\%   &     0.000000 &    16.000000 &     0.000000 &     3.000000 &     2.000000 &    28.000000 &     9.000000 &     0.000000 &     0.000000 &            1.000000 &     3.000000 &   342.000000 &  3585.000000 \\\\\nmax   &    89.400000 &    25.000000 &    43.000000 &    90.000000 &    14.000000 &   415.000000 &   344.000000 &     9.000000 &     2.000000 &           31.000000 &    73.000000 &   455.000000 &  4808.000000 \\\\\n\\bottomrule\n\\end{tabular}\n\n"
    }
   ],
   "source": [
    "for i in datasets.keys():\n",
    "    print(datasets.get(i).describe().to_latex())"
   ]
  },
  {
   "cell_type": "markdown",
   "metadata": {},
   "source": [
    "### Graphs"
   ]
  },
  {
   "cell_type": "code",
   "execution_count": 253,
   "metadata": {},
   "outputs": [
    {
     "name": "stdout",
     "output_type": "stream",
     "text": [
      "dataset: Mapping\n"
     ]
    },
    {
     "data": {
      "image/png": "[encoded data removed]",
      "text/plain": [
       "<Figure size 432x288 with 3 Axes>"
      ]
     },
     "metadata": {
      "needs_background": "light"
     },
     "output_type": "display_data"
    },
    {
     "name": "stdout",
     "output_type": "stream",
     "text": [
      "dataset: ComplexityReuse\n"
     ]
    },
    {
     "data": {
      "image/png": "[encoded data removed]",
      "text/plain": [
       "<Figure size 432x288 with 3 Axes>"
      ]
     },
     "metadata": {
      "needs_background": "light"
     },
     "output_type": "display_data"
    },
    {
     "name": "stdout",
     "output_type": "stream",
     "text": [
      "dataset: iFlow\n"
     ]
    },
    {
     "data": {
      "image/png": "[encoded data removed]",
      "text/plain": [
       "<Figure size 432x288 with 3 Axes>"
      ]
     },
     "metadata": {
      "needs_background": "light"
     },
     "output_type": "display_data"
    },
    {
     "name": "stdout",
     "output_type": "stream",
     "text": [
      "dataset: WSDL-xsd\n"
     ]
    },
    {
     "data": {
      "image/png": "[encoded data removed]",
      "text/plain": [
       "<Figure size 432x288 with 3 Axes>"
      ]
     },
     "metadata": {
      "needs_background": "light"
     },
     "output_type": "display_data"
    },
    {
     "name": "stdout",
     "output_type": "stream",
     "text": [
      "dataset: WSDL\n"
     ]
    },
    {
     "data": {
      "image/png": "[encoded data removed]",
      "text/plain": [
       "<Figure size 432x288 with 3 Axes>"
      ]
     },
     "metadata": {
      "needs_background": "light"
     },
     "output_type": "display_data"
    },
    {
     "name": "stdout",
     "output_type": "stream",
     "text": [
      "dataset: Property\n"
     ]
    },
    {
     "data": {
      "image/png": "[encoded data removed]",
      "text/plain": [
       "<Figure size 432x288 with 3 Axes>"
      ]
     },
     "metadata": {
      "needs_background": "light"
     },
     "output_type": "display_data"
    },
    {
     "name": "stdout",
     "output_type": "stream",
     "text": [
      "dataset: Groovy\n"
     ]
    },
    {
     "data": {
      "image/png": "[encoded data removed]",
      "text/plain": [
       "<Figure size 432x288 with 3 Axes>"
      ]
     },
     "metadata": {
      "needs_background": "light"
     },
     "output_type": "display_data"
    }
   ],
   "source": [
    "for name, score in datasetscores:\n",
    "    print('dataset: {}'.format(name.replace(\"_\", \" \")))\n",
    "    plot = plot_scores(score, size=clusterrange, name=name)\n",
    "    plot.savefig(\"../images/\"+name+'.png')"
   ]
  },
  {
   "cell_type": "code",
   "execution_count": 176,
   "metadata": {},
   "outputs": [
    {
     "name": "stdout",
     "output_type": "stream",
     "text": [
      "Name: Mapping\n",
      "silhouette_score\n",
      "\tBest: 0.966851612282443 clusters: 13\n",
      "\t2nd best: 0.4416657887783218 clusters:24\n",
      "davies_bouldin_score\n",
      "\tBest: 0.1871014538443016 clusters: 20\n",
      "\t2nd best: 2.111511494485017 clusters:10\n",
      "calinski_harabasz_score\n",
      "\tBest: 40590.082929032535 clusters: 19\n",
      "\t2nd best: 26291.52553311698 clusters:20\n",
      "\n",
      "Name: ComplexityReuse\n",
      "silhouette_score\n",
      "\tBest: 0.4740331908953525 clusters: 8\n",
      "\t2nd best: 0.06206791262680878 clusters:2\n",
      "davies_bouldin_score\n",
      "\tBest: 0.7826138524614153 clusters: 14\n",
      "\t2nd best: 2.9802276493434268 clusters:2\n",
      "calinski_harabasz_score\n",
      "\tBest: 666.4725116034075 clusters: 5\n",
      "\t2nd best: 646.5287361681728 clusters:7\n",
      "\n",
      "Name: iFlow\n",
      "silhouette_score\n",
      "\tBest: 0.6319085024776397 clusters: 14\n",
      "\t2nd best: 0.3551285372645911 clusters:2\n",
      "davies_bouldin_score\n",
      "\tBest: 0.5652841282216213 clusters: 14\n",
      "\t2nd best: 4.818102214759913 clusters:5\n",
      "calinski_harabasz_score\n",
      "\tBest: 1988.2205858897319 clusters: 21\n",
      "\t2nd best: 1980.1550236361936 clusters:16\n",
      "\n",
      "Name: WSDL-xsd\n",
      "silhouette_score\n",
      "\tBest: 0.5893309346089283 clusters: 6\n",
      "\t2nd best: 0.20523128863451406 clusters:3\n",
      "davies_bouldin_score\n",
      "\tBest: 0.6438395980128537 clusters: 7\n",
      "\t2nd best: 3.478998342257561 clusters:2\n",
      "calinski_harabasz_score\n",
      "\tBest: 5228.0551912166775 clusters: 9\n",
      "\t2nd best: 5185.499875458001 clusters:10\n",
      "\n",
      "Name: WSDL\n",
      "silhouette_score\n",
      "\tBest: 0.9734734849284731 clusters: 16\n",
      "\t2nd best: 0.37408690099590447 clusters:22\n",
      "davies_bouldin_score\n",
      "\tBest: 0.013702036333142953 clusters: 16\n",
      "\t2nd best: 1.2914522610446164 clusters:19\n",
      "calinski_harabasz_score\n",
      "\tBest: 53230.5230315911 clusters: 23\n",
      "\t2nd best: 37971.118127118636 clusters:20\n",
      "\n",
      "Name: Property\n",
      "silhouette_score\n",
      "\tBest: 0.6888062966399237 clusters: 3\n",
      "\t2nd best: 0.4977047943125149 clusters:12\n",
      "davies_bouldin_score\n",
      "\tBest: 0.45240747224436545 clusters: 20\n",
      "\t2nd best: 0.5274404345257699 clusters:7\n",
      "calinski_harabasz_score\n",
      "\tBest: 42163.37241575025 clusters: 24\n",
      "\t2nd best: 40506.61233310598 clusters:19\n",
      "\n",
      "Name: Groovy\n",
      "silhouette_score\n",
      "\tBest: 0.68711174666471 clusters: 6\n",
      "\t2nd best: 0.4965675236571501 clusters:3\n",
      "davies_bouldin_score\n",
      "\tBest: 0.6874155692822519 clusters: 8\n",
      "\t2nd best: 2.181278318925052 clusters:3\n",
      "calinski_harabasz_score\n",
      "\tBest: 3928.0196354591158 clusters: 8\n",
      "\t2nd best: 3116.749186792408 clusters:19\n",
      "\n"
     ]
    }
   ],
   "source": [
    "def closest(list, Number):\n",
    "    temp = []\n",
    "    for i in list:\n",
    "        temp.append(abs(Number-i))\n",
    "\n",
    "    return temp.index(min(temp))\n",
    "\n",
    "# a = closest(mylist, mynumber)\n",
    "# print \"index is : \",a\n",
    "# print \"Closet value is : \",mylist[a]\n",
    "\n",
    "def bestscores(scores):\n",
    "    for name, score in scores:\n",
    "        print(\"Name: {}\".format(name))\n",
    "        my_silhouette_score = score['silhouette_score']\n",
    "        s = sorted(set(my_silhouette_score))\n",
    "        a = closest(my_silhouette_score, 1)\n",
    "        print(\"silhouette_score\\n\\tBest: {} clusters: {}\\n\\t2nd best: {} clusters:{}\".format(\\\n",
    "                                    my_silhouette_score[a],a+2,s[1],\\\n",
    "                                    (int(my_silhouette_score.index(s[1])))+2))\n",
    "        \n",
    "        my_davies_bouldin_score = score['davies_bouldin_score']\n",
    "        s = sorted(set(my_davies_bouldin_score), reverse=True)\n",
    "        a = closest(my_davies_bouldin_score, 0)\n",
    "        print(\"davies_bouldin_score\\n\\tBest: {} clusters: {}\\n\\t2nd best: {} clusters:{}\".format(\\\n",
    "                                    my_davies_bouldin_score[a],a+2,s[1],\\\n",
    "                                    (int(my_davies_bouldin_score.index(s[1]))+2)))\n",
    "        \n",
    "        my_calinski_harabasz_score = score['calinski_harabasz_score']\n",
    "        s = sorted(set(my_calinski_harabasz_score), reverse=True)\n",
    "        print(\"calinski_harabasz_score\\n\\tBest: {} clusters: {}\\n\\t2nd best: {} clusters:{}\\n\"\\\n",
    "              .format(s[0],(int(my_calinski_harabasz_score.index(s[0]))+2),\\\n",
    "                      s[1],(int(my_calinski_harabasz_score.index(s[1]))+2)))\n",
    "# del my_silhouette_score, my_davies_bouldin_score, my_calinski_harabasz_score\n",
    "\n",
    "bestscores(datasetscores)"
   ]
  },
  {
   "cell_type": "code",
   "execution_count": 193,
   "metadata": {},
   "outputs": [],
   "source": [
    "clustersperdf = {#\"XSD\":19,\n",
    "            \"Mapping\":13,\n",
    "            \"ComplexityReuse\":8,\n",
    "            \"iFlow\":14, #24 #15\n",
    "            \"WSDL-xsd\":6,\n",
    "            \"WSDL\":16,\n",
    "            \"Property\":3, \n",
    "            \"Groovy\":8\n",
    "           }"
   ]
  },
  {
   "cell_type": "code",
   "execution_count": 194,
   "metadata": {},
   "outputs": [
    {
     "name": "stderr",
     "output_type": "stream",
     "text": [
      "/Users/max/anaconda3/lib/python3.7/site-packages/ipykernel_launcher.py:52: ConvergenceWarning:\n",
      "\n",
      "Number of distinct clusters (14) found smaller than n_clusters (16). Possibly due to duplicate points in X.\n",
      "\n"
     ]
    }
   ],
   "source": [
    "for name, df in datasets.items():\n",
    "    localdf = df.drop(columns=['scenario','fileid'])\n",
    "    res = ensemble_clustering(localdf, clustersperdf.get(name), N_ENSEMBLES)\n",
    "    df['clusters'] = res"
   ]
  },
  {
   "cell_type": "code",
   "execution_count": 195,
   "metadata": {},
   "outputs": [
    {
     "name": "stdout",
     "output_type": "stream",
     "text": [
      "Mapping {0, 1, 2, 3, 4, 5, 6, 7, 8, 9, 10, 11, 12}\n",
      "ComplexityReuse {0, 1, 2, 3, 4, 5, 6, 7}\n",
      "iFlow {0, 1, 2, 3, 4, 5, 6, 7, 8, 9, 10, 11, 12, 13}\n",
      "WSDL-xsd {0, 1, 2, 3, 4, 5}\n",
      "WSDL {0, 1, 2, 3, 4, 5, 6, 7, 8, 9, 10, 12, 13, 14}\n",
      "Property {0, 1, 2}\n",
      "Groovy {0, 1, 2, 3, 4, 5, 6, 7}\n"
     ]
    }
   ],
   "source": [
    "for name, df in datasets.items():\n",
    "    print(name, set(df['clusters']))"
   ]
  },
  {
   "cell_type": "code",
   "execution_count": 196,
   "metadata": {},
   "outputs": [],
   "source": [
    "for name, df in datasets.items():\n",
    "    df.to_csv(prefix + \"QAS_new_v2_clusters_{}_clusters.csv\".format(name))"
   ]
  },
  {
   "cell_type": "markdown",
   "metadata": {},
   "source": [
    "## Clusters of clusters\n",
    "### Define columns"
   ]
  },
  {
   "cell_type": "code",
   "execution_count": 197,
   "metadata": {},
   "outputs": [
    {
     "name": "stdout",
     "output_type": "stream",
     "text": [
      "['scenario', 'Mapping0', 'Mapping1', 'Mapping2', 'Mapping3', 'Mapping4', 'Mapping5', 'Mapping6', 'Mapping7', 'Mapping8', 'Mapping9', 'Mapping10', 'Mapping11', 'Mapping12', 'ComplexityReuse0', 'ComplexityReuse1', 'ComplexityReuse2', 'ComplexityReuse3', 'ComplexityReuse4', 'ComplexityReuse5', 'ComplexityReuse6', 'ComplexityReuse7', 'iFlow0', 'iFlow1', 'iFlow2', 'iFlow3', 'iFlow4', 'iFlow5', 'iFlow6', 'iFlow7', 'iFlow8', 'iFlow9', 'iFlow10', 'iFlow11', 'iFlow12', 'iFlow13', 'WSDL-xsd0', 'WSDL-xsd1', 'WSDL-xsd2', 'WSDL-xsd3', 'WSDL-xsd4', 'WSDL-xsd5', 'WSDL0', 'WSDL1', 'WSDL2', 'WSDL3', 'WSDL4', 'WSDL5', 'WSDL6', 'WSDL7', 'WSDL8', 'WSDL9', 'WSDL10', 'WSDL12', 'WSDL13', 'WSDL14', 'Property0', 'Property1', 'Property2', 'Groovy0', 'Groovy1', 'Groovy2', 'Groovy3', 'Groovy4', 'Groovy5', 'Groovy6', 'Groovy7']\n"
     ]
    }
   ],
   "source": [
    "columns=['scenario']\n",
    "for name, df in datasets.items():\n",
    "    clustlist = list(set(df['clusters']))\n",
    "    for c in clustlist:\n",
    "        columns+=[str(name+str(c))]\n",
    "print(columns)"
   ]
  },
  {
   "cell_type": "markdown",
   "metadata": {},
   "source": [
    "### Dataframe Construction (Binary and ratio)"
   ]
  },
  {
   "cell_type": "code",
   "execution_count": 273,
   "metadata": {},
   "outputs": [],
   "source": [
    "# binaryoccurancedf = pd.DataFrame(columns)\n",
    "datalist = []\n",
    "dataratiolist = []\n",
    "for i in range(0,scenariodf['scenarioid'].max()):\n",
    "    d = {}\n",
    "    d.update({'scenario':i})\n",
    "    \n",
    "    ratio = {}\n",
    "    ratio.update({'scenario':i})\n",
    "    filecount = 0\n",
    "    for name, df in datasets.items():\n",
    "        clustlist = list(set(df['clusters']))\n",
    "        localdf = df[df['scenario']==i]\n",
    "        amountoffiles = localdf.shape[0]\n",
    "        filecount += amountoffiles\n",
    "        \n",
    "        for index,row in localdf.iterrows():\n",
    "            key = name + str(int(row['clusters']))\n",
    "            countval = ratio.get(key, None)\n",
    "            if countval == None:\n",
    "                ratio.update({key:1})\n",
    "            else:\n",
    "                ratio.update({key:countval+1})\n",
    "            d.update({key:1})\n",
    "    d.update({\"filecount\":filecount})\n",
    "    ratio.update({\"filecount\":filecount})\n",
    "    dataratiolist.append(ratio)\n",
    "    datalist.append(d)\n",
    "binaryoccurancedf = pd.DataFrame(datalist)\n",
    "ratiooccurancedf = pd.DataFrame(dataratiolist)"
   ]
  },
  {
   "cell_type": "markdown",
   "metadata": {},
   "source": []
  },
  {
   "cell_type": "code",
   "execution_count": 278,
   "metadata": {},
   "outputs": [
    {
     "data": {
      "text/html": [
       "<div>\n",
       "<style scoped>\n",
       "    .dataframe tbody tr th:only-of-type {\n",
       "        vertical-align: middle;\n",
       "    }\n",
       "\n",
       "    .dataframe tbody tr th {\n",
       "        vertical-align: top;\n",
       "    }\n",
       "\n",
       "    .dataframe thead th {\n",
       "        text-align: right;\n",
       "    }\n",
       "</style>\n",
       "<table border=\"1\" class=\"dataframe\">\n",
       "  <thead>\n",
       "    <tr style=\"text-align: right;\">\n",
       "      <th></th>\n",
       "      <th>scenario</th>\n",
       "      <th>Mapping10</th>\n",
       "      <th>iFlow1</th>\n",
       "      <th>WSDL-xsd1</th>\n",
       "      <th>WSDL0</th>\n",
       "      <th>Property0</th>\n",
       "      <th>Groovy0</th>\n",
       "      <th>Groovy2</th>\n",
       "      <th>Groovy6</th>\n",
       "      <th>Groovy1</th>\n",
       "      <th>...</th>\n",
       "      <th>ComplexityReuse5</th>\n",
       "      <th>Mapping4</th>\n",
       "      <th>ComplexityReuse2</th>\n",
       "      <th>WSDL6</th>\n",
       "      <th>Mapping3</th>\n",
       "      <th>iFlow10</th>\n",
       "      <th>WSDL8</th>\n",
       "      <th>WSDL7</th>\n",
       "      <th>WSDL9</th>\n",
       "      <th>Mapping6</th>\n",
       "    </tr>\n",
       "  </thead>\n",
       "  <tbody>\n",
       "    <tr>\n",
       "      <th>0</th>\n",
       "      <td>0</td>\n",
       "      <td>1.0</td>\n",
       "      <td>1.0</td>\n",
       "      <td>4.0</td>\n",
       "      <td>1.0</td>\n",
       "      <td>5.0</td>\n",
       "      <td>1.0</td>\n",
       "      <td>2.0</td>\n",
       "      <td>1.0</td>\n",
       "      <td>2.0</td>\n",
       "      <td>...</td>\n",
       "      <td>NaN</td>\n",
       "      <td>NaN</td>\n",
       "      <td>NaN</td>\n",
       "      <td>NaN</td>\n",
       "      <td>NaN</td>\n",
       "      <td>NaN</td>\n",
       "      <td>NaN</td>\n",
       "      <td>NaN</td>\n",
       "      <td>NaN</td>\n",
       "      <td>NaN</td>\n",
       "    </tr>\n",
       "    <tr>\n",
       "      <th>1</th>\n",
       "      <td>1</td>\n",
       "      <td>NaN</td>\n",
       "      <td>NaN</td>\n",
       "      <td>NaN</td>\n",
       "      <td>NaN</td>\n",
       "      <td>1.0</td>\n",
       "      <td>NaN</td>\n",
       "      <td>1.0</td>\n",
       "      <td>NaN</td>\n",
       "      <td>NaN</td>\n",
       "      <td>...</td>\n",
       "      <td>NaN</td>\n",
       "      <td>NaN</td>\n",
       "      <td>NaN</td>\n",
       "      <td>NaN</td>\n",
       "      <td>NaN</td>\n",
       "      <td>NaN</td>\n",
       "      <td>NaN</td>\n",
       "      <td>NaN</td>\n",
       "      <td>NaN</td>\n",
       "      <td>NaN</td>\n",
       "    </tr>\n",
       "    <tr>\n",
       "      <th>2</th>\n",
       "      <td>2</td>\n",
       "      <td>NaN</td>\n",
       "      <td>1.0</td>\n",
       "      <td>NaN</td>\n",
       "      <td>1.0</td>\n",
       "      <td>2.0</td>\n",
       "      <td>NaN</td>\n",
       "      <td>1.0</td>\n",
       "      <td>NaN</td>\n",
       "      <td>NaN</td>\n",
       "      <td>...</td>\n",
       "      <td>NaN</td>\n",
       "      <td>NaN</td>\n",
       "      <td>NaN</td>\n",
       "      <td>NaN</td>\n",
       "      <td>NaN</td>\n",
       "      <td>NaN</td>\n",
       "      <td>NaN</td>\n",
       "      <td>NaN</td>\n",
       "      <td>NaN</td>\n",
       "      <td>NaN</td>\n",
       "    </tr>\n",
       "    <tr>\n",
       "      <th>3</th>\n",
       "      <td>3</td>\n",
       "      <td>NaN</td>\n",
       "      <td>NaN</td>\n",
       "      <td>NaN</td>\n",
       "      <td>NaN</td>\n",
       "      <td>11.0</td>\n",
       "      <td>NaN</td>\n",
       "      <td>2.0</td>\n",
       "      <td>NaN</td>\n",
       "      <td>1.0</td>\n",
       "      <td>...</td>\n",
       "      <td>NaN</td>\n",
       "      <td>NaN</td>\n",
       "      <td>NaN</td>\n",
       "      <td>NaN</td>\n",
       "      <td>NaN</td>\n",
       "      <td>NaN</td>\n",
       "      <td>NaN</td>\n",
       "      <td>NaN</td>\n",
       "      <td>NaN</td>\n",
       "      <td>NaN</td>\n",
       "    </tr>\n",
       "    <tr>\n",
       "      <th>4</th>\n",
       "      <td>4</td>\n",
       "      <td>NaN</td>\n",
       "      <td>NaN</td>\n",
       "      <td>NaN</td>\n",
       "      <td>NaN</td>\n",
       "      <td>1.0</td>\n",
       "      <td>NaN</td>\n",
       "      <td>2.0</td>\n",
       "      <td>NaN</td>\n",
       "      <td>NaN</td>\n",
       "      <td>...</td>\n",
       "      <td>NaN</td>\n",
       "      <td>NaN</td>\n",
       "      <td>NaN</td>\n",
       "      <td>NaN</td>\n",
       "      <td>NaN</td>\n",
       "      <td>NaN</td>\n",
       "      <td>NaN</td>\n",
       "      <td>NaN</td>\n",
       "      <td>NaN</td>\n",
       "      <td>NaN</td>\n",
       "    </tr>\n",
       "  </tbody>\n",
       "</table>\n",
       "<p>5 rows × 68 columns</p>\n",
       "</div>"
      ],
      "text/plain": [
       "   scenario  Mapping10  iFlow1  WSDL-xsd1  WSDL0  Property0  Groovy0  Groovy2  \\\n",
       "0         0        1.0     1.0        4.0    1.0        5.0      1.0      2.0   \n",
       "1         1        NaN     NaN        NaN    NaN        1.0      NaN      1.0   \n",
       "2         2        NaN     1.0        NaN    1.0        2.0      NaN      1.0   \n",
       "3         3        NaN     NaN        NaN    NaN       11.0      NaN      2.0   \n",
       "4         4        NaN     NaN        NaN    NaN        1.0      NaN      2.0   \n",
       "\n",
       "   Groovy6  Groovy1  ...  ComplexityReuse5  Mapping4  ComplexityReuse2  WSDL6  \\\n",
       "0      1.0      2.0  ...               NaN       NaN               NaN    NaN   \n",
       "1      NaN      NaN  ...               NaN       NaN               NaN    NaN   \n",
       "2      NaN      NaN  ...               NaN       NaN               NaN    NaN   \n",
       "3      NaN      1.0  ...               NaN       NaN               NaN    NaN   \n",
       "4      NaN      NaN  ...               NaN       NaN               NaN    NaN   \n",
       "\n",
       "   Mapping3  iFlow10  WSDL8  WSDL7  WSDL9  Mapping6  \n",
       "0       NaN      NaN    NaN    NaN    NaN       NaN  \n",
       "1       NaN      NaN    NaN    NaN    NaN       NaN  \n",
       "2       NaN      NaN    NaN    NaN    NaN       NaN  \n",
       "3       NaN      NaN    NaN    NaN    NaN       NaN  \n",
       "4       NaN      NaN    NaN    NaN    NaN       NaN  \n",
       "\n",
       "[5 rows x 68 columns]"
      ]
     },
     "execution_count": 278,
     "metadata": {},
     "output_type": "execute_result"
    }
   ],
   "source": [
    "ratiooccurancedf.head()"
   ]
  },
  {
   "cell_type": "code",
   "execution_count": 275,
   "metadata": {},
   "outputs": [],
   "source": [
    "binaryoccurancedf = binaryoccurancedf.fillna(0)"
   ]
  },
  {
   "cell_type": "code",
   "execution_count": 279,
   "metadata": {},
   "outputs": [],
   "source": [
    "ratiooccurancedf = ratiooccurancedf.fillna(0)"
   ]
  },
  {
   "cell_type": "markdown",
   "metadata": {},
   "source": [
    "#### Ratio function"
   ]
  },
  {
   "cell_type": "code",
   "execution_count": 280,
   "metadata": {},
   "outputs": [
    {
     "data": {
      "text/html": [
       "<div>\n",
       "<style scoped>\n",
       "    .dataframe tbody tr th:only-of-type {\n",
       "        vertical-align: middle;\n",
       "    }\n",
       "\n",
       "    .dataframe tbody tr th {\n",
       "        vertical-align: top;\n",
       "    }\n",
       "\n",
       "    .dataframe thead th {\n",
       "        text-align: right;\n",
       "    }\n",
       "</style>\n",
       "<table border=\"1\" class=\"dataframe\">\n",
       "  <thead>\n",
       "    <tr style=\"text-align: right;\">\n",
       "      <th></th>\n",
       "      <th>scenario</th>\n",
       "      <th>Mapping10</th>\n",
       "      <th>iFlow1</th>\n",
       "      <th>WSDL-xsd1</th>\n",
       "      <th>WSDL0</th>\n",
       "      <th>Property0</th>\n",
       "      <th>Groovy0</th>\n",
       "      <th>Groovy2</th>\n",
       "      <th>Groovy6</th>\n",
       "      <th>Groovy1</th>\n",
       "      <th>...</th>\n",
       "      <th>ComplexityReuse5</th>\n",
       "      <th>Mapping4</th>\n",
       "      <th>ComplexityReuse2</th>\n",
       "      <th>WSDL6</th>\n",
       "      <th>Mapping3</th>\n",
       "      <th>iFlow10</th>\n",
       "      <th>WSDL8</th>\n",
       "      <th>WSDL7</th>\n",
       "      <th>WSDL9</th>\n",
       "      <th>Mapping6</th>\n",
       "    </tr>\n",
       "  </thead>\n",
       "  <tbody>\n",
       "    <tr>\n",
       "      <th>0</th>\n",
       "      <td>0.0</td>\n",
       "      <td>0.052632</td>\n",
       "      <td>0.052632</td>\n",
       "      <td>0.210526</td>\n",
       "      <td>0.052632</td>\n",
       "      <td>0.263158</td>\n",
       "      <td>0.052632</td>\n",
       "      <td>0.105263</td>\n",
       "      <td>0.052632</td>\n",
       "      <td>0.105263</td>\n",
       "      <td>...</td>\n",
       "      <td>0.0</td>\n",
       "      <td>0.0</td>\n",
       "      <td>0.0</td>\n",
       "      <td>0.0</td>\n",
       "      <td>0.0</td>\n",
       "      <td>0.0</td>\n",
       "      <td>0.0</td>\n",
       "      <td>0.0</td>\n",
       "      <td>0.0</td>\n",
       "      <td>0.0</td>\n",
       "    </tr>\n",
       "    <tr>\n",
       "      <th>1</th>\n",
       "      <td>1.0</td>\n",
       "      <td>0.000000</td>\n",
       "      <td>0.000000</td>\n",
       "      <td>0.000000</td>\n",
       "      <td>0.000000</td>\n",
       "      <td>0.125000</td>\n",
       "      <td>0.000000</td>\n",
       "      <td>0.125000</td>\n",
       "      <td>0.000000</td>\n",
       "      <td>0.000000</td>\n",
       "      <td>...</td>\n",
       "      <td>0.0</td>\n",
       "      <td>0.0</td>\n",
       "      <td>0.0</td>\n",
       "      <td>0.0</td>\n",
       "      <td>0.0</td>\n",
       "      <td>0.0</td>\n",
       "      <td>0.0</td>\n",
       "      <td>0.0</td>\n",
       "      <td>0.0</td>\n",
       "      <td>0.0</td>\n",
       "    </tr>\n",
       "    <tr>\n",
       "      <th>2</th>\n",
       "      <td>2.0</td>\n",
       "      <td>0.000000</td>\n",
       "      <td>0.125000</td>\n",
       "      <td>0.000000</td>\n",
       "      <td>0.125000</td>\n",
       "      <td>0.250000</td>\n",
       "      <td>0.000000</td>\n",
       "      <td>0.125000</td>\n",
       "      <td>0.000000</td>\n",
       "      <td>0.000000</td>\n",
       "      <td>...</td>\n",
       "      <td>0.0</td>\n",
       "      <td>0.0</td>\n",
       "      <td>0.0</td>\n",
       "      <td>0.0</td>\n",
       "      <td>0.0</td>\n",
       "      <td>0.0</td>\n",
       "      <td>0.0</td>\n",
       "      <td>0.0</td>\n",
       "      <td>0.0</td>\n",
       "      <td>0.0</td>\n",
       "    </tr>\n",
       "    <tr>\n",
       "      <th>3</th>\n",
       "      <td>3.0</td>\n",
       "      <td>0.000000</td>\n",
       "      <td>0.000000</td>\n",
       "      <td>0.000000</td>\n",
       "      <td>0.000000</td>\n",
       "      <td>0.550000</td>\n",
       "      <td>0.000000</td>\n",
       "      <td>0.100000</td>\n",
       "      <td>0.000000</td>\n",
       "      <td>0.050000</td>\n",
       "      <td>...</td>\n",
       "      <td>0.0</td>\n",
       "      <td>0.0</td>\n",
       "      <td>0.0</td>\n",
       "      <td>0.0</td>\n",
       "      <td>0.0</td>\n",
       "      <td>0.0</td>\n",
       "      <td>0.0</td>\n",
       "      <td>0.0</td>\n",
       "      <td>0.0</td>\n",
       "      <td>0.0</td>\n",
       "    </tr>\n",
       "    <tr>\n",
       "      <th>4</th>\n",
       "      <td>4.0</td>\n",
       "      <td>0.000000</td>\n",
       "      <td>0.000000</td>\n",
       "      <td>0.000000</td>\n",
       "      <td>0.000000</td>\n",
       "      <td>0.200000</td>\n",
       "      <td>0.000000</td>\n",
       "      <td>0.400000</td>\n",
       "      <td>0.000000</td>\n",
       "      <td>0.000000</td>\n",
       "      <td>...</td>\n",
       "      <td>0.0</td>\n",
       "      <td>0.0</td>\n",
       "      <td>0.0</td>\n",
       "      <td>0.0</td>\n",
       "      <td>0.0</td>\n",
       "      <td>0.0</td>\n",
       "      <td>0.0</td>\n",
       "      <td>0.0</td>\n",
       "      <td>0.0</td>\n",
       "      <td>0.0</td>\n",
       "    </tr>\n",
       "  </tbody>\n",
       "</table>\n",
       "<p>5 rows × 68 columns</p>\n",
       "</div>"
      ],
      "text/plain": [
       "   scenario  Mapping10    iFlow1  WSDL-xsd1     WSDL0  Property0   Groovy0  \\\n",
       "0       0.0   0.052632  0.052632   0.210526  0.052632   0.263158  0.052632   \n",
       "1       1.0   0.000000  0.000000   0.000000  0.000000   0.125000  0.000000   \n",
       "2       2.0   0.000000  0.125000   0.000000  0.125000   0.250000  0.000000   \n",
       "3       3.0   0.000000  0.000000   0.000000  0.000000   0.550000  0.000000   \n",
       "4       4.0   0.000000  0.000000   0.000000  0.000000   0.200000  0.000000   \n",
       "\n",
       "    Groovy2   Groovy6   Groovy1  ...  ComplexityReuse5  Mapping4  \\\n",
       "0  0.105263  0.052632  0.105263  ...               0.0       0.0   \n",
       "1  0.125000  0.000000  0.000000  ...               0.0       0.0   \n",
       "2  0.125000  0.000000  0.000000  ...               0.0       0.0   \n",
       "3  0.100000  0.000000  0.050000  ...               0.0       0.0   \n",
       "4  0.400000  0.000000  0.000000  ...               0.0       0.0   \n",
       "\n",
       "   ComplexityReuse2  WSDL6  Mapping3  iFlow10  WSDL8  WSDL7  WSDL9  Mapping6  \n",
       "0               0.0    0.0       0.0      0.0    0.0    0.0    0.0       0.0  \n",
       "1               0.0    0.0       0.0      0.0    0.0    0.0    0.0       0.0  \n",
       "2               0.0    0.0       0.0      0.0    0.0    0.0    0.0       0.0  \n",
       "3               0.0    0.0       0.0      0.0    0.0    0.0    0.0       0.0  \n",
       "4               0.0    0.0       0.0      0.0    0.0    0.0    0.0       0.0  \n",
       "\n",
       "[5 rows x 68 columns]"
      ]
     },
     "execution_count": 280,
     "metadata": {},
     "output_type": "execute_result"
    }
   ],
   "source": [
    "def alterfunc(row):\n",
    "    for i in columns[1:]:\n",
    "        row[i] = row[i]/row['filecount']\n",
    "    return row\n",
    "\n",
    "ratiooccurancedf = ratiooccurancedf.apply(lambda row: alterfunc(row), axis=1)\n",
    "ratiooccurancedf.head()"
   ]
  },
  {
   "cell_type": "code",
   "execution_count": 287,
   "metadata": {},
   "outputs": [],
   "source": [
    "copybinaryoccurancedf = binaryoccurancedf.copy()\n",
    "copyratiooccurancedf = ratiooccurancedf.copy()\n",
    "\n",
    "copybinaryoccurancedf = copybinaryoccurancedf.drop(columns=copybinaryoccurancedf.columns[10:])\n",
    "copyratiooccurancedf = copyratiooccurancedf.drop(columns=copyratiooccurancedf.columns[10:])\n",
    "copybinaryoccurancedf = copybinaryoccurancedf.drop(columns=\"scenario\")\n",
    "copyratiooccurancedf = copyratiooccurancedf.drop(columns=\"scenario\")"
   ]
  },
  {
   "cell_type": "code",
   "execution_count": 288,
   "metadata": {},
   "outputs": [
    {
     "data": {
      "text/html": [
       "<div>\n",
       "<style scoped>\n",
       "    .dataframe tbody tr th:only-of-type {\n",
       "        vertical-align: middle;\n",
       "    }\n",
       "\n",
       "    .dataframe tbody tr th {\n",
       "        vertical-align: top;\n",
       "    }\n",
       "\n",
       "    .dataframe thead th {\n",
       "        text-align: right;\n",
       "    }\n",
       "</style>\n",
       "<table border=\"1\" class=\"dataframe\">\n",
       "  <thead>\n",
       "    <tr style=\"text-align: right;\">\n",
       "      <th>scenario</th>\n",
       "      <th>Mapping10</th>\n",
       "      <th>iFlow1</th>\n",
       "      <th>WSDL-xsd1</th>\n",
       "      <th>WSDL0</th>\n",
       "      <th>Property0</th>\n",
       "      <th>Groovy0</th>\n",
       "      <th>Groovy2</th>\n",
       "      <th>Groovy6</th>\n",
       "      <th>Groovy1</th>\n",
       "    </tr>\n",
       "  </thead>\n",
       "  <tbody>\n",
       "    <tr>\n",
       "      <th>0</th>\n",
       "      <td>1.0</td>\n",
       "      <td>1.0</td>\n",
       "      <td>1.0</td>\n",
       "      <td>1.0</td>\n",
       "      <td>1.0</td>\n",
       "      <td>1.0</td>\n",
       "      <td>1.0</td>\n",
       "      <td>1.0</td>\n",
       "      <td>1.0</td>\n",
       "    </tr>\n",
       "    <tr>\n",
       "      <th>1</th>\n",
       "      <td>0.0</td>\n",
       "      <td>0.0</td>\n",
       "      <td>0.0</td>\n",
       "      <td>0.0</td>\n",
       "      <td>1.0</td>\n",
       "      <td>0.0</td>\n",
       "      <td>1.0</td>\n",
       "      <td>0.0</td>\n",
       "      <td>0.0</td>\n",
       "    </tr>\n",
       "    <tr>\n",
       "      <th>2</th>\n",
       "      <td>0.0</td>\n",
       "      <td>1.0</td>\n",
       "      <td>0.0</td>\n",
       "      <td>1.0</td>\n",
       "      <td>1.0</td>\n",
       "      <td>0.0</td>\n",
       "      <td>1.0</td>\n",
       "      <td>0.0</td>\n",
       "      <td>0.0</td>\n",
       "    </tr>\n",
       "    <tr>\n",
       "      <th>3</th>\n",
       "      <td>0.0</td>\n",
       "      <td>0.0</td>\n",
       "      <td>0.0</td>\n",
       "      <td>0.0</td>\n",
       "      <td>1.0</td>\n",
       "      <td>0.0</td>\n",
       "      <td>1.0</td>\n",
       "      <td>0.0</td>\n",
       "      <td>1.0</td>\n",
       "    </tr>\n",
       "    <tr>\n",
       "      <th>4</th>\n",
       "      <td>0.0</td>\n",
       "      <td>0.0</td>\n",
       "      <td>0.0</td>\n",
       "      <td>0.0</td>\n",
       "      <td>1.0</td>\n",
       "      <td>0.0</td>\n",
       "      <td>1.0</td>\n",
       "      <td>0.0</td>\n",
       "      <td>0.0</td>\n",
       "    </tr>\n",
       "  </tbody>\n",
       "</table>\n",
       "</div>"
      ],
      "text/plain": [
       "scenario  Mapping10  iFlow1  WSDL-xsd1  WSDL0  Property0  Groovy0  Groovy2  \\\n",
       "0               1.0     1.0        1.0    1.0        1.0      1.0      1.0   \n",
       "1               0.0     0.0        0.0    0.0        1.0      0.0      1.0   \n",
       "2               0.0     1.0        0.0    1.0        1.0      0.0      1.0   \n",
       "3               0.0     0.0        0.0    0.0        1.0      0.0      1.0   \n",
       "4               0.0     0.0        0.0    0.0        1.0      0.0      1.0   \n",
       "\n",
       "scenario  Groovy6  Groovy1  \n",
       "0             1.0      1.0  \n",
       "1             0.0      0.0  \n",
       "2             0.0      0.0  \n",
       "3             0.0      1.0  \n",
       "4             0.0      0.0  "
      ]
     },
     "execution_count": 288,
     "metadata": {},
     "output_type": "execute_result"
    }
   ],
   "source": [
    "copybinaryoccurancedf.rename_axis('scenario', axis=1, inplace=True)\n",
    "copybinaryoccurancedf.head()"
   ]
  },
  {
   "cell_type": "code",
   "execution_count": 290,
   "metadata": {},
   "outputs": [
    {
     "data": {
      "text/html": [
       "<div>\n",
       "<style scoped>\n",
       "    .dataframe tbody tr th:only-of-type {\n",
       "        vertical-align: middle;\n",
       "    }\n",
       "\n",
       "    .dataframe tbody tr th {\n",
       "        vertical-align: top;\n",
       "    }\n",
       "\n",
       "    .dataframe thead th {\n",
       "        text-align: right;\n",
       "    }\n",
       "</style>\n",
       "<table border=\"1\" class=\"dataframe\">\n",
       "  <thead>\n",
       "    <tr style=\"text-align: right;\">\n",
       "      <th>scenario</th>\n",
       "      <th>Mapping10</th>\n",
       "      <th>iFlow1</th>\n",
       "      <th>WSDL-xsd1</th>\n",
       "      <th>WSDL0</th>\n",
       "      <th>Property0</th>\n",
       "      <th>Groovy0</th>\n",
       "      <th>Groovy2</th>\n",
       "      <th>Groovy6</th>\n",
       "      <th>Groovy1</th>\n",
       "    </tr>\n",
       "  </thead>\n",
       "  <tbody>\n",
       "    <tr>\n",
       "      <th>0</th>\n",
       "      <td>0.052632</td>\n",
       "      <td>0.052632</td>\n",
       "      <td>0.210526</td>\n",
       "      <td>0.052632</td>\n",
       "      <td>0.263158</td>\n",
       "      <td>0.052632</td>\n",
       "      <td>0.105263</td>\n",
       "      <td>0.052632</td>\n",
       "      <td>0.105263</td>\n",
       "    </tr>\n",
       "    <tr>\n",
       "      <th>1</th>\n",
       "      <td>0.000000</td>\n",
       "      <td>0.000000</td>\n",
       "      <td>0.000000</td>\n",
       "      <td>0.000000</td>\n",
       "      <td>0.125000</td>\n",
       "      <td>0.000000</td>\n",
       "      <td>0.125000</td>\n",
       "      <td>0.000000</td>\n",
       "      <td>0.000000</td>\n",
       "    </tr>\n",
       "    <tr>\n",
       "      <th>2</th>\n",
       "      <td>0.000000</td>\n",
       "      <td>0.125000</td>\n",
       "      <td>0.000000</td>\n",
       "      <td>0.125000</td>\n",
       "      <td>0.250000</td>\n",
       "      <td>0.000000</td>\n",
       "      <td>0.125000</td>\n",
       "      <td>0.000000</td>\n",
       "      <td>0.000000</td>\n",
       "    </tr>\n",
       "    <tr>\n",
       "      <th>3</th>\n",
       "      <td>0.000000</td>\n",
       "      <td>0.000000</td>\n",
       "      <td>0.000000</td>\n",
       "      <td>0.000000</td>\n",
       "      <td>0.550000</td>\n",
       "      <td>0.000000</td>\n",
       "      <td>0.100000</td>\n",
       "      <td>0.000000</td>\n",
       "      <td>0.050000</td>\n",
       "    </tr>\n",
       "    <tr>\n",
       "      <th>4</th>\n",
       "      <td>0.000000</td>\n",
       "      <td>0.000000</td>\n",
       "      <td>0.000000</td>\n",
       "      <td>0.000000</td>\n",
       "      <td>0.200000</td>\n",
       "      <td>0.000000</td>\n",
       "      <td>0.400000</td>\n",
       "      <td>0.000000</td>\n",
       "      <td>0.000000</td>\n",
       "    </tr>\n",
       "  </tbody>\n",
       "</table>\n",
       "</div>"
      ],
      "text/plain": [
       "scenario  Mapping10    iFlow1  WSDL-xsd1     WSDL0  Property0   Groovy0  \\\n",
       "0          0.052632  0.052632   0.210526  0.052632   0.263158  0.052632   \n",
       "1          0.000000  0.000000   0.000000  0.000000   0.125000  0.000000   \n",
       "2          0.000000  0.125000   0.000000  0.125000   0.250000  0.000000   \n",
       "3          0.000000  0.000000   0.000000  0.000000   0.550000  0.000000   \n",
       "4          0.000000  0.000000   0.000000  0.000000   0.200000  0.000000   \n",
       "\n",
       "scenario   Groovy2   Groovy6   Groovy1  \n",
       "0         0.105263  0.052632  0.105263  \n",
       "1         0.125000  0.000000  0.000000  \n",
       "2         0.125000  0.000000  0.000000  \n",
       "3         0.100000  0.000000  0.050000  \n",
       "4         0.400000  0.000000  0.000000  "
      ]
     },
     "execution_count": 290,
     "metadata": {},
     "output_type": "execute_result"
    }
   ],
   "source": [
    "copyratiooccurancedf.rename_axis('scenario', axis=1, inplace=True)\n",
    "copyratiooccurancedf.head()"
   ]
  },
  {
   "cell_type": "code",
   "execution_count": 292,
   "metadata": {},
   "outputs": [
    {
     "name": "stdout",
     "output_type": "stream",
     "text": [
      "\\begin{tabular}{rrrrrrrrrr}\n",
      "\\hline\n",
      "    &   Mapping10 &    iFlow1 &   WSDL-xsd1 &     WSDL0 &   Property0 &   Groovy0 &   Groovy2 &   Groovy6 &   Groovy1 \\\\\n",
      "\\hline\n",
      "  0 &   0.0526316 & 0.0526316 &    0.210526 & 0.0526316 &    0.263158 & 0.0526316 &  0.105263 & 0.0526316 & 0.105263  \\\\\n",
      "  1 &   0         & 0         &    0        & 0         &    0.125    & 0         &  0.125    & 0         & 0         \\\\\n",
      "  2 &   0         & 0.125     &    0        & 0.125     &    0.25     & 0         &  0.125    & 0         & 0         \\\\\n",
      "  3 &   0         & 0         &    0        & 0         &    0.55     & 0         &  0.1      & 0         & 0.05      \\\\\n",
      "  4 &   0         & 0         &    0        & 0         &    0.2      & 0         &  0.4      & 0         & 0         \\\\\n",
      "  5 &   0         & 0.04      &    0.16     & 0         &    0.44     & 0         &  0.12     & 0         & 0         \\\\\n",
      "  6 &   0         & 0         &    0        & 0         &    0.833333 & 0         &  0        & 0         & 0         \\\\\n",
      "  7 &   0         & 0.111111  &    0        & 0         &    0.333333 & 0.111111  &  0        & 0         & 0         \\\\\n",
      "  8 &   0         & 0.333333  &    0        & 0         &    0.333333 & 0         &  0.333333 & 0         & 0         \\\\\n",
      "  9 &   0         & 0         &    0        & 0.0588235 &    0.352941 & 0.0588235 &  0        & 0.0588235 & 0.0588235 \\\\\n",
      "\\hline\n",
      "\\end{tabular}\n"
     ]
    }
   ],
   "source": [
    "from tabulate import tabulate\n",
    "print(tabulate(copyratiooccurancedf.head(10), headers=\"keys\", tablefmt=\"latex\"))"
   ]
  },
  {
   "cell_type": "markdown",
   "metadata": {},
   "source": [
    "### Binary run"
   ]
  },
  {
   "cell_type": "code",
   "execution_count": 210,
   "metadata": {},
   "outputs": [
    {
     "data": {
      "application/vnd.jupyter.widget-view+json": {
       "model_id": "",
       "version_major": 2,
       "version_minor": 0
      },
      "text/plain": [
       "HBox(children=(IntProgress(value=0, max=23), HTML(value='')))"
      ]
     },
     "metadata": {},
     "output_type": "display_data"
    },
    {
     "name": "stdout",
     "output_type": "stream",
     "text": [
      "number of clusters: 2\n",
      "   silhouette_score score: 0.03306447457520846\n",
      "   davies_bouldin_score score: 5.878266691548094\n",
      "   calinski_harabasz_score score: 12.633666726263783\n",
      "number of clusters: 3\n",
      "   silhouette_score score: 0.046107761746338294\n",
      "   davies_bouldin_score score: 4.259141723674193\n",
      "   calinski_harabasz_score score: 19.78838832579512\n",
      "number of clusters: 4\n",
      "   silhouette_score score: 0.045134889746432635\n",
      "   davies_bouldin_score score: 3.2107052678164267\n",
      "   calinski_harabasz_score score: 25.331060143769488\n",
      "number of clusters: 5\n",
      "   silhouette_score score: 0.04601610642267726\n",
      "   davies_bouldin_score score: 3.105888284439736\n",
      "   calinski_harabasz_score score: 22.670972806916\n",
      "number of clusters: 6\n",
      "   silhouette_score score: 0.08478519729574167\n",
      "   davies_bouldin_score score: 2.644212486912859\n",
      "   calinski_harabasz_score score: 30.117460132918954\n",
      "number of clusters: 7\n",
      "   silhouette_score score: 0.07698544962331681\n",
      "   davies_bouldin_score score: 2.8661273349452503\n",
      "   calinski_harabasz_score score: 27.991963986820096\n",
      "number of clusters: 8\n",
      "   silhouette_score score: 0.08134911041391885\n",
      "   davies_bouldin_score score: 2.8023221761048736\n",
      "   calinski_harabasz_score score: 27.00148456708809\n",
      "number of clusters: 9\n",
      "   silhouette_score score: 0.07564931794386806\n",
      "   davies_bouldin_score score: 2.7531079540067793\n",
      "   calinski_harabasz_score score: 26.81864566781734\n",
      "number of clusters: 10\n",
      "   silhouette_score score: 0.05295918297148169\n",
      "   davies_bouldin_score score: 3.2968308021671255\n",
      "   calinski_harabasz_score score: 23.218841472860554\n",
      "number of clusters: 11\n",
      "   silhouette_score score: 0.07138406082691999\n",
      "   davies_bouldin_score score: 2.716355231847244\n",
      "   calinski_harabasz_score score: 26.78820499335969\n",
      "number of clusters: 12\n",
      "   silhouette_score score: 0.07160990007562341\n",
      "   davies_bouldin_score score: 2.9737733595495026\n",
      "   calinski_harabasz_score score: 25.56977387480761\n",
      "number of clusters: 13\n",
      "   silhouette_score score: 0.06858428535386663\n",
      "   davies_bouldin_score score: 2.8882305231381102\n",
      "   calinski_harabasz_score score: 25.844309773151153\n",
      "number of clusters: 14\n",
      "   silhouette_score score: 0.07200275454181018\n",
      "   davies_bouldin_score score: 3.5126478414805655\n",
      "   calinski_harabasz_score score: 22.552236922795057\n",
      "number of clusters: 15\n",
      "   silhouette_score score: 0.07252047540687015\n",
      "   davies_bouldin_score score: 3.5451660964506124\n",
      "   calinski_harabasz_score score: 22.633111098919436\n",
      "number of clusters: 16\n",
      "   silhouette_score score: 0.06615483396152094\n",
      "   davies_bouldin_score score: 3.5620882979834096\n",
      "   calinski_harabasz_score score: 20.536123999587844\n",
      "number of clusters: 17\n",
      "   silhouette_score score: 0.06722352747551384\n",
      "   davies_bouldin_score score: 3.834493895233231\n",
      "   calinski_harabasz_score score: 20.23032783667317\n",
      "number of clusters: 18\n",
      "   silhouette_score score: 0.0683859084691186\n",
      "   davies_bouldin_score score: 3.418675409996561\n",
      "   calinski_harabasz_score score: 20.700711762012144\n",
      "number of clusters: 19\n",
      "   silhouette_score score: 0.05415031367371751\n",
      "   davies_bouldin_score score: 3.327177060762253\n",
      "   calinski_harabasz_score score: 19.44642078170818\n",
      "number of clusters: 20\n",
      "   silhouette_score score: 0.047543841370690815\n",
      "   davies_bouldin_score score: 3.48107147622116\n",
      "   calinski_harabasz_score score: 18.76474220158007\n",
      "number of clusters: 21\n",
      "   silhouette_score score: 0.04228050548455256\n",
      "   davies_bouldin_score score: 3.4730760872104685\n",
      "   calinski_harabasz_score score: 18.602101884567528\n",
      "number of clusters: 22\n",
      "   silhouette_score score: 0.05259087584997435\n",
      "   davies_bouldin_score score: 3.548655100365711\n",
      "   calinski_harabasz_score score: 19.038653647958007\n",
      "number of clusters: 23\n",
      "   silhouette_score score: 0.05051465817514937\n",
      "   davies_bouldin_score score: 4.01608864901515\n",
      "   calinski_harabasz_score score: 17.842165399039207\n",
      "number of clusters: 24\n",
      "   silhouette_score score: 0.03996008093185721\n",
      "   davies_bouldin_score score: 3.4692564554729834\n",
      "   calinski_harabasz_score score: 17.10946521816217\n"
     ]
    }
   ],
   "source": [
    "localbinaryoccurancedf = binaryoccurancedf.copy()\n",
    "localbinaryoccurancedf = localbinaryoccurancedf.drop(columns=[\"scenario\",\"filecount\"])\n",
    "clusterrange = 25\n",
    "binaryoccurancescores = []\n",
    "name = \"Binary Test\"\n",
    "binres = range_of_clusters(localbinaryoccurancedf, 2, clusterrange, 40)\n",
    "binaryoccurancescores.append((name, binres))"
   ]
  },
  {
   "cell_type": "code",
   "execution_count": 260,
   "metadata": {},
   "outputs": [
    {
     "data": {
      "image/png": "[encoded data removed]",
      "text/plain": [
       "<Figure size 432x288 with 3 Axes>"
      ]
     },
     "metadata": {
      "needs_background": "light"
     },
     "output_type": "display_data"
    },
    {
     "name": "stdout",
     "output_type": "stream",
     "text": [
      "Name: Binary Test\n",
      "silhouette_score\n",
      "\tBest: 0.08478519729574167 clusters: 6\n",
      "\t2nd best: 0.03996008093185721 clusters:24\n",
      "davies_bouldin_score\n",
      "\tBest: 2.644212486912859 clusters: 6\n",
      "\t2nd best: 4.259141723674193 clusters:3\n",
      "calinski_harabasz_score\n",
      "\tBest: 30.117460132918954 clusters: 6\n",
      "\t2nd best: 27.991963986820096 clusters:7\n",
      "\n"
     ]
    }
   ],
   "source": [
    "plot = plot_scores(binres, size=clusterrange, name=\"Final Binary\")\n",
    "plot.savefig(\"../images/\"+\"Final Binary\"+'.png')\n",
    "bestscores(binaryoccurancescores)"
   ]
  },
  {
   "cell_type": "markdown",
   "metadata": {},
   "source": [
    "### Ratio run"
   ]
  },
  {
   "cell_type": "code",
   "execution_count": 211,
   "metadata": {},
   "outputs": [
    {
     "data": {
      "application/vnd.jupyter.widget-view+json": {
       "model_id": "",
       "version_major": 2,
       "version_minor": 0
      },
      "text/plain": [
       "HBox(children=(IntProgress(value=0, max=23), HTML(value='')))"
      ]
     },
     "metadata": {},
     "output_type": "display_data"
    },
    {
     "name": "stdout",
     "output_type": "stream",
     "text": [
      "number of clusters: 2\n",
      "   silhouette_score score: 0.0548757536012716\n",
      "   davies_bouldin_score score: 4.061957201768166\n",
      "   calinski_harabasz_score score: 22.898274966077498\n",
      "number of clusters: 3\n",
      "   silhouette_score score: 0.06624053091140156\n",
      "   davies_bouldin_score score: 3.1562239992841388\n",
      "   calinski_harabasz_score score: 29.8263747678077\n",
      "number of clusters: 4\n",
      "   silhouette_score score: 0.09931797967188424\n",
      "   davies_bouldin_score score: 2.338086911495581\n",
      "   calinski_harabasz_score score: 45.91742292210841\n",
      "number of clusters: 5\n",
      "   silhouette_score score: 0.07598402863526744\n",
      "   davies_bouldin_score score: 2.244963726782248\n",
      "   calinski_harabasz_score score: 48.741427706561076\n",
      "number of clusters: 6\n",
      "   silhouette_score score: 0.10659847792876119\n",
      "   davies_bouldin_score score: 2.3762067575390273\n",
      "   calinski_harabasz_score score: 54.17212920850683\n",
      "number of clusters: 7\n",
      "   silhouette_score score: 0.11835418297711132\n",
      "   davies_bouldin_score score: 2.075124832369037\n",
      "   calinski_harabasz_score score: 51.419922735383466\n",
      "number of clusters: 8\n",
      "   silhouette_score score: 0.13960974729186262\n",
      "   davies_bouldin_score score: 1.6128863484100666\n",
      "   calinski_harabasz_score score: 75.31996944882042\n",
      "number of clusters: 9\n",
      "   silhouette_score score: 0.14080681518817728\n",
      "   davies_bouldin_score score: 1.5734050833991262\n",
      "   calinski_harabasz_score score: 73.75463020956694\n",
      "number of clusters: 10\n",
      "   silhouette_score score: 0.10571978312171296\n",
      "   davies_bouldin_score score: 1.9904544392284538\n",
      "   calinski_harabasz_score score: 55.2826559660557\n",
      "number of clusters: 11\n",
      "   silhouette_score score: 0.1426967592997659\n",
      "   davies_bouldin_score score: 1.610629708870086\n",
      "   calinski_harabasz_score score: 67.4934414759852\n",
      "number of clusters: 12\n",
      "   silhouette_score score: 0.12811255384928175\n",
      "   davies_bouldin_score score: 1.9355868681277038\n",
      "   calinski_harabasz_score score: 58.43312944109952\n",
      "number of clusters: 13\n",
      "   silhouette_score score: 0.12579325904988284\n",
      "   davies_bouldin_score score: 1.896807617096301\n",
      "   calinski_harabasz_score score: 58.89216283041751\n",
      "number of clusters: 14\n",
      "   silhouette_score score: 0.11806094162764302\n",
      "   davies_bouldin_score score: 2.323095299219085\n",
      "   calinski_harabasz_score score: 66.27788915062906\n",
      "number of clusters: 15\n",
      "   silhouette_score score: 0.14459319841676221\n",
      "   davies_bouldin_score score: 2.115905308062683\n",
      "   calinski_harabasz_score score: 66.55321728483028\n",
      "number of clusters: 16\n",
      "   silhouette_score score: 0.14762306021210622\n",
      "   davies_bouldin_score score: 2.2358220786388534\n",
      "   calinski_harabasz_score score: 68.51809952892562\n",
      "number of clusters: 17\n",
      "   silhouette_score score: 0.11139405506763586\n",
      "   davies_bouldin_score score: 2.209600867533986\n",
      "   calinski_harabasz_score score: 62.232816776396255\n",
      "number of clusters: 18\n",
      "   silhouette_score score: 0.09859929144257741\n",
      "   davies_bouldin_score score: 2.899480280332946\n",
      "   calinski_harabasz_score score: 58.394864754177185\n",
      "number of clusters: 19\n",
      "   silhouette_score score: 0.10374918265271066\n",
      "   davies_bouldin_score score: 2.378556046372354\n",
      "   calinski_harabasz_score score: 54.68678715162077\n",
      "number of clusters: 20\n",
      "   silhouette_score score: 0.08074713466431806\n",
      "   davies_bouldin_score score: 2.2293103629849096\n",
      "   calinski_harabasz_score score: 53.442440852195155\n",
      "number of clusters: 21\n",
      "   silhouette_score score: 0.08591559877104657\n",
      "   davies_bouldin_score score: 2.6566407716606886\n",
      "   calinski_harabasz_score score: 53.52304656082994\n",
      "number of clusters: 22\n",
      "   silhouette_score score: 0.08485895273396842\n",
      "   davies_bouldin_score score: 2.3150755756089025\n",
      "   calinski_harabasz_score score: 49.01174850315792\n",
      "number of clusters: 23\n",
      "   silhouette_score score: 0.10352280290226457\n",
      "   davies_bouldin_score score: 2.3831027959018387\n",
      "   calinski_harabasz_score score: 50.75407771351755\n",
      "number of clusters: 24\n",
      "   silhouette_score score: 0.11117245007036601\n",
      "   davies_bouldin_score score: 2.416624411304029\n",
      "   calinski_harabasz_score score: 55.31339917714002\n"
     ]
    }
   ],
   "source": [
    "localratiooccurancedf = ratiooccurancedf.copy()\n",
    "localratiooccurancedf = localratiooccurancedf.drop(columns=[\"scenario\",\"filecount\"])\n",
    "clusterrange = 25\n",
    "ratiooccurancescores = []\n",
    "name = \"Ratio Test\"\n",
    "ratres = range_of_clusters(localratiooccurancedf, 2, clusterrange, 40)\n",
    "ratiooccurancescores.append((name, ratres))"
   ]
  },
  {
   "cell_type": "code",
   "execution_count": 261,
   "metadata": {},
   "outputs": [
    {
     "data": {
      "image/png": "[encoded data removed]",
      "text/plain": [
       "<Figure size 432x288 with 3 Axes>"
      ]
     },
     "metadata": {
      "needs_background": "light"
     },
     "output_type": "display_data"
    },
    {
     "name": "stdout",
     "output_type": "stream",
     "text": [
      "Name: Ratio Test\n",
      "silhouette_score\n",
      "\tBest: 0.14762306021210622 clusters: 16\n",
      "\t2nd best: 0.06624053091140156 clusters:3\n",
      "davies_bouldin_score\n",
      "\tBest: 1.5734050833991262 clusters: 9\n",
      "\t2nd best: 3.1562239992841388 clusters:3\n",
      "calinski_harabasz_score\n",
      "\tBest: 75.31996944882042 clusters: 8\n",
      "\t2nd best: 73.75463020956694 clusters:9\n",
      "\n"
     ]
    }
   ],
   "source": [
    "plot = plot_scores(ratres, size=clusterrange, name=\"Final Ratio\")\n",
    "plot.savefig(\"../images/\"+\"Final Ratio\"+'.png')\n",
    "bestscores(ratiooccurancescores)"
   ]
  },
  {
   "cell_type": "markdown",
   "metadata": {},
   "source": [
    "### KMeans"
   ]
  },
  {
   "cell_type": "markdown",
   "metadata": {},
   "source": [
    "#### Binary"
   ]
  },
  {
   "cell_type": "code",
   "execution_count": 215,
   "metadata": {},
   "outputs": [],
   "source": [
    "random_state = 42"
   ]
  },
  {
   "cell_type": "code",
   "execution_count": 216,
   "metadata": {},
   "outputs": [],
   "source": [
    "localbinaryoccurancedf = binaryoccurancedf.drop(columns=['scenario','filecount'])\n",
    "km = KMeans(n_clusters=6, random_state=random_state)\n",
    "binkmeanres = km.fit_predict(localbinaryoccurancedf.values)\n",
    "dfcopy = binaryoccurancedf.copy()\n",
    "dfcopy['cluster'] = binkmeanres\n",
    "dfcopy['scenario'] = dfcopy['scenario'].apply(scenarioid_to_scenario)"
   ]
  },
  {
   "cell_type": "markdown",
   "metadata": {},
   "source": [
    "#### Ratio"
   ]
  },
  {
   "cell_type": "code",
   "execution_count": 217,
   "metadata": {},
   "outputs": [],
   "source": [
    "localratiooccurancedf = ratiooccurancedf.drop(columns=['scenario','filecount'])\n",
    "ratiokm = KMeans(n_clusters=9, random_state=random_state)\n",
    "ratiokmeanres = ratiokm.fit_predict(localratiooccurancedf.values)\n",
    "ratiodfcopy = ratiooccurancedf.copy()\n",
    "ratiodfcopy['cluster'] = ratiokmeanres\n",
    "ratiodfcopy['scenario'] = ratiodfcopy['scenario'].apply(scenarioid_to_scenario)"
   ]
  },
  {
   "cell_type": "code",
   "execution_count": 218,
   "metadata": {},
   "outputs": [],
   "source": [
    "binaryoccurancedf = binaryoccurancedf['scenario'].apply(scenarioid_to_scenario)"
   ]
  },
  {
   "cell_type": "code",
   "execution_count": 219,
   "metadata": {},
   "outputs": [],
   "source": [
    "ratiodfcopy.to_csv(\"../generateddata/ratiooccuranceclusters.csv\")"
   ]
  },
  {
   "cell_type": "code",
   "execution_count": 220,
   "metadata": {},
   "outputs": [],
   "source": [
    "dfcopy.to_csv(\"../generateddata/binaryoccuranceclusters.csv\")"
   ]
  },
  {
   "cell_type": "markdown",
   "metadata": {},
   "source": [
    "## Visualize Binary"
   ]
  },
  {
   "cell_type": "code",
   "execution_count": 47,
   "metadata": {},
   "outputs": [],
   "source": [
    "dfcopy = pd.read_csv(\"../generateddata/binaryoccuranceclusters.csv\")"
   ]
  },
  {
   "cell_type": "code",
   "execution_count": 50,
   "metadata": {},
   "outputs": [],
   "source": [
    "dfcopy.drop(columns=['Unnamed: 0'], inplace=True)"
   ]
  },
  {
   "cell_type": "code",
   "execution_count": 56,
   "metadata": {},
   "outputs": [],
   "source": [
    "dfcopy['scenario'] = dfcopy['scenario'].apply(scenario_to_scenarioid)"
   ]
  },
  {
   "cell_type": "code",
   "execution_count": 93,
   "metadata": {},
   "outputs": [
    {
     "data": {
      "text/html": [
       "<div>\n",
       "<style scoped>\n",
       "    .dataframe tbody tr th:only-of-type {\n",
       "        vertical-align: middle;\n",
       "    }\n",
       "\n",
       "    .dataframe tbody tr th {\n",
       "        vertical-align: top;\n",
       "    }\n",
       "\n",
       "    .dataframe thead th {\n",
       "        text-align: right;\n",
       "    }\n",
       "</style>\n",
       "<table border=\"1\" class=\"dataframe\">\n",
       "  <thead>\n",
       "    <tr style=\"text-align: right;\">\n",
       "      <th></th>\n",
       "      <th>0</th>\n",
       "      <th>1</th>\n",
       "      <th>2</th>\n",
       "    </tr>\n",
       "  </thead>\n",
       "  <tbody>\n",
       "    <tr>\n",
       "      <th>0</th>\n",
       "      <td>227.000416</td>\n",
       "      <td>-0.316930</td>\n",
       "      <td>0.350718</td>\n",
       "    </tr>\n",
       "    <tr>\n",
       "      <th>1</th>\n",
       "      <td>225.996005</td>\n",
       "      <td>-11.358704</td>\n",
       "      <td>-0.417394</td>\n",
       "    </tr>\n",
       "    <tr>\n",
       "      <th>2</th>\n",
       "      <td>224.995127</td>\n",
       "      <td>-11.345553</td>\n",
       "      <td>-0.629152</td>\n",
       "    </tr>\n",
       "    <tr>\n",
       "      <th>3</th>\n",
       "      <td>224.001045</td>\n",
       "      <td>0.657881</td>\n",
       "      <td>-0.273364</td>\n",
       "    </tr>\n",
       "    <tr>\n",
       "      <th>4</th>\n",
       "      <td>222.994825</td>\n",
       "      <td>-14.358094</td>\n",
       "      <td>0.644426</td>\n",
       "    </tr>\n",
       "  </tbody>\n",
       "</table>\n",
       "</div>"
      ],
      "text/plain": [
       "            0          1         2\n",
       "0  227.000416  -0.316930  0.350718\n",
       "1  225.996005 -11.358704 -0.417394\n",
       "2  224.995127 -11.345553 -0.629152\n",
       "3  224.001045   0.657881 -0.273364\n",
       "4  222.994825 -14.358094  0.644426"
      ]
     },
     "execution_count": 93,
     "metadata": {},
     "output_type": "execute_result"
    }
   ],
   "source": [
    "pca = PCA(3) \n",
    "pca.fit(dfcopy) \n",
    "  \n",
    "pca_data = pd.DataFrame(pca.transform(dfcopy)) \n",
    "  \n",
    "pca_data.head()"
   ]
  },
  {
   "cell_type": "code",
   "execution_count": 94,
   "metadata": {},
   "outputs": [],
   "source": [
    "clusters = 6\n",
    "''' Generating different colors in ascending order  \n",
    "                                of their hsv values '''\n",
    "colors = list(zip(*sorted(( \n",
    "                    tuple(mcolors.rgb_to_hsv( \n",
    "                          mcolors.to_rgba(color)[:3])), name) \n",
    "                     for name, color in dict( \n",
    "                            mcolors.BASE_COLORS, **mcolors.CSS4_COLORS \n",
    "                                                      ).items())))[1] \n",
    "   \n",
    "# number of steps to taken generate n(clusters) colors  \n",
    "skips = math.floor(len(colors[5 : -5])/clusters) \n",
    "cluster_colors = colors[5 : -5 : skips] "
   ]
  },
  {
   "cell_type": "code",
   "execution_count": 95,
   "metadata": {},
   "outputs": [
    {
     "data": {
      "text/html": [
       "<div>\n",
       "<style scoped>\n",
       "    .dataframe tbody tr th:only-of-type {\n",
       "        vertical-align: middle;\n",
       "    }\n",
       "\n",
       "    .dataframe tbody tr th {\n",
       "        vertical-align: top;\n",
       "    }\n",
       "\n",
       "    .dataframe thead th {\n",
       "        text-align: right;\n",
       "    }\n",
       "</style>\n",
       "<table border=\"1\" class=\"dataframe\">\n",
       "  <thead>\n",
       "    <tr style=\"text-align: right;\">\n",
       "      <th></th>\n",
       "      <th>0</th>\n",
       "      <th>1</th>\n",
       "      <th>2</th>\n",
       "    </tr>\n",
       "  </thead>\n",
       "  <tbody>\n",
       "    <tr>\n",
       "      <th>0</th>\n",
       "      <td>227.000416</td>\n",
       "      <td>-0.316930</td>\n",
       "      <td>0.350718</td>\n",
       "    </tr>\n",
       "    <tr>\n",
       "      <th>1</th>\n",
       "      <td>225.996005</td>\n",
       "      <td>-11.358704</td>\n",
       "      <td>-0.417394</td>\n",
       "    </tr>\n",
       "    <tr>\n",
       "      <th>2</th>\n",
       "      <td>224.995127</td>\n",
       "      <td>-11.345553</td>\n",
       "      <td>-0.629152</td>\n",
       "    </tr>\n",
       "    <tr>\n",
       "      <th>3</th>\n",
       "      <td>224.001045</td>\n",
       "      <td>0.657881</td>\n",
       "      <td>-0.273364</td>\n",
       "    </tr>\n",
       "    <tr>\n",
       "      <th>4</th>\n",
       "      <td>222.994825</td>\n",
       "      <td>-14.358094</td>\n",
       "      <td>0.644426</td>\n",
       "    </tr>\n",
       "  </tbody>\n",
       "</table>\n",
       "</div>"
      ],
      "text/plain": [
       "            0          1         2\n",
       "0  227.000416  -0.316930  0.350718\n",
       "1  225.996005 -11.358704 -0.417394\n",
       "2  224.995127 -11.345553 -0.629152\n",
       "3  224.001045   0.657881 -0.273364\n",
       "4  222.994825 -14.358094  0.644426"
      ]
     },
     "execution_count": 95,
     "metadata": {},
     "output_type": "execute_result"
    }
   ],
   "source": [
    "pca_data.head()"
   ]
  },
  {
   "cell_type": "code",
   "execution_count": 96,
   "metadata": {},
   "outputs": [],
   "source": [
    "dfcopy['scenario'] = dfcopy['scenario'].apply(scenarioid_to_scenario)"
   ]
  },
  {
   "cell_type": "code",
   "execution_count": 97,
   "metadata": {},
   "outputs": [
    {
     "ename": "NameError",
     "evalue": "name 'km' is not defined",
     "output_type": "error",
     "traceback": [
      "\u001b[0;31m---------------------------------------------------------------------------\u001b[0m",
      "\u001b[0;31mNameError\u001b[0m                                 Traceback (most recent call last)",
      "\u001b[0;32m<ipython-input-97-3a536242e372>\u001b[0m in \u001b[0;36m<module>\u001b[0;34m\u001b[0m\n\u001b[1;32m      1\u001b[0m fig2 = px.scatter(x=pca_data[1], y=pca_data[2], hover_name=dfcopy['scenario'], size=dfcopy['filecount'],\\\n\u001b[0;32m----> 2\u001b[0;31m                     color=km.labels_, template='plotly', title=\"plot\")\n\u001b[0m\u001b[1;32m      3\u001b[0m \u001b[0mfig2\u001b[0m\u001b[0;34m.\u001b[0m\u001b[0mshow\u001b[0m\u001b[0;34m(\u001b[0m\u001b[0mrenderer\u001b[0m\u001b[0;34m=\u001b[0m\u001b[0;34m\"chrome\"\u001b[0m\u001b[0;34m)\u001b[0m\u001b[0;34m\u001b[0m\u001b[0;34m\u001b[0m\u001b[0m\n",
      "\u001b[0;31mNameError\u001b[0m: name 'km' is not defined"
     ]
    }
   ],
   "source": [
    "fig2 = px.scatter(x=pca_data[1], y=pca_data[2], hover_name=dfcopy['scenario'], size=dfcopy['filecount'],\\\n",
    "                    color=km.labels_, template='plotly', title=\"plot\")\n",
    "fig2.show(renderer=\"chrome\")"
   ]
  },
  {
   "cell_type": "code",
   "execution_count": 936,
   "metadata": {},
   "outputs": [],
   "source": [
    "file = open(\"../generateddata/Binary Clusters.html\",\"w\") \n",
    " \n",
    "file.write(plotlyio.to_html(fig2))\n",
    " \n",
    "file.close() "
   ]
  },
  {
   "cell_type": "markdown",
   "metadata": {},
   "source": [
    "## Visualize Ratio"
   ]
  },
  {
   "cell_type": "code",
   "execution_count": 229,
   "metadata": {},
   "outputs": [],
   "source": [
    "ratiodfcopy['scenario'] = ratiodfcopy['scenario'].apply(scenario_to_scenarioid)"
   ]
  },
  {
   "cell_type": "code",
   "execution_count": 230,
   "metadata": {},
   "outputs": [
    {
     "data": {
      "text/html": [
       "<div>\n",
       "<style scoped>\n",
       "    .dataframe tbody tr th:only-of-type {\n",
       "        vertical-align: middle;\n",
       "    }\n",
       "\n",
       "    .dataframe tbody tr th {\n",
       "        vertical-align: top;\n",
       "    }\n",
       "\n",
       "    .dataframe thead th {\n",
       "        text-align: right;\n",
       "    }\n",
       "</style>\n",
       "<table border=\"1\" class=\"dataframe\">\n",
       "  <thead>\n",
       "    <tr style=\"text-align: right;\">\n",
       "      <th></th>\n",
       "      <th>0</th>\n",
       "      <th>1</th>\n",
       "      <th>2</th>\n",
       "    </tr>\n",
       "  </thead>\n",
       "  <tbody>\n",
       "    <tr>\n",
       "      <th>0</th>\n",
       "      <td>226.998193</td>\n",
       "      <td>-0.322680</td>\n",
       "      <td>2.240230</td>\n",
       "    </tr>\n",
       "    <tr>\n",
       "      <th>1</th>\n",
       "      <td>225.993684</td>\n",
       "      <td>-11.321689</td>\n",
       "      <td>2.341442</td>\n",
       "    </tr>\n",
       "    <tr>\n",
       "      <th>2</th>\n",
       "      <td>224.996061</td>\n",
       "      <td>-11.348181</td>\n",
       "      <td>-0.658086</td>\n",
       "    </tr>\n",
       "    <tr>\n",
       "      <th>3</th>\n",
       "      <td>224.003403</td>\n",
       "      <td>0.624497</td>\n",
       "      <td>-3.772215</td>\n",
       "    </tr>\n",
       "    <tr>\n",
       "      <th>4</th>\n",
       "      <td>222.996444</td>\n",
       "      <td>-14.364878</td>\n",
       "      <td>-2.635472</td>\n",
       "    </tr>\n",
       "  </tbody>\n",
       "</table>\n",
       "</div>"
      ],
      "text/plain": [
       "            0          1         2\n",
       "0  226.998193  -0.322680  2.240230\n",
       "1  225.993684 -11.321689  2.341442\n",
       "2  224.996061 -11.348181 -0.658086\n",
       "3  224.003403   0.624497 -3.772215\n",
       "4  222.996444 -14.364878 -2.635472"
      ]
     },
     "execution_count": 230,
     "metadata": {},
     "output_type": "execute_result"
    }
   ],
   "source": [
    "pca2 = PCA(3) \n",
    "pca2.fit(ratiodfcopy) \n",
    "  \n",
    "pca_data2 = pd.DataFrame(pca2.transform(ratiodfcopy)) \n",
    "  \n",
    "pca_data2.head()"
   ]
  },
  {
   "cell_type": "code",
   "execution_count": 231,
   "metadata": {},
   "outputs": [],
   "source": [
    "clusters = 9\n",
    "''' Generating different colors in ascending order  \n",
    "                                of their hsv values '''\n",
    "colors = list(zip(*sorted(( \n",
    "                    tuple(mcolors.rgb_to_hsv( \n",
    "                          mcolors.to_rgba(color)[:3])), name) \n",
    "                     for name, color in dict( \n",
    "                            mcolors.BASE_COLORS, **mcolors.CSS4_COLORS \n",
    "                                                      ).items())))[1] \n",
    "   \n",
    "# number of steps to taken generate n(clusters) colors  \n",
    "skips = math.floor(len(colors[5 : -5])/clusters) \n",
    "cluster_colors = colors[5 : -5 : skips] "
   ]
  },
  {
   "cell_type": "code",
   "execution_count": 232,
   "metadata": {},
   "outputs": [
    {
     "data": {
      "text/html": [
       "<div>\n",
       "<style scoped>\n",
       "    .dataframe tbody tr th:only-of-type {\n",
       "        vertical-align: middle;\n",
       "    }\n",
       "\n",
       "    .dataframe tbody tr th {\n",
       "        vertical-align: top;\n",
       "    }\n",
       "\n",
       "    .dataframe thead th {\n",
       "        text-align: right;\n",
       "    }\n",
       "</style>\n",
       "<table border=\"1\" class=\"dataframe\">\n",
       "  <thead>\n",
       "    <tr style=\"text-align: right;\">\n",
       "      <th></th>\n",
       "      <th>0</th>\n",
       "      <th>1</th>\n",
       "      <th>2</th>\n",
       "    </tr>\n",
       "  </thead>\n",
       "  <tbody>\n",
       "    <tr>\n",
       "      <th>0</th>\n",
       "      <td>226.998193</td>\n",
       "      <td>-0.322680</td>\n",
       "      <td>2.240230</td>\n",
       "    </tr>\n",
       "    <tr>\n",
       "      <th>1</th>\n",
       "      <td>225.993684</td>\n",
       "      <td>-11.321689</td>\n",
       "      <td>2.341442</td>\n",
       "    </tr>\n",
       "    <tr>\n",
       "      <th>2</th>\n",
       "      <td>224.996061</td>\n",
       "      <td>-11.348181</td>\n",
       "      <td>-0.658086</td>\n",
       "    </tr>\n",
       "    <tr>\n",
       "      <th>3</th>\n",
       "      <td>224.003403</td>\n",
       "      <td>0.624497</td>\n",
       "      <td>-3.772215</td>\n",
       "    </tr>\n",
       "    <tr>\n",
       "      <th>4</th>\n",
       "      <td>222.996444</td>\n",
       "      <td>-14.364878</td>\n",
       "      <td>-2.635472</td>\n",
       "    </tr>\n",
       "  </tbody>\n",
       "</table>\n",
       "</div>"
      ],
      "text/plain": [
       "            0          1         2\n",
       "0  226.998193  -0.322680  2.240230\n",
       "1  225.993684 -11.321689  2.341442\n",
       "2  224.996061 -11.348181 -0.658086\n",
       "3  224.003403   0.624497 -3.772215\n",
       "4  222.996444 -14.364878 -2.635472"
      ]
     },
     "execution_count": 232,
     "metadata": {},
     "output_type": "execute_result"
    }
   ],
   "source": [
    "pca_data2.head()"
   ]
  },
  {
   "cell_type": "code",
   "execution_count": 233,
   "metadata": {},
   "outputs": [],
   "source": [
    "ratiodfcopy['scenario'] = ratiodfcopy['scenario'].apply(scenarioid_to_scenario)"
   ]
  },
  {
   "cell_type": "code",
   "execution_count": 258,
   "metadata": {},
   "outputs": [],
   "source": [
    "fig2 = px.scatter(x=pca_data2[1], y=pca_data2[2], hover_name=ratiodfcopy['scenario'], size=ratiodfcopy['filecount'],\\\n",
    "                    color=ratiokm.labels_, template='plotly', title=\"plot\")\n",
    "\n",
    "# fig2.update_yaxes(showgrid=True, zeroline=False)\n",
    "# fig2.update_yaxes(ticks=\"outside\", col=1)\n",
    "\n",
    "fig2.show(renderer=\"chrome\")"
   ]
  },
  {
   "cell_type": "code",
   "execution_count": 934,
   "metadata": {},
   "outputs": [],
   "source": [
    "file = open(\"../generateddata/Ratio Clusters.html\",\"w\") \n",
    " \n",
    "file.write(plotlyio.to_html(fig2))\n",
    " \n",
    "file.close() "
   ]
  },
  {
   "cell_type": "code",
   "execution_count": 237,
   "metadata": {},
   "outputs": [],
   "source": [
    "fig = px.scatter_3d(x=pca_data2[0], y=pca_data2[1], z=pca_data2[2], hover_name=ratiodfcopy['scenario'], \\\n",
    "                    size=ratiodfcopy['filecount'],\\\n",
    "                    color=ratiokm.labels_,  title=\"3dplot\")\n",
    "\n",
    "fig.update_yaxes(showgrid=True, zeroline=False)\n",
    "fig.update_yaxes(ticks=\"outside\", col=1)\n",
    "\n",
    "# fig.update_xaxes(title_text='Race')\n",
    "# fig.update_yaxes(title_text='Rank')\n",
    "fig.show(renderer=\"chrome\")"
   ]
  },
  {
   "cell_type": "markdown",
   "metadata": {},
   "source": [
    "# Next step"
   ]
  },
  {
   "cell_type": "markdown",
   "metadata": {},
   "source": [
    "## Select 20% of each cluster"
   ]
  },
  {
   "cell_type": "code",
   "execution_count": null,
   "metadata": {},
   "outputs": [],
   "source": []
  },
  {
   "cell_type": "code",
   "execution_count": 4,
   "metadata": {},
   "outputs": [],
   "source": [
    "ratiodfcopy = pd.read_csv(\"../generateddata/ratiooccuranceclusters.csv\")\n",
    "# ratiodfcopy.head()"
   ]
  },
  {
   "cell_type": "code",
   "execution_count": 9,
   "metadata": {},
   "outputs": [
    {
     "name": "stdout",
     "output_type": "stream",
     "text": [
      "{0: 111, 1: 94, 2: 150, 3: 14, 4: 86, 5: 0}\n"
     ]
    }
   ],
   "source": [
    "counts = {}\n",
    "for i in range(0,6):\n",
    "    isum = 0\n",
    "    for j in list(ratiodfcopy['cluster'].values):\n",
    "        if j==i:\n",
    "            isum += 1\n",
    "    counts.update({i:isum})\n",
    "print(counts)"
   ]
  },
  {
   "cell_type": "code",
   "execution_count": 5,
   "metadata": {},
   "outputs": [],
   "source": [
    "dfcopy = pd.read_csv(\"../generateddata/binaryoccuranceclusters.csv\")\n",
    "# dfcopy.head()"
   ]
  },
  {
   "cell_type": "code",
   "execution_count": 10,
   "metadata": {},
   "outputs": [
    {
     "name": "stdout",
     "output_type": "stream",
     "text": [
      "{0: 117, 1: 98, 2: 65, 3: 149, 4: 26, 5: 0}\n"
     ]
    }
   ],
   "source": [
    "counts = {}\n",
    "for i in range(0,6):\n",
    "    isum = 0\n",
    "    for j in list(dfcopy['cluster'].values):\n",
    "        if j==i:\n",
    "            isum += 1\n",
    "    counts.update({i:isum})\n",
    "print(counts)"
   ]
  },
  {
   "cell_type": "markdown",
   "metadata": {},
   "source": [
    "### Binary"
   ]
  },
  {
   "cell_type": "code",
   "execution_count": 7,
   "metadata": {},
   "outputs": [],
   "source": [
    "dflist=[]\n",
    "for i in range(0,5):\n",
    "    dflist.append(dfcopy[dfcopy['cluster']==i].sample(frac=0.2, replace=False, random_state=5))"
   ]
  },
  {
   "cell_type": "code",
   "execution_count": 8,
   "metadata": {},
   "outputs": [],
   "source": [
    "subset = pd.concat(dflist)\n",
    "# subset.head()"
   ]
  },
  {
   "cell_type": "code",
   "execution_count": 841,
   "metadata": {},
   "outputs": [
    {
     "name": "stdout",
     "output_type": "stream",
     "text": [
      "{0: 23, 1: 20, 2: 13, 3: 30, 4: 5}\n"
     ]
    }
   ],
   "source": [
    "counts = {}\n",
    "for i in range(0,5):\n",
    "    isum = 0\n",
    "    for j in list(subset['cluster'].values):\n",
    "        if j==i:\n",
    "            isum += 1\n",
    "    counts.update({i:isum})\n",
    "print(counts)"
   ]
  },
  {
   "cell_type": "markdown",
   "metadata": {},
   "source": [
    "### Ratio"
   ]
  },
  {
   "cell_type": "code",
   "execution_count": 9,
   "metadata": {},
   "outputs": [],
   "source": [
    "dflist=[]\n",
    "for i in range(0,6):\n",
    "    dflist.append(ratiodfcopy[ratiodfcopy['cluster']==i].sample(frac=0.2, replace=False, random_state=5))"
   ]
  },
  {
   "cell_type": "code",
   "execution_count": 10,
   "metadata": {},
   "outputs": [],
   "source": [
    "subset = pd.concat(dflist)\n",
    "# subset.head()"
   ]
  },
  {
   "cell_type": "code",
   "execution_count": 916,
   "metadata": {},
   "outputs": [
    {
     "name": "stdout",
     "output_type": "stream",
     "text": [
      "{0: 22, 1: 3, 2: 17, 3: 19, 4: 28, 5: 2}\n"
     ]
    }
   ],
   "source": [
    "counts = {}\n",
    "for i in range(0,6):\n",
    "    isum = 0\n",
    "    for j in list(subset['cluster'].values):\n",
    "        if j==i:\n",
    "            isum += 1\n",
    "    counts.update({i:isum})\n",
    "print(counts)"
   ]
  },
  {
   "cell_type": "markdown",
   "metadata": {},
   "source": [
    "## Include error/success data from the past X days/hours/weeks"
   ]
  },
  {
   "cell_type": "code",
   "execution_count": 1083,
   "metadata": {},
   "outputs": [],
   "source": [
    "url_user_pass = {}\n",
    "with open('url_user_pass.json') as json_file:\n",
    "    url_user_pass = json.load(json_file)\n",
    "    url_user_pass = url_user_pass.get(\"ExtractData\")"
   ]
  },
  {
   "cell_type": "code",
   "execution_count": 1084,
   "metadata": {},
   "outputs": [],
   "source": [
    "host = url_user_pass.get(\"PostNL\").get(\"qashost\")\n",
    "# url = url_user_pass.get(\"QforIT\").get(\"host\")\n",
    "# url = url_user_pass.get(\"other\").get(\"url2\")\n",
    "\n",
    "baseurl='https://'+host+url_user_pass.get(\"PostNL\").get(\"baseurl\")\n",
    "\n",
    "session = requests.Session()\n",
    "session.auth = (url_user_pass.get(\"suser\"), url_user_pass.get(\"password\"))"
   ]
  },
  {
   "cell_type": "code",
   "execution_count": 1085,
   "metadata": {},
   "outputs": [],
   "source": [
    "session.mount('https://', HTTPAdapter(pool_connections=5, pool_maxsize=20))\n",
    "def getCount():\n",
    "    counturl = url+\"MessageProcessingLogs/$count\"\n",
    "\n",
    "    r = session.get(str(counturl))\n",
    "    count = r.content\n",
    "    bcount = int(str(count)[2:8])\n",
    "    return bcount\n",
    "\n",
    "def requesturl(top,skip,url):\n",
    "    requesturl = url.format(top,skip)\n",
    "    return requesturl\n",
    "\n",
    "def request(top,skip,url):\n",
    "    req = requesturl(top,skip, str(url))\n",
    "    res = session.get(req)\n",
    "    contents = res.content.decode('utf8')\n",
    "    data = json.loads(contents)\n",
    "    \n",
    "    return data"
   ]
  },
  {
   "cell_type": "code",
   "execution_count": 973,
   "metadata": {},
   "outputs": [],
   "source": [
    "def getscenariocount(scenario = None):\n",
    "    url = baseurl + \"MessageProcessingLogs/?$filter=IntegrationFlowName eq '{}'&$inlinecount=allpages&$format=json&$select=Status\".format(scenario)\n",
    "    data = request(0,0,url)\n",
    "#     print(data)\n",
    "    count = data.get('d').get('__count')\n",
    "    return count, data.get('d').get('results')"
   ]
  },
  {
   "cell_type": "code",
   "execution_count": 975,
   "metadata": {},
   "outputs": [
    {
     "data": {
      "application/vnd.jupyter.widget-view+json": {
       "model_id": "",
       "version_major": 2,
       "version_minor": 0
      },
      "text/plain": [
       "HBox(children=(IntProgress(value=0, max=455), HTML(value='')))"
      ]
     },
     "metadata": {},
     "output_type": "display_data"
    }
   ],
   "source": [
    "dataset = []\n",
    "c={}\n",
    "pbar = tqdm(total=len(ratiodfcopy['scenario'].unique()), leave=False)\n",
    "for scenario in ratiodfcopy['scenario'].unique():\n",
    "    count, data = getscenariocount(scenario)\n",
    "    dataset.append(data)\n",
    "    c.update({scenario:count})\n",
    "    pbar.update(1)\n",
    "pbar.close()"
   ]
  },
  {
   "cell_type": "code",
   "execution_count": 1031,
   "metadata": {},
   "outputs": [],
   "source": [
    "testdfset = []\n",
    "\n",
    "for i in range(0, len(dataset)):\n",
    "    scenariovalue = list(c.keys())[i]\n",
    "#     print(scenariovalue)\n",
    "    for j in dataset[i]:\n",
    "        status = j.get('Status')\n",
    "        testdfset.append((scenariovalue,status))\n"
   ]
  },
  {
   "cell_type": "code",
   "execution_count": 11,
   "metadata": {},
   "outputs": [
    {
     "output_type": "error",
     "ename": "NameError",
     "evalue": "name 'testdfset' is not defined",
     "traceback": [
      "\u001b[0;31m---------------------------------------------------------------------------\u001b[0m",
      "\u001b[0;31mNameError\u001b[0m                                 Traceback (most recent call last)",
      "\u001b[0;32m<ipython-input-11-679028e7d98a>\u001b[0m in \u001b[0;36m<module>\u001b[0;34m\u001b[0m\n\u001b[0;32m----> 1\u001b[0;31m \u001b[0mattemptdfsomething\u001b[0m \u001b[0;34m=\u001b[0m \u001b[0mpd\u001b[0m\u001b[0;34m.\u001b[0m\u001b[0mDataFrame\u001b[0m\u001b[0;34m(\u001b[0m\u001b[0mtestdfset\u001b[0m\u001b[0;34m,\u001b[0m \u001b[0mcolumns\u001b[0m\u001b[0;34m=\u001b[0m\u001b[0;34m[\u001b[0m\u001b[0;34m\"scenario\"\u001b[0m\u001b[0;34m,\u001b[0m\u001b[0;34m\"messages\"\u001b[0m\u001b[0;34m]\u001b[0m\u001b[0;34m)\u001b[0m\u001b[0;34m\u001b[0m\u001b[0;34m\u001b[0m\u001b[0m\n\u001b[0m\u001b[1;32m      2\u001b[0m \u001b[0;31m# attemptdfsomething.head()\u001b[0m\u001b[0;34m\u001b[0m\u001b[0;34m\u001b[0m\u001b[0;34m\u001b[0m\u001b[0m\n",
      "\u001b[0;31mNameError\u001b[0m: name 'testdfset' is not defined"
     ]
    }
   ],
   "source": [
    "attemptdfsomething = pd.DataFrame(testdfset, columns=[\"scenario\",\"messages\"])\n",
    "# attemptdfsomething.head()"
   ]
  },
  {
   "cell_type": "code",
   "execution_count": 1034,
   "metadata": {},
   "outputs": [
    {
     "data": {
      "text/plain": [
       "array(['RETRY', 'COMPLETED', 'FAILED', 'PROCESSING'], dtype=object)"
      ]
     },
     "execution_count": 1034,
     "metadata": {},
     "output_type": "execute_result"
    }
   ],
   "source": [
    "attemptdfsomething.messages.unique()"
   ]
  },
  {
   "cell_type": "code",
   "execution_count": 977,
   "metadata": {},
   "outputs": [
    {
     "name": "stdout",
     "output_type": "stream",
     "text": [
      "154\n"
     ]
    }
   ],
   "source": [
    "q=0\n",
    "filt = []\n",
    "for j in c.items():\n",
    "    if int(j[1]) == 0:\n",
    "        q+=1\n",
    "        filt.append(j[0])\n",
    "print(q)"
   ]
  },
  {
   "cell_type": "code",
   "execution_count": 980,
   "metadata": {},
   "outputs": [],
   "source": [
    "binarydffiltered = dfcopy.copy()\n",
    "binarydffiltered = binarydffiltered[~binarydffiltered.scenario.isin(filt)]"
   ]
  },
  {
   "cell_type": "code",
   "execution_count": 1048,
   "metadata": {},
   "outputs": [
    {
     "data": {
      "text/html": [
       "<div>\n",
       "<style scoped>\n",
       "    .dataframe tbody tr th:only-of-type {\n",
       "        vertical-align: middle;\n",
       "    }\n",
       "\n",
       "    .dataframe tbody tr th {\n",
       "        vertical-align: top;\n",
       "    }\n",
       "\n",
       "    .dataframe thead th {\n",
       "        text-align: right;\n",
       "    }\n",
       "</style>\n",
       "<table border=\"1\" class=\"dataframe\">\n",
       "  <thead>\n",
       "    <tr style=\"text-align: right;\">\n",
       "      <th></th>\n",
       "      <th>iFlow18</th>\n",
       "      <th>WSDL-xsd2</th>\n",
       "      <th>WSDL1</th>\n",
       "      <th>Property1</th>\n",
       "      <th>Groovy0</th>\n",
       "      <th>Groovy1</th>\n",
       "      <th>Groovy3</th>\n",
       "      <th>Groovy2</th>\n",
       "      <th>filecount</th>\n",
       "      <th>XSD10</th>\n",
       "      <th>...</th>\n",
       "      <th>WSDL9</th>\n",
       "      <th>iFlow13</th>\n",
       "      <th>XSD6</th>\n",
       "      <th>Property6</th>\n",
       "      <th>WSDL12</th>\n",
       "      <th>Property5</th>\n",
       "      <th>XSD4</th>\n",
       "      <th>XSD7</th>\n",
       "      <th>XSD17</th>\n",
       "      <th>cluster</th>\n",
       "    </tr>\n",
       "  </thead>\n",
       "  <tbody>\n",
       "    <tr>\n",
       "      <th>count</th>\n",
       "      <td>301.000000</td>\n",
       "      <td>301.000000</td>\n",
       "      <td>301.000000</td>\n",
       "      <td>301.000000</td>\n",
       "      <td>301.000000</td>\n",
       "      <td>301.000000</td>\n",
       "      <td>301.000000</td>\n",
       "      <td>301.000000</td>\n",
       "      <td>301.000000</td>\n",
       "      <td>301.000000</td>\n",
       "      <td>...</td>\n",
       "      <td>301.000000</td>\n",
       "      <td>301.000000</td>\n",
       "      <td>301.000000</td>\n",
       "      <td>301.000000</td>\n",
       "      <td>301.000000</td>\n",
       "      <td>301.000000</td>\n",
       "      <td>301.000000</td>\n",
       "      <td>301.000000</td>\n",
       "      <td>301.000000</td>\n",
       "      <td>301.000000</td>\n",
       "    </tr>\n",
       "    <tr>\n",
       "      <th>mean</th>\n",
       "      <td>0.086379</td>\n",
       "      <td>0.259136</td>\n",
       "      <td>0.249169</td>\n",
       "      <td>0.538206</td>\n",
       "      <td>0.275748</td>\n",
       "      <td>0.740864</td>\n",
       "      <td>0.139535</td>\n",
       "      <td>0.332226</td>\n",
       "      <td>15.621262</td>\n",
       "      <td>0.029900</td>\n",
       "      <td>...</td>\n",
       "      <td>0.003322</td>\n",
       "      <td>0.009967</td>\n",
       "      <td>0.003322</td>\n",
       "      <td>0.066445</td>\n",
       "      <td>0.016611</td>\n",
       "      <td>0.066445</td>\n",
       "      <td>0.013289</td>\n",
       "      <td>0.013289</td>\n",
       "      <td>0.003322</td>\n",
       "      <td>1.764120</td>\n",
       "    </tr>\n",
       "    <tr>\n",
       "      <th>std</th>\n",
       "      <td>0.281390</td>\n",
       "      <td>0.438890</td>\n",
       "      <td>0.433252</td>\n",
       "      <td>0.499368</td>\n",
       "      <td>0.447634</td>\n",
       "      <td>0.438890</td>\n",
       "      <td>0.347081</td>\n",
       "      <td>0.471796</td>\n",
       "      <td>13.130730</td>\n",
       "      <td>0.170596</td>\n",
       "      <td>...</td>\n",
       "      <td>0.057639</td>\n",
       "      <td>0.099500</td>\n",
       "      <td>0.057639</td>\n",
       "      <td>0.249473</td>\n",
       "      <td>0.128023</td>\n",
       "      <td>0.249473</td>\n",
       "      <td>0.114700</td>\n",
       "      <td>0.114700</td>\n",
       "      <td>0.057639</td>\n",
       "      <td>1.388347</td>\n",
       "    </tr>\n",
       "    <tr>\n",
       "      <th>min</th>\n",
       "      <td>0.000000</td>\n",
       "      <td>0.000000</td>\n",
       "      <td>0.000000</td>\n",
       "      <td>0.000000</td>\n",
       "      <td>0.000000</td>\n",
       "      <td>0.000000</td>\n",
       "      <td>0.000000</td>\n",
       "      <td>0.000000</td>\n",
       "      <td>1.000000</td>\n",
       "      <td>0.000000</td>\n",
       "      <td>...</td>\n",
       "      <td>0.000000</td>\n",
       "      <td>0.000000</td>\n",
       "      <td>0.000000</td>\n",
       "      <td>0.000000</td>\n",
       "      <td>0.000000</td>\n",
       "      <td>0.000000</td>\n",
       "      <td>0.000000</td>\n",
       "      <td>0.000000</td>\n",
       "      <td>0.000000</td>\n",
       "      <td>0.000000</td>\n",
       "    </tr>\n",
       "    <tr>\n",
       "      <th>25%</th>\n",
       "      <td>0.000000</td>\n",
       "      <td>0.000000</td>\n",
       "      <td>0.000000</td>\n",
       "      <td>0.000000</td>\n",
       "      <td>0.000000</td>\n",
       "      <td>0.000000</td>\n",
       "      <td>0.000000</td>\n",
       "      <td>0.000000</td>\n",
       "      <td>9.000000</td>\n",
       "      <td>0.000000</td>\n",
       "      <td>...</td>\n",
       "      <td>0.000000</td>\n",
       "      <td>0.000000</td>\n",
       "      <td>0.000000</td>\n",
       "      <td>0.000000</td>\n",
       "      <td>0.000000</td>\n",
       "      <td>0.000000</td>\n",
       "      <td>0.000000</td>\n",
       "      <td>0.000000</td>\n",
       "      <td>0.000000</td>\n",
       "      <td>0.000000</td>\n",
       "    </tr>\n",
       "    <tr>\n",
       "      <th>50%</th>\n",
       "      <td>0.000000</td>\n",
       "      <td>0.000000</td>\n",
       "      <td>0.000000</td>\n",
       "      <td>1.000000</td>\n",
       "      <td>0.000000</td>\n",
       "      <td>1.000000</td>\n",
       "      <td>0.000000</td>\n",
       "      <td>0.000000</td>\n",
       "      <td>13.000000</td>\n",
       "      <td>0.000000</td>\n",
       "      <td>...</td>\n",
       "      <td>0.000000</td>\n",
       "      <td>0.000000</td>\n",
       "      <td>0.000000</td>\n",
       "      <td>0.000000</td>\n",
       "      <td>0.000000</td>\n",
       "      <td>0.000000</td>\n",
       "      <td>0.000000</td>\n",
       "      <td>0.000000</td>\n",
       "      <td>0.000000</td>\n",
       "      <td>2.000000</td>\n",
       "    </tr>\n",
       "    <tr>\n",
       "      <th>75%</th>\n",
       "      <td>0.000000</td>\n",
       "      <td>1.000000</td>\n",
       "      <td>0.000000</td>\n",
       "      <td>1.000000</td>\n",
       "      <td>1.000000</td>\n",
       "      <td>1.000000</td>\n",
       "      <td>0.000000</td>\n",
       "      <td>1.000000</td>\n",
       "      <td>17.000000</td>\n",
       "      <td>0.000000</td>\n",
       "      <td>...</td>\n",
       "      <td>0.000000</td>\n",
       "      <td>0.000000</td>\n",
       "      <td>0.000000</td>\n",
       "      <td>0.000000</td>\n",
       "      <td>0.000000</td>\n",
       "      <td>0.000000</td>\n",
       "      <td>0.000000</td>\n",
       "      <td>0.000000</td>\n",
       "      <td>0.000000</td>\n",
       "      <td>3.000000</td>\n",
       "    </tr>\n",
       "    <tr>\n",
       "      <th>max</th>\n",
       "      <td>1.000000</td>\n",
       "      <td>1.000000</td>\n",
       "      <td>1.000000</td>\n",
       "      <td>1.000000</td>\n",
       "      <td>1.000000</td>\n",
       "      <td>1.000000</td>\n",
       "      <td>1.000000</td>\n",
       "      <td>1.000000</td>\n",
       "      <td>123.000000</td>\n",
       "      <td>1.000000</td>\n",
       "      <td>...</td>\n",
       "      <td>1.000000</td>\n",
       "      <td>1.000000</td>\n",
       "      <td>1.000000</td>\n",
       "      <td>1.000000</td>\n",
       "      <td>1.000000</td>\n",
       "      <td>1.000000</td>\n",
       "      <td>1.000000</td>\n",
       "      <td>1.000000</td>\n",
       "      <td>1.000000</td>\n",
       "      <td>4.000000</td>\n",
       "    </tr>\n",
       "  </tbody>\n",
       "</table>\n",
       "<p>8 rows × 78 columns</p>\n",
       "</div>"
      ],
      "text/plain": [
       "          iFlow18   WSDL-xsd2       WSDL1   Property1     Groovy0     Groovy1  \\\n",
       "count  301.000000  301.000000  301.000000  301.000000  301.000000  301.000000   \n",
       "mean     0.086379    0.259136    0.249169    0.538206    0.275748    0.740864   \n",
       "std      0.281390    0.438890    0.433252    0.499368    0.447634    0.438890   \n",
       "min      0.000000    0.000000    0.000000    0.000000    0.000000    0.000000   \n",
       "25%      0.000000    0.000000    0.000000    0.000000    0.000000    0.000000   \n",
       "50%      0.000000    0.000000    0.000000    1.000000    0.000000    1.000000   \n",
       "75%      0.000000    1.000000    0.000000    1.000000    1.000000    1.000000   \n",
       "max      1.000000    1.000000    1.000000    1.000000    1.000000    1.000000   \n",
       "\n",
       "          Groovy3     Groovy2   filecount       XSD10  ...       WSDL9  \\\n",
       "count  301.000000  301.000000  301.000000  301.000000  ...  301.000000   \n",
       "mean     0.139535    0.332226   15.621262    0.029900  ...    0.003322   \n",
       "std      0.347081    0.471796   13.130730    0.170596  ...    0.057639   \n",
       "min      0.000000    0.000000    1.000000    0.000000  ...    0.000000   \n",
       "25%      0.000000    0.000000    9.000000    0.000000  ...    0.000000   \n",
       "50%      0.000000    0.000000   13.000000    0.000000  ...    0.000000   \n",
       "75%      0.000000    1.000000   17.000000    0.000000  ...    0.000000   \n",
       "max      1.000000    1.000000  123.000000    1.000000  ...    1.000000   \n",
       "\n",
       "          iFlow13        XSD6   Property6      WSDL12   Property5        XSD4  \\\n",
       "count  301.000000  301.000000  301.000000  301.000000  301.000000  301.000000   \n",
       "mean     0.009967    0.003322    0.066445    0.016611    0.066445    0.013289   \n",
       "std      0.099500    0.057639    0.249473    0.128023    0.249473    0.114700   \n",
       "min      0.000000    0.000000    0.000000    0.000000    0.000000    0.000000   \n",
       "25%      0.000000    0.000000    0.000000    0.000000    0.000000    0.000000   \n",
       "50%      0.000000    0.000000    0.000000    0.000000    0.000000    0.000000   \n",
       "75%      0.000000    0.000000    0.000000    0.000000    0.000000    0.000000   \n",
       "max      1.000000    1.000000    1.000000    1.000000    1.000000    1.000000   \n",
       "\n",
       "             XSD7       XSD17     cluster  \n",
       "count  301.000000  301.000000  301.000000  \n",
       "mean     0.013289    0.003322    1.764120  \n",
       "std      0.114700    0.057639    1.388347  \n",
       "min      0.000000    0.000000    0.000000  \n",
       "25%      0.000000    0.000000    0.000000  \n",
       "50%      0.000000    0.000000    2.000000  \n",
       "75%      0.000000    0.000000    3.000000  \n",
       "max      1.000000    1.000000    4.000000  \n",
       "\n",
       "[8 rows x 78 columns]"
      ]
     },
     "execution_count": 1048,
     "metadata": {},
     "output_type": "execute_result"
    }
   ],
   "source": [
    "binarydffiltered.describe()"
   ]
  },
  {
   "cell_type": "code",
   "execution_count": 12,
   "metadata": {},
   "outputs": [
    {
     "output_type": "error",
     "ename": "NameError",
     "evalue": "name 'attemptdfsomething' is not defined",
     "traceback": [
      "\u001b[0;31m---------------------------------------------------------------------------\u001b[0m",
      "\u001b[0;31mNameError\u001b[0m                                 Traceback (most recent call last)",
      "\u001b[0;32m<ipython-input-12-55189685e4c0>\u001b[0m in \u001b[0;36m<module>\u001b[0;34m\u001b[0m\n\u001b[0;32m----> 1\u001b[0;31m \u001b[0mcompleteddfsomething\u001b[0m \u001b[0;34m=\u001b[0m \u001b[0mattemptdfsomething\u001b[0m\u001b[0;34m.\u001b[0m\u001b[0mcopy\u001b[0m\u001b[0;34m(\u001b[0m\u001b[0;34m)\u001b[0m\u001b[0;34m\u001b[0m\u001b[0;34m\u001b[0m\u001b[0m\n\u001b[0m\u001b[1;32m      2\u001b[0m \u001b[0mcompleteddfsomething\u001b[0m \u001b[0;34m=\u001b[0m \u001b[0mcompleteddfsomething\u001b[0m\u001b[0;34m[\u001b[0m\u001b[0mcompleteddfsomething\u001b[0m\u001b[0;34m[\u001b[0m\u001b[0;34m'messages'\u001b[0m\u001b[0;34m]\u001b[0m\u001b[0;34m==\u001b[0m\u001b[0;34m'COMPLETED'\u001b[0m\u001b[0;34m]\u001b[0m\u001b[0;34m\u001b[0m\u001b[0;34m\u001b[0m\u001b[0m\n\u001b[1;32m      3\u001b[0m \u001b[0;31m# completeddfsomething.head()\u001b[0m\u001b[0;34m\u001b[0m\u001b[0;34m\u001b[0m\u001b[0;34m\u001b[0m\u001b[0m\n",
      "\u001b[0;31mNameError\u001b[0m: name 'attemptdfsomething' is not defined"
     ]
    }
   ],
   "source": [
    "completeddfsomething = attemptdfsomething.copy()\n",
    "completeddfsomething = completeddfsomething[completeddfsomething['messages']=='COMPLETED']\n",
    "# completeddfsomething.head()"
   ]
  },
  {
   "cell_type": "code",
   "execution_count": 1059,
   "metadata": {},
   "outputs": [],
   "source": [
    "notcompleteddfsomething = attemptdfsomething.copy()\n",
    "notcompleteddfsomething = notcompleteddfsomething[notcompleteddfsomething['messages']!=\"COMPLETED\"]"
   ]
  },
  {
   "cell_type": "code",
   "execution_count": 13,
   "metadata": {},
   "outputs": [],
   "source": [
    "# notcompleteddfsomething.describe()"
   ]
  },
  {
   "cell_type": "code",
   "execution_count": 1062,
   "metadata": {},
   "outputs": [],
   "source": [
    "error_containing_scenarios = notcompleteddfsomething['scenario'].unique()"
   ]
  },
  {
   "cell_type": "code",
   "execution_count": 1064,
   "metadata": {},
   "outputs": [
    {
     "data": {
      "text/html": [
       "<div>\n",
       "<style scoped>\n",
       "    .dataframe tbody tr th:only-of-type {\n",
       "        vertical-align: middle;\n",
       "    }\n",
       "\n",
       "    .dataframe tbody tr th {\n",
       "        vertical-align: top;\n",
       "    }\n",
       "\n",
       "    .dataframe thead th {\n",
       "        text-align: right;\n",
       "    }\n",
       "</style>\n",
       "<table border=\"1\" class=\"dataframe\">\n",
       "  <thead>\n",
       "    <tr style=\"text-align: right;\">\n",
       "      <th></th>\n",
       "      <th>iFlow18</th>\n",
       "      <th>WSDL-xsd2</th>\n",
       "      <th>WSDL1</th>\n",
       "      <th>Property1</th>\n",
       "      <th>Groovy0</th>\n",
       "      <th>Groovy1</th>\n",
       "      <th>Groovy3</th>\n",
       "      <th>Groovy2</th>\n",
       "      <th>filecount</th>\n",
       "      <th>XSD10</th>\n",
       "      <th>...</th>\n",
       "      <th>WSDL9</th>\n",
       "      <th>iFlow13</th>\n",
       "      <th>XSD6</th>\n",
       "      <th>Property6</th>\n",
       "      <th>WSDL12</th>\n",
       "      <th>Property5</th>\n",
       "      <th>XSD4</th>\n",
       "      <th>XSD7</th>\n",
       "      <th>XSD17</th>\n",
       "      <th>cluster</th>\n",
       "    </tr>\n",
       "  </thead>\n",
       "  <tbody>\n",
       "    <tr>\n",
       "      <th>count</th>\n",
       "      <td>76.000000</td>\n",
       "      <td>76.000000</td>\n",
       "      <td>76.000000</td>\n",
       "      <td>76.000000</td>\n",
       "      <td>76.00000</td>\n",
       "      <td>76.000000</td>\n",
       "      <td>76.000000</td>\n",
       "      <td>76.000000</td>\n",
       "      <td>76.000000</td>\n",
       "      <td>76.0</td>\n",
       "      <td>...</td>\n",
       "      <td>76.0</td>\n",
       "      <td>76.000000</td>\n",
       "      <td>76.0</td>\n",
       "      <td>76.000000</td>\n",
       "      <td>76.000000</td>\n",
       "      <td>76.000000</td>\n",
       "      <td>76.000000</td>\n",
       "      <td>76.000000</td>\n",
       "      <td>76.000000</td>\n",
       "      <td>76.000000</td>\n",
       "    </tr>\n",
       "    <tr>\n",
       "      <th>mean</th>\n",
       "      <td>0.171053</td>\n",
       "      <td>0.328947</td>\n",
       "      <td>0.263158</td>\n",
       "      <td>0.657895</td>\n",
       "      <td>0.25000</td>\n",
       "      <td>0.907895</td>\n",
       "      <td>0.078947</td>\n",
       "      <td>0.368421</td>\n",
       "      <td>20.421053</td>\n",
       "      <td>0.0</td>\n",
       "      <td>...</td>\n",
       "      <td>0.0</td>\n",
       "      <td>0.013158</td>\n",
       "      <td>0.0</td>\n",
       "      <td>0.052632</td>\n",
       "      <td>0.026316</td>\n",
       "      <td>0.105263</td>\n",
       "      <td>0.026316</td>\n",
       "      <td>0.013158</td>\n",
       "      <td>0.013158</td>\n",
       "      <td>1.078947</td>\n",
       "    </tr>\n",
       "    <tr>\n",
       "      <th>std</th>\n",
       "      <td>0.379057</td>\n",
       "      <td>0.472953</td>\n",
       "      <td>0.443273</td>\n",
       "      <td>0.477567</td>\n",
       "      <td>0.43589</td>\n",
       "      <td>0.291096</td>\n",
       "      <td>0.271448</td>\n",
       "      <td>0.485582</td>\n",
       "      <td>16.578913</td>\n",
       "      <td>0.0</td>\n",
       "      <td>...</td>\n",
       "      <td>0.0</td>\n",
       "      <td>0.114708</td>\n",
       "      <td>0.0</td>\n",
       "      <td>0.224781</td>\n",
       "      <td>0.161136</td>\n",
       "      <td>0.308931</td>\n",
       "      <td>0.161136</td>\n",
       "      <td>0.114708</td>\n",
       "      <td>0.114708</td>\n",
       "      <td>1.186178</td>\n",
       "    </tr>\n",
       "    <tr>\n",
       "      <th>min</th>\n",
       "      <td>0.000000</td>\n",
       "      <td>0.000000</td>\n",
       "      <td>0.000000</td>\n",
       "      <td>0.000000</td>\n",
       "      <td>0.00000</td>\n",
       "      <td>0.000000</td>\n",
       "      <td>0.000000</td>\n",
       "      <td>0.000000</td>\n",
       "      <td>3.000000</td>\n",
       "      <td>0.0</td>\n",
       "      <td>...</td>\n",
       "      <td>0.0</td>\n",
       "      <td>0.000000</td>\n",
       "      <td>0.0</td>\n",
       "      <td>0.000000</td>\n",
       "      <td>0.000000</td>\n",
       "      <td>0.000000</td>\n",
       "      <td>0.000000</td>\n",
       "      <td>0.000000</td>\n",
       "      <td>0.000000</td>\n",
       "      <td>0.000000</td>\n",
       "    </tr>\n",
       "    <tr>\n",
       "      <th>25%</th>\n",
       "      <td>0.000000</td>\n",
       "      <td>0.000000</td>\n",
       "      <td>0.000000</td>\n",
       "      <td>0.000000</td>\n",
       "      <td>0.00000</td>\n",
       "      <td>1.000000</td>\n",
       "      <td>0.000000</td>\n",
       "      <td>0.000000</td>\n",
       "      <td>13.000000</td>\n",
       "      <td>0.0</td>\n",
       "      <td>...</td>\n",
       "      <td>0.0</td>\n",
       "      <td>0.000000</td>\n",
       "      <td>0.0</td>\n",
       "      <td>0.000000</td>\n",
       "      <td>0.000000</td>\n",
       "      <td>0.000000</td>\n",
       "      <td>0.000000</td>\n",
       "      <td>0.000000</td>\n",
       "      <td>0.000000</td>\n",
       "      <td>0.000000</td>\n",
       "    </tr>\n",
       "    <tr>\n",
       "      <th>50%</th>\n",
       "      <td>0.000000</td>\n",
       "      <td>0.000000</td>\n",
       "      <td>0.000000</td>\n",
       "      <td>1.000000</td>\n",
       "      <td>0.00000</td>\n",
       "      <td>1.000000</td>\n",
       "      <td>0.000000</td>\n",
       "      <td>0.000000</td>\n",
       "      <td>15.000000</td>\n",
       "      <td>0.0</td>\n",
       "      <td>...</td>\n",
       "      <td>0.0</td>\n",
       "      <td>0.000000</td>\n",
       "      <td>0.0</td>\n",
       "      <td>0.000000</td>\n",
       "      <td>0.000000</td>\n",
       "      <td>0.000000</td>\n",
       "      <td>0.000000</td>\n",
       "      <td>0.000000</td>\n",
       "      <td>0.000000</td>\n",
       "      <td>1.000000</td>\n",
       "    </tr>\n",
       "    <tr>\n",
       "      <th>75%</th>\n",
       "      <td>0.000000</td>\n",
       "      <td>1.000000</td>\n",
       "      <td>1.000000</td>\n",
       "      <td>1.000000</td>\n",
       "      <td>0.25000</td>\n",
       "      <td>1.000000</td>\n",
       "      <td>0.000000</td>\n",
       "      <td>1.000000</td>\n",
       "      <td>25.000000</td>\n",
       "      <td>0.0</td>\n",
       "      <td>...</td>\n",
       "      <td>0.0</td>\n",
       "      <td>0.000000</td>\n",
       "      <td>0.0</td>\n",
       "      <td>0.000000</td>\n",
       "      <td>0.000000</td>\n",
       "      <td>0.000000</td>\n",
       "      <td>0.000000</td>\n",
       "      <td>0.000000</td>\n",
       "      <td>0.000000</td>\n",
       "      <td>2.000000</td>\n",
       "    </tr>\n",
       "    <tr>\n",
       "      <th>max</th>\n",
       "      <td>1.000000</td>\n",
       "      <td>1.000000</td>\n",
       "      <td>1.000000</td>\n",
       "      <td>1.000000</td>\n",
       "      <td>1.00000</td>\n",
       "      <td>1.000000</td>\n",
       "      <td>1.000000</td>\n",
       "      <td>1.000000</td>\n",
       "      <td>123.000000</td>\n",
       "      <td>0.0</td>\n",
       "      <td>...</td>\n",
       "      <td>0.0</td>\n",
       "      <td>1.000000</td>\n",
       "      <td>0.0</td>\n",
       "      <td>1.000000</td>\n",
       "      <td>1.000000</td>\n",
       "      <td>1.000000</td>\n",
       "      <td>1.000000</td>\n",
       "      <td>1.000000</td>\n",
       "      <td>1.000000</td>\n",
       "      <td>4.000000</td>\n",
       "    </tr>\n",
       "  </tbody>\n",
       "</table>\n",
       "<p>8 rows × 78 columns</p>\n",
       "</div>"
      ],
      "text/plain": [
       "         iFlow18  WSDL-xsd2      WSDL1  Property1   Groovy0    Groovy1  \\\n",
       "count  76.000000  76.000000  76.000000  76.000000  76.00000  76.000000   \n",
       "mean    0.171053   0.328947   0.263158   0.657895   0.25000   0.907895   \n",
       "std     0.379057   0.472953   0.443273   0.477567   0.43589   0.291096   \n",
       "min     0.000000   0.000000   0.000000   0.000000   0.00000   0.000000   \n",
       "25%     0.000000   0.000000   0.000000   0.000000   0.00000   1.000000   \n",
       "50%     0.000000   0.000000   0.000000   1.000000   0.00000   1.000000   \n",
       "75%     0.000000   1.000000   1.000000   1.000000   0.25000   1.000000   \n",
       "max     1.000000   1.000000   1.000000   1.000000   1.00000   1.000000   \n",
       "\n",
       "         Groovy3    Groovy2   filecount  XSD10  ...  WSDL9    iFlow13  XSD6  \\\n",
       "count  76.000000  76.000000   76.000000   76.0  ...   76.0  76.000000  76.0   \n",
       "mean    0.078947   0.368421   20.421053    0.0  ...    0.0   0.013158   0.0   \n",
       "std     0.271448   0.485582   16.578913    0.0  ...    0.0   0.114708   0.0   \n",
       "min     0.000000   0.000000    3.000000    0.0  ...    0.0   0.000000   0.0   \n",
       "25%     0.000000   0.000000   13.000000    0.0  ...    0.0   0.000000   0.0   \n",
       "50%     0.000000   0.000000   15.000000    0.0  ...    0.0   0.000000   0.0   \n",
       "75%     0.000000   1.000000   25.000000    0.0  ...    0.0   0.000000   0.0   \n",
       "max     1.000000   1.000000  123.000000    0.0  ...    0.0   1.000000   0.0   \n",
       "\n",
       "       Property6     WSDL12  Property5       XSD4       XSD7      XSD17  \\\n",
       "count  76.000000  76.000000  76.000000  76.000000  76.000000  76.000000   \n",
       "mean    0.052632   0.026316   0.105263   0.026316   0.013158   0.013158   \n",
       "std     0.224781   0.161136   0.308931   0.161136   0.114708   0.114708   \n",
       "min     0.000000   0.000000   0.000000   0.000000   0.000000   0.000000   \n",
       "25%     0.000000   0.000000   0.000000   0.000000   0.000000   0.000000   \n",
       "50%     0.000000   0.000000   0.000000   0.000000   0.000000   0.000000   \n",
       "75%     0.000000   0.000000   0.000000   0.000000   0.000000   0.000000   \n",
       "max     1.000000   1.000000   1.000000   1.000000   1.000000   1.000000   \n",
       "\n",
       "         cluster  \n",
       "count  76.000000  \n",
       "mean    1.078947  \n",
       "std     1.186178  \n",
       "min     0.000000  \n",
       "25%     0.000000  \n",
       "50%     1.000000  \n",
       "75%     2.000000  \n",
       "max     4.000000  \n",
       "\n",
       "[8 rows x 78 columns]"
      ]
     },
     "execution_count": 1064,
     "metadata": {},
     "output_type": "execute_result"
    }
   ],
   "source": [
    "binarydffiltered2 = dfcopy.copy()\n",
    "binarydffiltered2 = binarydffiltered2[binarydffiltered2.scenario.isin(error_containing_scenarios)]\n",
    "binarydffiltered2.describe()"
   ]
  },
  {
   "cell_type": "code",
   "execution_count": 1065,
   "metadata": {},
   "outputs": [
    {
     "data": {
      "text/plain": [
       "<matplotlib.axes._subplots.AxesSubplot at 0x1398d3470>"
      ]
     },
     "execution_count": 1065,
     "metadata": {},
     "output_type": "execute_result"
    },
    {
     "data": {
      "image/png": "[encoded data removed]",
      "text/plain": [
       "<Figure size 432x288 with 1 Axes>"
      ]
     },
     "metadata": {
      "needs_background": "light"
     },
     "output_type": "display_data"
    }
   ],
   "source": [
    "binarydffiltered2['cluster'].hist()"
   ]
  },
  {
   "cell_type": "code",
   "execution_count": 1070,
   "metadata": {},
   "outputs": [
    {
     "name": "stdout",
     "output_type": "stream",
     "text": [
      "{0: 32, 1: 23, 2: 5, 3: 15, 4: 1}\n"
     ]
    }
   ],
   "source": [
    "r = list(binarydffiltered2['cluster'].values)\n",
    "counts = {}\n",
    "for i in range(0,max(r)+1):\n",
    "    isum = 0\n",
    "    for j in r:\n",
    "        if j==i:\n",
    "            isum += 1\n",
    "    counts.update({i:isum})\n",
    "print(counts)"
   ]
  },
  {
   "cell_type": "code",
   "execution_count": 1074,
   "metadata": {},
   "outputs": [],
   "source": [
    "binarydffiltered2.to_csv(\"../generateddata/binarydffiltered2.csv\")"
   ]
  },
  {
   "cell_type": "code",
   "execution_count": 1075,
   "metadata": {},
   "outputs": [],
   "source": [
    "ratiodffiltered2 = ratiodfcopy.copy()\n",
    "ratiodffiltered2 = ratiodffiltered2[ratiodffiltered2.scenario.isin(error_containing_scenarios)]\n",
    "# ratiodffiltered2.describe()\n",
    "ratiodffiltered2.to_csv(\"../generateddata/ratiodffiltered2.csv\")"
   ]
  },
  {
   "cell_type": "markdown",
   "metadata": {},
   "source": [
    "## Parzen"
   ]
  },
  {
   "cell_type": "code",
   "execution_count": 223,
   "metadata": {},
   "outputs": [],
   "source": [
    "dfcopy = pd.read_csv(\"../generateddata/binaryoccuranceclusters.csv\")\n",
    "\n",
    "dfcopy['scenario'] = dfcopy['scenario'].apply(scenario_to_scenarioid)"
   ]
  },
  {
   "cell_type": "code",
   "execution_count": 224,
   "metadata": {},
   "outputs": [],
   "source": [
    "dfcopy.drop(columns=[\"Unnamed: 0\", \"cluster\"], inplace=True)"
   ]
  },
  {
   "cell_type": "code",
   "execution_count": 230,
   "metadata": {},
   "outputs": [
    {
     "data": {
      "text/html": [
       "<div>\n",
       "<style scoped>\n",
       "    .dataframe tbody tr th:only-of-type {\n",
       "        vertical-align: middle;\n",
       "    }\n",
       "\n",
       "    .dataframe tbody tr th {\n",
       "        vertical-align: top;\n",
       "    }\n",
       "\n",
       "    .dataframe thead th {\n",
       "        text-align: right;\n",
       "    }\n",
       "</style>\n",
       "<table border=\"1\" class=\"dataframe\">\n",
       "  <thead>\n",
       "    <tr style=\"text-align: right;\">\n",
       "      <th></th>\n",
       "      <th>0</th>\n",
       "      <th>1</th>\n",
       "      <th>2</th>\n",
       "    </tr>\n",
       "  </thead>\n",
       "  <tbody>\n",
       "    <tr>\n",
       "      <th>0</th>\n",
       "      <td>227.000416</td>\n",
       "      <td>-0.316930</td>\n",
       "      <td>0.350718</td>\n",
       "    </tr>\n",
       "    <tr>\n",
       "      <th>1</th>\n",
       "      <td>225.996005</td>\n",
       "      <td>-11.358704</td>\n",
       "      <td>-0.417394</td>\n",
       "    </tr>\n",
       "    <tr>\n",
       "      <th>2</th>\n",
       "      <td>224.995127</td>\n",
       "      <td>-11.345553</td>\n",
       "      <td>-0.629152</td>\n",
       "    </tr>\n",
       "    <tr>\n",
       "      <th>3</th>\n",
       "      <td>224.001045</td>\n",
       "      <td>0.657881</td>\n",
       "      <td>-0.273364</td>\n",
       "    </tr>\n",
       "    <tr>\n",
       "      <th>4</th>\n",
       "      <td>222.994825</td>\n",
       "      <td>-14.358094</td>\n",
       "      <td>0.644426</td>\n",
       "    </tr>\n",
       "  </tbody>\n",
       "</table>\n",
       "</div>"
      ],
      "text/plain": [
       "            0          1         2\n",
       "0  227.000416  -0.316930  0.350718\n",
       "1  225.996005 -11.358704 -0.417394\n",
       "2  224.995127 -11.345553 -0.629152\n",
       "3  224.001045   0.657881 -0.273364\n",
       "4  222.994825 -14.358094  0.644426"
      ]
     },
     "execution_count": 230,
     "metadata": {},
     "output_type": "execute_result"
    }
   ],
   "source": [
    "pca = PCA(3) \n",
    "pca.fit(dfcopy) \n",
    "  \n",
    "pca_data = pd.DataFrame(pca.transform(dfcopy)) \n",
    "\n",
    "pca_data.head()"
   ]
  },
  {
   "cell_type": "code",
   "execution_count": 231,
   "metadata": {},
   "outputs": [],
   "source": [
    "X_all = pca_data.to_numpy()"
   ]
  },
  {
   "cell_type": "code",
   "execution_count": 263,
   "metadata": {},
   "outputs": [
    {
     "name": "stdout",
     "output_type": "stream",
     "text": [
      "p(x) = 0.004395604395604396\n"
     ]
    }
   ],
   "source": [
    "def parzen_window_est(x_samples, h=1, center=[0,0,0]):\n",
    "    '''\n",
    "    source: https://sebastianraschka.com/Articles/2014_kernel_density_est.html\n",
    "    Implementation of the Parzen-window estimation for hypercubes.\n",
    "\n",
    "    Keyword arguments:\n",
    "        x_samples: A 'n x d'-dimensional numpy array, where each sample\n",
    "            is stored in a separate row.\n",
    "        h: The length of the hypercube.\n",
    "        center: The coordinate center of the hypercube\n",
    "\n",
    "    Returns the probability density for observing k samples inside the hypercube.\n",
    "\n",
    "    '''\n",
    "    dimensions = x_samples.shape[1]\n",
    "\n",
    "    assert (len(center) == dimensions), 'Number of center coordinates have to match sample dimensions'\n",
    "    k = 2\n",
    "    for x in x_samples:\n",
    "        is_inside = 1\n",
    "        for axis,center_point in zip(x, center):\n",
    "            if np.abs(axis-center_point) > (h/2):\n",
    "                is_inside = 0\n",
    "        k += is_inside\n",
    "    return (k / len(x_samples)) / (h**dimensions)\n",
    "\n",
    "print('p(x) =', parzen_window_est(X_all, h=1))"
   ]
  },
  {
   "cell_type": "code",
   "execution_count": 78,
   "metadata": {},
   "outputs": [
    {
     "name": "stdout",
     "output_type": "stream",
     "text": [
      "p(x) = 0.0\n"
     ]
    }
   ],
   "source": [
    "def hypercube_kernel(h, x, x_i):\n",
    "    \"\"\"\n",
    "    Implementation of a hypercube kernel for Parzen-window estimation.\n",
    "\n",
    "    Keyword arguments:\n",
    "        h: window width\n",
    "        x: point x for density estimation, 'd x 1'-dimensional numpy array\n",
    "        x_i: point from training sample, 'd x 1'-dimensional numpy array\n",
    "\n",
    "    Returns a 'd x 1'-dimensional numpy array as input for a window function.\n",
    "\n",
    "    \"\"\"\n",
    "    assert (x.shape == x_i.shape), 'vectors x and x_i must have the same dimensions'\n",
    "    return (x - x_i) / (h)\n",
    "\n",
    "\n",
    "def parzen_window_func(x_vec, h=1):\n",
    "    \"\"\"\n",
    "    Implementation of the window function. Returns 1 if 'd x 1'-sample vector\n",
    "    lies within inside the window, 0 otherwise.\n",
    "\n",
    "    \"\"\"\n",
    "    for row in x_vec:\n",
    "        if np.abs(row) > (1/2):\n",
    "            return 0\n",
    "    return 1\n",
    "\n",
    "\n",
    "def parzen_estimation(x_samples, point_x, h, d, window_func, kernel_func):\n",
    "    \"\"\"\n",
    "    Implementation of a parzen-window estimation.\n",
    "\n",
    "    Keyword arguments:\n",
    "        x_samples: A 'n x d'-dimensional numpy array, where each sample\n",
    "            is stored in a separate row. (= training sample)\n",
    "        point_x: point x for density estimation, 'd x 1'-dimensional numpy array\n",
    "        h: window width\n",
    "        d: dimensions\n",
    "        window_func: a Parzen window function (phi)\n",
    "        kernel_function: A hypercube or Gaussian kernel functions\n",
    "\n",
    "    Returns the density estimate p(x).\n",
    "\n",
    "    \"\"\"\n",
    "    k_n = 0\n",
    "    for row in x_samples:\n",
    "        x_i = kernel_func(h=h, x=point_x, x_i=row[:,np.newaxis])\n",
    "        k_n += window_func(x_i, h=h)\n",
    "    return (k_n / len(x_samples)) / (h**d)\n",
    "\n",
    "point_x = np.array([[0],[0],[0]])\n",
    "\n",
    "print('p(x) =', parzen_estimation(X_all, point_x, h=1, d=3,\n",
    "                                 window_func=parzen_window_func,\n",
    "                                 kernel_func=hypercube_kernel\n",
    "                                 )\n",
    "     )"
   ]
  },
  {
   "cell_type": "code",
   "execution_count": 79,
   "metadata": {},
   "outputs": [
    {
     "data": {
      "text/plain": [
       "Index(['scenario', 'Mapping10', 'iFlow1', 'WSDL-xsd1', 'WSDL0', 'Property0',\n",
       "       'Groovy0', 'Groovy2', 'Groovy6', 'Groovy1', 'Groovy7', 'filecount',\n",
       "       'Mapping1', 'ComplexityReuse4', 'iFlow2', 'WSDL-xsd4', 'WSDL-xsd3',\n",
       "       'WSDL-xsd2', 'Groovy4', 'iFlow0', 'WSDL1', 'WSDL2', 'Groovy3',\n",
       "       'ComplexityReuse0', 'WSDL-xsd0', 'ComplexityReuse1', 'iFlow7', 'WSDL10',\n",
       "       'WSDL13', 'Mapping11', 'iFlow12', 'iFlow9', 'WSDL-xsd5', 'WSDL4',\n",
       "       'Mapping12', 'iFlow13', 'iFlow6', 'Mapping5', 'iFlow11', 'Groovy5',\n",
       "       'Mapping8', 'ComplexityReuse3', 'iFlow8', 'WSDL14', 'iFlow5', 'iFlow4',\n",
       "       'Mapping0', 'ComplexityReuse7', 'ComplexityReuse6', 'WSDL12', 'WSDL3',\n",
       "       'iFlow3', 'Mapping9', 'Property1', 'Property2', 'Mapping2', 'WSDL5',\n",
       "       'Mapping7', 'ComplexityReuse5', 'Mapping4', 'ComplexityReuse2', 'WSDL6',\n",
       "       'Mapping3', 'iFlow10', 'WSDL8', 'WSDL7', 'WSDL9', 'Mapping6'],\n",
       "      dtype='object')"
      ]
     },
     "execution_count": 79,
     "metadata": {},
     "output_type": "execute_result"
    }
   ],
   "source": [
    "dfcopy.columns"
   ]
  },
  {
   "cell_type": "code",
   "execution_count": 80,
   "metadata": {},
   "outputs": [
    {
     "data": {
      "text/html": [
       "<div>\n",
       "<style scoped>\n",
       "    .dataframe tbody tr th:only-of-type {\n",
       "        vertical-align: middle;\n",
       "    }\n",
       "\n",
       "    .dataframe tbody tr th {\n",
       "        vertical-align: top;\n",
       "    }\n",
       "\n",
       "    .dataframe thead th {\n",
       "        text-align: right;\n",
       "    }\n",
       "</style>\n",
       "<table border=\"1\" class=\"dataframe\">\n",
       "  <thead>\n",
       "    <tr style=\"text-align: right;\">\n",
       "      <th></th>\n",
       "      <th>scenario</th>\n",
       "      <th>Mapping10</th>\n",
       "      <th>iFlow1</th>\n",
       "      <th>WSDL-xsd1</th>\n",
       "      <th>WSDL0</th>\n",
       "      <th>Property0</th>\n",
       "      <th>Groovy0</th>\n",
       "      <th>Groovy2</th>\n",
       "      <th>Groovy6</th>\n",
       "      <th>Groovy1</th>\n",
       "      <th>...</th>\n",
       "      <th>ComplexityReuse5</th>\n",
       "      <th>Mapping4</th>\n",
       "      <th>ComplexityReuse2</th>\n",
       "      <th>WSDL6</th>\n",
       "      <th>Mapping3</th>\n",
       "      <th>iFlow10</th>\n",
       "      <th>WSDL8</th>\n",
       "      <th>WSDL7</th>\n",
       "      <th>WSDL9</th>\n",
       "      <th>Mapping6</th>\n",
       "    </tr>\n",
       "  </thead>\n",
       "  <tbody>\n",
       "    <tr>\n",
       "      <th>count</th>\n",
       "      <td>455.000000</td>\n",
       "      <td>455.000000</td>\n",
       "      <td>455.000000</td>\n",
       "      <td>455.000000</td>\n",
       "      <td>455.000000</td>\n",
       "      <td>455.000000</td>\n",
       "      <td>455.000000</td>\n",
       "      <td>455.000000</td>\n",
       "      <td>455.000000</td>\n",
       "      <td>455.000000</td>\n",
       "      <td>...</td>\n",
       "      <td>455.000000</td>\n",
       "      <td>455.000000</td>\n",
       "      <td>455.000000</td>\n",
       "      <td>455.000000</td>\n",
       "      <td>455.000000</td>\n",
       "      <td>455.000000</td>\n",
       "      <td>455.000000</td>\n",
       "      <td>455.000000</td>\n",
       "      <td>455.000000</td>\n",
       "      <td>455.000000</td>\n",
       "    </tr>\n",
       "    <tr>\n",
       "      <th>mean</th>\n",
       "      <td>227.000000</td>\n",
       "      <td>0.050549</td>\n",
       "      <td>0.391209</td>\n",
       "      <td>0.386813</td>\n",
       "      <td>0.413187</td>\n",
       "      <td>0.769231</td>\n",
       "      <td>0.254945</td>\n",
       "      <td>0.747253</td>\n",
       "      <td>0.109890</td>\n",
       "      <td>0.276923</td>\n",
       "      <td>...</td>\n",
       "      <td>0.061538</td>\n",
       "      <td>0.008791</td>\n",
       "      <td>0.070330</td>\n",
       "      <td>0.002198</td>\n",
       "      <td>0.004396</td>\n",
       "      <td>0.010989</td>\n",
       "      <td>0.002198</td>\n",
       "      <td>0.002198</td>\n",
       "      <td>0.002198</td>\n",
       "      <td>0.002198</td>\n",
       "    </tr>\n",
       "    <tr>\n",
       "      <th>std</th>\n",
       "      <td>131.491445</td>\n",
       "      <td>0.219317</td>\n",
       "      <td>0.488558</td>\n",
       "      <td>0.487556</td>\n",
       "      <td>0.492948</td>\n",
       "      <td>0.421789</td>\n",
       "      <td>0.436310</td>\n",
       "      <td>0.435066</td>\n",
       "      <td>0.313097</td>\n",
       "      <td>0.447971</td>\n",
       "      <td>...</td>\n",
       "      <td>0.240580</td>\n",
       "      <td>0.093451</td>\n",
       "      <td>0.255983</td>\n",
       "      <td>0.046881</td>\n",
       "      <td>0.066226</td>\n",
       "      <td>0.104366</td>\n",
       "      <td>0.046881</td>\n",
       "      <td>0.046881</td>\n",
       "      <td>0.046881</td>\n",
       "      <td>0.046881</td>\n",
       "    </tr>\n",
       "    <tr>\n",
       "      <th>min</th>\n",
       "      <td>0.000000</td>\n",
       "      <td>0.000000</td>\n",
       "      <td>0.000000</td>\n",
       "      <td>0.000000</td>\n",
       "      <td>0.000000</td>\n",
       "      <td>0.000000</td>\n",
       "      <td>0.000000</td>\n",
       "      <td>0.000000</td>\n",
       "      <td>0.000000</td>\n",
       "      <td>0.000000</td>\n",
       "      <td>...</td>\n",
       "      <td>0.000000</td>\n",
       "      <td>0.000000</td>\n",
       "      <td>0.000000</td>\n",
       "      <td>0.000000</td>\n",
       "      <td>0.000000</td>\n",
       "      <td>0.000000</td>\n",
       "      <td>0.000000</td>\n",
       "      <td>0.000000</td>\n",
       "      <td>0.000000</td>\n",
       "      <td>0.000000</td>\n",
       "    </tr>\n",
       "    <tr>\n",
       "      <th>25%</th>\n",
       "      <td>113.500000</td>\n",
       "      <td>0.000000</td>\n",
       "      <td>0.000000</td>\n",
       "      <td>0.000000</td>\n",
       "      <td>0.000000</td>\n",
       "      <td>1.000000</td>\n",
       "      <td>0.000000</td>\n",
       "      <td>0.000000</td>\n",
       "      <td>0.000000</td>\n",
       "      <td>0.000000</td>\n",
       "      <td>...</td>\n",
       "      <td>0.000000</td>\n",
       "      <td>0.000000</td>\n",
       "      <td>0.000000</td>\n",
       "      <td>0.000000</td>\n",
       "      <td>0.000000</td>\n",
       "      <td>0.000000</td>\n",
       "      <td>0.000000</td>\n",
       "      <td>0.000000</td>\n",
       "      <td>0.000000</td>\n",
       "      <td>0.000000</td>\n",
       "    </tr>\n",
       "    <tr>\n",
       "      <th>50%</th>\n",
       "      <td>227.000000</td>\n",
       "      <td>0.000000</td>\n",
       "      <td>0.000000</td>\n",
       "      <td>0.000000</td>\n",
       "      <td>0.000000</td>\n",
       "      <td>1.000000</td>\n",
       "      <td>0.000000</td>\n",
       "      <td>1.000000</td>\n",
       "      <td>0.000000</td>\n",
       "      <td>0.000000</td>\n",
       "      <td>...</td>\n",
       "      <td>0.000000</td>\n",
       "      <td>0.000000</td>\n",
       "      <td>0.000000</td>\n",
       "      <td>0.000000</td>\n",
       "      <td>0.000000</td>\n",
       "      <td>0.000000</td>\n",
       "      <td>0.000000</td>\n",
       "      <td>0.000000</td>\n",
       "      <td>0.000000</td>\n",
       "      <td>0.000000</td>\n",
       "    </tr>\n",
       "    <tr>\n",
       "      <th>75%</th>\n",
       "      <td>340.500000</td>\n",
       "      <td>0.000000</td>\n",
       "      <td>1.000000</td>\n",
       "      <td>1.000000</td>\n",
       "      <td>1.000000</td>\n",
       "      <td>1.000000</td>\n",
       "      <td>1.000000</td>\n",
       "      <td>1.000000</td>\n",
       "      <td>0.000000</td>\n",
       "      <td>1.000000</td>\n",
       "      <td>...</td>\n",
       "      <td>0.000000</td>\n",
       "      <td>0.000000</td>\n",
       "      <td>0.000000</td>\n",
       "      <td>0.000000</td>\n",
       "      <td>0.000000</td>\n",
       "      <td>0.000000</td>\n",
       "      <td>0.000000</td>\n",
       "      <td>0.000000</td>\n",
       "      <td>0.000000</td>\n",
       "      <td>0.000000</td>\n",
       "    </tr>\n",
       "    <tr>\n",
       "      <th>max</th>\n",
       "      <td>454.000000</td>\n",
       "      <td>1.000000</td>\n",
       "      <td>1.000000</td>\n",
       "      <td>1.000000</td>\n",
       "      <td>1.000000</td>\n",
       "      <td>1.000000</td>\n",
       "      <td>1.000000</td>\n",
       "      <td>1.000000</td>\n",
       "      <td>1.000000</td>\n",
       "      <td>1.000000</td>\n",
       "      <td>...</td>\n",
       "      <td>1.000000</td>\n",
       "      <td>1.000000</td>\n",
       "      <td>1.000000</td>\n",
       "      <td>1.000000</td>\n",
       "      <td>1.000000</td>\n",
       "      <td>1.000000</td>\n",
       "      <td>1.000000</td>\n",
       "      <td>1.000000</td>\n",
       "      <td>1.000000</td>\n",
       "      <td>1.000000</td>\n",
       "    </tr>\n",
       "  </tbody>\n",
       "</table>\n",
       "<p>8 rows × 68 columns</p>\n",
       "</div>"
      ],
      "text/plain": [
       "         scenario   Mapping10      iFlow1   WSDL-xsd1       WSDL0   Property0  \\\n",
       "count  455.000000  455.000000  455.000000  455.000000  455.000000  455.000000   \n",
       "mean   227.000000    0.050549    0.391209    0.386813    0.413187    0.769231   \n",
       "std    131.491445    0.219317    0.488558    0.487556    0.492948    0.421789   \n",
       "min      0.000000    0.000000    0.000000    0.000000    0.000000    0.000000   \n",
       "25%    113.500000    0.000000    0.000000    0.000000    0.000000    1.000000   \n",
       "50%    227.000000    0.000000    0.000000    0.000000    0.000000    1.000000   \n",
       "75%    340.500000    0.000000    1.000000    1.000000    1.000000    1.000000   \n",
       "max    454.000000    1.000000    1.000000    1.000000    1.000000    1.000000   \n",
       "\n",
       "          Groovy0     Groovy2     Groovy6     Groovy1  ...  ComplexityReuse5  \\\n",
       "count  455.000000  455.000000  455.000000  455.000000  ...        455.000000   \n",
       "mean     0.254945    0.747253    0.109890    0.276923  ...          0.061538   \n",
       "std      0.436310    0.435066    0.313097    0.447971  ...          0.240580   \n",
       "min      0.000000    0.000000    0.000000    0.000000  ...          0.000000   \n",
       "25%      0.000000    0.000000    0.000000    0.000000  ...          0.000000   \n",
       "50%      0.000000    1.000000    0.000000    0.000000  ...          0.000000   \n",
       "75%      1.000000    1.000000    0.000000    1.000000  ...          0.000000   \n",
       "max      1.000000    1.000000    1.000000    1.000000  ...          1.000000   \n",
       "\n",
       "         Mapping4  ComplexityReuse2       WSDL6    Mapping3     iFlow10  \\\n",
       "count  455.000000        455.000000  455.000000  455.000000  455.000000   \n",
       "mean     0.008791          0.070330    0.002198    0.004396    0.010989   \n",
       "std      0.093451          0.255983    0.046881    0.066226    0.104366   \n",
       "min      0.000000          0.000000    0.000000    0.000000    0.000000   \n",
       "25%      0.000000          0.000000    0.000000    0.000000    0.000000   \n",
       "50%      0.000000          0.000000    0.000000    0.000000    0.000000   \n",
       "75%      0.000000          0.000000    0.000000    0.000000    0.000000   \n",
       "max      1.000000          1.000000    1.000000    1.000000    1.000000   \n",
       "\n",
       "            WSDL8       WSDL7       WSDL9    Mapping6  \n",
       "count  455.000000  455.000000  455.000000  455.000000  \n",
       "mean     0.002198    0.002198    0.002198    0.002198  \n",
       "std      0.046881    0.046881    0.046881    0.046881  \n",
       "min      0.000000    0.000000    0.000000    0.000000  \n",
       "25%      0.000000    0.000000    0.000000    0.000000  \n",
       "50%      0.000000    0.000000    0.000000    0.000000  \n",
       "75%      0.000000    0.000000    0.000000    0.000000  \n",
       "max      1.000000    1.000000    1.000000    1.000000  \n",
       "\n",
       "[8 rows x 68 columns]"
      ]
     },
     "execution_count": 80,
     "metadata": {},
     "output_type": "execute_result"
    }
   ],
   "source": [
    "dfcopy.describe()"
   ]
  },
  {
   "cell_type": "code",
   "execution_count": 81,
   "metadata": {},
   "outputs": [
    {
     "data": {
      "text/html": [
       "<div>\n",
       "<style scoped>\n",
       "    .dataframe tbody tr th:only-of-type {\n",
       "        vertical-align: middle;\n",
       "    }\n",
       "\n",
       "    .dataframe tbody tr th {\n",
       "        vertical-align: top;\n",
       "    }\n",
       "\n",
       "    .dataframe thead th {\n",
       "        text-align: right;\n",
       "    }\n",
       "</style>\n",
       "<table border=\"1\" class=\"dataframe\">\n",
       "  <thead>\n",
       "    <tr style=\"text-align: right;\">\n",
       "      <th></th>\n",
       "      <th>0</th>\n",
       "      <th>1</th>\n",
       "    </tr>\n",
       "  </thead>\n",
       "  <tbody>\n",
       "    <tr>\n",
       "      <th>0</th>\n",
       "      <td>227.000416</td>\n",
       "      <td>-0.316930</td>\n",
       "    </tr>\n",
       "    <tr>\n",
       "      <th>1</th>\n",
       "      <td>225.996005</td>\n",
       "      <td>-11.358704</td>\n",
       "    </tr>\n",
       "    <tr>\n",
       "      <th>2</th>\n",
       "      <td>224.995127</td>\n",
       "      <td>-11.345553</td>\n",
       "    </tr>\n",
       "    <tr>\n",
       "      <th>3</th>\n",
       "      <td>224.001045</td>\n",
       "      <td>0.657881</td>\n",
       "    </tr>\n",
       "    <tr>\n",
       "      <th>4</th>\n",
       "      <td>222.994825</td>\n",
       "      <td>-14.358094</td>\n",
       "    </tr>\n",
       "  </tbody>\n",
       "</table>\n",
       "</div>"
      ],
      "text/plain": [
       "            0          1\n",
       "0  227.000416  -0.316930\n",
       "1  225.996005 -11.358704\n",
       "2  224.995127 -11.345553\n",
       "3  224.001045   0.657881\n",
       "4  222.994825 -14.358094"
      ]
     },
     "execution_count": 81,
     "metadata": {},
     "output_type": "execute_result"
    }
   ],
   "source": [
    "pca = PCA(2) \n",
    "pca.fit(dfcopy) \n",
    "\n",
    "x_2Dgauss = pd.DataFrame(pca.transform(dfcopy)) \n",
    "x_2Dgauss.head()"
   ]
  },
  {
   "cell_type": "code",
   "execution_count": 82,
   "metadata": {},
   "outputs": [],
   "source": [
    "dataf=((x_2Dgauss-x_2Dgauss.min())/(x_2Dgauss.max()-x_2Dgauss.min()))"
   ]
  },
  {
   "cell_type": "code",
   "execution_count": 83,
   "metadata": {},
   "outputs": [
    {
     "data": {
      "text/html": [
       "<div>\n",
       "<style scoped>\n",
       "    .dataframe tbody tr th:only-of-type {\n",
       "        vertical-align: middle;\n",
       "    }\n",
       "\n",
       "    .dataframe tbody tr th {\n",
       "        vertical-align: top;\n",
       "    }\n",
       "\n",
       "    .dataframe thead th {\n",
       "        text-align: right;\n",
       "    }\n",
       "</style>\n",
       "<table border=\"1\" class=\"dataframe\">\n",
       "  <thead>\n",
       "    <tr style=\"text-align: right;\">\n",
       "      <th></th>\n",
       "      <th>0</th>\n",
       "      <th>1</th>\n",
       "    </tr>\n",
       "  </thead>\n",
       "  <tbody>\n",
       "    <tr>\n",
       "      <th>0</th>\n",
       "      <td>1.000000</td>\n",
       "      <td>0.115602</td>\n",
       "    </tr>\n",
       "    <tr>\n",
       "      <th>1</th>\n",
       "      <td>0.997788</td>\n",
       "      <td>0.044852</td>\n",
       "    </tr>\n",
       "    <tr>\n",
       "      <th>2</th>\n",
       "      <td>0.995583</td>\n",
       "      <td>0.044936</td>\n",
       "    </tr>\n",
       "    <tr>\n",
       "      <th>3</th>\n",
       "      <td>0.993393</td>\n",
       "      <td>0.121848</td>\n",
       "    </tr>\n",
       "    <tr>\n",
       "      <th>4</th>\n",
       "      <td>0.991177</td>\n",
       "      <td>0.025633</td>\n",
       "    </tr>\n",
       "  </tbody>\n",
       "</table>\n",
       "</div>"
      ],
      "text/plain": [
       "          0         1\n",
       "0  1.000000  0.115602\n",
       "1  0.997788  0.044852\n",
       "2  0.995583  0.044936\n",
       "3  0.993393  0.121848\n",
       "4  0.991177  0.025633"
      ]
     },
     "execution_count": 83,
     "metadata": {},
     "output_type": "execute_result"
    }
   ],
   "source": [
    "dataf.head()"
   ]
  },
  {
   "cell_type": "code",
   "execution_count": 257,
   "metadata": {},
   "outputs": [
    {
     "data": {
      "text/plain": [
       "(455, 2)"
      ]
     },
     "execution_count": 257,
     "metadata": {},
     "output_type": "execute_result"
    }
   ],
   "source": [
    "dataf.shape"
   ]
  },
  {
   "cell_type": "code",
   "execution_count": 250,
   "metadata": {},
   "outputs": [],
   "source": [
    "datafnp = dataf.to_numpy()"
   ]
  },
  {
   "cell_type": "code",
   "execution_count": 84,
   "metadata": {},
   "outputs": [],
   "source": [
    "def pdf_multivariate_gauss(x, mu, cov):\n",
    "    '''\n",
    "    Caculate the multivariate normal density (pdf)\n",
    "\n",
    "    Keyword arguments:\n",
    "        x = numpy array of a \"d x 1\" sample vector\n",
    "        mu = numpy array of a \"d x 1\" mean vector\n",
    "        cov = \"numpy array of a d x d\" covariance matrix\n",
    "    '''\n",
    "    assert(mu.shape[0] > mu.shape[1]),\\\n",
    "        'mu must be a row vector'\n",
    "    assert(x.shape[0] > x.shape[1]),\\\n",
    "        'x must be a row vector'\n",
    "    assert(cov.shape[0] == cov.shape[1]),\\\n",
    "        'covariance matrix must be square'\n",
    "    assert(mu.shape[0] == cov.shape[0]),\\\n",
    "        'cov_mat and mu_vec must have the same dimensions'\n",
    "    assert(mu.shape[0] == x.shape[0]),\\\n",
    "        'mu and x must have the same dimensions'\n",
    "\n",
    "    part1 = 1 / ( ((2* np.pi)**(len(mu)/2)) * (np.linalg.det(cov)**(1/2)) )\n",
    "    part2 = (-1/2) * ((x-mu).T.dot(np.linalg.inv(cov))).dot((x-mu))\n",
    "    return float(part1 * np.exp(part2))"
   ]
  },
  {
   "cell_type": "code",
   "execution_count": 85,
   "metadata": {},
   "outputs": [
    {
     "name": "stdout",
     "output_type": "stream",
     "text": [
      "+-----------------------+---------------------------+\n",
      "|                       | p([0,0]^t gaussian kernel |\n",
      "+-----------------------+---------------------------+\n",
      "| bw_method scalar 0.3: |     1.1703358598942344    |\n",
      "|    bw_method scott:   |     1.1573885257203154    |\n",
      "|  bw_method silverman: |     1.1573885257203154    |\n",
      "|    actual density:    |    0.15915494309189535    |\n",
      "+-----------------------+---------------------------+\n"
     ]
    }
   ],
   "source": [
    "from scipy.stats import kde\n",
    "import prettytable\n",
    "\n",
    "mu = np.array([[0],[0]])\n",
    "cov = np.eye(2)\n",
    "\n",
    "scott = kde.gaussian_kde(dataf.T, bw_method='scott')\n",
    "silverman = kde.gaussian_kde(dataf.T, bw_method='silverman')\n",
    "scalar = kde.gaussian_kde(dataf.T, bw_method=0.3)\n",
    "actual = pdf_multivariate_gauss(np.array([[0],[0]]), mu, cov)\n",
    "\n",
    "results = prettytable.PrettyTable([\"\", \"p([0,0]^t gaussian kernel\"])\n",
    "results.add_row([\"bw_method scalar 0.3:\", scalar.evaluate(np.array([[0],[0]]))[0]])\n",
    "results.add_row([\"bw_method scott:\", scott.evaluate(np.array([[0],[0]]))[0]])\n",
    "results.add_row([\"bw_method silverman:\", silverman.evaluate(np.array([[0],[0]]))[0]])\n",
    "results.add_row([\"actual density:\", actual])\n",
    "\n",
    "print(results)"
   ]
  },
  {
   "cell_type": "code",
   "execution_count": 262,
   "metadata": {},
   "outputs": [
    {
     "name": "stdout",
     "output_type": "stream",
     "text": [
      "Predict p(x) at the center [0,0]: \n",
      "h = 0.1 ---> p(x) = 2.1978021978021975\n",
      "h = 0.3 ---> p(x) = 1.4652014652014653\n",
      "h = 0.5 ---> p(x) = 0.9318681318681319\n",
      "h = 0.6 ---> p(x) = 0.8119658119658121\n",
      "h = 0.8 ---> p(x) = 0.6318681318681317\n",
      "h = 1 ---> p(x) = 0.5076923076923077\n"
     ]
    }
   ],
   "source": [
    "print('Predict p(x) at the center [0,0]: ')\n",
    "\n",
    "print('h = 0.1 ---> p(x) =', parzen_window_est(\n",
    "        datafnp, h=0.1, center=[0, 0])\n",
    "        )\n",
    "print('h = 0.3 ---> p(x) =',parzen_window_est(\n",
    "        datafnp, h=0.3, center=[0, 0])\n",
    "        )\n",
    "print('h = 0.5 ---> p(x) =',parzen_window_est(\n",
    "        datafnp, h=0.5, center=[0, 0])\n",
    "        )\n",
    "print('h = 0.6 ---> p(x) =',parzen_window_est(\n",
    "        datafnp, h=0.6, center=[0, 0])\n",
    "        )\n",
    "print('h = 0.8 ---> p(x) =',parzen_window_est(\n",
    "        datafnp, h=0.8, center=[0, 0])\n",
    "        )\n",
    "print('h = 1 ---> p(x) =',parzen_window_est(\n",
    "        datafnp, h=1, center=[0, 0])\n",
    "        )"
   ]
  },
  {
   "cell_type": "code",
   "execution_count": 253,
   "metadata": {},
   "outputs": [
    {
     "name": "stdout",
     "output_type": "stream",
     "text": [
      "Optimal window width for this data set:  1.0 \n",
      "value:  0.3485373646004123\n"
     ]
    }
   ],
   "source": [
    "import operator\n",
    "\n",
    "# generate a range of 400 window widths between 0 < h < 1\n",
    "h_range = np.linspace(0.001, 1, 400)\n",
    "\n",
    "# calculate the actual density at the center [0, 0]\n",
    "mu = np.array([[0],[0]])\n",
    "cov = np.eye(2)\n",
    "actual_pdf_val = pdf_multivariate_gauss(np.array([[0],[0]]), mu, cov)\n",
    "\n",
    "# get a list of the differnces (|estimate-actual|) for different window widths\n",
    "parzen_estimates = [np.abs(parzen_window_est(datafnp, h=i, center=[0, 0])\n",
    "               - actual_pdf_val) for i in h_range]\n",
    "\n",
    "# get the window width for which |estimate-actual| is closest to 0\n",
    "min_index, min_value = min(enumerate(parzen_estimates), key=operator.itemgetter(1))\n",
    "\n",
    "print('Optimal window width for this data set: ', h_range[min_index], \"\\nvalue: \", min_value)"
   ]
  },
  {
   "cell_type": "code",
   "execution_count": 264,
   "metadata": {},
   "outputs": [
    {
     "name": "stdout",
     "output_type": "stream",
     "text": [
      "+---------------+--------------------+---------------------+\n",
      "|               |     predicted      |        actual       |\n",
      "+---------------+--------------------+---------------------+\n",
      "|   p([0,0]^t   | 0.5010989010989011 | 0.15915494309189535 |\n",
      "| p([0.5,0.5]^t | 1.0043956043956044 | 0.12394999430965298 |\n",
      "| p([0.3,0.2]^t | 0.8021978021978022 | 0.14913891880709737 |\n",
      "+---------------+--------------------+---------------------+\n"
     ]
    }
   ],
   "source": [
    "import prettytable\n",
    "\n",
    "p1 = parzen_window_est(datafnp, h=h_range[min_index], center=[0, 0])\n",
    "p2 = parzen_window_est(datafnp, h=h_range[min_index], center=[0.5, 0.5])\n",
    "p3 = parzen_window_est(datafnp, h=h_range[min_index], center=[0.3, 0.2])\n",
    "\n",
    "mu = np.array([[0],[0]])\n",
    "cov = np.eye(2)\n",
    "\n",
    "a1 = pdf_multivariate_gauss(np.array([[0],[0]]), mu, cov)\n",
    "a2 = pdf_multivariate_gauss(np.array([[0.5],[0.5]]), mu, cov)\n",
    "a3 = pdf_multivariate_gauss(np.array([[0.3],[0.2]]), mu, cov)\n",
    "\n",
    "results = prettytable.PrettyTable([\"\", \"predicted\", \"actual\"])\n",
    "results.add_row([\"p([0,0]^t\",p1, a1])\n",
    "results.add_row([\"p([0.5,0.5]^t\",p2, a2])\n",
    "results.add_row([\"p([0.3,0.2]^t\",p3, a3])\n",
    "\n",
    "print(results)"
   ]
  },
  {
   "cell_type": "code",
   "execution_count": 86,
   "metadata": {},
   "outputs": [],
   "source": [
    "X = dataf[0].values\n",
    "Y = dataf[1].values\n",
    "\n",
    "X,Y = np.meshgrid(X,Y)"
   ]
  },
  {
   "cell_type": "code",
   "execution_count": 87,
   "metadata": {},
   "outputs": [],
   "source": [
    "def closest_factor_pair(x: int) -> tuple:\n",
    "    \"\"\"\n",
    "    Tries to find the pair of factors of x, i.e. the\n",
    "    closest integers to the square root of x.\n",
    "\n",
    "    Example\n",
    "    >>> closest_factor_pair(34191)\n",
    "    (131, 261)\n",
    "    \"\"\"\n",
    "    for i in range(int(np.sqrt(x)), 0, -1):\n",
    "        if x % i == 0:\n",
    "            return i, int(x/i)\n",
    "    return None"
   ]
  },
  {
   "cell_type": "code",
   "execution_count": 88,
   "metadata": {},
   "outputs": [],
   "source": [
    "# X = x_2Dgauss.values\n",
    "# X,Y = np.meshgrid(X,Y)\n",
    "\n",
    "# fig = plt.figure(figsize=(10, 7))\n",
    "# ax = fig.gca(projection='3d')\n",
    "\n",
    "\n",
    "Z = []\n",
    "# for i,j in zip(X.ravel(),Y.ravel()):\n",
    "#     Z.append(parzen_estimation(dataf, np.array([[i],[j]]), h=0.3, d=2,\n",
    "#                                  window_func=parzen_window_func,\n",
    "#                                  kernel_func=hypercube_kernel))\n",
    "\n",
    "# Z = np.asarray(Z).reshape(100,100)\n",
    "# surf = ax.plot_surface(X, Y, Z, rstride=1, cstride=1, cmap=plt.cm.coolwarm,\n",
    "#         linewidth=0, antialiased=False)\n",
    "\n",
    "# ax.set_zlim(0, 0.2)\n",
    "\n",
    "# ax.zaxis.set_major_locator(plt.LinearLocator(10))\n",
    "# ax.zaxis.set_major_formatter(plt.FormatStrFormatter('%.02f'))\n",
    "\n",
    "# ax.set_xlabel('X')\n",
    "# ax.set_ylabel('Y')\n",
    "# ax.set_zlabel('p(x)')\n",
    "\n",
    "# plt.title('Hypercube kernel with window width h=0.3')\n",
    "\n",
    "# fig.colorbar(surf, shrink=0.5, aspect=7, cmap=plt.cm.coolwarm)\n",
    "\n",
    "# plt.show()"
   ]
  },
  {
   "cell_type": "code",
   "execution_count": 89,
   "metadata": {},
   "outputs": [
    {
     "name": "stdout",
     "output_type": "stream",
     "text": [
      "done in 1.018s\n",
      "done in 0.820s\n",
      "done in 0.791s\n"
     ]
    }
   ],
   "source": [
    "import numpy as np\n",
    "from matplotlib import pyplot as plt\n",
    "# from matplotlib.mlab import bivariate_normal\n",
    "from mpl_toolkits.mplot3d import Axes3D\n",
    "import plotly.graph_objects as go\n",
    "from time import time\n",
    "\n",
    "datadict = {}\n",
    "\n",
    "#########################################\n",
    "### Gaussian kernel density estimates ###\n",
    "#########################################\n",
    "\n",
    "for bwmethod,t in zip([scalar, scott, silverman], ['scalar h=0.3', 'scott',\n",
    "        'silverman']):\n",
    "    t0 = time()\n",
    "#     fig = plt.figure(figsize=(10, 7))\n",
    "#     ax = fig.gca(projection='3d')\n",
    "    Z = bwmethod(np.array([X.ravel(),Y.ravel()]))\n",
    "    shape = closest_factor_pair(len(Z))\n",
    "#     Z = Z.reshape(100,100)\n",
    "    Z = np.reshape(Z,shape)\n",
    "    datadict.update({t:{'X':X,'Y':Y,'Z':Z}})\n",
    "    print(\"done in %0.3fs\" % (time() - t0))\n",
    "    \n",
    "#     surf = ax.plot_surface(X, Y, Z, rstride=1, cstride=1, cmap=plt.cm.coolwarm,\n",
    "#         linewidth=0, antialiased=False)\n",
    "    \n",
    "    \n",
    "    \n",
    "#     ax.set_zlim(0, 0.2)\n",
    "#     ax.zaxis.set_major_locator(plt.LinearLocator(10))\n",
    "#     ax.zaxis.set_major_formatter(plt.FormatStrFormatter('%.02f'))\n",
    "#     ax.set_xlabel('X')\n",
    "#     ax.set_ylabel('Y')\n",
    "\n",
    "#     ax.set_zlabel('p(x)')\n",
    "\n",
    "#     plt.title('Gaussian kernel, bw_method %s' %t)\n",
    "#     fig.colorbar(surf, shrink=0.5, aspect=7, cmap=plt.cm.coolwarm)\n",
    "#     plt.show()\n"
   ]
  },
  {
   "cell_type": "code",
   "execution_count": 218,
   "metadata": {},
   "outputs": [],
   "source": [
    "for p in datadict.keys():\n",
    "    mod = datadict.get(p)\n",
    "    fig = go.Figure(data=[go.Surface(z=mod.get('Z'), x=mod.get('X'), y=mod.get('Y'))])\n",
    "    fig.update_layout(title=p, autosize=True,\n",
    "                      width=500, height=500)\n",
    "    fig.show(renderer='chrome')"
   ]
  },
  {
   "cell_type": "code",
   "execution_count": null,
   "metadata": {},
   "outputs": [],
   "source": []
  },
  {
   "cell_type": "code",
   "execution_count": null,
   "metadata": {},
   "outputs": [],
   "source": []
  },
  {
   "cell_type": "code",
   "execution_count": null,
   "metadata": {},
   "outputs": [],
   "source": []
  },
  {
   "cell_type": "code",
   "execution_count": null,
   "metadata": {},
   "outputs": [],
   "source": []
  },
  {
   "cell_type": "code",
   "execution_count": 219,
   "metadata": {},
   "outputs": [],
   "source": [
    "# ###########################################\n",
    "# ### Actual bivariate Gaussian densities ###\n",
    "# ###########################################\n",
    "def bivariate_normal(X, Y, sigmax=1.0, sigmay=1.0,\n",
    "                     mux=0.0, muy=0.0, sigmaxy=0.0):\n",
    "    \"\"\"\n",
    "    Bivariate Gaussian distribution for equal shape *X*, *Y*.\n",
    "    See `bivariate normal\n",
    "    <http://mathworld.wolfram.com/BivariateNormalDistribution.html>`_\n",
    "    at mathworld.\n",
    "    \"\"\"\n",
    "    Xmu = X-mux\n",
    "    Ymu = Y-muy\n",
    "\n",
    "    rho = sigmaxy/(sigmax*sigmay)\n",
    "    z = Xmu**2/sigmax**2 + Ymu**2/sigmay**2 - 2*rho*Xmu*Ymu/(sigmax*sigmay)\n",
    "    denom = 2*np.pi*sigmax*sigmay*np.sqrt(1-rho**2)\n",
    "    return np.exp(-z/(2*(1-rho**2))) / denom\n",
    "\n",
    "\n",
    "# fig = plt.figure(figsize=(10, 7))\n",
    "# ax = fig.gca(projection='3d')\n",
    "Z = bivariate_normal(X, Y)\n",
    "fig = go.Figure(data=[go.Surface(z=Z, x=X, y=Y)])\n",
    "fig.update_layout(title='Actual bivariate Gaussian densities', autosize=True,\n",
    "                  width=500, height=500)\n",
    "fig.show(renderer='chrome')\n",
    "# surf = ax.plot_surface(X, Y, Z, rstride=1, cstride=1, cmap=plt.cm.coolwarm,\n",
    "#         linewidth=0, antialiased=False)\n",
    "\n",
    "# ax.set_zlim(0, 0.2)\n",
    "\n",
    "# ax.zaxis.set_major_locator(plt.LinearLocator(10))\n",
    "# ax.zaxis.set_major_formatter(plt.FormatStrFormatter('%.02f'))\n",
    "# fig.colorbar(surf, shrink=0.5, aspect=7, cmap=plt.cm.coolwarm)\n",
    "\n",
    "# ax.set_xlabel('X')\n",
    "# ax.set_ylabel('Y')\n",
    "# ax.set_zlabel('p(x)')\n",
    "# plt.title('Actual bivariate Gaussian densities')\n",
    "\n",
    "# plt.show()"
   ]
  },
  {
   "cell_type": "code",
   "execution_count": 50,
   "metadata": {},
   "outputs": [],
   "source": [
    "fig.update_layout(\n",
    "    width = 800,\n",
    "    height = 500,\n",
    "    title = \"fixed-ratio axes with compressed axes\",\n",
    "    xaxis = dict(\n",
    "      range=[-2,2],  # sets the range of xaxis\n",
    "#       constrain=\"domain\",  # meanwhile compresses the xaxis by decreasing its \"domain\"\n",
    "    ),\n",
    "    yaxis = dict(\n",
    "      scaleanchor = \"x\",\n",
    "      scaleratio = 1,\n",
    "    ),\n",
    ")\n",
    "fig.show(renderer='chrome')\n"
   ]
  },
  {
   "cell_type": "markdown",
   "metadata": {},
   "source": [
    "## Actual Errors"
   ]
  },
  {
   "cell_type": "code",
   "execution_count": 108,
   "metadata": {},
   "outputs": [],
   "source": [
    "ticketoverview_closed = pd.read_excel(prefix+\"TicketOverview.xlsm\", sheet_name=\"Closed\")\n",
    "ticketoverview_open = pd.read_excel(prefix+\"TicketOverview.xlsm\", sheet_name=\"Open\")\n",
    "ticketoverview_open.drop(columns=[\"Kolom1\"], inplace=True)"
   ]
  },
  {
   "cell_type": "code",
   "execution_count": 14,
   "metadata": {},
   "outputs": [],
   "source": [
    "# ticketoverview_closed.head()"
   ]
  },
  {
   "cell_type": "code",
   "execution_count": 15,
   "metadata": {},
   "outputs": [],
   "source": [
    "# ticketoverview_open.head()"
   ]
  },
  {
   "cell_type": "code",
   "execution_count": 16,
   "metadata": {},
   "outputs": [],
   "source": [
    "# ticketoverview_open['Interface'].unique()"
   ]
  },
  {
   "cell_type": "code",
   "execution_count": 428,
   "metadata": {},
   "outputs": [
    {
     "name": "stdout",
     "output_type": "stream",
     "text": [
      "[4, 4]\n",
      "[4, 4]\n",
      "[4, 4]\n",
      "[2, 3]\n",
      "[1, 1]\n",
      "[5, 4]\n",
      "[1, 3]\n",
      "[4, 5]\n",
      "[4, 4]\n",
      "[3, 3]\n",
      "[2, 2]\n",
      "[1, 1]\n",
      "[3, 2]\n",
      "[5, 5]\n",
      "[4, 4]\n",
      "[1, 3]\n",
      "[2, 3]\n",
      "[1, 1]\n",
      "[3, 4]\n",
      "[5, 5]\n"
     ]
    },
    {
     "data": {
      "text/plain": [
       "0.8651693461523118"
      ]
     },
     "execution_count": 428,
     "metadata": {},
     "output_type": "execute_result"
    }
   ],
   "source": [
    "uniopen = ticketoverview_open['Interface']\n",
    "uniclosed = ticketoverview_closed['Interface']\n",
    "alliflows = np.concatenate( (uniopen,uniclosed) )\n",
    "alliflows = np.array(alliflows)\n",
    "\n",
    "countdict = Counter(alliflows)\n",
    "# print(countdict)\n",
    "# len(ticketoverview_open['Interface'].unique())\n",
    "# len(ticketoverview_closed['Interface'].unique())\n",
    "counter = 0\n",
    "y1,y2,weights = [],[],[]\n",
    "for i in countdict.keys():\n",
    "    weight = countdict.get(i)\n",
    "    localiflow = dictrating.get(i,\"Missing\")\n",
    "    if localiflow != \"Missing\":\n",
    "        counter+=1\n",
    "        print(localiflow)\n",
    "        if len(localiflow) == 2:\n",
    "            y1.append(localiflow[0])\n",
    "            y2.append(localiflow[1])\n",
    "            weights.append(weight)\n",
    "        else:\n",
    "            continue\n",
    "    else:\n",
    "        continue\n",
    "   \n",
    "    if counter == 20:\n",
    "        break;\n",
    "cohen_kappa_score(y1,y2, weights=\"quadratic\", sample_weight=weights)"
   ]
  },
  {
   "cell_type": "markdown",
   "metadata": {},
   "source": [
    "## Cohen Kappa"
   ]
  },
  {
   "cell_type": "code",
   "execution_count": 322,
   "metadata": {},
   "outputs": [],
   "source": [
    "ratingSven = pd.read_excel(prefix+\"iFlow rating Sven.xlsx\", header=7)\n",
    "ratingKenny = pd.read_excel(prefix+\"iFlow rating Kenny.xlsx\", header=7)\n",
    "ratingTom = pd.read_excel(prefix+\"iFlow rating Tom.xlsx\", header=7)\n",
    "ratingBrian = pd.read_excel(prefix+\"iFlow rating Brian.xlsx\", header=7)\n",
    "ratingMartin = pd.read_excel(prefix+\"iFlow rating Martin.xlsx\", header=7)\n",
    "ratingMatthijs = pd.read_excel(prefix+\"iFlow rating Matthijs.xlsx\", header=7)\n",
    "ratingPeter = pd.read_excel(prefix+\"iFlow rating Peter.xlsx\", header=7)\n",
    "ratingJennifer = pd.read_excel(prefix+\"iFlow rating Jennifer.xlsx\", header=7)\n",
    "ratingPatrick = pd.read_excel(prefix+\"iFlow rating Patrick.xlsx\", header=7)\n",
    "ratingRik = pd.read_excel(prefix+\"iFlow rating Rik.xlsx\", header=7)\n",
    "\n",
    "\n",
    "ratingSven.drop(columns=[\"Unnamed: 0\"], inplace=True)\n",
    "ratingKenny.drop(columns=[\"Unnamed: 0\"], inplace=True)\n",
    "ratingTom.drop(columns=[\"Unnamed: 0\",\"Unnamed: 3\"], inplace=True)\n",
    "ratingBrian.drop(columns=[\"Unnamed: 0\",\"Unnamed: 3\"], inplace=True)\n",
    "ratingMartin.drop(columns=[\"Unnamed: 0\"], inplace=True)\n",
    "ratingMatthijs.drop(columns=[\"Unnamed: 0\"], inplace=True)\n",
    "ratingPeter.drop(columns=[\"Unnamed: 0\"], inplace=True)\n",
    "ratingJennifer.drop(columns=[\"Unnamed: 0\"], inplace=True)\n",
    "ratingPatrick.drop(columns=[\"Unnamed: 0\",\"Unnamed: 3\"], inplace=True)\n",
    "ratingRik.drop(columns=[\"Unnamed: 0\",\"Unnamed: 3\"], inplace=True)"
   ]
  },
  {
   "cell_type": "code",
   "execution_count": 323,
   "metadata": {},
   "outputs": [],
   "source": [
    "ratingSven[\"by\"]=\"Sven\"\n",
    "ratingKenny[\"by\"]=\"Kenny\"\n",
    "ratingTom[\"by\"]=\"Tom\"\n",
    "ratingBrian[\"by\"]=\"Brian\"\n",
    "ratingMartin[\"by\"]=\"Martin\"\n",
    "ratingMatthijs[\"by\"]=\"Matthijs\"\n",
    "ratingPeter[\"by\"]=\"Peter\"\n",
    "ratingJennifer[\"by\"]=\"Jennifer\"\n",
    "ratingPatrick[\"by\"]=\"Patrick\"\n",
    "ratingRik[\"by\"]=\"Rik\""
   ]
  },
  {
   "cell_type": "code",
   "execution_count": 324,
   "metadata": {},
   "outputs": [],
   "source": [
    "dictrating = {}\n",
    "dictby = {}\n",
    "for i in list([ratingSven,ratingTom,ratingBrian,ratingMartin,ratingMatthijs,ratingKenny,\n",
    "               ratingPeter,ratingJennifer,ratingPatrick,ratingRik]):\n",
    "    for j in i.iterrows():\n",
    "        iflow = j[1][0]\n",
    "        if math.isnan(float(j[1][1])):\n",
    "            continue\n",
    "        rating = int(float(j[1][1]))\n",
    "        by = j[1][2]\n",
    "        index = dictrating.get(iflow, None)\n",
    "        index2 = dictby.get(iflow, None)\n",
    "        if index == None:\n",
    "            dictrating.update({iflow:[rating]})\n",
    "            dictby.update({iflow:[by]})\n",
    "        else:\n",
    "            index.append(rating)\n",
    "            index2.append(by)"
   ]
  },
  {
   "cell_type": "code",
   "execution_count": null,
   "metadata": {},
   "outputs": [],
   "source": []
  },
  {
   "cell_type": "code",
   "execution_count": 325,
   "metadata": {},
   "outputs": [],
   "source": [
    "from sklearn.metrics import cohen_kappa_score"
   ]
  },
  {
   "cell_type": "code",
   "execution_count": 441,
   "metadata": {},
   "outputs": [],
   "source": [
    "y1, y2 = [], []\n",
    "for i in dictrating.keys():\n",
    "    l = dictrating.get(i)\n",
    "    if len(l) == 2:\n",
    "        y1.append(l[0])\n",
    "        y2.append(l[1])"
   ]
  },
  {
   "cell_type": "code",
   "execution_count": 442,
   "metadata": {},
   "outputs": [
    {
     "data": {
      "text/plain": [
       "0.6334892307692308"
      ]
     },
     "execution_count": 442,
     "metadata": {},
     "output_type": "execute_result"
    }
   ],
   "source": [
    "cohen_kappa_score(y1,y2, weights=\"quadratic\")"
   ]
  },
  {
   "cell_type": "code",
   "execution_count": 434,
   "metadata": {},
   "outputs": [],
   "source": [
    "def cohenkappa_collegas(df1,df2):\n",
    "    df1.sort_values(by=['iFlow'], inplace=True)\n",
    "    df2.sort_values(by=['iFlow'], inplace=True)\n",
    "    comprating = pd.merge(df1, df2, on='iFlow')\n",
    "    comprating.dropna(how=\"any\",inplace=True)\n",
    "    comprating['Complexiteit_x'] = pd.to_numeric(comprating['Complexiteit_x'], downcast='integer')\n",
    "    comprating['Complexiteit_y'] = pd.to_numeric(comprating['Complexiteit_y'], downcast='integer')\n",
    "    y1 = comprating['Complexiteit_x'].values\n",
    "    y2 = comprating['Complexiteit_y'].values\n",
    "    return cohen_kappa_score(y1,y2, weights=\"quadratic\")"
   ]
  },
  {
   "cell_type": "code",
   "execution_count": 435,
   "metadata": {},
   "outputs": [
    {
     "name": "stdout",
     "output_type": "stream",
     "text": [
      "Jennifer & Matthijs 0.6656091370558376\n",
      "Sven & Patrick 0.7516425755584757\n",
      "Tom & Brian 0.755477929501429\n",
      "Martin & Peter 0.1884431358115568\n",
      "Kenny & Rik 0.8129675810473815\n"
     ]
    }
   ],
   "source": [
    "print(\"Jennifer & Matthijs {}\".format(cohenkappa_collegas(ratingMatthijs,ratingJennifer)))\n",
    "print(\"Sven & Patrick {}\".format(cohenkappa_collegas(ratingSven,ratingPatrick)))\n",
    "print(\"Tom & Brian {}\".format(cohenkappa_collegas(ratingTom,ratingBrian)))\n",
    "print(\"Martin & Peter {}\".format(cohenkappa_collegas(ratingMartin,ratingPeter)))\n",
    "print(\"Kenny & Rik {}\".format(cohenkappa_collegas(ratingKenny,ratingRik)))"
   ]
  },
  {
   "cell_type": "code",
   "execution_count": 331,
   "metadata": {},
   "outputs": [],
   "source": [
    "binarybins = pd.read_csv(\"../generateddata/binarybinnedpred.csv\")\n",
    "ratiobins = pd.read_csv(\"../generateddata/ratiobinnedpred.csv\")"
   ]
  },
  {
   "cell_type": "code",
   "execution_count": 17,
   "metadata": {},
   "outputs": [],
   "source": [
    "# "
   ]
  },
  {
   "cell_type": "code",
   "execution_count": 437,
   "metadata": {},
   "outputs": [
    {
     "name": "stdout",
     "output_type": "stream",
     "text": [
      "0.20935702840768122\n",
      "0.18388907245757036\n"
     ]
    }
   ],
   "source": [
    "def dosomething(df):\n",
    "    y1,y2\n",
    "    for i in df.iterrows():\n",
    "        iflow=i[1][1]\n",
    "        ratings = dictrating.get(iflow, \"Missing\")\n",
    "        pred = i[1][2]\n",
    "        if ratings == \"Missing\":\n",
    "            continue\n",
    "        for j in ratings:\n",
    "            y1.append(pred)\n",
    "            y2.append(j)\n",
    "    return cohen_kappa_score(y1,y2, weights=\"quadratic\")\n",
    "\n",
    "print(dosomething(binarybins))\n",
    "print(dosomething(ratiobins))"
   ]
  },
  {
   "cell_type": "code",
   "execution_count": null,
   "metadata": {},
   "outputs": [],
   "source": []
  },
  {
   "cell_type": "code",
   "execution_count": 438,
   "metadata": {},
   "outputs": [
    {
     "name": "stdout",
     "output_type": "stream",
     "text": [
      "Binary\n",
      "Jennifer & Matthijs 0.18573961664548755\n",
      "Sven & Patrick 0.18768478017316914\n",
      "Tom & Brian 0.18984111593867348\n",
      "Martin & Peter 0.19356944012843047\n",
      "Kenny & Rik 0.19690737049486084\n",
      "Ratio\n",
      "Jennifer & Matthijs 0.19229302074838028\n",
      "Sven & Patrick 0.18858666255163492\n",
      "Tom & Brian 0.18461211357782992\n",
      "Martin & Peter 0.18254191252224405\n",
      "Kenny & Rik 0.18218200810530238\n"
     ]
    }
   ],
   "source": [
    "def cokap(df, name):\n",
    "    print(name)\n",
    "    print(\"Jennifer & Matthijs {}\".format(dosomething(df[df['scenario'].isin(ratingMatthijs['iFlow'])])))\n",
    "    print(\"Sven & Patrick {}\".format(dosomething(df[df['scenario'].isin(ratingSven['iFlow'])])))\n",
    "    print(\"Tom & Brian {}\".format(dosomething(df[df['scenario'].isin(ratingTom['iFlow'])])))\n",
    "    print(\"Martin & Peter {}\".format(dosomething(df[df['scenario'].isin(ratingMartin['iFlow'])])))\n",
    "    print(\"Kenny & Rik {}\".format(dosomething(df[df['scenario'].isin(ratingKenny['iFlow'])])))\n",
    "cokap(binarybins, \"Binary\")\n",
    "cokap(ratiobins, \"Ratio\")"
   ]
  },
  {
   "cell_type": "code",
   "execution_count": null,
   "metadata": {},
   "outputs": [],
   "source": []
  }
 ],
 "metadata": {
  "kernelspec": {
   "display_name": "Python 3",
   "language": "python",
   "name": "python3"
  },
  "language_info": {
   "codemirror_mode": {
    "name": "ipython",
    "version": 3
   },
   "file_extension": ".py",
   "mimetype": "text/x-python",
   "name": "python",
   "nbconvert_exporter": "python",
   "pygments_lexer": "ipython3",
   "version": "3.7.3-final"
  },
  "toc-showcode": false
 },
 "nbformat": 4,
 "nbformat_minor": 4
}