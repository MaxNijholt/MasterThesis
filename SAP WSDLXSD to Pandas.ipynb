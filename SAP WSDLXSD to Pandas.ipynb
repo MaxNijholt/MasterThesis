{
 "cells": [
  {
   "cell_type": "code",
   "execution_count": 2,
   "metadata": {
    "ExecuteTime": {
     "end_time": "2019-10-25T09:23:48.026682Z",
     "start_time": "2019-10-25T09:23:48.023776Z"
    }
   },
   "outputs": [
    {
     "name": "stderr",
     "output_type": "stream",
     "text": [
      "/Users/max/anaconda3/lib/python3.7/site-packages/tqdm/autonotebook.py:17: TqdmExperimentalWarning: Using `tqdm.autonotebook.tqdm` in notebook mode. Use `tqdm.tqdm` instead to force console mode (e.g. in jupyter console)\n",
      "  \" (e.g. in jupyter console)\", TqdmExperimentalWarning)\n"
     ]
    }
   ],
   "source": [
    "import pandas as pd \n",
    "import xml.etree.ElementTree as et \n",
    "import os\n",
    "import regex as re\n",
    "import json\n",
    "import glob\n",
    "from tqdm.autonotebook import tqdm"
   ]
  },
  {
   "cell_type": "code",
   "execution_count": 3,
   "metadata": {
    "ExecuteTime": {
     "end_time": "2019-10-25T09:22:48.928975Z",
     "start_time": "2019-10-25T09:22:48.650544Z"
    }
   },
   "outputs": [],
   "source": [
    "wsdlfilelist = []\n",
    "xsdfilelist = []\n",
    "# for root, dirs, files in os.walk(\"../../../Downloads/testcpi\"):\n",
    "for root, dirs, files in os.walk(\"../../../Downloads/PostNLQAS\"):\n",
    "    wsdlfilelist = wsdlfilelist + glob.glob(root+'/*.wsdl')\n",
    "    xsdfilelist = xsdfilelist + glob.glob(root+'/*.xsd')"
   ]
  },
  {
   "cell_type": "code",
   "execution_count": 4,
   "metadata": {
    "ExecuteTime": {
     "end_time": "2019-10-25T09:22:49.345132Z",
     "start_time": "2019-10-25T09:22:49.341542Z"
    }
   },
   "outputs": [],
   "source": [
    "columns = ['filename', 'rootelem', 'rootid', 'rootname', 'path', 'key', 'value', 'name', 'id', 'type', \\\n",
    "           'sourceref', 'targetref', 'processref', 'bpmnelement', 'x', 'y', 'width', 'height', 'bpmntype']"
   ]
  },
  {
   "cell_type": "code",
   "execution_count": 5,
   "metadata": {
    "ExecuteTime": {
     "end_time": "2019-10-25T09:27:05.433183Z",
     "start_time": "2019-10-25T09:27:05.421954Z"
    },
    "code_folding": []
   },
   "outputs": [],
   "source": [
    "def parse_xsd_XML(xml_file): \n",
    "#     print(xml_file)\n",
    "    xtree = et.parse(xml_file)\n",
    "    xroot = xtree.getroot()\n",
    "    return extractSequence(xroot, xml_file)\n",
    "    \n",
    "def extractElementInfos(xml, path, infodict,xml_file):\n",
    "    for elem in list(xml):\n",
    "        firsttabs = \"\"\n",
    "        rootelem = \"\"\n",
    "        if \"}\" in elem.tag:\n",
    "            rootelem = elem.tag.split(\"}\", 1)[1]\n",
    "        else:\n",
    "            rootelem = elem.tag\n",
    "        if rootelem == \"element\":\n",
    "            minOccurs = elem.attrib.get(\"minOccurs\", None)\n",
    "            name = elem.attrib.get(\"name\", None)\n",
    "            maxOccurs = elem.attrib.get(\"maxOccurs\", None)\n",
    "            elemtype = elem.attrib.get(\"type\", None)\n",
    "            infodict['path'].append(path)\n",
    "            infodict['name'].append(name)\n",
    "            infodict['minOccurs'].append(minOccurs)\n",
    "            infodict['maxOccurs'].append(maxOccurs)\n",
    "            infodict['type'].append(elemtype)\n",
    "            infodict['file'].append(xml_file)\n",
    "            \n",
    "\n",
    "def extractSequence(xml, xml_file, infodict = {'file':[],'path': [],'name':[],'minOccurs':[], 'maxOccurs':[],'type':[]},path=\"\"):\n",
    "    path = path\n",
    "    infodict = infodict\n",
    "    if len(list(xml)) > 0:\n",
    "        for elem in list(xml):\n",
    "            path = path\n",
    "            rootelem=\"\"\n",
    "            if \"}\" in elem.tag:\n",
    "                rootelem = elem.tag.split(\"}\", 1)[1]\n",
    "            else:\n",
    "                rootelem = elem.tag\n",
    "            path += \"/\" + rootelem\n",
    "            if rootelem == \"sequence\":\n",
    "                extractElementInfos(elem, path, infodict,xml_file)\n",
    "                if len(list(elem))> 0:\n",
    "                    extractSequence(elem, xml_file, infodict, path)\n",
    "            else:\n",
    "                extractSequence(elem, xml_file, infodict, path)\n",
    "    return infodict"
   ]
  },
  {
   "cell_type": "code",
   "execution_count": 1,
   "metadata": {
    "ExecuteTime": {
     "end_time": "2019-10-25T09:27:07.949876Z",
     "start_time": "2019-10-25T09:27:07.947105Z"
    }
   },
   "outputs": [],
   "source": [
    "print(parse_xsd_XML(xsdfilelist[0]))"
   ]
  },
  {
   "cell_type": "code",
   "execution_count": 9,
   "metadata": {
    "ExecuteTime": {
     "end_time": "2019-10-25T09:27:12.355747Z",
     "start_time": "2019-10-25T09:27:10.627752Z"
    }
   },
   "outputs": [
    {
     "data": {
      "application/vnd.jupyter.widget-view+json": {
       "model_id": "785affa6af814cabbd0a8c4316b65b16",
       "version_major": 2,
       "version_minor": 0
      },
      "text/plain": [
       "HBox(children=(IntProgress(value=0, max=453), HTML(value='')))"
      ]
     },
     "metadata": {},
     "output_type": "display_data"
    }
   ],
   "source": [
    "xsddfs = []\n",
    "pbar = tqdm(total=len(xsdfilelist), leave=False)\n",
    "pbar.set_description(desc='Processing xsds', refresh=True)\n",
    "for i in xsdfilelist:\n",
    "    try:\n",
    "        dicts = parse_xsd_XML(i)\n",
    "#     lpbar = tqdm(total=len(dicts), leave=False)\n",
    "#     lpbar.set_description(desc='Processing dicts', refresh=True)\n",
    "#     for j in dicts:\n",
    "        df = pd.DataFrame.from_dict(dicts)\n",
    "        xsddfs.append(df)\n",
    "        pbar.update(1)\n",
    "    except:\n",
    "        pbar.update(1)\n",
    "#         lpbar.update(1)\n",
    "#     lpbar.close()\n",
    "pbar.close()\n"
   ]
  },
  {
   "cell_type": "code",
   "execution_count": 11,
   "metadata": {
    "ExecuteTime": {
     "end_time": "2019-10-25T09:27:33.737661Z",
     "start_time": "2019-10-25T09:27:15.668640Z"
    }
   },
   "outputs": [
    {
     "data": {
      "application/vnd.jupyter.widget-view+json": {
       "model_id": "",
       "version_major": 2,
       "version_minor": 0
      },
      "text/plain": [
       "HBox(children=(IntProgress(value=0, max=450), HTML(value='')))"
      ]
     },
     "metadata": {},
     "output_type": "display_data"
    },
    {
     "ename": "OSError",
     "evalue": "[Errno 28] No space left on device",
     "output_type": "error",
     "traceback": [
      "\u001b[0;31m---------------------------------------------------------------------------\u001b[0m",
      "\u001b[0;31mOSError\u001b[0m                                   Traceback (most recent call last)",
      "\u001b[0;32m<ipython-input-11-2bd36badb08f>\u001b[0m in \u001b[0;36m<module>\u001b[0;34m\u001b[0m\n\u001b[1;32m      7\u001b[0m     \u001b[0mpbar\u001b[0m\u001b[0;34m.\u001b[0m\u001b[0mupdate\u001b[0m\u001b[0;34m(\u001b[0m\u001b[0;36m1\u001b[0m\u001b[0;34m)\u001b[0m\u001b[0;34m\u001b[0m\u001b[0;34m\u001b[0m\u001b[0m\n\u001b[1;32m      8\u001b[0m \u001b[0mpbar\u001b[0m\u001b[0;34m.\u001b[0m\u001b[0mclose\u001b[0m\u001b[0;34m(\u001b[0m\u001b[0;34m)\u001b[0m\u001b[0;34m\u001b[0m\u001b[0;34m\u001b[0m\u001b[0m\n\u001b[0;32m----> 9\u001b[0;31m \u001b[0mdf\u001b[0m\u001b[0;34m.\u001b[0m\u001b[0mto_csv\u001b[0m\u001b[0;34m(\u001b[0m\u001b[0;34m\"../generateddata/QASxsd.csv\"\u001b[0m\u001b[0;34m)\u001b[0m\u001b[0;34m\u001b[0m\u001b[0;34m\u001b[0m\u001b[0m\n\u001b[0m",
      "\u001b[0;32m~/anaconda3/lib/python3.7/site-packages/pandas/core/generic.py\u001b[0m in \u001b[0;36mto_csv\u001b[0;34m(self, path_or_buf, sep, na_rep, float_format, columns, header, index, index_label, mode, encoding, compression, quoting, quotechar, line_terminator, chunksize, date_format, doublequote, escapechar, decimal)\u001b[0m\n\u001b[1;32m   3226\u001b[0m             \u001b[0mdecimal\u001b[0m\u001b[0;34m=\u001b[0m\u001b[0mdecimal\u001b[0m\u001b[0;34m,\u001b[0m\u001b[0;34m\u001b[0m\u001b[0;34m\u001b[0m\u001b[0m\n\u001b[1;32m   3227\u001b[0m         )\n\u001b[0;32m-> 3228\u001b[0;31m         \u001b[0mformatter\u001b[0m\u001b[0;34m.\u001b[0m\u001b[0msave\u001b[0m\u001b[0;34m(\u001b[0m\u001b[0;34m)\u001b[0m\u001b[0;34m\u001b[0m\u001b[0;34m\u001b[0m\u001b[0m\n\u001b[0m\u001b[1;32m   3229\u001b[0m \u001b[0;34m\u001b[0m\u001b[0m\n\u001b[1;32m   3230\u001b[0m         \u001b[0;32mif\u001b[0m \u001b[0mpath_or_buf\u001b[0m \u001b[0;32mis\u001b[0m \u001b[0;32mNone\u001b[0m\u001b[0;34m:\u001b[0m\u001b[0;34m\u001b[0m\u001b[0;34m\u001b[0m\u001b[0m\n",
      "\u001b[0;32m~/anaconda3/lib/python3.7/site-packages/pandas/io/formats/csvs.py\u001b[0m in \u001b[0;36msave\u001b[0;34m(self)\u001b[0m\n\u001b[1;32m    200\u001b[0m                 \u001b[0mself\u001b[0m\u001b[0;34m.\u001b[0m\u001b[0mwriter\u001b[0m \u001b[0;34m=\u001b[0m \u001b[0mUnicodeWriter\u001b[0m\u001b[0;34m(\u001b[0m\u001b[0mf\u001b[0m\u001b[0;34m,\u001b[0m \u001b[0;34m**\u001b[0m\u001b[0mwriter_kwargs\u001b[0m\u001b[0;34m)\u001b[0m\u001b[0;34m\u001b[0m\u001b[0;34m\u001b[0m\u001b[0m\n\u001b[1;32m    201\u001b[0m \u001b[0;34m\u001b[0m\u001b[0m\n\u001b[0;32m--> 202\u001b[0;31m             \u001b[0mself\u001b[0m\u001b[0;34m.\u001b[0m\u001b[0m_save\u001b[0m\u001b[0;34m(\u001b[0m\u001b[0;34m)\u001b[0m\u001b[0;34m\u001b[0m\u001b[0;34m\u001b[0m\u001b[0m\n\u001b[0m\u001b[1;32m    203\u001b[0m \u001b[0;34m\u001b[0m\u001b[0m\n\u001b[1;32m    204\u001b[0m         \u001b[0;32mfinally\u001b[0m\u001b[0;34m:\u001b[0m\u001b[0;34m\u001b[0m\u001b[0;34m\u001b[0m\u001b[0m\n",
      "\u001b[0;32m~/anaconda3/lib/python3.7/site-packages/pandas/io/formats/csvs.py\u001b[0m in \u001b[0;36m_save\u001b[0;34m(self)\u001b[0m\n\u001b[1;32m    322\u001b[0m                 \u001b[0;32mbreak\u001b[0m\u001b[0;34m\u001b[0m\u001b[0;34m\u001b[0m\u001b[0m\n\u001b[1;32m    323\u001b[0m \u001b[0;34m\u001b[0m\u001b[0m\n\u001b[0;32m--> 324\u001b[0;31m             \u001b[0mself\u001b[0m\u001b[0;34m.\u001b[0m\u001b[0m_save_chunk\u001b[0m\u001b[0;34m(\u001b[0m\u001b[0mstart_i\u001b[0m\u001b[0;34m,\u001b[0m \u001b[0mend_i\u001b[0m\u001b[0;34m)\u001b[0m\u001b[0;34m\u001b[0m\u001b[0;34m\u001b[0m\u001b[0m\n\u001b[0m\u001b[1;32m    325\u001b[0m \u001b[0;34m\u001b[0m\u001b[0m\n\u001b[1;32m    326\u001b[0m     \u001b[0;32mdef\u001b[0m \u001b[0m_save_chunk\u001b[0m\u001b[0;34m(\u001b[0m\u001b[0mself\u001b[0m\u001b[0;34m,\u001b[0m \u001b[0mstart_i\u001b[0m\u001b[0;34m,\u001b[0m \u001b[0mend_i\u001b[0m\u001b[0;34m)\u001b[0m\u001b[0;34m:\u001b[0m\u001b[0;34m\u001b[0m\u001b[0;34m\u001b[0m\u001b[0m\n",
      "\u001b[0;32m~/anaconda3/lib/python3.7/site-packages/pandas/io/formats/csvs.py\u001b[0m in \u001b[0;36m_save_chunk\u001b[0;34m(self, start_i, end_i)\u001b[0m\n\u001b[1;32m    354\u001b[0m         )\n\u001b[1;32m    355\u001b[0m \u001b[0;34m\u001b[0m\u001b[0m\n\u001b[0;32m--> 356\u001b[0;31m         \u001b[0mlibwriters\u001b[0m\u001b[0;34m.\u001b[0m\u001b[0mwrite_csv_rows\u001b[0m\u001b[0;34m(\u001b[0m\u001b[0mself\u001b[0m\u001b[0;34m.\u001b[0m\u001b[0mdata\u001b[0m\u001b[0;34m,\u001b[0m \u001b[0mix\u001b[0m\u001b[0;34m,\u001b[0m \u001b[0mself\u001b[0m\u001b[0;34m.\u001b[0m\u001b[0mnlevels\u001b[0m\u001b[0;34m,\u001b[0m \u001b[0mself\u001b[0m\u001b[0;34m.\u001b[0m\u001b[0mcols\u001b[0m\u001b[0;34m,\u001b[0m \u001b[0mself\u001b[0m\u001b[0;34m.\u001b[0m\u001b[0mwriter\u001b[0m\u001b[0;34m)\u001b[0m\u001b[0;34m\u001b[0m\u001b[0;34m\u001b[0m\u001b[0m\n\u001b[0m",
      "\u001b[0;32mpandas/_libs/writers.pyx\u001b[0m in \u001b[0;36mpandas._libs.writers.write_csv_rows\u001b[0;34m()\u001b[0m\n",
      "\u001b[0;31mOSError\u001b[0m: [Errno 28] No space left on device"
     ]
    }
   ],
   "source": [
    "df = xsddfs[0]\n",
    "pbar = tqdm(total=len(xsddfs), leave=False)\n",
    "pbar.set_description(desc='Processing xsddfs', refresh=True)\n",
    "pbar.update(1)\n",
    "for i in range(1, len(xsddfs)):\n",
    "    df = df.append(xsddfs[i])\n",
    "    pbar.update(1)\n",
    "pbar.close()"
   ]
  },
  {
   "cell_type": "code",
   "execution_count": 13,
   "metadata": {},
   "outputs": [],
   "source": [
    "df.to_csv(\"../generateddata/QASxsd.csv\")"
   ]
  },
  {
   "cell_type": "code",
   "execution_count": 12,
   "metadata": {
    "ExecuteTime": {
     "end_time": "2019-10-25T09:27:49.595569Z",
     "start_time": "2019-10-25T09:27:49.590809Z"
    }
   },
   "outputs": [
    {
     "name": "stdout",
     "output_type": "stream",
     "text": [
      "<class 'pandas.core.frame.DataFrame'>\n",
      "Int64Index: 25912636 entries, 0 to 75963\n",
      "Data columns (total 6 columns):\n",
      "file         object\n",
      "path         object\n",
      "name         object\n",
      "minOccurs    object\n",
      "maxOccurs    object\n",
      "type         object\n",
      "dtypes: object(6)\n",
      "memory usage: 1.4+ GB\n"
     ]
    }
   ],
   "source": [
    "df.info()"
   ]
  },
  {
   "cell_type": "code",
   "execution_count": 12,
   "metadata": {
    "ExecuteTime": {
     "end_time": "2019-10-25T09:42:28.016152Z",
     "start_time": "2019-10-25T09:42:28.012294Z"
    }
   },
   "outputs": [
    {
     "data": {
      "text/plain": [
       "274"
      ]
     },
     "execution_count": 12,
     "metadata": {},
     "output_type": "execute_result"
    }
   ],
   "source": [
    "len(wsdlfilelist)"
   ]
  },
  {
   "cell_type": "code",
   "execution_count": 79,
   "metadata": {},
   "outputs": [],
   "source": [
    "def parse_wsdl_XML(wsdl_file): \n",
    "#     print(xml_file)\n",
    "    xtree = et.parse(wsdl_file)\n",
    "    xroot = xtree.getroot()\n",
    "    return extractWSDLSequence(xroot, wsdl_file)\n",
    "    \n",
    "def extractWSDLElementInfos(xml, path, infodict,xml_file,complextypename):\n",
    "    for elem in list(xml):\n",
    "        firsttabs = \"\"\n",
    "        rootelem = \"\"\n",
    "        if \"}\" in elem.tag:\n",
    "            rootelem = elem.tag.split(\"}\", 1)[1]\n",
    "        else:\n",
    "            rootelem = elem.tag\n",
    "        minOccurs = elem.attrib.get(\"minOccurs\", None)\n",
    "        name = elem.attrib.get(\"name\", None)\n",
    "        maxOccurs = elem.attrib.get(\"maxOccurs\", None)\n",
    "        elemtype = elem.attrib.get(\"type\", None)\n",
    "        infodict['path'].append(path)\n",
    "        infodict['name'].append(name)\n",
    "        infodict['min'].append(minOccurs)\n",
    "        infodict['max'].append(maxOccurs)\n",
    "        infodict['type'].append(elemtype)\n",
    "        infodict['filename'].append(xml_file)\n",
    "        infodict['complextypename'].append(complextypename)\n",
    "        value = elem.attrib.get(\"value\",None)\n",
    "        infodict['enum'].append(value)\n",
    "        enumlength = elem.attrib.get(\"value\",None)\n",
    "        infodict['enumlength'].append(enumlength)\n",
    "        maxlength = elem.attrib.get(\"value\",None)\n",
    "        infodict['maxlength'].append(maxlength)\n",
    "        minlength = elem.attrib.get(\"value\",None)\n",
    "        infodict['minlength'].append(minlength)\n",
    "            \n",
    "\"\"\"\n",
    "            attribute\n",
    "            {'name': 'listAgencyID'}\n",
    "                simpleType\n",
    "                {}\n",
    "                    restriction\n",
    "                    {'base': 'xsd:token'}\n",
    "                        maxLength\n",
    "                        {'value': '60'}\n",
    "                        minLength\n",
    "                        {'value': '1'}\n",
    "\"\"\"\n",
    "            \n",
    "\n",
    "def extractWSDLSequence(xml, xml_file, path=\"\",infodict={'filename':[], 'path':[], 'name':[], 'type':[], 'min':[], 'max':[], 'enum':[], \\\n",
    "                                                                      'enumlength':[], 'maxlength':[], 'minlength':[], 'complextypename':[]},complextypename=None):\n",
    "    path = path\n",
    "    infodict = infodict\n",
    "    if len(list(xml)) > 0:\n",
    "        for elem in list(xml):\n",
    "            rootelem=\"\"\n",
    "            if \"}\" in elem.tag:\n",
    "                rootelem = elem.tag.split(\"}\", 1)[1]\n",
    "            else:\n",
    "                rootelem = elem.tag\n",
    "#             print(rootelem)\n",
    "            path += \"/\" + rootelem\n",
    "#             print(pretab+ str(attrib))\n",
    "\n",
    "            if rootelem == \"complexType\":\n",
    "                complextypename = elem.attrib.get('name',None)\n",
    "                if len(list(elem))> 0:\n",
    "                        extractWSDLSequence(elem, xml_file, path, infodict, complextypename)\n",
    "            elif rootelem == \"group\":\n",
    "                complextypename = elem.attrib.get('name',None)\n",
    "                if len(list(elem))> 0:\n",
    "                        extractWSDLSequence(elem, xml_file, path, infodict, complextypename)\n",
    "            elif rootelem == \"sequence\":\n",
    "                extractWSDLElementInfos(elem, path, infodict,xml_file,complextypename)\n",
    "                if len(list(elem))> 0:\n",
    "                    extractWSDLSequence(elem, xml_file, path, infodict, complextypename)\n",
    "            elif rootelem == \"attribute\":\n",
    "                complextypename = elem.attrib.get('name',None)\n",
    "                if len(list(elem))> 0:\n",
    "                    extractWSDLSequence(elem, xml_file, path, infodict, complextypename)\n",
    "            elif rootelem == \"simpleType\":\n",
    "                extractWSDLElementInfos(elem, path, infodict,xml_file,complextypename)\n",
    "                if len(list(elem))> 0:\n",
    "                    extractWSDLSequence(elem, xml_file, path, infodict, complextypename)\n",
    "            elif rootelem == \"restriction\":\n",
    "                extractWSDLElementInfos(elem, path, infodict,xml_file,complextypename)\n",
    "                if len(list(elem))> 0:\n",
    "                    extractWSDLSequence(elem, xml_file, path, infodict, complextypename)\n",
    "            else:\n",
    "                extractWSDLSequence(elem, xml_file, path, infodict, complextypename)\n",
    "\n",
    "#             extractWSDLSequence(elem,xml_file,path,pretab+\"\\t\",infodict)\n",
    "    return infodict"
   ]
  },
  {
   "cell_type": "code",
   "execution_count": 80,
   "metadata": {},
   "outputs": [],
   "source": [
    "columns = ['filename', 'path', 'name', 'type', 'min', 'max', 'enum', 'enumlength', 'maxlength', 'minlength', 'complextypename']"
   ]
  },
  {
   "cell_type": "code",
   "execution_count": 81,
   "metadata": {},
   "outputs": [
    {
     "data": {
      "application/vnd.jupyter.widget-view+json": {
       "model_id": "",
       "version_major": 2,
       "version_minor": 0
      },
      "text/plain": [
       "HBox(children=(IntProgress(value=0, max=274), HTML(value='')))"
      ]
     },
     "metadata": {},
     "output_type": "display_data"
    }
   ],
   "source": [
    "wsdldfs = []\n",
    "pbar = tqdm(total=len(wsdlfilelist), leave=False)\n",
    "pbar.set_description(desc='Processing wsdl', refresh=True)\n",
    "for i in wsdlfilelist:\n",
    "    dicts = parse_wsdl_XML(i)\n",
    "#     lpbar = tqdm(total=len(dicts), leave=False)\n",
    "#     lpbar.set_description(desc='Processing dicts', refresh=True)\n",
    "#     for j in dicts:\n",
    "    df = pd.DataFrame.from_dict(dicts)\n",
    "    pbar.update(1)\n",
    "    wsdldfs.append(df)\n",
    "#         lpbar.update(1)\n",
    "#     lpbar.close()\n",
    "pbar.close()"
   ]
  },
  {
   "cell_type": "code",
   "execution_count": null,
   "metadata": {},
   "outputs": [
    {
     "data": {
      "application/vnd.jupyter.widget-view+json": {
       "model_id": "c2dd98a66e7c455f8d2619052d3f1421",
       "version_major": 2,
       "version_minor": 0
      },
      "text/plain": [
       "HBox(children=(IntProgress(value=0, max=274), HTML(value='')))"
      ]
     },
     "metadata": {},
     "output_type": "display_data"
    }
   ],
   "source": [
    "df = wsdldfs[0]\n",
    "pbar = tqdm(total=len(wsdldfs), leave=False)\n",
    "pbar.set_description(desc='Processing wsdldfs', refresh=True)\n",
    "pbar.update(1)\n",
    "for i in range(1, len(wsdldfs)):\n",
    "    df = df.append(wsdldfs[i])\n",
    "    pbar.update(1)\n",
    "pbar.close()\n",
    "\n",
    "df.to_csv(\"../generateddata/wsdl.csv\")"
   ]
  },
  {
   "cell_type": "code",
   "execution_count": 3,
   "metadata": {},
   "outputs": [],
   "source": []
  },
  {
   "cell_type": "code",
   "execution_count": 2,
   "metadata": {},
   "outputs": [],
   "source": [
    "# wsdlfilelist[2]"
   ]
  },
  {
   "cell_type": "code",
   "execution_count": null,
   "metadata": {},
   "outputs": [],
   "source": []
  }
 ],
 "metadata": {
  "kernelspec": {
   "display_name": "Python 3",
   "language": "python",
   "name": "python3"
  },
  "language_info": {
   "codemirror_mode": {
    "name": "ipython",
    "version": 3
   },
   "file_extension": ".py",
   "mimetype": "text/x-python",
   "name": "python",
   "nbconvert_exporter": "python",
   "pygments_lexer": "ipython3",
   "version": "3.7.3-final"
  },
  "toc": {
   "base_numbering": 1,
   "nav_menu": {},
   "number_sections": true,
   "sideBar": true,
   "skip_h1_title": false,
   "title_cell": "Table of Contents",
   "title_sidebar": "Contents",
   "toc_cell": false,
   "toc_position": {},
   "toc_section_display": true,
   "toc_window_display": false
  },
  "varInspector": {
   "cols": {
    "lenName": 16,
    "lenType": 16,
    "lenVar": 40
   },
   "kernels_config": {
    "python": {
     "delete_cmd_postfix": "",
     "delete_cmd_prefix": "del ",
     "library": "var_list.py",
     "varRefreshCmd": "print(var_dic_list())"
    },
    "r": {
     "delete_cmd_postfix": ") ",
     "delete_cmd_prefix": "rm(",
     "library": "var_list.r",
     "varRefreshCmd": "cat(var_dic_list()) "
    }
   },
   "types_to_exclude": [
    "module",
    "function",
    "builtin_function_or_method",
    "instance",
    "_Feature"
   ],
   "window_display": false
  }
 },
 "nbformat": 4,
 "nbformat_minor": 4
}