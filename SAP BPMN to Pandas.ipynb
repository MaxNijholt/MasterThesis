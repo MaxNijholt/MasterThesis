{
 "cells": [
  {
   "cell_type": "code",
   "execution_count": 1,
   "metadata": {
    "ExecuteTime": {
     "end_time": "2019-10-18T06:23:32.114343Z",
     "start_time": "2019-10-18T06:23:32.110388Z"
    }
   },
   "outputs": [
    {
     "name": "stderr",
     "output_type": "stream",
     "text": [
      "/Users/max/anaconda3/lib/python3.7/site-packages/tqdm/autonotebook.py:17: TqdmExperimentalWarning: Using `tqdm.autonotebook.tqdm` in notebook mode. Use `tqdm.tqdm` instead to force console mode (e.g. in jupyter console)\n",
      "  \" (e.g. in jupyter console)\", TqdmExperimentalWarning)\n"
     ]
    }
   ],
   "source": [
    "import pandas as pd \n",
    "import xml.etree.ElementTree as et \n",
    "import os\n",
    "import regex as re\n",
    "import json\n",
    "import os\n",
    "from tqdm.autonotebook import tqdm"
   ]
  },
  {
   "cell_type": "code",
   "execution_count": 43,
   "metadata": {
    "ExecuteTime": {
     "end_time": "2019-09-30T14:57:24.577396Z",
     "start_time": "2019-09-30T14:57:24.554271Z"
    }
   },
   "outputs": [
    {
     "name": "stdout",
     "output_type": "stream",
     "text": [
      "19\n"
     ]
    },
    {
     "data": {
      "text/html": [
       "<div>\n",
       "<style scoped>\n",
       "    .dataframe tbody tr th:only-of-type {\n",
       "        vertical-align: middle;\n",
       "    }\n",
       "\n",
       "    .dataframe tbody tr th {\n",
       "        vertical-align: top;\n",
       "    }\n",
       "\n",
       "    .dataframe thead th {\n",
       "        text-align: right;\n",
       "    }\n",
       "</style>\n",
       "<table border=\"1\" class=\"dataframe\">\n",
       "  <thead>\n",
       "    <tr style=\"text-align: right;\">\n",
       "      <th></th>\n",
       "      <th>filename</th>\n",
       "      <th>rootelem</th>\n",
       "      <th>rootid</th>\n",
       "      <th>rootname</th>\n",
       "      <th>path</th>\n",
       "      <th>key</th>\n",
       "      <th>value</th>\n",
       "      <th>name</th>\n",
       "      <th>id</th>\n",
       "      <th>type</th>\n",
       "      <th>sourceref</th>\n",
       "      <th>targetref</th>\n",
       "      <th>processref</th>\n",
       "      <th>bpmnelement</th>\n",
       "      <th>x</th>\n",
       "      <th>y</th>\n",
       "      <th>width</th>\n",
       "      <th>height</th>\n",
       "      <th>bpmntype</th>\n",
       "    </tr>\n",
       "  </thead>\n",
       "  <tbody>\n",
       "  </tbody>\n",
       "</table>\n",
       "</div>"
      ],
      "text/plain": [
       "Empty DataFrame\n",
       "Columns: [filename, rootelem, rootid, rootname, path, key, value, name, id, type, sourceref, targetref, processref, bpmnelement, x, y, width, height, bpmntype]\n",
       "Index: []"
      ]
     },
     "execution_count": 43,
     "metadata": {},
     "output_type": "execute_result"
    }
   ],
   "source": [
    "columns = ['filename', 'rootelem', 'rootid', 'rootname', 'path', 'key', 'value', 'name', 'id', 'type', \\\n",
    "           'sourceref', 'targetref', 'processref', 'bpmnelement', 'x', 'y', 'width', 'height', 'bpmntype']\n",
    "print(len(columns))\n",
    "df = pd.DataFrame(columns=columns)\n",
    "df.head()"
   ]
  },
  {
   "cell_type": "code",
   "execution_count": 44,
   "metadata": {
    "ExecuteTime": {
     "end_time": "2019-09-30T14:57:25.475452Z",
     "start_time": "2019-09-30T14:57:25.418145Z"
    },
    "code_folding": [
     74,
     81,
     88,
     95,
     102,
     158,
     165,
     172,
     179,
     191,
     202,
     248
    ]
   },
   "outputs": [],
   "source": [
    "def parse_bpmn_XML(xml_file): \n",
    "    xtree = et.parse(xml_file)\n",
    "    xroot = xtree.getroot()\n",
    "    return iterxml(xroot, xml_file)\n",
    "    \n",
    "    \n",
    "def iterxml(xml, filename):\n",
    "    df = pd.DataFrame(columns=columns)\n",
    "    countproperty = 0\n",
    "    for elem in list(xml):\n",
    "        path = \"\"\n",
    "        firsttabs = \"\"\n",
    "        rootelem = \"\"\n",
    "        if \"}\" in elem.tag:\n",
    "            rootelem = elem.tag.split(\"}\", 1)[1]\n",
    "        else:\n",
    "            rootelem = elem.tag\n",
    "            \n",
    "#         print(firsttabs + rootelem)\n",
    "#         print(firsttabs + \"  \" + str(elem.attrib))\n",
    "        rootid = elem.attrib.get(\"id\")\n",
    "        rootname = elem.attrib.get(\"name\")\n",
    "        path += \"/\"+rootelem\n",
    "        rootpath1 = path\n",
    "        for items in elem:\n",
    "            path = rootpath1\n",
    "            firsttabs = \"\\t\"\n",
    "            tagname = \"\"\n",
    "            if \"}\" in items.tag:\n",
    "                tagname = items.tag.split(\"}\", 1)[1]\n",
    "            else:\n",
    "                tagname = items.tag\n",
    "                \n",
    "            path += \"/\"+tagname\n",
    "#             print(firsttabs + tagname)\n",
    "#             print(firsttabs + \"1  \" + str(items.attrib))\n",
    "            elemid = items.attrib.get(\"id\", None)\n",
    "            elemname = items.attrib.get(\"name\", None)\n",
    "            elemtype = items.attrib.get(\"{http:///com.sap.ifl.model/Ifl.xsd}type\", None)\n",
    "            elemsource = items.attrib.get(\"sourceRef\", None)\n",
    "            elemtarget = items.attrib.get(\"targetRef\", None)\n",
    "            elemprocess = items.attrib.get(\"processRef\", None)\n",
    "            elembpmnelement = items.attrib.get(\"bpmnElement\", None)\n",
    "            if len(list(items)) == 0:\n",
    "                df = df.append({'filename':filename, 'rootelem':rootelem, 'rootid':rootid, \\\n",
    "                       'rootname':rootname, 'path':path, 'key':None, 'value':None, \\\n",
    "                       'name':elemname, 'id':elemid, 'type':elemtype, 'sourceref':elemsource,\\\n",
    "                       'targetref':elemtarget, 'processref':elemprocess, 'bpmnelement':elembpmnelement,\\\n",
    "                       'x':None, 'y':None, 'width':None, 'height':None, 'bpmntype':None},\\\n",
    "                          ignore_index=True)\n",
    "            elif tagname == \"extensionElements\":\n",
    "                rootpath2 = path\n",
    "                for prop in items:\n",
    "#                     path = rootpath1\n",
    "                    key = None\n",
    "                    val = None\n",
    "                    tagname = \"\"\n",
    "                    if \"}\" in prop.tag:\n",
    "                        tagname = prop.tag.split(\"}\", 1)[1]\n",
    "                    else:\n",
    "                        tagname = prop.tag\n",
    "#                     path = rootpath2+\"/\"+tagname\n",
    "                    for keyval in prop:\n",
    "                        tagname = \"\"\n",
    "                        if \"}\" in keyval.tag:\n",
    "                            tagname = keyval.tag.split(\"}\", 1)[1]\n",
    "                        else:\n",
    "                            tagname = keyval.tag\n",
    "#                         print(tagname)\n",
    "#                         print(keyval.text)\n",
    "                        if tagname == \"key\":\n",
    "                            key = keyval.text\n",
    "                        elif tagname == \"value\":\n",
    "                            val = keyval.text   \n",
    "                    df = df.append({'filename':filename, 'rootelem':rootelem, 'rootid':rootid, \\\n",
    "                               'rootname':rootname, 'path':path, 'key':key, 'value':val, \\\n",
    "                               'name':elemname, 'id':elemid, 'type':elemtype, 'sourceref':elemsource,\\\n",
    "                               'targetref':elemtarget, 'processref':elemprocess, 'bpmnelement':elembpmnelement,\\\n",
    "                               'x':None, 'y':None, 'width':None, 'height':None, 'bpmntype':None},\\\n",
    "                                      ignore_index=True)\n",
    "            elif tagname == \"conditionExpression\":\n",
    "                df = df.append({'filename':filename, 'rootelem':rootelem, 'rootid':rootid, \\\n",
    "                               'rootname':rootname, 'path':path, 'key':tagname, 'value':items.text, \\\n",
    "                               'name':elemname, 'id':elemid, 'type':elemtype, 'sourceref':elemsource,\\\n",
    "                               'targetref':elemtarget, 'processref':elemprocess, 'bpmnelement':elembpmnelement,\\\n",
    "                               'x':None, 'y':None, 'width':None, 'height':None, 'bpmntype':None},\\\n",
    "                                ignore_index=True)\n",
    "            elif tagname == \"outgoing\": \n",
    "                df = df.append({'filename':filename, 'rootelem':rootelem, 'rootid':rootid, \\\n",
    "                               'rootname':rootname, 'path':path, 'key':tagname, 'value':items.text, \\\n",
    "                               'name':elemname, 'id':elemid, 'type':elemtype, 'sourceref':elemsource,\\\n",
    "                               'targetref':elemtarget, 'processref':elemprocess, 'bpmnelement':elembpmnelement,\\\n",
    "                               'x':None, 'y':None, 'width':None, 'height':None, 'bpmntype':None},\\\n",
    "                                ignore_index=True)\n",
    "            elif tagname == \"incoming\": \n",
    "                df = df.append({'filename':filename, 'rootelem':rootelem, 'rootid':rootid, \\\n",
    "                               'rootname':rootname, 'path':path, 'key':tagname, 'value':items.text, \\\n",
    "                               'name':elemname, 'id':elemid, 'type':elemtype, 'sourceref':elemsource,\\\n",
    "                               'targetref':elemtarget, 'processref':elemprocess, 'bpmnelement':None,\\\n",
    "                               'x':None, 'y':None, 'width':None, 'height':None, 'bpmntype':None},\\\n",
    "                                ignore_index=True)\n",
    "            else:\n",
    "                df = df.append({'filename':filename, 'rootelem':rootelem, 'rootid':rootid, \\\n",
    "                       'rootname':rootname, 'path':path, 'key':None, 'value':None, \\\n",
    "                       'name':elemname, 'id':elemid, 'type':elemtype, 'sourceref':elemsource,\\\n",
    "                       'targetref':elemtarget, 'processref':elemprocess, 'bpmnelement':elembpmnelement,\\\n",
    "                       'x':None, 'y':None, 'width':None, 'height':None, 'bpmntype':None},\\\n",
    "                          ignore_index=True)\n",
    "                firsttabs += \"\\t\"\n",
    "                rootpath2 = rootpath1 + \"/\" + tagname\n",
    "                for case in items:\n",
    "                    path = rootpath2\n",
    "                    firsttabs = \"\\t\\t\"\n",
    "                    tagname = \"\"\n",
    "                    if \"}\" in case.tag:\n",
    "                        tagname = case.tag.split(\"}\", 1)[1]\n",
    "                    else:\n",
    "                        tagname = case.tag\n",
    "#                     print(case.attrib)\n",
    "                    path = rootpath2+\"/\"+tagname\n",
    "                    elemid = case.attrib.get(\"id\", None)\n",
    "                    elemname = case.attrib.get(\"name\", None)\n",
    "                    elemtype = case.attrib.get(\"{http:///com.sap.ifl.model/Ifl.xsd}type\", None)\n",
    "                    elemsource = case.attrib.get(\"sourceRef\", None)\n",
    "                    elemtarget = case.attrib.get(\"targetRef\", None)\n",
    "                    elemprocess = case.attrib.get(\"processRef\", None)\n",
    "                    elembpmnelement = case.attrib.get(\"bpmnElement\", None)\n",
    "                    firsttabs += \"\\t\"\n",
    "                    if tagname == \"property\":\n",
    "                        countproperty+=1\n",
    "                    if len(list(case)) == 0:\n",
    "                        df = df.append({'filename':filename, 'rootelem':rootelem, 'rootid':rootid, \\\n",
    "                               'rootname':rootname, 'path':path, 'key':None, 'value':None, \\\n",
    "                               'name':elemname, 'id':elemid, 'type':elemtype, 'sourceref':elemsource,\\\n",
    "                               'targetref':elemtarget, 'processref':elemprocess, 'bpmnelement':elembpmnelement,\\\n",
    "                               'x':None, 'y':None, 'width':None, 'height':None, 'bpmntype':None},\\\n",
    "                                  ignore_index=True)\n",
    "                    elif tagname == \"extensionElements\":\n",
    "                        for prop in case:\n",
    "                            tagname = \"\"\n",
    "                            if \"}\" in prop.tag:\n",
    "                                tagname = prop.tag.split(\"}\", 1)[1]\n",
    "                            else:\n",
    "                                tagname = prop.tag\n",
    "\n",
    "#                             path += \"/\"+tagname\n",
    "                            key = None\n",
    "                            val = None\n",
    "                            for keyval in prop:\n",
    "                                tagname = \"\"\n",
    "                                if \"}\" in keyval.tag:\n",
    "                                    tagname = keyval.tag.split(\"}\", 1)[1]\n",
    "                                else:\n",
    "                                    tagname = keyval.tag\n",
    "                                if tagname == \"key\":\n",
    "                                    key = keyval.text\n",
    "                                elif tagname == \"value\":\n",
    "                                    val = keyval.text  \n",
    "                            df = df.append({'filename':filename, 'rootelem':rootelem, 'rootid':rootid, \\\n",
    "                                   'rootname':rootname, 'path':path, 'key':key, 'value':val, \\\n",
    "                                   'name':elemname, 'id':elemid, 'type':elemtype, 'sourceref':elemsource,\\\n",
    "                                   'targetref':elemtarget, 'processref':elemprocess, 'bpmnelement':elembpmnelement,\\\n",
    "                                   'x':None, 'y':None, 'width':None, 'height':None, 'bpmntype':None},\\\n",
    "                                      ignore_index=True)\n",
    "                    elif tagname == \"conditionExpression\": \n",
    "                        df = df.append({'filename':filename, 'rootelem':rootelem, 'rootid':rootid, \\\n",
    "                                       'rootname':rootname, 'path':path, 'key':tagname, 'value':case.text, \\\n",
    "                                       'name':elemname, 'id':elemid, 'type':elemtype, 'sourceref':elemsource,\\\n",
    "                                       'targetref':elemtarget, 'processref':elemprocess, 'bpmnelement':elembpmnelement,\\\n",
    "                                       'x':None, 'y':None, 'width':None, 'height':None, 'bpmntype':None},\\\n",
    "                                              ignore_index=True)\n",
    "                    elif tagname == \"outgoing\": \n",
    "                        df = df.append({'filename':filename, 'rootelem':rootelem, 'rootid':rootid, \\\n",
    "                                       'rootname':rootname, 'path':path, 'key':tagname, 'value':case.text, \\\n",
    "                                       'name':elemname, 'id':elemid, 'type':elemtype, 'sourceref':elemsource,\\\n",
    "                                       'targetref':elemtarget, 'processref':elemprocess, 'bpmnelement':elembpmnelement,\\\n",
    "                                       'x':None, 'y':None, 'width':None, 'height':None, 'bpmntype':None},\\\n",
    "                                              ignore_index=True)\n",
    "                    elif tagname == \"incoming\": \n",
    "                        df = df.append({'filename':filename, 'rootelem':rootelem, 'rootid':rootid, \\\n",
    "                                       'rootname':rootname, 'path':path, 'key':tagname, 'value':case.text, \\\n",
    "                                       'name':elemname, 'id':elemid, 'type':elemtype, 'sourceref':elemsource,\\\n",
    "                                       'targetref':elemtarget, 'processref':elemprocess, 'bpmnelement':elembpmnelement,\\\n",
    "                                       'x':None, 'y':None, 'width':None, 'height':None, 'bpmntype':None},\\\n",
    "                                              ignore_index=True)\n",
    "                    elif tagname == \"BPMNShape\":\n",
    "                        for local in case:\n",
    "                            height = local.attrib.get(\"height\", None)\n",
    "                            width = local.attrib.get(\"width\", None)\n",
    "                            x = local.attrib.get(\"x\", None)\n",
    "                            y = local.attrib.get(\"y\", None)\n",
    "                            df = df.append({'filename':filename, 'rootelem':rootelem, 'rootid':rootid, \\\n",
    "                                   'rootname':rootname, 'path':path, 'key':None, 'value':None, \\\n",
    "                                   'name':elemname, 'id':elemid, 'type':elemtype, 'sourceref':elemsource,\\\n",
    "                                   'targetref':elemtarget, 'processref':elemprocess, 'bpmnelement':elembpmnelement,\\\n",
    "                                   'x':x, 'y':y, 'width':width, 'height':height, 'bpmntype':None},\\\n",
    "                                      ignore_index=True)\n",
    "                    elif tagname == \"BPMNEdge\":\n",
    "                        for local in case:\n",
    "                            localtype = local.attrib.get(\"{http://www.w3.org/2001/XMLSchema-instance}type\", None)\n",
    "                            x = local.attrib.get(\"x\", None)\n",
    "                            y = local.attrib.get(\"y\", None)\n",
    "                            df = df.append({'filename':filename, 'rootelem':rootelem, 'rootid':rootid, \\\n",
    "                                   'rootname':rootname, 'path':path, 'key':None, 'value':None, \\\n",
    "                                   'name':elemname, 'id':elemid, 'type':elemtype, 'sourceref':elemsource,\\\n",
    "                                   'targetref':elemtarget, 'processref':elemprocess, 'bpmnelement':elembpmnelement,\\\n",
    "                                   'x':x, 'y':y, 'width':None, 'height':None, 'bpmntype':localtype},\\\n",
    "                                      ignore_index=True)\n",
    "                            \n",
    "                    else:\n",
    "                        rootpath3 = path\n",
    "                        for prop in case:\n",
    "                            path = rootpath3\n",
    "                            tagname = \"\"\n",
    "                            if \"}\" in prop.tag:\n",
    "                                tagname = prop.tag.split(\"}\", 1)[1]\n",
    "                            else:\n",
    "                                tagname = prop.tag\n",
    "                            \n",
    "                            path += \"/\"+tagname\n",
    "                            if tagname == \"property\":\n",
    "                                countproperty+=1\n",
    "                            localelemid = prop.attrib.get(\"id\", None)\n",
    "                            localelemname = prop.attrib.get(\"name\", None)\n",
    "                            localelemtype = prop.attrib.get(\"{http:///com.sap.ifl.model/Ifl.xsd}type\", None)\n",
    "                            localelemsource = prop.attrib.get(\"sourceRef\", None)\n",
    "                            localelemtarget = prop.attrib.get(\"targetRef\", None)\n",
    "                            localelemprocess = prop.attrib.get(\"processRef\", None)\n",
    "                            localelembpmnelement = prop.attrib.get(\"bpmnElement\", None)\n",
    "                            if tagname == \"extensionElements\":\n",
    "                                for local in prop:\n",
    "                                    tagname = \"\"\n",
    "                                    if \"}\" in local.tag:\n",
    "                                        tagname = local.tag.split(\"}\", 1)[1]\n",
    "                                    else:\n",
    "                                        tagname = local.tag\n",
    "                                    key = None\n",
    "                                    val = None\n",
    "                                    for keyval in local:\n",
    "                                        tagname = \"\"\n",
    "                                        if \"}\" in keyval.tag:\n",
    "                                            tagname = keyval.tag.split(\"}\", 1)[1]\n",
    "                                        else:\n",
    "                                            tagname = keyval.tag\n",
    "                                        if tagname == \"key\":\n",
    "                                            key = keyval.text\n",
    "                                        elif tagname == \"value\":\n",
    "                                            val = keyval.text  \n",
    "                                    df = df.append({'filename':filename, 'rootelem':rootelem, 'rootid':rootid, \\\n",
    "                                           'rootname':rootname, 'path':path, 'key':key, 'value':val, \\\n",
    "                                           'name':localelemname, 'id':localelemid, 'type':localelemtype, 'sourceref':localelemsource,\\\n",
    "                                           'targetref':localelemtarget, 'processref':localelemprocess, 'bpmnelement':localelembpmnelement,\\\n",
    "                                           'x':None, 'y':None, 'width':None, 'height':None, 'bpmntype':None},\\\n",
    "                                              ignore_index=True)\n",
    "                            \n",
    "\n",
    "    return df"
   ]
  },
  {
   "cell_type": "code",
   "execution_count": 204,
   "metadata": {
    "ExecuteTime": {
     "end_time": "2019-09-30T10:58:50.639957Z",
     "start_time": "2019-09-30T10:58:41.484853Z"
    },
    "scrolled": true
   },
   "outputs": [],
   "source": [
    "file = \"BYD0550_CustomerInvoice_ByD_to_BDS.iflw\"\n",
    "df = parse_bpmn_XML(file)"
   ]
  },
  {
   "cell_type": "code",
   "execution_count": 53,
   "metadata": {
    "ExecuteTime": {
     "end_time": "2019-10-03T06:30:13.010517Z",
     "start_time": "2019-10-03T06:30:12.828003Z"
    }
   },
   "outputs": [
    {
     "name": "stdout",
     "output_type": "stream",
     "text": [
      "<class 'pandas.core.frame.DataFrame'>\n",
      "Int64Index: 37601 entries, 0 to 97\n",
      "Data columns (total 19 columns):\n",
      "filename       37601 non-null object\n",
      "rootelem       37601 non-null object\n",
      "rootid         37442 non-null object\n",
      "rootname       35676 non-null object\n",
      "path           37601 non-null object\n",
      "key            21159 non-null object\n",
      "value          18073 non-null object\n",
      "name           2933 non-null object\n",
      "id             12921 non-null object\n",
      "type           612 non-null object\n",
      "sourceref      1924 non-null object\n",
      "targetref      1924 non-null object\n",
      "processref     253 non-null object\n",
      "bpmnelement    8366 non-null object\n",
      "x              6951 non-null object\n",
      "y              6951 non-null object\n",
      "width          2424 non-null object\n",
      "height         2424 non-null object\n",
      "bpmntype       4527 non-null object\n",
      "dtypes: object(19)\n",
      "memory usage: 5.7+ MB\n"
     ]
    }
   ],
   "source": [
    "df.info(20)"
   ]
  },
  {
   "cell_type": "code",
   "execution_count": 52,
   "metadata": {
    "ExecuteTime": {
     "end_time": "2019-10-03T06:29:44.974063Z",
     "start_time": "2019-10-03T06:29:44.916331Z"
    }
   },
   "outputs": [
    {
     "data": {
      "text/html": [
       "<div>\n",
       "<style scoped>\n",
       "    .dataframe tbody tr th:only-of-type {\n",
       "        vertical-align: middle;\n",
       "    }\n",
       "\n",
       "    .dataframe tbody tr th {\n",
       "        vertical-align: top;\n",
       "    }\n",
       "\n",
       "    .dataframe thead th {\n",
       "        text-align: right;\n",
       "    }\n",
       "</style>\n",
       "<table border=\"1\" class=\"dataframe\">\n",
       "  <thead>\n",
       "    <tr style=\"text-align: right;\">\n",
       "      <th></th>\n",
       "      <th>filename</th>\n",
       "      <th>rootelem</th>\n",
       "      <th>rootid</th>\n",
       "      <th>rootname</th>\n",
       "      <th>path</th>\n",
       "      <th>key</th>\n",
       "      <th>value</th>\n",
       "      <th>name</th>\n",
       "      <th>id</th>\n",
       "      <th>type</th>\n",
       "      <th>sourceref</th>\n",
       "      <th>targetref</th>\n",
       "      <th>processref</th>\n",
       "      <th>bpmnelement</th>\n",
       "      <th>x</th>\n",
       "      <th>y</th>\n",
       "      <th>width</th>\n",
       "      <th>height</th>\n",
       "      <th>bpmntype</th>\n",
       "    </tr>\n",
       "  </thead>\n",
       "  <tbody>\n",
       "    <tr>\n",
       "      <td>0</td>\n",
       "      <td>./CPI Basis Oefening 14.iflw</td>\n",
       "      <td>collaboration</td>\n",
       "      <td>Collaboration_1</td>\n",
       "      <td>Default Collaboration</td>\n",
       "      <td>/collaboration/extensionElements</td>\n",
       "      <td>namespaceMapping</td>\n",
       "      <td>None</td>\n",
       "      <td>None</td>\n",
       "      <td>None</td>\n",
       "      <td>None</td>\n",
       "      <td>None</td>\n",
       "      <td>None</td>\n",
       "      <td>None</td>\n",
       "      <td>None</td>\n",
       "      <td>None</td>\n",
       "      <td>None</td>\n",
       "      <td>None</td>\n",
       "      <td>None</td>\n",
       "      <td>None</td>\n",
       "    </tr>\n",
       "    <tr>\n",
       "      <td>1</td>\n",
       "      <td>./CPI Basis Oefening 14.iflw</td>\n",
       "      <td>collaboration</td>\n",
       "      <td>Collaboration_1</td>\n",
       "      <td>Default Collaboration</td>\n",
       "      <td>/collaboration/extensionElements</td>\n",
       "      <td>allowedHeaderList</td>\n",
       "      <td>None</td>\n",
       "      <td>None</td>\n",
       "      <td>None</td>\n",
       "      <td>None</td>\n",
       "      <td>None</td>\n",
       "      <td>None</td>\n",
       "      <td>None</td>\n",
       "      <td>None</td>\n",
       "      <td>None</td>\n",
       "      <td>None</td>\n",
       "      <td>None</td>\n",
       "      <td>None</td>\n",
       "      <td>None</td>\n",
       "    </tr>\n",
       "    <tr>\n",
       "      <td>2</td>\n",
       "      <td>./CPI Basis Oefening 14.iflw</td>\n",
       "      <td>collaboration</td>\n",
       "      <td>Collaboration_1</td>\n",
       "      <td>Default Collaboration</td>\n",
       "      <td>/collaboration/extensionElements</td>\n",
       "      <td>httpSessionHandling</td>\n",
       "      <td>None</td>\n",
       "      <td>None</td>\n",
       "      <td>None</td>\n",
       "      <td>None</td>\n",
       "      <td>None</td>\n",
       "      <td>None</td>\n",
       "      <td>None</td>\n",
       "      <td>None</td>\n",
       "      <td>None</td>\n",
       "      <td>None</td>\n",
       "      <td>None</td>\n",
       "      <td>None</td>\n",
       "      <td>None</td>\n",
       "    </tr>\n",
       "    <tr>\n",
       "      <td>3</td>\n",
       "      <td>./CPI Basis Oefening 14.iflw</td>\n",
       "      <td>collaboration</td>\n",
       "      <td>Collaboration_1</td>\n",
       "      <td>Default Collaboration</td>\n",
       "      <td>/collaboration/extensionElements</td>\n",
       "      <td>ServerTrace</td>\n",
       "      <td>false</td>\n",
       "      <td>None</td>\n",
       "      <td>None</td>\n",
       "      <td>None</td>\n",
       "      <td>None</td>\n",
       "      <td>None</td>\n",
       "      <td>None</td>\n",
       "      <td>None</td>\n",
       "      <td>None</td>\n",
       "      <td>None</td>\n",
       "      <td>None</td>\n",
       "      <td>None</td>\n",
       "      <td>None</td>\n",
       "    </tr>\n",
       "    <tr>\n",
       "      <td>4</td>\n",
       "      <td>./CPI Basis Oefening 14.iflw</td>\n",
       "      <td>collaboration</td>\n",
       "      <td>Collaboration_1</td>\n",
       "      <td>Default Collaboration</td>\n",
       "      <td>/collaboration/extensionElements</td>\n",
       "      <td>returnExceptionToSender</td>\n",
       "      <td>false</td>\n",
       "      <td>None</td>\n",
       "      <td>None</td>\n",
       "      <td>None</td>\n",
       "      <td>None</td>\n",
       "      <td>None</td>\n",
       "      <td>None</td>\n",
       "      <td>None</td>\n",
       "      <td>None</td>\n",
       "      <td>None</td>\n",
       "      <td>None</td>\n",
       "      <td>None</td>\n",
       "      <td>None</td>\n",
       "    </tr>\n",
       "    <tr>\n",
       "      <td>5</td>\n",
       "      <td>./CPI Basis Oefening 14.iflw</td>\n",
       "      <td>collaboration</td>\n",
       "      <td>Collaboration_1</td>\n",
       "      <td>Default Collaboration</td>\n",
       "      <td>/collaboration/extensionElements</td>\n",
       "      <td>log</td>\n",
       "      <td>All events</td>\n",
       "      <td>None</td>\n",
       "      <td>None</td>\n",
       "      <td>None</td>\n",
       "      <td>None</td>\n",
       "      <td>None</td>\n",
       "      <td>None</td>\n",
       "      <td>None</td>\n",
       "      <td>None</td>\n",
       "      <td>None</td>\n",
       "      <td>None</td>\n",
       "      <td>None</td>\n",
       "      <td>None</td>\n",
       "    </tr>\n",
       "    <tr>\n",
       "      <td>6</td>\n",
       "      <td>./CPI Basis Oefening 14.iflw</td>\n",
       "      <td>collaboration</td>\n",
       "      <td>Collaboration_1</td>\n",
       "      <td>Default Collaboration</td>\n",
       "      <td>/collaboration/extensionElements</td>\n",
       "      <td>componentVersion</td>\n",
       "      <td>1.1</td>\n",
       "      <td>None</td>\n",
       "      <td>None</td>\n",
       "      <td>None</td>\n",
       "      <td>None</td>\n",
       "      <td>None</td>\n",
       "      <td>None</td>\n",
       "      <td>None</td>\n",
       "      <td>None</td>\n",
       "      <td>None</td>\n",
       "      <td>None</td>\n",
       "      <td>None</td>\n",
       "      <td>None</td>\n",
       "    </tr>\n",
       "    <tr>\n",
       "      <td>7</td>\n",
       "      <td>./CPI Basis Oefening 14.iflw</td>\n",
       "      <td>collaboration</td>\n",
       "      <td>Collaboration_1</td>\n",
       "      <td>Default Collaboration</td>\n",
       "      <td>/collaboration/extensionElements</td>\n",
       "      <td>cmdVariantUri</td>\n",
       "      <td>ctype::IFlowVariant/cname::IFlowConfiguration/...</td>\n",
       "      <td>None</td>\n",
       "      <td>None</td>\n",
       "      <td>None</td>\n",
       "      <td>None</td>\n",
       "      <td>None</td>\n",
       "      <td>None</td>\n",
       "      <td>None</td>\n",
       "      <td>None</td>\n",
       "      <td>None</td>\n",
       "      <td>None</td>\n",
       "      <td>None</td>\n",
       "      <td>None</td>\n",
       "    </tr>\n",
       "    <tr>\n",
       "      <td>8</td>\n",
       "      <td>./CPI Basis Oefening 14.iflw</td>\n",
       "      <td>collaboration</td>\n",
       "      <td>Collaboration_1</td>\n",
       "      <td>Default Collaboration</td>\n",
       "      <td>/collaboration/participant</td>\n",
       "      <td>None</td>\n",
       "      <td>None</td>\n",
       "      <td>Sender</td>\n",
       "      <td>Participant_1</td>\n",
       "      <td>EndpointSender</td>\n",
       "      <td>None</td>\n",
       "      <td>None</td>\n",
       "      <td>None</td>\n",
       "      <td>None</td>\n",
       "      <td>None</td>\n",
       "      <td>None</td>\n",
       "      <td>None</td>\n",
       "      <td>None</td>\n",
       "      <td>None</td>\n",
       "    </tr>\n",
       "    <tr>\n",
       "      <td>9</td>\n",
       "      <td>./CPI Basis Oefening 14.iflw</td>\n",
       "      <td>collaboration</td>\n",
       "      <td>Collaboration_1</td>\n",
       "      <td>Default Collaboration</td>\n",
       "      <td>/collaboration/participant/extensionElements</td>\n",
       "      <td>enableBasicAuthentication</td>\n",
       "      <td>false</td>\n",
       "      <td>None</td>\n",
       "      <td>None</td>\n",
       "      <td>None</td>\n",
       "      <td>None</td>\n",
       "      <td>None</td>\n",
       "      <td>None</td>\n",
       "      <td>None</td>\n",
       "      <td>None</td>\n",
       "      <td>None</td>\n",
       "      <td>None</td>\n",
       "      <td>None</td>\n",
       "      <td>None</td>\n",
       "    </tr>\n",
       "    <tr>\n",
       "      <td>10</td>\n",
       "      <td>./CPI Basis Oefening 14.iflw</td>\n",
       "      <td>collaboration</td>\n",
       "      <td>Collaboration_1</td>\n",
       "      <td>Default Collaboration</td>\n",
       "      <td>/collaboration/participant/extensionElements</td>\n",
       "      <td>ifl:type</td>\n",
       "      <td>EndpointSender</td>\n",
       "      <td>None</td>\n",
       "      <td>None</td>\n",
       "      <td>None</td>\n",
       "      <td>None</td>\n",
       "      <td>None</td>\n",
       "      <td>None</td>\n",
       "      <td>None</td>\n",
       "      <td>None</td>\n",
       "      <td>None</td>\n",
       "      <td>None</td>\n",
       "      <td>None</td>\n",
       "      <td>None</td>\n",
       "    </tr>\n",
       "    <tr>\n",
       "      <td>11</td>\n",
       "      <td>./CPI Basis Oefening 14.iflw</td>\n",
       "      <td>collaboration</td>\n",
       "      <td>Collaboration_1</td>\n",
       "      <td>Default Collaboration</td>\n",
       "      <td>/collaboration/participant</td>\n",
       "      <td>None</td>\n",
       "      <td>None</td>\n",
       "      <td>Receiver</td>\n",
       "      <td>Participant_2</td>\n",
       "      <td>EndpointRecevier</td>\n",
       "      <td>None</td>\n",
       "      <td>None</td>\n",
       "      <td>None</td>\n",
       "      <td>None</td>\n",
       "      <td>None</td>\n",
       "      <td>None</td>\n",
       "      <td>None</td>\n",
       "      <td>None</td>\n",
       "      <td>None</td>\n",
       "    </tr>\n",
       "    <tr>\n",
       "      <td>12</td>\n",
       "      <td>./CPI Basis Oefening 14.iflw</td>\n",
       "      <td>collaboration</td>\n",
       "      <td>Collaboration_1</td>\n",
       "      <td>Default Collaboration</td>\n",
       "      <td>/collaboration/participant/extensionElements</td>\n",
       "      <td>ifl:type</td>\n",
       "      <td>EndpointRecevier</td>\n",
       "      <td>None</td>\n",
       "      <td>None</td>\n",
       "      <td>None</td>\n",
       "      <td>None</td>\n",
       "      <td>None</td>\n",
       "      <td>None</td>\n",
       "      <td>None</td>\n",
       "      <td>None</td>\n",
       "      <td>None</td>\n",
       "      <td>None</td>\n",
       "      <td>None</td>\n",
       "      <td>None</td>\n",
       "    </tr>\n",
       "    <tr>\n",
       "      <td>13</td>\n",
       "      <td>./CPI Basis Oefening 14.iflw</td>\n",
       "      <td>collaboration</td>\n",
       "      <td>Collaboration_1</td>\n",
       "      <td>Default Collaboration</td>\n",
       "      <td>/collaboration/participant</td>\n",
       "      <td>None</td>\n",
       "      <td>None</td>\n",
       "      <td>Integration Process</td>\n",
       "      <td>Participant_Process_1</td>\n",
       "      <td>IntegrationProcess</td>\n",
       "      <td>None</td>\n",
       "      <td>None</td>\n",
       "      <td>Process_1</td>\n",
       "      <td>None</td>\n",
       "      <td>None</td>\n",
       "      <td>None</td>\n",
       "      <td>None</td>\n",
       "      <td>None</td>\n",
       "      <td>None</td>\n",
       "    </tr>\n",
       "    <tr>\n",
       "      <td>14</td>\n",
       "      <td>./CPI Basis Oefening 14.iflw</td>\n",
       "      <td>collaboration</td>\n",
       "      <td>Collaboration_1</td>\n",
       "      <td>Default Collaboration</td>\n",
       "      <td>/collaboration/participant/extensionElements</td>\n",
       "      <td>None</td>\n",
       "      <td>None</td>\n",
       "      <td>None</td>\n",
       "      <td>None</td>\n",
       "      <td>None</td>\n",
       "      <td>None</td>\n",
       "      <td>None</td>\n",
       "      <td>None</td>\n",
       "      <td>None</td>\n",
       "      <td>None</td>\n",
       "      <td>None</td>\n",
       "      <td>None</td>\n",
       "      <td>None</td>\n",
       "      <td>None</td>\n",
       "    </tr>\n",
       "    <tr>\n",
       "      <td>15</td>\n",
       "      <td>./CPI Basis Oefening 14.iflw</td>\n",
       "      <td>collaboration</td>\n",
       "      <td>Collaboration_1</td>\n",
       "      <td>Default Collaboration</td>\n",
       "      <td>/collaboration/messageFlow</td>\n",
       "      <td>None</td>\n",
       "      <td>None</td>\n",
       "      <td>SOAP</td>\n",
       "      <td>MessageFlow_4</td>\n",
       "      <td>None</td>\n",
       "      <td>Participant_1</td>\n",
       "      <td>StartEvent_2</td>\n",
       "      <td>None</td>\n",
       "      <td>None</td>\n",
       "      <td>None</td>\n",
       "      <td>None</td>\n",
       "      <td>None</td>\n",
       "      <td>None</td>\n",
       "      <td>None</td>\n",
       "    </tr>\n",
       "    <tr>\n",
       "      <td>16</td>\n",
       "      <td>./CPI Basis Oefening 14.iflw</td>\n",
       "      <td>collaboration</td>\n",
       "      <td>Collaboration_1</td>\n",
       "      <td>Default Collaboration</td>\n",
       "      <td>/collaboration/messageFlow/extensionElements</td>\n",
       "      <td>Description</td>\n",
       "      <td>None</td>\n",
       "      <td>None</td>\n",
       "      <td>None</td>\n",
       "      <td>None</td>\n",
       "      <td>None</td>\n",
       "      <td>None</td>\n",
       "      <td>None</td>\n",
       "      <td>None</td>\n",
       "      <td>None</td>\n",
       "      <td>None</td>\n",
       "      <td>None</td>\n",
       "      <td>None</td>\n",
       "      <td>None</td>\n",
       "    </tr>\n",
       "    <tr>\n",
       "      <td>17</td>\n",
       "      <td>./CPI Basis Oefening 14.iflw</td>\n",
       "      <td>collaboration</td>\n",
       "      <td>Collaboration_1</td>\n",
       "      <td>Default Collaboration</td>\n",
       "      <td>/collaboration/messageFlow/extensionElements</td>\n",
       "      <td>WSSecurityType</td>\n",
       "      <td>VerifyMessage</td>\n",
       "      <td>None</td>\n",
       "      <td>None</td>\n",
       "      <td>None</td>\n",
       "      <td>None</td>\n",
       "      <td>None</td>\n",
       "      <td>None</td>\n",
       "      <td>None</td>\n",
       "      <td>None</td>\n",
       "      <td>None</td>\n",
       "      <td>None</td>\n",
       "      <td>None</td>\n",
       "      <td>None</td>\n",
       "    </tr>\n",
       "    <tr>\n",
       "      <td>18</td>\n",
       "      <td>./CPI Basis Oefening 14.iflw</td>\n",
       "      <td>collaboration</td>\n",
       "      <td>Collaboration_1</td>\n",
       "      <td>Default Collaboration</td>\n",
       "      <td>/collaboration/messageFlow/extensionElements</td>\n",
       "      <td>PublicKeyAliasResponseEncryption</td>\n",
       "      <td>None</td>\n",
       "      <td>None</td>\n",
       "      <td>None</td>\n",
       "      <td>None</td>\n",
       "      <td>None</td>\n",
       "      <td>None</td>\n",
       "      <td>None</td>\n",
       "      <td>None</td>\n",
       "      <td>None</td>\n",
       "      <td>None</td>\n",
       "      <td>None</td>\n",
       "      <td>None</td>\n",
       "      <td>None</td>\n",
       "    </tr>\n",
       "    <tr>\n",
       "      <td>19</td>\n",
       "      <td>./CPI Basis Oefening 14.iflw</td>\n",
       "      <td>collaboration</td>\n",
       "      <td>Collaboration_1</td>\n",
       "      <td>Default Collaboration</td>\n",
       "      <td>/collaboration/messageFlow/extensionElements</td>\n",
       "      <td>ComponentNS</td>\n",
       "      <td>sap</td>\n",
       "      <td>None</td>\n",
       "      <td>None</td>\n",
       "      <td>None</td>\n",
       "      <td>None</td>\n",
       "      <td>None</td>\n",
       "      <td>None</td>\n",
       "      <td>None</td>\n",
       "      <td>None</td>\n",
       "      <td>None</td>\n",
       "      <td>None</td>\n",
       "      <td>None</td>\n",
       "      <td>None</td>\n",
       "    </tr>\n",
       "  </tbody>\n",
       "</table>\n",
       "</div>"
      ],
      "text/plain": [
       "                        filename       rootelem           rootid  \\\n",
       "0   ./CPI Basis Oefening 14.iflw  collaboration  Collaboration_1   \n",
       "1   ./CPI Basis Oefening 14.iflw  collaboration  Collaboration_1   \n",
       "2   ./CPI Basis Oefening 14.iflw  collaboration  Collaboration_1   \n",
       "3   ./CPI Basis Oefening 14.iflw  collaboration  Collaboration_1   \n",
       "4   ./CPI Basis Oefening 14.iflw  collaboration  Collaboration_1   \n",
       "5   ./CPI Basis Oefening 14.iflw  collaboration  Collaboration_1   \n",
       "6   ./CPI Basis Oefening 14.iflw  collaboration  Collaboration_1   \n",
       "7   ./CPI Basis Oefening 14.iflw  collaboration  Collaboration_1   \n",
       "8   ./CPI Basis Oefening 14.iflw  collaboration  Collaboration_1   \n",
       "9   ./CPI Basis Oefening 14.iflw  collaboration  Collaboration_1   \n",
       "10  ./CPI Basis Oefening 14.iflw  collaboration  Collaboration_1   \n",
       "11  ./CPI Basis Oefening 14.iflw  collaboration  Collaboration_1   \n",
       "12  ./CPI Basis Oefening 14.iflw  collaboration  Collaboration_1   \n",
       "13  ./CPI Basis Oefening 14.iflw  collaboration  Collaboration_1   \n",
       "14  ./CPI Basis Oefening 14.iflw  collaboration  Collaboration_1   \n",
       "15  ./CPI Basis Oefening 14.iflw  collaboration  Collaboration_1   \n",
       "16  ./CPI Basis Oefening 14.iflw  collaboration  Collaboration_1   \n",
       "17  ./CPI Basis Oefening 14.iflw  collaboration  Collaboration_1   \n",
       "18  ./CPI Basis Oefening 14.iflw  collaboration  Collaboration_1   \n",
       "19  ./CPI Basis Oefening 14.iflw  collaboration  Collaboration_1   \n",
       "\n",
       "                 rootname                                          path  \\\n",
       "0   Default Collaboration              /collaboration/extensionElements   \n",
       "1   Default Collaboration              /collaboration/extensionElements   \n",
       "2   Default Collaboration              /collaboration/extensionElements   \n",
       "3   Default Collaboration              /collaboration/extensionElements   \n",
       "4   Default Collaboration              /collaboration/extensionElements   \n",
       "5   Default Collaboration              /collaboration/extensionElements   \n",
       "6   Default Collaboration              /collaboration/extensionElements   \n",
       "7   Default Collaboration              /collaboration/extensionElements   \n",
       "8   Default Collaboration                    /collaboration/participant   \n",
       "9   Default Collaboration  /collaboration/participant/extensionElements   \n",
       "10  Default Collaboration  /collaboration/participant/extensionElements   \n",
       "11  Default Collaboration                    /collaboration/participant   \n",
       "12  Default Collaboration  /collaboration/participant/extensionElements   \n",
       "13  Default Collaboration                    /collaboration/participant   \n",
       "14  Default Collaboration  /collaboration/participant/extensionElements   \n",
       "15  Default Collaboration                    /collaboration/messageFlow   \n",
       "16  Default Collaboration  /collaboration/messageFlow/extensionElements   \n",
       "17  Default Collaboration  /collaboration/messageFlow/extensionElements   \n",
       "18  Default Collaboration  /collaboration/messageFlow/extensionElements   \n",
       "19  Default Collaboration  /collaboration/messageFlow/extensionElements   \n",
       "\n",
       "                                 key  \\\n",
       "0                   namespaceMapping   \n",
       "1                  allowedHeaderList   \n",
       "2                httpSessionHandling   \n",
       "3                        ServerTrace   \n",
       "4            returnExceptionToSender   \n",
       "5                                log   \n",
       "6                   componentVersion   \n",
       "7                      cmdVariantUri   \n",
       "8                               None   \n",
       "9          enableBasicAuthentication   \n",
       "10                          ifl:type   \n",
       "11                              None   \n",
       "12                          ifl:type   \n",
       "13                              None   \n",
       "14                              None   \n",
       "15                              None   \n",
       "16                       Description   \n",
       "17                    WSSecurityType   \n",
       "18  PublicKeyAliasResponseEncryption   \n",
       "19                       ComponentNS   \n",
       "\n",
       "                                                value                 name  \\\n",
       "0                                                None                 None   \n",
       "1                                                None                 None   \n",
       "2                                                None                 None   \n",
       "3                                               false                 None   \n",
       "4                                               false                 None   \n",
       "5                                          All events                 None   \n",
       "6                                                 1.1                 None   \n",
       "7   ctype::IFlowVariant/cname::IFlowConfiguration/...                 None   \n",
       "8                                                None               Sender   \n",
       "9                                               false                 None   \n",
       "10                                     EndpointSender                 None   \n",
       "11                                               None             Receiver   \n",
       "12                                   EndpointRecevier                 None   \n",
       "13                                               None  Integration Process   \n",
       "14                                               None                 None   \n",
       "15                                               None                 SOAP   \n",
       "16                                               None                 None   \n",
       "17                                      VerifyMessage                 None   \n",
       "18                                               None                 None   \n",
       "19                                                sap                 None   \n",
       "\n",
       "                       id                type      sourceref     targetref  \\\n",
       "0                    None                None           None          None   \n",
       "1                    None                None           None          None   \n",
       "2                    None                None           None          None   \n",
       "3                    None                None           None          None   \n",
       "4                    None                None           None          None   \n",
       "5                    None                None           None          None   \n",
       "6                    None                None           None          None   \n",
       "7                    None                None           None          None   \n",
       "8           Participant_1      EndpointSender           None          None   \n",
       "9                    None                None           None          None   \n",
       "10                   None                None           None          None   \n",
       "11          Participant_2    EndpointRecevier           None          None   \n",
       "12                   None                None           None          None   \n",
       "13  Participant_Process_1  IntegrationProcess           None          None   \n",
       "14                   None                None           None          None   \n",
       "15          MessageFlow_4                None  Participant_1  StartEvent_2   \n",
       "16                   None                None           None          None   \n",
       "17                   None                None           None          None   \n",
       "18                   None                None           None          None   \n",
       "19                   None                None           None          None   \n",
       "\n",
       "   processref bpmnelement     x     y width height bpmntype  \n",
       "0        None        None  None  None  None   None     None  \n",
       "1        None        None  None  None  None   None     None  \n",
       "2        None        None  None  None  None   None     None  \n",
       "3        None        None  None  None  None   None     None  \n",
       "4        None        None  None  None  None   None     None  \n",
       "5        None        None  None  None  None   None     None  \n",
       "6        None        None  None  None  None   None     None  \n",
       "7        None        None  None  None  None   None     None  \n",
       "8        None        None  None  None  None   None     None  \n",
       "9        None        None  None  None  None   None     None  \n",
       "10       None        None  None  None  None   None     None  \n",
       "11       None        None  None  None  None   None     None  \n",
       "12       None        None  None  None  None   None     None  \n",
       "13  Process_1        None  None  None  None   None     None  \n",
       "14       None        None  None  None  None   None     None  \n",
       "15       None        None  None  None  None   None     None  \n",
       "16       None        None  None  None  None   None     None  \n",
       "17       None        None  None  None  None   None     None  \n",
       "18       None        None  None  None  None   None     None  \n",
       "19       None        None  None  None  None   None     None  "
      ]
     },
     "execution_count": 52,
     "metadata": {},
     "output_type": "execute_result"
    }
   ],
   "source": [
    "df.head(20)"
   ]
  },
  {
   "cell_type": "code",
   "execution_count": 54,
   "metadata": {
    "ExecuteTime": {
     "end_time": "2019-10-03T07:24:19.236744Z",
     "start_time": "2019-10-03T07:24:18.824786Z"
    }
   },
   "outputs": [],
   "source": [
    "df.to_csv(\"result.csv\")"
   ]
  },
  {
   "cell_type": "code",
   "execution_count": 45,
   "metadata": {
    "ExecuteTime": {
     "end_time": "2019-09-30T14:57:31.649626Z",
     "start_time": "2019-09-30T14:57:31.646971Z"
    }
   },
   "outputs": [],
   "source": [
    "import glob"
   ]
  },
  {
   "cell_type": "code",
   "execution_count": 62,
   "metadata": {
    "ExecuteTime": {
     "end_time": "2019-10-04T12:15:05.991978Z",
     "start_time": "2019-10-04T12:15:05.786520Z"
    }
   },
   "outputs": [],
   "source": [
    "import os\n",
    "iflowfiles = []\n",
    "iflowdirs = []\n",
    "# traverse root directory, and list directories as dirs and files as files\n",
    "for root, dirs, files in os.walk(\".\"):\n",
    "    path = root.split(os.sep)\n",
    "    foundfiles = glob.glob(root+'/*.iflw')\n",
    "#     if len(path) >= 2:\n",
    "#         for file in foundfiles:\n",
    "#             iflowdirs = iflowdirs + list(path[1])\n",
    "            \n",
    "#     print(path[1])\n",
    "#     print(root)\n",
    "#     print((len(path) - 1) * '---', os.path.basename(root))\n",
    "#     for file in files:\n",
    "    \n",
    "        \n",
    "    iflowfiles = iflowfiles + foundfiles"
   ]
  },
  {
   "cell_type": "code",
   "execution_count": 63,
   "metadata": {
    "ExecuteTime": {
     "end_time": "2019-10-04T12:15:38.388253Z",
     "start_time": "2019-10-04T12:15:38.386137Z"
    }
   },
   "outputs": [],
   "source": [
    "iflowinfo = zip(iflowdirs,iflowfiles)"
   ]
  },
  {
   "cell_type": "code",
   "execution_count": 64,
   "metadata": {
    "ExecuteTime": {
     "end_time": "2019-10-04T12:16:11.626139Z",
     "start_time": "2019-10-04T12:16:11.623766Z"
    }
   },
   "outputs": [],
   "source": [
    "for i in iflowinfo:\n",
    "    print(i[0],i[1])"
   ]
  },
  {
   "cell_type": "code",
   "execution_count": 58,
   "metadata": {
    "ExecuteTime": {
     "end_time": "2019-10-04T12:10:45.751804Z",
     "start_time": "2019-10-04T12:10:45.747503Z"
    }
   },
   "outputs": [
    {
     "data": {
      "text/plain": [
       "140"
      ]
     },
     "execution_count": 58,
     "metadata": {},
     "output_type": "execute_result"
    }
   ],
   "source": [
    "len(iflowfiles)"
   ]
  },
  {
   "cell_type": "code",
   "execution_count": 47,
   "metadata": {
    "ExecuteTime": {
     "end_time": "2019-09-30T15:02:28.414644Z",
     "start_time": "2019-09-30T14:59:32.710882Z"
    }
   },
   "outputs": [
    {
     "data": {
      "application/vnd.jupyter.widget-view+json": {
       "model_id": "",
       "version_major": 2,
       "version_minor": 0
      },
      "text/plain": [
       "HBox(children=(IntProgress(value=0, max=140), HTML(value='')))"
      ]
     },
     "metadata": {},
     "output_type": "display_data"
    },
    {
     "name": "stdout",
     "output_type": "stream",
     "text": [
      "\r"
     ]
    }
   ],
   "source": [
    "files = iflowfiles\n",
    "dfset = []\n",
    "pbar = tqdm(total=len(iflowfiles), leave=False)\n",
    "pbar.set_description(desc='Processing iflows', refresh=True)\n",
    "\n",
    "for i in files: \n",
    "    df = parse_bpmn_XML(i)\n",
    "    pbar.update(1)\n",
    "#     print(len(df.columns))\n",
    "#     df.dropna(axis=0, how='all', subset=df.columns.values, inplace=True)\n",
    "    dfset.append(df)\n",
    "pbar.close()"
   ]
  },
  {
   "cell_type": "code",
   "execution_count": 48,
   "metadata": {
    "ExecuteTime": {
     "end_time": "2019-09-30T15:02:37.898977Z",
     "start_time": "2019-09-30T15:02:36.788983Z"
    }
   },
   "outputs": [
    {
     "data": {
      "application/vnd.jupyter.widget-view+json": {
       "model_id": "c1751e0c6b354ee4b6745fcc584f8909",
       "version_major": 2,
       "version_minor": 0
      },
      "text/plain": [
       "HBox(children=(IntProgress(value=0, max=140), HTML(value='')))"
      ]
     },
     "metadata": {},
     "output_type": "display_data"
    },
    {
     "name": "stdout",
     "output_type": "stream",
     "text": [
      "\r"
     ]
    }
   ],
   "source": [
    "df = dfset[0]\n",
    "pbar = tqdm(total=len(dfset), leave=False)\n",
    "pbar.set_description(desc='Processing iflows', refresh=True)\n",
    "pbar.update(1)\n",
    "for i in range(1, len(dfset)):\n",
    "    df = df.append(dfset[i])\n",
    "    pbar.update(1)\n",
    "pbar.close()\n",
    "df.to_csv(\"iflows.csv\")"
   ]
  },
  {
   "cell_type": "code",
   "execution_count": 49,
   "metadata": {
    "ExecuteTime": {
     "end_time": "2019-09-30T15:02:46.265439Z",
     "start_time": "2019-09-30T15:02:46.237175Z"
    },
    "scrolled": true
   },
   "outputs": [
    {
     "name": "stdout",
     "output_type": "stream",
     "text": [
      "<class 'pandas.core.frame.DataFrame'>\n",
      "Int64Index: 37601 entries, 0 to 97\n",
      "Data columns (total 19 columns):\n",
      "filename       37601 non-null object\n",
      "rootelem       37601 non-null object\n",
      "rootid         37442 non-null object\n",
      "rootname       35676 non-null object\n",
      "path           37601 non-null object\n",
      "key            21159 non-null object\n",
      "value          18073 non-null object\n",
      "name           2933 non-null object\n",
      "id             12921 non-null object\n",
      "type           612 non-null object\n",
      "sourceref      1924 non-null object\n",
      "targetref      1924 non-null object\n",
      "processref     253 non-null object\n",
      "bpmnelement    8366 non-null object\n",
      "x              6951 non-null object\n",
      "y              6951 non-null object\n",
      "width          2424 non-null object\n",
      "height         2424 non-null object\n",
      "bpmntype       4527 non-null object\n",
      "dtypes: object(19)\n",
      "memory usage: 5.7+ MB\n"
     ]
    }
   ],
   "source": [
    "df.info()"
   ]
  },
  {
   "cell_type": "code",
   "execution_count": 51,
   "metadata": {
    "ExecuteTime": {
     "end_time": "2019-10-03T06:28:21.823518Z",
     "start_time": "2019-10-03T06:28:21.812133Z"
    }
   },
   "outputs": [
    {
     "data": {
      "text/plain": [
       "140"
      ]
     },
     "execution_count": 51,
     "metadata": {},
     "output_type": "execute_result"
    }
   ],
   "source": [
    "len(df['filename'].unique())"
   ]
  },
  {
   "cell_type": "code",
   "execution_count": 7,
   "metadata": {
    "ExecuteTime": {
     "end_time": "2019-10-18T06:23:36.719463Z",
     "start_time": "2019-10-18T06:23:36.513224Z"
    }
   },
   "outputs": [],
   "source": [
    "df = pd.read_csv(\"iflows.csv\")"
   ]
  },
  {
   "cell_type": "code",
   "execution_count": 12,
   "metadata": {
    "ExecuteTime": {
     "end_time": "2019-10-18T06:39:30.492312Z",
     "start_time": "2019-10-18T06:39:30.473165Z"
    }
   },
   "outputs": [],
   "source": [
    "names = df['filename'].unique()\n",
    "filenamemapp = {}\n",
    "for i in names:\n",
    "    for j in reversedproperties:\n",
    "        if j in i:\n",
    "            filenamemapp.update({i:reversedproperties.get(j)})\n",
    "df['package'] = df['filename'].map(filenamemapp)"
   ]
  },
  {
   "cell_type": "code",
   "execution_count": 13,
   "metadata": {
    "ExecuteTime": {
     "end_time": "2019-10-18T06:39:36.377548Z",
     "start_time": "2019-10-18T06:39:36.351922Z"
    }
   },
   "outputs": [
    {
     "data": {
      "text/html": [
       "<div>\n",
       "<style scoped>\n",
       "    .dataframe tbody tr th:only-of-type {\n",
       "        vertical-align: middle;\n",
       "    }\n",
       "\n",
       "    .dataframe tbody tr th {\n",
       "        vertical-align: top;\n",
       "    }\n",
       "\n",
       "    .dataframe thead th {\n",
       "        text-align: right;\n",
       "    }\n",
       "</style>\n",
       "<table border=\"1\" class=\"dataframe\">\n",
       "  <thead>\n",
       "    <tr style=\"text-align: right;\">\n",
       "      <th></th>\n",
       "      <th>Unnamed: 0</th>\n",
       "      <th>filename</th>\n",
       "      <th>rootelem</th>\n",
       "      <th>rootid</th>\n",
       "      <th>rootname</th>\n",
       "      <th>path</th>\n",
       "      <th>key</th>\n",
       "      <th>value</th>\n",
       "      <th>name</th>\n",
       "      <th>id</th>\n",
       "      <th>...</th>\n",
       "      <th>sourceref</th>\n",
       "      <th>targetref</th>\n",
       "      <th>processref</th>\n",
       "      <th>bpmnelement</th>\n",
       "      <th>x</th>\n",
       "      <th>y</th>\n",
       "      <th>width</th>\n",
       "      <th>height</th>\n",
       "      <th>bpmntype</th>\n",
       "      <th>package</th>\n",
       "    </tr>\n",
       "  </thead>\n",
       "  <tbody>\n",
       "    <tr>\n",
       "      <th>0</th>\n",
       "      <td>0</td>\n",
       "      <td>./CPI Basis Oefening 14.iflw</td>\n",
       "      <td>collaboration</td>\n",
       "      <td>Collaboration_1</td>\n",
       "      <td>Default Collaboration</td>\n",
       "      <td>/collaboration/extensionElements</td>\n",
       "      <td>namespaceMapping</td>\n",
       "      <td>NaN</td>\n",
       "      <td>NaN</td>\n",
       "      <td>NaN</td>\n",
       "      <td>...</td>\n",
       "      <td>NaN</td>\n",
       "      <td>NaN</td>\n",
       "      <td>NaN</td>\n",
       "      <td>NaN</td>\n",
       "      <td>NaN</td>\n",
       "      <td>NaN</td>\n",
       "      <td>NaN</td>\n",
       "      <td>NaN</td>\n",
       "      <td>NaN</td>\n",
       "      <td>testmatthijs</td>\n",
       "    </tr>\n",
       "    <tr>\n",
       "      <th>1</th>\n",
       "      <td>1</td>\n",
       "      <td>./CPI Basis Oefening 14.iflw</td>\n",
       "      <td>collaboration</td>\n",
       "      <td>Collaboration_1</td>\n",
       "      <td>Default Collaboration</td>\n",
       "      <td>/collaboration/extensionElements</td>\n",
       "      <td>allowedHeaderList</td>\n",
       "      <td>NaN</td>\n",
       "      <td>NaN</td>\n",
       "      <td>NaN</td>\n",
       "      <td>...</td>\n",
       "      <td>NaN</td>\n",
       "      <td>NaN</td>\n",
       "      <td>NaN</td>\n",
       "      <td>NaN</td>\n",
       "      <td>NaN</td>\n",
       "      <td>NaN</td>\n",
       "      <td>NaN</td>\n",
       "      <td>NaN</td>\n",
       "      <td>NaN</td>\n",
       "      <td>testmatthijs</td>\n",
       "    </tr>\n",
       "    <tr>\n",
       "      <th>2</th>\n",
       "      <td>2</td>\n",
       "      <td>./CPI Basis Oefening 14.iflw</td>\n",
       "      <td>collaboration</td>\n",
       "      <td>Collaboration_1</td>\n",
       "      <td>Default Collaboration</td>\n",
       "      <td>/collaboration/extensionElements</td>\n",
       "      <td>httpSessionHandling</td>\n",
       "      <td>None</td>\n",
       "      <td>NaN</td>\n",
       "      <td>NaN</td>\n",
       "      <td>...</td>\n",
       "      <td>NaN</td>\n",
       "      <td>NaN</td>\n",
       "      <td>NaN</td>\n",
       "      <td>NaN</td>\n",
       "      <td>NaN</td>\n",
       "      <td>NaN</td>\n",
       "      <td>NaN</td>\n",
       "      <td>NaN</td>\n",
       "      <td>NaN</td>\n",
       "      <td>testmatthijs</td>\n",
       "    </tr>\n",
       "    <tr>\n",
       "      <th>3</th>\n",
       "      <td>3</td>\n",
       "      <td>./CPI Basis Oefening 14.iflw</td>\n",
       "      <td>collaboration</td>\n",
       "      <td>Collaboration_1</td>\n",
       "      <td>Default Collaboration</td>\n",
       "      <td>/collaboration/extensionElements</td>\n",
       "      <td>ServerTrace</td>\n",
       "      <td>false</td>\n",
       "      <td>NaN</td>\n",
       "      <td>NaN</td>\n",
       "      <td>...</td>\n",
       "      <td>NaN</td>\n",
       "      <td>NaN</td>\n",
       "      <td>NaN</td>\n",
       "      <td>NaN</td>\n",
       "      <td>NaN</td>\n",
       "      <td>NaN</td>\n",
       "      <td>NaN</td>\n",
       "      <td>NaN</td>\n",
       "      <td>NaN</td>\n",
       "      <td>testmatthijs</td>\n",
       "    </tr>\n",
       "    <tr>\n",
       "      <th>4</th>\n",
       "      <td>4</td>\n",
       "      <td>./CPI Basis Oefening 14.iflw</td>\n",
       "      <td>collaboration</td>\n",
       "      <td>Collaboration_1</td>\n",
       "      <td>Default Collaboration</td>\n",
       "      <td>/collaboration/extensionElements</td>\n",
       "      <td>returnExceptionToSender</td>\n",
       "      <td>false</td>\n",
       "      <td>NaN</td>\n",
       "      <td>NaN</td>\n",
       "      <td>...</td>\n",
       "      <td>NaN</td>\n",
       "      <td>NaN</td>\n",
       "      <td>NaN</td>\n",
       "      <td>NaN</td>\n",
       "      <td>NaN</td>\n",
       "      <td>NaN</td>\n",
       "      <td>NaN</td>\n",
       "      <td>NaN</td>\n",
       "      <td>NaN</td>\n",
       "      <td>testmatthijs</td>\n",
       "    </tr>\n",
       "  </tbody>\n",
       "</table>\n",
       "<p>5 rows × 21 columns</p>\n",
       "</div>"
      ],
      "text/plain": [
       "   Unnamed: 0                      filename       rootelem           rootid  \\\n",
       "0           0  ./CPI Basis Oefening 14.iflw  collaboration  Collaboration_1   \n",
       "1           1  ./CPI Basis Oefening 14.iflw  collaboration  Collaboration_1   \n",
       "2           2  ./CPI Basis Oefening 14.iflw  collaboration  Collaboration_1   \n",
       "3           3  ./CPI Basis Oefening 14.iflw  collaboration  Collaboration_1   \n",
       "4           4  ./CPI Basis Oefening 14.iflw  collaboration  Collaboration_1   \n",
       "\n",
       "                rootname                              path  \\\n",
       "0  Default Collaboration  /collaboration/extensionElements   \n",
       "1  Default Collaboration  /collaboration/extensionElements   \n",
       "2  Default Collaboration  /collaboration/extensionElements   \n",
       "3  Default Collaboration  /collaboration/extensionElements   \n",
       "4  Default Collaboration  /collaboration/extensionElements   \n",
       "\n",
       "                       key  value name   id  ... sourceref targetref  \\\n",
       "0         namespaceMapping    NaN  NaN  NaN  ...       NaN       NaN   \n",
       "1        allowedHeaderList    NaN  NaN  NaN  ...       NaN       NaN   \n",
       "2      httpSessionHandling   None  NaN  NaN  ...       NaN       NaN   \n",
       "3              ServerTrace  false  NaN  NaN  ...       NaN       NaN   \n",
       "4  returnExceptionToSender  false  NaN  NaN  ...       NaN       NaN   \n",
       "\n",
       "  processref bpmnelement   x   y  width  height  bpmntype       package  \n",
       "0        NaN         NaN NaN NaN    NaN     NaN       NaN  testmatthijs  \n",
       "1        NaN         NaN NaN NaN    NaN     NaN       NaN  testmatthijs  \n",
       "2        NaN         NaN NaN NaN    NaN     NaN       NaN  testmatthijs  \n",
       "3        NaN         NaN NaN NaN    NaN     NaN       NaN  testmatthijs  \n",
       "4        NaN         NaN NaN NaN    NaN     NaN       NaN  testmatthijs  \n",
       "\n",
       "[5 rows x 21 columns]"
      ]
     },
     "execution_count": 13,
     "metadata": {},
     "output_type": "execute_result"
    }
   ],
   "source": [
    "df.head()"
   ]
  },
  {
   "cell_type": "code",
   "execution_count": 4,
   "metadata": {
    "ExecuteTime": {
     "end_time": "2019-10-18T06:21:53.432326Z",
     "start_time": "2019-10-18T06:21:53.429534Z"
    }
   },
   "outputs": [
    {
     "name": "stdout",
     "output_type": "stream",
     "text": [
      "['.', 'teststring']\n"
     ]
    }
   ],
   "source": [
    "teststring = \"./teststring\"\n",
    "test = teststring.split(\"/\")\n",
    "print(test)"
   ]
  },
  {
   "cell_type": "code",
   "execution_count": 74,
   "metadata": {
    "ExecuteTime": {
     "end_time": "2019-10-04T13:33:34.813476Z",
     "start_time": "2019-10-04T13:33:34.809870Z"
    }
   },
   "outputs": [],
   "source": [
    "from sklearn.cluster import MiniBatchKMeans\n",
    "from sklearn.cluster import KMeans"
   ]
  },
  {
   "cell_type": "code",
   "execution_count": 69,
   "metadata": {
    "ExecuteTime": {
     "end_time": "2019-10-04T13:26:36.387093Z",
     "start_time": "2019-10-04T13:26:33.910447Z"
    }
   },
   "outputs": [],
   "source": [
    "df_with_dummies = pd.get_dummies(df)"
   ]
  },
  {
   "cell_type": "code",
   "execution_count": 76,
   "metadata": {
    "ExecuteTime": {
     "end_time": "2019-10-04T13:40:57.108485Z",
     "start_time": "2019-10-04T13:40:56.813458Z"
    }
   },
   "outputs": [
    {
     "name": "stdout",
     "output_type": "stream",
     "text": [
      "<class 'pandas.core.frame.DataFrame'>\n",
      "Int64Index: 37601 entries, 0 to 97\n",
      "Columns: 10714 entries, filename_./API_MATERIAL/src/main/resources/scenarioflows/integrationflow/API_MATERIAL.iflw to bpmntype_dc:Point\n",
      "dtypes: uint8(10714)\n",
      "memory usage: 384.5 MB\n"
     ]
    }
   ],
   "source": [
    "df_with_dummies.info()"
   ]
  },
  {
   "cell_type": "code",
   "execution_count": 70,
   "metadata": {
    "ExecuteTime": {
     "end_time": "2019-10-04T13:27:22.221719Z",
     "start_time": "2019-10-04T13:27:21.459363Z"
    }
   },
   "outputs": [],
   "source": [
    "X = df_with_dummies.to_numpy()"
   ]
  },
  {
   "cell_type": "code",
   "execution_count": 71,
   "metadata": {
    "ExecuteTime": {
     "end_time": "2019-10-04T13:28:08.351340Z",
     "start_time": "2019-10-04T13:28:08.343259Z"
    }
   },
   "outputs": [
    {
     "data": {
      "text/plain": [
       "array([0, 0, 0, ..., 0, 0, 0], dtype=uint8)"
      ]
     },
     "execution_count": 71,
     "metadata": {},
     "output_type": "execute_result"
    }
   ],
   "source": [
    "X[1]"
   ]
  },
  {
   "cell_type": "code",
   "execution_count": 73,
   "metadata": {
    "ExecuteTime": {
     "end_time": "2019-10-04T13:29:37.272458Z",
     "start_time": "2019-10-04T13:29:37.215668Z"
    }
   },
   "outputs": [
    {
     "data": {
      "text/plain": [
       "array([[0, 0, 0, ..., 0, 0, 0],\n",
       "       [0, 0, 0, ..., 0, 0, 0]], dtype=uint8)"
      ]
     },
     "execution_count": 73,
     "metadata": {},
     "output_type": "execute_result"
    }
   ],
   "source": [
    "# manually fit on batches\n",
    "kmeans = MiniBatchKMeans(n_clusters=2,\n",
    "                         random_state=0,\n",
    "                         batch_size=6)\n",
    "kmeans = kmeans.partial_fit(X[0:6,:])\n",
    "kmeans = kmeans.partial_fit(X[6:12,:])\n",
    "kmeans.cluster_centers_"
   ]
  },
  {
   "cell_type": "code",
   "execution_count": 78,
   "metadata": {
    "ExecuteTime": {
     "end_time": "2019-10-04T14:02:42.442859Z",
     "start_time": "2019-10-04T13:55:34.219257Z"
    }
   },
   "outputs": [
    {
     "data": {
      "text/plain": [
       "array([6, 6, 6, ..., 7, 7, 7], dtype=int32)"
      ]
     },
     "execution_count": 78,
     "metadata": {},
     "output_type": "execute_result"
    }
   ],
   "source": [
    "kmeans = KMeans(n_clusters=10, random_state=0, n_jobs=-1).fit(X)\n",
    "kmeans.labels_"
   ]
  },
  {
   "cell_type": "code",
   "execution_count": 79,
   "metadata": {
    "ExecuteTime": {
     "end_time": "2019-10-04T14:03:26.259997Z",
     "start_time": "2019-10-04T14:03:26.253035Z"
    }
   },
   "outputs": [
    {
     "data": {
      "text/plain": [
       "37601"
      ]
     },
     "execution_count": 79,
     "metadata": {},
     "output_type": "execute_result"
    }
   ],
   "source": [
    "len(kmeans.labels_)"
   ]
  },
  {
   "cell_type": "code",
   "execution_count": null,
   "metadata": {
    "ExecuteTime": {
     "start_time": "2019-10-04T14:17:49.543Z"
    }
   },
   "outputs": [],
   "source": [
    "import seaborn as sns\n",
    "sns.set(style=\"ticks\", color_codes=True)\n",
    "\n",
    "g = sns.pairplot(df_with_dummies)"
   ]
  },
  {
   "cell_type": "code",
   "execution_count": null,
   "metadata": {},
   "outputs": [],
   "source": []
  }
 ],
 "metadata": {
  "kernelspec": {
   "display_name": "Python 3",
   "language": "python",
   "name": "python3"
  },
  "language_info": {
   "codemirror_mode": {
    "name": "ipython",
    "version": 3
   },
   "file_extension": ".py",
   "mimetype": "text/x-python",
   "name": "python",
   "nbconvert_exporter": "python",
   "pygments_lexer": "ipython3",
   "version": "3.7.3"
  },
  "toc": {
   "base_numbering": 1,
   "nav_menu": {},
   "number_sections": true,
   "sideBar": true,
   "skip_h1_title": false,
   "title_cell": "Table of Contents",
   "title_sidebar": "Contents",
   "toc_cell": false,
   "toc_position": {},
   "toc_section_display": true,
   "toc_window_display": false
  },
  "varInspector": {
   "cols": {
    "lenName": 16,
    "lenType": 16,
    "lenVar": 40
   },
   "kernels_config": {
    "python": {
     "delete_cmd_postfix": "",
     "delete_cmd_prefix": "del ",
     "library": "var_list.py",
     "varRefreshCmd": "print(var_dic_list())"
    },
    "r": {
     "delete_cmd_postfix": ") ",
     "delete_cmd_prefix": "rm(",
     "library": "var_list.r",
     "varRefreshCmd": "cat(var_dic_list()) "
    }
   },
   "types_to_exclude": [
    "module",
    "function",
    "builtin_function_or_method",
    "instance",
    "_Feature"
   ],
   "window_display": false
  }
 },
 "nbformat": 4,
 "nbformat_minor": 4
}
