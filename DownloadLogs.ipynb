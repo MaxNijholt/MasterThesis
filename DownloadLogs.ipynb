{
 "cells": [
  {
   "cell_type": "markdown",
   "metadata": {},
   "source": [
    "# Download"
   ]
  },
  {
   "cell_type": "code",
   "execution_count": 1,
   "metadata": {
    "ExecuteTime": {
     "end_time": "2019-10-17T14:10:31.303461Z",
     "start_time": "2019-10-17T14:10:30.718033Z"
    }
   },
   "outputs": [
    {
     "name": "stderr",
     "output_type": "stream",
     "text": [
      "/Users/max/anaconda3/lib/python3.7/site-packages/tqdm/autonotebook.py:17: TqdmExperimentalWarning: Using `tqdm.autonotebook.tqdm` in notebook mode. Use `tqdm.tqdm` instead to force console mode (e.g. in jupyter console)\n",
      "  \" (e.g. in jupyter console)\", TqdmExperimentalWarning)\n"
     ]
    }
   ],
   "source": [
    "import pandas as pd\n",
    "import regex as re\n",
    "import requests\n",
    "import math\n",
    "import time\n",
    "import json\n",
    "import datetime\n",
    "import os\n",
    "from dateutil import parser\n",
    "from datetime import datetime, timedelta\n",
    "from tqdm.autonotebook import tqdm"
   ]
  },
  {
   "cell_type": "code",
   "execution_count": 2,
   "metadata": {},
   "outputs": [],
   "source": [
    "url_user_pass = {}\n",
    "with open('url_user_pass.json') as json_file:\n",
    "    url_user_pass = json.load(json_file)\n",
    "    url_user_pass = url_user_pass.get(\"DownloadLogs\")"
   ]
  },
  {
   "cell_type": "code",
   "execution_count": 3,
   "metadata": {},
   "outputs": [],
   "source": [
    "# print(url_user_pass.get(\"suser\"))"
   ]
  },
  {
   "cell_type": "code",
   "execution_count": 4,
   "metadata": {
    "ExecuteTime": {
     "end_time": "2019-10-17T14:10:31.808829Z",
     "start_time": "2019-10-17T14:10:31.806127Z"
    }
   },
   "outputs": [],
   "source": [
    "session = requests.Session()\n",
    "session.auth = (url_user_pass.get(\"Qsuser\"), url_user_pass.get(\"Qpassword\"))\n",
    "# session.auth = (url_user_pass.get(\"Qsuser\"), url_user_pass.get(\"Qpassword\"))"
   ]
  },
  {
   "cell_type": "code",
   "execution_count": 7,
   "metadata": {
    "ExecuteTime": {
     "end_time": "2019-10-17T14:10:33.882201Z",
     "start_time": "2019-10-17T14:10:33.392630Z"
    }
   },
   "outputs": [],
   "source": [
    "url = url_user_pass.get(\"other\").get(\"qasurl\")\n",
    "# url = url_user_pass.get(\"other\").get(\"url\")\n",
    "# url = url_user_pass.get(\"other\").get(\"url2\")\n",
    "res = session.get(str(url))\n",
    "contents = res.content.decode('utf8')\n",
    "# print(contents)\n",
    "data = json.loads(contents)\n",
    "# print(data)"
   ]
  },
  {
   "cell_type": "code",
   "execution_count": 8,
   "metadata": {
    "ExecuteTime": {
     "end_time": "2019-10-17T14:11:48.076732Z",
     "start_time": "2019-10-17T14:11:48.029083Z"
    }
   },
   "outputs": [],
   "source": [
    "# dict(data)['d']['results']"
   ]
  },
  {
   "cell_type": "code",
   "execution_count": 2,
   "metadata": {
    "ExecuteTime": {
     "end_time": "2019-10-17T14:12:31.010601Z",
     "start_time": "2019-10-17T14:12:31.006905Z"
    }
   },
   "outputs": [],
   "source": [
    "technicalnames = []\n",
    "for i in data.get('d').get('results'):\n",
    "    technicalnames.append(i.get('TechnicalName'))\n",
    "print(technicalnames)"
   ]
  },
  {
   "cell_type": "code",
   "execution_count": 1,
   "metadata": {
    "ExecuteTime": {
     "end_time": "2019-10-17T14:19:20.783018Z",
     "start_time": "2019-10-17T14:19:19.027313Z"
    }
   },
   "outputs": [],
   "source": [
    "artifacts = []\n",
    "artpack = {}\n",
    "pbar = tqdm(total=len(technicalnames))\n",
    "for i in technicalnames:\n",
    "    url = str(url_user_pass.get(\"other\").get(\"qaspartialurl_content\"))+\"('\"+i+\"')/Artifacts?&$format=json\"\n",
    "    res = session.get(url)\n",
    "    contents = res.content.decode('utf8')\n",
    "    # print(contents)\n",
    "    data = json.loads(contents)\n",
    "    artifactlist = []\n",
    "    for j in data.get('d').get('results'):\n",
    "        artifactlist.append(j.get('Name'))\n",
    "#         print(j.get('Name'))\n",
    "        artifacts.append(j.get('Name'))\n",
    "    artpack.update({i:artifactlist})\n",
    "    pbar.update(1)\n",
    "pbar.close()\n",
    "print(artpack)"
   ]
  },
  {
   "cell_type": "code",
   "execution_count": 206,
   "metadata": {},
   "outputs": [],
   "source": [
    "from sklearn.model_selection import StratifiedShuffleSplit,train_test_split,StratifiedKFold,KFold"
   ]
  },
  {
   "cell_type": "code",
   "execution_count": 79,
   "metadata": {},
   "outputs": [],
   "source": [
    "keyvalpair = []\n",
    "for i in artpack.keys():\n",
    "    for j in artpack.get(i):\n",
    "        keyvalpair.append({'artifact':i, 'iFlow':j})"
   ]
  },
  {
   "cell_type": "code",
   "execution_count": 94,
   "metadata": {},
   "outputs": [
    {
     "data": {
      "text/html": [
       "<div>\n",
       "<style scoped>\n",
       "    .dataframe tbody tr th:only-of-type {\n",
       "        vertical-align: middle;\n",
       "    }\n",
       "\n",
       "    .dataframe tbody tr th {\n",
       "        vertical-align: top;\n",
       "    }\n",
       "\n",
       "    .dataframe thead th {\n",
       "        text-align: right;\n",
       "    }\n",
       "</style>\n",
       "<table border=\"1\" class=\"dataframe\">\n",
       "  <thead>\n",
       "    <tr style=\"text-align: right;\">\n",
       "      <th></th>\n",
       "      <th>artifact</th>\n",
       "      <th>iFlow</th>\n",
       "    </tr>\n",
       "  </thead>\n",
       "  <tbody>\n",
       "    <tr>\n",
       "      <th>count</th>\n",
       "      <td>522</td>\n",
       "      <td>522</td>\n",
       "    </tr>\n",
       "    <tr>\n",
       "      <th>unique</th>\n",
       "      <td>42</td>\n",
       "      <td>522</td>\n",
       "    </tr>\n",
       "    <tr>\n",
       "      <th>top</th>\n",
       "      <td>SFtoBW</td>\n",
       "      <td>OMS1000_RequestToken_SalesforceMarketingCloud</td>\n",
       "    </tr>\n",
       "    <tr>\n",
       "      <th>freq</th>\n",
       "      <td>42</td>\n",
       "      <td>1</td>\n",
       "    </tr>\n",
       "  </tbody>\n",
       "</table>\n",
       "</div>"
      ],
      "text/plain": [
       "       artifact                                          iFlow\n",
       "count       522                                            522\n",
       "unique       42                                            522\n",
       "top      SFtoBW  OMS1000_RequestToken_SalesforceMarketingCloud\n",
       "freq         42                                              1"
      ]
     },
     "execution_count": 94,
     "metadata": {},
     "output_type": "execute_result"
    }
   ],
   "source": [
    "# df = pd.DataFrame(keyvalpair)\n",
    "df.describe()"
   ]
  },
  {
   "cell_type": "code",
   "execution_count": 98,
   "metadata": {},
   "outputs": [],
   "source": [
    "ratiodfcopy= pd.read_csv(\"../generateddata/ratiooccuranceclusters.csv\")\n",
    "dfcopy= pd.read_csv(\"../generateddata/binaryoccuranceclusters.csv\")"
   ]
  },
  {
   "cell_type": "code",
   "execution_count": 3,
   "metadata": {},
   "outputs": [],
   "source": [
    "ratiodfcopy = dropcols(ratiodfcopy)\n",
    "ratiodfcopy.head()"
   ]
  },
  {
   "cell_type": "code",
   "execution_count": 248,
   "metadata": {},
   "outputs": [
    {
     "name": "stdout",
     "output_type": "stream",
     "text": [
      "<class 'pandas.core.frame.DataFrame'>\n",
      "RangeIndex: 455 entries, 0 to 454\n",
      "Data columns (total 2 columns):\n",
      "scenario    455 non-null object\n",
      "cluster     455 non-null int64\n",
      "dtypes: int64(1), object(1)\n",
      "memory usage: 7.2+ KB\n"
     ]
    }
   ],
   "source": [
    "ratiodfcopy.info()"
   ]
  },
  {
   "cell_type": "code",
   "execution_count": 4,
   "metadata": {},
   "outputs": [],
   "source": [
    "dfcopy = dropcols(dfcopy)\n",
    "dfcopy.head()"
   ]
  },
  {
   "cell_type": "code",
   "execution_count": 112,
   "metadata": {},
   "outputs": [],
   "source": [
    "cols = [dfcopy.columns[1],dfcopy.columns[-1]]\n",
    "def dropcols(df):\n",
    "    for i in df.columns:\n",
    "        if i in cols:\n",
    "            pass\n",
    "        else:\n",
    "            df.drop(columns=[i], inplace=True)\n",
    "    return df"
   ]
  },
  {
   "cell_type": "code",
   "execution_count": 93,
   "metadata": {},
   "outputs": [
    {
     "name": "stdout",
     "output_type": "stream",
     "text": [
      "Int64Index([], dtype='int64')\n"
     ]
    }
   ],
   "source": [
    "indexNames = df[ (df['artifact'] == 'ASCX12Version005010') | (df['artifact'] == 'QCPIMonitoringDashboard')].index\n",
    "print(indexNames)\n",
    "df.drop(indexNames, inplace=True)"
   ]
  },
  {
   "cell_type": "code",
   "execution_count": 180,
   "metadata": {},
   "outputs": [],
   "source": [
    "X = ratiodfcopy['scenario'].values\n",
    "y = ratiodfcopy['cluster'].values"
   ]
  },
  {
   "cell_type": "code",
   "execution_count": 211,
   "metadata": {},
   "outputs": [],
   "source": [
    "# sss = StratifiedShuffleSplit(n_splits=10, train_size=0.154, random_state=42)\n",
    "\n",
    "# listoflists = []\n",
    "\n",
    "# for train_index, test_index in sss.split(X, y):\n",
    "#     print(\"TRAIN:\", train_index)\n",
    "#     X_train, X_test = X[train_index], X[test_index]\n",
    "#     y_train, y_test = y[train_index], y[test_index]\n",
    "#     print(X[train_index])\n",
    "#     listoflists.append(X[train_index])\n",
    "#     print(len(y[train_index]))\n",
    "#     for i in X[train_index]:\n",
    "#         print(i)\n",
    "#     print(\"\\n\")\n",
    "    \n",
    "    \n",
    "# kf = KFold(n_splits=10)\n",
    "# for train, test in kf.split(X):\n",
    "# #     print(\"%s %s\" % (train, test))\n",
    "#     print(X[train_index])\n",
    "#     listoflists.append(X[train_index])\n",
    "\n",
    "# skf = KFold(n_splits=10, shuffle=True)\n",
    "# # skf.get_n_splits(X, y)\n",
    "\n",
    "# # print(skf)\n",
    "\n",
    "# for train_index, test_index in skf.split(X, y):\n",
    "# #     print(\"TRAIN:\", train_index, \"TEST:\", test_index)\n",
    "#     listoflists.append(X[train_index])\n",
    "# #     print(len(X[train_index]))\n",
    "# #     for i in X[train_index]:\n",
    "# #         print(i)\n",
    "# #     print(\"\\n\")\n",
    "# #     X_train, X_test = X[train_index], X[test_index]\n",
    "# #     y_train, y_test = y[train_index], y[test_index]"
   ]
  },
  {
   "cell_type": "markdown",
   "metadata": {},
   "source": [
    "# split begin"
   ]
  },
  {
   "cell_type": "code",
   "execution_count": 274,
   "metadata": {},
   "outputs": [
    {
     "name": "stdout",
     "output_type": "stream",
     "text": [
      "['Jennifer', 'Matthijs', 'Martin', 'Peter', 'Sven', 'Patrick', 'Rik', 'Kenny', 'Tom', 'Brian']\n"
     ]
    }
   ],
   "source": [
    "collegues = ['Brian', 'Matthijs', 'Jennifer', 'Martin', 'Patrick', 'Tom', 'Sven', 'Kenny', 'Peter', 'Rik']\n",
    "import random\n",
    "random.shuffle(collegues)\n",
    "print(collegues)"
   ]
  },
  {
   "cell_type": "code",
   "execution_count": 275,
   "metadata": {},
   "outputs": [
    {
     "name": "stdout",
     "output_type": "stream",
     "text": [
      "46\n",
      "46\n",
      "46\n",
      "46\n",
      "46\n",
      "45\n",
      "45\n",
      "45\n",
      "45\n",
      "45\n"
     ]
    }
   ],
   "source": [
    "import numpy as np\n",
    "random.shuffle(X)\n",
    "listoflists = np.array_split(X, len(collegues))\n",
    "for i in listoflists:\n",
    "    print(len(i))"
   ]
  },
  {
   "cell_type": "code",
   "execution_count": null,
   "metadata": {},
   "outputs": [],
   "source": []
  },
  {
   "cell_type": "code",
   "execution_count": 276,
   "metadata": {},
   "outputs": [],
   "source": [
    "blacklist = []\n",
    "newlistoflist = []\n",
    "random.shuffle(X)\n",
    "for i in listoflists:\n",
    "    newlist = i.tolist()\n",
    "    count = 0\n",
    "    for j in X:\n",
    "        if len(newlist) == 91:\n",
    "            break\n",
    "        if j not in blacklist:\n",
    "            if j not in i:\n",
    "                newlist.append(j)\n",
    "                blacklist.append(j)\n",
    "                count+=1\n",
    "    newlistoflist.append(newlist)"
   ]
  },
  {
   "cell_type": "code",
   "execution_count": 287,
   "metadata": {},
   "outputs": [
    {
     "name": "stdout",
     "output_type": "stream",
     "text": [
      "ney\n",
      "ney\n",
      "ney\n",
      "ney\n",
      "ney\n",
      "ney\n",
      "aye\n",
      "aye\n",
      "ney\n",
      "ney\n"
     ]
    }
   ],
   "source": []
  },
  {
   "cell_type": "code",
   "execution_count": 278,
   "metadata": {},
   "outputs": [
    {
     "name": "stdout",
     "output_type": "stream",
     "text": [
      "8 87\n"
     ]
    }
   ],
   "source": [
    "from itertools import combinations \n",
    "def rSubset(arr, r): \n",
    "  \n",
    "    # return list of all subsets of length r \n",
    "    # to deal with duplicate subsets use  \n",
    "    # set(list(combinations(arr, r))) \n",
    "    return list(combinations(arr, r)) \n",
    "arr = list(range(0,len(newlistoflist)))\n",
    "r = 2\n",
    "\n",
    "valuelist = {}\n",
    "for w in X:\n",
    "    valuelist.update({w:1})\n",
    "# setlist = rSubset(arr, r)\n",
    "for s in setlist:\n",
    "    i = s[0]\n",
    "    j = s[1]\n",
    "# for i in range(0,len(listoflists)):\n",
    "    eqsomi = 0\n",
    "#     for j in range(0,len(listoflists)):\n",
    "    eqcount = 0\n",
    "    for x in newlistoflist[i]:\n",
    "        if x in newlistoflist[j]:\n",
    "            v = valuelist.get(x,1)\n",
    "            valuelist.update({x:v+1})\n",
    "            eqcount+=1\n",
    "            eqsomi+=1\n",
    "print(i,eqsomi)\n",
    "eqsomi = 0\n",
    "#     print(\"list {} and {} have {} equalities\".format(i,j,eqcount))"
   ]
  },
  {
   "cell_type": "code",
   "execution_count": 291,
   "metadata": {},
   "outputs": [
    {
     "name": "stdout",
     "output_type": "stream",
     "text": [
      "Jennifer\n",
      "Matthijs\n",
      "ney\n",
      "ney\n",
      "ney\n",
      "ney\n",
      "ney\n",
      "ney\n",
      "ney\n",
      "ney\n"
     ]
    }
   ],
   "source": [
    "counter = 0\n",
    "for i in newlistoflist:\n",
    "    if \"NVR2400b_SortingData_EDS_to_BW\" in i:\n",
    "        print(collegues[counter])\n",
    "    else:\n",
    "        print(\"ney\")\n",
    "    df = pd.DataFrame(i,columns=[\"iFlow\"])\n",
    "    df.to_excel(\"iFlow rating {}.xlsx\".format(collegues[counter]))\n",
    "    counter+=1"
   ]
  },
  {
   "cell_type": "markdown",
   "metadata": {},
   "source": [
    "# split eind"
   ]
  },
  {
   "cell_type": "code",
   "execution_count": 281,
   "metadata": {},
   "outputs": [],
   "source": [
    "# print(\"{} artifacts\".format(len(artpack.keys())))\n",
    "idart = 0\n",
    "som = 0\n",
    "for i in artpack.keys():\n",
    "    s = len(artpack.get(i))\n",
    "#     print(\"Artifact{} & {} \\\\\\\\\\\\hline\".format(idart,s))\n",
    "#     if idart == 26:\n",
    "#         print(i)\n",
    "    som += s\n",
    "    idart+=1\n",
    "# print(som)"
   ]
  },
  {
   "cell_type": "code",
   "execution_count": 13,
   "metadata": {
    "ExecuteTime": {
     "end_time": "2019-09-05T08:41:07.188664Z",
     "start_time": "2019-09-05T08:40:49.572042Z"
    }
   },
   "outputs": [
    {
     "data": {
      "application/vnd.jupyter.widget-view+json": {
       "model_id": "96f372cb0db04a15be312c1b94089b2d",
       "version_major": 2,
       "version_minor": 0
      },
      "text/plain": [
       "HBox(children=(IntProgress(value=0, max=21), HTML(value='')))"
      ]
     },
     "metadata": {},
     "output_type": "display_data"
    },
    {
     "name": "stdout",
     "output_type": "stream",
     "text": [
      "\n"
     ]
    }
   ],
   "source": [
    "# session = requests.Session()\n",
    "#\n",
    "pbar = tqdm(total=len(artifacts))\n",
    "for i in artifacts:\n",
    "    url = str(url_user_pass.get(\"other\").get(\"qaspartialurl_artifacts\"))+\"(Id='\"+i+\"',Version='active')/$value\"\n",
    "    res = session.get(url)\n",
    "#     print(res)\n",
    "    contents = res.content\n",
    "    if not str.__contains__(str(contents),\"<error\"):\n",
    "        with open('../../../Downloads/PostNLNVR/'+i+'.zip', 'wb') as f:\n",
    "            f.write(contents)\n",
    "    pbar.update(1)\n",
    "pbar.close()\n",
    "        "
   ]
  },
  {
   "cell_type": "code",
   "execution_count": 14,
   "metadata": {
    "ExecuteTime": {
     "end_time": "2019-09-05T08:41:10.701785Z",
     "start_time": "2019-09-05T08:41:09.621150Z"
    }
   },
   "outputs": [],
   "source": [
    "import zipfile\n",
    "import shutil\n",
    "\n",
    "path = '../../../Downloads/PostNLNVR/'\n",
    "\n",
    "for i in artifacts:\n",
    "#     print(i+'.zip')\n",
    "    if os.path.exists(path+i):\n",
    "        shutil.rmtree(path+i)\n",
    "    try:\n",
    "        with zipfile.ZipFile(path+i+'.zip', 'r') as zip_ref:\n",
    "            zip_ref.extractall(path+i)\n",
    "            os.remove(path+i+'.zip')\n",
    "    except:\n",
    "        print(\"Nope: \" + i+'.zip')"
   ]
  },
  {
   "cell_type": "code",
   "execution_count": 31,
   "metadata": {},
   "outputs": [],
   "source": [
    "\n",
    "# import glob\n",
    "# ziplist = []\n",
    "# for root, dirs, files in os.walk(\"../../../Downloads/PostNLQAS\"):\n",
    "#     ziplist = ziplist + glob.glob(root+'/*.zip')"
   ]
  },
  {
   "cell_type": "code",
   "execution_count": 37,
   "metadata": {},
   "outputs": [],
   "source": [
    "# for i in ziplist:\n",
    "#     try:\n",
    "#         with zipfile.ZipFile(i, 'r') as zip_ref:\n",
    "#                 zip_ref.extractall(i.split(\"/\")[-1].split(\".zip\")[0])\n",
    "#                 os.remove(i)\n",
    "#     except:\n",
    "#         print(\"Nope: \" + i)"
   ]
  },
  {
   "cell_type": "markdown",
   "metadata": {},
   "source": [
    "# GIT"
   ]
  },
  {
   "cell_type": "code",
   "execution_count": 56,
   "metadata": {
    "ExecuteTime": {
     "end_time": "2019-09-13T10:17:35.587661Z",
     "start_time": "2019-09-13T10:17:35.585173Z"
    }
   },
   "outputs": [],
   "source": [
    "import git\n",
    "from git import Repo"
   ]
  },
  {
   "cell_type": "code",
   "execution_count": 57,
   "metadata": {
    "ExecuteTime": {
     "end_time": "2019-08-20T06:59:47.136701Z",
     "start_time": "2019-08-20T06:59:47.132484Z"
    }
   },
   "outputs": [],
   "source": [
    "repo = Repo(\".\")\n",
    "assert not repo.bare"
   ]
  },
  {
   "cell_type": "code",
   "execution_count": 58,
   "metadata": {
    "ExecuteTime": {
     "end_time": "2019-08-20T07:00:23.833776Z",
     "start_time": "2019-08-20T07:00:23.829984Z"
    }
   },
   "outputs": [],
   "source": [
    "repo.config_reader()             # get a config reader for read-only access\n",
    "with repo.config_writer():       # get a config writer to change configuration\n",
    "    pass     "
   ]
  },
  {
   "cell_type": "code",
   "execution_count": 68,
   "metadata": {
    "ExecuteTime": {
     "end_time": "2019-08-20T08:06:17.560997Z",
     "start_time": "2019-08-20T08:06:17.492941Z"
    }
   },
   "outputs": [
    {
     "data": {
      "text/plain": [
       "[]"
      ]
     },
     "execution_count": 68,
     "metadata": {},
     "output_type": "execute_result"
    }
   ],
   "source": [
    "repo.untracked_files             # retrieve a list of untracked files"
   ]
  },
  {
   "cell_type": "code",
   "execution_count": 69,
   "metadata": {
    "ExecuteTime": {
     "end_time": "2019-08-20T08:06:20.077074Z",
     "start_time": "2019-08-20T08:06:20.023001Z"
    }
   },
   "outputs": [
    {
     "data": {
      "text/plain": [
       "True"
      ]
     },
     "execution_count": 69,
     "metadata": {},
     "output_type": "execute_result"
    }
   ],
   "source": [
    "repo.is_dirty()"
   ]
  },
  {
   "cell_type": "code",
   "execution_count": 65,
   "metadata": {
    "ExecuteTime": {
     "end_time": "2019-08-20T07:59:52.644622Z",
     "start_time": "2019-08-20T07:59:52.641505Z"
    }
   },
   "outputs": [],
   "source": [
    "assert os.path.isdir(repo.working_tree_dir)                   # directory with your work files\n",
    "assert repo.git_dir.startswith(repo.working_tree_dir)  # directory containing the git repository"
   ]
  },
  {
   "cell_type": "code",
   "execution_count": 123,
   "metadata": {
    "ExecuteTime": {
     "end_time": "2019-08-20T09:15:58.880173Z",
     "start_time": "2019-08-20T09:15:58.836515Z"
    },
    "scrolled": true
   },
   "outputs": [
    {
     "data": {
      "text/plain": [
       "[<git.diff.Diff at 0x1194b21f8>,\n",
       " <git.diff.Diff at 0x1194b24c8>,\n",
       " <git.diff.Diff at 0x1194b25e8>,\n",
       " <git.diff.Diff at 0x1194b23a8>,\n",
       " <git.diff.Diff at 0x1194b2af8>,\n",
       " <git.diff.Diff at 0x1194b2828>,\n",
       " <git.diff.Diff at 0x1194b2948>,\n",
       " <git.diff.Diff at 0x1194b2a68>,\n",
       " <git.diff.Diff at 0x1194b2798>,\n",
       " <git.diff.Diff at 0x1194b2ca8>,\n",
       " <git.diff.Diff at 0x1194b2b88>,\n",
       " <git.diff.Diff at 0x1194b2e58>,\n",
       " <git.diff.Diff at 0x1194b2c18>,\n",
       " <git.diff.Diff at 0x1194b2dc8>,\n",
       " <git.diff.Diff at 0x1194b2d38>,\n",
       " <git.diff.Diff at 0x1194b2f78>,\n",
       " <git.diff.Diff at 0x1194b2ee8>,\n",
       " <git.diff.Diff at 0x1194b2558>,\n",
       " <git.diff.Diff at 0x1194b2708>,\n",
       " <git.diff.Diff at 0x1194a98b8>,\n",
       " <git.diff.Diff at 0x1194a9e58>,\n",
       " <git.diff.Diff at 0x1194a9b88>,\n",
       " <git.diff.Diff at 0x1194a9678>,\n",
       " <git.diff.Diff at 0x1194a9168>,\n",
       " <git.diff.Diff at 0x1194a9558>,\n",
       " <git.diff.Diff at 0x1194a94c8>,\n",
       " <git.diff.Diff at 0x1194a9828>,\n",
       " <git.diff.Diff at 0x1194a9c18>,\n",
       " <git.diff.Diff at 0x1194a99d8>,\n",
       " <git.diff.Diff at 0x1194a93a8>,\n",
       " <git.diff.Diff at 0x1194a9708>,\n",
       " <git.diff.Diff at 0x1194a9ee8>,\n",
       " <git.diff.Diff at 0x1194a9a68>,\n",
       " <git.diff.Diff at 0x1194a9d38>,\n",
       " <git.diff.Diff at 0x1194a9f78>,\n",
       " <git.diff.Diff at 0x1194a90d8>,\n",
       " <git.diff.Diff at 0x1194a9ca8>,\n",
       " <git.diff.Diff at 0x1194a9948>,\n",
       " <git.diff.Diff at 0x1194a9318>,\n",
       " <git.diff.Diff at 0x1194a91f8>,\n",
       " <git.diff.Diff at 0x1194cd828>,\n",
       " <git.diff.Diff at 0x1194cd4c8>,\n",
       " <git.diff.Diff at 0x1194cdb88>,\n",
       " <git.diff.Diff at 0x1194cdd38>,\n",
       " <git.diff.Diff at 0x1194cd8b8>,\n",
       " <git.diff.Diff at 0x1194cd1f8>,\n",
       " <git.diff.Diff at 0x1194cd0d8>,\n",
       " <git.diff.Diff at 0x1194cdc18>,\n",
       " <git.diff.Diff at 0x1194cd558>,\n",
       " <git.diff.Diff at 0x1194cddc8>,\n",
       " <git.diff.Diff at 0x1194cd288>,\n",
       " <git.diff.Diff at 0x1194cdca8>,\n",
       " <git.diff.Diff at 0x1194cd708>,\n",
       " <git.diff.Diff at 0x1194cd948>,\n",
       " <git.diff.Diff at 0x1194cd9d8>,\n",
       " <git.diff.Diff at 0x1194cda68>,\n",
       " <git.diff.Diff at 0x1194cde58>,\n",
       " <git.diff.Diff at 0x1194cdee8>,\n",
       " <git.diff.Diff at 0x1194cd5e8>,\n",
       " <git.diff.Diff at 0x1194cdf78>,\n",
       " <git.diff.Diff at 0x1194cd798>,\n",
       " <git.diff.Diff at 0x1194cd438>,\n",
       " <git.diff.Diff at 0x1194cd3a8>,\n",
       " <git.diff.Diff at 0x1194cd048>,\n",
       " <git.diff.Diff at 0x1194b0168>,\n",
       " <git.diff.Diff at 0x1194b03a8>,\n",
       " <git.diff.Diff at 0x1194b01f8>,\n",
       " <git.diff.Diff at 0x1194b08b8>,\n",
       " <git.diff.Diff at 0x1194b05e8>,\n",
       " <git.diff.Diff at 0x1194b0798>,\n",
       " <git.diff.Diff at 0x1194b0af8>,\n",
       " <git.diff.Diff at 0x1194b0d38>,\n",
       " <git.diff.Diff at 0x1194b09d8>,\n",
       " <git.diff.Diff at 0x1194b0828>,\n",
       " <git.diff.Diff at 0x1194b0b88>,\n",
       " <git.diff.Diff at 0x1194b0ca8>,\n",
       " <git.diff.Diff at 0x1194b0ee8>,\n",
       " <git.diff.Diff at 0x1194b0558>,\n",
       " <git.diff.Diff at 0x1194b0e58>,\n",
       " <git.diff.Diff at 0x1194b00d8>,\n",
       " <git.diff.Diff at 0x1194b0678>,\n",
       " <git.diff.Diff at 0x1194b0708>,\n",
       " <git.diff.Diff at 0x1194b0318>,\n",
       " <git.diff.Diff at 0x1194b5288>,\n",
       " <git.diff.Diff at 0x1194b50d8>,\n",
       " <git.diff.Diff at 0x1194b55e8>,\n",
       " <git.diff.Diff at 0x1194b5438>,\n",
       " <git.diff.Diff at 0x1194b5318>,\n",
       " <git.diff.Diff at 0x1194b59d8>,\n",
       " <git.diff.Diff at 0x1194b5828>,\n",
       " <git.diff.Diff at 0x1194b5708>,\n",
       " <git.diff.Diff at 0x1194b5948>,\n",
       " <git.diff.Diff at 0x1194b54c8>,\n",
       " <git.diff.Diff at 0x1194b5798>,\n",
       " <git.diff.Diff at 0x1194b5af8>,\n",
       " <git.diff.Diff at 0x1194b5b88>,\n",
       " <git.diff.Diff at 0x1194b5c18>,\n",
       " <git.diff.Diff at 0x1194b5d38>,\n",
       " <git.diff.Diff at 0x1194b5e58>,\n",
       " <git.diff.Diff at 0x1194b5ee8>,\n",
       " <git.diff.Diff at 0x1194b51f8>,\n",
       " <git.diff.Diff at 0x1194b53a8>,\n",
       " <git.diff.Diff at 0x1194b5ca8>,\n",
       " <git.diff.Diff at 0x1194b6c18>,\n",
       " <git.diff.Diff at 0x1194b6e58>,\n",
       " <git.diff.Diff at 0x1194b6d38>,\n",
       " <git.diff.Diff at 0x1194b6dc8>,\n",
       " <git.diff.Diff at 0x1194b6f78>,\n",
       " <git.diff.Diff at 0x1194b6ca8>,\n",
       " <git.diff.Diff at 0x1194b3168>,\n",
       " <git.diff.Diff at 0x1194b3318>,\n",
       " <git.diff.Diff at 0x1194b30d8>,\n",
       " <git.diff.Diff at 0x1194b3558>,\n",
       " <git.diff.Diff at 0x1194b3708>,\n",
       " <git.diff.Diff at 0x1194b38b8>,\n",
       " <git.diff.Diff at 0x1194b3438>,\n",
       " <git.diff.Diff at 0x1194b35e8>,\n",
       " <git.diff.Diff at 0x1194b39d8>,\n",
       " <git.diff.Diff at 0x1194b3678>,\n",
       " <git.diff.Diff at 0x1194b3798>,\n",
       " <git.diff.Diff at 0x1194b3a68>,\n",
       " <git.diff.Diff at 0x1194b3c18>,\n",
       " <git.diff.Diff at 0x1194b3948>,\n",
       " <git.diff.Diff at 0x1194b3e58>,\n",
       " <git.diff.Diff at 0x1194b3ca8>,\n",
       " <git.diff.Diff at 0x1194b3d38>,\n",
       " <git.diff.Diff at 0x1194b3b88>,\n",
       " <git.diff.Diff at 0x1194b3f78>,\n",
       " <git.diff.Diff at 0x1194b34c8>]"
      ]
     },
     "execution_count": 123,
     "metadata": {},
     "output_type": "execute_result"
    }
   ],
   "source": [
    "hcommit = repo.head.commit\n",
    "hcommit.diff(None) "
   ]
  },
  {
   "cell_type": "code",
   "execution_count": 126,
   "metadata": {
    "ExecuteTime": {
     "end_time": "2019-08-20T09:16:20.104148Z",
     "start_time": "2019-08-20T09:16:20.043550Z"
    }
   },
   "outputs": [],
   "source": [
    "no_actual_changes = []\n",
    "changes = []\n",
    "\n",
    "for diff_added in hcommit.diff(None, create_patch=True):\n",
    "    if str.__contains__(diff_added.a_blob.path,\"parameters.prop\"):\n",
    "        m = re.match(r\"@@ \\-[\\d,]*? \\+[\\d,]*? @@\\n.*?\\d{2} \\d{2}:\\d{2}:\\d{2} UTC \\d{4}\\n.*?\\d{2} \\d{2}:\\d{2}:\\d{2} UTC \\d{4}([\\!-\\ÿ\\n ]*)\", diff_added.diff.decode(\"utf-8\"))\n",
    "        if m == None:\n",
    "            changes.append(diff_added.a_blob.path)\n",
    "        else:\n",
    "#             no_actual_changes.append(diff_added.a_blob.path)\n",
    "            if not str.__contains__(m.group(1), \"+\"):\n",
    "                no_actual_changes.append(diff_added.a_blob.path)\n",
    "            else:\n",
    "                changes.append(diff_added.a_blob.path)\n",
    "    else:\n",
    "        changes.append(diff_added.a_blob.path)\n"
   ]
  },
  {
   "cell_type": "code",
   "execution_count": 131,
   "metadata": {
    "ExecuteTime": {
     "end_time": "2019-08-20T09:17:54.998823Z",
     "start_time": "2019-08-20T09:17:54.751179Z"
    }
   },
   "outputs": [
    {
     "data": {
      "text/plain": [
       "<git.Commit \"dd73a817d96b9f1e87e00ffb19b3ab5e4e36cfc6\">"
      ]
     },
     "execution_count": 131,
     "metadata": {},
     "output_type": "execute_result"
    }
   ],
   "source": [
    "index = repo.index\n",
    "index.add(changes)                                             # add a new file to the index\n",
    "\n",
    "repo.active_branch.commit = repo.commit('HEAD~1')                      # forget last commit\n",
    "\n",
    "from git import Actor\n",
    "author = Actor(\"PythonClient\", \"max.nijholt@qforit.com\")\n",
    "committer = Actor(\"Max Nijholt\", \"max.nijholt@qforit.com\")\n",
    "# commit by commit message and author and committer\n",
    "# index.commit(\"Update\", author=author, committer=committer)"
   ]
  },
  {
   "cell_type": "code",
   "execution_count": 132,
   "metadata": {
    "ExecuteTime": {
     "end_time": "2019-08-20T09:21:15.239408Z",
     "start_time": "2019-08-20T09:21:15.237044Z"
    }
   },
   "outputs": [],
   "source": [
    "git = repo.git"
   ]
  },
  {
   "cell_type": "code",
   "execution_count": 136,
   "metadata": {
    "ExecuteTime": {
     "end_time": "2019-08-20T09:51:18.392255Z",
     "start_time": "2019-08-20T09:51:18.387039Z"
    }
   },
   "outputs": [
    {
     "name": "stdout",
     "output_type": "stream",
     "text": [
      "Some error occured while pushing the code\n"
     ]
    }
   ],
   "source": [
    "PATH_OF_GIT_REPO = repo.working_tree_dir + \"\\.git\"  # make sure .git folder is properly configured\n",
    "COMMIT_MESSAGE = 'Update'\n",
    "\n",
    "def git_push():\n",
    "    try:\n",
    "        repo = Repo(PATH_OF_GIT_REPO)\n",
    "        repo.git.add(update=True)\n",
    "        repo.index.commit(COMMIT_MESSAGE)\n",
    "        origin = repo.remote(name='origin')\n",
    "        origin.push()\n",
    "    except:\n",
    "        print('Some error occured while pushing the code')    \n",
    "\n",
    "git_push()\n"
   ]
  },
  {
   "cell_type": "code",
   "execution_count": null,
   "metadata": {},
   "outputs": [],
   "source": []
  }
 ],
 "metadata": {
  "kernelspec": {
   "display_name": "Python 3",
   "language": "python",
   "name": "python3"
  },
  "language_info": {
   "codemirror_mode": {
    "name": "ipython",
    "version": 3
   },
   "file_extension": ".py",
   "mimetype": "text/x-python",
   "name": "python",
   "nbconvert_exporter": "python",
   "pygments_lexer": "ipython3",
   "version": "3.7.3-final"
  },
  "toc": {
   "base_numbering": 1,
   "nav_menu": {},
   "number_sections": true,
   "sideBar": true,
   "skip_h1_title": false,
   "title_cell": "Table of Contents",
   "title_sidebar": "Contents",
   "toc_cell": false,
   "toc_position": {
    "height": "calc(100% - 180px)",
    "left": "10px",
    "top": "150px",
    "width": "384px"
   },
   "toc_section_display": true,
   "toc_window_display": true
  },
  "varInspector": {
   "cols": {
    "lenName": 16,
    "lenType": 16,
    "lenVar": 40
   },
   "kernels_config": {
    "python": {
     "delete_cmd_postfix": "",
     "delete_cmd_prefix": "del ",
     "library": "var_list.py",
     "varRefreshCmd": "print(var_dic_list())"
    },
    "r": {
     "delete_cmd_postfix": ") ",
     "delete_cmd_prefix": "rm(",
     "library": "var_list.r",
     "varRefreshCmd": "cat(var_dic_list()) "
    }
   },
   "types_to_exclude": [
    "module",
    "function",
    "builtin_function_or_method",
    "instance",
    "_Feature"
   ],
   "window_display": false
  }
 },
 "nbformat": 4,
 "nbformat_minor": 4
}