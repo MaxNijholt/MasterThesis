{
 "cells": [
  {
   "cell_type": "code",
   "execution_count": 2,
   "metadata": {
    "ExecuteTime": {
     "end_time": "2019-08-30T08:59:40.793123Z",
     "start_time": "2019-08-30T08:59:40.362751Z"
    }
   },
   "outputs": [
    {
     "name": "stderr",
     "output_type": "stream",
     "text": [
      "/anaconda3/lib/python3.6/site-packages/tqdm/autonotebook/__init__.py:18: TqdmExperimentalWarning: Using `tqdm.autonotebook.tqdm` in notebook mode. Use `tqdm.tqdm` instead to force console mode (e.g. in jupyter console)\n",
      "  \" (e.g. in jupyter console)\", TqdmExperimentalWarning)\n"
     ]
    }
   ],
   "source": [
    "import pandas as pd\n",
    "import numpy as np\n",
    "import sys\n",
    "import os\n",
    "from os import listdir\n",
    "from os.path import isfile, join\n",
    "from os import walk\n",
    "import regex as re\n",
    "from tqdm.autonotebook import tqdm"
   ]
  },
  {
   "cell_type": "code",
   "execution_count": 3,
   "metadata": {
    "ExecuteTime": {
     "end_time": "2019-08-30T08:59:40.869728Z",
     "start_time": "2019-08-30T08:59:40.865582Z"
    }
   },
   "outputs": [],
   "source": [
    "mypath = \"../../Downloads/testcpi/\"\n",
    "f = []\n",
    "for (dirpath, dirnames, filenames) in walk(mypath):\n",
    "    f.extend(dirnames)\n",
    "    break"
   ]
  },
  {
   "cell_type": "code",
   "execution_count": null,
   "metadata": {
    "ExecuteTime": {
     "end_time": "2019-08-30T08:32:58.260168Z",
     "start_time": "2019-08-30T08:32:58.248724Z"
    }
   },
   "outputs": [],
   "source": []
  },
  {
   "cell_type": "code",
   "execution_count": 4,
   "metadata": {
    "ExecuteTime": {
     "end_time": "2019-08-30T08:59:42.186488Z",
     "start_time": "2019-08-30T08:59:42.048369Z"
    }
   },
   "outputs": [],
   "source": [
    "dirsf = []\n",
    "filesf = []\n",
    "disallowed = [\".gitignore\", \".DS_Store\", \"Test2.zip\", \"selenium.ipynb\"]\n",
    "for root, directories, filenames in os.walk(mypath):\n",
    "    for directory in directories:\n",
    "        dirsf.append(os.path.join(root, directory))\n",
    "    for filename in filenames: \n",
    "        if filename not in disallowed:\n",
    "            filesf.append(os.path.join(root,filename))"
   ]
  },
  {
   "cell_type": "code",
   "execution_count": 5,
   "metadata": {
    "ExecuteTime": {
     "end_time": "2019-08-30T08:59:42.505378Z",
     "start_time": "2019-08-30T08:59:42.499690Z"
    }
   },
   "outputs": [],
   "source": [
    "etaval = 0\n",
    "\n",
    "class EtaStream(object):\n",
    "    def write(self, bar):\n",
    "        sys.stderr.write(bar)\n",
    "        try:\n",
    "            eta = bar.split('<')[-1].split(',')[0].split(':')[::-1]\n",
    "            # convert to seconds\n",
    "            eta = sum(60**i * int(e) for (i, e) in enumerate(eta))\n",
    "        except:\n",
    "            pass\n",
    "        else:\n",
    "            # example: if multiple of 5 secs, print message\n",
    "            if not eta % 5:\n",
    "                tqdm.write(\"%d sec to go\" % eta)\n",
    "        finally:\n",
    "            print(\"??\")\n",
    "    def flush(self):\n",
    "        sys.stderr.flush()\n",
    "\n"
   ]
  },
  {
   "cell_type": "code",
   "execution_count": 6,
   "metadata": {
    "ExecuteTime": {
     "end_time": "2019-08-30T09:00:05.359447Z",
     "start_time": "2019-08-30T08:59:43.177317Z"
    }
   },
   "outputs": [
    {
     "data": {
      "application/vnd.jupyter.widget-view+json": {
       "model_id": "9abc14cf661d4879a522f632baa21a87",
       "version_major": 2,
       "version_minor": 0
      },
      "text/plain": [
       "HBox(children=(IntProgress(value=0, max=8104), HTML(value='')))"
      ]
     },
     "metadata": {},
     "output_type": "display_data"
    },
    {
     "name": "stdout",
     "output_type": "stream",
     "text": [
      "\r"
     ]
    }
   ],
   "source": [
    "filecontents = np.array([])\n",
    "pbar = tqdm(total=len(filesf), leave=False)\n",
    "pbar.set_description(desc='Import data into array', refresh=True)\n",
    "for i in filesf:\n",
    "    try: \n",
    "        formatdict = pbar.format_dict\n",
    "        rate = formatdict['rate']\n",
    "        total = formatdict['total']\n",
    "#         print(total/rate)\n",
    "        if total/rate > (60*60):\n",
    "    #     if etaval > (60*60):\n",
    "            break\n",
    "        with open(i, 'r') as file:\n",
    "            line = file.read()\n",
    "            filecontents = np.append(filecontents, [line])\n",
    "    except:\n",
    "        filesf.remove(i)\n",
    "    finally:\n",
    "        pbar.update(1)\n",
    "pbar.close()"
   ]
  },
  {
   "cell_type": "code",
   "execution_count": null,
   "metadata": {
    "ExecuteTime": {
     "start_time": "2019-08-30T08:47:06.079Z"
    }
   },
   "outputs": [],
   "source": [
    "len(filesf)"
   ]
  },
  {
   "cell_type": "code",
   "execution_count": null,
   "metadata": {
    "ExecuteTime": {
     "start_time": "2019-08-30T08:07:54.401Z"
    }
   },
   "outputs": [],
   "source": [
    "file_contents = numpy.append(filecontents, filesf, axis = 1)"
   ]
  },
  {
   "cell_type": "code",
   "execution_count": 1,
   "metadata": {
    "ExecuteTime": {
     "end_time": "2019-08-30T09:00:26.484481Z",
     "start_time": "2019-08-30T09:00:25.075446Z"
    }
   },
   "outputs": [],
   "source": [
    "# filecontents"
   ]
  },
  {
   "cell_type": "code",
   "execution_count": null,
   "metadata": {},
   "outputs": [],
   "source": []
  }
 ],
 "metadata": {
  "kernelspec": {
   "display_name": "Python 3",
   "language": "python",
   "name": "python3"
  },
  "language_info": {
   "codemirror_mode": {
    "name": "ipython",
    "version": 3
   },
   "file_extension": ".py",
   "mimetype": "text/x-python",
   "name": "python",
   "nbconvert_exporter": "python",
   "pygments_lexer": "ipython3",
   "version": "3.7.3-final"
  },
  "toc": {
   "base_numbering": 1,
   "nav_menu": {},
   "number_sections": true,
   "sideBar": true,
   "skip_h1_title": false,
   "title_cell": "Table of Contents",
   "title_sidebar": "Contents",
   "toc_cell": false,
   "toc_position": {},
   "toc_section_display": true,
   "toc_window_display": false
  },
  "varInspector": {
   "cols": {
    "lenName": 16,
    "lenType": 16,
    "lenVar": 40
   },
   "kernels_config": {
    "python": {
     "delete_cmd_postfix": "",
     "delete_cmd_prefix": "del ",
     "library": "var_list.py",
     "varRefreshCmd": "print(var_dic_list())"
    },
    "r": {
     "delete_cmd_postfix": ") ",
     "delete_cmd_prefix": "rm(",
     "library": "var_list.r",
     "varRefreshCmd": "cat(var_dic_list()) "
    }
   },
   "types_to_exclude": [
    "module",
    "function",
    "builtin_function_or_method",
    "instance",
    "_Feature"
   ],
   "window_display": false
  }
 },
 "nbformat": 4,
 "nbformat_minor": 2
}